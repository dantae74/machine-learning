{
  "nbformat": 4,
  "nbformat_minor": 5,
  "metadata": {
    "colab": {
      "name": "Untitled.ipynb",
      "provenance": [],
      "include_colab_link": true
    },
    "language_info": {
      "name": "python"
    },
    "kernelspec": {
      "name": "python3",
      "display_name": "Python 3"
    }
  },
  "cells": [
    {
      "cell_type": "markdown",
      "metadata": {
        "id": "view-in-github",
        "colab_type": "text"
      },
      "source": [
        "<a href=\"https://colab.research.google.com/github/dantae74/machine-learning/blob/main/03-02-minimizing_cost.ipynb\" target=\"_parent\"><img src=\"https://colab.research.google.com/assets/colab-badge.svg\" alt=\"Open In Colab\"/></a>"
      ]
    },
    {
      "cell_type": "markdown",
      "metadata": {
        "id": "RmKhqeWDlkNM"
      },
      "source": [
        "# Minimizing Cost"
      ],
      "id": "RmKhqeWDlkNM"
    },
    {
      "cell_type": "code",
      "metadata": {
        "id": "d4_ZFuejlkhC"
      },
      "source": [
        "import tensorflow as tf\n",
        "import matplotlib.pyplot as plt"
      ],
      "id": "d4_ZFuejlkhC",
      "execution_count": 18,
      "outputs": []
    },
    {
      "cell_type": "code",
      "metadata": {
        "id": "t6ioiRhfmeJd"
      },
      "source": [
        "X = [1,2,3]\n",
        "Y = [1,2,3]"
      ],
      "id": "t6ioiRhfmeJd",
      "execution_count": 19,
      "outputs": []
    },
    {
      "cell_type": "code",
      "metadata": {
        "id": "DrO4eEhglk-d"
      },
      "source": [
        "# cost/loss function\n",
        "W = tf.Variable(10., name='weights')\n",
        "\n",
        "def train(X,Y,lr, epochs):\n",
        "  \n",
        "  for step in range(epochs):\n",
        "    with tf.GradientTape(persistent=True) as tape:\n",
        "      hypothesis = X * W\n",
        "      cost = tf.reduce_mean(tf.square(hypothesis - Y))\n",
        "\n",
        "    W.assign(W - lr * tf.cast(tape.gradient(cost, W),tf.float32))\n",
        "    \n",
        "\n",
        "    print(step, cost.numpy(), W.numpy())"
      ],
      "id": "DrO4eEhglk-d",
      "execution_count": 20,
      "outputs": []
    },
    {
      "cell_type": "code",
      "metadata": {
        "id": "CHBbbA1So5Ri",
        "colab": {
          "base_uri": "https://localhost:8080/"
        },
        "outputId": "ff886061-0b92-420e-a775-ef6b278bdf73"
      },
      "source": [
        "train(X,Y,0.1,21)"
      ],
      "id": "CHBbbA1So5Ri",
      "execution_count": 21,
      "outputs": [
        {
          "output_type": "stream",
          "text": [
            "0 378.0 1.5999994\n",
            "1 1.6799968 1.04\n",
            "2 0.007466653 1.0026667\n",
            "3 3.318631e-05 1.0001777\n",
            "4 1.473864e-07 1.0000119\n",
            "5 6.6317324e-10 1.0000008\n",
            "6 3.0553338e-12 1.0000001\n",
            "7 9.947598e-14 1.0\n",
            "8 0.0 1.0\n",
            "9 0.0 1.0\n",
            "10 0.0 1.0\n",
            "11 0.0 1.0\n",
            "12 0.0 1.0\n",
            "13 0.0 1.0\n",
            "14 0.0 1.0\n",
            "15 0.0 1.0\n",
            "16 0.0 1.0\n",
            "17 0.0 1.0\n",
            "18 0.0 1.0\n",
            "19 0.0 1.0\n",
            "20 0.0 1.0\n"
          ],
          "name": "stdout"
        }
      ]
    },
    {
      "cell_type": "code",
      "metadata": {
        "id": "VGLvuhc6vMZT"
      },
      "source": [
        ""
      ],
      "id": "VGLvuhc6vMZT",
      "execution_count": null,
      "outputs": []
    }
  ]
}