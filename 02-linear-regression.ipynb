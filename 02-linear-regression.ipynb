{
  "nbformat": 4,
  "nbformat_minor": 5,
  "metadata": {
    "kernelspec": {
      "display_name": "Python 3",
      "language": "python",
      "name": "python3"
    },
    "language_info": {
      "codemirror_mode": {
        "name": "ipython",
        "version": 3
      },
      "file_extension": ".py",
      "mimetype": "text/x-python",
      "name": "python",
      "nbconvert_exporter": "python",
      "pygments_lexer": "ipython3",
      "version": "3.8.2"
    },
    "colab": {
      "name": "01-basics.ipynb",
      "provenance": [],
      "include_colab_link": true
    }
  },
  "cells": [
    {
      "cell_type": "markdown",
      "metadata": {
        "id": "view-in-github",
        "colab_type": "text"
      },
      "source": [
        "<a href=\"https://colab.research.google.com/github/dantae74/machine-learning/blob/main/02-linear-regression.ipynb\" target=\"_parent\"><img src=\"https://colab.research.google.com/assets/colab-badge.svg\" alt=\"Open In Colab\"/></a>"
      ]
    },
    {
      "cell_type": "markdown",
      "metadata": {
        "id": "OzKU49oD3x8v"
      },
      "source": [
        "#### 모두를 위한 머신러닝 참조하였습니다.\n"
      ],
      "id": "OzKU49oD3x8v"
    },
    {
      "cell_type": "markdown",
      "metadata": {
        "id": "xp-a9Y_l8jMc"
      },
      "source": [
        "# Linear Regression"
      ],
      "id": "xp-a9Y_l8jMc"
    },
    {
      "cell_type": "code",
      "metadata": {
        "id": "4BbDJau82lid"
      },
      "source": [
        "import tensorflow as tf\n",
        "import numpy as np"
      ],
      "id": "4BbDJau82lid",
      "execution_count": 1,
      "outputs": []
    },
    {
      "cell_type": "code",
      "metadata": {
        "id": "1e3e789b"
      },
      "source": [
        "# X and y data\n",
        "x_train = [1, 2, 3, 4]\n",
        "y_train = [0, -1, -2, -3]\n"
      ],
      "id": "1e3e789b",
      "execution_count": 8,
      "outputs": []
    },
    {
      "cell_type": "code",
      "metadata": {
        "id": "bEXN52mFN62m"
      },
      "source": [
        "tf.model = tf.keras.Sequential()\n",
        "# units == output shape, input_dim == input shape\n",
        "tf.model.add(tf.keras.layers.Dense(units=1, input_dim=1))\n"
      ],
      "id": "bEXN52mFN62m",
      "execution_count": 9,
      "outputs": []
    },
    {
      "cell_type": "code",
      "metadata": {
        "id": "-0WvwfL7QE8Z"
      },
      "source": [
        "sgd = tf.keras.optimizers.SGD(lr=0.1) # SGD == standard gradient descendent, lr == learning rate\n",
        "tf.model.compile(loss='mse', optimizer=sgd) # mse == mean_squared_error, 1/m * sig (y'-y)^2"
      ],
      "id": "-0WvwfL7QE8Z",
      "execution_count": 10,
      "outputs": []
    },
    {
      "cell_type": "code",
      "metadata": {
        "id": "sO3q7pGwQi65"
      },
      "source": [
        "# prints summary of the model to the terminal\n",
        "tf.model.summary()"
      ],
      "id": "sO3q7pGwQi65",
      "execution_count": null,
      "outputs": []
    },
    {
      "cell_type": "code",
      "metadata": {
        "id": "kTnE-ioWQo-A"
      },
      "source": [
        "# fit() executes training\n",
        "tf.model.fit(x_train, y_train, epochs=200)"
      ],
      "id": "kTnE-ioWQo-A",
      "execution_count": null,
      "outputs": []
    },
    {
      "cell_type": "code",
      "metadata": {
        "id": "VjnJ8ZJGQ7Tv"
      },
      "source": [
        "# predict() returns predicted value\n",
        "y_predict = tf.model.predict(np.array([5,4]))\n",
        "print(y_predict)"
      ],
      "id": "VjnJ8ZJGQ7Tv",
      "execution_count": null,
      "outputs": []
    }
  ]
}