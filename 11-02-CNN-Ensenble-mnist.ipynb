{
  "nbformat": 4,
  "nbformat_minor": 5,
  "metadata": {
    "colab": {
      "name": "11-02-CNN-Ensenble-mnist.ipynb",
      "provenance": [],
      "include_colab_link": true
    },
    "language_info": {
      "name": "python"
    },
    "kernelspec": {
      "name": "python3",
      "display_name": "Python 3"
    },
    "accelerator": "GPU"
  },
  "cells": [
    {
      "cell_type": "markdown",
      "metadata": {
        "id": "view-in-github",
        "colab_type": "text"
      },
      "source": [
        "<a href=\"https://colab.research.google.com/github/dantae74/machine-learning/blob/main/11-02-CNN-Ensenble-mnist.ipynb\" target=\"_parent\"><img src=\"https://colab.research.google.com/assets/colab-badge.svg\" alt=\"Open In Colab\"/></a>"
      ]
    },
    {
      "cell_type": "markdown",
      "metadata": {
        "id": "WfgQSbgOoe-2"
      },
      "source": [
        "모두를 위한 머신러닝에서 가져왔습니다.\n",
        "\n",
        "# CNN -ensemble - MNIST\n",
        "\n"
      ],
      "id": "WfgQSbgOoe-2"
    },
    {
      "cell_type": "code",
      "metadata": {
        "id": "RK3QTbWDofS7"
      },
      "source": [
        "import numpy as np\n",
        "import tensorflow as tf\n",
        "from tensorflow import keras\n",
        "from tensorflow.keras import layers"
      ],
      "id": "RK3QTbWDofS7",
      "execution_count": 1,
      "outputs": []
    },
    {
      "cell_type": "code",
      "metadata": {
        "id": "30dxHmEPog-b"
      },
      "source": [
        "mnist = tf.keras.datasets.mnist"
      ],
      "id": "30dxHmEPog-b",
      "execution_count": null,
      "outputs": []
    },
    {
      "cell_type": "code",
      "metadata": {
        "id": "4qJmVWpO7ijW"
      },
      "source": [
        "(x_train, y_train), (x_test, y_test) = mnist.load_data()"
      ],
      "id": "4qJmVWpO7ijW",
      "execution_count": null,
      "outputs": []
    },
    {
      "cell_type": "code",
      "metadata": {
        "id": "mQ6VNIui73Wk",
        "colab": {
          "base_uri": "https://localhost:8080/"
        },
        "outputId": "d7cf2953-cb8a-4e84-b78b-6e6300d11160"
      },
      "source": [
        "print('x_train.shape:', x_train.shape, 'y_train.shape:', y_train.shape)"
      ],
      "id": "mQ6VNIui73Wk",
      "execution_count": null,
      "outputs": [
        {
          "output_type": "stream",
          "text": [
            "x_train.shape: (60000, 28, 28) y_train.shape: (60000,)\n"
          ],
          "name": "stdout"
        }
      ]
    },
    {
      "cell_type": "code",
      "metadata": {
        "id": "XZWKjzSE7iwM"
      },
      "source": [
        "x_test = x_test / 255\n",
        "x_train = x_train / 255\n",
        "x_train = x_train.reshape(-1, 28, 28, 1)\n",
        "x_test = x_test.reshape(-1, 28, 28, 1)"
      ],
      "id": "XZWKjzSE7iwM",
      "execution_count": null,
      "outputs": []
    },
    {
      "cell_type": "code",
      "metadata": {
        "id": "9MlVW4rD9C96",
        "colab": {
          "base_uri": "https://localhost:8080/"
        },
        "outputId": "8960b7c2-84c7-4cf6-ba59-6283fbd250d0"
      },
      "source": [
        "print('x_train.shape:', x_train.shape, 'x_test.shape:', x_test.shape)"
      ],
      "id": "9MlVW4rD9C96",
      "execution_count": null,
      "outputs": [
        {
          "output_type": "stream",
          "text": [
            "x_train.shape: (60000, 28, 28, 1) x_test.shape: (10000, 28, 28, 1)\n"
          ],
          "name": "stdout"
        }
      ]
    },
    {
      "cell_type": "code",
      "metadata": {
        "id": "Eh1GHkkd9DHH"
      },
      "source": [
        "# one hot encode y data\n",
        "y_train = tf.keras.utils.to_categorical(y_train, 10)\n",
        "y_test = tf.keras.utils.to_categorical(y_test, 10)"
      ],
      "id": "Eh1GHkkd9DHH",
      "execution_count": null,
      "outputs": []
    },
    {
      "cell_type": "code",
      "metadata": {
        "id": "UflEi-rG7i6E"
      },
      "source": [
        "# hyper parameters\n",
        "learning_rate = 0.001\n",
        "training_epochs = 15\n",
        "batch_size = 128\n",
        "drop_out = 0.3"
      ],
      "id": "UflEi-rG7i6E",
      "execution_count": null,
      "outputs": []
    },
    {
      "cell_type": "code",
      "metadata": {
        "id": "KaHEpekz9lcD"
      },
      "source": [
        "tf.model = tf.keras.Sequential()\n",
        "# L1\n",
        "tf.model.add(tf.keras.layers.Conv2D(filters=32, kernel_size=(3, 3), input_shape=(28, 28, 1), activation='relu'))\n",
        "tf.model.add(tf.keras.layers.MaxPooling2D(pool_size=(2, 2), strides=2, padding='same'))\n",
        "tf.model.add(tf.keras.layers.Dropout(rate=drop_out))\n",
        "\n",
        "# L2\n",
        "tf.model.add(tf.keras.layers.Conv2D(filters=32, kernel_size=(3, 3), activation='relu'))\n",
        "tf.model.add(tf.keras.layers.MaxPooling2D(pool_size=(2, 2), strides=2, padding='same'))\n",
        "tf.model.add(tf.keras.layers.Dropout(rate=drop_out))\n",
        "\n",
        "# L3\n",
        "tf.model.add(tf.keras.layers.Conv2D(filters=64, kernel_size=(3, 3), activation='relu'))\n",
        "tf.model.add(tf.keras.layers.MaxPooling2D(pool_size=(2, 2), strides=2, padding='same'))\n",
        "tf.model.add(tf.keras.layers.Dropout(rate=drop_out))\n",
        "\n",
        "\n",
        "# L4 fully connected\n",
        "tf.model.add(tf.keras.layers.Flatten())\n",
        "tf.model.add(tf.keras.layers.Dense(units=128, kernel_initializer='glorot_normal', activation='relu'))\n",
        "tf.model.add(tf.keras.layers.Dropout(rate=drop_out))\n",
        "\n",
        "# L5 FC\n",
        "tf.model.add(tf.keras.layers.Dense(units=625, kernel_initializer='glorot_normal', activation='relu'))\n",
        "tf.model.add(tf.keras.layers.Dropout(rate=drop_out))\n",
        "\n",
        "# L6 FC\n",
        "tf.model.add(tf.keras.layers.Dense(units=10, kernel_initializer='glorot_normal', activation='softmax'))\n",
        "\n",
        "tf.model.compile(loss='categorical_crossentropy', optimizer=tf.keras.optimizers.Adam(lr=learning_rate), metrics=['accuracy'])\n",
        "tf.model.summary()"
      ],
      "id": "KaHEpekz9lcD",
      "execution_count": null,
      "outputs": []
    },
    {
      "cell_type": "code",
      "metadata": {
        "id": "Q0hpH3JBA4yS"
      },
      "source": [
        "tf.keras.utils.plot_model(tf.model)"
      ],
      "id": "Q0hpH3JBA4yS",
      "execution_count": null,
      "outputs": []
    },
    {
      "cell_type": "code",
      "metadata": {
        "id": "1PWtfBX39s6H",
        "colab": {
          "base_uri": "https://localhost:8080/"
        },
        "outputId": "0b173bc7-64a8-4051-b0bc-2ee2520ee99a"
      },
      "source": [
        "tf.model.fit(x_train, y_train, batch_size=batch_size, epochs=training_epochs, verbose=0)"
      ],
      "id": "1PWtfBX39s6H",
      "execution_count": null,
      "outputs": [
        {
          "output_type": "execute_result",
          "data": {
            "text/plain": [
              "<tensorflow.python.keras.callbacks.History at 0x7fe890170590>"
            ]
          },
          "metadata": {
            "tags": []
          },
          "execution_count": 11
        }
      ]
    },
    {
      "cell_type": "code",
      "metadata": {
        "id": "DYzdN-m79tKA",
        "colab": {
          "base_uri": "https://localhost:8080/"
        },
        "outputId": "1e43248e-9e82-4c6f-a784-c1e8ba14b458"
      },
      "source": [
        "# predict 10 random hand-writing data\n",
        "y_predicted = tf.model.predict(x_test)\n",
        "for x in range(0, 10):\n",
        "    random_index = random.randint(0, x_test.shape[0]-1)\n",
        "    print(\"index: \", random_index,\n",
        "          \"actual y: \", np.argmax(y_test[random_index]),\n",
        "          \"predicted y: \", np.argmax(y_predicted[random_index]))\n",
        "\n",
        "evaluation = tf.model.evaluate(x_test, y_test)\n",
        "print('loss: ', evaluation[0])\n",
        "print('accuracy', evaluation[1])"
      ],
      "id": "DYzdN-m79tKA",
      "execution_count": null,
      "outputs": [
        {
          "output_type": "stream",
          "text": [
            "index:  5989 actual y:  6 predicted y:  6\n",
            "index:  7752 actual y:  5 predicted y:  5\n",
            "index:  1868 actual y:  1 predicted y:  1\n",
            "index:  8551 actual y:  3 predicted y:  3\n",
            "index:  6447 actual y:  3 predicted y:  3\n",
            "index:  1666 actual y:  9 predicted y:  9\n",
            "index:  2726 actual y:  2 predicted y:  2\n",
            "index:  6858 actual y:  7 predicted y:  7\n",
            "index:  4451 actual y:  2 predicted y:  2\n",
            "index:  1952 actual y:  9 predicted y:  9\n",
            "313/313 [==============================] - 1s 2ms/step - loss: 0.0233 - accuracy: 0.9927\n",
            "loss:  0.023263370618224144\n",
            "accuracy 0.9926999807357788\n"
          ],
          "name": "stdout"
        }
      ]
    }
  ]
}
