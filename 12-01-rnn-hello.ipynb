{
  "nbformat": 4,
  "nbformat_minor": 5,
  "metadata": {
    "colab": {
      "name": "Untitled.ipynb",
      "provenance": [],
      "include_colab_link": true
    },
    "language_info": {
      "name": "python"
    },
    "kernelspec": {
      "name": "python3",
      "display_name": "Python 3"
    }
  },
  "cells": [
    {
      "cell_type": "markdown",
      "metadata": {
        "id": "view-in-github",
        "colab_type": "text"
      },
      "source": [
        "<a href=\"https://colab.research.google.com/github/dantae74/machine-learning/blob/main/12-01-rnn-hello.ipynb\" target=\"_parent\"><img src=\"https://colab.research.google.com/assets/colab-badge.svg\" alt=\"Open In Colab\"/></a>"
      ]
    },
    {
      "cell_type": "markdown",
      "metadata": {
        "id": "WfgQSbgOoe-2"
      },
      "source": [
        "모두를 위한 머신러닝에서 가져왔습니다.\n",
        "# RNN - 'hihello'"
      ],
      "id": "WfgQSbgOoe-2"
    },
    {
      "cell_type": "code",
      "metadata": {
        "id": "RK3QTbWDofS7"
      },
      "source": [
        "import tensorflow as tf\n",
        "import numpy as np\n",
        "\n",
        "idx2char = ['h', 'i', 'e', 'l', 'o']\n",
        "# Teach hello: hihell -> ihello\n",
        "x_data = [[0, 1, 0, 2, 3, 3]]   # hihell\n",
        "x_one_hot = [[[1, 0, 0, 0, 0],   # h 0\n",
        "              [0, 1, 0, 0, 0],   # i 1\n",
        "              [1, 0, 0, 0, 0],   # h 0\n",
        "              [0, 0, 1, 0, 0],   # e 2\n",
        "              [0, 0, 0, 1, 0],   # l 3\n",
        "              [0, 0, 0, 1, 0]]]  # l 3\n",
        "\n",
        "y_data = [[1, 0, 2, 3, 3, 4]]   # ihello\n",
        "\n",
        "\n",
        "num_classes = 5\n",
        "input_dim = 5  # one-hot size\n",
        "hidden_size = 5  # output from the LSTM. 5 to directly predict one-hot\n",
        "batch_size = 1   # one sentence\n",
        "sequence_length = 6  # |ihello| == 6\n",
        "learning_rate = 0.1"
      ],
      "id": "RK3QTbWDofS7",
      "execution_count": 1,
      "outputs": []
    },
    {
      "cell_type": "code",
      "metadata": {
        "id": "30dxHmEPog-b"
      },
      "source": [
        ""
      ],
      "id": "30dxHmEPog-b",
      "execution_count": null,
      "outputs": []
    }
  ]
}