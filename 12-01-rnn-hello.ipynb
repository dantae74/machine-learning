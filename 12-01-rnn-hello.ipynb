{
  "nbformat": 4,
  "nbformat_minor": 5,
  "metadata": {
    "colab": {
      "name": "12-01-rnn-hello.ipynb",
      "provenance": [],
      "include_colab_link": true
    },
    "language_info": {
      "name": "python"
    },
    "kernelspec": {
      "name": "python3",
      "display_name": "Python 3"
    }
  },
  "cells": [
    {
      "cell_type": "markdown",
      "metadata": {
        "id": "view-in-github",
        "colab_type": "text"
      },
      "source": [
        "<a href=\"https://colab.research.google.com/github/dantae74/machine-learning/blob/main/12-01-rnn-hello.ipynb\" target=\"_parent\"><img src=\"https://colab.research.google.com/assets/colab-badge.svg\" alt=\"Open In Colab\"/></a>"
      ]
    },
    {
      "cell_type": "markdown",
      "metadata": {
        "id": "WfgQSbgOoe-2"
      },
      "source": [
        "모두를 위한 머신러닝에서 가져왔습니다.\n",
        "# RNN - 'hihello'"
      ],
      "id": "WfgQSbgOoe-2"
    },
    {
      "cell_type": "code",
      "metadata": {
        "id": "RK3QTbWDofS7"
      },
      "source": [
        "import numpy as np\n",
        "import tensorflow as tf\n",
        "from tensorflow import keras\n",
        "from tensorflow.keras import layers"
      ],
      "id": "RK3QTbWDofS7",
      "execution_count": 1,
      "outputs": []
    },
    {
      "cell_type": "code",
      "metadata": {
        "id": "bQS5aQeDPtNa",
        "colab": {
          "base_uri": "https://localhost:8080/"
        },
        "outputId": "ee3bacc8-4148-48c7-9fe1-6864b75b9b82"
      },
      "source": [
        "idx2char = ['h', 'i', 'e', 'l', 'o']\n",
        "# Teach hello: hihell -> ihello\n",
        "# x_data = [[0, 1, 0, 2, 3, 3]]  # hihell\n",
        "y_data = [[1, 0, 2, 3, 3, 4]]  # ihello\n",
        "\n",
        "num_classes = 5\n",
        "input_dim = 5  # one-hot size, same as hidden_size to directly predict one-hot\n",
        "sequence_length = 6  # |ihello| == 6\n",
        "learning_rate = 0.1\n",
        "\n",
        "x_one_hot = np.array([[[1, 0, 0, 0, 0],    # h 0\n",
        "                       [0, 1, 0, 0, 0],    # i 1\n",
        "                       [1, 0, 0, 0, 0],    # h 0\n",
        "                       [0, 0, 1, 0, 0],    # e 2\n",
        "                       [0, 0, 0, 1, 0],    # l 3\n",
        "                       [0, 0, 0, 1, 0]]],  # l 3\n",
        "                     dtype=np.float32)\n",
        "\n",
        "y_one_hot = tf.keras.utils.to_categorical(y_data, num_classes=num_classes)\n",
        "print(x_one_hot.shape)\n",
        "print(y_one_hot.shape)"
      ],
      "id": "bQS5aQeDPtNa",
      "execution_count": 2,
      "outputs": [
        {
          "output_type": "stream",
          "text": [
            "(1, 6, 5)\n",
            "(1, 6, 5)\n"
          ],
          "name": "stdout"
        }
      ]
    },
    {
      "cell_type": "code",
      "metadata": {
        "id": "_mI3V2WVR96b"
      },
      "source": [
        "tf.model = tf.keras.Sequential()\n",
        "\n",
        "# make cell and add it to RNN layer\n",
        "# input_shape = (1,6,5) => number of sequence (batch), length of sequence, size of input dim\n",
        "# cell = tf.keras.layers.LSTMCell(units=num_classes, input_shape=(sequence_length, input_dim))\n",
        "# cell = tf.keras.layers.LSTMCell(units=num_classes)\n",
        "# tf.model.add(tf.keras.layers.RNN(cell=cell, return_sequences=True))\n",
        "tf.model.add(tf.keras.layers.LSTM(units=num_classes, return_sequences=True))\n",
        "\n",
        "# single LSTM layer can be used as well instead of creating LSTMCell\n",
        "# tf.model.add(tf.keras.layers.LSTM(units=num_classes, input_shape=(sequence_length, input_dim), return_sequences=True))\n",
        "\n",
        "# fully connected layer\n",
        "tf.model.add(tf.keras.layers.TimeDistributed(tf.keras.layers.Dense(units=num_classes, activation='softmax')))\n",
        "\n",
        "tf.model.compile(loss='categorical_crossentropy', optimizer=tf.keras.optimizers.Adam(lr=learning_rate),\n",
        "                 metrics=['accuracy'])"
      ],
      "id": "_mI3V2WVR96b",
      "execution_count": 3,
      "outputs": []
    },
    {
      "cell_type": "code",
      "metadata": {
        "id": "dpi6fGbSSk_t",
        "colab": {
          "base_uri": "https://localhost:8080/"
        },
        "outputId": "a62b611a-d6a6-4e3b-f2ee-91037661c5db"
      },
      "source": [
        "# train\n",
        "tf.model.fit(x_one_hot, y_one_hot, epochs=50, verbose=0)\n",
        "tf.model.summary()"
      ],
      "id": "dpi6fGbSSk_t",
      "execution_count": 4,
      "outputs": [
        {
          "output_type": "stream",
          "text": [
            "Model: \"sequential\"\n",
            "_________________________________________________________________\n",
            "Layer (type)                 Output Shape              Param #   \n",
            "=================================================================\n",
            "lstm (LSTM)                  (None, 6, 5)              220       \n",
            "_________________________________________________________________\n",
            "time_distributed (TimeDistri (None, 6, 5)              30        \n",
            "=================================================================\n",
            "Total params: 250\n",
            "Trainable params: 250\n",
            "Non-trainable params: 0\n",
            "_________________________________________________________________\n"
          ],
          "name": "stdout"
        }
      ]
    },
    {
      "cell_type": "code",
      "metadata": {
        "id": "pKtjhfbpSq3f",
        "colab": {
          "base_uri": "https://localhost:8080/"
        },
        "outputId": "88182469-70de-4beb-c3ca-9c92281b0298"
      },
      "source": [
        "predictions = tf.model.predict(x_one_hot)\n",
        "for i, prediction in enumerate(predictions):\n",
        "    print(prediction)\n",
        "    # print char using argmax, dict\n",
        "    result_str = [idx2char[c] for c in np.argmax(prediction, axis=1)]\n",
        "    print(\"\\tPrediction str: \", ''.join(result_str))"
      ],
      "id": "pKtjhfbpSq3f",
      "execution_count": 5,
      "outputs": [
        {
          "output_type": "stream",
          "text": [
            "[[1.4605483e-03 9.9545622e-01 1.2130295e-03 1.8597755e-03 1.0409874e-05]\n",
            " [9.9614477e-01 5.1702915e-05 1.8787251e-03 1.0797977e-03 8.4507931e-04]\n",
            " [8.8519679e-04 1.0277849e-03 9.9111301e-01 6.9649694e-03 9.0870690e-06]\n",
            " [9.4981646e-05 4.8281243e-05 2.4473509e-03 9.9730432e-01 1.0510432e-04]\n",
            " [7.1928278e-04 1.1667537e-05 1.2177313e-03 9.8936021e-01 8.6911181e-03]\n",
            " [2.0545321e-04 3.1218607e-07 8.1139915e-06 7.0822984e-03 9.9270380e-01]]\n",
            "\tPrediction str:  ihello\n"
          ],
          "name": "stdout"
        }
      ]
    },
    {
      "cell_type": "code",
      "metadata": {
        "id": "D-ZeLXzRSuwW"
      },
      "source": [
        ""
      ],
      "id": "D-ZeLXzRSuwW",
      "execution_count": 5,
      "outputs": []
    }
  ]
}