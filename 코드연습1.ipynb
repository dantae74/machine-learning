{
  "nbformat": 4,
  "nbformat_minor": 0,
  "metadata": {
    "colab": {
      "provenance": [],
      "authorship_tag": "ABX9TyOWQ93QOBgB9c7AHjqu+xTB",
      "include_colab_link": true
    },
    "kernelspec": {
      "name": "python3",
      "display_name": "Python 3"
    },
    "language_info": {
      "name": "python"
    }
  },
  "cells": [
    {
      "cell_type": "markdown",
      "metadata": {
        "id": "view-in-github",
        "colab_type": "text"
      },
      "source": [
        "<a href=\"https://colab.research.google.com/github/dantae74/machine-learning/blob/main/%EC%BD%94%EB%93%9C%EC%97%B0%EC%8A%B51.ipynb\" target=\"_parent\"><img src=\"https://colab.research.google.com/assets/colab-badge.svg\" alt=\"Open In Colab\"/></a>"
      ]
    },
    {
      "cell_type": "markdown",
      "source": [
        "# Importing the libraries"
      ],
      "metadata": {
        "id": "DL8BjAmdRgFb"
      }
    },
    {
      "cell_type": "code",
      "execution_count": 14,
      "metadata": {
        "id": "fguIAdNLRNSa"
      },
      "outputs": [],
      "source": [
        "import pandas as pd\n",
        "import numpy as np\n",
        "import matplotlib.pyplot as plt\n",
        "from sklearn.preprocessing import StandardScaler\n",
        "from sklearn.model_selection import train_test_split"
      ]
    },
    {
      "cell_type": "markdown",
      "source": [
        "# Importing the dataset"
      ],
      "metadata": {
        "id": "l9dyPvtxRurW"
      }
    },
    {
      "cell_type": "code",
      "source": [
        "df = pd.read_csv('winequality_red.csv', sep=';')\n",
        "X = df.iloc[:,:-1].values\n",
        "y = df.iloc[:,-1].values"
      ],
      "metadata": {
        "collapsed": true,
        "id": "s_82e-YKRcnM"
      },
      "execution_count": 46,
      "outputs": []
    },
    {
      "cell_type": "markdown",
      "source": [
        "# Splitting the dataset into the Training set and Test set"
      ],
      "metadata": {
        "id": "glklFbxmSKWX"
      }
    },
    {
      "cell_type": "code",
      "source": [
        "X_train, X_test, y_train, y_test = train_test_split(X, y, train_size=0.2, random_state=0)"
      ],
      "metadata": {
        "id": "a2alKhzZRThn"
      },
      "execution_count": 48,
      "outputs": []
    },
    {
      "cell_type": "code",
      "source": [
        "st = StandardScaler()\n"
      ],
      "metadata": {
        "id": "j-Ki_wwGVDq5"
      },
      "execution_count": 49,
      "outputs": []
    },
    {
      "cell_type": "code",
      "source": [
        "X_train = st.fit_transform(X_train)\n",
        "X_test = st.transform(X_test)"
      ],
      "metadata": {
        "id": "ZXU9TJh-VVpd"
      },
      "execution_count": 50,
      "outputs": []
    },
    {
      "cell_type": "code",
      "source": [
        "print(X_train)"
      ],
      "metadata": {
        "id": "8mZfJihyVm4s",
        "outputId": "46ee1b61-2dfa-4d84-b486-8f2a89bb980b",
        "colab": {
          "base_uri": "https://localhost:8080/"
        }
      },
      "execution_count": 51,
      "outputs": [
        {
          "output_type": "stream",
          "name": "stdout",
          "text": [
            "[[-0.61106758 -1.15833393 -0.20247875 ...  0.79740372 -0.25135402\n",
            "  -0.26829722]\n",
            " [-0.61106758  1.98211593 -0.89988689 ...  0.28558926 -0.54795797\n",
            "  -1.1852988 ]\n",
            " [-0.20664734  0.33204905 -1.00718045 ... -0.54610924 -1.4872038\n",
            "   2.68648564]\n",
            " ...\n",
            " [-0.26442166  0.17236516  0.22669548 ... -0.09827159  0.09468391\n",
            "  -0.87963161]\n",
            " [ 2.6820687  -0.35991448  1.19233751 ... -0.03429478  0.04524992\n",
            "   2.38081845]\n",
            " [ 0.83329044  2.35471167  0.28034226 ... -0.35417882 -0.9434299\n",
            "  -0.98152067]]\n"
          ]
        }
      ]
    },
    {
      "cell_type": "code",
      "source": [
        "print(X_train)\n",
        "print(X_test)"
      ],
      "metadata": {
        "id": "2fvC5OZtV8oN"
      },
      "execution_count": null,
      "outputs": []
    }
  ]
}