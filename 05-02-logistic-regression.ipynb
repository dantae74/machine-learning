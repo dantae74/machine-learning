{
 "cells": [
  {
   "cell_type": "markdown",
   "id": "35fcd9bb",
   "metadata": {
    "colab_type": "text",
    "id": "view-in-github"
   },
   "source": [
    "<a href=\"https://colab.research.google.com/github/dantae74/machine-learning/blob/main/05-02-logistic-regression.ipynb\" target=\"_parent\"><img src=\"https://colab.research.google.com/assets/colab-badge.svg\" alt=\"Open In Colab\"/></a>"
   ]
  },
  {
   "cell_type": "markdown",
   "id": "WfgQSbgOoe-2",
   "metadata": {
    "id": "WfgQSbgOoe-2"
   },
   "source": [
    "모두를 위한 머신러닝에서 가져왔습니다.\n",
    "# logistic regression"
   ]
  },
  {
   "cell_type": "code",
   "execution_count": 3,
   "id": "RK3QTbWDofS7",
   "metadata": {
    "id": "RK3QTbWDofS7"
   },
   "outputs": [],
   "source": [
    "import tensorflow as tf\n",
    "import numpy as np\n",
    "import pandas as pd"
   ]
  },
  {
   "cell_type": "code",
   "execution_count": 11,
   "id": "rZdM6QfvnPTZ",
   "metadata": {
    "colab": {
     "base_uri": "https://localhost:8080/",
     "height": 518
    },
    "id": "rZdM6QfvnPTZ",
    "outputId": "1f0d9547-b18c-4d5a-df20-5985a12b54db"
   },
   "outputs": [],
   "source": [
    "url='https://raw.githubusercontent.com/hunkim/DeepLearningZeroToAll/master/data-03-diabetes.csv'\n",
    "c = pd.read_csv(url)"
   ]
  },
  {
   "cell_type": "code",
   "execution_count": 12,
   "id": "FER80GHinoGl",
   "metadata": {
    "id": "FER80GHinoGl"
   },
   "outputs": [
    {
     "data": {
      "text/html": [
       "<div>\n",
       "<style scoped>\n",
       "    .dataframe tbody tr th:only-of-type {\n",
       "        vertical-align: middle;\n",
       "    }\n",
       "\n",
       "    .dataframe tbody tr th {\n",
       "        vertical-align: top;\n",
       "    }\n",
       "\n",
       "    .dataframe thead th {\n",
       "        text-align: right;\n",
       "    }\n",
       "</style>\n",
       "<table border=\"1\" class=\"dataframe\">\n",
       "  <thead>\n",
       "    <tr style=\"text-align: right;\">\n",
       "      <th></th>\n",
       "      <th>-0.294118</th>\n",
       "      <th>0.487437</th>\n",
       "      <th>0.180328</th>\n",
       "      <th>-0.292929</th>\n",
       "      <th>0</th>\n",
       "      <th>0.00149028</th>\n",
       "      <th>-0.53117</th>\n",
       "      <th>-0.0333333</th>\n",
       "      <th>0.1</th>\n",
       "    </tr>\n",
       "  </thead>\n",
       "  <tbody>\n",
       "    <tr>\n",
       "      <th>0</th>\n",
       "      <td>-0.882353</td>\n",
       "      <td>-0.145729</td>\n",
       "      <td>0.081967</td>\n",
       "      <td>-0.414141</td>\n",
       "      <td>0.000000</td>\n",
       "      <td>-0.207153</td>\n",
       "      <td>-0.766866</td>\n",
       "      <td>-0.666667</td>\n",
       "      <td>1</td>\n",
       "    </tr>\n",
       "    <tr>\n",
       "      <th>1</th>\n",
       "      <td>-0.058824</td>\n",
       "      <td>0.839196</td>\n",
       "      <td>0.049180</td>\n",
       "      <td>0.000000</td>\n",
       "      <td>0.000000</td>\n",
       "      <td>-0.305514</td>\n",
       "      <td>-0.492741</td>\n",
       "      <td>-0.633333</td>\n",
       "      <td>0</td>\n",
       "    </tr>\n",
       "    <tr>\n",
       "      <th>2</th>\n",
       "      <td>-0.882353</td>\n",
       "      <td>-0.105528</td>\n",
       "      <td>0.081967</td>\n",
       "      <td>-0.535354</td>\n",
       "      <td>-0.777778</td>\n",
       "      <td>-0.162444</td>\n",
       "      <td>-0.923997</td>\n",
       "      <td>0.000000</td>\n",
       "      <td>1</td>\n",
       "    </tr>\n",
       "    <tr>\n",
       "      <th>3</th>\n",
       "      <td>0.000000</td>\n",
       "      <td>0.376884</td>\n",
       "      <td>-0.344262</td>\n",
       "      <td>-0.292929</td>\n",
       "      <td>-0.602837</td>\n",
       "      <td>0.284650</td>\n",
       "      <td>0.887276</td>\n",
       "      <td>-0.600000</td>\n",
       "      <td>0</td>\n",
       "    </tr>\n",
       "    <tr>\n",
       "      <th>4</th>\n",
       "      <td>-0.411765</td>\n",
       "      <td>0.165829</td>\n",
       "      <td>0.213115</td>\n",
       "      <td>0.000000</td>\n",
       "      <td>0.000000</td>\n",
       "      <td>-0.236960</td>\n",
       "      <td>-0.894962</td>\n",
       "      <td>-0.700000</td>\n",
       "      <td>1</td>\n",
       "    </tr>\n",
       "    <tr>\n",
       "      <th>5</th>\n",
       "      <td>-0.647059</td>\n",
       "      <td>-0.216080</td>\n",
       "      <td>-0.180328</td>\n",
       "      <td>-0.353535</td>\n",
       "      <td>-0.791962</td>\n",
       "      <td>-0.076006</td>\n",
       "      <td>-0.854825</td>\n",
       "      <td>-0.833333</td>\n",
       "      <td>0</td>\n",
       "    </tr>\n",
       "    <tr>\n",
       "      <th>6</th>\n",
       "      <td>0.176471</td>\n",
       "      <td>0.155779</td>\n",
       "      <td>0.000000</td>\n",
       "      <td>0.000000</td>\n",
       "      <td>0.000000</td>\n",
       "      <td>0.052161</td>\n",
       "      <td>-0.952178</td>\n",
       "      <td>-0.733333</td>\n",
       "      <td>1</td>\n",
       "    </tr>\n",
       "    <tr>\n",
       "      <th>7</th>\n",
       "      <td>-0.764706</td>\n",
       "      <td>0.979899</td>\n",
       "      <td>0.147541</td>\n",
       "      <td>-0.090909</td>\n",
       "      <td>0.283688</td>\n",
       "      <td>-0.090909</td>\n",
       "      <td>-0.931682</td>\n",
       "      <td>0.066667</td>\n",
       "      <td>0</td>\n",
       "    </tr>\n",
       "    <tr>\n",
       "      <th>8</th>\n",
       "      <td>-0.058824</td>\n",
       "      <td>0.256281</td>\n",
       "      <td>0.573770</td>\n",
       "      <td>0.000000</td>\n",
       "      <td>0.000000</td>\n",
       "      <td>0.000000</td>\n",
       "      <td>-0.868488</td>\n",
       "      <td>0.100000</td>\n",
       "      <td>0</td>\n",
       "    </tr>\n",
       "    <tr>\n",
       "      <th>9</th>\n",
       "      <td>-0.529412</td>\n",
       "      <td>0.105528</td>\n",
       "      <td>0.508197</td>\n",
       "      <td>0.000000</td>\n",
       "      <td>0.000000</td>\n",
       "      <td>0.120715</td>\n",
       "      <td>-0.903501</td>\n",
       "      <td>-0.700000</td>\n",
       "      <td>1</td>\n",
       "    </tr>\n",
       "  </tbody>\n",
       "</table>\n",
       "</div>"
      ],
      "text/plain": [
       "   -0.294118  0.487437  0.180328  -0.292929         0  0.00149028  -0.53117  \\\n",
       "0  -0.882353 -0.145729  0.081967  -0.414141  0.000000   -0.207153 -0.766866   \n",
       "1  -0.058824  0.839196  0.049180   0.000000  0.000000   -0.305514 -0.492741   \n",
       "2  -0.882353 -0.105528  0.081967  -0.535354 -0.777778   -0.162444 -0.923997   \n",
       "3   0.000000  0.376884 -0.344262  -0.292929 -0.602837    0.284650  0.887276   \n",
       "4  -0.411765  0.165829  0.213115   0.000000  0.000000   -0.236960 -0.894962   \n",
       "5  -0.647059 -0.216080 -0.180328  -0.353535 -0.791962   -0.076006 -0.854825   \n",
       "6   0.176471  0.155779  0.000000   0.000000  0.000000    0.052161 -0.952178   \n",
       "7  -0.764706  0.979899  0.147541  -0.090909  0.283688   -0.090909 -0.931682   \n",
       "8  -0.058824  0.256281  0.573770   0.000000  0.000000    0.000000 -0.868488   \n",
       "9  -0.529412  0.105528  0.508197   0.000000  0.000000    0.120715 -0.903501   \n",
       "\n",
       "   -0.0333333  0.1  \n",
       "0   -0.666667    1  \n",
       "1   -0.633333    0  \n",
       "2    0.000000    1  \n",
       "3   -0.600000    0  \n",
       "4   -0.700000    1  \n",
       "5   -0.833333    0  \n",
       "6   -0.733333    1  \n",
       "7    0.066667    0  \n",
       "8    0.100000    0  \n",
       "9   -0.700000    1  "
      ]
     },
     "execution_count": 12,
     "metadata": {},
     "output_type": "execute_result"
    }
   ],
   "source": [
    "c.head(10)"
   ]
  },
  {
   "cell_type": "code",
   "execution_count": null,
   "id": "30dxHmEPog-b",
   "metadata": {
    "id": "30dxHmEPog-b"
   },
   "outputs": [],
   "source": []
  }
 ],
 "metadata": {
  "colab": {
   "include_colab_link": true,
   "name": "05-02-logistic-regression.ipynb",
   "provenance": []
  },
  "kernelspec": {
   "display_name": "Python 3",
   "language": "python",
   "name": "python3"
  },
  "language_info": {
   "codemirror_mode": {
    "name": "ipython",
    "version": 3
   },
   "file_extension": ".py",
   "mimetype": "text/x-python",
   "name": "python",
   "nbconvert_exporter": "python",
   "pygments_lexer": "ipython3",
   "version": "3.8.2"
  }
 },
 "nbformat": 4,
 "nbformat_minor": 5
}
