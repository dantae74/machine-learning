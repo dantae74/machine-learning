{
  "nbformat": 4,
  "nbformat_minor": 5,
  "metadata": {
    "colab": {
      "name": "Untitled.ipynb",
      "provenance": [],
      "include_colab_link": true
    },
    "language_info": {
      "name": "python"
    },
    "kernelspec": {
      "name": "python3",
      "display_name": "Python 3"
    }
  },
  "cells": [
    {
      "cell_type": "markdown",
      "metadata": {
        "id": "view-in-github",
        "colab_type": "text"
      },
      "source": [
        "<a href=\"https://colab.research.google.com/github/dantae74/machine-learning/blob/main/codeit/13-02-get-neighbor.ipynb\" target=\"_parent\"><img src=\"https://colab.research.google.com/assets/colab-badge.svg\" alt=\"Open In Colab\"/></a>"
      ]
    },
    {
      "cell_type": "markdown",
      "metadata": {
        "id": "WfgQSbgOoe-2"
      },
      "source": [
        "# 추천시스템 - 이웃들 구하기"
      ],
      "id": "WfgQSbgOoe-2"
    },
    {
      "cell_type": "code",
      "metadata": {
        "id": "RK3QTbWDofS7"
      },
      "source": [
        "import pandas as pd\n",
        "import numpy as np\n",
        "from math import sqrt"
      ],
      "id": "RK3QTbWDofS7",
      "execution_count": 1,
      "outputs": []
    },
    {
      "cell_type": "code",
      "metadata": {
        "id": "ADWozGj4wnpX"
      },
      "source": [
        "RATING_DATA_PATH = 'https://raw.githubusercontent.com/dantae74/machine-learning/main/codeit/datasets/ratings.csv'  # 받아올 평점 데이터 경로 정의\n",
        "np.set_printoptions(precision=2)  # 소수점 둘째 자리까지만 출력"
      ],
      "id": "ADWozGj4wnpX",
      "execution_count": 2,
      "outputs": []
    },
    {
      "cell_type": "code",
      "metadata": {
        "id": "SYZVG4i-xgQs"
      },
      "source": [
        "rating_data = pd.read_csv(RATING_DATA_PATH, index_col='user_id').values  # 평점 데이터를 불러온다"
      ],
      "id": "SYZVG4i-xgQs",
      "execution_count": 4,
      "outputs": []
    },
    {
      "cell_type": "code",
      "metadata": {
        "id": "ekXARBfSxiVy",
        "outputId": "181141f4-dd28-4e45-b03f-a86f7ceb7466",
        "colab": {
          "base_uri": "https://localhost:8080/"
        }
      },
      "source": [
        "rating_data.shape"
      ],
      "id": "ekXARBfSxiVy",
      "execution_count": 8,
      "outputs": [
        {
          "output_type": "execute_result",
          "data": {
            "text/plain": [
              "(20, 20)"
            ]
          },
          "metadata": {},
          "execution_count": 8
        }
      ]
    },
    {
      "cell_type": "code",
      "metadata": {
        "id": "c6A4hhgFws0F"
      },
      "source": [
        "def distance(user_1, user_2):\n",
        "    \"\"\"유클리드 거리를 계산해주는 함수\"\"\"\n",
        "    return sqrt(np.sum((user_1 - user_2)**2))\n",
        "    \n",
        "    \n",
        "def filter_users_without_movie(rating_data, movie_id):\n",
        "    \"\"\"movie_id 번째 영화를 평가하지 않은 유저들은 미리 제외해주는 함수\"\"\"\n",
        "    return rating_data[~np.isnan(rating_data[:,movie_id])]\n",
        "    \n",
        "    \n",
        "def fill_nan_with_user_mean(rating_data):\n",
        "    \"\"\"평점 데이터의 빈값들을 각 유저 평균 값으로 체워주는 함수\"\"\"\n",
        "    filled_data = np.copy(rating_data)  # 평점 데이터를 훼손하지 않기 위해 복사\n",
        "    row_mean = np.nanmean(filled_data, axis=0)  # 유저 평균 평점 계산\n",
        "    \n",
        "    inds = np.where(np.isnan(filled_data))  # 비어 있는 인덱스들을 구한다\n",
        "    filled_data[inds] = np.take(row_mean, inds[1])  #빈 인덱스를 유저 평점으로 채운다\n",
        "    \n",
        "    return filled_data"
      ],
      "id": "c6A4hhgFws0F",
      "execution_count": 3,
      "outputs": []
    },
    {
      "cell_type": "code",
      "metadata": {
        "id": "30dxHmEPog-b"
      },
      "source": [
        "def get_k_neighbors(user_id, rating_data, k):\n",
        "    \"\"\"user_id에 해당하는 유저의 이웃들을 찾아주는 함수\"\"\"\n",
        "    distance_data = np.copy(rating_data)  # 평점 데이터를 훼손하지 않기 위해 복사\n",
        "    # 마지막에 거리 데이터를 담을 열 추가한다\n",
        "    distance_data = np.append(distance_data, np.zeros((distance_data.shape[0], 1)), axis=1)\n",
        "    \n",
        "    # 코드를 쓰세요.\n",
        "    for data in range(len(di)):\n",
        "\n",
        "\n",
        "    \n",
        "    # 데이터를 거리 열을 기준으로 정렬한다\n",
        "    distance_data = distance_data[np.argsort(distance_data[:, -1])]\n",
        "    \n",
        "    # 가장 가까운 k개의 행만 리턴한다 + 마지막(거리) 열은 제외한다\n",
        "    return distance_data[:k, :-1]"
      ],
      "id": "30dxHmEPog-b",
      "execution_count": null,
      "outputs": []
    },
    {
      "cell_type": "code",
      "metadata": {
        "id": "XUT7XVs-w4ar"
      },
      "source": [
        "# 실행 코드\n",
        "# 영화 3을 본 유저들 중, 유저 0와 비슷한 유저 5명을 찾는다\n",
        "rating_data = pd.read_csv(RATING_DATA_PATH, index_col='user_id').values  # 평점 데이터를 불러온다\n",
        "filtered_data = filter_users_without_movie(rating_data, 3)  # 3 번째 영화를 보지 않은 유저를 데이터에서 미리 제외시킨다\n",
        "filled_data = fill_nan_with_user_mean(filtered_data)  # 빈값들이 채워진 새로운 행렬을 만든다\n",
        "user_0_neighbors = get_k_neighbors(0, filled_data, 5)  # 유저 0과 비슷한 5개의 유저 데이터를 찾는다\n",
        "user_0_neighbors"
      ],
      "id": "XUT7XVs-w4ar",
      "execution_count": null,
      "outputs": []
    }
  ]
}