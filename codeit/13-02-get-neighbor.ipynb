{
  "nbformat": 4,
  "nbformat_minor": 5,
  "metadata": {
    "colab": {
      "name": "13-02-get-neighbor.ipynb",
      "provenance": [],
      "include_colab_link": true
    },
    "language_info": {
      "name": "python"
    },
    "kernelspec": {
      "name": "python3",
      "display_name": "Python 3"
    }
  },
  "cells": [
    {
      "cell_type": "markdown",
      "metadata": {
        "id": "view-in-github",
        "colab_type": "text"
      },
      "source": [
        "<a href=\"https://colab.research.google.com/github/dantae74/machine-learning/blob/main/codeit/13-02-get-neighbor.ipynb\" target=\"_parent\"><img src=\"https://colab.research.google.com/assets/colab-badge.svg\" alt=\"Open In Colab\"/></a>"
      ]
    },
    {
      "cell_type": "markdown",
      "metadata": {
        "id": "WfgQSbgOoe-2"
      },
      "source": [
        "# 추천시스템 - 이웃들 구하기"
      ],
      "id": "WfgQSbgOoe-2"
    },
    {
      "cell_type": "code",
      "metadata": {
        "id": "RK3QTbWDofS7"
      },
      "source": [
        "import pandas as pd\n",
        "import numpy as np\n",
        "from math import sqrt"
      ],
      "id": "RK3QTbWDofS7",
      "execution_count": 22,
      "outputs": []
    },
    {
      "cell_type": "code",
      "metadata": {
        "id": "ADWozGj4wnpX"
      },
      "source": [
        "RATING_DATA_PATH = 'https://raw.githubusercontent.com/dantae74/machine-learning/main/codeit/datasets/ratings.csv'  # 받아올 평점 데이터 경로 정의\n",
        "np.set_printoptions(precision=2)  # 소수점 둘째 자리까지만 출력"
      ],
      "id": "ADWozGj4wnpX",
      "execution_count": 23,
      "outputs": []
    },
    {
      "cell_type": "code",
      "metadata": {
        "id": "SYZVG4i-xgQs"
      },
      "source": [
        "rating_data = pd.read_csv(RATING_DATA_PATH, index_col='user_id').values  # 평점 데이터를 불러온다"
      ],
      "id": "SYZVG4i-xgQs",
      "execution_count": 24,
      "outputs": []
    },
    {
      "cell_type": "code",
      "metadata": {
        "id": "ekXARBfSxiVy",
        "colab": {
          "base_uri": "https://localhost:8080/"
        },
        "outputId": "44a2a9c0-f616-4237-cd4f-53b3a9a0226c"
      },
      "source": [
        "rating_data.shape"
      ],
      "id": "ekXARBfSxiVy",
      "execution_count": 25,
      "outputs": [
        {
          "output_type": "execute_result",
          "data": {
            "text/plain": [
              "(20, 20)"
            ]
          },
          "metadata": {},
          "execution_count": 25
        }
      ]
    },
    {
      "cell_type": "code",
      "metadata": {
        "id": "c6A4hhgFws0F"
      },
      "source": [
        "def distance(user_1, user_2):\n",
        "    \"\"\"유클리드 거리를 계산해주는 함수\"\"\"\n",
        "    return sqrt(np.sum((user_1 - user_2)**2))\n",
        "    \n",
        "    \n",
        "def filter_users_without_movie(rating_data, movie_id):\n",
        "    \"\"\"movie_id 번째 영화를 평가하지 않은 유저들은 미리 제외해주는 함수\"\"\"\n",
        "    return rating_data[~np.isnan(rating_data[:,movie_id])]\n",
        "    \n",
        "    \n",
        "def fill_nan_with_user_mean(rating_data):\n",
        "    \"\"\"평점 데이터의 빈값들을 각 유저 평균 값으로 체워주는 함수\"\"\"\n",
        "    filled_data = np.copy(rating_data)  # 평점 데이터를 훼손하지 않기 위해 복사\n",
        "    row_mean = np.nanmean(filled_data, axis=0)  # 유저 평균 평점 계산\n",
        "    \n",
        "    inds = np.where(np.isnan(filled_data))  # 비어 있는 인덱스들을 구한다\n",
        "    filled_data[inds] = np.take(row_mean, inds[1])  #빈 인덱스를 유저 평점으로 채운다\n",
        "    \n",
        "    return filled_data"
      ],
      "id": "c6A4hhgFws0F",
      "execution_count": 26,
      "outputs": []
    },
    {
      "cell_type": "code",
      "metadata": {
        "id": "30dxHmEPog-b"
      },
      "source": [
        "def get_k_neighbors(user_id, rating_data, k):\n",
        "    \"\"\"user_id에 해당하는 유저의 이웃들을 찾아주는 함수\"\"\"\n",
        "    distance_data = np.copy(rating_data)  # 평점 데이터를 훼손하지 않기 위해 복사\n",
        "    # 마지막에 거리 데이터를 담을 열 추가한다\n",
        "    distance_data = np.append(distance_data, np.zeros((distance_data.shape[0], 1)), axis=1)\n",
        "    \n",
        "    # 코드를 쓰세요.\n",
        "    # for i in range(len(distance_data)):\n",
        "    #   if user_id == i:  # 해당 유저 데이터인 경우 유클리드 거리를 np.inf로 설정\n",
        "    #     distance_data[i,-1] = np.inf\n",
        "    #   else:  \n",
        "    #     distance_data[i,-1] = distance(distance_data[user_id,:-1], distance_data[i,:-1] )\n",
        "\n",
        "    for i in range(len(distance_data)):\n",
        "        row = distance_data[i]\n",
        "        if i == user_id:  # 같은 유저면 거리를 무한대로 설정\n",
        "            row[-1] = np.inf\n",
        "        else:  # 다른 유저면 마지막 열에 거리 데이터를 저장\n",
        "            row[-1] = distance(distance_data[user_id][:-1], row[:-1])\n",
        "    \n",
        "    # 데이터를 거리 열을 기준으로 정렬한다\n",
        "    distance_data = distance_data[np.argsort(distance_data[:, -1])]\n",
        "    \n",
        "    # 가장 가까운 k개의 행만 리턴한다 + 마지막(거리) 열은 제외한다\n",
        "    return distance_data[:k, :-1]"
      ],
      "id": "30dxHmEPog-b",
      "execution_count": 27,
      "outputs": []
    },
    {
      "cell_type": "code",
      "metadata": {
        "id": "XUT7XVs-w4ar",
        "colab": {
          "base_uri": "https://localhost:8080/"
        },
        "outputId": "c8e809c7-bf79-41a5-f2ef-f2d56d408558"
      },
      "source": [
        "# 실행 코드\n",
        "# 영화 3을 본 유저들 중, 유저 0와 비슷한 유저 5명을 찾는다\n",
        "filtered_data = filter_users_without_movie(rating_data, 3)  # 3 번째 영화를 보지 않은 유저를 데이터에서 미리 제외시킨다\n",
        "filled_data = fill_nan_with_user_mean(filtered_data)  # 빈값들이 채워진 새로운 행렬을 만든다\n",
        "user_0_neighbors = get_k_neighbors(0, filled_data, 5)  # 유저 0과 비슷한 5개의 유저 데이터를 찾는다\n",
        "user_0_neighbors"
      ],
      "id": "XUT7XVs-w4ar",
      "execution_count": 28,
      "outputs": [
        {
          "output_type": "execute_result",
          "data": {
            "text/plain": [
              "array([[2.  , 3.5 , 1.33, 5.  , 3.25, 4.  , 2.  , 2.  , 2.  , 2.25, 3.  ,\n",
              "        4.  , 2.  , 5.  , 4.  , 3.5 , 2.33, 3.67, 4.  , 2.  ],\n",
              "       [2.  , 5.  , 1.  , 4.  , 3.25, 4.  , 2.  , 3.  , 1.  , 2.25, 1.  ,\n",
              "        2.33, 2.71, 4.  , 2.5 , 3.5 , 2.  , 3.67, 3.14, 4.  ],\n",
              "       [2.  , 3.5 , 2.  , 5.  , 3.25, 4.  , 2.  , 3.2 , 2.33, 2.25, 2.2 ,\n",
              "        2.33, 1.  , 3.33, 2.5 , 3.5 , 3.  , 1.  , 5.  , 2.  ],\n",
              "       [3.  , 3.5 , 1.33, 5.  , 4.  , 4.  , 2.  , 4.  , 5.  , 3.  , 2.2 ,\n",
              "        1.  , 2.  , 1.  , 1.  , 3.5 , 2.33, 3.67, 4.  , 2.6 ],\n",
              "       [1.  , 1.  , 1.33, 1.  , 1.  , 4.  , 2.  , 3.2 , 2.33, 2.25, 2.2 ,\n",
              "        2.  , 2.71, 3.33, 1.  , 3.5 , 2.33, 3.67, 4.  , 2.6 ]])"
            ]
          },
          "metadata": {},
          "execution_count": 28
        }
      ]
    },
    {
      "cell_type": "code",
      "metadata": {
        "id": "uyMFgjTM6Err"
      },
      "source": [
        ""
      ],
      "id": "uyMFgjTM6Err",
      "execution_count": 28,
      "outputs": []
    }
  ]
}