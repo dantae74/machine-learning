{
  "nbformat": 4,
  "nbformat_minor": 5,
  "metadata": {
    "colab": {
      "name": "Untitled.ipynb",
      "provenance": [],
      "include_colab_link": true
    },
    "language_info": {
      "name": "python"
    },
    "kernelspec": {
      "name": "python3",
      "display_name": "Python 3"
    }
  },
  "cells": [
    {
      "cell_type": "markdown",
      "metadata": {
        "id": "view-in-github",
        "colab_type": "text"
      },
      "source": [
        "<a href=\"https://colab.research.google.com/github/dantae74/machine-learning/blob/main/codeit/12-02-artifical-neural-network-forward-propagation.ipynb\" target=\"_parent\"><img src=\"https://colab.research.google.com/assets/colab-badge.svg\" alt=\"Open In Colab\"/></a>"
      ]
    },
    {
      "cell_type": "markdown",
      "metadata": {
        "id": "WfgQSbgOoe-2"
      },
      "source": [
        "# Artificial neural network - forward propagation\n",
        "\n",
        "Z[i] = W[i]a[i-1] + b[i]\n",
        "\n",
        "a[i] = sigma(z[i])"
      ],
      "id": "WfgQSbgOoe-2"
    },
    {
      "cell_type": "code",
      "metadata": {
        "id": "RK3QTbWDofS7"
      },
      "source": [
        "# 인공 신경망 구현에 사용할 라이브러리 임포트\n",
        "import numpy as np\n",
        "import pandas as pd"
      ],
      "id": "RK3QTbWDofS7",
      "execution_count": 10,
      "outputs": []
    },
    {
      "cell_type": "code",
      "metadata": {
        "id": "30dxHmEPog-b"
      },
      "source": [
        "# numpy 임의성 조절\n",
        "np.random.seed(42)"
      ],
      "id": "30dxHmEPog-b",
      "execution_count": 11,
      "outputs": []
    },
    {
      "cell_type": "code",
      "metadata": {
        "id": "3GLgz61gJsjh"
      },
      "source": [
        "# 데이터 셋 가지고 오기\n",
        "dataset = pd.read_csv('https://raw.githubusercontent.com/dantae74/machine-learning/main/codeit/datasets/MNIST_preprocessed.csv', sep=',', header=None).values\n"
      ],
      "id": "3GLgz61gJsjh",
      "execution_count": 12,
      "outputs": []
    },
    {
      "cell_type": "code",
      "metadata": {
        "id": "MVEY1ZksKiXo"
      },
      "source": [
        "# 입력, 목표 변수 데이터 셋 나누기\n",
        "X = dataset[:, 0:784]\n",
        "Y = dataset[:, 784:]"
      ],
      "id": "MVEY1ZksKiXo",
      "execution_count": 13,
      "outputs": []
    },
    {
      "cell_type": "code",
      "metadata": {
        "id": "tqmvGjRAKpIJ"
      },
      "source": [
        "# training, testing 데이터 셋 나누기\n",
        "# X_train, X_test = X[0:250,], X[250:,]\n",
        "# Y_train, Y_test = Y[0:250,], Y[250:,]\n",
        "\n",
        "X_train, X_test = X, X\n",
        "Y_train, Y_test = Y, Y"
      ],
      "id": "tqmvGjRAKpIJ",
      "execution_count": 15,
      "outputs": []
    },
    {
      "cell_type": "code",
      "metadata": {
        "id": "uWiEsyLvKyvh"
      },
      "source": [
        "def sigmoid(x):\n",
        "    \"\"\"시그모이드 함수\"\"\"\n",
        "    return 1/(1 + np.exp(-x))"
      ],
      "id": "uWiEsyLvKyvh",
      "execution_count": 16,
      "outputs": []
    },
    {
      "cell_type": "code",
      "metadata": {
        "id": "S-sc00zWKyk_"
      },
      "source": [
        "def initialize_parameters(nodes_per_layer):\n",
        "    \"\"\"신경망의 가중치와 편향을 초기화해주는 함수\"\"\"\n",
        "    L = len(nodes_per_layer) - 1  # 층 개수 저장\n",
        "    parameters = {}\n",
        "    \n",
        "    # 1층 부터 L 층까지 돌면서 가중치와 편향 초기화\n",
        "    for l in range(1, L+1):\n",
        "        parameters['W' + str(l)] = np.random.randn(nodes_per_layer[l], nodes_per_layer[l-1]) * np.sqrt(1. / nodes_per_layer[l])\n",
        "        parameters['b' + str(l)] = np.random.randn(nodes_per_layer[l]) * np.sqrt(1. / nodes_per_layer[l])\n",
        "        \n",
        "    return parameters"
      ],
      "id": "S-sc00zWKyk_",
      "execution_count": 17,
      "outputs": []
    },
    {
      "cell_type": "code",
      "metadata": {
        "id": "IU9ncugtK2Do"
      },
      "source": [
        "def feed_forward(x, parameters):\n",
        "    \"\"\"순전파 함수\"\"\"\n",
        "    cache = {'a0': x}  # 0 번째 층 출력 저장\n",
        "    L = len(parameters) // 2  # 층 수 저장\n",
        "    \n",
        "    for l in range(1, L+1):\n",
        "        # 전 층 뉴런의 출력, 현재 층 뉴런들의 가중치, 편향 데이터를 가지고 온다. (코드를 쓰세요)\n",
        "        a_prev = cache['a'+str(l-1)]\n",
        "        W = parameters['W'+str(l)]\n",
        "        b = parameters['b'+str(l)]\n",
        "        \n",
        "        # 가지고 온 데이터로 z와 a를 계산한다. (코드를 쓰세요)\n",
        "        z = W @ a_prev + b\n",
        "        a = sigmoid(z)\n",
        "\n",
        "        # 결과 값을 캐시에 저장한다.\n",
        "        cache['z' + str(l)] = z\n",
        "        cache['a' + str(l)] = a\n",
        "                \n",
        "    return a, cache"
      ],
      "id": "IU9ncugtK2Do",
      "execution_count": 28,
      "outputs": []
    },
    {
      "cell_type": "code",
      "metadata": {
        "id": "ZnqIyjiKK6Xq",
        "outputId": "70da5a6f-6f45-4ad6-e677-3bb5d3039ac9",
        "colab": {
          "base_uri": "https://localhost:8080/"
        }
      },
      "source": [
        "# 실행 코드\n",
        "neurons_per_layer = [784, 128, 64, 10]\n",
        "parameters = initialize_parameters(neurons_per_layer)\n",
        "feed_forward(X_train[0], parameters)[0]"
      ],
      "id": "ZnqIyjiKK6Xq",
      "execution_count": 29,
      "outputs": [
        {
          "output_type": "execute_result",
          "data": {
            "text/plain": [
              "array([0.9059732 , 0.1879649 , 0.38258359, 0.20064149, 0.82298157,\n",
              "       0.31362285, 0.88920476, 0.59725416, 0.60022648, 0.43844501])"
            ]
          },
          "metadata": {},
          "execution_count": 29
        }
      ]
    },
    {
      "cell_type": "code",
      "metadata": {
        "id": "jjPBfnilN2Np"
      },
      "source": [
        ""
      ],
      "id": "jjPBfnilN2Np",
      "execution_count": null,
      "outputs": []
    }
  ]
}