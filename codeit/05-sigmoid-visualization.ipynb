{
  "nbformat": 4,
  "nbformat_minor": 5,
  "metadata": {
    "colab": {
      "name": "Untitled.ipynb",
      "provenance": [],
      "include_colab_link": true
    },
    "language_info": {
      "name": "python"
    },
    "kernelspec": {
      "name": "python3",
      "display_name": "Python 3"
    }
  },
  "cells": [
    {
      "cell_type": "markdown",
      "metadata": {
        "id": "view-in-github",
        "colab_type": "text"
      },
      "source": [
        "<a href=\"https://colab.research.google.com/github/dantae74/machine-learning/blob/main/codeit/05-sigmoid-visualization.ipynb\" target=\"_parent\"><img src=\"https://colab.research.google.com/assets/colab-badge.svg\" alt=\"Open In Colab\"/></a>"
      ]
    },
    {
      "cell_type": "markdown",
      "metadata": {
        "id": "WfgQSbgOoe-2"
      },
      "source": [
        "# 로지스틱 회귀 시각화"
      ],
      "id": "WfgQSbgOoe-2"
    },
    {
      "cell_type": "code",
      "metadata": {
        "id": "RK3QTbWDofS7"
      },
      "source": [
        "import numpy as np\n",
        "import matplotlib.pyplot as plt"
      ],
      "id": "RK3QTbWDofS7",
      "execution_count": 6,
      "outputs": []
    },
    {
      "cell_type": "code",
      "metadata": {
        "id": "30dxHmEPog-b"
      },
      "source": [
        "def sigmoid_hypothesis(theta_0, theta_1, x):\n",
        "    return 1 / (1 + np.exp(-(theta_0 + theta_1 * x)))"
      ],
      "id": "30dxHmEPog-b",
      "execution_count": 9,
      "outputs": []
    },
    {
      "cell_type": "code",
      "metadata": {
        "id": "P0Ex5n_UWWWN",
        "outputId": "4439a9ad-3bc1-443c-e2e9-0d7716dbf865",
        "colab": {
          "base_uri": "https://localhost:8080/"
        }
      },
      "source": [
        "x = np.linspace(0, 50.0, num=100)\n",
        "x"
      ],
      "id": "P0Ex5n_UWWWN",
      "execution_count": 37,
      "outputs": [
        {
          "output_type": "execute_result",
          "data": {
            "text/plain": [
              "array([ 0.        ,  0.50505051,  1.01010101,  1.51515152,  2.02020202,\n",
              "        2.52525253,  3.03030303,  3.53535354,  4.04040404,  4.54545455,\n",
              "        5.05050505,  5.55555556,  6.06060606,  6.56565657,  7.07070707,\n",
              "        7.57575758,  8.08080808,  8.58585859,  9.09090909,  9.5959596 ,\n",
              "       10.1010101 , 10.60606061, 11.11111111, 11.61616162, 12.12121212,\n",
              "       12.62626263, 13.13131313, 13.63636364, 14.14141414, 14.64646465,\n",
              "       15.15151515, 15.65656566, 16.16161616, 16.66666667, 17.17171717,\n",
              "       17.67676768, 18.18181818, 18.68686869, 19.19191919, 19.6969697 ,\n",
              "       20.2020202 , 20.70707071, 21.21212121, 21.71717172, 22.22222222,\n",
              "       22.72727273, 23.23232323, 23.73737374, 24.24242424, 24.74747475,\n",
              "       25.25252525, 25.75757576, 26.26262626, 26.76767677, 27.27272727,\n",
              "       27.77777778, 28.28282828, 28.78787879, 29.29292929, 29.7979798 ,\n",
              "       30.3030303 , 30.80808081, 31.31313131, 31.81818182, 32.32323232,\n",
              "       32.82828283, 33.33333333, 33.83838384, 34.34343434, 34.84848485,\n",
              "       35.35353535, 35.85858586, 36.36363636, 36.86868687, 37.37373737,\n",
              "       37.87878788, 38.38383838, 38.88888889, 39.39393939, 39.8989899 ,\n",
              "       40.4040404 , 40.90909091, 41.41414141, 41.91919192, 42.42424242,\n",
              "       42.92929293, 43.43434343, 43.93939394, 44.44444444, 44.94949495,\n",
              "       45.45454545, 45.95959596, 46.46464646, 46.96969697, 47.47474747,\n",
              "       47.97979798, 48.48484848, 48.98989899, 49.49494949, 50.        ])"
            ]
          },
          "metadata": {},
          "execution_count": 37
        }
      ]
    },
    {
      "cell_type": "code",
      "metadata": {
        "id": "di-1XzlUWhB0"
      },
      "source": [
        "theta_0 = [-100, -50, 0, 50, 100]\n",
        "theta_1 = [-3, -1.5, 0, 1.5, 3]"
      ],
      "id": "di-1XzlUWhB0",
      "execution_count": 50,
      "outputs": []
    },
    {
      "cell_type": "code",
      "metadata": {
        "id": "ry3vTDRJW33b",
        "outputId": "6fbe4093-ad34-489b-b1e6-d5df0d22855f",
        "colab": {
          "base_uri": "https://localhost:8080/",
          "height": 283
        }
      },
      "source": [
        "plt.plot(x, sigmoid_hypothesis(theta_0, theta_1, x))"
      ],
      "id": "ry3vTDRJW33b",
      "execution_count": 51,
      "outputs": [
        {
          "output_type": "execute_result",
          "data": {
            "text/plain": [
              "[<matplotlib.lines.Line2D at 0x7f8ae49118d0>]"
            ]
          },
          "metadata": {},
          "execution_count": 51
        },
        {
          "output_type": "display_data",
          "data": {
            "image/png": "[encoded data removed]",
            "text/plain": [
              "<Figure size 432x288 with 1 Axes>"
            ]
          },
          "metadata": {
            "needs_background": "light"
          }
        }
      ]
    },
    {
      "cell_type": "code",
      "metadata": {
        "id": "iXeeEVVAXG97"
      },
      "source": [
        ""
      ],
      "id": "iXeeEVVAXG97",
      "execution_count": null,
      "outputs": []
    }
  ]
}