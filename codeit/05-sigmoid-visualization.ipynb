{
  "nbformat": 4,
  "nbformat_minor": 5,
  "metadata": {
    "colab": {
      "name": "05-sigmoid-visualization.ipynb",
      "provenance": [],
      "include_colab_link": true
    },
    "language_info": {
      "name": "python"
    },
    "kernelspec": {
      "name": "python3",
      "display_name": "Python 3"
    }
  },
  "cells": [
    {
      "cell_type": "markdown",
      "metadata": {
        "id": "view-in-github",
        "colab_type": "text"
      },
      "source": [
        "<a href=\"https://colab.research.google.com/github/dantae74/machine-learning/blob/main/codeit/05-sigmoid-visualization.ipynb\" target=\"_parent\"><img src=\"https://colab.research.google.com/assets/colab-badge.svg\" alt=\"Open In Colab\"/></a>"
      ]
    },
    {
      "cell_type": "markdown",
      "metadata": {
        "id": "WfgQSbgOoe-2"
      },
      "source": [
        "# 로지스틱 회귀 시각화"
      ],
      "id": "WfgQSbgOoe-2"
    },
    {
      "cell_type": "code",
      "metadata": {
        "id": "RK3QTbWDofS7"
      },
      "source": [
        "import numpy as np\n",
        "import matplotlib.pyplot as plt"
      ],
      "id": "RK3QTbWDofS7",
      "execution_count": null,
      "outputs": []
    },
    {
      "cell_type": "code",
      "metadata": {
        "id": "30dxHmEPog-b"
      },
      "source": [
        "def sigmoid_hypothesis(theta_0, theta_1, x):\n",
        "    return 1 / (1 + np.exp(-(theta_0 + theta_1 * x)))"
      ],
      "id": "30dxHmEPog-b",
      "execution_count": null,
      "outputs": []
    },
    {
      "cell_type": "code",
      "metadata": {
        "id": "P0Ex5n_UWWWN"
      },
      "source": [
        "x = np.linspace(0, 50.0, num=100)\n",
        "x"
      ],
      "id": "P0Ex5n_UWWWN",
      "execution_count": null,
      "outputs": []
    },
    {
      "cell_type": "code",
      "metadata": {
        "id": "ry3vTDRJW33b"
      },
      "source": [
        "theta_0 = -50\n",
        "theta_1 = 3\n",
        "\n",
        "plt.plot(x, sigmoid_hypothesis(theta_0, theta_1, x))"
      ],
      "id": "ry3vTDRJW33b",
      "execution_count": null,
      "outputs": []
    },
    {
      "cell_type": "code",
      "metadata": {
        "id": "iXeeEVVAXG97"
      },
      "source": [
        "theta_1 = 3\n",
        "theta_0_list = np.linspace(-100,100, num=10)\n",
        "rows = len(theta_0_list)\n",
        "cols = 1\n",
        "\n",
        "fig = plt.figure(figsize=(8,15))\n",
        "for i, theta_0 in enumerate(theta_0_list):\n",
        "  ax = fig.add_subplot(rows, cols, i+1)\n",
        "  ax.plot(x, sigmoid_hypothesis(theta_0, theta_1, x))"
      ],
      "id": "iXeeEVVAXG97",
      "execution_count": null,
      "outputs": []
    },
    {
      "cell_type": "code",
      "metadata": {
        "id": "NE0AUdMkbU-6"
      },
      "source": [
        "theta_0 = -50\n",
        "theta_1_list = np.linspace(1,5,num=10)\n",
        "\n",
        "rows = len(theta_1_list)\n",
        "cols = 1\n",
        "\n",
        "fig = plt.figure(figsize=(8,15))\n",
        "for i, theta_1 in enumerate(theta_1_list):\n",
        "  ax = fig.add_subplot(rows, cols, i+1)\n",
        "  ax.plot(x, sigmoid_hypothesis(theta_0, theta_1, x))"
      ],
      "id": "NE0AUdMkbU-6",
      "execution_count": null,
      "outputs": []
    },
    {
      "cell_type": "code",
      "metadata": {
        "id": "wjdSs2JRdTYB"
      },
      "source": [
        ""
      ],
      "id": "wjdSs2JRdTYB",
      "execution_count": null,
      "outputs": []
    }
  ]
}
