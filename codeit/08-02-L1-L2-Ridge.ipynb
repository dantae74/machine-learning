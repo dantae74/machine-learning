{
  "nbformat": 4,
  "nbformat_minor": 5,
  "metadata": {
    "colab": {
      "name": "Untitled.ipynb",
      "provenance": [],
      "include_colab_link": true
    },
    "language_info": {
      "name": "python"
    },
    "kernelspec": {
      "name": "python3",
      "display_name": "Python 3"
    }
  },
  "cells": [
    {
      "cell_type": "markdown",
      "metadata": {
        "id": "view-in-github",
        "colab_type": "text"
      },
      "source": [
        "<a href=\"https://colab.research.google.com/github/dantae74/machine-learning/blob/main/codeit/08-02-L1-L2-Ridge.ipynb\" target=\"_parent\"><img src=\"https://colab.research.google.com/assets/colab-badge.svg\" alt=\"Open In Colab\"/></a>"
      ]
    },
    {
      "cell_type": "markdown",
      "metadata": {
        "id": "WfgQSbgOoe-2"
      },
      "source": [
        "# L1, L2 정규화 - Ridge"
      ],
      "id": "WfgQSbgOoe-2"
    },
    {
      "cell_type": "code",
      "metadata": {
        "id": "RK3QTbWDofS7"
      },
      "source": [
        "from sklearn.linear_model import Ridge\n",
        "from sklearn.model_selection import train_test_split\n",
        "from sklearn.metrics import mean_squared_error\n",
        "from sklearn.preprocessing import PolynomialFeatures\n",
        "from math import sqrt\n",
        "\n",
        "import numpy as np\n",
        "import pandas as pd"
      ],
      "id": "RK3QTbWDofS7",
      "execution_count": 1,
      "outputs": []
    },
    {
      "cell_type": "code",
      "metadata": {
        "id": "30dxHmEPog-b"
      },
      "source": [
        "INSURANCE_FILE_PATH = 'https://raw.githubusercontent.com/dantae74/machine-learning/main/codeit/datasets/insurance.csv'\n",
        "\n",
        "insurance_df = pd.read_csv(INSURANCE_FILE_PATH)\n",
        "insurance_df = pd.get_dummies(data=insurance_df, columns=['sex', 'smoker', 'region'])\n",
        "\n",
        "# 기존 데이터에서 입력 변수 데이터를 따로 저장한다\n",
        "X = insurance_df.drop(['charges'], axis=1)\n",
        "\n",
        "polynomial_transformer = PolynomialFeatures(4)  # 4 차항 변형기를 정의한다\n",
        "polynomial_features = polynomial_transformer.fit_transform(X.values)  # 데이터 6차 항 변수로 바꿔준다\n",
        "\n",
        "features = polynomial_transformer.get_feature_names(X.columns)  # 변수 이름들도 바꿔준다\n",
        "\n",
        "# 새롭게 만든 다항 입력 변수를 dataframe으로 만들어 준다\n",
        "X = pd.DataFrame(polynomial_features, columns=features)\n",
        "y = insurance_df[['charges']]\n"
      ],
      "id": "30dxHmEPog-b",
      "execution_count": 2,
      "outputs": []
    },
    {
      "cell_type": "code",
      "metadata": {
        "id": "FO10jkybwH7y"
      },
      "source": [
        "x_train, x_test, y_train, y_test = train_test_split(X, y, test_size=0.3, random_state=5)\n",
        "\n",
        "model = Ridge(alpha=0.01, max_iter=2000, normalize=True)\n",
        "model.fit(x_train, y_train)\n",
        "\n",
        "y_train_predict = model.predict(x_train)\n",
        "y_test_predict = model.predict(x_test)\n",
        "\n",
        "y_train_predict = model.predict(x_train)\n",
        "y_test_predict = model.predict(x_test)"
      ],
      "id": "FO10jkybwH7y",
      "execution_count": 3,
      "outputs": []
    },
    {
      "cell_type": "code",
      "metadata": {
        "id": "LYl9juIMwHyM",
        "outputId": "a57ee37d-bd78-4b02-e00f-92c215aa7b49",
        "colab": {
          "base_uri": "https://localhost:8080/"
        }
      },
      "source": [
        "# 체점용 코드\n",
        "mse = mean_squared_error(y_train, y_train_predict)\n",
        "\n",
        "print(\"training set에서 성능\")\n",
        "print(\"-----------------------\")\n",
        "print(f'오차: {sqrt(mse)}')\n",
        "\n",
        "mse = mean_squared_error(y_test, y_test_predict)\n",
        "\n",
        "print(\"testing set에서 성능\")\n",
        "print(\"-----------------------\")\n",
        "print(f'오차: {sqrt(mse)}')"
      ],
      "id": "LYl9juIMwHyM",
      "execution_count": 4,
      "outputs": [
        {
          "output_type": "stream",
          "text": [
            "training set에서 성능\n",
            "-----------------------\n",
            "오차: 4561.665097523848\n",
            "testing set에서 성능\n",
            "-----------------------\n",
            "오차: 4692.427560339835\n"
          ],
          "name": "stdout"
        }
      ]
    }
  ]
}