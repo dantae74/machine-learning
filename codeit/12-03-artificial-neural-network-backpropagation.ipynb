{
  "nbformat": 4,
  "nbformat_minor": 5,
  "metadata": {
    "colab": {
      "name": "Untitled.ipynb",
      "provenance": [],
      "include_colab_link": true
    },
    "language_info": {
      "name": "python"
    },
    "kernelspec": {
      "name": "python3",
      "display_name": "Python 3"
    },
    "accelerator": "TPU"
  },
  "cells": [
    {
      "cell_type": "markdown",
      "metadata": {
        "id": "view-in-github",
        "colab_type": "text"
      },
      "source": [
        "<a href=\"https://colab.research.google.com/github/dantae74/machine-learning/blob/main/codeit/12-03-artificial-neural-network-backpropagation.ipynb\" target=\"_parent\"><img src=\"https://colab.research.google.com/assets/colab-badge.svg\" alt=\"Open In Colab\"/></a>"
      ]
    },
    {
      "cell_type": "markdown",
      "metadata": {
        "id": "WfgQSbgOoe-2"
      },
      "source": [
        "# Artificial neural network - Backpropagation"
      ],
      "id": "WfgQSbgOoe-2"
    },
    {
      "cell_type": "code",
      "metadata": {
        "id": "RK3QTbWDofS7"
      },
      "source": [
        "# 인공 신경망 구현에 사용할 라이브러리 임포트\n",
        "import numpy as np\n",
        "import pandas as pd\n",
        "import matplotlib.pyplot as plt"
      ],
      "id": "RK3QTbWDofS7",
      "execution_count": null,
      "outputs": []
    },
    {
      "cell_type": "code",
      "metadata": {
        "id": "30dxHmEPog-b"
      },
      "source": [
        "# numpy 임의성 조절\n",
        "np.random.seed(42)"
      ],
      "id": "30dxHmEPog-b",
      "execution_count": null,
      "outputs": []
    },
    {
      "cell_type": "code",
      "metadata": {
        "id": "q8Y8Vp0jHd8Y"
      },
      "source": [
        "# 데이터 셋 가지고 오기\n",
        "dataset = pd.read_csv('https://raw.githubusercontent.com/dantae74/machine-learning/main/codeit/datasets/MNIST_preprocessed.csv', sep=',', header=None).values"
      ],
      "id": "q8Y8Vp0jHd8Y",
      "execution_count": null,
      "outputs": []
    },
    {
      "cell_type": "code",
      "metadata": {
        "id": "JhYqaI3wHgWf"
      },
      "source": [
        "# 입력, 목표 변수 데이터 셋 나누기\n",
        "X = dataset[:, 0:784]\n",
        "Y = dataset[:, 784:]"
      ],
      "id": "JhYqaI3wHgWf",
      "execution_count": null,
      "outputs": []
    },
    {
      "cell_type": "code",
      "metadata": {
        "id": "42pjIRNBHjaP"
      },
      "source": [
        "# training, testing 데이터 셋 나누기\n",
        "# X_train, X_test = X[0:250,], X[250:,]\n",
        "# Y_train, Y_test = Y[0:250,], Y[250:,]\n",
        "\n",
        "X_train, X_test = X, X\n",
        "Y_train, Y_test = Y, Y"
      ],
      "id": "42pjIRNBHjaP",
      "execution_count": null,
      "outputs": []
    },
    {
      "cell_type": "code",
      "metadata": {
        "id": "NCvRJOPMHpJ2"
      },
      "source": [
        "def sigmoid(x):\n",
        "    \"\"\"시그모이드 함수\"\"\"\n",
        "    return 1/(1 + np.exp(-x))"
      ],
      "id": "NCvRJOPMHpJ2",
      "execution_count": null,
      "outputs": []
    },
    {
      "cell_type": "code",
      "metadata": {
        "id": "wxPQjzijHrRG"
      },
      "source": [
        "def d_sigmoid(x):\n",
        "    \"\"\"시그모이드 미분 함수\"\"\"\n",
        "    return (np.exp(-x))/((np.exp(-x)+1)**2)"
      ],
      "id": "wxPQjzijHrRG",
      "execution_count": null,
      "outputs": []
    },
    {
      "cell_type": "code",
      "metadata": {
        "id": "2VMVRqeqHxHP"
      },
      "source": [
        "def initialize_parameters(neurons_per_layer):\n",
        "    \"\"\"신경망의 가중치와 편향을 초기화해주는 함수\"\"\"\n",
        "    L = len(neurons_per_layer) - 1  # 입력층을 포함함 층 개수 저장\n",
        "    parameters = {}\n",
        "\n",
        "    # 1층 부터 L 층까지 돌면서 가중치와 편향 초기화\n",
        "    for l in range(1, L+1):\n",
        "        parameters['W' + str(l)] = np.random.randn(neurons_per_layer[l], neurons_per_layer[l-1]) * np.sqrt(1. / neurons_per_layer[l])\n",
        "        parameters['b' + str(l)] = np.random.randn(neurons_per_layer[l]) * np.sqrt(1. / neurons_per_layer[l])\n",
        "        \n",
        "    return parameters"
      ],
      "id": "2VMVRqeqHxHP",
      "execution_count": null,
      "outputs": []
    },
    {
      "cell_type": "code",
      "metadata": {
        "id": "ixVHEgryH0d-"
      },
      "source": [
        "def feed_forward(x, parameters):\n",
        "    \"\"\"순전파 함수\"\"\"\n",
        "    cache = {'a0': x}\n",
        "    L = len(parameters) // 2\n",
        "    \n",
        "    for l in range(1, L+1):\n",
        "        # 전 층 뉴런의 출력, 현재 층 뉴런들의 가중치, 편향 데이터를 가지고 온다.\n",
        "        a_prev = cache['a' + str(l-1)]\n",
        "        W = parameters['W' + str(l)]\n",
        "        b = parameters['b' + str(l)]\n",
        "        \n",
        "        # 데이터로 z와 a를 계산한다.\n",
        "        z = W @ a_prev + b\n",
        "        a = sigmoid(z)\n",
        "\n",
        "        # 결과 값을 캐쉬에 저장한다.\n",
        "        cache['z' + str(l)] = z\n",
        "        cache['a' + str(l)] = a\n",
        "                \n",
        "    return a, cache"
      ],
      "id": "ixVHEgryH0d-",
      "execution_count": null,
      "outputs": []
    },
    {
      "cell_type": "code",
      "metadata": {
        "id": "_WLne55HIBFF"
      },
      "source": [
        "def back_prop(prediction, y, cache, parameters):\n",
        "    \"\"\"역전파 함수\"\"\"\n",
        "    gradients = {}\n",
        "    L = len(cache) // 2\n",
        "    da = (prediction - y) / y.shape[0]\n",
        "    \n",
        "    for layer in range(L, 0, -1):\n",
        "        # 역전파 행렬 연산을 사용해서 각 요소에 대한 편미분 계산\n",
        "        # 코드를 쓰세요\n",
        "        db = d_sigmoid(cache['z'+str(layer)]) * cache['a'+str(layer)]\n",
        "        dW = np.outer(db, cache['a'+str(layer-1)])\n",
        "        \n",
        "        # 계산한 편미분 값들을 저장\n",
        "        gradients['dW' + str(layer)] = dW\n",
        "        gradients['db' + str(layer)] = db\n",
        "    \n",
        "    # 계산한 편미분 값들 리턴\n",
        "    return gradients"
      ],
      "id": "_WLne55HIBFF",
      "execution_count": null,
      "outputs": []
    },
    {
      "cell_type": "code",
      "metadata": {
        "id": "AcIScGhBKJw6"
      },
      "source": [
        "def compute_accuracy(x_val, y_val, parameters):\n",
        "    \"\"\"테스트 데이터에서 예측값들의 성능을 계산하는 함수\"\"\"\n",
        "    predictions = []\n",
        "\n",
        "    for x, y in zip(x_val, y_val):\n",
        "        output, _ = feed_forward(x, parameters)\n",
        "        pred = np.argmax(output)\n",
        "        predictions.append(pred == np.argmax(y))\n",
        "\n",
        "    return np.mean(predictions)"
      ],
      "id": "AcIScGhBKJw6",
      "execution_count": null,
      "outputs": []
    },
    {
      "cell_type": "code",
      "metadata": {
        "id": "9CQAOUF6KJmb"
      },
      "source": [
        "def compute_loss(x_val, y_val, parameters):\n",
        "    \"\"\"학습 데이터에서 현재 모델의 손실을 계산하는 함수\"\"\"\n",
        "    loss = 0\n",
        "    \n",
        "    for x, y in zip(x_val, y_val):\n",
        "        output, _ = feed_forward(x, parameters)\n",
        "        loss += np.mean((output - y)**2) / 2\n",
        "        \n",
        "    return loss / len(x_val)"
      ],
      "id": "9CQAOUF6KJmb",
      "execution_count": null,
      "outputs": []
    },
    {
      "cell_type": "code",
      "metadata": {
        "id": "Rvm1V6vIKNM7"
      },
      "source": [
        "def update(parameters, gradients, alpha, m):\n",
        "    \"\"\"계산한 경사로 가중치와 편향을 업데이트 하는 함수\"\"\"\n",
        "    L = len(parameters) // 2\n",
        "    \n",
        "    for layer in range(1, L+1):\n",
        "        parameters['W'+str(layer)] -= alpha * gradients['dW'+str(layer)] / m\n",
        "        parameters['b'+str(layer)] -= alpha * gradients['db'+str(layer)] / m\n",
        "    \n",
        "    return parameters\n"
      ],
      "id": "Rvm1V6vIKNM7",
      "execution_count": null,
      "outputs": []
    },
    {
      "cell_type": "code",
      "metadata": {
        "id": "mRvdZs6RKRjS"
      },
      "source": [
        "def train_nn(X_train, Y_train, X_test, Y_test, neurons_per_layer, epoch, alpha):\n",
        "    \"\"\"신경망을 학습시키는 함수\"\"\"\n",
        "    parameters = initialize_parameters(neurons_per_layer)\n",
        "    loss_list = []\n",
        "    m = X_train.shape[0]\n",
        "    \n",
        "    # epoch 번 경사 하강을 한다\n",
        "    for i in range(epoch):\n",
        "        parameters_copy = parameters.copy()\n",
        "        \n",
        "        # 모든 이미지에 대해서 경사 계산 후 평균 계산\n",
        "        for x, y in zip(X_train, Y_train):\n",
        "            prediction, cache = feed_forward(x, parameters)\n",
        "            gradients = back_prop(prediction, y, cache, parameters)\n",
        "            parameters_copy = update(parameters_copy, gradients, alpha, m)\n",
        "        \n",
        "        # 가중치와 편향 실제로 업데이트\n",
        "        parameters = parameters_copy\n",
        "        loss_list.append(compute_loss(X_train, Y_train, parameters))\n",
        "        print('{}번째 경사 하강, 테스트 셋에서 성능: {}'.format(i+1, round(compute_accuracy(X_test, Y_test, parameters), 2)))     \n",
        "            \n",
        "    return loss_list, parameters"
      ],
      "id": "mRvdZs6RKRjS",
      "execution_count": null,
      "outputs": []
    },
    {
      "cell_type": "code",
      "metadata": {
        "id": "Fgfnn3ZlKUDh"
      },
      "source": [
        "\"\"\"디버깅을 위한 시각화 코드(쥬피터를 사용하시면 실행 코드 가장 아래줄에 넣어주세요!)\n",
        "plt.plot(loss_list)\n",
        "plt.show()\n",
        "\"\"\""
      ],
      "id": "Fgfnn3ZlKUDh",
      "execution_count": null,
      "outputs": []
    },
    {
      "cell_type": "code",
      "metadata": {
        "id": "-SQn9A7UKWV7"
      },
      "source": [
        "# 실행 코드\n",
        "neurons_per_layer = [784, 128, 64, 10]\n",
        "parameters = initialize_parameters(neurons_per_layer)\n",
        "\n",
        "loss_list, parameters = train_nn(X_train, Y_train, X_test, Y_test, neurons_per_layer, 25, 300)"
      ],
      "id": "-SQn9A7UKWV7",
      "execution_count": null,
      "outputs": []
    },
    {
      "cell_type": "code",
      "metadata": {
        "id": "9i21r6yjKYf5"
      },
      "source": [
        ""
      ],
      "id": "9i21r6yjKYf5",
      "execution_count": null,
      "outputs": []
    }
  ]
}