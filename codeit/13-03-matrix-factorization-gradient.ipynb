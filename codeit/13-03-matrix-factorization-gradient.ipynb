{
  "nbformat": 4,
  "nbformat_minor": 5,
  "metadata": {
    "colab": {
      "name": "13-03-matrix-factorization-gradient.ipynb",
      "provenance": [],
      "include_colab_link": true
    },
    "language_info": {
      "name": "python"
    },
    "kernelspec": {
      "name": "python3",
      "display_name": "Python 3"
    }
  },
  "cells": [
    {
      "cell_type": "markdown",
      "metadata": {
        "id": "view-in-github",
        "colab_type": "text"
      },
      "source": [
        "<a href=\"https://colab.research.google.com/github/dantae74/machine-learning/blob/main/codeit/13-03-matrix-factorization-gradient.ipynb\" target=\"_parent\"><img src=\"https://colab.research.google.com/assets/colab-badge.svg\" alt=\"Open In Colab\"/></a>"
      ]
    },
    {
      "cell_type": "markdown",
      "metadata": {
        "id": "WfgQSbgOoe-2"
      },
      "source": [
        "# 행령 인수분해 경사 하강법 구현"
      ],
      "id": "WfgQSbgOoe-2"
    },
    {
      "cell_type": "code",
      "metadata": {
        "id": "RK3QTbWDofS7"
      },
      "source": [
        "import numpy as np\n",
        "import pandas as pd\n",
        "import matplotlib.pyplot as plt"
      ],
      "id": "RK3QTbWDofS7",
      "execution_count": null,
      "outputs": []
    },
    {
      "cell_type": "code",
      "metadata": {
        "id": "30dxHmEPog-b"
      },
      "source": [
        "# 체점을 위해 임의성을 사용하는 numpy 도구들의 결과가 일정하게 나오도록 해준다\n",
        "np.random.seed(5)\n",
        "RATING_DATA_PATH = 'https://raw.githubusercontent.com/dantae74/machine-learning/main/codeit/datasets/ratings.csv'  # 데이터 파일 경로 정의\n",
        "# numpy 출력 옵션 설정\n",
        "np.set_printoptions(precision=2)\n",
        "np.set_printoptions(suppress=True)"
      ],
      "id": "30dxHmEPog-b",
      "execution_count": null,
      "outputs": []
    },
    {
      "cell_type": "code",
      "metadata": {
        "id": "gz3f6FzX-S6q"
      },
      "source": [
        "def predict(Theta, X):\n",
        "    \"\"\"유저 취향과 상품 속성을 곱해서 예측 값을 계산하는 함수\"\"\"\n",
        "    return Theta @ X\n",
        "\n",
        "\n",
        "def cost(prediction, R):\n",
        "    \"\"\"행렬 인수분해 알고리즘의 손실을 계산해주는 함수\"\"\"\n",
        "    return np.nansum((prediction - R)**2)\n",
        "\n",
        "\n",
        "def initialize(R, num_features):\n",
        "    \"\"\"임의로 유저 취향과 상품 속성 행렬들을 만들어주는 함수\"\"\"\n",
        "    num_users, num_items = R.shape\n",
        "    \n",
        "    Theta = np.random.rand(num_users, num_features)\n",
        "    X = np.random.rand(num_features, num_items)\n",
        "    \n",
        "    return Theta, X"
      ],
      "id": "gz3f6FzX-S6q",
      "execution_count": null,
      "outputs": []
    },
    {
      "cell_type": "code",
      "metadata": {
        "id": "Sq-M1fsY-Oaq"
      },
      "source": [
        "\n",
        "\n",
        "\n",
        "def gradient_descent(R, Theta, X, iteration, alpha, lambda_):\n",
        "    \"\"\"행렬 인수분해 경사 하강 함수\"\"\"\n",
        "    num_user, num_items = R.shape\n",
        "    num_features = len(X)\n",
        "    costs = []\n",
        "        \n",
        "    for _ in range(iteration):\n",
        "        prediction = predict(Theta, X)\n",
        "        error = prediction - R\n",
        "        costs.append(cost(prediction, R))\n",
        "                          \n",
        "        for i in range(num_user):\n",
        "            for j in range(num_items):\n",
        "                if not np.isnan(R[i][j]):\n",
        "                    for k in range(num_features):\n",
        "                        # 아래 코드를 채워 넣으세요.\n",
        "                        Theta[i][k] -= \n",
        "                        X[k][j] -= \n",
        "                        \n",
        "    return Theta, X, costs\n",
        "\n",
        "\n",
        "#----------------------실행(채점) 코드----------------------\n",
        "# 평점 데이터를 가지고 온다\n",
        "ratings_df = pd.read_csv(RATING_DATA_PATH, index_col='user_id')\n",
        "\n",
        "# 평점 데이터에 mean normalization을 적용한다\n",
        "for row in ratings_df.values:\n",
        "    row -= np.nanmean(row)\n",
        "       \n",
        "R = ratings_df.values\n",
        "        \n",
        "Theta, X = initialize(R, 5)  # 행렬들 초기화\n",
        "Theta, X, costs = gradient_descent(R, Theta, X, 200, 0.001, 0.01)  # 경사 하강\n",
        "    \n",
        "# 손실이 줄어드는 걸 시각화 하는 코드 (디버깅에 도움이 됨)\n",
        "# plt.plot(costs)\n",
        "\n",
        "Theta, X"
      ],
      "id": "Sq-M1fsY-Oaq",
      "execution_count": null,
      "outputs": []
    }
  ]
}
