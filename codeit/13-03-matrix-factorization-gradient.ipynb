{
  "nbformat": 4,
  "nbformat_minor": 5,
  "metadata": {
    "colab": {
      "name": "13-03-matrix-factorization-gradient.ipynb",
      "provenance": [],
      "include_colab_link": true
    },
    "language_info": {
      "name": "python"
    },
    "kernelspec": {
      "name": "python3",
      "display_name": "Python 3"
    }
  },
  "cells": [
    {
      "cell_type": "markdown",
      "metadata": {
        "id": "view-in-github",
        "colab_type": "text"
      },
      "source": [
        "<a href=\"https://colab.research.google.com/github/dantae74/machine-learning/blob/main/codeit/13-03-matrix-factorization-gradient.ipynb\" target=\"_parent\"><img src=\"https://colab.research.google.com/assets/colab-badge.svg\" alt=\"Open In Colab\"/></a>"
      ]
    },
    {
      "cell_type": "markdown",
      "metadata": {
        "id": "WfgQSbgOoe-2"
      },
      "source": [
        "# 행령 인수분해 경사 하강법 구현"
      ],
      "id": "WfgQSbgOoe-2"
    },
    {
      "cell_type": "code",
      "metadata": {
        "id": "RK3QTbWDofS7"
      },
      "source": [
        "import numpy as np\n",
        "import pandas as pd\n",
        "import matplotlib.pyplot as plt"
      ],
      "id": "RK3QTbWDofS7",
      "execution_count": null,
      "outputs": []
    },
    {
      "cell_type": "code",
      "metadata": {
        "id": "30dxHmEPog-b"
      },
      "source": [
        "# 체점을 위해 임의성을 사용하는 numpy 도구들의 결과가 일정하게 나오도록 해준다\n",
        "np.random.seed(5)\n",
        "RATING_DATA_PATH = 'https://raw.githubusercontent.com/dantae74/machine-learning/main/codeit/datasets/ratings.csv'  # 데이터 파일 경로 정의\n",
        "# numpy 출력 옵션 설정\n",
        "np.set_printoptions(precision=2)\n",
        "np.set_printoptions(suppress=True)"
      ],
      "id": "30dxHmEPog-b",
      "execution_count": null,
      "outputs": []
    },
    {
      "cell_type": "code",
      "metadata": {
        "id": "gz3f6FzX-S6q"
      },
      "source": [
        "def predict(Theta, X):\n",
        "    \"\"\"유저 취향과 상품 속성을 곱해서 예측 값을 계산하는 함수\"\"\"\n",
        "    return Theta @ X\n",
        "\n",
        "\n",
        "def cost(prediction, R):\n",
        "    \"\"\"행렬 인수분해 알고리즘의 손실을 계산해주는 함수\"\"\"\n",
        "    return np.nansum((prediction - R)**2)\n",
        "\n",
        "\n",
        "def initialize(R, num_features):\n",
        "    \"\"\"임의로 유저 취향과 상품 속성 행렬들을 만들어주는 함수\"\"\"\n",
        "    num_users, num_items = R.shape\n",
        "    \n",
        "    Theta = np.random.rand(num_users, num_features)\n",
        "    X = np.random.rand(num_features, num_items)\n",
        "    \n",
        "    return Theta, X"
      ],
      "id": "gz3f6FzX-S6q",
      "execution_count": null,
      "outputs": []
    },
    {
      "cell_type": "code",
      "metadata": {
        "id": "Sq-M1fsY-Oaq"
      },
      "source": [
        "def gradient_descent(R, Theta, X, iteration, alpha, lambda_):\n",
        "    \"\"\"행렬 인수분해 경사 하강 함수\"\"\"\n",
        "    num_user, num_items = R.shape\n",
        "    num_features = len(X)\n",
        "    costs = []\n",
        "        \n",
        "    for _ in range(iteration):\n",
        "        prediction = predict(Theta, X)\n",
        "        error = prediction - R\n",
        "        costs.append(cost(prediction, R))\n",
        "                          \n",
        "        for i in range(num_user):\n",
        "            for j in range(num_items):\n",
        "                if not np.isnan(R[i][j]):\n",
        "                    for k in range(num_features):\n",
        "                        # 아래 코드를 채워 넣으세요.\n",
        "                        Theta[i][k] -= alpha * (np.nansum(error[i, :]*X[k, :]) + lambda_*Theta[i][k])\n",
        "                        X[k][j] -= alpha * (np.nansum(error[:, j]*Theta[:, k]) + lambda_*X[k][j])\n",
        "                        \n",
        "    return Theta, X, costs"
      ],
      "id": "Sq-M1fsY-Oaq",
      "execution_count": 27,
      "outputs": []
    },
    {
      "cell_type": "code",
      "metadata": {
        "id": "Uv1Jksg9_cHJ",
        "outputId": "94ce700d-0b57-4684-e5ed-82a0bfbc7590",
        "colab": {
          "base_uri": "https://localhost:8080/",
          "height": 854
        }
      },
      "source": [
        "#----------------------실행(채점) 코드----------------------\n",
        "# 평점 데이터를 가지고 온다\n",
        "ratings_df = pd.read_csv(RATING_DATA_PATH, index_col='user_id')\n",
        "\n",
        "# 평점 데이터에 mean normalization을 적용한다\n",
        "for row in ratings_df.values:\n",
        "    row -= np.nanmean(row)\n",
        "       \n",
        "R = ratings_df.values\n",
        "        \n",
        "Theta, X = initialize(R, 5)  # 행렬들 초기화\n",
        "Theta, X, costs = gradient_descent(R, Theta, X, 200, 0.001, 0.01)  # 경사 하강\n",
        "    \n",
        "# 손실이 줄어드는 걸 시각화 하는 코드 (디버깅에 도움이 됨)\n",
        "plt.plot(costs)\n",
        "\n",
        "Theta, X"
      ],
      "id": "Uv1Jksg9_cHJ",
      "execution_count": 29,
      "outputs": [
        {
          "output_type": "execute_result",
          "data": {
            "text/plain": [
              "(array([[-0.32, -0.49,  0.17,  0.44, -1.54],\n",
              "        [-0.15,  0.84,  1.4 ,  0.56,  0.21],\n",
              "        [ 0.66,  0.32,  1.33,  0.23,  0.18],\n",
              "        [-0.68, -0.86, -0.38, -0.06, -0.38],\n",
              "        [-0.14, -0.41, -0.52, -0.21,  1.48],\n",
              "        [-0.15,  1.31,  0.72, -0.05,  0.96],\n",
              "        [ 0.86,  0.49, -0.81,  0.71, -0.25],\n",
              "        [ 0.76,  1.31, -0.27, -0.62,  0.63],\n",
              "        [ 0.44,  0.61,  1.05, -1.13, -0.55],\n",
              "        [-0.62,  0.28,  0.93, -0.27,  0.36],\n",
              "        [ 0.73, -0.54, -0.16, -0.03,  0.51],\n",
              "        [-0.53,  0.77, -0.73,  1.68, -0.11],\n",
              "        [-0.27, -0.39,  0.4 ,  1.16, -0.1 ],\n",
              "        [ 1.06, -0.9 ,  0.92,  0.08,  0.35],\n",
              "        [-0.75,  0.73, -0.29,  0.67,  1.16],\n",
              "        [ 0.26,  0.42, -0.03,  0.39,  1.24],\n",
              "        [ 0.79, -0.17, -0.87, -0.9 ,  0.87],\n",
              "        [ 1.23,  0.83, -0.67, -0.71, -1.6 ],\n",
              "        [-0.92,  1.  ,  0.44, -1.2 ,  0.04],\n",
              "        [ 1.48,  0.61, -0.1 , -0.18, -0.7 ]]),\n",
              " array([[-0.43,  0.47, -2.22,  0.62,  1.22,  0.29, -0.47, -0.56, -0.89,\n",
              "         -0.12,  0.08,  1.29,  1.12, -0.85,  0.18,  0.85, -0.32,  0.88,\n",
              "         -0.33, -0.  ],\n",
              "        [ 0.41,  1.14, -0.06,  0.26,  0.79,  1.63, -0.36,  0.87, -0.12,\n",
              "         -1.15, -0.71,  0.61, -0.52,  0.52, -1.54,  0.01, -0.19,  0.37,\n",
              "          0.54,  0.58],\n",
              "        [-0.91, -1.  , -0.47, -0.47,  0.59,  0.16,  1.26,  0.93, -1.2 ,\n",
              "          0.16,  0.37,  0.44, -0.64,  0.36, -0.3 , -0.51,  0.  ,  0.83,\n",
              "          1.95,  1.29],\n",
              "        [-0.74, -0.42,  0.38,  1.01,  1.  ,  0.69,  0.25,  0.2 ,  0.45,\n",
              "          0.65,  1.21, -0.72, -0.49, -1.41, -0.61,  0.55,  0.98,  0.05,\n",
              "          1.19, -1.19],\n",
              "        [ 0.19, -0.44, -0.19,  1.4 ,  0.14, -0.3 , -0.58,  0.25, -1.36,\n",
              "          0.41, -0.16,  0.88, -1.36,  0.8 ,  0.07,  0.79,  0.5 , -1.54,\n",
              "          1.27, -0.22]]))"
            ]
          },
          "metadata": {},
          "execution_count": 29
        },
        {
          "output_type": "display_data",
          "data": {
            "image/png": "[encoded data removed]",
            "text/plain": [
              "<Figure size 432x288 with 1 Axes>"
            ]
          },
          "metadata": {
            "needs_background": "light"
          }
        }
      ]
    },
    {
      "cell_type": "code",
      "metadata": {
        "id": "Yz7CUh7iY4R8"
      },
      "source": [
        ""
      ],
      "id": "Yz7CUh7iY4R8",
      "execution_count": null,
      "outputs": []
    }
  ]
}