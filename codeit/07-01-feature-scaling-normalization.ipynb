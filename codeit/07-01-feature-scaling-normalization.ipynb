{
  "nbformat": 4,
  "nbformat_minor": 5,
  "metadata": {
    "colab": {
      "name": "07-01-feature-scaling-normalization.ipynb",
      "provenance": [],
      "include_colab_link": true
    },
    "language_info": {
      "name": "python"
    },
    "kernelspec": {
      "name": "python3",
      "display_name": "Python 3"
    }
  },
  "cells": [
    {
      "cell_type": "markdown",
      "metadata": {
        "id": "view-in-github",
        "colab_type": "text"
      },
      "source": [
        "<a href=\"https://colab.research.google.com/github/dantae74/machine-learning/blob/main/codeit/07-01-feature-scaling-normalization.ipynb\" target=\"_parent\"><img src=\"https://colab.research.google.com/assets/colab-badge.svg\" alt=\"Open In Colab\"/></a>"
      ]
    },
    {
      "cell_type": "markdown",
      "metadata": {
        "id": "WfgQSbgOoe-2"
      },
      "source": [
        "# Feature Scaling - MinMaxNormalization"
      ],
      "id": "WfgQSbgOoe-2"
    },
    {
      "cell_type": "code",
      "metadata": {
        "id": "RK3QTbWDofS7"
      },
      "source": [
        "from sklearn import preprocessing\n",
        "import pandas as pd"
      ],
      "id": "RK3QTbWDofS7",
      "execution_count": 3,
      "outputs": []
    },
    {
      "cell_type": "code",
      "metadata": {
        "id": "30dxHmEPog-b"
      },
      "source": [
        "# 필요한 도구 임포트\n",
        "PATIENT_FILE_PATH = './datasets/liver_patient_data.csv'\n",
        "pd.set_option('display.float_format', lambda x: '%.5f' % x)\n",
        "\n",
        "# 데이터 파일을 pandas dataframe으로 가지고 온다\n",
        "liver_patients_df = pd.read_csv(PATIENT_FILE_PATH)\n",
        "\n",
        "# Normalization할 열 이름들\n",
        "features_to_normalize = ['Total_Bilirubin','Direct_Bilirubin', 'Alkaline_Phosphotase', 'Alamine_Aminotransferase']\n",
        "\n",
        "# normalization\n",
        "scaler = preprocessing.MinMaxScaler()\n",
        "normalized_data = scaler.fit_transform(liver_patients_df[features_to_normalize])\n",
        "normalized_df = pd.DataFrame(normalized_data, columns=features_to_normalize)\n",
        "\n",
        "\n",
        "# 체점용 코드\n",
        "normalized_df.describe()"
      ],
      "id": "30dxHmEPog-b",
      "execution_count": null,
      "outputs": []
    },
    {
      "cell_type": "code",
      "metadata": {
        "id": "J9OIKElvPtmP"
      },
      "source": [
        ""
      ],
      "id": "J9OIKElvPtmP",
      "execution_count": null,
      "outputs": []
    }
  ]
}
