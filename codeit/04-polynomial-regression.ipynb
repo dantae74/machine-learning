{
  "nbformat": 4,
  "nbformat_minor": 5,
  "metadata": {
    "colab": {
      "name": "Untitled.ipynb",
      "provenance": [],
      "include_colab_link": true
    },
    "language_info": {
      "name": "python"
    },
    "kernelspec": {
      "name": "python3",
      "display_name": "Python 3"
    }
  },
  "cells": [
    {
      "cell_type": "markdown",
      "metadata": {
        "id": "view-in-github",
        "colab_type": "text"
      },
      "source": [
        "<a href=\"https://colab.research.google.com/github/dantae74/machine-learning/blob/main/codeit/04-polynomial-regression.ipynb\" target=\"_parent\"><img src=\"https://colab.research.google.com/assets/colab-badge.svg\" alt=\"Open In Colab\"/></a>"
      ]
    },
    {
      "cell_type": "markdown",
      "metadata": {
        "id": "WfgQSbgOoe-2"
      },
      "source": [
        "# Polynomial regression"
      ],
      "id": "WfgQSbgOoe-2"
    },
    {
      "cell_type": "code",
      "metadata": {
        "id": "RK3QTbWDofS7"
      },
      "source": [
        "from sklearn.datasets import load_boston\n",
        "from sklearn.preprocessing import PolynomialFeatures\n",
        "from sklearn.model_selection import train_test_split\n",
        "from sklearn.linear_model import LinearRegression\n",
        "from sklearn.metrics import mean_squared_error\n",
        "\n",
        "import pandas as pd"
      ],
      "id": "RK3QTbWDofS7",
      "execution_count": null,
      "outputs": []
    },
    {
      "cell_type": "code",
      "metadata": {
        "id": "30dxHmEPog-b"
      },
      "source": [
        "boston_dataset = load_boston()"
      ],
      "id": "30dxHmEPog-b",
      "execution_count": null,
      "outputs": []
    },
    {
      "cell_type": "code",
      "metadata": {
        "id": "XM5rSmLbYceH"
      },
      "source": [
        "boston_dataset.data"
      ],
      "id": "XM5rSmLbYceH",
      "execution_count": null,
      "outputs": []
    },
    {
      "cell_type": "code",
      "metadata": {
        "id": "GbKm9TROYehO"
      },
      "source": [
        "boston_dataset.feature_names"
      ],
      "id": "GbKm9TROYehO",
      "execution_count": null,
      "outputs": []
    },
    {
      "cell_type": "code",
      "metadata": {
        "id": "KDuuw219YlNe"
      },
      "source": [
        "boston_dataset.data.shape"
      ],
      "id": "KDuuw219YlNe",
      "execution_count": null,
      "outputs": []
    },
    {
      "cell_type": "code",
      "metadata": {
        "id": "_o7SWirlYoXF"
      },
      "source": [
        "polynomial_transformer = PolynomialFeatures(2)"
      ],
      "id": "_o7SWirlYoXF",
      "execution_count": null,
      "outputs": []
    },
    {
      "cell_type": "code",
      "metadata": {
        "id": "ocuIa7tOY_L1"
      },
      "source": [
        "polynomial_data = polynomial_transformer.fit_transform(boston_dataset.data)"
      ],
      "id": "ocuIa7tOY_L1",
      "execution_count": null,
      "outputs": []
    },
    {
      "cell_type": "code",
      "metadata": {
        "id": "iGzDABY_ZKU0"
      },
      "source": [
        "polynomial_data"
      ],
      "id": "iGzDABY_ZKU0",
      "execution_count": null,
      "outputs": []
    },
    {
      "cell_type": "code",
      "metadata": {
        "id": "PqpdrqZeZPnc"
      },
      "source": [
        "polynomial_data.shape"
      ],
      "id": "PqpdrqZeZPnc",
      "execution_count": null,
      "outputs": []
    },
    {
      "cell_type": "code",
      "metadata": {
        "id": "Z8xrxmJvZUWM"
      },
      "source": [
        "polynomial_feature_names = polynomial_transformer.get_feature_names(boston_dataset.feature_names)"
      ],
      "id": "Z8xrxmJvZUWM",
      "execution_count": null,
      "outputs": []
    },
    {
      "cell_type": "code",
      "metadata": {
        "id": "FYZu1RDeZkK0"
      },
      "source": [
        "polynomial_feature_names"
      ],
      "id": "FYZu1RDeZkK0",
      "execution_count": null,
      "outputs": []
    },
    {
      "cell_type": "code",
      "metadata": {
        "id": "LjQJQgR5ZmC2"
      },
      "source": [
        "X = pd.DataFrame(polynomial_data, columns = polynomial_feature_names)"
      ],
      "id": "LjQJQgR5ZmC2",
      "execution_count": null,
      "outputs": []
    },
    {
      "cell_type": "code",
      "metadata": {
        "id": "WiA575_MZ-kU"
      },
      "source": [
        "X"
      ],
      "id": "WiA575_MZ-kU",
      "execution_count": null,
      "outputs": []
    },
    {
      "cell_type": "code",
      "metadata": {
        "id": "Rjn_7FigaCY8"
      },
      "source": [
        "y = pd.DataFrame(boston_dataset.target, columns=['MEDV'])"
      ],
      "id": "Rjn_7FigaCY8",
      "execution_count": null,
      "outputs": []
    },
    {
      "cell_type": "code",
      "metadata": {
        "id": "1wagjWeOasmD"
      },
      "source": [
        "y"
      ],
      "id": "1wagjWeOasmD",
      "execution_count": null,
      "outputs": []
    },
    {
      "cell_type": "code",
      "metadata": {
        "id": "H5Ws-U2uatOr"
      },
      "source": [
        "x_train, x_test, y_train, y_test = train_test_split(X, y, test_size=0.2, random_state=5)"
      ],
      "id": "H5Ws-U2uatOr",
      "execution_count": null,
      "outputs": []
    },
    {
      "cell_type": "code",
      "metadata": {
        "id": "lTrfF_sya8GD"
      },
      "source": [
        "model = LinearRegression()"
      ],
      "id": "lTrfF_sya8GD",
      "execution_count": null,
      "outputs": []
    },
    {
      "cell_type": "code",
      "metadata": {
        "id": "hSrIZ4czbIHV"
      },
      "source": [
        "model.fit(x_train, y_train)"
      ],
      "id": "hSrIZ4czbIHV",
      "execution_count": null,
      "outputs": []
    },
    {
      "cell_type": "code",
      "metadata": {
        "id": "NvBZkiuvbK4y"
      },
      "source": [
        "model.coef_"
      ],
      "id": "NvBZkiuvbK4y",
      "execution_count": null,
      "outputs": []
    },
    {
      "cell_type": "code",
      "metadata": {
        "id": "qWy9ueYLbNHp"
      },
      "source": [
        "model.intercept_"
      ],
      "id": "qWy9ueYLbNHp",
      "execution_count": null,
      "outputs": []
    },
    {
      "cell_type": "code",
      "metadata": {
        "id": "1ncXeTfDbRB6"
      },
      "source": [
        "y_test_prediction = model.predict(x_test)"
      ],
      "id": "1ncXeTfDbRB6",
      "execution_count": null,
      "outputs": []
    },
    {
      "cell_type": "code",
      "metadata": {
        "id": "RArnSHbxbXG5"
      },
      "source": [
        "mean_squared_error(y_test, y_test_prediction) ** 0.5"
      ],
      "id": "RArnSHbxbXG5",
      "execution_count": null,
      "outputs": []
    },
    {
      "cell_type": "code",
      "metadata": {
        "id": "ebTgzw9ebhDw"
      },
      "source": [
        ""
      ],
      "id": "ebTgzw9ebhDw",
      "execution_count": null,
      "outputs": []
    }
  ]
}