{
  "nbformat": 4,
  "nbformat_minor": 5,
  "metadata": {
    "colab": {
      "name": "Untitled.ipynb",
      "provenance": [],
      "include_colab_link": true
    },
    "language_info": {
      "name": "python"
    },
    "kernelspec": {
      "name": "python3",
      "display_name": "Python 3"
    }
  },
  "cells": [
    {
      "cell_type": "markdown",
      "metadata": {
        "id": "view-in-github",
        "colab_type": "text"
      },
      "source": [
        "<a href=\"https://colab.research.google.com/github/dantae74/machine-learning/blob/main/codeit/03-multiple-linear-regression.ipynb\" target=\"_parent\"><img src=\"https://colab.research.google.com/assets/colab-badge.svg\" alt=\"Open In Colab\"/></a>"
      ]
    },
    {
      "cell_type": "markdown",
      "metadata": {
        "id": "WfgQSbgOoe-2"
      },
      "source": [
        "# Multiple linear regression"
      ],
      "id": "WfgQSbgOoe-2"
    },
    {
      "cell_type": "code",
      "metadata": {
        "id": "RK3QTbWDofS7"
      },
      "source": [
        "# 필요한 라이브러리 import\n",
        "from sklearn import datasets\n",
        "from sklearn.model_selection import train_test_split\n",
        "from sklearn.linear_model import LinearRegression\n",
        "from sklearn.metrics import mean_squared_error\n",
        "\n",
        "import pandas as pd  "
      ],
      "id": "RK3QTbWDofS7",
      "execution_count": 1,
      "outputs": []
    },
    {
      "cell_type": "code",
      "metadata": {
        "id": "30dxHmEPog-b",
        "outputId": "c2ee95c7-215a-438d-ae4a-2f9e74698779",
        "colab": {
          "base_uri": "https://localhost:8080/"
        }
      },
      "source": [
        "# 당뇨병 데이터 갖고 오기\n",
        "diabetes_dataset = datasets.load_diabetes()\n",
        "\n",
        "# 입력 변수를 사용하기 편하게 pandas dataframe으로 변환\n",
        "X = pd.DataFrame(diabetes_dataset.data, columns=diabetes_dataset.feature_names)\n",
        "\n",
        "# 목표 변수를 사용하기 편하게 pandas dataframe으로 변환\n",
        "y = pd.DataFrame(diabetes_dataset.target, columns=['diabetes'])\n",
        "\n",
        "# 코드를 쓰세요\n",
        "x_train, x_test, y_train, y_test = train_test_split(X, y, test_size=0.2, random_state=5)\n",
        "model = LinearRegression()\n",
        "model.fit(x_train, y_train)\n",
        "\n",
        "y_test_predict = model.predict(x_test)\n",
        "\n",
        "\n",
        "# 평균 제곱 오차의 루트를 통해서 테스트 데이터에서의 모델 성능 판단\n",
        "mse = mean_squared_error(y_test, y_test_predict)\n",
        "\n",
        "mse ** 0.5"
      ],
      "id": "30dxHmEPog-b",
      "execution_count": 2,
      "outputs": [
        {
          "output_type": "execute_result",
          "data": {
            "text/plain": [
              "54.60389611984442"
            ]
          },
          "metadata": {},
          "execution_count": 2
        }
      ]
    },
    {
      "cell_type": "code",
      "metadata": {
        "id": "37YRe6E6Bi59"
      },
      "source": [
        ""
      ],
      "id": "37YRe6E6Bi59",
      "execution_count": null,
      "outputs": []
    }
  ]
}