{
  "nbformat": 4,
  "nbformat_minor": 5,
  "metadata": {
    "colab": {
      "name": "Untitled.ipynb",
      "provenance": [],
      "include_colab_link": true
    },
    "language_info": {
      "name": "python"
    },
    "kernelspec": {
      "name": "python3",
      "display_name": "Python 3"
    }
  },
  "cells": [
    {
      "cell_type": "markdown",
      "metadata": {
        "id": "view-in-github",
        "colab_type": "text"
      },
      "source": [
        "<a href=\"https://colab.research.google.com/github/dantae74/machine-learning/blob/main/codeit/10-01-hyperparameter-selection-grid-search.ipynb\" target=\"_parent\"><img src=\"https://colab.research.google.com/assets/colab-badge.svg\" alt=\"Open In Colab\"/></a>"
      ]
    },
    {
      "cell_type": "markdown",
      "metadata": {
        "id": "WfgQSbgOoe-2"
      },
      "source": [
        "# 하이퍼파라미터 고르기-그리드 서치"
      ],
      "id": "WfgQSbgOoe-2"
    },
    {
      "cell_type": "code",
      "metadata": {
        "id": "RK3QTbWDofS7"
      },
      "source": [
        "from sklearn.linear_model import LogisticRegression\n",
        "from sklearn.model_selection import GridSearchCV\n",
        "\n",
        "import numpy as np\n",
        "import pandas as pd\n",
        "\n",
        "# 경고 메시지 출력 억제 코드\n",
        "import warnings\n",
        "warnings.simplefilter(action='ignore')"
      ],
      "id": "RK3QTbWDofS7",
      "execution_count": 5,
      "outputs": []
    },
    {
      "cell_type": "code",
      "metadata": {
        "id": "30dxHmEPog-b"
      },
      "source": [
        "GENDER_FILE_PATH = 'https://raw.githubusercontent.com/dantae74/machine-learning/main/codeit/datasets/gender.csv'\n",
        "\n",
        "# 데이터 셋을 가지고 온다\n",
        "gender_df = pd.read_csv(GENDER_FILE_PATH)"
      ],
      "id": "30dxHmEPog-b",
      "execution_count": 6,
      "outputs": []
    },
    {
      "cell_type": "code",
      "metadata": {
        "id": "nNuFOtPNMp9u"
      },
      "source": [
        "X = pd.get_dummies(gender_df.drop(['Gender'], axis=1)) # 입력 변수를 one-hot encode한다\n",
        "y = gender_df[['Gender']].values.ravel()"
      ],
      "id": "nNuFOtPNMp9u",
      "execution_count": 7,
      "outputs": []
    },
    {
      "cell_type": "code",
      "metadata": {
        "id": "kyxuULV5MyG5"
      },
      "source": [
        "model = LogisticRegression()\n",
        "hyper_parameters = {\n",
        "    'penalty': ['l1', 'l2'],\n",
        "    'max_iter': [500, 1000, 1500, 2000]\n",
        "}"
      ],
      "id": "kyxuULV5MyG5",
      "execution_count": 8,
      "outputs": []
    },
    {
      "cell_type": "code",
      "metadata": {
        "id": "WivOW-1pNOq-"
      },
      "source": [
        "hypyer_parameter_tuner = GridSearchCV(model, hyper_parameters, cv=5)"
      ],
      "id": "WivOW-1pNOq-",
      "execution_count": 9,
      "outputs": []
    },
    {
      "cell_type": "code",
      "metadata": {
        "id": "lwchkFd1NfWM"
      },
      "source": [
        "best_params = hypyer_parameter_tuner.fit(X, y).best_params_"
      ],
      "id": "lwchkFd1NfWM",
      "execution_count": 16,
      "outputs": []
    },
    {
      "cell_type": "code",
      "metadata": {
        "id": "HI9AAS76NtUl",
        "outputId": "98f97931-610e-4e7e-940e-717eee7fd0b2",
        "colab": {
          "base_uri": "https://localhost:8080/"
        }
      },
      "source": [
        "best_params"
      ],
      "id": "HI9AAS76NtUl",
      "execution_count": 17,
      "outputs": [
        {
          "output_type": "execute_result",
          "data": {
            "text/plain": [
              "{'max_iter': 500, 'penalty': 'l2'}"
            ]
          },
          "metadata": {},
          "execution_count": 17
        }
      ]
    },
    {
      "cell_type": "code",
      "metadata": {
        "id": "VxmcQka6NzaE"
      },
      "source": [
        ""
      ],
      "id": "VxmcQka6NzaE",
      "execution_count": null,
      "outputs": []
    }
  ]
}