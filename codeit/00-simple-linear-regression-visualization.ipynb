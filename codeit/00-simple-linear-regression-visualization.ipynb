{
  "nbformat": 4,
  "nbformat_minor": 5,
  "metadata": {
    "colab": {
      "name": "Untitled.ipynb",
      "provenance": [],
      "include_colab_link": true
    },
    "language_info": {
      "name": "python"
    },
    "kernelspec": {
      "name": "python3",
      "display_name": "Python 3"
    }
  },
  "cells": [
    {
      "cell_type": "markdown",
      "metadata": {
        "id": "view-in-github",
        "colab_type": "text"
      },
      "source": [
        "<a href=\"https://colab.research.google.com/github/dantae74/machine-learning/blob/main/codeit/00-simple-linear-regression-visualization.ipynb\" target=\"_parent\"><img src=\"https://colab.research.google.com/assets/colab-badge.svg\" alt=\"Open In Colab\"/></a>"
      ]
    },
    {
      "cell_type": "markdown",
      "metadata": {
        "id": "WfgQSbgOoe-2"
      },
      "source": [
        "# Simple linear regression visualization"
      ],
      "id": "WfgQSbgOoe-2"
    },
    {
      "cell_type": "code",
      "metadata": {
        "id": "RK3QTbWDofS7"
      },
      "source": [
        "import numpy as np\n",
        "import matplotlib.pyplot as plt"
      ],
      "id": "RK3QTbWDofS7",
      "execution_count": null,
      "outputs": []
    },
    {
      "cell_type": "code",
      "metadata": {
        "id": "30dxHmEPog-b"
      },
      "source": [
        "def prediction(theta_0, theta_1, x):\n",
        "  return theta_0 + theta_1*x"
      ],
      "id": "30dxHmEPog-b",
      "execution_count": null,
      "outputs": []
    },
    {
      "cell_type": "code",
      "metadata": {
        "id": "xyatudRi211v"
      },
      "source": [
        "def prediction_difference(theta_0, theta_1, x, y):\n",
        "  return prediction(theta_0, theta_1, x) - y"
      ],
      "id": "xyatudRi211v",
      "execution_count": null,
      "outputs": []
    },
    {
      "cell_type": "code",
      "metadata": {
        "id": "_8c3HHW33BW8"
      },
      "source": [
        "def gradient_descent(theta_0, theta_1, x, y, num_iterations, alpha):\n",
        "  m = len(x)\n",
        "  cost_list = []\n",
        "\n",
        "  for i in range(num_iterations):\n",
        "    error = prediction_difference(theta_0, theta_1, x, y)\n",
        "    cost = (error@error) / (2*m)\n",
        "    cost_list.append(cost)\n",
        "\n",
        "    theta_0 = theta_0 - alpha*error.mean()\n",
        "    theta_1 = theta_1 - alpha*(error*x).mean()\n",
        "\n",
        "    if i % 10 == 0:\n",
        "      plt.scatter(house_size, house_price)\n",
        "      plt.plot(house_size, prediction(theta_0, theta_1, x), color='red')\n",
        "      plt.show()\n",
        "  \n",
        "  return theta_0, theta_1, cost_list"
      ],
      "id": "_8c3HHW33BW8",
      "execution_count": null,
      "outputs": []
    },
    {
      "cell_type": "code",
      "metadata": {
        "id": "6vL0xGXa4ZjC"
      },
      "source": [
        "house_size = np.array([0.9, 1.4, 2, 2.1, 2.6, 3.3, 3.35, 3.9, 4.4, 4.7, 5.2, 5.75, 6.7, 6.9])\n",
        "house_price = np.array([0.3, 0.75, 0.45, 1.1, 1.45, 0.9, 1.8, 0.9, 1.5, 2.2, 1.75, 2.3, 2.49, 2.6])\n",
        "\n",
        "# theta 초기값 설정\n",
        "th_0 = 2.5\n",
        "th_1 = 0"
      ],
      "id": "6vL0xGXa4ZjC",
      "execution_count": null,
      "outputs": []
    },
    {
      "cell_type": "code",
      "metadata": {
        "id": "LMSarjc_49Bn"
      },
      "source": [
        "th_0, th_1, cost_list = gradient_descent(th_0, th_1, house_size, house_price, 200, 0.1)"
      ],
      "id": "LMSarjc_49Bn",
      "execution_count": null,
      "outputs": []
    },
    {
      "cell_type": "code",
      "metadata": {
        "id": "E6qlFF2u5JT8"
      },
      "source": [
        "print(th_0, th_1)"
      ],
      "id": "E6qlFF2u5JT8",
      "execution_count": null,
      "outputs": []
    },
    {
      "cell_type": "code",
      "metadata": {
        "id": "1mDQXuDQ5bTK"
      },
      "source": [
        "plt.plot(cost_list)"
      ],
      "id": "1mDQXuDQ5bTK",
      "execution_count": null,
      "outputs": []
    },
    {
      "cell_type": "code",
      "metadata": {
        "id": "sDaT6gEW5ito"
      },
      "source": [
        ""
      ],
      "id": "sDaT6gEW5ito",
      "execution_count": null,
      "outputs": []
    }
  ]
}