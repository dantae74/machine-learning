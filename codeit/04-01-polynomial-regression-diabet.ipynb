{
  "nbformat": 4,
  "nbformat_minor": 5,
  "metadata": {
    "colab": {
      "name": "Untitled.ipynb",
      "provenance": [],
      "include_colab_link": true
    },
    "language_info": {
      "name": "python"
    },
    "kernelspec": {
      "name": "python3",
      "display_name": "Python 3"
    }
  },
  "cells": [
    {
      "cell_type": "markdown",
      "metadata": {
        "id": "view-in-github",
        "colab_type": "text"
      },
      "source": [
        "<a href=\"https://colab.research.google.com/github/dantae74/machine-learning/blob/main/codeit/04-01-polynomial-regression-diabet.ipynb\" target=\"_parent\"><img src=\"https://colab.research.google.com/assets/colab-badge.svg\" alt=\"Open In Colab\"/></a>"
      ]
    },
    {
      "cell_type": "markdown",
      "metadata": {
        "id": "WfgQSbgOoe-2"
      },
      "source": [
        "# Polynomial regression - Diabetes"
      ],
      "id": "WfgQSbgOoe-2"
    },
    {
      "cell_type": "code",
      "metadata": {
        "id": "RK3QTbWDofS7"
      },
      "source": [
        "# 필요한 라이브러리 import\n",
        "from sklearn import datasets\n",
        "from sklearn.preprocessing import PolynomialFeatures\n",
        "\n",
        "from sklearn.model_selection import train_test_split\n",
        "from sklearn.linear_model import LinearRegression\n",
        "from sklearn.metrics import mean_squared_error\n",
        "\n",
        "import pandas as pd "
      ],
      "id": "RK3QTbWDofS7",
      "execution_count": null,
      "outputs": []
    },
    {
      "cell_type": "code",
      "metadata": {
        "id": "30dxHmEPog-b"
      },
      "source": [
        "diabetes_dataset = datasets.load_diabetes()  # 데이터 셋 갖고오기"
      ],
      "id": "30dxHmEPog-b",
      "execution_count": null,
      "outputs": []
    },
    {
      "cell_type": "code",
      "metadata": {
        "id": "e7hoB7hQcpSV"
      },
      "source": [
        "print(diabetes_dataset.DESCR)"
      ],
      "id": "e7hoB7hQcpSV",
      "execution_count": null,
      "outputs": []
    },
    {
      "cell_type": "code",
      "metadata": {
        "id": "Q-QHStBkcsx_"
      },
      "source": [
        "polynomial_transformer = PolynomialFeatures(2)"
      ],
      "id": "Q-QHStBkcsx_",
      "execution_count": null,
      "outputs": []
    },
    {
      "cell_type": "code",
      "metadata": {
        "id": "DtDhGCg0dpWT"
      },
      "source": [
        "polynomial_data = polynomial_transformer.fit_transform(diabetes_dataset.data)"
      ],
      "id": "DtDhGCg0dpWT",
      "execution_count": null,
      "outputs": []
    },
    {
      "cell_type": "code",
      "metadata": {
        "id": "KWnRjQvief6b"
      },
      "source": [
        "polynomial_data.shape"
      ],
      "id": "KWnRjQvief6b",
      "execution_count": null,
      "outputs": []
    },
    {
      "cell_type": "code",
      "metadata": {
        "id": "8WgAm_ymd2Js"
      },
      "source": [
        "polynomial_feature_names = polynomial_transformer.get_feature_names(diabetes_dataset.feature_names)"
      ],
      "id": "8WgAm_ymd2Js",
      "execution_count": null,
      "outputs": []
    },
    {
      "cell_type": "code",
      "metadata": {
        "id": "RY8_k971eDdf"
      },
      "source": [
        "X = pd.DataFrame(polynomial_data, columns = polynomial_feature_names)"
      ],
      "id": "RY8_k971eDdf",
      "execution_count": null,
      "outputs": []
    },
    {
      "cell_type": "code",
      "metadata": {
        "id": "8FD0amaueOiP"
      },
      "source": [
        "X"
      ],
      "id": "8FD0amaueOiP",
      "execution_count": null,
      "outputs": []
    },
    {
      "cell_type": "code",
      "metadata": {
        "id": "4QgPCchKfipq"
      },
      "source": [
        "# Train/Test 데이터 셋 나누기\n",
        "x_train, x_test, y_train, y_test = train_test_split(X, y, test_size=0.2, random_state=5)"
      ],
      "id": "4QgPCchKfipq",
      "execution_count": null,
      "outputs": []
    },
    {
      "cell_type": "code",
      "metadata": {
        "id": "mVNdxaZQeuOg"
      },
      "source": [
        "# 목표 변수\n",
        "y = pd.DataFrame(diabetes_dataset.target, columns=['diabetes'])"
      ],
      "id": "mVNdxaZQeuOg",
      "execution_count": null,
      "outputs": []
    },
    {
      "cell_type": "code",
      "metadata": {
        "id": "Rs7eEJ_bfWF-"
      },
      "source": [
        "model = LinearRegression()\n",
        "model.fit(x_train, y_train)"
      ],
      "id": "Rs7eEJ_bfWF-",
      "execution_count": null,
      "outputs": []
    },
    {
      "cell_type": "code",
      "metadata": {
        "id": "9kR29XXGgCBU"
      },
      "source": [
        "y_test_predict = model.predict(x_test)"
      ],
      "id": "9kR29XXGgCBU",
      "execution_count": null,
      "outputs": []
    },
    {
      "cell_type": "code",
      "metadata": {
        "id": "Arg7MvPMgKNy"
      },
      "source": [
        "mean_squared_error(y_test, y_test_predict) ** 0.5"
      ],
      "id": "Arg7MvPMgKNy",
      "execution_count": null,
      "outputs": []
    },
    {
      "cell_type": "code",
      "metadata": {
        "id": "IoaoWhRqgRsp"
      },
      "source": [
        ""
      ],
      "id": "IoaoWhRqgRsp",
      "execution_count": null,
      "outputs": []
    }
  ]
}