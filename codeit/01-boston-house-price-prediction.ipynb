{
  "nbformat": 4,
  "nbformat_minor": 5,
  "metadata": {
    "colab": {
      "name": "Untitled.ipynb",
      "provenance": [],
      "include_colab_link": true
    },
    "language_info": {
      "name": "python"
    },
    "kernelspec": {
      "name": "python3",
      "display_name": "Python 3"
    }
  },
  "cells": [
    {
      "cell_type": "markdown",
      "metadata": {
        "id": "view-in-github",
        "colab_type": "text"
      },
      "source": [
        "<a href=\"https://colab.research.google.com/github/dantae74/machine-learning/blob/main/codeit/01-boston-house-price-prediction.ipynb\" target=\"_parent\"><img src=\"https://colab.research.google.com/assets/colab-badge.svg\" alt=\"Open In Colab\"/></a>"
      ]
    },
    {
      "cell_type": "markdown",
      "metadata": {
        "id": "WfgQSbgOoe-2"
      },
      "source": [
        "# 범죄율로 집값 예측하기"
      ],
      "id": "WfgQSbgOoe-2"
    },
    {
      "cell_type": "code",
      "metadata": {
        "id": "RK3QTbWDofS7"
      },
      "source": [
        "# 필요한 라이브러리 import\n",
        "\n",
        "from sklearn import datasets\n",
        "from sklearn.model_selection import train_test_split\n",
        "from sklearn.linear_model import LinearRegression\n",
        "from sklearn.metrics import mean_squared_error\n",
        "import pandas as pd"
      ],
      "id": "RK3QTbWDofS7",
      "execution_count": null,
      "outputs": []
    },
    {
      "cell_type": "code",
      "metadata": {
        "id": "30dxHmEPog-b"
      },
      "source": [
        "# 보스턴 집 데이터 가져오기\n",
        "boston_house_dataset = datasets.load_boston()"
      ],
      "id": "30dxHmEPog-b",
      "execution_count": null,
      "outputs": []
    },
    {
      "cell_type": "code",
      "metadata": {
        "id": "FqiPlk3vbJ8I"
      },
      "source": [
        "print(boston_house_dataset.DESCR)"
      ],
      "id": "FqiPlk3vbJ8I",
      "execution_count": null,
      "outputs": []
    },
    {
      "cell_type": "code",
      "metadata": {
        "id": "QsaObhlFbUEF"
      },
      "source": [
        "boston_house_dataset.feature_names"
      ],
      "id": "QsaObhlFbUEF",
      "execution_count": null,
      "outputs": []
    },
    {
      "cell_type": "code",
      "metadata": {
        "id": "0-Kxs-W5bcg8"
      },
      "source": [
        "X = pd.DataFrame(boston_house_dataset.data, columns=boston_house_dataset.feature_names)\n",
        "X.head()"
      ],
      "id": "0-Kxs-W5bcg8",
      "execution_count": null,
      "outputs": []
    },
    {
      "cell_type": "code",
      "metadata": {
        "id": "AqB_-xU4bgaV"
      },
      "source": [
        "y = pd.DataFrame(boston_house_dataset.target, columns=['MEDV'])\n",
        "y.head()"
      ],
      "id": "AqB_-xU4bgaV",
      "execution_count": null,
      "outputs": []
    },
    {
      "cell_type": "code",
      "metadata": {
        "id": "lUGuP6MTcjk6"
      },
      "source": [
        "# 범죄율 컬럼만 X로 선택\n",
        "X = X[['CRIM']]"
      ],
      "id": "lUGuP6MTcjk6",
      "execution_count": null,
      "outputs": []
    },
    {
      "cell_type": "code",
      "metadata": {
        "id": "jY_sCUYadJXR"
      },
      "source": [
        "X.head()"
      ],
      "id": "jY_sCUYadJXR",
      "execution_count": null,
      "outputs": []
    },
    {
      "cell_type": "code",
      "metadata": {
        "id": "hUK436iadftZ"
      },
      "source": [
        "# train/test dataset 분리\n",
        "x_train, x_test, y_train, y_test = train_test_split(X, y, test_size = 0.2, random_state=5)"
      ],
      "id": "hUK436iadftZ",
      "execution_count": null,
      "outputs": []
    },
    {
      "cell_type": "code",
      "metadata": {
        "id": "9HoCMOZteU76"
      },
      "source": [
        "# 모델 생성 및 학습\n",
        "model = LinearRegression()\n",
        "model.fit(x_train,y_train)"
      ],
      "id": "9HoCMOZteU76",
      "execution_count": null,
      "outputs": []
    },
    {
      "cell_type": "code",
      "metadata": {
        "id": "LIoLA1rRerf_"
      },
      "source": [
        "# test 데이터로 예측하기\n",
        "y_test_predict = model.predict(x_test)"
      ],
      "id": "LIoLA1rRerf_",
      "execution_count": null,
      "outputs": []
    },
    {
      "cell_type": "code",
      "metadata": {
        "id": "mCdWT5SFfG9P"
      },
      "source": [
        "# 테스트 코드 (평균 제곱근 오차로 모델 성능 평가)\n",
        "mse = mean_squared_error(y_test, y_test_predict)\n",
        "\n",
        "mse ** 0.5"
      ],
      "id": "mCdWT5SFfG9P",
      "execution_count": null,
      "outputs": []
    },
    {
      "cell_type": "code",
      "metadata": {
        "id": "GM_vvD9PfJMp"
      },
      "source": [
        ""
      ],
      "id": "GM_vvD9PfJMp",
      "execution_count": null,
      "outputs": []
    }
  ]
}