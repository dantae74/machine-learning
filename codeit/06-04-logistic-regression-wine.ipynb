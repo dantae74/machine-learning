{
  "nbformat": 4,
  "nbformat_minor": 5,
  "metadata": {
    "colab": {
      "name": "Untitled.ipynb",
      "provenance": [],
      "include_colab_link": true
    },
    "language_info": {
      "name": "python"
    },
    "kernelspec": {
      "name": "python3",
      "display_name": "Python 3"
    }
  },
  "cells": [
    {
      "cell_type": "markdown",
      "metadata": {
        "id": "view-in-github",
        "colab_type": "text"
      },
      "source": [
        "<a href=\"https://colab.research.google.com/github/dantae74/machine-learning/blob/main/codeit/06-04-logistic-regression-wine.ipynb\" target=\"_parent\"><img src=\"https://colab.research.google.com/assets/colab-badge.svg\" alt=\"Open In Colab\"/></a>"
      ]
    },
    {
      "cell_type": "markdown",
      "metadata": {
        "id": "WfgQSbgOoe-2"
      },
      "source": [
        "# 로지스틱 회귀 - wine"
      ],
      "id": "WfgQSbgOoe-2"
    },
    {
      "cell_type": "code",
      "metadata": {
        "id": "RK3QTbWDofS7"
      },
      "source": [
        "# 필요한 라이브러리 import\n",
        "from sklearn import datasets\n",
        "from sklearn.model_selection import train_test_split\n",
        "from sklearn.linear_model import LogisticRegression\n",
        "\n",
        "import pandas as pd "
      ],
      "id": "RK3QTbWDofS7",
      "execution_count": null,
      "outputs": []
    },
    {
      "cell_type": "code",
      "metadata": {
        "id": "j3xZiYUF9p7h"
      },
      "source": [
        " wine_data = datasets.load_wine()"
      ],
      "id": "j3xZiYUF9p7h",
      "execution_count": null,
      "outputs": []
    },
    {
      "cell_type": "code",
      "metadata": {
        "id": "obkKXsAP9sax"
      },
      "source": [
        "print(wine_data.DESCR)"
      ],
      "id": "obkKXsAP9sax",
      "execution_count": null,
      "outputs": []
    },
    {
      "cell_type": "code",
      "metadata": {
        "id": "30dxHmEPog-b"
      },
      "source": [
        "# 입력 변수를 사용하기 편하게 pandas dataframe으로 변환\n",
        "X = pd.DataFrame(wine_data.data, columns=wine_data.feature_names)\n",
        "\n",
        "# 목표 변수를 사용하기 편하게 pandas dataframe으로 변환\n",
        "y = pd.DataFrame(wine_data.target, columns=['class'])"
      ],
      "id": "30dxHmEPog-b",
      "execution_count": null,
      "outputs": []
    },
    {
      "cell_type": "code",
      "metadata": {
        "id": "SiuA8ft-9_Ws"
      },
      "source": [
        "X"
      ],
      "id": "SiuA8ft-9_Ws",
      "execution_count": null,
      "outputs": []
    },
    {
      "cell_type": "code",
      "metadata": {
        "id": "sbp56jAU9_Nk"
      },
      "source": [
        "y"
      ],
      "id": "sbp56jAU9_Nk",
      "execution_count": null,
      "outputs": []
    },
    {
      "cell_type": "code",
      "metadata": {
        "id": "lNfIcHJP-Oi9"
      },
      "source": [
        "X_train, X_test, y_train, y_test = train_test_split(X, y, test_size=0.2, random_state=5)"
      ],
      "id": "lNfIcHJP-Oi9",
      "execution_count": null,
      "outputs": []
    },
    {
      "cell_type": "code",
      "metadata": {
        "id": "uPGZ-ffj_d9M"
      },
      "source": [
        "y_train = y_train.values.ravel()"
      ],
      "id": "uPGZ-ffj_d9M",
      "execution_count": null,
      "outputs": []
    },
    {
      "cell_type": "code",
      "metadata": {
        "id": "c6nu-7MN-b2t"
      },
      "source": [
        "logistic_model = LogisticRegression(solver='saga', max_iter=7500)"
      ],
      "id": "c6nu-7MN-b2t",
      "execution_count": null,
      "outputs": []
    },
    {
      "cell_type": "code",
      "metadata": {
        "id": "6tQqX0Ye-OIr"
      },
      "source": [
        "logistic_model.fit(X_train,y_train)"
      ],
      "id": "6tQqX0Ye-OIr",
      "execution_count": null,
      "outputs": []
    },
    {
      "cell_type": "code",
      "metadata": {
        "id": "5elLHPv2-u5o"
      },
      "source": [
        "y_test_predict = logistic_model.predict(X_test)"
      ],
      "id": "5elLHPv2-u5o",
      "execution_count": null,
      "outputs": []
    },
    {
      "cell_type": "code",
      "metadata": {
        "id": "07ZMF9rX9miu"
      },
      "source": [
        "# 테스트 코드\n",
        "score = logistic_model.score(X_test, y_test)\n",
        "y_test_predict, score"
      ],
      "id": "07ZMF9rX9miu",
      "execution_count": null,
      "outputs": []
    }
  ]
}