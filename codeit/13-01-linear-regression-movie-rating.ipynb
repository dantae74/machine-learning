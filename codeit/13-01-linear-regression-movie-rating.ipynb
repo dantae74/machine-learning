{
  "nbformat": 4,
  "nbformat_minor": 5,
  "metadata": {
    "colab": {
      "name": "Untitled.ipynb",
      "provenance": [],
      "include_colab_link": true
    },
    "language_info": {
      "name": "python"
    },
    "kernelspec": {
      "name": "python3",
      "display_name": "Python 3"
    }
  },
  "cells": [
    {
      "cell_type": "markdown",
      "metadata": {
        "id": "view-in-github",
        "colab_type": "text"
      },
      "source": [
        "<a href=\"https://colab.research.google.com/github/dantae74/machine-learning/blob/main/codeit/13-01-linear-regression-movie-rating.ipynb\" target=\"_parent\"><img src=\"https://colab.research.google.com/assets/colab-badge.svg\" alt=\"Open In Colab\"/></a>"
      ]
    },
    {
      "cell_type": "markdown",
      "metadata": {
        "id": "WfgQSbgOoe-2"
      },
      "source": [
        "# sklearn으로 유저 평점 예측하기"
      ],
      "id": "WfgQSbgOoe-2"
    },
    {
      "cell_type": "code",
      "metadata": {
        "id": "RK3QTbWDofS7"
      },
      "source": [
        "# 필요한 도구들을 가지고 오는 코드\n",
        "from sklearn.linear_model import LinearRegression\n",
        "from sklearn.model_selection import train_test_split\n",
        "\n",
        "import pandas as pd\n",
        "import numpy as np"
      ],
      "id": "RK3QTbWDofS7",
      "execution_count": 1,
      "outputs": []
    },
    {
      "cell_type": "code",
      "metadata": {
        "id": "30dxHmEPog-b"
      },
      "source": [
        "# 유저 평점 + 영화 속성 데이터 경로 정의\n",
        "MOVIE_DATA_PATH = 'https://raw.githubusercontent.com/dantae74/machine-learning/main/codeit/datasets/movie_rating.csv'\n",
        "\n",
        "# pandas로 데이터 불러 오기\n",
        "movie_rating_df = pd.read_csv(MOVIE_DATA_PATH)\n",
        "\n",
        "features =['romance', 'action', 'comedy', 'heart-warming'] # 사용할 속성들 이름\n",
        "\n",
        "# 입력 변수와 목표 변수 나누기\n",
        "X = movie_rating_df[features]\n",
        "y = movie_rating_df[['rating']]\n",
        "\n",
        "# 입력 변수와 목표 변수들을 각각의 training/test 셋으로 나누기\n",
        "X_train, X_test, y_train, y_test = train_test_split(X, y, test_size=0.2, random_state=5)"
      ],
      "id": "30dxHmEPog-b",
      "execution_count": 2,
      "outputs": []
    },
    {
      "cell_type": "code",
      "metadata": {
        "id": "1x3oR_w_KIBt",
        "outputId": "c35448d9-7396-451a-af2c-76b6c60f05a0",
        "colab": {
          "base_uri": "https://localhost:8080/"
        }
      },
      "source": [
        "# 코드를 쓰세요.\n",
        "model = LinearRegression()\n",
        "model.fit(X_train, y_train)\n",
        "y_test_predict = model.predict(X_test)\n",
        "\n",
        "# 실행 코드\n",
        "y_test_predict"
      ],
      "id": "1x3oR_w_KIBt",
      "execution_count": 3,
      "outputs": [
        {
          "output_type": "execute_result",
          "data": {
            "text/plain": [
              "array([[3.83034441],\n",
              "       [2.59418977],\n",
              "       [2.63653566],\n",
              "       [3.48333221],\n",
              "       [2.75217812],\n",
              "       [2.43303141],\n",
              "       [3.03247628],\n",
              "       [4.41312853],\n",
              "       [4.28145539],\n",
              "       [3.61139607],\n",
              "       [3.82260281],\n",
              "       [3.01099122],\n",
              "       [3.06324646],\n",
              "       [4.41401949],\n",
              "       [4.08837667],\n",
              "       [3.30347874],\n",
              "       [4.69514621],\n",
              "       [4.3397661 ],\n",
              "       [3.42084949],\n",
              "       [3.94638571]])"
            ]
          },
          "metadata": {},
          "execution_count": 3
        }
      ]
    },
    {
      "cell_type": "code",
      "metadata": {
        "id": "p_L9l36xKydN",
        "outputId": "c994aa39-db79-45e5-bdfe-5cbe5df97fac",
        "colab": {
          "base_uri": "https://localhost:8080/"
        }
      },
      "source": [
        "model.score(X_test, y_test)"
      ],
      "id": "p_L9l36xKydN",
      "execution_count": 6,
      "outputs": [
        {
          "output_type": "execute_result",
          "data": {
            "text/plain": [
              "0.8329209093894004"
            ]
          },
          "metadata": {},
          "execution_count": 6
        }
      ]
    },
    {
      "cell_type": "code",
      "metadata": {
        "id": "GR4BFuYaLUTr"
      },
      "source": [
        ""
      ],
      "id": "GR4BFuYaLUTr",
      "execution_count": null,
      "outputs": []
    }
  ]
}