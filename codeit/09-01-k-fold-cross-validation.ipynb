{
  "nbformat": 4,
  "nbformat_minor": 5,
  "metadata": {
    "colab": {
      "name": "Untitled.ipynb",
      "provenance": [],
      "include_colab_link": true
    },
    "language_info": {
      "name": "python"
    },
    "kernelspec": {
      "name": "python3",
      "display_name": "Python 3"
    }
  },
  "cells": [
    {
      "cell_type": "markdown",
      "metadata": {
        "id": "view-in-github",
        "colab_type": "text"
      },
      "source": [
        "<a href=\"https://colab.research.google.com/github/dantae74/machine-learning/blob/main/codeit/09-01-k-fold-cross-validation.ipynb\" target=\"_parent\"><img src=\"https://colab.research.google.com/assets/colab-badge.svg\" alt=\"Open In Colab\"/></a>"
      ]
    },
    {
      "cell_type": "markdown",
      "metadata": {
        "id": "WfgQSbgOoe-2"
      },
      "source": [
        "# K-fold 교차검증"
      ],
      "id": "WfgQSbgOoe-2"
    },
    {
      "cell_type": "code",
      "metadata": {
        "id": "RK3QTbWDofS7"
      },
      "source": [
        "from sklearn.linear_model import LogisticRegression\n",
        "from sklearn.model_selection import cross_val_score\n",
        "\n",
        "import numpy as np\n",
        "import pandas as pd"
      ],
      "id": "RK3QTbWDofS7",
      "execution_count": 1,
      "outputs": []
    },
    {
      "cell_type": "code",
      "metadata": {
        "id": "30dxHmEPog-b"
      },
      "source": [
        "GENDER_FILE_PATH = 'https://raw.githubusercontent.com/dantae74/machine-learning/main/codeit/datasets/gender.csv'\n",
        "\n",
        "# 데이터 셋을 가지고 온다\n",
        "gender_df = pd.read_csv(GENDER_FILE_PATH)"
      ],
      "id": "30dxHmEPog-b",
      "execution_count": 2,
      "outputs": []
    },
    {
      "cell_type": "code",
      "metadata": {
        "id": "7nDY7BkQIIXO"
      },
      "source": [
        "X = pd.get_dummies(gender_df.drop(['Gender'], axis=1)) # 입력 변수를 one-hot encode한다\n",
        "y = gender_df[['Gender']].values.ravel()"
      ],
      "id": "7nDY7BkQIIXO",
      "execution_count": 3,
      "outputs": []
    },
    {
      "cell_type": "code",
      "metadata": {
        "id": "SndrU8RJIbHW",
        "outputId": "edd190ac-de7a-4ba3-c644-2a2b896bf0e9",
        "colab": {
          "base_uri": "https://localhost:8080/"
        }
      },
      "source": [
        "model = LogisticRegression(solver='saga', max_iter=2000)\n",
        "k_fold_score = np.average(cross_val_score(model, X, y, cv=5))\n",
        "k_fold_score"
      ],
      "id": "SndrU8RJIbHW",
      "execution_count": 4,
      "outputs": [
        {
          "output_type": "execute_result",
          "data": {
            "text/plain": [
              "0.531868131868132"
            ]
          },
          "metadata": {},
          "execution_count": 4
        }
      ]
    },
    {
      "cell_type": "code",
      "metadata": {
        "id": "Oav1cN2LJRhX"
      },
      "source": [
        ""
      ],
      "id": "Oav1cN2LJRhX",
      "execution_count": null,
      "outputs": []
    }
  ]
}