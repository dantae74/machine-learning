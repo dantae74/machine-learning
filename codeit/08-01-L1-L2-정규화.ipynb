{
  "nbformat": 4,
  "nbformat_minor": 5,
  "metadata": {
    "colab": {
      "name": "08-01-L1-L2-정규화.ipynb",
      "provenance": [],
      "include_colab_link": true
    },
    "language_info": {
      "name": "python"
    },
    "kernelspec": {
      "name": "python3",
      "display_name": "Python 3"
    }
  },
  "cells": [
    {
      "cell_type": "markdown",
      "metadata": {
        "id": "view-in-github",
        "colab_type": "text"
      },
      "source": [
        "<a href=\"https://colab.research.google.com/github/dantae74/machine-learning/blob/main/codeit/08-01-L1-L2-%EC%A0%95%EA%B7%9C%ED%99%94.ipynb\" target=\"_parent\"><img src=\"https://colab.research.google.com/assets/colab-badge.svg\" alt=\"Open In Colab\"/></a>"
      ]
    },
    {
      "cell_type": "markdown",
      "metadata": {
        "id": "WfgQSbgOoe-2"
      },
      "source": [
        "# L1, L2 정규화"
      ],
      "id": "WfgQSbgOoe-2"
    },
    {
      "cell_type": "code",
      "metadata": {
        "id": "RK3QTbWDofS7"
      },
      "source": [
        "from sklearn.linear_model import Lasso\n",
        "from sklearn.model_selection import train_test_split\n",
        "from sklearn.metrics import mean_squared_error\n",
        "from sklearn.preprocessing import PolynomialFeatures\n",
        "from math import sqrt\n",
        "\n",
        "import numpy as np\n",
        "import pandas as pd"
      ],
      "id": "RK3QTbWDofS7",
      "execution_count": 1,
      "outputs": []
    },
    {
      "cell_type": "code",
      "metadata": {
        "id": "30dxHmEPog-b"
      },
      "source": [
        "# 데이터 파일 경로 정의\n",
        "INSURANCE_FILE_PATH = 'https://raw.githubusercontent.com/dantae74/machine-learning/main/codeit/datasets/insurance.csv'\n",
        "\n",
        "insurance_df = pd.read_csv(INSURANCE_FILE_PATH)\n",
        "insurance_df = pd.get_dummies(data=insurance_df, columns=['sex', 'smoker', 'region'])"
      ],
      "id": "30dxHmEPog-b",
      "execution_count": 2,
      "outputs": []
    },
    {
      "cell_type": "code",
      "metadata": {
        "id": "URPHO8nGQs4R"
      },
      "source": [
        "# 입력 변수 데이터를 따로 새로운 dataframe에 저장\n",
        "X = insurance_df.drop(['charges'], axis=1)\n",
        "\n",
        "polynomial_transformer = PolynomialFeatures(4)  # 4 차항 변형기를 정의\n",
        "polynomial_features = polynomial_transformer.fit_transform(X.values)  #  4차 항 변수로 변환\n",
        "\n",
        "features = polynomial_transformer.get_feature_names(X.columns)  # 새로운 변수 이름들 생성\n",
        "\n",
        "X = pd.DataFrame(polynomial_features, columns=features)  # 다항 입력 변수를 dataframe으로 만들어 준다\n",
        "y = insurance_df[['charges']]  # 목표 변수 정의"
      ],
      "id": "URPHO8nGQs4R",
      "execution_count": 3,
      "outputs": []
    },
    {
      "cell_type": "code",
      "metadata": {
        "id": "-MgCXv3QRQZh",
        "colab": {
          "base_uri": "https://localhost:8080/"
        },
        "outputId": "c8613f78-38ac-423c-b6e9-5d816f72b74a"
      },
      "source": [
        "# 여기 코드를 쓰세요\n",
        "x_train, x_test, y_train, y_test = train_test_split(X, y, test_size=0.3, random_state=5)\n",
        "\n",
        "model = Lasso(alpha=1, max_iter=2000, normalize=True)\n",
        "model.fit(x_train, y_train)\n",
        "\n",
        "y_train_predict = model.predict(x_train)\n",
        "y_test_predict = model.predict(x_test)\n",
        "\n",
        "y_train_predict = model.predict(x_train)\n",
        "y_test_predict = model.predict(x_test)"
      ],
      "id": "-MgCXv3QRQZh",
      "execution_count": 4,
      "outputs": [
        {
          "output_type": "stream",
          "text": [
            "/usr/local/lib/python3.7/dist-packages/sklearn/linear_model/_coordinate_descent.py:476: ConvergenceWarning: Objective did not converge. You might want to increase the number of iterations. Duality gap: 19269383.112592697, tolerance: 1054728.1616667064\n",
            "  positive)\n"
          ],
          "name": "stderr"
        }
      ]
    },
    {
      "cell_type": "code",
      "metadata": {
        "id": "cpjEjw4kRQRy",
        "colab": {
          "base_uri": "https://localhost:8080/"
        },
        "outputId": "dd3c7b0d-63d3-4d9f-ae25-ea84b10663f9"
      },
      "source": [
        "# 체점용 코드\n",
        "mse = mean_squared_error(y_train, y_train_predict)\n",
        "\n",
        "print(\"training set에서 성능\")\n",
        "print(\"-----------------------\")\n",
        "print(f'오차: {sqrt(mse)}')\n",
        "\n",
        "mse = mean_squared_error(y_test, y_test_predict)\n",
        "\n",
        "print(\"testing set에서 성능\")\n",
        "print(\"-----------------------\")\n",
        "print(f'오차: {sqrt(mse)}')"
      ],
      "id": "cpjEjw4kRQRy",
      "execution_count": 5,
      "outputs": [
        {
          "output_type": "stream",
          "text": [
            "training set에서 성능\n",
            "-----------------------\n",
            "오차: 1462.6016398033548\n",
            "testing set에서 성능\n",
            "-----------------------\n",
            "오차: 11841.478194388288\n"
          ],
          "name": "stdout"
        }
      ]
    },
    {
      "cell_type": "code",
      "metadata": {
        "id": "L8eEhOPmRcdw"
      },
      "source": [
        ""
      ],
      "id": "L8eEhOPmRcdw",
      "execution_count": 5,
      "outputs": []
    }
  ]
}