{
  "nbformat": 4,
  "nbformat_minor": 5,
  "metadata": {
    "colab": {
      "name": "Untitled.ipynb",
      "provenance": [],
      "include_colab_link": true
    }
  },
  "cells": [
    {
      "cell_type": "markdown",
      "metadata": {
        "id": "view-in-github",
        "colab_type": "text"
      },
      "source": [
        "<a href=\"https://colab.research.google.com/github/dantae74/machine-learning/blob/main/codeit/08-01-L1-L2-%EC%A0%95%EA%B7%9C%ED%99%94.ipynb\" target=\"_parent\"><img src=\"https://colab.research.google.com/assets/colab-badge.svg\" alt=\"Open In Colab\"/></a>"
      ]
    },
    {
      "cell_type": "markdown",
      "metadata": {
        "id": "WfgQSbgOoe-2"
      },
      "source": [
        "L1, L2 정규화"
      ],
      "id": "WfgQSbgOoe-2"
    },
    {
      "cell_type": "code",
      "metadata": {
        "id": "RK3QTbWDofS7"
      },
      "source": [
        "from sklearn.linear_model import Lasso\n",
        "from sklearn.model_selection import train_test_split\n",
        "from sklearn.metrics import mean_squared_error\n",
        "from sklearn.preprocessing import PolynomialFeatures\n",
        "from math import sqrt\n",
        "\n",
        "import numpy as np\n",
        "import pandas as pd"
      ],
      "id": "RK3QTbWDofS7",
      "execution_count": null,
      "outputs": []
    },
    {
      "cell_type": "code",
      "metadata": {
        "id": "30dxHmEPog-b"
      },
      "source": [
        "# 데이터 파일 경로 정의\n",
        "INSURANCE_FILE_PATH = './datasets/insurance.csv'\n",
        "\n",
        "insurance_df = pd.read_csv(INSURANCE_FILE_PATH)  # 데이터를 pandas dataframe으로 갖고 온다 (insurance_df.head()를 사용해서 데이터를 한 번 살펴보세요!)\n",
        "insurance_df = pd.get_dummies(data=insurance_df, columns=['sex', 'smoker', 'region'])  # 필요한 열들에 One-hot Encoding을 해준다\n",
        "\n",
        "# 입력 변수 데이터를 따로 새로운 dataframe에 저장\n",
        "X = insurance_df.drop(['charges'], axis=1)\n",
        "\n",
        "polynomial_transformer = PolynomialFeatures(4)  # 4 차항 변형기를 정의\n",
        "polynomial_features = polynomial_transformer.fit_transform(X.values)  #  4차 항 변수로 변환\n",
        "\n",
        "features = polynomial_transformer.get_feature_names(X.columns)  # 새로운 변수 이름들 생성\n",
        "\n",
        "X = pd.DataFrame(polynomial_features, columns=features)  # 다항 입력 변수를 dataframe으로 만들어 준다\n",
        "y = insurance_df[['charges']]  # 목표 변수 정의\n",
        "\n",
        "# 여기 코드를 쓰세요\n",
        "x_train, x_test, y_train, y_test = train_test_split(X, y, test_size=0.3, random_state=5)\n",
        "\n",
        "model = Lasso(alpha=1, max_iter=2000, normalize=True)\n",
        "model.fit(x_train, y_train)\n",
        "\n",
        "y_train_predict = model.predict(x_train)\n",
        "y_test_predict = model.predict(x_test)\n",
        "\n",
        "\n",
        "# 체점용 코드\n",
        "mse = mean_squared_error(y_train, y_train_predict)\n",
        "\n",
        "print(\"training set에서 성능\")\n",
        "print(\"-----------------------\")\n",
        "print(f'오차: {sqrt(mse)}')\n",
        "\n",
        "mse = mean_squared_error(y_test, y_test_predict)\n",
        "\n",
        "print(\"testing set에서 성능\")\n",
        "print(\"-----------------------\")\n",
        "print(f'오차: {sqrt(mse)}')\n"
      ],
      "id": "30dxHmEPog-b",
      "execution_count": null,
      "outputs": []
    }
  ]
}