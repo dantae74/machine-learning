{
  "nbformat": 4,
  "nbformat_minor": 5,
  "metadata": {
    "colab": {
      "name": "06-01-logistic-regression-prediction.ipynb",
      "provenance": [],
      "include_colab_link": true
    },
    "language_info": {
      "name": "python"
    },
    "kernelspec": {
      "name": "python3",
      "display_name": "Python 3"
    }
  },
  "cells": [
    {
      "cell_type": "markdown",
      "metadata": {
        "id": "view-in-github",
        "colab_type": "text"
      },
      "source": [
        "<a href=\"https://colab.research.google.com/github/dantae74/machine-learning/blob/main/codeit/06-01-logistic-regression-prediction.ipynb\" target=\"_parent\"><img src=\"https://colab.research.google.com/assets/colab-badge.svg\" alt=\"Open In Colab\"/></a>"
      ]
    },
    {
      "cell_type": "markdown",
      "metadata": {
        "id": "WfgQSbgOoe-2"
      },
      "source": [
        "# 로지스틱 회귀 - 예측"
      ],
      "id": "WfgQSbgOoe-2"
    },
    {
      "cell_type": "code",
      "metadata": {
        "id": "RK3QTbWDofS7"
      },
      "source": [
        "import numpy as np"
      ],
      "id": "RK3QTbWDofS7",
      "execution_count": 1,
      "outputs": []
    },
    {
      "cell_type": "code",
      "metadata": {
        "id": "30dxHmEPog-b"
      },
      "source": [
        "def sigmoid(x):\n",
        "    \"\"\"시그모이드 함수\"\"\"\n",
        "    return 1 / (1 + np.exp(-x))\n",
        "    \n",
        "\n",
        "def prediction(X, theta):\n",
        "    \"\"\"로지스틱 회귀 가정 함수\"\"\"\n",
        "    # 코드를 쓰세요\n",
        "    return sigmoid(X@theta)    \n"
      ],
      "id": "30dxHmEPog-b",
      "execution_count": 8,
      "outputs": []
    },
    {
      "cell_type": "code",
      "metadata": {
        "id": "f4QqnDflvopu",
        "outputId": "dbca403d-ed17-4ab6-8f03-a357688f6bc7",
        "colab": {
          "base_uri": "https://localhost:8080/"
        }
      },
      "source": [
        "# 입력 변수\n",
        "hours_studied = np.array([0.2, 0.3, 0.7, 1, 1.3, 1.8, 2, 2.1, 2.2, 3, 4, 4.2, 4, 4.7, 5.0, 5.9])  # 공부 시간 (단위: 100시간)\n",
        "gpa_rank = np.array([0.9, 0.95, 0.8, 0.82, 0.7, 0.6, 0.55, 0.67, 0.4, 0.3, 0.2, 0.2, 0.15, 0.18, 0.15, 0.05]) # 학년 내신 (백분률)\n",
        "number_of_tries = np.array([1, 2, 2, 2, 4, 2, 2, 2, 3, 3, 3, 3, 2, 4, 1, 2])  # 시험 응시 횟수\n",
        "\n",
        "# 설계 행렬 X 정의\n",
        "X = np.array([\n",
        "    np.ones(16),\n",
        "    hours_studied,\n",
        "    gpa_rank,\n",
        "    number_of_tries\n",
        "]).T\n",
        "\n",
        "# 파라미터 theta 정의\n",
        "theta = [0.5, 0.3, -2, 0.2]  \n",
        "\n",
        "prediction(X, theta)"
      ],
      "id": "f4QqnDflvopu",
      "execution_count": 9,
      "outputs": [
        {
          "output_type": "execute_result",
          "data": {
            "text/plain": [
              "array([0.26114999, 0.28699984, 0.37989357, 0.39174097, 0.57199613,\n",
              "       0.55971365, 0.59868766, 0.54735762, 0.72312181, 0.80218389,\n",
              "       0.86989153, 0.87653295, 0.85814894, 0.91293423, 0.86989153,\n",
              "       0.9289057 ])"
            ]
          },
          "metadata": {},
          "execution_count": 9
        }
      ]
    },
    {
      "cell_type": "code",
      "metadata": {
        "id": "2YorEP9XvrTm",
        "outputId": "40a8da52-9b8e-415e-d811-e9c1f7a10d10",
        "colab": {
          "base_uri": "https://localhost:8080/"
        }
      },
      "source": [
        "np.array(theta).shape"
      ],
      "id": "2YorEP9XvrTm",
      "execution_count": 6,
      "outputs": [
        {
          "output_type": "execute_result",
          "data": {
            "text/plain": [
              "(4,)"
            ]
          },
          "metadata": {},
          "execution_count": 6
        }
      ]
    },
    {
      "cell_type": "code",
      "metadata": {
        "id": "mxyjgRIyxmCU",
        "outputId": "8046d119-2c78-43fa-fe8b-85f138f0cddc",
        "colab": {
          "base_uri": "https://localhost:8080/"
        }
      },
      "source": [
        "X.shape"
      ],
      "id": "mxyjgRIyxmCU",
      "execution_count": 7,
      "outputs": [
        {
          "output_type": "execute_result",
          "data": {
            "text/plain": [
              "(16, 4)"
            ]
          },
          "metadata": {},
          "execution_count": 7
        }
      ]
    },
    {
      "cell_type": "code",
      "metadata": {
        "id": "h88N0PlQx0ZW"
      },
      "source": [
        ""
      ],
      "id": "h88N0PlQx0ZW",
      "execution_count": null,
      "outputs": []
    }
  ]
}
