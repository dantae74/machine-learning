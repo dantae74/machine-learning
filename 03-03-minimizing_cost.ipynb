{
  "nbformat": 4,
  "nbformat_minor": 5,
  "metadata": {
    "colab": {
      "name": "Untitled.ipynb",
      "provenance": [],
      "include_colab_link": true
    },
    "language_info": {
      "name": "python"
    },
    "kernelspec": {
      "name": "python3",
      "display_name": "Python 3"
    }
  },
  "cells": [
    {
      "cell_type": "markdown",
      "metadata": {
        "id": "view-in-github",
        "colab_type": "text"
      },
      "source": [
        "<a href=\"https://colab.research.google.com/github/dantae74/machine-learning/blob/main/03-03-minimizing_cost.ipynb\" target=\"_parent\"><img src=\"https://colab.research.google.com/assets/colab-badge.svg\" alt=\"Open In Colab\"/></a>"
      ]
    },
    {
      "cell_type": "markdown",
      "metadata": {
        "id": "RmKhqeWDlkNM"
      },
      "source": [
        "# Minimizing Cost"
      ],
      "id": "RmKhqeWDlkNM"
    },
    {
      "cell_type": "code",
      "metadata": {
        "id": "d4_ZFuejlkhC"
      },
      "source": [
        "import tensorflow as tf\n",
        "import matplotlib.pyplot as plt"
      ],
      "id": "d4_ZFuejlkhC",
      "execution_count": 4,
      "outputs": []
    },
    {
      "cell_type": "code",
      "metadata": {
        "id": "t6ioiRhfmeJd"
      },
      "source": [
        "X = [1,2,3]\n",
        "Y = [1,2,3]"
      ],
      "id": "t6ioiRhfmeJd",
      "execution_count": 5,
      "outputs": []
    },
    {
      "cell_type": "code",
      "metadata": {
        "id": "DrO4eEhglk-d"
      },
      "source": [
        "W = tf.Variable(10.)\n",
        "lr = 0.1"
      ],
      "id": "DrO4eEhglk-d",
      "execution_count": 20,
      "outputs": []
    },
    {
      "cell_type": "code",
      "metadata": {
        "id": "CHBbbA1So5Ri",
        "colab": {
          "base_uri": "https://localhost:8080/"
        },
        "outputId": "7cc12b6c-8484-4b8d-bfa4-a65707edcd03"
      },
      "source": [
        "for i in range(21):\n",
        "  cost = tf.reduce_mean(tf.square(W*X-Y))\n",
        "  W = W - lr * (W*X-Y) * X\n",
        "\n",
        "  print(\"{}\\t{}\\t{}\".format(i+1, W, cost)) "
      ],
      "id": "CHBbbA1So5Ri",
      "execution_count": 22,
      "outputs": [
        {
          "output_type": "stream",
          "text": [
            "1\t[1.8862938 1.0001185 1.       ]\t0.3232579529285431\n",
            "2\t[1.7976644 1.000071  1.       ]\t0.2618388831615448\n",
            "3\t[1.717898  1.0000427 1.       ]\t0.21208949387073517\n",
            "4\t[1.6461082 1.0000256 1.       ]\t0.17179252207279205\n",
            "5\t[1.5814973 1.0000154 1.       ]\t0.1391519159078598\n",
            "6\t[1.5233476 1.0000092 1.       ]\t0.1127130389213562\n",
            "7\t[1.4710128 1.0000055 1.       ]\t0.09129757434129715\n",
            "8\t[1.4239116 1.0000033 1.       ]\t0.07395102828741074\n",
            "9\t[1.3815204 1.000002  1.       ]\t0.05990033969283104\n",
            "10\t[1.3433683 1.0000012 1.       ]\t0.04851926863193512\n",
            "11\t[1.3090315 1.0000007 1.       ]\t0.039300594478845596\n",
            "12\t[1.2781284 1.0000005 1.       ]\t0.03183348849415779\n",
            "13\t[1.2503155 1.0000002 1.       ]\t0.025785133242607117\n",
            "14\t[1.225284  1.0000001 1.       ]\t0.020885957404971123\n",
            "15\t[1.2027556 1.0000001 1.       ]\t0.016917623579502106\n",
            "16\t[1.18248   1.0000001 1.       ]\t0.01370327454060316\n",
            "17\t[1.164232  1.0000001 1.       ]\t0.011099647730588913\n",
            "18\t[1.1478088 1.0000001 1.       ]\t0.008990718051791191\n",
            "19\t[1.1330279 1.0000001 1.       ]\t0.007282479200512171\n",
            "20\t[1.1197251 1.0000001 1.       ]\t0.005898808594793081\n",
            "21\t[1.1077526 1.0000001 1.       ]\t0.004778033588081598\n"
          ],
          "name": "stdout"
        }
      ]
    },
    {
      "cell_type": "code",
      "metadata": {
        "id": "VGLvuhc6vMZT",
        "outputId": "0427748d-006d-4541-95ee-4eb043ffbd10",
        "colab": {
          "base_uri": "https://localhost:8080/"
        }
      },
      "source": [
        "lr * (h-Y)"
      ],
      "id": "VGLvuhc6vMZT",
      "execution_count": 13,
      "outputs": [
        {
          "output_type": "execute_result",
          "data": {
            "text/plain": [
              "<tf.Tensor: shape=(3,), dtype=float32, numpy=array([1.0941899e-01, 6.5803528e-05, 0.0000000e+00], dtype=float32)>"
            ]
          },
          "metadata": {
            "tags": []
          },
          "execution_count": 13
        }
      ]
    },
    {
      "cell_type": "code",
      "metadata": {
        "id": "sX01CA0Ri2Hl"
      },
      "source": [
        ""
      ],
      "id": "sX01CA0Ri2Hl",
      "execution_count": 16,
      "outputs": []
    },
    {
      "cell_type": "code",
      "metadata": {
        "id": "jGggl_2Li4TE"
      },
      "source": [
        ""
      ],
      "id": "jGggl_2Li4TE",
      "execution_count": null,
      "outputs": []
    }
  ]
}