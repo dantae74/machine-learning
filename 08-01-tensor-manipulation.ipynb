{
  "nbformat": 4,
  "nbformat_minor": 5,
  "metadata": {
    "colab": {
      "name": "Untitled.ipynb",
      "provenance": [],
      "include_colab_link": true
    },
    "language_info": {
      "name": "python"
    },
    "kernelspec": {
      "name": "python3",
      "display_name": "Python 3"
    }
  },
  "cells": [
    {
      "cell_type": "markdown",
      "metadata": {
        "id": "view-in-github",
        "colab_type": "text"
      },
      "source": [
        "<a href=\"https://colab.research.google.com/github/dantae74/machine-learning/blob/main/08-01-tensor-manipulation.ipynb\" target=\"_parent\"><img src=\"https://colab.research.google.com/assets/colab-badge.svg\" alt=\"Open In Colab\"/></a>"
      ]
    },
    {
      "cell_type": "markdown",
      "metadata": {
        "id": "WfgQSbgOoe-2"
      },
      "source": [
        "모두를 위한 머신러닝에서 가져왔습니다.\n",
        "# Tensor Manipulation"
      ],
      "id": "WfgQSbgOoe-2"
    },
    {
      "cell_type": "code",
      "metadata": {
        "id": "RK3QTbWDofS7"
      },
      "source": [
        "import tensorflow as tf\n",
        "import numpy as np\n",
        "import pprint\n",
        "pp = pprint.PrettyPrinter(indent=4)"
      ],
      "id": "RK3QTbWDofS7",
      "execution_count": 5,
      "outputs": []
    },
    {
      "cell_type": "markdown",
      "metadata": {
        "id": "t-iKSqtLbi6v"
      },
      "source": [
        "# Simple array"
      ],
      "id": "t-iKSqtLbi6v"
    },
    {
      "cell_type": "code",
      "metadata": {
        "id": "mFmofCKfa0FA",
        "outputId": "55142e0a-aba8-4ace-c572-4abcc3107068",
        "colab": {
          "base_uri": "https://localhost:8080/"
        }
      },
      "source": [
        "t = np.array([0., 1., 2., 3., 4., 5., 6.])\n",
        "pp.pprint(t)\n",
        "print(t.ndim) # rank\n",
        "print(t.shape) # shape\n",
        "print(t[0], t[1], t[-1])\n",
        "print(t[2:5], t[4:-1])\n",
        "print(t[:2], t[3:])"
      ],
      "id": "mFmofCKfa0FA",
      "execution_count": 6,
      "outputs": [
        {
          "output_type": "stream",
          "text": [
            "array([0., 1., 2., 3., 4., 5., 6.])\n",
            "1\n",
            "(7,)\n",
            "0.0 1.0 6.0\n",
            "[2. 3. 4.] [4. 5.]\n",
            "[0. 1.] [3. 4. 5. 6.]\n"
          ],
          "name": "stdout"
        }
      ]
    },
    {
      "cell_type": "markdown",
      "metadata": {
        "id": "GPQYV2FhcMCP"
      },
      "source": [
        "# 2D Array"
      ],
      "id": "GPQYV2FhcMCP"
    },
    {
      "cell_type": "code",
      "metadata": {
        "id": "30dxHmEPog-b",
        "outputId": "a6fc3a07-a610-42de-aeec-d2113efb898e",
        "colab": {
          "base_uri": "https://localhost:8080/"
        }
      },
      "source": [
        "t = np.array([[1., 2., 3.], [4., 5., 6.], [7., 8., 9.], [10., 11., 12.]])\n",
        "pp.pprint(t)\n",
        "print(t.ndim) # rank\n",
        "print(t.shape) # shape"
      ],
      "id": "30dxHmEPog-b",
      "execution_count": 7,
      "outputs": [
        {
          "output_type": "stream",
          "text": [
            "array([[ 1.,  2.,  3.],\n",
            "       [ 4.,  5.,  6.],\n",
            "       [ 7.,  8.,  9.],\n",
            "       [10., 11., 12.]])\n",
            "2\n",
            "(4, 3)\n"
          ],
          "name": "stdout"
        }
      ]
    },
    {
      "cell_type": "markdown",
      "metadata": {
        "id": "YBMXlfjicnoi"
      },
      "source": [
        "# Shape, Rank, Axis"
      ],
      "id": "YBMXlfjicnoi"
    },
    {
      "cell_type": "code",
      "metadata": {
        "id": "ydwAGDjQcJUv",
        "outputId": "0f2514d2-b3d7-40ae-d544-63ab2878b796",
        "colab": {
          "base_uri": "https://localhost:8080/"
        }
      },
      "source": [
        "t = tf.constant([1,2,3,4])\n",
        "tf.shape(t).numpy()"
      ],
      "id": "ydwAGDjQcJUv",
      "execution_count": 13,
      "outputs": [
        {
          "output_type": "execute_result",
          "data": {
            "text/plain": [
              "array([4], dtype=int32)"
            ]
          },
          "metadata": {
            "tags": []
          },
          "execution_count": 13
        }
      ]
    },
    {
      "cell_type": "code",
      "metadata": {
        "id": "6Ec458vkcvce",
        "outputId": "d8b2e701-c02b-4514-a42b-342dfab426b0",
        "colab": {
          "base_uri": "https://localhost:8080/"
        }
      },
      "source": [
        "t = tf.constant([[1,2],\n",
        "                 [3,4]])\n",
        "tf.shape(t).numpy()"
      ],
      "id": "6Ec458vkcvce",
      "execution_count": 14,
      "outputs": [
        {
          "output_type": "execute_result",
          "data": {
            "text/plain": [
              "array([2, 2], dtype=int32)"
            ]
          },
          "metadata": {
            "tags": []
          },
          "execution_count": 14
        }
      ]
    },
    {
      "cell_type": "code",
      "metadata": {
        "id": "Ac-2rysRc8IO",
        "outputId": "a055593a-9bf8-4c80-eacc-9a31a3e13ad2",
        "colab": {
          "base_uri": "https://localhost:8080/"
        }
      },
      "source": [
        "t = tf.constant([[[[1, 2, 3, 4], [5, 6, 7, 8], [9, 10, 11, 12]],[[13, 14, 15, 16], [17, 18, 19, 20], [21, 22, 23, 24]]]])\n",
        "tf.shape(t).numpy()"
      ],
      "id": "Ac-2rysRc8IO",
      "execution_count": 15,
      "outputs": [
        {
          "output_type": "execute_result",
          "data": {
            "text/plain": [
              "array([1, 2, 3, 4], dtype=int32)"
            ]
          },
          "metadata": {
            "tags": []
          },
          "execution_count": 15
        }
      ]
    },
    {
      "cell_type": "code",
      "metadata": {
        "id": "QhQG9bhwdYSC",
        "outputId": "46d298a4-33d3-4b53-de12-cae531d84da8",
        "colab": {
          "base_uri": "https://localhost:8080/"
        }
      },
      "source": [
        "[\n",
        "    [\n",
        "        [\n",
        "            [1,2,3,4], \n",
        "            [5,6,7,8],\n",
        "            [9,10,11,12]\n",
        "        ],\n",
        "        [\n",
        "            [13,14,15,16],\n",
        "            [17,18,19,20], \n",
        "            [21,22,23,24]\n",
        "        ]\n",
        "    ]\n",
        "]"
      ],
      "id": "QhQG9bhwdYSC",
      "execution_count": 16,
      "outputs": [
        {
          "output_type": "execute_result",
          "data": {
            "text/plain": [
              "[[[[1, 2, 3, 4], [5, 6, 7, 8], [9, 10, 11, 12]],\n",
              "  [[13, 14, 15, 16], [17, 18, 19, 20], [21, 22, 23, 24]]]]"
            ]
          },
          "metadata": {
            "tags": []
          },
          "execution_count": 16
        }
      ]
    },
    {
      "cell_type": "markdown",
      "metadata": {
        "id": "36PdNi_-dl5D"
      },
      "source": [
        "# Matmul VS multiply"
      ],
      "id": "36PdNi_-dl5D"
    },
    {
      "cell_type": "code",
      "metadata": {
        "id": "yxl6Av7GdeC7",
        "outputId": "bf18d72a-0abd-4e88-f3b5-066e72b02a9b",
        "colab": {
          "base_uri": "https://localhost:8080/"
        }
      },
      "source": [
        "matrix1 = tf.constant([[3., 3.]])\n",
        "matrix2 = tf.constant([[2.],[2.]])\n",
        "tf.matmul(matrix1, matrix2).numpy()"
      ],
      "id": "yxl6Av7GdeC7",
      "execution_count": 18,
      "outputs": [
        {
          "output_type": "execute_result",
          "data": {
            "text/plain": [
              "array([[12.]], dtype=float32)"
            ]
          },
          "metadata": {
            "tags": []
          },
          "execution_count": 18
        }
      ]
    },
    {
      "cell_type": "code",
      "metadata": {
        "id": "NyxfZHbnd0FZ",
        "outputId": "089c2dea-7880-4061-c38d-bff59d383fa5",
        "colab": {
          "base_uri": "https://localhost:8080/"
        }
      },
      "source": [
        "(matrix1*matrix2).numpy()"
      ],
      "id": "NyxfZHbnd0FZ",
      "execution_count": 19,
      "outputs": [
        {
          "output_type": "execute_result",
          "data": {
            "text/plain": [
              "array([[6., 6.],\n",
              "       [6., 6.]], dtype=float32)"
            ]
          },
          "metadata": {
            "tags": []
          },
          "execution_count": 19
        }
      ]
    },
    {
      "cell_type": "markdown",
      "metadata": {
        "id": "hAXGMQ-hekkN"
      },
      "source": [
        "# Watch out broadcasting"
      ],
      "id": "hAXGMQ-hekkN"
    },
    {
      "cell_type": "code",
      "metadata": {
        "id": "w3h-gbw_enAQ",
        "outputId": "629ade16-0709-4a1d-d286-15e8d0598107",
        "colab": {
          "base_uri": "https://localhost:8080/"
        }
      },
      "source": [
        "matrix1 = tf.constant([[3., 3.]])\n",
        "matrix2 = tf.constant([[2.],[2.]])\n",
        "(matrix1+matrix2).numpy()"
      ],
      "id": "w3h-gbw_enAQ",
      "execution_count": 21,
      "outputs": [
        {
          "output_type": "execute_result",
          "data": {
            "text/plain": [
              "array([[5., 5.],\n",
              "       [5., 5.]], dtype=float32)"
            ]
          },
          "metadata": {
            "tags": []
          },
          "execution_count": 21
        }
      ]
    },
    {
      "cell_type": "code",
      "metadata": {
        "id": "ZzrlcuECeCcI",
        "outputId": "6ea01171-7df6-4a5e-c135-5d9636d8b72a",
        "colab": {
          "base_uri": "https://localhost:8080/"
        }
      },
      "source": [
        "matrix1 = tf.constant([[3., 3.]])\n",
        "matrix2 = tf.constant([[2., 2.]])\n",
        "(matrix1+matrix2).numpy()"
      ],
      "id": "ZzrlcuECeCcI",
      "execution_count": 22,
      "outputs": [
        {
          "output_type": "execute_result",
          "data": {
            "text/plain": [
              "array([[5., 5.]], dtype=float32)"
            ]
          },
          "metadata": {
            "tags": []
          },
          "execution_count": 22
        }
      ]
    },
    {
      "cell_type": "markdown",
      "metadata": {
        "id": "WkMs781re_QS"
      },
      "source": [
        "# Random values for variable initializations"
      ],
      "id": "WkMs781re_QS"
    },
    {
      "cell_type": "code",
      "metadata": {
        "id": "1z1LVcMSfFHE",
        "outputId": "4c9fef28-cb3a-4d04-fcfe-6319889ca033",
        "colab": {
          "base_uri": "https://localhost:8080/"
        }
      },
      "source": [
        "tf.random.normal([3]).numpy()"
      ],
      "id": "1z1LVcMSfFHE",
      "execution_count": 24,
      "outputs": [
        {
          "output_type": "execute_result",
          "data": {
            "text/plain": [
              "array([ 0.08841158, -0.204986  , -0.03974847], dtype=float32)"
            ]
          },
          "metadata": {
            "tags": []
          },
          "execution_count": 24
        }
      ]
    },
    {
      "cell_type": "code",
      "metadata": {
        "id": "olJ8rGvDfMOX",
        "outputId": "f086df57-36a1-4c6c-bf1b-f4df90d92a19",
        "colab": {
          "base_uri": "https://localhost:8080/"
        }
      },
      "source": [
        "tf.random.uniform([2]).numpy()"
      ],
      "id": "olJ8rGvDfMOX",
      "execution_count": 27,
      "outputs": [
        {
          "output_type": "execute_result",
          "data": {
            "text/plain": [
              "array([0.18386662, 0.48262644], dtype=float32)"
            ]
          },
          "metadata": {
            "tags": []
          },
          "execution_count": 27
        }
      ]
    },
    {
      "cell_type": "code",
      "metadata": {
        "id": "7N3cFtiWfflp",
        "outputId": "44d024d0-4b33-4814-9e9c-e6cb28c15cb5",
        "colab": {
          "base_uri": "https://localhost:8080/"
        }
      },
      "source": [
        "tf.random.uniform([2,3]).numpy()"
      ],
      "id": "7N3cFtiWfflp",
      "execution_count": 28,
      "outputs": [
        {
          "output_type": "execute_result",
          "data": {
            "text/plain": [
              "array([[0.7526654 , 0.06489861, 0.7455903 ],\n",
              "       [0.17594862, 0.41897786, 0.6446935 ]], dtype=float32)"
            ]
          },
          "metadata": {
            "tags": []
          },
          "execution_count": 28
        }
      ]
    },
    {
      "cell_type": "markdown",
      "metadata": {
        "id": "t1uoHxOjfzoK"
      },
      "source": [
        "# Reduce Mean/Sum"
      ],
      "id": "t1uoHxOjfzoK"
    },
    {
      "cell_type": "code",
      "metadata": {
        "id": "wqyNEKNwf2kX",
        "outputId": "815109c7-9be6-4b44-ab8a-e505c1e94e24",
        "colab": {
          "base_uri": "https://localhost:8080/"
        }
      },
      "source": [
        "tf.reduce_mean([1, 2], axis=0).numpy()"
      ],
      "id": "wqyNEKNwf2kX",
      "execution_count": 29,
      "outputs": [
        {
          "output_type": "execute_result",
          "data": {
            "text/plain": [
              "1"
            ]
          },
          "metadata": {
            "tags": []
          },
          "execution_count": 29
        }
      ]
    },
    {
      "cell_type": "code",
      "metadata": {
        "id": "WGgtSzgtfwLS",
        "outputId": "af0218f7-ecda-4b13-f319-cf37ecc9ca20",
        "colab": {
          "base_uri": "https://localhost:8080/"
        }
      },
      "source": [
        "x = [[1., 2.],\n",
        "     [3., 4.]]\n",
        "\n",
        "\n",
        "tf.reduce_mean(x).numpy()"
      ],
      "id": "WGgtSzgtfwLS",
      "execution_count": 30,
      "outputs": [
        {
          "output_type": "execute_result",
          "data": {
            "text/plain": [
              "2.5"
            ]
          },
          "metadata": {
            "tags": []
          },
          "execution_count": 30
        }
      ]
    },
    {
      "cell_type": "code",
      "metadata": {
        "id": "8Ci-l6ErgE0S",
        "outputId": "f6f20fa4-410f-41c2-e709-ee06e0d3ec2e",
        "colab": {
          "base_uri": "https://localhost:8080/"
        }
      },
      "source": [
        "tf.reduce_mean(x, axis=0).numpy()"
      ],
      "id": "8Ci-l6ErgE0S",
      "execution_count": 31,
      "outputs": [
        {
          "output_type": "execute_result",
          "data": {
            "text/plain": [
              "array([2., 3.], dtype=float32)"
            ]
          },
          "metadata": {
            "tags": []
          },
          "execution_count": 31
        }
      ]
    },
    {
      "cell_type": "code",
      "metadata": {
        "id": "SwsK1wJYgMuk",
        "outputId": "637a84e3-b970-463c-b4ac-ec59e8aa2c5e",
        "colab": {
          "base_uri": "https://localhost:8080/"
        }
      },
      "source": [
        "tf.reduce_mean(x, axis=1).numpy()"
      ],
      "id": "SwsK1wJYgMuk",
      "execution_count": 32,
      "outputs": [
        {
          "output_type": "execute_result",
          "data": {
            "text/plain": [
              "array([1.5, 3.5], dtype=float32)"
            ]
          },
          "metadata": {
            "tags": []
          },
          "execution_count": 32
        }
      ]
    },
    {
      "cell_type": "code",
      "metadata": {
        "id": "KyuBbGHRgTzT",
        "outputId": "b49e93bd-cb7f-48a5-e0e3-273889154e0e",
        "colab": {
          "base_uri": "https://localhost:8080/"
        }
      },
      "source": [
        "tf.reduce_mean(x, axis=-1).numpy()"
      ],
      "id": "KyuBbGHRgTzT",
      "execution_count": 33,
      "outputs": [
        {
          "output_type": "execute_result",
          "data": {
            "text/plain": [
              "array([1.5, 3.5], dtype=float32)"
            ]
          },
          "metadata": {
            "tags": []
          },
          "execution_count": 33
        }
      ]
    },
    {
      "cell_type": "code",
      "metadata": {
        "id": "Uc3bxl8wgaZz",
        "outputId": "deab0dfb-aae7-4535-94f0-b46676acb288",
        "colab": {
          "base_uri": "https://localhost:8080/"
        }
      },
      "source": [
        "tf.reduce_sum(x).numpy()"
      ],
      "id": "Uc3bxl8wgaZz",
      "execution_count": 34,
      "outputs": [
        {
          "output_type": "execute_result",
          "data": {
            "text/plain": [
              "10.0"
            ]
          },
          "metadata": {
            "tags": []
          },
          "execution_count": 34
        }
      ]
    },
    {
      "cell_type": "code",
      "metadata": {
        "id": "Ix60e5laggRV",
        "outputId": "2465fdd8-20b7-4ad2-9208-d35bfa549729",
        "colab": {
          "base_uri": "https://localhost:8080/"
        }
      },
      "source": [
        "tf.reduce_sum(x, axis=0).numpy()"
      ],
      "id": "Ix60e5laggRV",
      "execution_count": 35,
      "outputs": [
        {
          "output_type": "execute_result",
          "data": {
            "text/plain": [
              "array([4., 6.], dtype=float32)"
            ]
          },
          "metadata": {
            "tags": []
          },
          "execution_count": 35
        }
      ]
    },
    {
      "cell_type": "code",
      "metadata": {
        "id": "-K9wXGzGgpGT",
        "outputId": "da7bb812-5464-4028-d7f8-d502991827dc",
        "colab": {
          "base_uri": "https://localhost:8080/"
        }
      },
      "source": [
        "tf.reduce_sum(x, axis=-1).numpy()"
      ],
      "id": "-K9wXGzGgpGT",
      "execution_count": 37,
      "outputs": [
        {
          "output_type": "execute_result",
          "data": {
            "text/plain": [
              "array([3., 7.], dtype=float32)"
            ]
          },
          "metadata": {
            "tags": []
          },
          "execution_count": 37
        }
      ]
    },
    {
      "cell_type": "code",
      "metadata": {
        "id": "rArAmNucgve2",
        "outputId": "86f44c11-8c65-4721-e7b9-9b4d91565893",
        "colab": {
          "base_uri": "https://localhost:8080/"
        }
      },
      "source": [
        "tf.reduce_mean(tf.reduce_sum(x, axis=-1)).numpy()"
      ],
      "id": "rArAmNucgve2",
      "execution_count": 38,
      "outputs": [
        {
          "output_type": "execute_result",
          "data": {
            "text/plain": [
              "5.0"
            ]
          },
          "metadata": {
            "tags": []
          },
          "execution_count": 38
        }
      ]
    },
    {
      "cell_type": "markdown",
      "metadata": {
        "id": "2ubs8Ns4g67m"
      },
      "source": [
        "# Argmax with axis"
      ],
      "id": "2ubs8Ns4g67m"
    },
    {
      "cell_type": "code",
      "metadata": {
        "id": "Tjv8QpLFg9Wg",
        "outputId": "bc7f3a33-b340-4db7-d7a1-4ff2ed70b20e",
        "colab": {
          "base_uri": "https://localhost:8080/"
        }
      },
      "source": [
        "x = [[0, 1, 2],\n",
        "     [2, 1, 0]]\n",
        "tf.argmax(x, axis=0).numpy()"
      ],
      "id": "Tjv8QpLFg9Wg",
      "execution_count": 39,
      "outputs": [
        {
          "output_type": "execute_result",
          "data": {
            "text/plain": [
              "array([1, 0, 0])"
            ]
          },
          "metadata": {
            "tags": []
          },
          "execution_count": 39
        }
      ]
    },
    {
      "cell_type": "code",
      "metadata": {
        "id": "gR7vwzsAhEFl",
        "outputId": "8c09c152-5f56-4a51-f7fa-2b25e7a94eeb",
        "colab": {
          "base_uri": "https://localhost:8080/"
        }
      },
      "source": [
        "tf.argmax(x, axis=1).numpy()"
      ],
      "id": "gR7vwzsAhEFl",
      "execution_count": 40,
      "outputs": [
        {
          "output_type": "execute_result",
          "data": {
            "text/plain": [
              "array([2, 0])"
            ]
          },
          "metadata": {
            "tags": []
          },
          "execution_count": 40
        }
      ]
    },
    {
      "cell_type": "code",
      "metadata": {
        "id": "mfpyExLdhKUk",
        "outputId": "f834f27b-29da-40d2-8929-e0a09e74a640",
        "colab": {
          "base_uri": "https://localhost:8080/"
        }
      },
      "source": [
        "tf.argmax(x, axis=-1).numpy()"
      ],
      "id": "mfpyExLdhKUk",
      "execution_count": 41,
      "outputs": [
        {
          "output_type": "execute_result",
          "data": {
            "text/plain": [
              "array([2, 0])"
            ]
          },
          "metadata": {
            "tags": []
          },
          "execution_count": 41
        }
      ]
    },
    {
      "cell_type": "markdown",
      "metadata": {
        "id": "ATf8NGTAhUkU"
      },
      "source": [
        "# Reshape, squeeze, expand_dims"
      ],
      "id": "ATf8NGTAhUkU"
    },
    {
      "cell_type": "code",
      "metadata": {
        "id": "uLxp3lqzhWJN",
        "outputId": "7da26cb7-6310-4df2-a884-363aa04b48a2",
        "colab": {
          "base_uri": "https://localhost:8080/"
        }
      },
      "source": [
        "t = np.array([[[0, 1, 2], \n",
        "               [3, 4, 5]],\n",
        "              \n",
        "              [[6, 7, 8], \n",
        "               [9, 10, 11]]])\n",
        "t.shape"
      ],
      "id": "uLxp3lqzhWJN",
      "execution_count": 42,
      "outputs": [
        {
          "output_type": "execute_result",
          "data": {
            "text/plain": [
              "(2, 2, 3)"
            ]
          },
          "metadata": {
            "tags": []
          },
          "execution_count": 42
        }
      ]
    },
    {
      "cell_type": "code",
      "metadata": {
        "id": "yz86Noxmhacu",
        "outputId": "fe0d641c-eb66-4c9b-81fa-3d530271fc79",
        "colab": {
          "base_uri": "https://localhost:8080/"
        }
      },
      "source": [
        "tf.reshape(t, shape=[-1, 3]).numpy()"
      ],
      "id": "yz86Noxmhacu",
      "execution_count": 43,
      "outputs": [
        {
          "output_type": "execute_result",
          "data": {
            "text/plain": [
              "array([[ 0,  1,  2],\n",
              "       [ 3,  4,  5],\n",
              "       [ 6,  7,  8],\n",
              "       [ 9, 10, 11]])"
            ]
          },
          "metadata": {
            "tags": []
          },
          "execution_count": 43
        }
      ]
    },
    {
      "cell_type": "code",
      "metadata": {
        "id": "zgVWyEUIhiee",
        "outputId": "336cca46-4450-4995-8029-0c2414d59b3f",
        "colab": {
          "base_uri": "https://localhost:8080/"
        }
      },
      "source": [
        "tf.reshape(t, shape=[-1, 1, 3]).numpy()"
      ],
      "id": "zgVWyEUIhiee",
      "execution_count": 44,
      "outputs": [
        {
          "output_type": "execute_result",
          "data": {
            "text/plain": [
              "array([[[ 0,  1,  2]],\n",
              "\n",
              "       [[ 3,  4,  5]],\n",
              "\n",
              "       [[ 6,  7,  8]],\n",
              "\n",
              "       [[ 9, 10, 11]]])"
            ]
          },
          "metadata": {
            "tags": []
          },
          "execution_count": 44
        }
      ]
    },
    {
      "cell_type": "code",
      "metadata": {
        "id": "spXZkCC9hPU_",
        "outputId": "8a971582-f532-4f2a-dc81-5a41b6d96659",
        "colab": {
          "base_uri": "https://localhost:8080/"
        }
      },
      "source": [
        "tf.squeeze([[0], [1], [2]]).numpy()"
      ],
      "id": "spXZkCC9hPU_",
      "execution_count": 45,
      "outputs": [
        {
          "output_type": "execute_result",
          "data": {
            "text/plain": [
              "array([0, 1, 2], dtype=int32)"
            ]
          },
          "metadata": {
            "tags": []
          },
          "execution_count": 45
        }
      ]
    },
    {
      "cell_type": "code",
      "metadata": {
        "id": "Hb85eyg5gs5X",
        "outputId": "9219aaae-ba63-4942-d01b-9360ef884e3b",
        "colab": {
          "base_uri": "https://localhost:8080/"
        }
      },
      "source": [
        "tf.expand_dims([0, 1, 2], 1).numpy()"
      ],
      "id": "Hb85eyg5gs5X",
      "execution_count": 46,
      "outputs": [
        {
          "output_type": "execute_result",
          "data": {
            "text/plain": [
              "array([[0],\n",
              "       [1],\n",
              "       [2]], dtype=int32)"
            ]
          },
          "metadata": {
            "tags": []
          },
          "execution_count": 46
        }
      ]
    },
    {
      "cell_type": "markdown",
      "metadata": {
        "id": "lcPHFg4Eh69G"
      },
      "source": [
        "# One hot"
      ],
      "id": "lcPHFg4Eh69G"
    },
    {
      "cell_type": "code",
      "metadata": {
        "id": "_QTm6pmah28E",
        "outputId": "ee574b85-c12c-4ab9-9d90-c16b537e8633",
        "colab": {
          "base_uri": "https://localhost:8080/"
        }
      },
      "source": [
        "tf.one_hot([[0], [1], [2], [0]], depth=3).numpy()"
      ],
      "id": "_QTm6pmah28E",
      "execution_count": 47,
      "outputs": [
        {
          "output_type": "execute_result",
          "data": {
            "text/plain": [
              "array([[[1., 0., 0.]],\n",
              "\n",
              "       [[0., 1., 0.]],\n",
              "\n",
              "       [[0., 0., 1.]],\n",
              "\n",
              "       [[1., 0., 0.]]], dtype=float32)"
            ]
          },
          "metadata": {
            "tags": []
          },
          "execution_count": 47
        }
      ]
    },
    {
      "cell_type": "code",
      "metadata": {
        "id": "vPpXqcZ2iBON",
        "outputId": "f18bfd96-b936-41da-8202-75c872431f14",
        "colab": {
          "base_uri": "https://localhost:8080/"
        }
      },
      "source": [
        "t = tf.one_hot([[0], [1], [2], [0]], depth=3)\n",
        "tf.reshape(t, shape=[-1, 3]).numpy()"
      ],
      "id": "vPpXqcZ2iBON",
      "execution_count": 48,
      "outputs": [
        {
          "output_type": "execute_result",
          "data": {
            "text/plain": [
              "array([[1., 0., 0.],\n",
              "       [0., 1., 0.],\n",
              "       [0., 0., 1.],\n",
              "       [1., 0., 0.]], dtype=float32)"
            ]
          },
          "metadata": {
            "tags": []
          },
          "execution_count": 48
        }
      ]
    },
    {
      "cell_type": "markdown",
      "metadata": {
        "id": "i4-JCigdiO8f"
      },
      "source": [
        "# Casting"
      ],
      "id": "i4-JCigdiO8f"
    },
    {
      "cell_type": "code",
      "metadata": {
        "id": "6hcpLjt9iJNP"
      },
      "source": [
        ""
      ],
      "id": "6hcpLjt9iJNP",
      "execution_count": null,
      "outputs": []
    }
  ]
}