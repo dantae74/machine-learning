{
  "nbformat": 4,
  "nbformat_minor": 5,
  "metadata": {
    "colab": {
      "name": "08-01-tensor-manipulation.ipynb",
      "provenance": [],
      "include_colab_link": true
    },
    "language_info": {
      "name": "python"
    },
    "kernelspec": {
      "name": "python3",
      "display_name": "Python 3"
    }
  },
  "cells": [
    {
      "cell_type": "markdown",
      "metadata": {
        "id": "view-in-github",
        "colab_type": "text"
      },
      "source": [
        "<a href=\"https://colab.research.google.com/github/dantae74/machine-learning/blob/main/08-01-tensor-manipulation.ipynb\" target=\"_parent\"><img src=\"https://colab.research.google.com/assets/colab-badge.svg\" alt=\"Open In Colab\"/></a>"
      ]
    },
    {
      "cell_type": "markdown",
      "metadata": {
        "id": "WfgQSbgOoe-2"
      },
      "source": [
        "모두를 위한 머신러닝에서 가져왔습니다.\n",
        "# Tensor Manipulation"
      ],
      "id": "WfgQSbgOoe-2"
    },
    {
      "cell_type": "code",
      "metadata": {
        "id": "RK3QTbWDofS7"
      },
      "source": [
        "import tensorflow as tf\n",
        "import numpy as np\n",
        "import pprint\n",
        "pp = pprint.PrettyPrinter(indent=4)"
      ],
      "id": "RK3QTbWDofS7",
      "execution_count": 1,
      "outputs": []
    },
    {
      "cell_type": "markdown",
      "metadata": {
        "id": "t-iKSqtLbi6v"
      },
      "source": [
        "# Simple array"
      ],
      "id": "t-iKSqtLbi6v"
    },
    {
      "cell_type": "code",
      "metadata": {
        "id": "mFmofCKfa0FA",
        "colab": {
          "base_uri": "https://localhost:8080/"
        },
        "outputId": "ddef95bf-9be4-4158-a380-982b20251ea8"
      },
      "source": [
        "t = np.array([0., 1., 2., 3., 4., 5., 6.])\n",
        "pp.pprint(t)\n",
        "print(t.ndim) # rank\n",
        "print(t.shape) # shape\n",
        "print(t[0], t[1], t[-1])\n",
        "print(t[2:5], t[4:-1])\n",
        "print(t[:2], t[3:])"
      ],
      "id": "mFmofCKfa0FA",
      "execution_count": 2,
      "outputs": [
        {
          "output_type": "stream",
          "text": [
            "array([0., 1., 2., 3., 4., 5., 6.])\n",
            "1\n",
            "(7,)\n",
            "0.0 1.0 6.0\n",
            "[2. 3. 4.] [4. 5.]\n",
            "[0. 1.] [3. 4. 5. 6.]\n"
          ],
          "name": "stdout"
        }
      ]
    },
    {
      "cell_type": "markdown",
      "metadata": {
        "id": "GPQYV2FhcMCP"
      },
      "source": [
        "# 2D Array"
      ],
      "id": "GPQYV2FhcMCP"
    },
    {
      "cell_type": "code",
      "metadata": {
        "id": "30dxHmEPog-b",
        "colab": {
          "base_uri": "https://localhost:8080/"
        },
        "outputId": "8e7e2932-dd17-487c-eb65-54a4f2238974"
      },
      "source": [
        "t = np.array([[1., 2., 3.], [4., 5., 6.], [7., 8., 9.], [10., 11., 12.]])\n",
        "pp.pprint(t)\n",
        "print(t.ndim) # rank\n",
        "print(t.shape) # shape"
      ],
      "id": "30dxHmEPog-b",
      "execution_count": 3,
      "outputs": [
        {
          "output_type": "stream",
          "text": [
            "array([[ 1.,  2.,  3.],\n",
            "       [ 4.,  5.,  6.],\n",
            "       [ 7.,  8.,  9.],\n",
            "       [10., 11., 12.]])\n",
            "2\n",
            "(4, 3)\n"
          ],
          "name": "stdout"
        }
      ]
    },
    {
      "cell_type": "markdown",
      "metadata": {
        "id": "YBMXlfjicnoi"
      },
      "source": [
        "# Shape, Rank, Axis"
      ],
      "id": "YBMXlfjicnoi"
    },
    {
      "cell_type": "code",
      "metadata": {
        "id": "ydwAGDjQcJUv",
        "colab": {
          "base_uri": "https://localhost:8080/"
        },
        "outputId": "97e13355-5ea2-4abe-fc4b-2ac16fb35164"
      },
      "source": [
        "t = tf.constant([1,2,3,4])\n",
        "tf.shape(t).numpy()"
      ],
      "id": "ydwAGDjQcJUv",
      "execution_count": 4,
      "outputs": [
        {
          "output_type": "execute_result",
          "data": {
            "text/plain": [
              "array([4], dtype=int32)"
            ]
          },
          "metadata": {
            "tags": []
          },
          "execution_count": 4
        }
      ]
    },
    {
      "cell_type": "code",
      "metadata": {
        "id": "6Ec458vkcvce",
        "colab": {
          "base_uri": "https://localhost:8080/"
        },
        "outputId": "4735745e-d776-4009-b343-ca46ed2556cf"
      },
      "source": [
        "t = tf.constant([[1,2],\n",
        "                 [3,4]])\n",
        "tf.shape(t).numpy()"
      ],
      "id": "6Ec458vkcvce",
      "execution_count": 5,
      "outputs": [
        {
          "output_type": "execute_result",
          "data": {
            "text/plain": [
              "array([2, 2], dtype=int32)"
            ]
          },
          "metadata": {
            "tags": []
          },
          "execution_count": 5
        }
      ]
    },
    {
      "cell_type": "code",
      "metadata": {
        "id": "Ac-2rysRc8IO",
        "colab": {
          "base_uri": "https://localhost:8080/"
        },
        "outputId": "72eb0ea9-94de-4394-ef16-e1b2722a4123"
      },
      "source": [
        "t = tf.constant([[[[1, 2, 3, 4], [5, 6, 7, 8], [9, 10, 11, 12]],[[13, 14, 15, 16], [17, 18, 19, 20], [21, 22, 23, 24]]]])\n",
        "tf.shape(t).numpy()"
      ],
      "id": "Ac-2rysRc8IO",
      "execution_count": 6,
      "outputs": [
        {
          "output_type": "execute_result",
          "data": {
            "text/plain": [
              "array([1, 2, 3, 4], dtype=int32)"
            ]
          },
          "metadata": {
            "tags": []
          },
          "execution_count": 6
        }
      ]
    },
    {
      "cell_type": "code",
      "metadata": {
        "id": "QhQG9bhwdYSC",
        "colab": {
          "base_uri": "https://localhost:8080/"
        },
        "outputId": "96af6125-7621-4750-a4ff-d53950a68711"
      },
      "source": [
        "[\n",
        "    [\n",
        "        [\n",
        "            [1,2,3,4], \n",
        "            [5,6,7,8],\n",
        "            [9,10,11,12]\n",
        "        ],\n",
        "        [\n",
        "            [13,14,15,16],\n",
        "            [17,18,19,20], \n",
        "            [21,22,23,24]\n",
        "        ]\n",
        "    ]\n",
        "]"
      ],
      "id": "QhQG9bhwdYSC",
      "execution_count": 7,
      "outputs": [
        {
          "output_type": "execute_result",
          "data": {
            "text/plain": [
              "[[[[1, 2, 3, 4], [5, 6, 7, 8], [9, 10, 11, 12]],\n",
              "  [[13, 14, 15, 16], [17, 18, 19, 20], [21, 22, 23, 24]]]]"
            ]
          },
          "metadata": {
            "tags": []
          },
          "execution_count": 7
        }
      ]
    },
    {
      "cell_type": "markdown",
      "metadata": {
        "id": "36PdNi_-dl5D"
      },
      "source": [
        "# Matmul VS multiply"
      ],
      "id": "36PdNi_-dl5D"
    },
    {
      "cell_type": "code",
      "metadata": {
        "id": "yxl6Av7GdeC7",
        "colab": {
          "base_uri": "https://localhost:8080/"
        },
        "outputId": "cfb8555e-9aef-4bc8-cb91-9c3aad28bd9b"
      },
      "source": [
        "matrix1 = tf.constant([[3., 3.]])\n",
        "matrix2 = tf.constant([[2.],[2.]])\n",
        "tf.matmul(matrix1, matrix2).numpy()"
      ],
      "id": "yxl6Av7GdeC7",
      "execution_count": 8,
      "outputs": [
        {
          "output_type": "execute_result",
          "data": {
            "text/plain": [
              "array([[12.]], dtype=float32)"
            ]
          },
          "metadata": {
            "tags": []
          },
          "execution_count": 8
        }
      ]
    },
    {
      "cell_type": "code",
      "metadata": {
        "id": "NyxfZHbnd0FZ",
        "colab": {
          "base_uri": "https://localhost:8080/"
        },
        "outputId": "b069be5b-de51-4a81-beb3-89f542e929fb"
      },
      "source": [
        "(matrix1*matrix2).numpy()"
      ],
      "id": "NyxfZHbnd0FZ",
      "execution_count": 9,
      "outputs": [
        {
          "output_type": "execute_result",
          "data": {
            "text/plain": [
              "array([[6., 6.],\n",
              "       [6., 6.]], dtype=float32)"
            ]
          },
          "metadata": {
            "tags": []
          },
          "execution_count": 9
        }
      ]
    },
    {
      "cell_type": "markdown",
      "metadata": {
        "id": "hAXGMQ-hekkN"
      },
      "source": [
        "# Watch out broadcasting"
      ],
      "id": "hAXGMQ-hekkN"
    },
    {
      "cell_type": "code",
      "metadata": {
        "id": "w3h-gbw_enAQ",
        "colab": {
          "base_uri": "https://localhost:8080/"
        },
        "outputId": "457c3041-0460-490c-b97f-0e9922a72636"
      },
      "source": [
        "matrix1 = tf.constant([[3., 3.]])\n",
        "matrix2 = tf.constant([[2.],[2.]])\n",
        "(matrix1+matrix2).numpy()"
      ],
      "id": "w3h-gbw_enAQ",
      "execution_count": 10,
      "outputs": [
        {
          "output_type": "execute_result",
          "data": {
            "text/plain": [
              "array([[5., 5.],\n",
              "       [5., 5.]], dtype=float32)"
            ]
          },
          "metadata": {
            "tags": []
          },
          "execution_count": 10
        }
      ]
    },
    {
      "cell_type": "code",
      "metadata": {
        "id": "ZzrlcuECeCcI",
        "colab": {
          "base_uri": "https://localhost:8080/"
        },
        "outputId": "841b2cd3-cdcb-425f-c80a-462115334df3"
      },
      "source": [
        "matrix1 = tf.constant([[3., 3.]])\n",
        "matrix2 = tf.constant([[2., 2.]])\n",
        "(matrix1+matrix2).numpy()"
      ],
      "id": "ZzrlcuECeCcI",
      "execution_count": 11,
      "outputs": [
        {
          "output_type": "execute_result",
          "data": {
            "text/plain": [
              "array([[5., 5.]], dtype=float32)"
            ]
          },
          "metadata": {
            "tags": []
          },
          "execution_count": 11
        }
      ]
    },
    {
      "cell_type": "markdown",
      "metadata": {
        "id": "WkMs781re_QS"
      },
      "source": [
        "# Random values for variable initializations"
      ],
      "id": "WkMs781re_QS"
    },
    {
      "cell_type": "code",
      "metadata": {
        "id": "1z1LVcMSfFHE",
        "colab": {
          "base_uri": "https://localhost:8080/"
        },
        "outputId": "775516a1-ee90-4c82-a8b7-f04a94712cb4"
      },
      "source": [
        "tf.random.normal([3]).numpy()"
      ],
      "id": "1z1LVcMSfFHE",
      "execution_count": 12,
      "outputs": [
        {
          "output_type": "execute_result",
          "data": {
            "text/plain": [
              "array([-0.5827057 , -1.4170836 , -0.27478746], dtype=float32)"
            ]
          },
          "metadata": {
            "tags": []
          },
          "execution_count": 12
        }
      ]
    },
    {
      "cell_type": "code",
      "metadata": {
        "id": "olJ8rGvDfMOX",
        "colab": {
          "base_uri": "https://localhost:8080/"
        },
        "outputId": "c6eaa447-228f-4644-c161-9b4b780c7f24"
      },
      "source": [
        "tf.random.uniform([2]).numpy()"
      ],
      "id": "olJ8rGvDfMOX",
      "execution_count": 13,
      "outputs": [
        {
          "output_type": "execute_result",
          "data": {
            "text/plain": [
              "array([0.38380265, 0.11822426], dtype=float32)"
            ]
          },
          "metadata": {
            "tags": []
          },
          "execution_count": 13
        }
      ]
    },
    {
      "cell_type": "code",
      "metadata": {
        "id": "7N3cFtiWfflp",
        "colab": {
          "base_uri": "https://localhost:8080/"
        },
        "outputId": "1700af12-5f89-4ebe-fc17-fd15495a3e12"
      },
      "source": [
        "tf.random.uniform([2,3]).numpy()"
      ],
      "id": "7N3cFtiWfflp",
      "execution_count": 14,
      "outputs": [
        {
          "output_type": "execute_result",
          "data": {
            "text/plain": [
              "array([[0.5190456 , 0.8546134 , 0.20357311],\n",
              "       [0.5347223 , 0.224702  , 0.1844207 ]], dtype=float32)"
            ]
          },
          "metadata": {
            "tags": []
          },
          "execution_count": 14
        }
      ]
    },
    {
      "cell_type": "markdown",
      "metadata": {
        "id": "t1uoHxOjfzoK"
      },
      "source": [
        "# Reduce Mean/Sum"
      ],
      "id": "t1uoHxOjfzoK"
    },
    {
      "cell_type": "code",
      "metadata": {
        "id": "wqyNEKNwf2kX",
        "colab": {
          "base_uri": "https://localhost:8080/"
        },
        "outputId": "ba9d4dca-4561-4d8b-c49d-bab1648c485f"
      },
      "source": [
        "tf.reduce_mean([1, 2], axis=0).numpy()"
      ],
      "id": "wqyNEKNwf2kX",
      "execution_count": 15,
      "outputs": [
        {
          "output_type": "execute_result",
          "data": {
            "text/plain": [
              "1"
            ]
          },
          "metadata": {
            "tags": []
          },
          "execution_count": 15
        }
      ]
    },
    {
      "cell_type": "code",
      "metadata": {
        "id": "WGgtSzgtfwLS",
        "colab": {
          "base_uri": "https://localhost:8080/"
        },
        "outputId": "d1843a82-155d-4aab-b8e8-43f2928466fc"
      },
      "source": [
        "x = [[1., 2.],\n",
        "     [3., 4.]]\n",
        "\n",
        "\n",
        "tf.reduce_mean(x).numpy()"
      ],
      "id": "WGgtSzgtfwLS",
      "execution_count": 16,
      "outputs": [
        {
          "output_type": "execute_result",
          "data": {
            "text/plain": [
              "2.5"
            ]
          },
          "metadata": {
            "tags": []
          },
          "execution_count": 16
        }
      ]
    },
    {
      "cell_type": "code",
      "metadata": {
        "id": "8Ci-l6ErgE0S",
        "colab": {
          "base_uri": "https://localhost:8080/"
        },
        "outputId": "54072170-78df-4c93-98d5-1754a469f2f9"
      },
      "source": [
        "tf.reduce_mean(x, axis=0).numpy()"
      ],
      "id": "8Ci-l6ErgE0S",
      "execution_count": 17,
      "outputs": [
        {
          "output_type": "execute_result",
          "data": {
            "text/plain": [
              "array([2., 3.], dtype=float32)"
            ]
          },
          "metadata": {
            "tags": []
          },
          "execution_count": 17
        }
      ]
    },
    {
      "cell_type": "code",
      "metadata": {
        "id": "SwsK1wJYgMuk",
        "colab": {
          "base_uri": "https://localhost:8080/"
        },
        "outputId": "7c578a56-cbda-474d-fd7b-d8defc6d4bbd"
      },
      "source": [
        "tf.reduce_mean(x, axis=1).numpy()"
      ],
      "id": "SwsK1wJYgMuk",
      "execution_count": 18,
      "outputs": [
        {
          "output_type": "execute_result",
          "data": {
            "text/plain": [
              "array([1.5, 3.5], dtype=float32)"
            ]
          },
          "metadata": {
            "tags": []
          },
          "execution_count": 18
        }
      ]
    },
    {
      "cell_type": "code",
      "metadata": {
        "id": "KyuBbGHRgTzT",
        "colab": {
          "base_uri": "https://localhost:8080/"
        },
        "outputId": "6ac04d39-4798-43a1-9228-24dc185ac160"
      },
      "source": [
        "tf.reduce_mean(x, axis=-1).numpy()"
      ],
      "id": "KyuBbGHRgTzT",
      "execution_count": 19,
      "outputs": [
        {
          "output_type": "execute_result",
          "data": {
            "text/plain": [
              "array([1.5, 3.5], dtype=float32)"
            ]
          },
          "metadata": {
            "tags": []
          },
          "execution_count": 19
        }
      ]
    },
    {
      "cell_type": "code",
      "metadata": {
        "id": "Uc3bxl8wgaZz",
        "colab": {
          "base_uri": "https://localhost:8080/"
        },
        "outputId": "1956573f-6405-4f46-ca69-021b277b9dff"
      },
      "source": [
        "tf.reduce_sum(x).numpy()"
      ],
      "id": "Uc3bxl8wgaZz",
      "execution_count": 20,
      "outputs": [
        {
          "output_type": "execute_result",
          "data": {
            "text/plain": [
              "10.0"
            ]
          },
          "metadata": {
            "tags": []
          },
          "execution_count": 20
        }
      ]
    },
    {
      "cell_type": "code",
      "metadata": {
        "id": "Ix60e5laggRV",
        "colab": {
          "base_uri": "https://localhost:8080/"
        },
        "outputId": "a25cdfd8-5ce6-46ca-ca2e-0d5ceba6ebda"
      },
      "source": [
        "tf.reduce_sum(x, axis=0).numpy()"
      ],
      "id": "Ix60e5laggRV",
      "execution_count": 21,
      "outputs": [
        {
          "output_type": "execute_result",
          "data": {
            "text/plain": [
              "array([4., 6.], dtype=float32)"
            ]
          },
          "metadata": {
            "tags": []
          },
          "execution_count": 21
        }
      ]
    },
    {
      "cell_type": "code",
      "metadata": {
        "id": "-K9wXGzGgpGT",
        "colab": {
          "base_uri": "https://localhost:8080/"
        },
        "outputId": "84d668aa-bfc3-4ede-f170-8a060bd5fe27"
      },
      "source": [
        "tf.reduce_sum(x, axis=-1).numpy()"
      ],
      "id": "-K9wXGzGgpGT",
      "execution_count": 22,
      "outputs": [
        {
          "output_type": "execute_result",
          "data": {
            "text/plain": [
              "array([3., 7.], dtype=float32)"
            ]
          },
          "metadata": {
            "tags": []
          },
          "execution_count": 22
        }
      ]
    },
    {
      "cell_type": "code",
      "metadata": {
        "id": "rArAmNucgve2",
        "colab": {
          "base_uri": "https://localhost:8080/"
        },
        "outputId": "e96055ad-4ee0-45d7-8d06-a2598eb58735"
      },
      "source": [
        "tf.reduce_mean(tf.reduce_sum(x, axis=-1)).numpy()"
      ],
      "id": "rArAmNucgve2",
      "execution_count": 23,
      "outputs": [
        {
          "output_type": "execute_result",
          "data": {
            "text/plain": [
              "5.0"
            ]
          },
          "metadata": {
            "tags": []
          },
          "execution_count": 23
        }
      ]
    },
    {
      "cell_type": "markdown",
      "metadata": {
        "id": "2ubs8Ns4g67m"
      },
      "source": [
        "# Argmax with axis"
      ],
      "id": "2ubs8Ns4g67m"
    },
    {
      "cell_type": "code",
      "metadata": {
        "id": "Tjv8QpLFg9Wg",
        "colab": {
          "base_uri": "https://localhost:8080/"
        },
        "outputId": "2e66d90a-e345-4666-e70a-e5f503bda432"
      },
      "source": [
        "x = [[0, 1, 2],\n",
        "     [2, 1, 0]]\n",
        "tf.argmax(x, axis=0).numpy()"
      ],
      "id": "Tjv8QpLFg9Wg",
      "execution_count": 24,
      "outputs": [
        {
          "output_type": "execute_result",
          "data": {
            "text/plain": [
              "array([1, 0, 0])"
            ]
          },
          "metadata": {
            "tags": []
          },
          "execution_count": 24
        }
      ]
    },
    {
      "cell_type": "code",
      "metadata": {
        "id": "gR7vwzsAhEFl",
        "colab": {
          "base_uri": "https://localhost:8080/"
        },
        "outputId": "fb3c4075-a7e2-4e5c-d229-2b32858596f6"
      },
      "source": [
        "tf.argmax(x, axis=1).numpy()"
      ],
      "id": "gR7vwzsAhEFl",
      "execution_count": 25,
      "outputs": [
        {
          "output_type": "execute_result",
          "data": {
            "text/plain": [
              "array([2, 0])"
            ]
          },
          "metadata": {
            "tags": []
          },
          "execution_count": 25
        }
      ]
    },
    {
      "cell_type": "code",
      "metadata": {
        "id": "mfpyExLdhKUk",
        "colab": {
          "base_uri": "https://localhost:8080/"
        },
        "outputId": "754eb585-2615-4b53-e7f9-4156542b5a70"
      },
      "source": [
        "tf.argmax(x, axis=-1).numpy()"
      ],
      "id": "mfpyExLdhKUk",
      "execution_count": 26,
      "outputs": [
        {
          "output_type": "execute_result",
          "data": {
            "text/plain": [
              "array([2, 0])"
            ]
          },
          "metadata": {
            "tags": []
          },
          "execution_count": 26
        }
      ]
    },
    {
      "cell_type": "markdown",
      "metadata": {
        "id": "ATf8NGTAhUkU"
      },
      "source": [
        "# Reshape, squeeze, expand_dims"
      ],
      "id": "ATf8NGTAhUkU"
    },
    {
      "cell_type": "code",
      "metadata": {
        "id": "uLxp3lqzhWJN",
        "colab": {
          "base_uri": "https://localhost:8080/"
        },
        "outputId": "a4420a01-0f55-49fa-8ff7-3e55bcd067d3"
      },
      "source": [
        "t = np.array([[[0, 1, 2], \n",
        "               [3, 4, 5]],\n",
        "              \n",
        "              [[6, 7, 8], \n",
        "               [9, 10, 11]]])\n",
        "t.shape"
      ],
      "id": "uLxp3lqzhWJN",
      "execution_count": 27,
      "outputs": [
        {
          "output_type": "execute_result",
          "data": {
            "text/plain": [
              "(2, 2, 3)"
            ]
          },
          "metadata": {
            "tags": []
          },
          "execution_count": 27
        }
      ]
    },
    {
      "cell_type": "code",
      "metadata": {
        "id": "yz86Noxmhacu",
        "colab": {
          "base_uri": "https://localhost:8080/"
        },
        "outputId": "6a60f264-f2c2-4317-83da-a1c623d2e591"
      },
      "source": [
        "tf.reshape(t, shape=[-1, 3]).numpy()"
      ],
      "id": "yz86Noxmhacu",
      "execution_count": 28,
      "outputs": [
        {
          "output_type": "execute_result",
          "data": {
            "text/plain": [
              "array([[ 0,  1,  2],\n",
              "       [ 3,  4,  5],\n",
              "       [ 6,  7,  8],\n",
              "       [ 9, 10, 11]])"
            ]
          },
          "metadata": {
            "tags": []
          },
          "execution_count": 28
        }
      ]
    },
    {
      "cell_type": "code",
      "metadata": {
        "id": "zgVWyEUIhiee",
        "colab": {
          "base_uri": "https://localhost:8080/"
        },
        "outputId": "93da8439-0d98-4653-972a-2dbce4511173"
      },
      "source": [
        "tf.reshape(t, shape=[-1, 1, 3]).numpy()"
      ],
      "id": "zgVWyEUIhiee",
      "execution_count": 29,
      "outputs": [
        {
          "output_type": "execute_result",
          "data": {
            "text/plain": [
              "array([[[ 0,  1,  2]],\n",
              "\n",
              "       [[ 3,  4,  5]],\n",
              "\n",
              "       [[ 6,  7,  8]],\n",
              "\n",
              "       [[ 9, 10, 11]]])"
            ]
          },
          "metadata": {
            "tags": []
          },
          "execution_count": 29
        }
      ]
    },
    {
      "cell_type": "code",
      "metadata": {
        "id": "spXZkCC9hPU_",
        "colab": {
          "base_uri": "https://localhost:8080/"
        },
        "outputId": "d4468d2e-1d7b-4551-ae34-8f6d2b702b5f"
      },
      "source": [
        "tf.squeeze([[0], [1], [2]]).numpy()"
      ],
      "id": "spXZkCC9hPU_",
      "execution_count": 30,
      "outputs": [
        {
          "output_type": "execute_result",
          "data": {
            "text/plain": [
              "array([0, 1, 2], dtype=int32)"
            ]
          },
          "metadata": {
            "tags": []
          },
          "execution_count": 30
        }
      ]
    },
    {
      "cell_type": "code",
      "metadata": {
        "id": "Hb85eyg5gs5X",
        "colab": {
          "base_uri": "https://localhost:8080/"
        },
        "outputId": "c2158ee9-beb7-4ba6-a54f-c8a960520315"
      },
      "source": [
        "tf.expand_dims([0, 1, 2], 1).numpy()"
      ],
      "id": "Hb85eyg5gs5X",
      "execution_count": 31,
      "outputs": [
        {
          "output_type": "execute_result",
          "data": {
            "text/plain": [
              "array([[0],\n",
              "       [1],\n",
              "       [2]], dtype=int32)"
            ]
          },
          "metadata": {
            "tags": []
          },
          "execution_count": 31
        }
      ]
    },
    {
      "cell_type": "markdown",
      "metadata": {
        "id": "lcPHFg4Eh69G"
      },
      "source": [
        "# One hot"
      ],
      "id": "lcPHFg4Eh69G"
    },
    {
      "cell_type": "code",
      "metadata": {
        "id": "_QTm6pmah28E",
        "colab": {
          "base_uri": "https://localhost:8080/"
        },
        "outputId": "2e0b468d-61b8-448a-b848-136c1d906b43"
      },
      "source": [
        "tf.one_hot([[0], [1], [2], [0]], depth=3).numpy()"
      ],
      "id": "_QTm6pmah28E",
      "execution_count": 32,
      "outputs": [
        {
          "output_type": "execute_result",
          "data": {
            "text/plain": [
              "array([[[1., 0., 0.]],\n",
              "\n",
              "       [[0., 1., 0.]],\n",
              "\n",
              "       [[0., 0., 1.]],\n",
              "\n",
              "       [[1., 0., 0.]]], dtype=float32)"
            ]
          },
          "metadata": {
            "tags": []
          },
          "execution_count": 32
        }
      ]
    },
    {
      "cell_type": "code",
      "metadata": {
        "id": "vPpXqcZ2iBON",
        "colab": {
          "base_uri": "https://localhost:8080/"
        },
        "outputId": "09b0dd16-c4d6-4646-fb8e-243cee1f2943"
      },
      "source": [
        "t = tf.one_hot([[0], [1], [2], [0]], depth=3)\n",
        "tf.reshape(t, shape=[-1, 3]).numpy()"
      ],
      "id": "vPpXqcZ2iBON",
      "execution_count": 33,
      "outputs": [
        {
          "output_type": "execute_result",
          "data": {
            "text/plain": [
              "array([[1., 0., 0.],\n",
              "       [0., 1., 0.],\n",
              "       [0., 0., 1.],\n",
              "       [1., 0., 0.]], dtype=float32)"
            ]
          },
          "metadata": {
            "tags": []
          },
          "execution_count": 33
        }
      ]
    },
    {
      "cell_type": "markdown",
      "metadata": {
        "id": "i4-JCigdiO8f"
      },
      "source": [
        "# Casting"
      ],
      "id": "i4-JCigdiO8f"
    },
    {
      "cell_type": "code",
      "metadata": {
        "id": "6hcpLjt9iJNP",
        "outputId": "83d2d322-b554-46e9-b42c-460cf9580214",
        "colab": {
          "base_uri": "https://localhost:8080/"
        }
      },
      "source": [
        "tf.cast([1.8, 2.2, 3.3, 4.9], tf.int32).numpy()"
      ],
      "id": "6hcpLjt9iJNP",
      "execution_count": 34,
      "outputs": [
        {
          "output_type": "execute_result",
          "data": {
            "text/plain": [
              "array([1, 2, 3, 4], dtype=int32)"
            ]
          },
          "metadata": {
            "tags": []
          },
          "execution_count": 34
        }
      ]
    },
    {
      "cell_type": "code",
      "metadata": {
        "id": "8vItk4FdkVwA",
        "outputId": "c0878b6e-8c60-45a0-ca1c-c4cc8dd9fc3d",
        "colab": {
          "base_uri": "https://localhost:8080/"
        }
      },
      "source": [
        "tf.cast([True, False, 1 == 1, 0 == 1], tf.int32).numpy()"
      ],
      "id": "8vItk4FdkVwA",
      "execution_count": 35,
      "outputs": [
        {
          "output_type": "execute_result",
          "data": {
            "text/plain": [
              "array([1, 0, 1, 0], dtype=int32)"
            ]
          },
          "metadata": {
            "tags": []
          },
          "execution_count": 35
        }
      ]
    },
    {
      "cell_type": "markdown",
      "metadata": {
        "id": "AowyGbOXkfj_"
      },
      "source": [
        "# Stack"
      ],
      "id": "AowyGbOXkfj_"
    },
    {
      "cell_type": "code",
      "metadata": {
        "id": "i2PBu9T7khH8",
        "outputId": "c7ed5812-8f7d-4611-bb45-0f149b944228",
        "colab": {
          "base_uri": "https://localhost:8080/"
        }
      },
      "source": [
        "x = [1, 4]\n",
        "y = [2, 5]\n",
        "z = [3, 6]\n",
        "\n",
        "# Pack along first dim.\n",
        "tf.stack([x, y, z]).numpy()"
      ],
      "id": "i2PBu9T7khH8",
      "execution_count": 36,
      "outputs": [
        {
          "output_type": "execute_result",
          "data": {
            "text/plain": [
              "array([[1, 4],\n",
              "       [2, 5],\n",
              "       [3, 6]], dtype=int32)"
            ]
          },
          "metadata": {
            "tags": []
          },
          "execution_count": 36
        }
      ]
    },
    {
      "cell_type": "code",
      "metadata": {
        "id": "VGSzxufcknB5",
        "outputId": "71005d2f-d5d7-40fc-e345-a8588d00db21",
        "colab": {
          "base_uri": "https://localhost:8080/"
        }
      },
      "source": [
        "tf.stack([x, y, z], axis=1).numpy()"
      ],
      "id": "VGSzxufcknB5",
      "execution_count": 37,
      "outputs": [
        {
          "output_type": "execute_result",
          "data": {
            "text/plain": [
              "array([[1, 2, 3],\n",
              "       [4, 5, 6]], dtype=int32)"
            ]
          },
          "metadata": {
            "tags": []
          },
          "execution_count": 37
        }
      ]
    },
    {
      "cell_type": "markdown",
      "metadata": {
        "id": "guNYF_0KlAWy"
      },
      "source": [
        "# Ones like and Zeros like"
      ],
      "id": "guNYF_0KlAWy"
    },
    {
      "cell_type": "code",
      "metadata": {
        "id": "pJ0X64-ilF_1",
        "outputId": "ee96316b-399c-4135-9bd9-27461a311ec7",
        "colab": {
          "base_uri": "https://localhost:8080/"
        }
      },
      "source": [
        "x = [[0, 1, 2],\n",
        "     [2, 1, 0]]\n",
        "\n",
        "tf.ones_like(x).numpy()"
      ],
      "id": "pJ0X64-ilF_1",
      "execution_count": 38,
      "outputs": [
        {
          "output_type": "execute_result",
          "data": {
            "text/plain": [
              "array([[1, 1, 1],\n",
              "       [1, 1, 1]], dtype=int32)"
            ]
          },
          "metadata": {
            "tags": []
          },
          "execution_count": 38
        }
      ]
    },
    {
      "cell_type": "code",
      "metadata": {
        "id": "BFx7F2gslJnG",
        "outputId": "f992d53d-ce9f-4db1-a2a3-1a2b077b212f",
        "colab": {
          "base_uri": "https://localhost:8080/"
        }
      },
      "source": [
        "tf.zeros_like(x).numpy()"
      ],
      "id": "BFx7F2gslJnG",
      "execution_count": 39,
      "outputs": [
        {
          "output_type": "execute_result",
          "data": {
            "text/plain": [
              "array([[0, 0, 0],\n",
              "       [0, 0, 0]], dtype=int32)"
            ]
          },
          "metadata": {
            "tags": []
          },
          "execution_count": 39
        }
      ]
    },
    {
      "cell_type": "markdown",
      "metadata": {
        "id": "Daoev_22lSSz"
      },
      "source": [
        "# Zip"
      ],
      "id": "Daoev_22lSSz"
    },
    {
      "cell_type": "code",
      "metadata": {
        "id": "_MvvnMzJlUdM",
        "outputId": "a0d9f526-9f79-435d-dd97-647ca355307b",
        "colab": {
          "base_uri": "https://localhost:8080/"
        }
      },
      "source": [
        "for x, y in zip([1, 2, 3], [4, 5, 6]):\n",
        "    print(x, y)"
      ],
      "id": "_MvvnMzJlUdM",
      "execution_count": 40,
      "outputs": [
        {
          "output_type": "stream",
          "text": [
            "1 4\n",
            "2 5\n",
            "3 6\n"
          ],
          "name": "stdout"
        }
      ]
    },
    {
      "cell_type": "code",
      "metadata": {
        "id": "QjCQf-aGlanr",
        "outputId": "d60a1479-7538-4cfe-ec4d-694a69a8ee18",
        "colab": {
          "base_uri": "https://localhost:8080/"
        }
      },
      "source": [
        "for x, y, z in zip([1, 2, 3], [4, 5, 6], [7, 8, 9]):\n",
        "    print(x, y, z)"
      ],
      "id": "QjCQf-aGlanr",
      "execution_count": 41,
      "outputs": [
        {
          "output_type": "stream",
          "text": [
            "1 4 7\n",
            "2 5 8\n",
            "3 6 9\n"
          ],
          "name": "stdout"
        }
      ]
    },
    {
      "cell_type": "markdown",
      "metadata": {
        "id": "GyLJiFqelfWK"
      },
      "source": [
        "# Tranpose"
      ],
      "id": "GyLJiFqelfWK"
    },
    {
      "cell_type": "code",
      "metadata": {
        "id": "YwrZoM_2leFt",
        "outputId": "77a18749-cdc8-47b7-c4b6-88c89ae2ed23",
        "colab": {
          "base_uri": "https://localhost:8080/"
        }
      },
      "source": [
        "t = np.array([[[0, 1, 2], [3, 4, 5]], [[6, 7, 8], [9, 10, 11]]])\n",
        "pp.pprint(t.shape)\n",
        "pp.pprint(t)"
      ],
      "id": "YwrZoM_2leFt",
      "execution_count": 42,
      "outputs": [
        {
          "output_type": "stream",
          "text": [
            "(2, 2, 3)\n",
            "array([[[ 0,  1,  2],\n",
            "        [ 3,  4,  5]],\n",
            "\n",
            "       [[ 6,  7,  8],\n",
            "        [ 9, 10, 11]]])\n"
          ],
          "name": "stdout"
        }
      ]
    },
    {
      "cell_type": "code",
      "metadata": {
        "id": "TPQpFV9Tk2ft",
        "outputId": "f8fa05c7-7b0f-453c-a3b8-5ef8db61b56f",
        "colab": {
          "base_uri": "https://localhost:8080/"
        }
      },
      "source": [
        "t1 = tf.transpose(t, [1, 0, 2])\n",
        "pp.pprint(t1.shape)\n",
        "pp.pprint(t1.numpy())"
      ],
      "id": "TPQpFV9Tk2ft",
      "execution_count": 46,
      "outputs": [
        {
          "output_type": "stream",
          "text": [
            "TensorShape([2, 2, 3])\n",
            "array([[[ 0,  1,  2],\n",
            "        [ 6,  7,  8]],\n",
            "\n",
            "       [[ 3,  4,  5],\n",
            "        [ 9, 10, 11]]])\n"
          ],
          "name": "stdout"
        }
      ]
    },
    {
      "cell_type": "code",
      "metadata": {
        "id": "aTKta9bnl5tX",
        "outputId": "313ca4b7-d76c-4a9f-e65c-440e02653988",
        "colab": {
          "base_uri": "https://localhost:8080/"
        }
      },
      "source": [
        "t1 = tf.transpose(t1, [1, 0, 2])\n",
        "pp.pprint(t1.shape)\n",
        "pp.pprint(t1.numpy())"
      ],
      "id": "aTKta9bnl5tX",
      "execution_count": 47,
      "outputs": [
        {
          "output_type": "stream",
          "text": [
            "TensorShape([2, 2, 3])\n",
            "array([[[ 0,  1,  2],\n",
            "        [ 3,  4,  5]],\n",
            "\n",
            "       [[ 6,  7,  8],\n",
            "        [ 9, 10, 11]]])\n"
          ],
          "name": "stdout"
        }
      ]
    },
    {
      "cell_type": "code",
      "metadata": {
        "id": "Ojn6xdF-kckH",
        "outputId": "896ff145-f022-49cd-b006-395d4dec443a",
        "colab": {
          "base_uri": "https://localhost:8080/"
        }
      },
      "source": [
        "t1 = tf.transpose(t, [1, 2, 0])\n",
        "pp.pprint(t1.shape)\n",
        "pp.pprint(t1.numpy())"
      ],
      "id": "Ojn6xdF-kckH",
      "execution_count": 48,
      "outputs": [
        {
          "output_type": "stream",
          "text": [
            "TensorShape([2, 3, 2])\n",
            "array([[[ 0,  6],\n",
            "        [ 1,  7],\n",
            "        [ 2,  8]],\n",
            "\n",
            "       [[ 3,  9],\n",
            "        [ 4, 10],\n",
            "        [ 5, 11]]])\n"
          ],
          "name": "stdout"
        }
      ]
    },
    {
      "cell_type": "code",
      "metadata": {
        "id": "k0s_A5kJnT5a",
        "outputId": "d291d4cd-08ec-4a74-ba4a-d920c03d36e5",
        "colab": {
          "base_uri": "https://localhost:8080/"
        }
      },
      "source": [
        "t1 = tf.transpose(t1, [2, 0, 1])\n",
        "pp.pprint(t1.shape)\n",
        "pp.pprint(t1.numpy())"
      ],
      "id": "k0s_A5kJnT5a",
      "execution_count": 49,
      "outputs": [
        {
          "output_type": "stream",
          "text": [
            "TensorShape([2, 2, 3])\n",
            "array([[[ 0,  1,  2],\n",
            "        [ 3,  4,  5]],\n",
            "\n",
            "       [[ 6,  7,  8],\n",
            "        [ 9, 10, 11]]])\n"
          ],
          "name": "stdout"
        }
      ]
    }
  ]
}