{
  "nbformat": 4,
  "nbformat_minor": 5,
  "metadata": {
    "colab": {
      "name": "04-02-multi-variable-linear-regression.ipynb",
      "provenance": [],
      "include_colab_link": true
    },
    "language_info": {
      "name": "python"
    },
    "kernelspec": {
      "name": "python3",
      "display_name": "Python 3"
    }
  },
  "cells": [
    {
      "cell_type": "markdown",
      "metadata": {
        "id": "view-in-github",
        "colab_type": "text"
      },
      "source": [
        "<a href=\"https://colab.research.google.com/github/dantae74/machine-learning/blob/main/04-03-multi-variable-linear-regression.ipynb\" target=\"_parent\"><img src=\"https://colab.research.google.com/assets/colab-badge.svg\" alt=\"Open In Colab\"/></a>"
      ]
    },
    {
      "cell_type": "markdown",
      "metadata": {
        "id": "WfgQSbgOoe-2"
      },
      "source": [
        "모두를 위한 머신러닝에서 가져왔습니다.\n",
        "# Multi-variable linear regression"
      ],
      "id": "WfgQSbgOoe-2"
    },
    {
      "cell_type": "code",
      "metadata": {
        "id": "RK3QTbWDofS7"
      },
      "source": [
        "import tensorflow as tf\n",
        "import numpy as np"
      ],
      "id": "RK3QTbWDofS7",
      "execution_count": null,
      "outputs": []
    },
    {
      "cell_type": "code",
      "metadata": {
        "id": "vdXPtz4cvB-f"
      },
      "source": [
        "x_data = [[73., 80., 75.],\n",
        "          [93., 88., 93.],\n",
        "          [89., 91., 90.],\n",
        "          [96., 98., 100.],\n",
        "          [73., 66., 70.]]\n",
        "y_data = [[152.],\n",
        "          [185.],\n",
        "          [180.],\n",
        "          [196.],\n",
        "          [142.]]"
      ],
      "id": "vdXPtz4cvB-f",
      "execution_count": null,
      "outputs": []
    },
    {
      "cell_type": "code",
      "metadata": {
        "id": "19o_J8mW7_G7"
      },
      "source": [
        "tf.model = tf.keras.Sequential()"
      ],
      "id": "19o_J8mW7_G7",
      "execution_count": null,
      "outputs": []
    },
    {
      "cell_type": "code",
      "metadata": {
        "id": "gBh5demJMR4T"
      },
      "source": [
        "tf.model.add(tf.keras.layers.Dense(units=1, input_dim=3)) # input_dim=3 gives multi-variable regression\n",
        "tf.model.add(tf.keras.layers.Activation('linear')) # this line can be omitted, as linear activation is default"
      ],
      "id": "gBh5demJMR4T",
      "execution_count": null,
      "outputs": []
    },
    {
      "cell_type": "code",
      "metadata": {
        "id": "abYrw2T3MpbI"
      },
      "source": [
        "tf.model.compile(loss='mse', optimizer=tf.keras.optimizers.SGD(lr=1e-5))\n",
        "tf.model.summary()"
      ],
      "id": "abYrw2T3MpbI",
      "execution_count": null,
      "outputs": []
    },
    {
      "cell_type": "code",
      "metadata": {
        "id": "HOpRZ4KwLjz0"
      },
      "source": [
        "history = tf.model.fit(x_data, y_data, epochs=100)"
      ],
      "id": "HOpRZ4KwLjz0",
      "execution_count": null,
      "outputs": []
    },
    {
      "cell_type": "code",
      "metadata": {
        "id": "02B128AsNajY"
      },
      "source": [
        "y_predict = tf.model.predict(x_data)\n",
        "print('y_predict:\\n', y_predict)\n",
        "print('y:\\n',y_data)"
      ],
      "id": "02B128AsNajY",
      "execution_count": null,
      "outputs": []
    },
    {
      "cell_type": "code",
      "metadata": {
        "id": "6WK5mDZRNoEX"
      },
      "source": [
        ""
      ],
      "id": "6WK5mDZRNoEX",
      "execution_count": null,
      "outputs": []
    }
  ]
}