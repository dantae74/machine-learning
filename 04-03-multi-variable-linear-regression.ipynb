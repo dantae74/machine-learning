{
  "nbformat": 4,
  "nbformat_minor": 5,
  "metadata": {
    "colab": {
      "name": "04-03-multi-variable-linear-regression.ipynb",
      "provenance": [],
      "include_colab_link": true
    },
    "language_info": {
      "name": "python"
    },
    "kernelspec": {
      "name": "python3",
      "display_name": "Python 3"
    }
  },
  "cells": [
    {
      "cell_type": "markdown",
      "metadata": {
        "id": "view-in-github",
        "colab_type": "text"
      },
      "source": [
        "<a href=\"https://colab.research.google.com/github/dantae74/machine-learning/blob/main/04-03-multi-variable-linear-regression.ipynb\" target=\"_parent\"><img src=\"https://colab.research.google.com/assets/colab-badge.svg\" alt=\"Open In Colab\"/></a>"
      ]
    },
    {
      "cell_type": "markdown",
      "metadata": {
        "id": "WfgQSbgOoe-2"
      },
      "source": [
        "모두를 위한 머신러닝에서 가져왔습니다.\n",
        "# Multi-variable linear regression"
      ],
      "id": "WfgQSbgOoe-2"
    },
    {
      "cell_type": "code",
      "metadata": {
        "id": "RK3QTbWDofS7"
      },
      "source": [
        "import tensorflow as tf\n",
        "import numpy as np"
      ],
      "id": "RK3QTbWDofS7",
      "execution_count": null,
      "outputs": []
    },
    {
      "cell_type": "code",
      "metadata": {
        "id": "vdXPtz4cvB-f"
      },
      "source": [
        "x_data = [[73., 80., 75.],\n",
        "          [93., 88., 93.],\n",
        "          [89., 91., 90.],\n",
        "          [96., 98., 100.],\n",
        "          [73., 66., 70.]]\n",
        "y_data = [[152.],\n",
        "          [185.],\n",
        "          [180.],\n",
        "          [196.],\n",
        "          [142.]]"
      ],
      "id": "vdXPtz4cvB-f",
      "execution_count": null,
      "outputs": []
    },
    {
      "cell_type": "code",
      "metadata": {
        "id": "19o_J8mW7_G7"
      },
      "source": [
        "X = tf.constant(x_data)\n",
        "Y = tf.constant(y_data)\n",
        "\n",
        "W = tf.Variable(tf.random.normal([3,1]), name='weight')\n",
        "b = tf.Variable(tf.random.normal([1]), name='bias')"
      ],
      "id": "19o_J8mW7_G7",
      "execution_count": null,
      "outputs": []
    },
    {
      "cell_type": "code",
      "metadata": {
        "id": "G0js_TR1vK5v"
      },
      "source": [
        "lr = 0.00001"
      ],
      "id": "G0js_TR1vK5v",
      "execution_count": null,
      "outputs": []
    },
    {
      "cell_type": "code",
      "metadata": {
        "id": "30dxHmEPog-b"
      },
      "source": [
        "# for step in range(1):\n",
        "#   with tf.GradientTape() as tape:\n",
        "#     # cost/loss function\n",
        "#     cost = tf.reduce_mean(tf.square(hypothesis - Y))\n",
        "  \n",
        "#   gred = tape.gradient(cost, [W,b])\n",
        "#   W = W - lr * gred[0]\n",
        "#   b = b - lr * gred[1]\n",
        "\n",
        "#   # if (step % 10) == 0:\n",
        "#   #   print('Step: {} \\t cost: {}\\n'.format(step, cost))"
      ],
      "id": "30dxHmEPog-b",
      "execution_count": null,
      "outputs": []
    },
    {
      "cell_type": "code",
      "metadata": {
        "id": "VKsDTTDX-zNh"
      },
      "source": [
        "for step in range(2000):\n",
        "  hypothesis = tf.matmul(X, W) + b\n",
        "  cost = tf.reduce_mean(tf.square(hypothesis - Y))\n",
        "  w_gredient = tf.reduce_mean((hypothesis-Y) * X)\n",
        "  b_gredient = tf.reduce_mean((hypothesis-Y))\n",
        "  W = W - lr * w_gredient\n",
        "  b = b - lr * b_gredient\n",
        "\n",
        "  if (step % 10) == 0:\n",
        "    print('Step: {} \\t cost: {}\\n'.format(step, cost))"
      ],
      "id": "VKsDTTDX-zNh",
      "execution_count": null,
      "outputs": []
    },
    {
      "cell_type": "code",
      "metadata": {
        "id": "C8NgsXHeF0RW",
        "outputId": "faa34f69-a683-4d4c-c84b-b91c8a102a6e",
        "colab": {
          "base_uri": "https://localhost:8080/"
        }
      },
      "source": [
        "#prediction\n",
        "predict_y = tf.matmul(X, W) + b\n",
        "predict_y.numpy()"
      ],
      "id": "C8NgsXHeF0RW",
      "execution_count": 82,
      "outputs": [
        {
          "output_type": "execute_result",
          "data": {
            "text/plain": [
              "array([[150.81482],\n",
              "       [185.286  ],\n",
              "       [180.67537],\n",
              "       [194.40799],\n",
              "       [144.28491]], dtype=float32)"
            ]
          },
          "metadata": {
            "tags": []
          },
          "execution_count": 82
        }
      ]
    },
    {
      "cell_type": "code",
      "metadata": {
        "id": "pQM8yXePJHV-",
        "outputId": "6d987078-79e8-4f51-de04-5a824becb316",
        "colab": {
          "base_uri": "https://localhost:8080/"
        }
      },
      "source": [
        "Y"
      ],
      "id": "pQM8yXePJHV-",
      "execution_count": 83,
      "outputs": [
        {
          "output_type": "execute_result",
          "data": {
            "text/plain": [
              "<tf.Tensor: shape=(5, 1), dtype=float32, numpy=\n",
              "array([[152.],\n",
              "       [185.],\n",
              "       [180.],\n",
              "       [196.],\n",
              "       [142.]], dtype=float32)>"
            ]
          },
          "metadata": {
            "tags": []
          },
          "execution_count": 83
        }
      ]
    },
    {
      "cell_type": "code",
      "metadata": {
        "id": "bqWbkV-VJKzt"
      },
      "source": [
        ""
      ],
      "id": "bqWbkV-VJKzt",
      "execution_count": null,
      "outputs": []
    }
  ]
}
