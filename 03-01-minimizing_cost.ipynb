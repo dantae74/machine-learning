{
  "nbformat": 4,
  "nbformat_minor": 5,
  "metadata": {
    "colab": {
      "name": "03-01-minimizing_cost.ipynb",
      "provenance": [],
      "include_colab_link": true
    },
    "language_info": {
      "name": "python"
    },
    "kernelspec": {
      "name": "python3",
      "display_name": "Python 3"
    }
  },
  "cells": [
    {
      "cell_type": "markdown",
      "metadata": {
        "id": "view-in-github",
        "colab_type": "text"
      },
      "source": [
        "<a href=\"https://colab.research.google.com/github/dantae74/machine-learning/blob/main/03-01-minimizing_cost.ipynb\" target=\"_parent\"><img src=\"https://colab.research.google.com/assets/colab-badge.svg\" alt=\"Open In Colab\"/></a>"
      ]
    },
    {
      "cell_type": "markdown",
      "metadata": {
        "id": "RmKhqeWDlkNM"
      },
      "source": [
        "# Minimizing Cost"
      ],
      "id": "RmKhqeWDlkNM"
    },
    {
      "cell_type": "code",
      "metadata": {
        "id": "d4_ZFuejlkhC"
      },
      "source": [
        "import tensorflow as tf\n",
        "import matplotlib.pyplot as plt"
      ],
      "id": "d4_ZFuejlkhC",
      "execution_count": 1,
      "outputs": []
    },
    {
      "cell_type": "code",
      "metadata": {
        "id": "t6ioiRhfmeJd"
      },
      "source": [
        "X = [1,2,3]\n",
        "Y = [1,2,3]"
      ],
      "id": "t6ioiRhfmeJd",
      "execution_count": 2,
      "outputs": []
    },
    {
      "cell_type": "code",
      "metadata": {
        "id": "DrO4eEhglk-d"
      },
      "source": [
        "# cost/loss function\n",
        "def gradient_descent(X, Y, W, lr):\n",
        "  gradient = tf.reduce_mean((W*X - Y) * X)\n",
        "  descent = W - lr * gradient\n",
        "  return descent\n",
        "\n",
        "\n",
        "def train(X,Y,lr, epochs):\n",
        "  W = tf.Variable(10.)\n",
        "  \n",
        "  for step in range(epochs):\n",
        "    cost = tf.reduce_mean(tf.square(X*W - Y))\n",
        "    W.assign(gradient_descent(X,Y,W,lr))\n",
        "\n",
        "    print(step, cost.numpy(), W.numpy())"
      ],
      "id": "DrO4eEhglk-d",
      "execution_count": 10,
      "outputs": []
    },
    {
      "cell_type": "code",
      "metadata": {
        "id": "CHBbbA1So5Ri",
        "outputId": "c3460ecb-82cc-4516-9194-53b1d69b9a97",
        "colab": {
          "base_uri": "https://localhost:8080/"
        }
      },
      "source": [
        "train(X,Y,0.1,21)"
      ],
      "id": "CHBbbA1So5Ri",
      "execution_count": 12,
      "outputs": [
        {
          "output_type": "stream",
          "text": [
            "0 378.0 5.7999997\n",
            "1 107.51999 3.5599997\n",
            "2 30.58346 2.365333\n",
            "3 8.699294 1.7281775\n",
            "4 2.4744651 1.3883613\n",
            "5 0.7038477 1.207126\n",
            "6 0.20020549 1.1104672\n",
            "7 0.05694734 1.0589159\n",
            "8 0.016198363 1.0314218\n",
            "9 0.004607539 1.0167583\n",
            "10 0.0013105891 1.0089378\n",
            "11 0.00037279623 1.0047668\n",
            "12 0.00010603762 1.0025423\n",
            "13 3.0161003e-05 1.0013559\n",
            "14 8.579332e-06 1.0007231\n",
            "15 2.440236e-06 1.0003856\n",
            "16 6.9393377e-07 1.0002056\n",
            "17 1.9738451e-07 1.0001097\n",
            "18 5.6130983e-08 1.0000585\n",
            "19 1.5973896e-08 1.0000312\n",
            "20 4.552286e-09 1.0000167\n"
          ],
          "name": "stdout"
        }
      ]
    },
    {
      "cell_type": "code",
      "metadata": {
        "id": "VGLvuhc6vMZT"
      },
      "source": [
        ""
      ],
      "id": "VGLvuhc6vMZT",
      "execution_count": null,
      "outputs": []
    }
  ]
}
