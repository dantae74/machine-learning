{
  "nbformat": 4,
  "nbformat_minor": 5,
  "metadata": {
    "colab": {
      "name": "09-02-xor-nn.ipynb",
      "provenance": [],
      "include_colab_link": true
    },
    "language_info": {
      "name": "python"
    },
    "kernelspec": {
      "name": "python3",
      "display_name": "Python 3"
    }
  },
  "cells": [
    {
      "cell_type": "markdown",
      "metadata": {
        "id": "view-in-github",
        "colab_type": "text"
      },
      "source": [
        "<a href=\"https://colab.research.google.com/github/dantae74/machine-learning/blob/main/09-04-xor-tensorboard.ipynb\" target=\"_parent\"><img src=\"https://colab.research.google.com/assets/colab-badge.svg\" alt=\"Open In Colab\"/></a>"
      ]
    },
    {
      "cell_type": "markdown",
      "metadata": {
        "id": "WfgQSbgOoe-2"
      },
      "source": [
        "모두를 위한 머신러닝에서 가져왔습니다.\n",
        "# XOR (deep and wide)"
      ],
      "id": "WfgQSbgOoe-2"
    },
    {
      "cell_type": "code",
      "metadata": {
        "id": "SuQ_snsRgsZI"
      },
      "source": [
        "import datetime\n",
        "import numpy as np\n",
        "import os\n",
        "import tensorflow as tf"
      ],
      "id": "SuQ_snsRgsZI",
      "execution_count": null,
      "outputs": []
    },
    {
      "cell_type": "code",
      "metadata": {
        "id": "AilUdn87gx_7"
      },
      "source": [
        "x_data = np.array([[0, 0], [0, 1], [1, 0], [1, 1]], dtype=np.float32)\n",
        "y_data = np.array([[0], [1], [1], [0]], dtype=np.float32)"
      ],
      "id": "AilUdn87gx_7",
      "execution_count": null,
      "outputs": []
    },
    {
      "cell_type": "code",
      "metadata": {
        "id": "8T4Qft06hi1k"
      },
      "source": [
        "print(x_data.shape)\n",
        "print(y_data.shape)"
      ],
      "id": "8T4Qft06hi1k",
      "execution_count": null,
      "outputs": []
    },
    {
      "cell_type": "code",
      "metadata": {
        "id": "e637vJCKg7kM"
      },
      "source": [
        "tf.model = tf.keras.Sequential()\n",
        "tf.model.add(tf.keras.layers.Dense(units=2, input_dim=2))\n",
        "tf.model.add(tf.keras.layers.Activation('sigmoid'))\n",
        "tf.model.add(tf.keras.layers.Dense(units=1, input_dim=2))\n",
        "tf.model.add(tf.keras.layers.Activation('sigmoid'))\n",
        "tf.model.compile(loss='binary_crossentropy', optimizer=tf.optimizers.SGD(lr=0.1),  metrics=['accuracy'])\n",
        "tf.model.summary()"
      ],
      "id": "e637vJCKg7kM",
      "execution_count": null,
      "outputs": []
    },
    {
      "cell_type": "code",
      "metadata": {
        "id": "5Nc6KSNeb45R"
      },
      "source": [
        "# prepare callback\n",
        "log_dir = os.path.join(\".\", \"logs\", \"fit\", datetime.datetime.now().strftime(\"%Y%m%d-%H%M%S\"))\n",
        "tensorboard_callback = tf.keras.callbacks.TensorBoard(log_dir=log_dir, histogram_freq=1)"
      ],
      "id": "5Nc6KSNeb45R",
      "execution_count": null,
      "outputs": []
    },
    {
      "cell_type": "code",
      "metadata": {
        "id": "RK3QTbWDofS7"
      },
      "source": [
        "# add callback param to fit()\n",
        "history = tf.model.fit(x_data, y_data, epochs=10000, callbacks=[tensorboard_callback], verbose=0)"
      ],
      "id": "RK3QTbWDofS7",
      "execution_count": null,
      "outputs": []
    },
    {
      "cell_type": "code",
      "metadata": {
        "id": "sk252l6R5I4s"
      },
      "source": [
        "predictions = tf.model.predict(x_data)\n",
        "print('Prediction: \\n', predictions)"
      ],
      "id": "sk252l6R5I4s",
      "execution_count": null,
      "outputs": []
    },
    {
      "cell_type": "code",
      "metadata": {
        "id": "fTMOo4mP5JEe"
      },
      "source": [
        "score = tf.model.evaluate(x_data, y_data)\n",
        "print('Accuracy: ', score[1])"
      ],
      "id": "fTMOo4mP5JEe",
      "execution_count": null,
      "outputs": []
    },
    {
      "cell_type": "code",
      "metadata": {
        "id": "YNnth3rF5MVQ"
      },
      "source": [
        "'''\n",
        "at the end of the run, open terminal / command window\n",
        "cd to the source directory\n",
        "tensorboard --logdir logs/fit\n",
        "read more on tensorboard: https://www.tensorflow.org/tensorboard/get_started\n",
        "'''"
      ],
      "id": "YNnth3rF5MVQ",
      "execution_count": null,
      "outputs": []
    },
    {
      "cell_type": "code",
      "metadata": {
        "id": "vjUvZEqQ5kuX"
      },
      "source": [
        "!tensorboard --logdir logs/fit"
      ],
      "id": "vjUvZEqQ5kuX",
      "execution_count": null,
      "outputs": []
    }
  ]
}