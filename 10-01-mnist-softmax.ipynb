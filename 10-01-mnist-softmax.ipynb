{
  "nbformat": 4,
  "nbformat_minor": 5,
  "metadata": {
    "colab": {
      "name": "Untitled.ipynb",
      "provenance": [],
      "include_colab_link": true
    },
    "language_info": {
      "name": "python"
    },
    "kernelspec": {
      "name": "python3",
      "display_name": "Python 3"
    }
  },
  "cells": [
    {
      "cell_type": "markdown",
      "metadata": {
        "id": "view-in-github",
        "colab_type": "text"
      },
      "source": [
        "<a href=\"https://colab.research.google.com/github/dantae74/machine-learning/blob/main/10-01-mnist-softmax.ipynb\" target=\"_parent\"><img src=\"https://colab.research.google.com/assets/colab-badge.svg\" alt=\"Open In Colab\"/></a>"
      ]
    },
    {
      "cell_type": "markdown",
      "metadata": {
        "id": "WfgQSbgOoe-2"
      },
      "source": [
        "모두를 위한 머신러닝에서 가져왔습니다.\n",
        "# MNIST with softmax"
      ],
      "id": "WfgQSbgOoe-2"
    },
    {
      "cell_type": "code",
      "metadata": {
        "id": "RK3QTbWDofS7"
      },
      "source": [
        "import tensorflow as tf"
      ],
      "id": "RK3QTbWDofS7",
      "execution_count": 1,
      "outputs": []
    },
    {
      "cell_type": "code",
      "metadata": {
        "id": "30dxHmEPog-b"
      },
      "source": [
        "learning_rate = 0.001\n",
        "batch_size = 100\n",
        "training_epochs = 15\n",
        "nb_classes = 10"
      ],
      "id": "30dxHmEPog-b",
      "execution_count": 2,
      "outputs": []
    },
    {
      "cell_type": "code",
      "metadata": {
        "id": "PHWqha2MFgBa"
      },
      "source": [
        "mnist = tf.keras.datasets.mnist"
      ],
      "id": "PHWqha2MFgBa",
      "execution_count": 3,
      "outputs": []
    },
    {
      "cell_type": "code",
      "metadata": {
        "id": "af2AD_XBFiLJ"
      },
      "source": [
        "(x_train, y_train), (x_test, y_test) = mnist.load_data()\n",
        "# normalizing data\n",
        "x_train, x_test = x_train / 255.0, x_test / 255.0"
      ],
      "id": "af2AD_XBFiLJ",
      "execution_count": 4,
      "outputs": []
    },
    {
      "cell_type": "code",
      "metadata": {
        "id": "A26RumGOFoLZ",
        "outputId": "10283742-80f2-43fd-921f-8e194738fd6c",
        "colab": {
          "base_uri": "https://localhost:8080/"
        }
      },
      "source": [
        "# change data shape\n",
        "print(x_train.shape)  # (60000, 28, 28)\n",
        "x_train = x_train.reshape(x_train.shape[0], x_train.shape[1] * x_train.shape[2])\n",
        "x_test = x_test.reshape(x_test.shape[0], x_test.shape[1] * x_test.shape[2])\n",
        "print('x_train.shape:{}\\ny_train.shape:{}'.format(x_train.shape, y_train.shape))"
      ],
      "id": "A26RumGOFoLZ",
      "execution_count": 5,
      "outputs": [
        {
          "output_type": "stream",
          "text": [
            "(60000, 28, 28)\n",
            "x_train.shape:(60000, 784)\n",
            "y_train.shape:(60000,)\n"
          ],
          "name": "stdout"
        }
      ]
    },
    {
      "cell_type": "code",
      "metadata": {
        "id": "VYnGH33_GLkB"
      },
      "source": [
        "# change result to one-hot encoding\n",
        "# in tf1, one_hot= True in read_data_sets(\"MNIST_data/\", one_hot=True)\n",
        "# took care of it, but here we need to manually convert them\n",
        "y_train = tf.keras.utils.to_categorical(y_train, 10)\n",
        "y_test = tf.keras.utils.to_categorical(y_test, 10)\n"
      ],
      "id": "VYnGH33_GLkB",
      "execution_count": 6,
      "outputs": []
    },
    {
      "cell_type": "code",
      "metadata": {
        "id": "ni5ccdU-Ggib"
      },
      "source": [
        "# # Consider an array of 5 labels out of a set of 3 classes {0, 1, 2}:\n",
        "# array([0, 2, 1, 2, 0])\n",
        "# `to_categorical` converts this into a matrix with as many columns as there are classes. The number of rows\n",
        "#  stays the same. to_categorical(labels)\n",
        "# array([[ 1.,  0.,  0.],\n",
        "#        [ 0.,  0.,  1.],\n",
        "#        [ 0.,  1.,  0.],\n",
        "#        [ 0.,  0.,  1.],\n",
        "#        [ 1.,  0.,  0.]], dtype=float32)"
      ],
      "id": "ni5ccdU-Ggib",
      "execution_count": 7,
      "outputs": []
    },
    {
      "cell_type": "code",
      "metadata": {
        "id": "0zOlm-LOGgrZ",
        "outputId": "1e1ab23d-574c-4f0a-f659-49c0d6951ac3",
        "colab": {
          "base_uri": "https://localhost:8080/"
        }
      },
      "source": [
        "tf.model = tf.keras.Sequential()\n",
        "tf.model.add(tf.keras.layers.Dense(units=10, input_dim=784, activation='softmax'))\n",
        "tf.model.compile(loss='categorical_crossentropy', optimizer=tf.optimizers.Adam(0.001), metrics=['accuracy'])\n",
        "tf.model.summary()"
      ],
      "id": "0zOlm-LOGgrZ",
      "execution_count": 8,
      "outputs": [
        {
          "output_type": "stream",
          "text": [
            "Model: \"sequential\"\n",
            "_________________________________________________________________\n",
            "Layer (type)                 Output Shape              Param #   \n",
            "=================================================================\n",
            "dense (Dense)                (None, 10)                7850      \n",
            "=================================================================\n",
            "Total params: 7,850\n",
            "Trainable params: 7,850\n",
            "Non-trainable params: 0\n",
            "_________________________________________________________________\n"
          ],
          "name": "stdout"
        }
      ]
    },
    {
      "cell_type": "code",
      "metadata": {
        "id": "7FNlMjdQGlQD"
      },
      "source": [
        "history = tf.model.fit(x_train, y_train, batch_size=batch_size, epochs=training_epochs, verbose=0)"
      ],
      "id": "7FNlMjdQGlQD",
      "execution_count": 9,
      "outputs": []
    },
    {
      "cell_type": "code",
      "metadata": {
        "id": "gZgSvwX-Glbz",
        "outputId": "950d111c-717b-4420-fb89-d9b63e049673",
        "colab": {
          "base_uri": "https://localhost:8080/"
        }
      },
      "source": [
        "predictions = tf.model.predict(x_test)\n",
        "print('Prediction: \\n', predictions)\n",
        "x_train\n",
        "score = tf.model.evaluate(x_train, y_train)\n",
        "print('Accuracy: ', score[1])"
      ],
      "id": "gZgSvwX-Glbz",
      "execution_count": 10,
      "outputs": [
        {
          "output_type": "stream",
          "text": [
            "Prediction: \n",
            " [[2.8195714e-06 1.2184561e-11 4.5327065e-06 ... 9.9351537e-01\n",
            "  1.7746281e-05 3.8982922e-04]\n",
            " [1.9368212e-04 2.5869551e-06 9.9366510e-01 ... 1.3728725e-17\n",
            "  4.4618911e-05 3.6933527e-14]\n",
            " [1.1518124e-06 9.8492789e-01 8.0551999e-03 ... 6.8147969e-04\n",
            "  2.4855412e-03 1.6524809e-04]\n",
            " ...\n",
            " [9.8093036e-09 1.3105784e-08 5.2501941e-06 ... 1.9738604e-03\n",
            "  6.5463693e-03 2.0931916e-02]\n",
            " [8.4887738e-08 2.8785834e-07 1.2917111e-07 ... 8.4609056e-08\n",
            "  5.5841715e-03 1.1327418e-07]\n",
            " [1.0524014e-06 5.0729559e-14 1.0064731e-04 ... 7.9781136e-13\n",
            "  3.4979088e-08 5.7484864e-11]]\n",
            "1875/1875 [==============================] - 2s 859us/step - loss: 0.2455 - accuracy: 0.9318\n",
            "Accuracy:  0.9318166375160217\n"
          ],
          "name": "stdout"
        }
      ]
    },
    {
      "cell_type": "code",
      "metadata": {
        "id": "3GpeK2FhHYlf"
      },
      "source": [
        ""
      ],
      "id": "3GpeK2FhHYlf",
      "execution_count": 10,
      "outputs": []
    }
  ]
}