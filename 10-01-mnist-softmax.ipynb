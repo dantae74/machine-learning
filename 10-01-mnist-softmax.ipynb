{
  "nbformat": 4,
  "nbformat_minor": 5,
  "metadata": {
    "colab": {
      "name": "10-01-mnist-softmax.ipynb",
      "provenance": [],
      "include_colab_link": true
    },
    "language_info": {
      "name": "python"
    },
    "kernelspec": {
      "name": "python3",
      "display_name": "Python 3"
    }
  },
  "cells": [
    {
      "cell_type": "markdown",
      "metadata": {
        "id": "view-in-github",
        "colab_type": "text"
      },
      "source": [
        "<a href=\"https://colab.research.google.com/github/dantae74/machine-learning/blob/main/10-01-mnist-softmax.ipynb\" target=\"_parent\"><img src=\"https://colab.research.google.com/assets/colab-badge.svg\" alt=\"Open In Colab\"/></a>"
      ]
    },
    {
      "cell_type": "markdown",
      "metadata": {
        "id": "WfgQSbgOoe-2"
      },
      "source": [
        "모두를 위한 머신러닝에서 가져왔습니다.\n",
        "# MNIST with softmax"
      ],
      "id": "WfgQSbgOoe-2"
    },
    {
      "cell_type": "code",
      "metadata": {
        "id": "RK3QTbWDofS7"
      },
      "source": [
        "import tensorflow as tf"
      ],
      "id": "RK3QTbWDofS7",
      "execution_count": 1,
      "outputs": []
    },
    {
      "cell_type": "code",
      "metadata": {
        "id": "30dxHmEPog-b"
      },
      "source": [
        "learning_rate = 0.001\n",
        "batch_size = 100\n",
        "training_epochs = 15\n",
        "nb_classes = 10"
      ],
      "id": "30dxHmEPog-b",
      "execution_count": 2,
      "outputs": []
    },
    {
      "cell_type": "code",
      "metadata": {
        "id": "PHWqha2MFgBa"
      },
      "source": [
        "mnist = tf.keras.datasets.mnist"
      ],
      "id": "PHWqha2MFgBa",
      "execution_count": 3,
      "outputs": []
    },
    {
      "cell_type": "code",
      "metadata": {
        "id": "af2AD_XBFiLJ",
        "outputId": "21c1fb16-6206-4f11-faa0-7186cb062422",
        "colab": {
          "base_uri": "https://localhost:8080/"
        }
      },
      "source": [
        "(x_train, y_train), (x_test, y_test) = mnist.load_data()\n",
        "# normalizing data\n",
        "x_train, x_test = x_train / 255.0, x_test / 255.0"
      ],
      "id": "af2AD_XBFiLJ",
      "execution_count": 4,
      "outputs": [
        {
          "output_type": "stream",
          "text": [
            "Downloading data from https://storage.googleapis.com/tensorflow/tf-keras-datasets/mnist.npz\n",
            "11493376/11490434 [==============================] - 0s 0us/step\n"
          ],
          "name": "stdout"
        }
      ]
    },
    {
      "cell_type": "code",
      "metadata": {
        "id": "A26RumGOFoLZ",
        "colab": {
          "base_uri": "https://localhost:8080/"
        },
        "outputId": "df86546a-69f4-46c9-d029-df23cebce169"
      },
      "source": [
        "# change data shape\n",
        "print(x_train.shape)  # (60000, 28, 28)\n",
        "x_train = x_train.reshape(x_train.shape[0], x_train.shape[1] * x_train.shape[2])\n",
        "x_test = x_test.reshape(x_test.shape[0], x_test.shape[1] * x_test.shape[2])\n",
        "print('x_train.shape:{}\\ny_train.shape:{}'.format(x_train.shape, y_train.shape))"
      ],
      "id": "A26RumGOFoLZ",
      "execution_count": 5,
      "outputs": [
        {
          "output_type": "stream",
          "text": [
            "(60000, 28, 28)\n",
            "x_train.shape:(60000, 784)\n",
            "y_train.shape:(60000,)\n"
          ],
          "name": "stdout"
        }
      ]
    },
    {
      "cell_type": "code",
      "metadata": {
        "id": "VYnGH33_GLkB"
      },
      "source": [
        "# change result to one-hot encoding\n",
        "# in tf1, one_hot= True in read_data_sets(\"MNIST_data/\", one_hot=True)\n",
        "# took care of it, but here we need to manually convert them\n",
        "y_train = tf.keras.utils.to_categorical(y_train, 10)\n",
        "y_test = tf.keras.utils.to_categorical(y_test, 10)\n"
      ],
      "id": "VYnGH33_GLkB",
      "execution_count": 6,
      "outputs": []
    },
    {
      "cell_type": "code",
      "metadata": {
        "id": "ni5ccdU-Ggib"
      },
      "source": [
        "# # Consider an array of 5 labels out of a set of 3 classes {0, 1, 2}:\n",
        "# array([0, 2, 1, 2, 0])\n",
        "# `to_categorical` converts this into a matrix with as many columns as there are classes. The number of rows\n",
        "#  stays the same. to_categorical(labels)\n",
        "# array([[ 1.,  0.,  0.],\n",
        "#        [ 0.,  0.,  1.],\n",
        "#        [ 0.,  1.,  0.],\n",
        "#        [ 0.,  0.,  1.],\n",
        "#        [ 1.,  0.,  0.]], dtype=float32)"
      ],
      "id": "ni5ccdU-Ggib",
      "execution_count": null,
      "outputs": []
    },
    {
      "cell_type": "code",
      "metadata": {
        "id": "0zOlm-LOGgrZ",
        "colab": {
          "base_uri": "https://localhost:8080/"
        },
        "outputId": "5f7b963c-4c87-4c55-ea66-d0b263a5afab"
      },
      "source": [
        "tf.model = tf.keras.Sequential()\n",
        "tf.model.add(tf.keras.layers.Dense(units=10, input_dim=784, activation='softmax'))\n",
        "tf.model.compile(loss='categorical_crossentropy', optimizer=tf.optimizers.Adam(0.001), metrics=['accuracy'])\n",
        "tf.model.summary()"
      ],
      "id": "0zOlm-LOGgrZ",
      "execution_count": 7,
      "outputs": [
        {
          "output_type": "stream",
          "text": [
            "Model: \"sequential\"\n",
            "_________________________________________________________________\n",
            "Layer (type)                 Output Shape              Param #   \n",
            "=================================================================\n",
            "dense (Dense)                (None, 10)                7850      \n",
            "=================================================================\n",
            "Total params: 7,850\n",
            "Trainable params: 7,850\n",
            "Non-trainable params: 0\n",
            "_________________________________________________________________\n"
          ],
          "name": "stdout"
        }
      ]
    },
    {
      "cell_type": "code",
      "metadata": {
        "id": "7FNlMjdQGlQD"
      },
      "source": [
        "history = tf.model.fit(x_train, y_train, batch_size=batch_size, epochs=training_epochs, verbose=0)"
      ],
      "id": "7FNlMjdQGlQD",
      "execution_count": 8,
      "outputs": []
    },
    {
      "cell_type": "code",
      "metadata": {
        "id": "gZgSvwX-Glbz",
        "colab": {
          "base_uri": "https://localhost:8080/"
        },
        "outputId": "a0b1c11e-60a8-432d-de6f-3c335421840d"
      },
      "source": [
        "predictions = tf.model.predict(x_test)\n",
        "print('Prediction: \\n', predictions)\n",
        "score = tf.model.evaluate(x_test, y_test)\n",
        "print('Accuracy: ', score[1])"
      ],
      "id": "gZgSvwX-Glbz",
      "execution_count": 9,
      "outputs": [
        {
          "output_type": "stream",
          "text": [
            "Prediction: \n",
            " [[1.3124034e-06 7.6351486e-12 6.6285370e-06 ... 9.9523550e-01\n",
            "  1.7539143e-05 3.1131360e-04]\n",
            " [1.1829749e-04 1.2599825e-06 9.9254429e-01 ... 8.6540463e-18\n",
            "  4.3727559e-05 9.6271285e-14]\n",
            " [1.9715922e-06 9.7418368e-01 1.5535019e-02 ... 7.5323740e-04\n",
            "  3.9485814e-03 3.5321090e-04]\n",
            " ...\n",
            " [6.3427747e-09 5.1396620e-09 3.2516796e-06 ... 9.0150605e-04\n",
            "  5.7115178e-03 1.7103264e-02]\n",
            " [8.3260062e-08 1.9075074e-07 2.0516136e-07 ... 8.1625373e-08\n",
            "  8.4671425e-03 1.6254926e-07]\n",
            " [5.0531662e-07 2.3368697e-14 4.7118127e-05 ... 5.0015591e-13\n",
            "  2.9451495e-08 6.2538454e-11]]\n",
            "313/313 [==============================] - 0s 645us/step - loss: 0.2615 - accuracy: 0.9289\n",
            "Accuracy:  0.9289000034332275\n"
          ],
          "name": "stdout"
        }
      ]
    },
    {
      "cell_type": "code",
      "metadata": {
        "id": "3GpeK2FhHYlf"
      },
      "source": [
        ""
      ],
      "id": "3GpeK2FhHYlf",
      "execution_count": null,
      "outputs": []
    }
  ]
}