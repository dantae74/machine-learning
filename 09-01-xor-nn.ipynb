{
  "nbformat": 4,
  "nbformat_minor": 5,
  "metadata": {
    "colab": {
      "name": "09-01-xor.ipynb",
      "provenance": [],
      "include_colab_link": true
    },
    "language_info": {
      "name": "python"
    },
    "kernelspec": {
      "name": "python3",
      "display_name": "Python 3"
    }
  },
  "cells": [
    {
      "cell_type": "markdown",
      "metadata": {
        "id": "view-in-github",
        "colab_type": "text"
      },
      "source": [
        "<a href=\"https://colab.research.google.com/github/dantae74/machine-learning/blob/main/09-01-xor-nn.ipynb\" target=\"_parent\"><img src=\"https://colab.research.google.com/assets/colab-badge.svg\" alt=\"Open In Colab\"/></a>"
      ]
    },
    {
      "cell_type": "markdown",
      "metadata": {
        "id": "WfgQSbgOoe-2"
      },
      "source": [
        "모두를 위한 머신러닝에서 가져왔습니다.\n",
        "# XOR"
      ],
      "id": "WfgQSbgOoe-2"
    },
    {
      "cell_type": "code",
      "metadata": {
        "id": "SuQ_snsRgsZI"
      },
      "source": [
        "import tensorflow as tf\n",
        "import numpy as np"
      ],
      "id": "SuQ_snsRgsZI",
      "execution_count": 1,
      "outputs": []
    },
    {
      "cell_type": "code",
      "metadata": {
        "id": "AilUdn87gx_7"
      },
      "source": [
        "x_data = np.array([[0, 0], [0, 1], [1, 0], [1, 1]], dtype=np.float32)\n",
        "y_data = np.array([[0], [1], [1], [0]], dtype=np.float32)"
      ],
      "id": "AilUdn87gx_7",
      "execution_count": 2,
      "outputs": []
    },
    {
      "cell_type": "code",
      "metadata": {
        "id": "8T4Qft06hi1k",
        "colab": {
          "base_uri": "https://localhost:8080/"
        },
        "outputId": "c7baafb7-bf09-4f1e-ac6f-88ad953f04bc"
      },
      "source": [
        "print(x_data.shape)\n",
        "print(y_data.shape)"
      ],
      "id": "8T4Qft06hi1k",
      "execution_count": 3,
      "outputs": [
        {
          "output_type": "stream",
          "text": [
            "(4, 2)\n",
            "(4, 1)\n"
          ],
          "name": "stdout"
        }
      ]
    },
    {
      "cell_type": "code",
      "metadata": {
        "id": "e637vJCKg7kM",
        "colab": {
          "base_uri": "https://localhost:8080/"
        },
        "outputId": "205aeecf-14f2-4057-8e98-367d9af5ff4d"
      },
      "source": [
        "tf.model = tf.keras.Sequential()\n",
        "tf.model.add(tf.keras.layers.Dense(2, input_dim=2, activation='sigmoid'))\n",
        "tf.model.add(tf.keras.layers.Dense(units=1, activation='sigmoid'))\n",
        "tf.model.compile(loss='binary_crossentropy', optimizer=tf.keras.optimizers.SGD(lr=0.1), metrics=['accuracy'])\n",
        "tf.model.summary()"
      ],
      "id": "e637vJCKg7kM",
      "execution_count": 4,
      "outputs": [
        {
          "output_type": "stream",
          "text": [
            "Model: \"sequential\"\n",
            "_________________________________________________________________\n",
            "Layer (type)                 Output Shape              Param #   \n",
            "=================================================================\n",
            "dense (Dense)                (None, 2)                 6         \n",
            "_________________________________________________________________\n",
            "dense_1 (Dense)              (None, 1)                 3         \n",
            "=================================================================\n",
            "Total params: 9\n",
            "Trainable params: 9\n",
            "Non-trainable params: 0\n",
            "_________________________________________________________________\n"
          ],
          "name": "stdout"
        }
      ]
    },
    {
      "cell_type": "code",
      "metadata": {
        "id": "RK3QTbWDofS7"
      },
      "source": [
        "history = tf.model.fit(x_data, y_data, epochs=10001, verbose=0)"
      ],
      "id": "RK3QTbWDofS7",
      "execution_count": 5,
      "outputs": []
    },
    {
      "cell_type": "code",
      "metadata": {
        "id": "30dxHmEPog-b",
        "colab": {
          "base_uri": "https://localhost:8080/"
        },
        "outputId": "096cb4a1-9091-43b5-db39-3b71739f7d82"
      },
      "source": [
        "print(\"Accuracy: {0}, loss: {1}\".format(history.history['accuracy'][-1], history.history['loss'][-1]))"
      ],
      "id": "30dxHmEPog-b",
      "execution_count": 6,
      "outputs": [
        {
          "output_type": "stream",
          "text": [
            "Accuracy: 1.0, loss: 0.01938430592417717\n"
          ],
          "name": "stdout"
        }
      ]
    },
    {
      "cell_type": "code",
      "metadata": {
        "id": "zlTixDETvJC3",
        "outputId": "d9c2a654-b621-40ef-c3bd-20f0ef339f23",
        "colab": {
          "base_uri": "https://localhost:8080/"
        }
      },
      "source": [
        "pred = tf.model.predict(x_data)\n",
        "\n",
        "print(\"Hypothesis:\\n{} \\n\\nPredict:\\n {}\".format(pred, tf.cast(pred > 0.5, dtype=tf.int32)))"
      ],
      "id": "zlTixDETvJC3",
      "execution_count": 11,
      "outputs": [
        {
          "output_type": "stream",
          "text": [
            "Hypothesis:\n",
            "[[0.01883569]\n",
            " [0.98234123]\n",
            " [0.97563547]\n",
            " [0.01589611]] \n",
            "\n",
            "Predict:\n",
            " [[0]\n",
            " [1]\n",
            " [1]\n",
            " [0]]\n"
          ],
          "name": "stdout"
        }
      ]
    }
  ]
}