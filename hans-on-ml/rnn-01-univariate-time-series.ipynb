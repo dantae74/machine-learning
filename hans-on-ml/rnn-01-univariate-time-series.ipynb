{
  "nbformat": 4,
  "nbformat_minor": 5,
  "metadata": {
    "colab": {
      "name": "99-02-rnn-lot.ipynb",
      "provenance": [],
      "include_colab_link": true
    },
    "language_info": {
      "name": "python"
    },
    "kernelspec": {
      "name": "python3",
      "display_name": "Python 3"
    }
  },
  "cells": [
    {
      "cell_type": "markdown",
      "metadata": {
        "id": "view-in-github",
        "colab_type": "text"
      },
      "source": [
        "<a href=\"https://colab.research.google.com/github/dantae74/machine-learning/blob/main/hans-on-ml/rnn-01-univariate-time-series.ipynb\" target=\"_parent\"><img src=\"https://colab.research.google.com/assets/colab-badge.svg\" alt=\"Open In Colab\"/></a>"
      ]
    },
    {
      "cell_type": "markdown",
      "metadata": {
        "id": "WfgQSbgOoe-2"
      },
      "source": [
        "모두를 위한 머신러닝에서 가져왔습니다.\n",
        "# RNN-lot\n"
      ],
      "id": "WfgQSbgOoe-2"
    },
    {
      "cell_type": "code",
      "metadata": {
        "id": "RK3QTbWDofS7"
      },
      "source": [
        "import numpy as np\n",
        "import tensorflow as tf\n",
        "import pandas as pd\n",
        "from tensorflow import keras\n",
        "from tensorflow.keras import layers\n",
        "from io import BytesIO\n",
        "import requests"
      ],
      "id": "RK3QTbWDofS7",
      "execution_count": 1,
      "outputs": []
    },
    {
      "cell_type": "code",
      "metadata": {
        "id": "Fn4oHmQn2eeX"
      },
      "source": [
        "def generate_time_series(batch_size, n_steps):\n",
        "    freq1, freq2, offset1, offset2 = np.random.rand(4, batch_size, 1)\n",
        "    time = np.linspace(0,1,n_steps)\n",
        "    series = 0.5 * np.sin((time-offset1) * (freq1*10+10)) # 사인곡선 1\n",
        "    series += 0.2 * np.sin((time-offset2) * (freq2*20+20)) # + 사인곡선 2\n",
        "    series += 0.1 * (np.random.rand(batch_size, n_steps) - 0.5) # + 잡음\n",
        "    return series[..., np.newaxis].astype(np.float32)"
      ],
      "id": "Fn4oHmQn2eeX",
      "execution_count": 14,
      "outputs": []
    },
    {
      "cell_type": "code",
      "metadata": {
        "id": "Pgcfa7FU3lO_"
      },
      "source": [
        "n_step = 50\n",
        "series = generate_time_series(10000, n_step+1)\n",
        "x_train, y_train = series[:7000, :n_step], series[:7000, -1]\n",
        "x_valid, y_valid = series[7000:9000, :n_step], series[7000:9000, -1]\n",
        "x_test, y_test = series[9000:, :n_step], series[9000:, -1]"
      ],
      "id": "Pgcfa7FU3lO_",
      "execution_count": 17,
      "outputs": []
    },
    {
      "cell_type": "code",
      "metadata": {
        "id": "cj6rOd0534rB",
        "outputId": "1a42f4bc-920c-41e6-b47b-49c8f143e558",
        "colab": {
          "base_uri": "https://localhost:8080/"
        }
      },
      "source": [
        "series.shape"
      ],
      "id": "cj6rOd0534rB",
      "execution_count": 16,
      "outputs": [
        {
          "output_type": "execute_result",
          "data": {
            "text/plain": [
              "(10000, 51, 1)"
            ]
          },
          "metadata": {
            "tags": []
          },
          "execution_count": 16
        }
      ]
    },
    {
      "cell_type": "code",
      "metadata": {
        "id": "VHsPVxrxEB9E"
      },
      "source": [
        ""
      ],
      "id": "VHsPVxrxEB9E",
      "execution_count": null,
      "outputs": []
    }
  ]
}