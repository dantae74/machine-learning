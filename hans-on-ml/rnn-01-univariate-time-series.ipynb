{
  "nbformat": 4,
  "nbformat_minor": 5,
  "metadata": {
    "colab": {
      "name": "rnn-01-univariate-time-series.ipynb",
      "provenance": [],
      "include_colab_link": true
    },
    "language_info": {
      "name": "python"
    },
    "kernelspec": {
      "name": "python3",
      "display_name": "Python 3"
    }
  },
  "cells": [
    {
      "cell_type": "markdown",
      "metadata": {
        "id": "view-in-github",
        "colab_type": "text"
      },
      "source": [
        "<a href=\"https://colab.research.google.com/github/dantae74/machine-learning/blob/main/hans-on-ml/rnn-01-univariate-time-series.ipynb\" target=\"_parent\"><img src=\"https://colab.research.google.com/assets/colab-badge.svg\" alt=\"Open In Colab\"/></a>"
      ]
    },
    {
      "cell_type": "markdown",
      "metadata": {
        "id": "WfgQSbgOoe-2"
      },
      "source": [
        "모두를 위한 머신러닝에서 가져왔습니다.\n",
        "# RNN-lot\n"
      ],
      "id": "WfgQSbgOoe-2"
    },
    {
      "cell_type": "code",
      "metadata": {
        "id": "RK3QTbWDofS7"
      },
      "source": [
        "import numpy as np\n",
        "import tensorflow as tf\n",
        "import pandas as pd\n",
        "from tensorflow import keras\n",
        "from tensorflow.keras import layers\n",
        "from io import BytesIO\n",
        "import requests"
      ],
      "id": "RK3QTbWDofS7",
      "execution_count": 34,
      "outputs": []
    },
    {
      "cell_type": "code",
      "metadata": {
        "id": "Fn4oHmQn2eeX"
      },
      "source": [
        "def generate_time_series(batch_size, n_steps):\n",
        "    freq1, freq2, offset1, offset2 = np.random.rand(4, batch_size, 1)\n",
        "    time = np.linspace(0,1,n_steps)\n",
        "    series = 0.5 * np.sin((time-offset1) * (freq1*10+10)) # 사인곡선 1\n",
        "    series += 0.2 * np.sin((time-offset2) * (freq2*20+20)) # + 사인곡선 2\n",
        "    series += 0.1 * (np.random.rand(batch_size, n_steps) - 0.5) # + 잡음\n",
        "    return series[..., np.newaxis].astype(np.float32)"
      ],
      "id": "Fn4oHmQn2eeX",
      "execution_count": 35,
      "outputs": []
    },
    {
      "cell_type": "code",
      "metadata": {
        "id": "Pgcfa7FU3lO_"
      },
      "source": [
        "n_step = 50\n",
        "series = generate_time_series(10000, n_step+1)\n",
        "x_train, y_train = series[:7000, :n_step], series[:7000, -1]\n",
        "x_valid, y_valid = series[7000:9000, :n_step], series[7000:9000, -1]\n",
        "x_test, y_test = series[9000:, :n_step], series[9000:, -1]"
      ],
      "id": "Pgcfa7FU3lO_",
      "execution_count": 36,
      "outputs": []
    },
    {
      "cell_type": "code",
      "metadata": {
        "id": "cj6rOd0534rB",
        "colab": {
          "base_uri": "https://localhost:8080/"
        },
        "outputId": "1a742caf-82c0-42f0-b60b-bd58e44656db"
      },
      "source": [
        "x_train.shape"
      ],
      "id": "cj6rOd0534rB",
      "execution_count": 37,
      "outputs": [
        {
          "output_type": "execute_result",
          "data": {
            "text/plain": [
              "(7000, 50, 1)"
            ]
          },
          "metadata": {
            "tags": []
          },
          "execution_count": 37
        }
      ]
    },
    {
      "cell_type": "code",
      "metadata": {
        "id": "VHsPVxrxEB9E",
        "outputId": "215b4995-4b76-45e5-d2ef-609f1b88b93e",
        "colab": {
          "base_uri": "https://localhost:8080/"
        }
      },
      "source": [
        "# 기준성능\n",
        "# naive forecasting\n",
        "y_pred = x_valid[:, -1]\n",
        "np.mean(keras.losses.mean_squared_error(y_valid, y_pred))"
      ],
      "id": "VHsPVxrxEB9E",
      "execution_count": 38,
      "outputs": [
        {
          "output_type": "execute_result",
          "data": {
            "text/plain": [
              "0.020139335"
            ]
          },
          "metadata": {
            "tags": []
          },
          "execution_count": 38
        }
      ]
    },
    {
      "cell_type": "code",
      "metadata": {
        "id": "XmUKzr1n3nyn",
        "outputId": "f5d69423-fe97-46d6-c074-9b71b4a9926a",
        "colab": {
          "base_uri": "https://localhost:8080/"
        }
      },
      "source": [
        "# 기준성능\n",
        "# Full-connected 선형모델\n",
        "# 1차원 특성 배열을 기대하기 때문에 Flatten 층 추가\n",
        "model = keras.models.Sequential([\n",
        "    keras.layers.Flatten(input_shape=[50,1]),\n",
        "    keras.layers.Dense(1)\n",
        "])\n",
        "model.compile(optimizer='adam', loss='mse', metrics=['accuracy'])\n",
        "history = model.fit(x_train, y_train, epochs=20, validation_data=(x_valid, y_valid), verbose=0)\n",
        "loss = np.mean(history.history['val_loss'])\n",
        "print(f'loss: {loss}')"
      ],
      "id": "XmUKzr1n3nyn",
      "execution_count": 44,
      "outputs": [
        {
          "output_type": "stream",
          "text": [
            "loss: 0.00904791122302413\n"
          ],
          "name": "stdout"
        }
      ]
    },
    {
      "cell_type": "code",
      "metadata": {
        "id": "qHtKQC9bWq96",
        "outputId": "99f4094c-fae6-403c-fe45-6b274ce91c48",
        "colab": {
          "base_uri": "https://localhost:8080/"
        }
      },
      "source": [
        "model.summary()"
      ],
      "id": "qHtKQC9bWq96",
      "execution_count": 45,
      "outputs": [
        {
          "output_type": "stream",
          "text": [
            "Model: \"sequential_13\"\n",
            "_________________________________________________________________\n",
            "Layer (type)                 Output Shape              Param #   \n",
            "=================================================================\n",
            "flatten_12 (Flatten)         (None, 50)                0         \n",
            "_________________________________________________________________\n",
            "dense_12 (Dense)             (None, 1)                 51        \n",
            "=================================================================\n",
            "Total params: 51\n",
            "Trainable params: 51\n",
            "Non-trainable params: 0\n",
            "_________________________________________________________________\n"
          ],
          "name": "stdout"
        }
      ]
    },
    {
      "cell_type": "code",
      "metadata": {
        "id": "_0JF8-fC5Upq",
        "outputId": "828520a1-f51c-41ed-c8e2-1ce77cf26784",
        "colab": {
          "base_uri": "https://localhost:8080/"
        }
      },
      "source": [
        "model = keras.models.Sequential([\n",
        "  keras.layers.SimpleRNN(1, input_shape=[None, 1])\n",
        "])\n",
        "\n",
        "model.compile(optimizer='adam', loss='mse', metrics=['accuracy'])\n",
        "history = model.fit(x_train, y_train, epochs=20, validation_data=(x_valid, y_valid), verbose=0)\n",
        "loss = np.mean(history.history['val_loss'])\n",
        "print(f'loss: {loss}')"
      ],
      "id": "_0JF8-fC5Upq",
      "execution_count": 42,
      "outputs": [
        {
          "output_type": "stream",
          "text": [
            "loss: 0.010827633272856473\n"
          ],
          "name": "stdout"
        }
      ]
    },
    {
      "cell_type": "code",
      "metadata": {
        "id": "qJBfXynOWM2M",
        "outputId": "af399486-eefe-4a47-d293-999c82224810",
        "colab": {
          "base_uri": "https://localhost:8080/"
        }
      },
      "source": [
        "model.summary()"
      ],
      "id": "qJBfXynOWM2M",
      "execution_count": 43,
      "outputs": [
        {
          "output_type": "stream",
          "text": [
            "Model: \"sequential_12\"\n",
            "_________________________________________________________________\n",
            "Layer (type)                 Output Shape              Param #   \n",
            "=================================================================\n",
            "simple_rnn (SimpleRNN)       (None, 1)                 3         \n",
            "=================================================================\n",
            "Total params: 3\n",
            "Trainable params: 3\n",
            "Non-trainable params: 0\n",
            "_________________________________________________________________\n"
          ],
          "name": "stdout"
        }
      ]
    },
    {
      "cell_type": "code",
      "metadata": {
        "id": "OF6DBBVJWn7D",
        "outputId": "22890e9d-0c46-4a5c-d8b6-ff46da29b558",
        "colab": {
          "base_uri": "https://localhost:8080/"
        }
      },
      "source": [
        "# 심층 RNN1\n",
        "model = keras.models.Sequential([\n",
        "  keras.layers.SimpleRNN(20, return_sequences=True, input_shape=[None, 1]),\n",
        "  keras.layers.SimpleRNN(20, return_sequences=True),\n",
        "  keras.layers.SimpleRNN(1)\n",
        "])\n",
        "\n",
        "model.compile(optimizer='adam', loss='mse', metrics=['accuracy'])\n",
        "history = model.fit(x_train, y_train, epochs=20, validation_data=(x_valid, y_valid), verbose=0)\n",
        "loss = np.mean(history.history['val_loss'])\n",
        "print(f'loss: {loss}')"
      ],
      "id": "OF6DBBVJWn7D",
      "execution_count": 47,
      "outputs": [
        {
          "output_type": "stream",
          "text": [
            "loss: 0.0054742124862968925\n"
          ],
          "name": "stdout"
        }
      ]
    },
    {
      "cell_type": "code",
      "metadata": {
        "id": "kw7BWuZxY6aI",
        "outputId": "6c85b22c-1d92-4abd-8e7e-85b7bf49e73f",
        "colab": {
          "base_uri": "https://localhost:8080/"
        }
      },
      "source": [
        "# # 심층 RNN2\n",
        "model = keras.models.Sequential([\n",
        "  keras.layers.SimpleRNN(20, return_sequences=True, input_shape=[None, 1]),\n",
        "  keras.layers.SimpleRNN(20),\n",
        "  keras.layers.Dense(1)\n",
        "])\n",
        "\n",
        "model.compile(optimizer='adam', loss='mse', metrics=['accuracy'])\n",
        "history = model.fit(x_train, y_train, epochs=20, validation_data=(x_valid, y_valid), verbose=0)\n",
        "loss = np.mean(history.history['val_loss'])\n",
        "print(f'loss: {loss}')"
      ],
      "id": "kw7BWuZxY6aI",
      "execution_count": 48,
      "outputs": [
        {
          "output_type": "stream",
          "text": [
            "loss: 0.003186594194266945\n"
          ],
          "name": "stdout"
        }
      ]
    },
    {
      "cell_type": "code",
      "metadata": {
        "id": "mGvWLY7VZ6z4"
      },
      "source": [
        ""
      ],
      "id": "mGvWLY7VZ6z4",
      "execution_count": null,
      "outputs": []
    }
  ]
}
