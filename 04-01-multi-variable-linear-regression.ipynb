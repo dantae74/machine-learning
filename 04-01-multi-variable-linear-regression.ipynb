{
  "nbformat": 4,
  "nbformat_minor": 5,
  "metadata": {
    "colab": {
      "name": "Untitled.ipynb",
      "provenance": [],
      "include_colab_link": true
    },
    "language_info": {
      "name": "python"
    },
    "kernelspec": {
      "name": "python3",
      "display_name": "Python 3"
    }
  },
  "cells": [
    {
      "cell_type": "markdown",
      "metadata": {
        "id": "view-in-github",
        "colab_type": "text"
      },
      "source": [
        "<a href=\"https://colab.research.google.com/github/dantae74/machine-learning/blob/main/04-01-multi-variable-linear-regression.ipynb\" target=\"_parent\"><img src=\"https://colab.research.google.com/assets/colab-badge.svg\" alt=\"Open In Colab\"/></a>"
      ]
    },
    {
      "cell_type": "markdown",
      "metadata": {
        "id": "WfgQSbgOoe-2"
      },
      "source": [
        " 모두를 위한 머신러닝에서 가져왔습니다.\n",
        "# Multi-variable linear regression"
      ],
      "id": "WfgQSbgOoe-2"
    },
    {
      "cell_type": "code",
      "metadata": {
        "id": "h3FQcmkkNgr9"
      },
      "source": [
        "import tensorflow as tf"
      ],
      "id": "h3FQcmkkNgr9",
      "execution_count": null,
      "outputs": []
    },
    {
      "cell_type": "code",
      "metadata": {
        "id": "RK3QTbWDofS7"
      },
      "source": [
        "x1_data = [73., 93., 89., 96., 73.]\n",
        "x2_data = [80., 88., 91., 98., 66.]\n",
        "x3_data = [75., 93., 90., 100., 70.]\n",
        "y_data = [152., 185., 180., 196., 142.]"
      ],
      "id": "RK3QTbWDofS7",
      "execution_count": null,
      "outputs": []
    },
    {
      "cell_type": "code",
      "metadata": {
        "id": "30dxHmEPog-b"
      },
      "source": [
        "w1 = tf.Variable(tf.random.normal([1]), name='weight1')\n",
        "w2 = tf.Variable(tf.random.normal([1]), name='weight2')\n",
        "w3 = tf.Variable(tf.random.normal([1]), name='weight3')\n",
        "\n",
        "b = tf.Variable(tf.random.normal([1]), name='bias')"
      ],
      "id": "30dxHmEPog-b",
      "execution_count": null,
      "outputs": []
    },
    {
      "cell_type": "code",
      "metadata": {
        "id": "pP4OezqlNnsp"
      },
      "source": [
        "lr = tf.constant(0.01)"
      ],
      "id": "pP4OezqlNnsp",
      "execution_count": null,
      "outputs": []
    },
    {
      "cell_type": "code",
      "metadata": {
        "id": "BIrgIbuZPpvt"
      },
      "source": [
        "# cost/loss function\n",
        "for step in range(2001):\n",
        "  with tf.GradientTape() as tape:\n",
        "    hypothesis = x1_data * w1 + x2_data * w2 + x3_data * w3 + b\n",
        "    cost = tf.reduce_mean(tf.square(hypothesis - y_data))\n",
        "\n",
        "  gred1, gred2, gred3 = tape.gradient(cost,[w1,w2,w3])\n",
        "\n",
        "  w1 = w1 - lr * gred1\n",
        "  w2 = w2 - lr * gred2\n",
        "  w3 = w3 - lr * gred3\n",
        "\n",
        "  if step % 10 == 0:\n",
        "    print('Step: {}\\tCost: {}\\t, prediction:{}'.format(step, cost, hypothesis.numpy()))"
      ],
      "id": "BIrgIbuZPpvt",
      "execution_count": null,
      "outputs": []
    },
    {
      "cell_type": "code",
      "metadata": {
        "id": "0bj2xzuDXEY_"
      },
      "source": [
        "gred1"
      ],
      "id": "0bj2xzuDXEY_",
      "execution_count": null,
      "outputs": []
    },
    {
      "cell_type": "code",
      "metadata": {
        "id": "eteUOQBReNj9"
      },
      "source": [
        "gred1.numpy()"
      ],
      "id": "eteUOQBReNj9",
      "execution_count": null,
      "outputs": []
    },
    {
      "cell_type": "code",
      "metadata": {
        "id": "4dziroOOePam"
      },
      "source": [
        "w1 = w1 - gred1"
      ],
      "id": "4dziroOOePam",
      "execution_count": null,
      "outputs": []
    },
    {
      "cell_type": "code",
      "metadata": {
        "id": "6Ss3Uob4eWQM"
      },
      "source": [
        "w1"
      ],
      "id": "6Ss3Uob4eWQM",
      "execution_count": null,
      "outputs": []
    },
    {
      "cell_type": "code",
      "metadata": {
        "id": "OnySU-2YeXFl"
      },
      "source": [
        ""
      ],
      "id": "OnySU-2YeXFl",
      "execution_count": null,
      "outputs": []
    }
  ]
}