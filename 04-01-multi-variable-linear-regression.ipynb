{
  "nbformat": 4,
  "nbformat_minor": 5,
  "metadata": {
    "colab": {
      "name": "04-01-multi-variable-linear-regression.ipynb",
      "provenance": [],
      "include_colab_link": true
    },
    "language_info": {
      "name": "python"
    },
    "kernelspec": {
      "name": "python3",
      "display_name": "Python 3"
    }
  },
  "cells": [
    {
      "cell_type": "markdown",
      "metadata": {
        "id": "view-in-github",
        "colab_type": "text"
      },
      "source": [
        "<a href=\"https://colab.research.google.com/github/dantae74/machine-learning/blob/main/04-01-multi-variable-linear-regression.ipynb\" target=\"_parent\"><img src=\"https://colab.research.google.com/assets/colab-badge.svg\" alt=\"Open In Colab\"/></a>"
      ]
    },
    {
      "cell_type": "markdown",
      "metadata": {
        "id": "WfgQSbgOoe-2"
      },
      "source": [
        " 모두를 위한 머신러닝에서 가져왔습니다.\n",
        "# Multi-variable linear regression"
      ],
      "id": "WfgQSbgOoe-2"
    },
    {
      "cell_type": "code",
      "metadata": {
        "id": "h3FQcmkkNgr9"
      },
      "source": [
        "import tensorflow as tf\n",
        "import numpy as np"
      ],
      "id": "h3FQcmkkNgr9",
      "execution_count": null,
      "outputs": []
    },
    {
      "cell_type": "code",
      "metadata": {
        "id": "RK3QTbWDofS7"
      },
      "source": [
        "x1_data = [73., 93., 89., 96., 73.]\n",
        "x2_data = [80., 88., 91., 98., 66.]\n",
        "x3_data = [75., 93., 90., 100., 70.]\n",
        "\n",
        "y_data = [152., 185., 180., 196., 142.]"
      ],
      "id": "RK3QTbWDofS7",
      "execution_count": null,
      "outputs": []
    },
    {
      "cell_type": "code",
      "metadata": {
        "id": "30dxHmEPog-b"
      },
      "source": [
        "w1 = tf.Variable(tf.random.normal([1]), name='weight1')\n",
        "w2 = tf.Variable(tf.random.normal([1]), name='weight2')\n",
        "w3 = tf.Variable(tf.random.normal([1]), name='weight3')\n",
        "\n",
        "b = tf.Variable(tf.random.normal([1]), name='bias')"
      ],
      "id": "30dxHmEPog-b",
      "execution_count": null,
      "outputs": []
    },
    {
      "cell_type": "code",
      "metadata": {
        "id": "pP4OezqlNnsp"
      },
      "source": [
        "lr = 0.00001"
      ],
      "id": "pP4OezqlNnsp",
      "execution_count": null,
      "outputs": []
    },
    {
      "cell_type": "code",
      "metadata": {
        "id": "R9Y8qCp0ri67"
      },
      "source": [
        "for step in range(1000):\n",
        "  hypothesis = []\n",
        "  for i in range(5):\n",
        "    hypothesis.append(x1_data[i] * w1 + x2_data[i] * w2 + x3_data[i] * w3 + b)\n",
        "    gred1 = tf.reduce_mean((hypothesis[i] - y_data[i]) * x1_data[i])\n",
        "    gred2 = tf.reduce_mean((hypothesis[i] - y_data[i]) * x2_data[i])\n",
        "    gred3 = tf.reduce_mean((hypothesis[i] - y_data[i]) * x3_data[i])\n",
        "    b_gred = tf.reduce_mean(hypothesis[i] - y_data[i])\n",
        "\n",
        "    # gredient descent\n",
        "    w1 = w1 - lr * gred1\n",
        "    w2 = w2 - lr * gred2\n",
        "    w3 = w3 - lr * gred3\n",
        "    b = b - lr * b_gred\n",
        "\n",
        "  cost = tf.reduce_mean(tf.square(tf.Variable(hypothesis) - y_data))\n",
        "\n",
        "  if step % 10 == 0:\n",
        "    print('Step: {:02d} \\tCost: {}\\n'.format(step, cost))\n"
      ],
      "id": "R9Y8qCp0ri67",
      "execution_count": null,
      "outputs": []
    },
    {
      "cell_type": "code",
      "metadata": {
        "id": "OYT7asGbmISL"
      },
      "source": [
        ""
      ],
      "id": "OYT7asGbmISL",
      "execution_count": null,
      "outputs": []
    },
    {
      "cell_type": "code",
      "metadata": {
        "id": "uKuwmFaJmIUy"
      },
      "source": [
        ""
      ],
      "id": "uKuwmFaJmIUy",
      "execution_count": null,
      "outputs": []
    }
  ]
}