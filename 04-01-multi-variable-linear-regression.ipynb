{
  "nbformat": 4,
  "nbformat_minor": 5,
  "metadata": {
    "colab": {
      "name": "04-01-multi-variable-linear-regression.ipynb",
      "provenance": [],
      "include_colab_link": true
    },
    "language_info": {
      "name": "python"
    },
    "kernelspec": {
      "name": "python3",
      "display_name": "Python 3"
    }
  },
  "cells": [
    {
      "cell_type": "markdown",
      "metadata": {
        "id": "view-in-github",
        "colab_type": "text"
      },
      "source": [
        "<a href=\"https://colab.research.google.com/github/dantae74/machine-learning/blob/main/04-01-multi-variable-linear-regression.ipynb\" target=\"_parent\"><img src=\"https://colab.research.google.com/assets/colab-badge.svg\" alt=\"Open In Colab\"/></a>"
      ]
    },
    {
      "cell_type": "markdown",
      "metadata": {
        "id": "WfgQSbgOoe-2"
      },
      "source": [
        " 모두를 위한 머신러닝에서 가져왔습니다.\n",
        "# Multi-variable linear regression"
      ],
      "id": "WfgQSbgOoe-2"
    },
    {
      "cell_type": "code",
      "metadata": {
        "id": "h3FQcmkkNgr9"
      },
      "source": [
        "import tensorflow as tf"
      ],
      "id": "h3FQcmkkNgr9",
      "execution_count": 92,
      "outputs": []
    },
    {
      "cell_type": "code",
      "metadata": {
        "id": "RK3QTbWDofS7"
      },
      "source": [
        "x1_data = [73., 93., 89., 96., 73.]\n",
        "x2_data = [80., 88., 91., 98., 66.]\n",
        "x3_data = [75., 93., 90., 100., 70.]\n",
        "y_data = [152., 185., 180., 196., 142.]"
      ],
      "id": "RK3QTbWDofS7",
      "execution_count": 130,
      "outputs": []
    },
    {
      "cell_type": "code",
      "metadata": {
        "id": "30dxHmEPog-b",
        "outputId": "79c69af2-645f-42bb-f793-23ac825531ba",
        "colab": {
          "base_uri": "https://localhost:8080/"
        }
      },
      "source": [
        "w1 = tf.Variable(tf.random.normal([1]), name='weight1')\n",
        "w2 = tf.Variable(tf.random.normal([1]), name='weight2')\n",
        "w3 = tf.Variable(tf.random.normal([1]), name='weight3')\n",
        "\n",
        "b = tf.Variable(tf.random.normal([1]), name='bias')"
      ],
      "id": "30dxHmEPog-b",
      "execution_count": 131,
      "outputs": [
        {
          "output_type": "stream",
          "text": [
            "w1 [-0.40483686] w2 [0.90496516] w3 [-0.18671575]\n",
            "\n"
          ],
          "name": "stdout"
        }
      ]
    },
    {
      "cell_type": "code",
      "metadata": {
        "id": "pP4OezqlNnsp"
      },
      "source": [
        "lr = tf.constant(0.0001)"
      ],
      "id": "pP4OezqlNnsp",
      "execution_count": 132,
      "outputs": []
    },
    {
      "cell_type": "code",
      "metadata": {
        "id": "R9Y8qCp0ri67",
        "outputId": "27285aa2-4d9e-4772-ce15-694b6b4afd44",
        "colab": {
          "base_uri": "https://localhost:8080/"
        }
      },
      "source": [
        "for step in range(10):\n",
        "  for i in range(5):\n",
        "    hypothesis = x1_data[i] * w1 + x2_data[i] * w2 + x3_data[i] * w3 + b\n",
        "    cost = tf.reduce_mean(tf.square(hypothesis - y_data[i]))\n",
        "\n",
        "    gred1 = tf.reduce_mean((hypothesis - y_data[i]) * x1_data[i])\n",
        "    gred2 = tf.reduce_mean((hypothesis - y_data[i]) * x2_data[i])\n",
        "    gred3 = tf.reduce_mean((hypothesis - y_data[i]) * x3_data[i])\n",
        "\n",
        "    w1 = w1 - lr * gred1\n",
        "    w2 = w2 - lr * gred2\n",
        "    w3 = w3 - lr * gred3\n",
        "\n",
        "  if step % 10 == 0:\n",
        "    print('Step: {:02d} \\tCost: {}\\n'.format(step, cost))\n",
        "    print('gred1 {} \\t gred2 {} \\t gred3 {}\\n'.format(gred1, gred2, gred3))\n",
        "    print('w1 {} w2 {} w3 {}\\n'.format(w1, w2, w3))\n"
      ],
      "id": "R9Y8qCp0ri67",
      "execution_count": 133,
      "outputs": [
        {
          "output_type": "stream",
          "text": [
            "hypothesis: tf.Tensor([29.763046], shape=(1,), dtype=float32)\n",
            "hypothesis: tf.Tensor([2568.563], shape=(1,), dtype=float32)\n",
            "hypothesis: tf.Tensor([-56227.15], shape=(1,), dtype=float32)\n",
            "hypothesis: tf.Tensor([1431406.4], shape=(1,), dtype=float32)\n",
            "hypothesis: tf.Tensor([-28288428.], shape=(1,), dtype=float32)\n",
            "Step: 00 \tCost: 800243205537792.0\n",
            "\n",
            "gred1 -2065065600.0 \t gred2 -1867045632.0 \t gred3 -1980199936.0\n",
            "\n",
            "w1 [1932476.6] w2 [1731721.1] w3 [1841942.9]\n",
            "\n",
            "hypothesis: tf.Tensor([4.1775424e+08], shape=(1,), dtype=float32)\n",
            "hypothesis: tf.Tensor([-8.1875436e+09], shape=(1,), dtype=float32)\n",
            "hypothesis: tf.Tensor([1.9378402e+11], shape=(1,), dtype=float32)\n",
            "hypothesis: tf.Tensor([-4.916858e+12], shape=(1,), dtype=float32)\n",
            "hypothesis: tf.Tensor([9.718406e+13], shape=(1,), dtype=float32)\n",
            "hypothesis: tf.Tensor([-1.4351745e+15], shape=(1,), dtype=float32)\n",
            "hypothesis: tf.Tensor([2.8127921e+16], shape=(1,), dtype=float32)\n",
            "hypothesis: tf.Tensor([-6.657359e+17], shape=(1,), dtype=float32)\n",
            "hypothesis: tf.Tensor([1.6891633e+19], shape=(1,), dtype=float32)\n",
            "hypothesis: tf.Tensor([-3.3387126e+20], shape=(1,), dtype=float32)\n",
            "hypothesis: tf.Tensor([4.9304744e+21], shape=(1,), dtype=float32)\n",
            "hypothesis: tf.Tensor([-9.663215e+22], shape=(1,), dtype=float32)\n",
            "hypothesis: tf.Tensor([2.2871043e+24], shape=(1,), dtype=float32)\n",
            "hypothesis: tf.Tensor([-5.803041e+25], shape=(1,), dtype=float32)\n",
            "hypothesis: tf.Tensor([1.1469991e+27], shape=(1,), dtype=float32)\n",
            "hypothesis: tf.Tensor([-1.6938413e+28], shape=(1,), dtype=float32)\n",
            "hypothesis: tf.Tensor([3.3197522e+29], shape=(1,), dtype=float32)\n",
            "hypothesis: tf.Tensor([-7.857239e+30], shape=(1,), dtype=float32)\n",
            "hypothesis: tf.Tensor([1.9936075e+32], shape=(1,), dtype=float32)\n",
            "hypothesis: tf.Tensor([-3.9404613e+33], shape=(1,), dtype=float32)\n",
            "hypothesis: tf.Tensor([5.819112e+34], shape=(1,), dtype=float32)\n",
            "hypothesis: tf.Tensor([-1.1404853e+36], shape=(1,), dtype=float32)\n",
            "hypothesis: tf.Tensor([2.6993174e+37], shape=(1,), dtype=float32)\n",
            "hypothesis: tf.Tensor([-inf], shape=(1,), dtype=float32)\n",
            "hypothesis: tf.Tensor([nan], shape=(1,), dtype=float32)\n",
            "hypothesis: tf.Tensor([nan], shape=(1,), dtype=float32)\n",
            "hypothesis: tf.Tensor([nan], shape=(1,), dtype=float32)\n",
            "hypothesis: tf.Tensor([nan], shape=(1,), dtype=float32)\n",
            "hypothesis: tf.Tensor([nan], shape=(1,), dtype=float32)\n",
            "hypothesis: tf.Tensor([nan], shape=(1,), dtype=float32)\n",
            "hypothesis: tf.Tensor([nan], shape=(1,), dtype=float32)\n",
            "hypothesis: tf.Tensor([nan], shape=(1,), dtype=float32)\n",
            "hypothesis: tf.Tensor([nan], shape=(1,), dtype=float32)\n",
            "hypothesis: tf.Tensor([nan], shape=(1,), dtype=float32)\n",
            "hypothesis: tf.Tensor([nan], shape=(1,), dtype=float32)\n",
            "hypothesis: tf.Tensor([nan], shape=(1,), dtype=float32)\n",
            "hypothesis: tf.Tensor([nan], shape=(1,), dtype=float32)\n",
            "hypothesis: tf.Tensor([nan], shape=(1,), dtype=float32)\n",
            "hypothesis: tf.Tensor([nan], shape=(1,), dtype=float32)\n",
            "hypothesis: tf.Tensor([nan], shape=(1,), dtype=float32)\n",
            "hypothesis: tf.Tensor([nan], shape=(1,), dtype=float32)\n",
            "hypothesis: tf.Tensor([nan], shape=(1,), dtype=float32)\n",
            "hypothesis: tf.Tensor([nan], shape=(1,), dtype=float32)\n",
            "hypothesis: tf.Tensor([nan], shape=(1,), dtype=float32)\n",
            "hypothesis: tf.Tensor([nan], shape=(1,), dtype=float32)\n"
          ],
          "name": "stdout"
        }
      ]
    },
    {
      "cell_type": "code",
      "metadata": {
        "id": "BIrgIbuZPpvt",
        "outputId": "1c333d28-00dd-41c8-de9a-436e5b911e41",
        "colab": {
          "base_uri": "https://localhost:8080/",
          "height": 235
        }
      },
      "source": [
        "# cost/loss function\n",
        "# for step in range(10):\n",
        "#   with tf.GradientTape() as tape:\n",
        "#     hypothesis = x1_data * w1 + x2_data * w2 + x3_data * w3 + b\n",
        "#     cost = tf.reduce_mean(tf.square(hypothesis - y_data))\n",
        "\n",
        "#   gred = tape.gradient(cost,[w1,w2,w3])\n",
        "#   print(gred[0])\n",
        "#   print(gred[1])\n",
        "#   print(gred[2])\n",
        "\n",
        "#   w1 = w1 - lr * tf.cast(gred[0], tf.float32)\n",
        "#   w2 = w2 - lr * tf.cast(gred[1], tf.float32)\n",
        "#   w3 = w3 - lr * tf.cast(gred[2], tf.float32)\n",
        "\n",
        "#   # if step % 10 == 0:\n",
        "#   #   print('Step: {}\\tCost: {}\\t, prediction:{}'.format(step, cost, hypothesis.numpy()))"
      ],
      "id": "BIrgIbuZPpvt",
      "execution_count": 52,
      "outputs": [
        {
          "output_type": "error",
          "ename": "AttributeError",
          "evalue": "ignored",
          "traceback": [
            "\u001b[0;31m---------------------------------------------------------------------------\u001b[0m",
            "\u001b[0;31mAttributeError\u001b[0m                            Traceback (most recent call last)",
            "\u001b[0;32m<ipython-input-52-7f66cf4ed2c1>\u001b[0m in \u001b[0;36m<module>\u001b[0;34m()\u001b[0m\n\u001b[1;32m      2\u001b[0m \u001b[0;32mfor\u001b[0m \u001b[0mstep\u001b[0m \u001b[0;32min\u001b[0m \u001b[0mrange\u001b[0m\u001b[0;34m(\u001b[0m\u001b[0;36m10\u001b[0m\u001b[0;34m)\u001b[0m\u001b[0;34m:\u001b[0m\u001b[0;34m\u001b[0m\u001b[0;34m\u001b[0m\u001b[0m\n\u001b[1;32m      3\u001b[0m   \u001b[0;32mwith\u001b[0m \u001b[0mtf\u001b[0m\u001b[0;34m.\u001b[0m\u001b[0mGradientTape\u001b[0m\u001b[0;34m(\u001b[0m\u001b[0;34m)\u001b[0m \u001b[0;32mas\u001b[0m \u001b[0mtape\u001b[0m\u001b[0;34m:\u001b[0m\u001b[0;34m\u001b[0m\u001b[0;34m\u001b[0m\u001b[0m\n\u001b[0;32m----> 4\u001b[0;31m     \u001b[0mhypothesis\u001b[0m \u001b[0;34m=\u001b[0m \u001b[0mx1_data\u001b[0m\u001b[0;34m.\u001b[0m\u001b[0mreshape\u001b[0m\u001b[0;34m(\u001b[0m\u001b[0;36m5\u001b[0m\u001b[0;34m,\u001b[0m\u001b[0;36m1\u001b[0m\u001b[0;34m)\u001b[0m \u001b[0;34m*\u001b[0m \u001b[0mw1\u001b[0m \u001b[0;34m+\u001b[0m \u001b[0mx2_data\u001b[0m\u001b[0;34m.\u001b[0m\u001b[0mreshape\u001b[0m\u001b[0;34m(\u001b[0m\u001b[0;36m5\u001b[0m\u001b[0;34m,\u001b[0m\u001b[0;36m1\u001b[0m\u001b[0;34m)\u001b[0m \u001b[0;34m*\u001b[0m \u001b[0mw2\u001b[0m \u001b[0;34m+\u001b[0m \u001b[0mx3_data\u001b[0m\u001b[0;34m.\u001b[0m\u001b[0mreshape\u001b[0m\u001b[0;34m(\u001b[0m\u001b[0;36m5\u001b[0m\u001b[0;34m,\u001b[0m\u001b[0;36m1\u001b[0m\u001b[0;34m)\u001b[0m \u001b[0;34m*\u001b[0m \u001b[0mw3\u001b[0m \u001b[0;34m+\u001b[0m \u001b[0mb\u001b[0m\u001b[0;34m\u001b[0m\u001b[0;34m\u001b[0m\u001b[0m\n\u001b[0m\u001b[1;32m      5\u001b[0m     \u001b[0mcost\u001b[0m \u001b[0;34m=\u001b[0m \u001b[0mtf\u001b[0m\u001b[0;34m.\u001b[0m\u001b[0mreduce_mean\u001b[0m\u001b[0;34m(\u001b[0m\u001b[0mtf\u001b[0m\u001b[0;34m.\u001b[0m\u001b[0msquare\u001b[0m\u001b[0;34m(\u001b[0m\u001b[0mhypothesis\u001b[0m \u001b[0;34m-\u001b[0m \u001b[0my_data\u001b[0m\u001b[0;34m)\u001b[0m\u001b[0;34m)\u001b[0m\u001b[0;34m\u001b[0m\u001b[0;34m\u001b[0m\u001b[0m\n\u001b[1;32m      6\u001b[0m \u001b[0;34m\u001b[0m\u001b[0m\n",
            "\u001b[0;31mAttributeError\u001b[0m: 'list' object has no attribute 'reshape'"
          ]
        }
      ]
    },
    {
      "cell_type": "code",
      "metadata": {
        "id": "bjL1GKnKlhfD",
        "outputId": "9bf2bce3-e8f8-4644-8a05-6a85876b1150",
        "colab": {
          "base_uri": "https://localhost:8080/",
          "height": 166
        }
      },
      "source": [
        "w1 = w1 - lr*gred1.numpy()"
      ],
      "id": "bjL1GKnKlhfD",
      "execution_count": 12,
      "outputs": [
        {
          "output_type": "error",
          "ename": "AttributeError",
          "evalue": "ignored",
          "traceback": [
            "\u001b[0;31m---------------------------------------------------------------------------\u001b[0m",
            "\u001b[0;31mAttributeError\u001b[0m                            Traceback (most recent call last)",
            "\u001b[0;32m<ipython-input-12-4cf523e90d53>\u001b[0m in \u001b[0;36m<module>\u001b[0;34m()\u001b[0m\n\u001b[0;32m----> 1\u001b[0;31m \u001b[0mw1\u001b[0m \u001b[0;34m=\u001b[0m \u001b[0mw1\u001b[0m \u001b[0;34m-\u001b[0m \u001b[0mlr\u001b[0m\u001b[0;34m*\u001b[0m\u001b[0mgred1\u001b[0m\u001b[0;34m.\u001b[0m\u001b[0mnumpy\u001b[0m\u001b[0;34m(\u001b[0m\u001b[0;34m)\u001b[0m\u001b[0;34m\u001b[0m\u001b[0;34m\u001b[0m\u001b[0m\n\u001b[0m",
            "\u001b[0;31mAttributeError\u001b[0m: 'NoneType' object has no attribute 'numpy'"
          ]
        }
      ]
    },
    {
      "cell_type": "code",
      "metadata": {
        "id": "OYT7asGbmISL"
      },
      "source": [
        ""
      ],
      "id": "OYT7asGbmISL",
      "execution_count": 5,
      "outputs": []
    },
    {
      "cell_type": "code",
      "metadata": {
        "id": "uKuwmFaJmIUy"
      },
      "source": [
        ""
      ],
      "id": "uKuwmFaJmIUy",
      "execution_count": 5,
      "outputs": []
    }
  ]
}