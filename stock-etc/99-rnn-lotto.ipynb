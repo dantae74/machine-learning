{
  "nbformat": 4,
  "nbformat_minor": 5,
  "metadata": {
    "colab": {
      "name": "99-rnn-lotto.ipynb",
      "provenance": [],
      "include_colab_link": true
    },
    "language_info": {
      "name": "python"
    },
    "kernelspec": {
      "name": "python3",
      "display_name": "Python 3"
    }
  },
  "cells": [
    {
      "cell_type": "markdown",
      "metadata": {
        "id": "view-in-github",
        "colab_type": "text"
      },
      "source": [
        "<a href=\"https://colab.research.google.com/github/dantae74/machine-learning/blob/main/stock-etc/99-rnn-lotto.ipynb\" target=\"_parent\"><img src=\"https://colab.research.google.com/assets/colab-badge.svg\" alt=\"Open In Colab\"/></a>"
      ]
    },
    {
      "cell_type": "markdown",
      "metadata": {
        "id": "WfgQSbgOoe-2"
      },
      "source": [
        "모두를 위한 머신러닝에서 가져왔습니다.\n",
        "# RNN-lotto"
      ],
      "id": "WfgQSbgOoe-2"
    },
    {
      "cell_type": "code",
      "metadata": {
        "id": "RK3QTbWDofS7"
      },
      "source": [
        "import numpy as np\n",
        "import tensorflow as tf\n",
        "import pandas as pd\n",
        "from tensorflow import keras\n",
        "from tensorflow.keras import layers\n",
        "from io import BytesIO\n",
        "import requests"
      ],
      "id": "RK3QTbWDofS7",
      "execution_count": 3,
      "outputs": []
    },
    {
      "cell_type": "code",
      "metadata": {
        "id": "30dxHmEPog-b"
      },
      "source": [
        "noEnd ='965' # 마지막 로또 회차 번호\n",
        "url = 'https://dhlottery.co.kr/gameResult.do?method=allWinExel&gubun=byWin&nowPage=&drwNoStart=1&drwNoEnd={}'.format(noEnd)\n",
        "\n",
        "# user-agent\n",
        "user_agent = \"Mozilla/5.0 (Macintosh; Intel Mac OS X 10_15_7) AppleWebKit/537.36 (KHTML, like Gecko) Chrome/90.0.4430.212 Safari/537.36\""
      ],
      "id": "30dxHmEPog-b",
      "execution_count": 4,
      "outputs": []
    },
    {
      "cell_type": "code",
      "metadata": {
        "id": "KJXYQXb83X65"
      },
      "source": [
        "result = requests.get(url, headers={\"user-agent\":user_agent})"
      ],
      "id": "KJXYQXb83X65",
      "execution_count": 5,
      "outputs": []
    },
    {
      "cell_type": "code",
      "metadata": {
        "id": "1d9_zPKE3hFX",
        "outputId": "37c98df1-95ae-4830-a5a4-5a0271f74cdb",
        "colab": {
          "base_uri": "https://localhost:8080/"
        }
      },
      "source": [
        "result"
      ],
      "id": "1d9_zPKE3hFX",
      "execution_count": 6,
      "outputs": [
        {
          "output_type": "execute_result",
          "data": {
            "text/plain": [
              "<Response [200]>"
            ]
          },
          "metadata": {
            "tags": []
          },
          "execution_count": 6
        }
      ]
    },
    {
      "cell_type": "code",
      "metadata": {
        "id": "DHzsnDB25ntC"
      },
      "source": [
        "f = BytesIO(result.content)\n",
        "# df = pd.read_excel(f,sheet_name='excel',skiprows=3)\n",
        "html_result = pd.read_html(f)"
      ],
      "id": "DHzsnDB25ntC",
      "execution_count": 7,
      "outputs": []
    },
    {
      "cell_type": "code",
      "metadata": {
        "id": "bFfN-kn05xEL",
        "outputId": "d6906634-aaa2-4613-a3a8-e6999665c687",
        "colab": {
          "base_uri": "https://localhost:8080/",
          "height": 198
        }
      },
      "source": [
        "df = pd.DataFrame(html_result[1])\n",
        "df = df.drop([0])\n",
        "df.head()"
      ],
      "id": "bFfN-kn05xEL",
      "execution_count": 25,
      "outputs": [
        {
          "output_type": "execute_result",
          "data": {
            "text/html": [
              "<div>\n",
              "<style scoped>\n",
              "    .dataframe tbody tr th:only-of-type {\n",
              "        vertical-align: middle;\n",
              "    }\n",
              "\n",
              "    .dataframe tbody tr th {\n",
              "        vertical-align: top;\n",
              "    }\n",
              "\n",
              "    .dataframe thead th {\n",
              "        text-align: right;\n",
              "    }\n",
              "</style>\n",
              "<table border=\"1\" class=\"dataframe\">\n",
              "  <thead>\n",
              "    <tr style=\"text-align: right;\">\n",
              "      <th></th>\n",
              "      <th>0</th>\n",
              "      <th>1</th>\n",
              "      <th>2</th>\n",
              "      <th>3</th>\n",
              "      <th>4</th>\n",
              "      <th>5</th>\n",
              "      <th>6</th>\n",
              "      <th>7</th>\n",
              "      <th>8</th>\n",
              "      <th>9</th>\n",
              "      <th>10</th>\n",
              "      <th>11</th>\n",
              "      <th>12</th>\n",
              "      <th>13</th>\n",
              "      <th>14</th>\n",
              "      <th>15</th>\n",
              "      <th>16</th>\n",
              "      <th>17</th>\n",
              "      <th>18</th>\n",
              "      <th>19</th>\n",
              "    </tr>\n",
              "  </thead>\n",
              "  <tbody>\n",
              "    <tr>\n",
              "      <th>1</th>\n",
              "      <td>년도</td>\n",
              "      <td>회차</td>\n",
              "      <td>추첨일</td>\n",
              "      <td>당첨자수</td>\n",
              "      <td>당첨금액</td>\n",
              "      <td>당첨자수</td>\n",
              "      <td>당첨금액</td>\n",
              "      <td>당첨자수</td>\n",
              "      <td>당첨금액</td>\n",
              "      <td>당첨자수</td>\n",
              "      <td>당첨금액</td>\n",
              "      <td>당첨자수</td>\n",
              "      <td>당첨금액</td>\n",
              "      <td>1</td>\n",
              "      <td>2</td>\n",
              "      <td>3</td>\n",
              "      <td>4</td>\n",
              "      <td>5</td>\n",
              "      <td>6</td>\n",
              "      <td>보너스</td>\n",
              "    </tr>\n",
              "    <tr>\n",
              "      <th>2</th>\n",
              "      <td>2021</td>\n",
              "      <td>965</td>\n",
              "      <td>2021.05.29</td>\n",
              "      <td>7</td>\n",
              "      <td>3,403,348,929원</td>\n",
              "      <td>46</td>\n",
              "      <td>86,316,821원</td>\n",
              "      <td>2389</td>\n",
              "      <td>1,662,024원</td>\n",
              "      <td>122129</td>\n",
              "      <td>50,000원</td>\n",
              "      <td>2043257</td>\n",
              "      <td>5,000원</td>\n",
              "      <td>2</td>\n",
              "      <td>13</td>\n",
              "      <td>25</td>\n",
              "      <td>28</td>\n",
              "      <td>29</td>\n",
              "      <td>36</td>\n",
              "      <td>34</td>\n",
              "    </tr>\n",
              "    <tr>\n",
              "      <th>3</th>\n",
              "      <td>2021</td>\n",
              "      <td>964</td>\n",
              "      <td>2021.05.22</td>\n",
              "      <td>10</td>\n",
              "      <td>2,345,861,063원</td>\n",
              "      <td>52</td>\n",
              "      <td>75,187,855원</td>\n",
              "      <td>2447</td>\n",
              "      <td>1,597,781원</td>\n",
              "      <td>123780</td>\n",
              "      <td>50,000원</td>\n",
              "      <td>2061560</td>\n",
              "      <td>5,000원</td>\n",
              "      <td>6</td>\n",
              "      <td>21</td>\n",
              "      <td>36</td>\n",
              "      <td>38</td>\n",
              "      <td>39</td>\n",
              "      <td>43</td>\n",
              "      <td>30</td>\n",
              "    </tr>\n",
              "    <tr>\n",
              "      <th>4</th>\n",
              "      <td>2021</td>\n",
              "      <td>963</td>\n",
              "      <td>2021.05.15</td>\n",
              "      <td>15</td>\n",
              "      <td>1,476,478,125원</td>\n",
              "      <td>68</td>\n",
              "      <td>54,282,285원</td>\n",
              "      <td>3137</td>\n",
              "      <td>1,176,665원</td>\n",
              "      <td>141987</td>\n",
              "      <td>50,000원</td>\n",
              "      <td>2219439</td>\n",
              "      <td>5,000원</td>\n",
              "      <td>6</td>\n",
              "      <td>12</td>\n",
              "      <td>19</td>\n",
              "      <td>23</td>\n",
              "      <td>34</td>\n",
              "      <td>42</td>\n",
              "      <td>35</td>\n",
              "    </tr>\n",
              "    <tr>\n",
              "      <th>5</th>\n",
              "      <td>2021</td>\n",
              "      <td>962</td>\n",
              "      <td>2021.05.08</td>\n",
              "      <td>12</td>\n",
              "      <td>1,940,906,094원</td>\n",
              "      <td>73</td>\n",
              "      <td>53,175,510원</td>\n",
              "      <td>2581</td>\n",
              "      <td>1,503,996원</td>\n",
              "      <td>126528</td>\n",
              "      <td>50,000원</td>\n",
              "      <td>2119457</td>\n",
              "      <td>5,000원</td>\n",
              "      <td>1</td>\n",
              "      <td>18</td>\n",
              "      <td>28</td>\n",
              "      <td>31</td>\n",
              "      <td>34</td>\n",
              "      <td>43</td>\n",
              "      <td>40</td>\n",
              "    </tr>\n",
              "  </tbody>\n",
              "</table>\n",
              "</div>"
            ],
            "text/plain": [
              "     0    1           2     3               4     5   ...  14  15  16  17  18   19\n",
              "1    년도   회차         추첨일  당첨자수            당첨금액  당첨자수  ...   2   3   4   5   6  보너스\n",
              "2  2021  965  2021.05.29     7  3,403,348,929원    46  ...  13  25  28  29  36   34\n",
              "3  2021  964  2021.05.22    10  2,345,861,063원    52  ...  21  36  38  39  43   30\n",
              "4  2021  963  2021.05.15    15  1,476,478,125원    68  ...  12  19  23  34  42   35\n",
              "5  2021  962  2021.05.08    12  1,940,906,094원    73  ...  18  28  31  34  43   40\n",
              "\n",
              "[5 rows x 20 columns]"
            ]
          },
          "metadata": {
            "tags": []
          },
          "execution_count": 25
        }
      ]
    },
    {
      "cell_type": "code",
      "metadata": {
        "id": "S8P2vsVLyss1",
        "outputId": "c71e5149-5404-4805-c820-054ed12ccf1f",
        "colab": {
          "base_uri": "https://localhost:8080/"
        }
      },
      "source": [
        "df.columns"
      ],
      "id": "S8P2vsVLyss1",
      "execution_count": 9,
      "outputs": [
        {
          "output_type": "execute_result",
          "data": {
            "text/plain": [
              "Int64Index([0, 1, 2, 3, 4, 5, 6, 7, 8, 9, 10, 11, 12, 13, 14, 15, 16, 17, 18,\n",
              "            19],\n",
              "           dtype='int64')"
            ]
          },
          "metadata": {
            "tags": []
          },
          "execution_count": 9
        }
      ]
    },
    {
      "cell_type": "code",
      "metadata": {
        "id": "Tw88UTi6xT6M",
        "outputId": "9d8b90c4-4b93-45de-a890-977745f1739a",
        "colab": {
          "base_uri": "https://localhost:8080/"
        }
      },
      "source": [
        "columns = [col for i, col in enumerate(df.iloc[0])]\n",
        "columns"
      ],
      "id": "Tw88UTi6xT6M",
      "execution_count": 45,
      "outputs": [
        {
          "output_type": "execute_result",
          "data": {
            "text/plain": [
              "['년도',\n",
              " '회차',\n",
              " '추첨일',\n",
              " '당첨자수',\n",
              " '당첨금액',\n",
              " '당첨자수',\n",
              " '당첨금액',\n",
              " '당첨자수',\n",
              " '당첨금액',\n",
              " '당첨자수',\n",
              " '당첨금액',\n",
              " '당첨자수',\n",
              " '당첨금액',\n",
              " '1',\n",
              " '2',\n",
              " '3',\n",
              " '4',\n",
              " '5',\n",
              " '6',\n",
              " '보너스']"
            ]
          },
          "metadata": {
            "tags": []
          },
          "execution_count": 45
        }
      ]
    },
    {
      "cell_type": "code",
      "metadata": {
        "id": "-jbwD5Zp1Y3s"
      },
      "source": [
        "df.columns = columns"
      ],
      "id": "-jbwD5Zp1Y3s",
      "execution_count": 46,
      "outputs": []
    },
    {
      "cell_type": "code",
      "metadata": {
        "id": "5I7Dw4L_2_g9"
      },
      "source": [
        "df = df.drop([1])"
      ],
      "id": "5I7Dw4L_2_g9",
      "execution_count": 55,
      "outputs": []
    },
    {
      "cell_type": "code",
      "metadata": {
        "id": "3o4NhwNo1iya",
        "outputId": "3a112efb-21dc-4bb8-e9be-7f30fd3c57fc",
        "colab": {
          "base_uri": "https://localhost:8080/",
          "height": 459
        }
      },
      "source": [
        "df = df.sort_values('회차', ascending=True)"
      ],
      "id": "3o4NhwNo1iya",
      "execution_count": 57,
      "outputs": [
        {
          "output_type": "execute_result",
          "data": {
            "text/html": [
              "<div>\n",
              "<style scoped>\n",
              "    .dataframe tbody tr th:only-of-type {\n",
              "        vertical-align: middle;\n",
              "    }\n",
              "\n",
              "    .dataframe tbody tr th {\n",
              "        vertical-align: top;\n",
              "    }\n",
              "\n",
              "    .dataframe thead th {\n",
              "        text-align: right;\n",
              "    }\n",
              "</style>\n",
              "<table border=\"1\" class=\"dataframe\">\n",
              "  <thead>\n",
              "    <tr style=\"text-align: right;\">\n",
              "      <th></th>\n",
              "      <th>년도</th>\n",
              "      <th>회차</th>\n",
              "      <th>추첨일</th>\n",
              "      <th>당첨자수</th>\n",
              "      <th>당첨금액</th>\n",
              "      <th>당첨자수</th>\n",
              "      <th>당첨금액</th>\n",
              "      <th>당첨자수</th>\n",
              "      <th>당첨금액</th>\n",
              "      <th>당첨자수</th>\n",
              "      <th>당첨금액</th>\n",
              "      <th>당첨자수</th>\n",
              "      <th>당첨금액</th>\n",
              "      <th>1</th>\n",
              "      <th>2</th>\n",
              "      <th>3</th>\n",
              "      <th>4</th>\n",
              "      <th>5</th>\n",
              "      <th>6</th>\n",
              "      <th>보너스</th>\n",
              "    </tr>\n",
              "  </thead>\n",
              "  <tbody>\n",
              "    <tr>\n",
              "      <th>966</th>\n",
              "      <td>2002</td>\n",
              "      <td>1</td>\n",
              "      <td>2002.12.07</td>\n",
              "      <td>0</td>\n",
              "      <td>0원</td>\n",
              "      <td>1</td>\n",
              "      <td>143,934,100원</td>\n",
              "      <td>28</td>\n",
              "      <td>5,140,500원</td>\n",
              "      <td>2537</td>\n",
              "      <td>113,400원</td>\n",
              "      <td>40155</td>\n",
              "      <td>10,000원</td>\n",
              "      <td>10</td>\n",
              "      <td>23</td>\n",
              "      <td>29</td>\n",
              "      <td>33</td>\n",
              "      <td>37</td>\n",
              "      <td>40</td>\n",
              "      <td>16</td>\n",
              "    </tr>\n",
              "    <tr>\n",
              "      <th>957</th>\n",
              "      <td>2003</td>\n",
              "      <td>10</td>\n",
              "      <td>2003.02.08</td>\n",
              "      <td>13</td>\n",
              "      <td>6,430,437,900원</td>\n",
              "      <td>236</td>\n",
              "      <td>40,813,400원</td>\n",
              "      <td>11247</td>\n",
              "      <td>856,400원</td>\n",
              "      <td>703234</td>\n",
              "      <td>27,300원</td>\n",
              "      <td>3410846</td>\n",
              "      <td>10,000원</td>\n",
              "      <td>9</td>\n",
              "      <td>25</td>\n",
              "      <td>30</td>\n",
              "      <td>33</td>\n",
              "      <td>41</td>\n",
              "      <td>44</td>\n",
              "      <td>6</td>\n",
              "    </tr>\n",
              "    <tr>\n",
              "      <th>867</th>\n",
              "      <td>2004</td>\n",
              "      <td>100</td>\n",
              "      <td>2004.10.30</td>\n",
              "      <td>4</td>\n",
              "      <td>3,315,315,525원</td>\n",
              "      <td>36</td>\n",
              "      <td>61,394,732원</td>\n",
              "      <td>1544</td>\n",
              "      <td>1,431,484원</td>\n",
              "      <td>76899</td>\n",
              "      <td>57,484원</td>\n",
              "      <td>1235777</td>\n",
              "      <td>5,000원</td>\n",
              "      <td>1</td>\n",
              "      <td>7</td>\n",
              "      <td>11</td>\n",
              "      <td>23</td>\n",
              "      <td>37</td>\n",
              "      <td>42</td>\n",
              "      <td>6</td>\n",
              "    </tr>\n",
              "    <tr>\n",
              "      <th>866</th>\n",
              "      <td>2004</td>\n",
              "      <td>101</td>\n",
              "      <td>2004.11.06</td>\n",
              "      <td>5</td>\n",
              "      <td>2,707,297,500원</td>\n",
              "      <td>38</td>\n",
              "      <td>59,370,560원</td>\n",
              "      <td>1405</td>\n",
              "      <td>1,605,752원</td>\n",
              "      <td>73210</td>\n",
              "      <td>61,634원</td>\n",
              "      <td>1246344</td>\n",
              "      <td>5,000원</td>\n",
              "      <td>1</td>\n",
              "      <td>3</td>\n",
              "      <td>17</td>\n",
              "      <td>32</td>\n",
              "      <td>35</td>\n",
              "      <td>45</td>\n",
              "      <td>8</td>\n",
              "    </tr>\n",
              "    <tr>\n",
              "      <th>865</th>\n",
              "      <td>2004</td>\n",
              "      <td>102</td>\n",
              "      <td>2004.11.13</td>\n",
              "      <td>9</td>\n",
              "      <td>1,457,153,067원</td>\n",
              "      <td>24</td>\n",
              "      <td>91,072,067원</td>\n",
              "      <td>1352</td>\n",
              "      <td>1,616,664원</td>\n",
              "      <td>75476</td>\n",
              "      <td>57,919원</td>\n",
              "      <td>1322337</td>\n",
              "      <td>5,000원</td>\n",
              "      <td>17</td>\n",
              "      <td>22</td>\n",
              "      <td>24</td>\n",
              "      <td>26</td>\n",
              "      <td>35</td>\n",
              "      <td>40</td>\n",
              "      <td>42</td>\n",
              "    </tr>\n",
              "    <tr>\n",
              "      <th>...</th>\n",
              "      <td>...</td>\n",
              "      <td>...</td>\n",
              "      <td>...</td>\n",
              "      <td>...</td>\n",
              "      <td>...</td>\n",
              "      <td>...</td>\n",
              "      <td>...</td>\n",
              "      <td>...</td>\n",
              "      <td>...</td>\n",
              "      <td>...</td>\n",
              "      <td>...</td>\n",
              "      <td>...</td>\n",
              "      <td>...</td>\n",
              "      <td>...</td>\n",
              "      <td>...</td>\n",
              "      <td>...</td>\n",
              "      <td>...</td>\n",
              "      <td>...</td>\n",
              "      <td>...</td>\n",
              "      <td>...</td>\n",
              "    </tr>\n",
              "    <tr>\n",
              "      <th>3</th>\n",
              "      <td>2021</td>\n",
              "      <td>964</td>\n",
              "      <td>2021.05.22</td>\n",
              "      <td>10</td>\n",
              "      <td>2,345,861,063원</td>\n",
              "      <td>52</td>\n",
              "      <td>75,187,855원</td>\n",
              "      <td>2447</td>\n",
              "      <td>1,597,781원</td>\n",
              "      <td>123780</td>\n",
              "      <td>50,000원</td>\n",
              "      <td>2061560</td>\n",
              "      <td>5,000원</td>\n",
              "      <td>6</td>\n",
              "      <td>21</td>\n",
              "      <td>36</td>\n",
              "      <td>38</td>\n",
              "      <td>39</td>\n",
              "      <td>43</td>\n",
              "      <td>30</td>\n",
              "    </tr>\n",
              "    <tr>\n",
              "      <th>2</th>\n",
              "      <td>2021</td>\n",
              "      <td>965</td>\n",
              "      <td>2021.05.29</td>\n",
              "      <td>7</td>\n",
              "      <td>3,403,348,929원</td>\n",
              "      <td>46</td>\n",
              "      <td>86,316,821원</td>\n",
              "      <td>2389</td>\n",
              "      <td>1,662,024원</td>\n",
              "      <td>122129</td>\n",
              "      <td>50,000원</td>\n",
              "      <td>2043257</td>\n",
              "      <td>5,000원</td>\n",
              "      <td>2</td>\n",
              "      <td>13</td>\n",
              "      <td>25</td>\n",
              "      <td>28</td>\n",
              "      <td>29</td>\n",
              "      <td>36</td>\n",
              "      <td>34</td>\n",
              "    </tr>\n",
              "    <tr>\n",
              "      <th>870</th>\n",
              "      <td>2004</td>\n",
              "      <td>97</td>\n",
              "      <td>2004.10.09</td>\n",
              "      <td>9</td>\n",
              "      <td>1,496,214,000원</td>\n",
              "      <td>46</td>\n",
              "      <td>48,789,587원</td>\n",
              "      <td>1543</td>\n",
              "      <td>1,454,518원</td>\n",
              "      <td>77227</td>\n",
              "      <td>58,123원</td>\n",
              "      <td>1282678</td>\n",
              "      <td>5,000원</td>\n",
              "      <td>6</td>\n",
              "      <td>7</td>\n",
              "      <td>14</td>\n",
              "      <td>15</td>\n",
              "      <td>20</td>\n",
              "      <td>36</td>\n",
              "      <td>3</td>\n",
              "    </tr>\n",
              "    <tr>\n",
              "      <th>869</th>\n",
              "      <td>2004</td>\n",
              "      <td>98</td>\n",
              "      <td>2004.10.16</td>\n",
              "      <td>4</td>\n",
              "      <td>3,177,972,300원</td>\n",
              "      <td>45</td>\n",
              "      <td>47,081,072원</td>\n",
              "      <td>1880</td>\n",
              "      <td>1,126,941원</td>\n",
              "      <td>87818</td>\n",
              "      <td>48,251원</td>\n",
              "      <td>1385812</td>\n",
              "      <td>5,000원</td>\n",
              "      <td>6</td>\n",
              "      <td>9</td>\n",
              "      <td>16</td>\n",
              "      <td>23</td>\n",
              "      <td>24</td>\n",
              "      <td>32</td>\n",
              "      <td>43</td>\n",
              "    </tr>\n",
              "    <tr>\n",
              "      <th>868</th>\n",
              "      <td>2004</td>\n",
              "      <td>99</td>\n",
              "      <td>2004.10.23</td>\n",
              "      <td>6</td>\n",
              "      <td>2,169,219,050원</td>\n",
              "      <td>40</td>\n",
              "      <td>54,230,477원</td>\n",
              "      <td>1581</td>\n",
              "      <td>1,372,056원</td>\n",
              "      <td>77203</td>\n",
              "      <td>56,196원</td>\n",
              "      <td>1282311</td>\n",
              "      <td>5,000원</td>\n",
              "      <td>1</td>\n",
              "      <td>3</td>\n",
              "      <td>10</td>\n",
              "      <td>27</td>\n",
              "      <td>29</td>\n",
              "      <td>37</td>\n",
              "      <td>11</td>\n",
              "    </tr>\n",
              "  </tbody>\n",
              "</table>\n",
              "<p>965 rows × 20 columns</p>\n",
              "</div>"
            ],
            "text/plain": [
              "       년도   회차         추첨일 당첨자수            당첨금액 당첨자수  ...   2   3   4   5   6 보너스\n",
              "966  2002    1  2002.12.07    0              0원    1  ...  23  29  33  37  40  16\n",
              "957  2003   10  2003.02.08   13  6,430,437,900원  236  ...  25  30  33  41  44   6\n",
              "867  2004  100  2004.10.30    4  3,315,315,525원   36  ...   7  11  23  37  42   6\n",
              "866  2004  101  2004.11.06    5  2,707,297,500원   38  ...   3  17  32  35  45   8\n",
              "865  2004  102  2004.11.13    9  1,457,153,067원   24  ...  22  24  26  35  40  42\n",
              "..    ...  ...         ...  ...             ...  ...  ...  ..  ..  ..  ..  ..  ..\n",
              "3    2021  964  2021.05.22   10  2,345,861,063원   52  ...  21  36  38  39  43  30\n",
              "2    2021  965  2021.05.29    7  3,403,348,929원   46  ...  13  25  28  29  36  34\n",
              "870  2004   97  2004.10.09    9  1,496,214,000원   46  ...   7  14  15  20  36   3\n",
              "869  2004   98  2004.10.16    4  3,177,972,300원   45  ...   9  16  23  24  32  43\n",
              "868  2004   99  2004.10.23    6  2,169,219,050원   40  ...   3  10  27  29  37  11\n",
              "\n",
              "[965 rows x 20 columns]"
            ]
          },
          "metadata": {
            "tags": []
          },
          "execution_count": 57
        }
      ]
    },
    {
      "cell_type": "code",
      "metadata": {
        "id": "pFusSQgX7a_8",
        "outputId": "97584487-3171-4015-abe0-547eb5ca0a13",
        "colab": {
          "base_uri": "https://localhost:8080/",
          "height": 407
        }
      },
      "source": [
        "df[['1','2','3','4','5','6']]"
      ],
      "id": "pFusSQgX7a_8",
      "execution_count": 58,
      "outputs": [
        {
          "output_type": "execute_result",
          "data": {
            "text/html": [
              "<div>\n",
              "<style scoped>\n",
              "    .dataframe tbody tr th:only-of-type {\n",
              "        vertical-align: middle;\n",
              "    }\n",
              "\n",
              "    .dataframe tbody tr th {\n",
              "        vertical-align: top;\n",
              "    }\n",
              "\n",
              "    .dataframe thead th {\n",
              "        text-align: right;\n",
              "    }\n",
              "</style>\n",
              "<table border=\"1\" class=\"dataframe\">\n",
              "  <thead>\n",
              "    <tr style=\"text-align: right;\">\n",
              "      <th></th>\n",
              "      <th>1</th>\n",
              "      <th>2</th>\n",
              "      <th>3</th>\n",
              "      <th>4</th>\n",
              "      <th>5</th>\n",
              "      <th>6</th>\n",
              "    </tr>\n",
              "  </thead>\n",
              "  <tbody>\n",
              "    <tr>\n",
              "      <th>2</th>\n",
              "      <td>2</td>\n",
              "      <td>13</td>\n",
              "      <td>25</td>\n",
              "      <td>28</td>\n",
              "      <td>29</td>\n",
              "      <td>36</td>\n",
              "    </tr>\n",
              "    <tr>\n",
              "      <th>3</th>\n",
              "      <td>6</td>\n",
              "      <td>21</td>\n",
              "      <td>36</td>\n",
              "      <td>38</td>\n",
              "      <td>39</td>\n",
              "      <td>43</td>\n",
              "    </tr>\n",
              "    <tr>\n",
              "      <th>4</th>\n",
              "      <td>6</td>\n",
              "      <td>12</td>\n",
              "      <td>19</td>\n",
              "      <td>23</td>\n",
              "      <td>34</td>\n",
              "      <td>42</td>\n",
              "    </tr>\n",
              "    <tr>\n",
              "      <th>5</th>\n",
              "      <td>1</td>\n",
              "      <td>18</td>\n",
              "      <td>28</td>\n",
              "      <td>31</td>\n",
              "      <td>34</td>\n",
              "      <td>43</td>\n",
              "    </tr>\n",
              "    <tr>\n",
              "      <th>6</th>\n",
              "      <td>11</td>\n",
              "      <td>20</td>\n",
              "      <td>29</td>\n",
              "      <td>31</td>\n",
              "      <td>33</td>\n",
              "      <td>42</td>\n",
              "    </tr>\n",
              "    <tr>\n",
              "      <th>...</th>\n",
              "      <td>...</td>\n",
              "      <td>...</td>\n",
              "      <td>...</td>\n",
              "      <td>...</td>\n",
              "      <td>...</td>\n",
              "      <td>...</td>\n",
              "    </tr>\n",
              "    <tr>\n",
              "      <th>962</th>\n",
              "      <td>16</td>\n",
              "      <td>24</td>\n",
              "      <td>29</td>\n",
              "      <td>40</td>\n",
              "      <td>41</td>\n",
              "      <td>42</td>\n",
              "    </tr>\n",
              "    <tr>\n",
              "      <th>963</th>\n",
              "      <td>14</td>\n",
              "      <td>27</td>\n",
              "      <td>30</td>\n",
              "      <td>31</td>\n",
              "      <td>40</td>\n",
              "      <td>42</td>\n",
              "    </tr>\n",
              "    <tr>\n",
              "      <th>964</th>\n",
              "      <td>11</td>\n",
              "      <td>16</td>\n",
              "      <td>19</td>\n",
              "      <td>21</td>\n",
              "      <td>27</td>\n",
              "      <td>31</td>\n",
              "    </tr>\n",
              "    <tr>\n",
              "      <th>965</th>\n",
              "      <td>9</td>\n",
              "      <td>13</td>\n",
              "      <td>21</td>\n",
              "      <td>25</td>\n",
              "      <td>32</td>\n",
              "      <td>42</td>\n",
              "    </tr>\n",
              "    <tr>\n",
              "      <th>966</th>\n",
              "      <td>10</td>\n",
              "      <td>23</td>\n",
              "      <td>29</td>\n",
              "      <td>33</td>\n",
              "      <td>37</td>\n",
              "      <td>40</td>\n",
              "    </tr>\n",
              "  </tbody>\n",
              "</table>\n",
              "<p>965 rows × 6 columns</p>\n",
              "</div>"
            ],
            "text/plain": [
              "      1   2   3   4   5   6\n",
              "2     2  13  25  28  29  36\n",
              "3     6  21  36  38  39  43\n",
              "4     6  12  19  23  34  42\n",
              "5     1  18  28  31  34  43\n",
              "6    11  20  29  31  33  42\n",
              "..   ..  ..  ..  ..  ..  ..\n",
              "962  16  24  29  40  41  42\n",
              "963  14  27  30  31  40  42\n",
              "964  11  16  19  21  27  31\n",
              "965   9  13  21  25  32  42\n",
              "966  10  23  29  33  37  40\n",
              "\n",
              "[965 rows x 6 columns]"
            ]
          },
          "metadata": {
            "tags": []
          },
          "execution_count": 58
        }
      ]
    },
    {
      "cell_type": "code",
      "metadata": {
        "id": "LSXHeDP42wtO"
      },
      "source": [
        "ncount = np.zeros((1,45), dtype=float)"
      ],
      "id": "LSXHeDP42wtO",
      "execution_count": 59,
      "outputs": []
    },
    {
      "cell_type": "code",
      "metadata": {
        "id": "EWoNnYBO3Oho",
        "outputId": "3c125fe5-ca81-4edb-fb36-47b281e411ca",
        "colab": {
          "base_uri": "https://localhost:8080/"
        }
      },
      "source": [
        "for i in range(df.shape[0]):\n",
        "  for j in range(6):\n",
        "    col = int(df.iloc[i][str(j+1)])\n",
        "    ncount[0][col-1] += 1.0\n",
        "\n",
        "  if i == 0:\n",
        "    X = ncount\n",
        "  else:\n",
        "    X = np.append(X, ncount, axis=0)\n",
        "\n",
        "print('x.shape:', X.shape)"
      ],
      "id": "EWoNnYBO3Oho",
      "execution_count": 61,
      "outputs": [
        {
          "output_type": "stream",
          "text": [
            "x.shape: (965, 45)\n"
          ],
          "name": "stdout"
        }
      ]
    },
    {
      "cell_type": "code",
      "metadata": {
        "id": "CdA_5B6E3rSO",
        "outputId": "e6465956-fc8c-4e53-a6ad-9babee56783f",
        "colab": {
          "base_uri": "https://localhost:8080/"
        }
      },
      "source": [
        "df_y = df[['1','2','3','4','5','6']]\n",
        "Y = df_y.values\n",
        "print('x.shape:', X.shape)\n",
        "print('y.shape:', Y.shape)\n",
        "Y"
      ],
      "id": "CdA_5B6E3rSO",
      "execution_count": 66,
      "outputs": [
        {
          "output_type": "stream",
          "text": [
            "x.shape: (965, 45)\n",
            "y.shape: (965, 6)\n"
          ],
          "name": "stdout"
        },
        {
          "output_type": "execute_result",
          "data": {
            "text/plain": [
              "array([['2', '13', '25', '28', '29', '36'],\n",
              "       ['6', '21', '36', '38', '39', '43'],\n",
              "       ['6', '12', '19', '23', '34', '42'],\n",
              "       ...,\n",
              "       ['11', '16', '19', '21', '27', '31'],\n",
              "       ['9', '13', '21', '25', '32', '42'],\n",
              "       ['10', '23', '29', '33', '37', '40']], dtype=object)"
            ]
          },
          "metadata": {
            "tags": []
          },
          "execution_count": 66
        }
      ]
    },
    {
      "cell_type": "code",
      "metadata": {
        "id": "nt6c46SK4I20",
        "outputId": "57739cd0-a4ef-4ba8-f1e8-cd4f77658626",
        "colab": {
          "base_uri": "https://localhost:8080/"
        }
      },
      "source": [
        "y_onehot = []\n",
        "tmponehot = np.zeros(45).tolist()\n",
        "tmponehot[3] = 1.0\n",
        "y_onehot.append(tmponehot)\n",
        "y_onehot.append(tmponehot)\n",
        "\n",
        "np.array(y_onehot).shape"
      ],
      "id": "nt6c46SK4I20",
      "execution_count": 63,
      "outputs": [
        {
          "output_type": "execute_result",
          "data": {
            "text/plain": [
              "(2, 45)"
            ]
          },
          "metadata": {
            "tags": []
          },
          "execution_count": 63
        }
      ]
    },
    {
      "cell_type": "code",
      "metadata": {
        "id": "x99k7B8K4Wm2"
      },
      "source": [
        "def make_onehot(value):\n",
        "  onehot = np.zeros(45).tolist()\n",
        "  onehot[value-1] = 1.0\n",
        "  return onehot"
      ],
      "id": "x99k7B8K4Wm2",
      "execution_count": 64,
      "outputs": []
    },
    {
      "cell_type": "code",
      "metadata": {
        "id": "wbjZZp9n4xXU",
        "outputId": "ff3b71f2-13d8-49a4-e4b7-31e47ff1abeb",
        "colab": {
          "base_uri": "https://localhost:8080/"
        }
      },
      "source": [
        "y_onehot = []\n",
        "for i in range(Y.shape[0]):\n",
        "  for j in range(6):\n",
        "    y_onehot.append(make_onehot(int(Y[i][j])))\n",
        "\n",
        "y_onehot = np.array(y_onehot)\n",
        "y_onehot = np.reshape(y_onehot, (Y.shape[0],6,45))\n",
        "print('y_onehot.shape:', y_onehot.shape)"
      ],
      "id": "wbjZZp9n4xXU",
      "execution_count": 68,
      "outputs": [
        {
          "output_type": "stream",
          "text": [
            "y_onehot.shape: (965, 6, 45)\n"
          ],
          "name": "stdout"
        }
      ]
    },
    {
      "cell_type": "code",
      "metadata": {
        "id": "UkCXeNmG5Bh7",
        "outputId": "327c6e09-b848-4e8b-d14b-25463c892c3e",
        "colab": {
          "base_uri": "https://localhost:8080/"
        }
      },
      "source": [
        "X.shape"
      ],
      "id": "UkCXeNmG5Bh7",
      "execution_count": 69,
      "outputs": [
        {
          "output_type": "execute_result",
          "data": {
            "text/plain": [
              "(965, 45)"
            ]
          },
          "metadata": {
            "tags": []
          },
          "execution_count": 69
        }
      ]
    },
    {
      "cell_type": "code",
      "metadata": {
        "id": "F8pF1y105Hvw"
      },
      "source": [
        "def build_dataset(x_time_series, y_time_series, seq_length):\n",
        "    dataX = []\n",
        "    dataY = []\n",
        "    for i in range(0, len(y_time_series) - seq_length):\n",
        "        x = x_time_series[i:i + seq_length, :]\n",
        "        y = y_time_series[i + seq_length - 1, :]\n",
        "        dataX.append(x)\n",
        "        dataY.append(y)\n",
        "    return np.array(dataX), np.array(dataY)"
      ],
      "id": "F8pF1y105Hvw",
      "execution_count": 70,
      "outputs": []
    },
    {
      "cell_type": "code",
      "metadata": {
        "id": "sg308S475TZC"
      },
      "source": [
        "x_data, y_data = build_dataset(X, y_onehot, 6)"
      ],
      "id": "sg308S475TZC",
      "execution_count": 71,
      "outputs": []
    },
    {
      "cell_type": "code",
      "metadata": {
        "id": "0Zo2LbxT5Zca",
        "outputId": "12e026fd-0b3f-4df7-94f0-174a38c891cf",
        "colab": {
          "base_uri": "https://localhost:8080/"
        }
      },
      "source": [
        "print('x_data.shape:', x_data.shape)\n",
        "print('y_data.shape:', y_data.shape)"
      ],
      "id": "0Zo2LbxT5Zca",
      "execution_count": 72,
      "outputs": [
        {
          "output_type": "stream",
          "text": [
            "x_data.shape: (959, 6, 45)\n",
            "y_data.shape: (959, 6, 45)\n"
          ],
          "name": "stdout"
        }
      ]
    },
    {
      "cell_type": "code",
      "metadata": {
        "id": "MhvjS9lW5hWe",
        "outputId": "8ce058e0-76f2-4836-f931-b60c4e39c6e7",
        "colab": {
          "base_uri": "https://localhost:8080/"
        }
      },
      "source": [
        "model = keras.Sequential();\n",
        "model.add(keras.layers.LSTM(units=45, input_shape=(6, 45), return_sequences=True))\n",
        "model.add(keras.layers.LSTM(units=45, return_sequences=True))\n",
        "model.add(keras.layers.Dense(units=45, activation='softmax'))\n",
        "model.compile(loss='categorical_crossentropy', optimizer=keras.optimizers.Adam(learning_rate=0.01), metrics=['accuracy'])\n",
        "model.summary()"
      ],
      "id": "MhvjS9lW5hWe",
      "execution_count": 73,
      "outputs": [
        {
          "output_type": "stream",
          "text": [
            "Model: \"sequential\"\n",
            "_________________________________________________________________\n",
            "Layer (type)                 Output Shape              Param #   \n",
            "=================================================================\n",
            "lstm (LSTM)                  (None, 6, 45)             16380     \n",
            "_________________________________________________________________\n",
            "lstm_1 (LSTM)                (None, 6, 45)             16380     \n",
            "_________________________________________________________________\n",
            "dense (Dense)                (None, 6, 45)             2070      \n",
            "=================================================================\n",
            "Total params: 34,830\n",
            "Trainable params: 34,830\n",
            "Non-trainable params: 0\n",
            "_________________________________________________________________\n"
          ],
          "name": "stdout"
        }
      ]
    },
    {
      "cell_type": "code",
      "metadata": {
        "id": "5zwpxMxG5x-M",
        "outputId": "f7be7c13-87dd-40e2-a99c-0546f41b3f04",
        "colab": {
          "base_uri": "https://localhost:8080/"
        }
      },
      "source": [
        "model.fit(x_data, y_data, epochs=1200, verbose=0)"
      ],
      "id": "5zwpxMxG5x-M",
      "execution_count": 74,
      "outputs": [
        {
          "output_type": "execute_result",
          "data": {
            "text/plain": [
              "<tensorflow.python.keras.callbacks.History at 0x7f5978fcf0d0>"
            ]
          },
          "metadata": {
            "tags": []
          },
          "execution_count": 74
        }
      ]
    },
    {
      "cell_type": "code",
      "metadata": {
        "id": "2WqLIgJi53cj",
        "outputId": "52f60541-6b76-477a-cd46-29df9ea05a61",
        "colab": {
          "base_uri": "https://localhost:8080/"
        }
      },
      "source": [
        "x_test = x_data[-1,:]\n",
        "x_test = np.delete(x_test, 0, axis=0)\n",
        "x_test = np.append(x_test, X[-1:], axis=0)\n",
        "x_test = x_test.reshape((1,6,45))\n",
        "print('x_test.shape:', x_test.shape)"
      ],
      "id": "2WqLIgJi53cj",
      "execution_count": 75,
      "outputs": [
        {
          "output_type": "stream",
          "text": [
            "x_test.shape: (1, 6, 45)\n"
          ],
          "name": "stdout"
        }
      ]
    },
    {
      "cell_type": "code",
      "metadata": {
        "id": "QMuWb7Pl6Hku"
      },
      "source": [
        "pred_y = model.predict(x_test)"
      ],
      "id": "QMuWb7Pl6Hku",
      "execution_count": 76,
      "outputs": []
    },
    {
      "cell_type": "code",
      "metadata": {
        "id": "J1tcimoH6PSd",
        "outputId": "c62f9400-5162-44f7-d418-cad736a91ae5",
        "colab": {
          "base_uri": "https://localhost:8080/"
        }
      },
      "source": [
        "for i in range(6):\n",
        "  print(np.argmax(pred_y[0][i]) + 1)"
      ],
      "id": "J1tcimoH6PSd",
      "execution_count": 77,
      "outputs": [
        {
          "output_type": "stream",
          "text": [
            "1\n",
            "10\n",
            "19\n",
            "26\n",
            "34\n",
            "45\n"
          ],
          "name": "stdout"
        }
      ]
    },
    {
      "cell_type": "code",
      "metadata": {
        "id": "Z77nx7TG_ENE"
      },
      "source": [
        ""
      ],
      "id": "Z77nx7TG_ENE",
      "execution_count": null,
      "outputs": []
    }
  ]
}