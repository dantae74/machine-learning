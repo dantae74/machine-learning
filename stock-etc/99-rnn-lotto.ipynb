{
  "nbformat": 4,
  "nbformat_minor": 5,
  "metadata": {
    "colab": {
      "name": "Untitled.ipynb",
      "provenance": [],
      "include_colab_link": true
    },
    "language_info": {
      "name": "python"
    },
    "kernelspec": {
      "name": "python3",
      "display_name": "Python 3"
    },
    "accelerator": "GPU"
  },
  "cells": [
    {
      "cell_type": "markdown",
      "metadata": {
        "id": "view-in-github",
        "colab_type": "text"
      },
      "source": [
        "<a href=\"https://colab.research.google.com/github/dantae74/machine-learning/blob/main/stock-etc/99-rnn-lotto.ipynb\" target=\"_parent\"><img src=\"https://colab.research.google.com/assets/colab-badge.svg\" alt=\"Open In Colab\"/></a>"
      ]
    },
    {
      "cell_type": "markdown",
      "metadata": {
        "id": "WfgQSbgOoe-2"
      },
      "source": [
        "모두를 위한 머신러닝에서 가져왔습니다.\n",
        "# RNN-lotto"
      ],
      "id": "WfgQSbgOoe-2"
    },
    {
      "cell_type": "code",
      "metadata": {
        "id": "RK3QTbWDofS7"
      },
      "source": [
        "import numpy as np\n",
        "import tensorflow as tf\n",
        "import pandas as pd\n",
        "from tensorflow import keras\n",
        "from tensorflow.keras import layers"
      ],
      "id": "RK3QTbWDofS7",
      "execution_count": 1,
      "outputs": []
    },
    {
      "cell_type": "code",
      "metadata": {
        "id": "30dxHmEPog-b"
      },
      "source": [
        "url = 'https://raw.githubusercontent.com/dantae74/machine-learning/main/dataset/lotto.csv'\n",
        "df = pd.read_csv(url)"
      ],
      "id": "30dxHmEPog-b",
      "execution_count": 2,
      "outputs": []
    },
    {
      "cell_type": "code",
      "metadata": {
        "id": "LSXHeDP42wtO"
      },
      "source": [
        "df = df.sort_values('seq', ascending=True)\n",
        "ncount = np.zeros((1,45), dtype=float)"
      ],
      "id": "LSXHeDP42wtO",
      "execution_count": 3,
      "outputs": []
    },
    {
      "cell_type": "code",
      "metadata": {
        "id": "EWoNnYBO3Oho",
        "outputId": "bb840ccf-4bde-4070-f599-1be5f9d55213",
        "colab": {
          "base_uri": "https://localhost:8080/"
        }
      },
      "source": [
        "for i in range(df.shape[0]):\n",
        "  for j in range(6):\n",
        "    col = df.iloc[i][str(j+1)]\n",
        "    ncount[0][col-1] += 1.0\n",
        "\n",
        "  if i == 0:\n",
        "    X = ncount\n",
        "  else:\n",
        "    X = np.append(X, ncount, axis=0)\n",
        "\n",
        "print('x.shape:', X.shape)"
      ],
      "id": "EWoNnYBO3Oho",
      "execution_count": 4,
      "outputs": [
        {
          "output_type": "stream",
          "text": [
            "x.shape: (964, 45)\n"
          ],
          "name": "stdout"
        }
      ]
    },
    {
      "cell_type": "code",
      "metadata": {
        "id": "CdA_5B6E3rSO",
        "outputId": "910e866f-4df5-4ea5-8375-1958c4a28cbe",
        "colab": {
          "base_uri": "https://localhost:8080/"
        }
      },
      "source": [
        "df_y = df[['1','2','3','4','5','6']]\n",
        "Y = df_y.values\n",
        "print('x.shape:', X.shape)\n",
        "print('y.shape:', Y.shape)"
      ],
      "id": "CdA_5B6E3rSO",
      "execution_count": 5,
      "outputs": [
        {
          "output_type": "stream",
          "text": [
            "x.shape: (964, 45)\n",
            "y.shape: (964, 6)\n"
          ],
          "name": "stdout"
        }
      ]
    },
    {
      "cell_type": "code",
      "metadata": {
        "id": "nt6c46SK4I20",
        "outputId": "41cbfb0b-0175-485f-bb6d-d1c9c1569be9",
        "colab": {
          "base_uri": "https://localhost:8080/"
        }
      },
      "source": [
        "y_onehot = []\n",
        "tmponehot = np.zeros(45).tolist()\n",
        "tmponehot[3] = 1.0\n",
        "y_onehot.append(tmponehot)\n",
        "y_onehot.append(tmponehot)\n",
        "\n",
        "np.array(y_onehot).shape"
      ],
      "id": "nt6c46SK4I20",
      "execution_count": 6,
      "outputs": [
        {
          "output_type": "execute_result",
          "data": {
            "text/plain": [
              "(2, 45)"
            ]
          },
          "metadata": {
            "tags": []
          },
          "execution_count": 6
        }
      ]
    },
    {
      "cell_type": "code",
      "metadata": {
        "id": "x99k7B8K4Wm2"
      },
      "source": [
        "def make_onehot(value):\n",
        "  onehot = np.zeros(45).tolist()\n",
        "  onehot[value-1] = 1.0\n",
        "  return onehot"
      ],
      "id": "x99k7B8K4Wm2",
      "execution_count": 7,
      "outputs": []
    },
    {
      "cell_type": "code",
      "metadata": {
        "id": "wbjZZp9n4xXU",
        "outputId": "21476c23-31c8-451f-8428-52306a556d53",
        "colab": {
          "base_uri": "https://localhost:8080/"
        }
      },
      "source": [
        "y_onehot = []\n",
        "for i in range(Y.shape[0]):\n",
        "  for j in range(6):\n",
        "    y_onehot.append(make_onehot(Y[i][j]))\n",
        "\n",
        "y_onehot = np.array(y_onehot)\n",
        "y_onehot = np.reshape(y_onehot, (964,6,45))\n",
        "print('y_onehot.shape:', y_onehot.shape)"
      ],
      "id": "wbjZZp9n4xXU",
      "execution_count": 8,
      "outputs": [
        {
          "output_type": "stream",
          "text": [
            "y_onehot.shape: (964, 6, 45)\n"
          ],
          "name": "stdout"
        }
      ]
    },
    {
      "cell_type": "code",
      "metadata": {
        "id": "UkCXeNmG5Bh7",
        "outputId": "bb5cb929-868c-4f44-ef47-f30456b8466c",
        "colab": {
          "base_uri": "https://localhost:8080/"
        }
      },
      "source": [
        "X.shape"
      ],
      "id": "UkCXeNmG5Bh7",
      "execution_count": 9,
      "outputs": [
        {
          "output_type": "execute_result",
          "data": {
            "text/plain": [
              "(964, 45)"
            ]
          },
          "metadata": {
            "tags": []
          },
          "execution_count": 9
        }
      ]
    },
    {
      "cell_type": "code",
      "metadata": {
        "id": "F8pF1y105Hvw"
      },
      "source": [
        "def build_dataset(x_time_series, y_time_series, seq_length):\n",
        "    dataX = []\n",
        "    dataY = []\n",
        "    for i in range(0, len(y_time_series) - seq_length):\n",
        "        x = x_time_series[i:i + seq_length, :]\n",
        "        y = y_time_series[i + seq_length - 1, :]\n",
        "        dataX.append(x)\n",
        "        dataY.append(y)\n",
        "    return np.array(dataX), np.array(dataY)"
      ],
      "id": "F8pF1y105Hvw",
      "execution_count": 10,
      "outputs": []
    },
    {
      "cell_type": "code",
      "metadata": {
        "id": "sg308S475TZC"
      },
      "source": [
        "x_data, y_data = build_dataset(X, y_onehot, 6)"
      ],
      "id": "sg308S475TZC",
      "execution_count": 11,
      "outputs": []
    },
    {
      "cell_type": "code",
      "metadata": {
        "id": "0Zo2LbxT5Zca",
        "outputId": "f2d91cc9-2ec6-4a35-e03e-ae2f9cdfe825",
        "colab": {
          "base_uri": "https://localhost:8080/"
        }
      },
      "source": [
        "print('x_data.shape:', x_data.shape)\n",
        "print('y_data.shape:', y_data.shape)"
      ],
      "id": "0Zo2LbxT5Zca",
      "execution_count": 12,
      "outputs": [
        {
          "output_type": "stream",
          "text": [
            "x_data.shape: (958, 6, 45)\n",
            "y_data.shape: (958, 6, 45)\n"
          ],
          "name": "stdout"
        }
      ]
    },
    {
      "cell_type": "code",
      "metadata": {
        "id": "MhvjS9lW5hWe",
        "outputId": "f35767b9-2c82-4a09-f136-3f9f88889df9",
        "colab": {
          "base_uri": "https://localhost:8080/"
        }
      },
      "source": [
        "model = keras.Sequential();\n",
        "model.add(keras.layers.LSTM(units=45, input_shape=(6, 45), return_sequences=True))\n",
        "model.add(keras.layers.LSTM(units=45, return_sequences=True))\n",
        "model.add(keras.layers.Dense(units=45, activation='softmax'))\n",
        "model.compile(loss='categorical_crossentropy', optimizer=keras.optimizers.Adam(learning_rate=0.01), metrics=['accuracy'])\n",
        "model.summary()"
      ],
      "id": "MhvjS9lW5hWe",
      "execution_count": 13,
      "outputs": [
        {
          "output_type": "stream",
          "text": [
            "Model: \"sequential\"\n",
            "_________________________________________________________________\n",
            "Layer (type)                 Output Shape              Param #   \n",
            "=================================================================\n",
            "lstm (LSTM)                  (None, 6, 45)             16380     \n",
            "_________________________________________________________________\n",
            "lstm_1 (LSTM)                (None, 6, 45)             16380     \n",
            "_________________________________________________________________\n",
            "dense (Dense)                (None, 6, 45)             2070      \n",
            "=================================================================\n",
            "Total params: 34,830\n",
            "Trainable params: 34,830\n",
            "Non-trainable params: 0\n",
            "_________________________________________________________________\n"
          ],
          "name": "stdout"
        }
      ]
    },
    {
      "cell_type": "code",
      "metadata": {
        "id": "5zwpxMxG5x-M",
        "outputId": "6a20f2b8-cf42-48cd-f47c-3cf069a7b000",
        "colab": {
          "base_uri": "https://localhost:8080/"
        }
      },
      "source": [
        "model.fit(x_data, y_data, epochs=1200, verbose=0)"
      ],
      "id": "5zwpxMxG5x-M",
      "execution_count": 14,
      "outputs": [
        {
          "output_type": "execute_result",
          "data": {
            "text/plain": [
              "<tensorflow.python.keras.callbacks.History at 0x7feba030d8d0>"
            ]
          },
          "metadata": {
            "tags": []
          },
          "execution_count": 14
        }
      ]
    },
    {
      "cell_type": "code",
      "metadata": {
        "id": "2WqLIgJi53cj",
        "outputId": "4925034b-6791-4f58-f2bc-8a47b29892ea",
        "colab": {
          "base_uri": "https://localhost:8080/"
        }
      },
      "source": [
        "x_test = x_data[-1,:]\n",
        "x_test = np.delete(x_test, 0, axis=0)\n",
        "x_test = np.append(x_test, X[-1:], axis=0)\n",
        "x_test = x_test.reshape((1,6,45))\n",
        "print('x_test.shape:', x_test.shape)"
      ],
      "id": "2WqLIgJi53cj",
      "execution_count": 15,
      "outputs": [
        {
          "output_type": "stream",
          "text": [
            "x_test.shape: (1, 6, 45)\n"
          ],
          "name": "stdout"
        }
      ]
    },
    {
      "cell_type": "code",
      "metadata": {
        "id": "QMuWb7Pl6Hku"
      },
      "source": [
        "pred_y = model.predict(x_test)"
      ],
      "id": "QMuWb7Pl6Hku",
      "execution_count": 16,
      "outputs": []
    },
    {
      "cell_type": "code",
      "metadata": {
        "id": "J1tcimoH6PSd"
      },
      "source": [
        "for i in range(6):\n",
        "  print(np.argmax(pred_y[0][i]) + 1)"
      ],
      "id": "J1tcimoH6PSd",
      "execution_count": null,
      "outputs": []
    }
  ]
}