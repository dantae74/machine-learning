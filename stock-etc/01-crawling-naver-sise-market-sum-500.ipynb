{
  "nbformat": 4,
  "nbformat_minor": 5,
  "metadata": {
    "colab": {
      "name": "01-crawling-naver-sise-market-sum-500.ipynb",
      "provenance": [],
      "include_colab_link": true
    },
    "language_info": {
      "name": "python"
    },
    "kernelspec": {
      "name": "python3",
      "display_name": "Python 3"
    }
  },
  "cells": [
    {
      "cell_type": "markdown",
      "metadata": {
        "id": "view-in-github",
        "colab_type": "text"
      },
      "source": [
        "<a href=\"https://colab.research.google.com/github/dantae74/machine-learning/blob/main/stock-etc/01-crawling-naver-sise-market-sum-500.ipynb\" target=\"_parent\"><img src=\"https://colab.research.google.com/assets/colab-badge.svg\" alt=\"Open In Colab\"/></a>"
      ]
    },
    {
      "cell_type": "markdown",
      "metadata": {
        "id": "WfgQSbgOoe-2"
      },
      "source": [
        "## 네이버에서 시가총액 상위 500개 crawling"
      ],
      "id": "WfgQSbgOoe-2"
    },
    {
      "cell_type": "code",
      "metadata": {
        "id": "Nc4yeyG0LknA"
      },
      "source": [
        "import pandas as pd\n",
        "import requests\n",
        "from bs4 import BeautifulSoup\n",
        "import json"
      ],
      "id": "Nc4yeyG0LknA",
      "execution_count": null,
      "outputs": []
    },
    {
      "cell_type": "code",
      "metadata": {
        "id": "6td_2_VtHlUi"
      },
      "source": [
        "def crawl(url):\n",
        "  data = requests.get(url)\n",
        "  # print(data)\n",
        "  return data.content"
      ],
      "id": "6td_2_VtHlUi",
      "execution_count": null,
      "outputs": []
    },
    {
      "cell_type": "code",
      "metadata": {
        "id": "1E1fnedWM45L"
      },
      "source": [
        "def getSiseMarketSum(sosok, page):\n",
        "  url = \"https://finance.naver.com/sise/sise_market_sum.nhn?sosok={0}&page={1}\".format(sosok, page)\n",
        "  pageString = crawl(url)\n",
        "  list = parse(pageString)\n",
        "  return list"
      ],
      "id": "1E1fnedWM45L",
      "execution_count": null,
      "outputs": []
    },
    {
      "cell_type": "code",
      "metadata": {
        "id": "bJqqCLat_BDX"
      },
      "source": [
        "def parse(pageString):\n",
        "  bsObj = BeautifulSoup(pageString, \"html.parser\")\n",
        "  # print(bsObj)\n",
        "  box_type_l = bsObj.find(\"div\", {\"class\":\"box_type_l\"})\n",
        "  # print(box_type_l)\n",
        "\n",
        "  type_2 = box_type_l.find(\"table\", {\"class\":\"type_2\"})\n",
        "  # print(type_2)\n",
        "\n",
        "  tbody = type_2.find(\"tbody\")\n",
        "  # print(tbody)\n",
        "\n",
        "  trs = tbody.findAll(\"tr\")\n",
        "  # print(len(trs))\n",
        "\n",
        "  stockinfos = []\n",
        "  for tr in trs:\n",
        "    try:\n",
        "      stockInfo = getStockInfo(tr)\n",
        "      # print(\"\\nstockInfo:\\n\",stockInfo)\n",
        "      stockinfos.append(stockInfo)\n",
        "    except Exception as e:\n",
        "        # print(e)\n",
        "        pass\n",
        "  \n",
        "  return stockinfos\n"
      ],
      "id": "bJqqCLat_BDX",
      "execution_count": null,
      "outputs": []
    },
    {
      "cell_type": "code",
      "metadata": {
        "id": "Hms04A5_D-hf"
      },
      "source": [
        "def getStockInfo(tr):\n",
        "  tds = tr.findAll(\"td\")\n",
        "  # print(tds)\n",
        "\n",
        "  # 순위\n",
        "  rank = tds[0].text\n",
        "  # print(\"\\ntd:\", tds[0])\n",
        "\n",
        "  # a tag => href\n",
        "  aTag = tds[1].find(\"a\")\n",
        "  href = aTag[\"href\"]\n",
        "  \n",
        "  # name\n",
        "  name = tds[1].text\n",
        "\n",
        "  # 현재가\n",
        "  nowPrice = tds[2].text\n",
        "\n",
        "  # 전일대비 가격\n",
        "\n",
        "  # 시가총액\n",
        "  totalPrice = tds[6].text\n",
        "\n",
        "  # 거래량\n",
        "  volume = tds[9].text\n",
        "\n",
        "  return {\"rank\":rank, \"href\":href, \"code\":href[20:], \n",
        "          \"name\":name, \"nowPrice\":nowPrice, \"totalPrice\":totalPrice,\n",
        "          \"volume\":volume}"
      ],
      "id": "Hms04A5_D-hf",
      "execution_count": null,
      "outputs": []
    },
    {
      "cell_type": "code",
      "metadata": {
        "id": "K8YK2k-a_Jl6"
      },
      "source": [
        "# list = getSiseMarketSum(1, 2)"
      ],
      "id": "K8YK2k-a_Jl6",
      "execution_count": null,
      "outputs": []
    },
    {
      "cell_type": "code",
      "metadata": {
        "id": "ig12wUayNou6"
      },
      "source": [
        "domestic_stocks = {\"kospi\":0, \"kosdaq\":1}\n",
        "\n",
        "for key, value in domestic_stocks.items():\n",
        "  result = []\n",
        "  for i in range(1, 10 + 1): # 500 = 50 * 10\n",
        "    list = getSiseMarketSum(int(value), i)\n",
        "    result += list\n",
        "\n",
        "  print(result)\n",
        "  print(len(result))\n",
        "\n",
        "  # jshon 형식으로 파일에 저장\n",
        "  # file_path = 'https://github.com/dantae74/machine-learning/tree/main/dataset/{}.json'.format(key)\n",
        "  # file = open(file_path, \"w+\")\n",
        "\n",
        "  file = open(\"./{}.json\".format(key), \"w+\")\n",
        "  file.write(json.dumps(result))\n"
      ],
      "id": "ig12wUayNou6",
      "execution_count": null,
      "outputs": []
    },
    {
      "cell_type": "code",
      "metadata": {
        "id": "GilkVOZL3SRg"
      },
      "source": [
        ""
      ],
      "id": "GilkVOZL3SRg",
      "execution_count": null,
      "outputs": []
    },
    {
      "cell_type": "markdown",
      "metadata": {
        "id": "o27lqfQh0xHy"
      },
      "source": [
        ""
      ],
      "id": "o27lqfQh0xHy"
    }
  ]
}