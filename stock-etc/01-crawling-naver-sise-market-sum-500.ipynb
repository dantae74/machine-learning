{
  "nbformat": 4,
  "nbformat_minor": 5,
  "metadata": {
    "colab": {
      "name": "01-crawling-naver-sise-market-sum-500.ipynb",
      "provenance": [],
      "include_colab_link": true
    },
    "language_info": {
      "name": "python"
    },
    "kernelspec": {
      "name": "python3",
      "display_name": "Python 3"
    }
  },
  "cells": [
    {
      "cell_type": "markdown",
      "metadata": {
        "id": "view-in-github",
        "colab_type": "text"
      },
      "source": [
        "<a href=\"https://colab.research.google.com/github/dantae74/machine-learning/blob/main/stock-etc/01-crawling-naver-sise-market-sum-500.ipynb\" target=\"_parent\"><img src=\"https://colab.research.google.com/assets/colab-badge.svg\" alt=\"Open In Colab\"/></a>"
      ]
    },
    {
      "cell_type": "markdown",
      "metadata": {
        "id": "WfgQSbgOoe-2"
      },
      "source": [
        "모두를 위한 머신러닝에서 가져왔습니다."
      ],
      "id": "WfgQSbgOoe-2"
    },
    {
      "cell_type": "code",
      "metadata": {
        "id": "RK3QTbWDofS7"
      },
      "source": [
        "#!pip install requests"
      ],
      "id": "RK3QTbWDofS7",
      "execution_count": 1,
      "outputs": []
    },
    {
      "cell_type": "code",
      "metadata": {
        "id": "Nc4yeyG0LknA"
      },
      "source": [
        "import pandas as pd\n",
        "import requests\n",
        "from bs4 import BeautifulSoup"
      ],
      "id": "Nc4yeyG0LknA",
      "execution_count": 2,
      "outputs": []
    },
    {
      "cell_type": "code",
      "metadata": {
        "id": "6td_2_VtHlUi"
      },
      "source": [
        "def crawl(url):\n",
        "  data = requests.get(url)\n",
        "  print(data)\n",
        "  return data.content"
      ],
      "id": "6td_2_VtHlUi",
      "execution_count": 3,
      "outputs": []
    },
    {
      "cell_type": "code",
      "metadata": {
        "id": "30dxHmEPog-b"
      },
      "source": [
        "def parse(pageString):\n",
        "  bsObj = BeautifulSoup(pageString, \"html.parser\")\n",
        "  print(bsObj)\n",
        "  return []\n"
      ],
      "id": "30dxHmEPog-b",
      "execution_count": 9,
      "outputs": []
    },
    {
      "cell_type": "code",
      "metadata": {
        "id": "1E1fnedWM45L"
      },
      "source": [
        "def getSiseMarketSum(sosok, page):\n",
        "  url = \"https://finance.naver.com/sise/sise_market_sum.nhn?sosok={0}&page={1}\".format(sosok, page)\n",
        "  pageString = crawl(url)\n",
        "  list = parse(pageString)\n",
        "  return list\n"
      ],
      "id": "1E1fnedWM45L",
      "execution_count": 10,
      "outputs": []
    },
    {
      "cell_type": "code",
      "metadata": {
        "id": "ig12wUayNou6"
      },
      "source": [
        "result = []\n",
        "\n",
        "for i in range(1, 11): # 500 = 50 * 10\n",
        "  list = getSiseMarketSum(0, i)\n",
        "  if (list is not None) :\n",
        "    print('i:', i)\n",
        "    result += list\n",
        "\n",
        "print(result)"
      ],
      "id": "ig12wUayNou6",
      "execution_count": null,
      "outputs": []
    },
    {
      "cell_type": "code",
      "metadata": {
        "id": "GSDgHE-iRl5a"
      },
      "source": [
        ""
      ],
      "id": "GSDgHE-iRl5a",
      "execution_count": 7,
      "outputs": []
    }
  ]
}