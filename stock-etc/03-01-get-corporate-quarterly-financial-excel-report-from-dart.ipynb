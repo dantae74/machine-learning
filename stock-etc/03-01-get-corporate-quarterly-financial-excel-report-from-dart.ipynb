{
  "nbformat": 4,
  "nbformat_minor": 5,
  "metadata": {
    "colab": {
      "name": "03-get-corporate-quarterly-financial-excel-report-from-dart.ipynb",
      "provenance": [],
      "include_colab_link": true
    },
    "language_info": {
      "name": "python"
    },
    "kernelspec": {
      "name": "python3",
      "display_name": "Python 3"
    }
  },
  "cells": [
    {
      "cell_type": "markdown",
      "metadata": {
        "id": "view-in-github",
        "colab_type": "text"
      },
      "source": [
        "<a href=\"https://colab.research.google.com/github/dantae74/machine-learning/blob/main/stock-etc/03-01-get-corporate-quarterly-financial-excel-report-from-dart.ipynb\" target=\"_parent\"><img src=\"https://colab.research.google.com/assets/colab-badge.svg\" alt=\"Open In Colab\"/></a>"
      ]
    },
    {
      "cell_type": "markdown",
      "metadata": {
        "id": "WfgQSbgOoe-2"
      },
      "source": [
        "## DART 사이트에서 기업 공시 정보 가져오기 "
      ],
      "id": "WfgQSbgOoe-2"
    },
    {
      "cell_type": "code",
      "metadata": {
        "id": "RK3QTbWDofS7"
      },
      "source": [
        "import requests\n",
        "from io import BytesIO\n",
        "import pandas as pd"
      ],
      "id": "RK3QTbWDofS7",
      "execution_count": null,
      "outputs": []
    },
    {
      "cell_type": "code",
      "metadata": {
        "id": "30dxHmEPog-b"
      },
      "source": [
        "url = \"http://dart.fss.or.kr/pdf/download/excel.do?rcp_no=20210517001718&dcm_no=8074927&lang=ko\"\n",
        "\n",
        "user_agent = \"Mozilla/5.0 (Macintosh; Intel Mac OS X 10_15_7) AppleWebKit/537.36 (KHTML, like Gecko) Chrome/90.0.4430.212 Safari/537.36\"\n",
        "result = requests.get(url, headers={\"user-agent\":user_agent})"
      ],
      "id": "30dxHmEPog-b",
      "execution_count": null,
      "outputs": []
    },
    {
      "cell_type": "code",
      "metadata": {
        "id": "_C5afApssEJn"
      },
      "source": [
        "result"
      ],
      "id": "_C5afApssEJn",
      "execution_count": null,
      "outputs": []
    },
    {
      "cell_type": "code",
      "metadata": {
        "id": "alQS6DOCyNi0"
      },
      "source": [
        "result.content"
      ],
      "id": "alQS6DOCyNi0",
      "execution_count": null,
      "outputs": []
    },
    {
      "cell_type": "code",
      "metadata": {
        "id": "1pLamGw5sxtK"
      },
      "source": [
        "# Byte raw data => BytesIO Object => Read Excel\n",
        "f = BytesIO(result.content)\n"
      ],
      "id": "1pLamGw5sxtK",
      "execution_count": null,
      "outputs": []
    },
    {
      "cell_type": "code",
      "metadata": {
        "id": "Dw1e6h7IXMpw"
      },
      "source": [
        "sheets = [\"연결 재무상태표\",\"연결 손익계산서\",\"연결 포괄손익계산서\",\"연결 자본변동표\",\"연결 현금흐름표\",\"재무상태표\",\"손익계산서\"]"
      ],
      "id": "Dw1e6h7IXMpw",
      "execution_count": null,
      "outputs": []
    },
    {
      "cell_type": "code",
      "metadata": {
        "id": "Xf3MwnmmXY_F"
      },
      "source": [
        "# 엑셀 파일에서 sheet의 내용을 읽어 sheet 이름으로 파일에 저장\n",
        "for sheet in sheets:\n",
        "  df = pd.read_excel(f, sheet_name=sheet, skiprows=5)\n",
        "  df.to_csv(sheet+\".csv\", encoding=\"euc-kr\")\n"
      ],
      "id": "Xf3MwnmmXY_F",
      "execution_count": null,
      "outputs": []
    },
    {
      "cell_type": "code",
      "metadata": {
        "id": "sDaVssyuTmbw"
      },
      "source": [
        "!ls"
      ],
      "id": "sDaVssyuTmbw",
      "execution_count": null,
      "outputs": []
    },
    {
      "cell_type": "code",
      "metadata": {
        "id": "9iEuoiuAYSM0"
      },
      "source": [
        ""
      ],
      "id": "9iEuoiuAYSM0",
      "execution_count": null,
      "outputs": []
    }
  ]
}