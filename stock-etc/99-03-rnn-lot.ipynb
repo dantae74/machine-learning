{
  "nbformat": 4,
  "nbformat_minor": 5,
  "metadata": {
    "colab": {
      "name": "99-02-rnn-lot.ipynb",
      "provenance": [],
      "include_colab_link": true
    },
    "language_info": {
      "name": "python"
    },
    "kernelspec": {
      "name": "python3",
      "display_name": "Python 3"
    },
    "accelerator": "GPU"
  },
  "cells": [
    {
      "cell_type": "markdown",
      "metadata": {
        "id": "view-in-github",
        "colab_type": "text"
      },
      "source": [
        "<a href=\"https://colab.research.google.com/github/dantae74/machine-learning/blob/main/stock-etc/99-03-rnn-lot.ipynb\" target=\"_parent\"><img src=\"https://colab.research.google.com/assets/colab-badge.svg\" alt=\"Open In Colab\"/></a>"
      ]
    },
    {
      "cell_type": "markdown",
      "metadata": {
        "id": "WfgQSbgOoe-2"
      },
      "source": [
        "모두를 위한 머신러닝에서 가져왔습니다.\n",
        "# RNN-lot\n"
      ],
      "id": "WfgQSbgOoe-2"
    },
    {
      "cell_type": "code",
      "metadata": {
        "id": "RK3QTbWDofS7"
      },
      "source": [
        "# !pip install tensorflow-gpu==2.0.0\n",
        "import numpy as np\n",
        "import tensorflow as tf\n",
        "import pandas as pd\n",
        "from tensorflow import keras\n",
        "from tensorflow.keras import layers\n",
        "from io import BytesIO\n",
        "import requests"
      ],
      "id": "RK3QTbWDofS7",
      "execution_count": null,
      "outputs": []
    },
    {
      "cell_type": "markdown",
      "metadata": {
        "id": "jPOe_aAxF08z"
      },
      "source": [
        "# 마지막 회차번호"
      ],
      "id": "jPOe_aAxF08z"
    },
    {
      "cell_type": "code",
      "metadata": {
        "id": "30dxHmEPog-b"
      },
      "source": [
        "# 마지막 회차 번호\n",
        "noEnd ='970' \n",
        "\n",
        "# url\n",
        "# url = 'https://dhlottery.co.kr/gameResult.do?method=allWinExel&gubun=byWin&nowPage=&drwNoStart=1&drwNoEnd={}'.format(noEnd)\n",
        "\n",
        "url = f'https://dhlottery.co.kr/gameResult.do?method=allWinExel&gubun=byWin&nowPage=&drwNoStart=1&drwNoEnd={noEnd}'\n",
        "\n",
        "# user-agent\n",
        "user_agent = \"Mozilla/5.0 (Macintosh; Intel Mac OS X 10_15_7) AppleWebKit/537.36 (KHTML, like Gecko) Chrome/90.0.4430.212 Safari/537.36\""
      ],
      "id": "30dxHmEPog-b",
      "execution_count": null,
      "outputs": []
    },
    {
      "cell_type": "code",
      "metadata": {
        "id": "KJXYQXb83X65"
      },
      "source": [
        "result = requests.get(url, headers={\"user-agent\":user_agent})"
      ],
      "id": "KJXYQXb83X65",
      "execution_count": null,
      "outputs": []
    },
    {
      "cell_type": "code",
      "metadata": {
        "id": "1d9_zPKE3hFX"
      },
      "source": [
        "result"
      ],
      "id": "1d9_zPKE3hFX",
      "execution_count": null,
      "outputs": []
    },
    {
      "cell_type": "code",
      "metadata": {
        "id": "DHzsnDB25ntC"
      },
      "source": [
        "f = BytesIO(result.content)\n",
        "# df = pd.read_excel(f,sheet_name='excel',skiprows=3)\n",
        "html_result = pd.read_html(f)"
      ],
      "id": "DHzsnDB25ntC",
      "execution_count": null,
      "outputs": []
    },
    {
      "cell_type": "code",
      "metadata": {
        "id": "bFfN-kn05xEL"
      },
      "source": [
        "df_raw = pd.DataFrame(html_result[1])\n",
        "# df = df.drop([0])\n",
        "df_raw.head()"
      ],
      "id": "bFfN-kn05xEL",
      "execution_count": null,
      "outputs": []
    },
    {
      "cell_type": "code",
      "metadata": {
        "id": "S8P2vsVLyss1"
      },
      "source": [
        "# columns = [col for i, col in enumerate(df.iloc[0])]\n",
        "# df.columns = columns\n",
        "# columns\n",
        "\n",
        "# column name 설정\n",
        "col_names = [fn+sn if fn != sn else fn for fn, sn in zip(df_raw.iloc[0], df_raw.iloc[1])]  \n",
        "df_raw.columns = col_names\n",
        "\n",
        "# 0, 1행 삭제\n",
        "df_lot = df_raw.drop([0,1], axis=0)\n",
        "\n",
        "# 컬럼 형변환\n",
        "df_lot = df_lot.astype({'회차':'uint', '당첨번호1':'uint', '당첨번호2':'uint', '당첨번호3':'uint', '당첨번호4':'uint', '당첨번호5':'uint', '당첨번호6':'uint', '당첨번호보너스':'uint'}, copy=True)\n",
        "\n",
        "# 당첨금액 형변환\n",
        "df_lot['1등당첨금액'] = df_lot['1등당첨금액'].str.replace(\",|원\",'',regex=True).astype('uint')\n",
        "df_lot['2등당첨금액'] = df_lot['2등당첨금액'].str.replace(\",|원\",'',regex=True).astype('uint')\n",
        "df_lot['3등당첨금액'] = df_lot['3등당첨금액'].str.replace(\",|원\",'',regex=True).astype('uint')\n",
        "df_lot['4등당첨금액'] = df_lot['4등당첨금액'].str.replace(\",|원\",'',regex=True).astype('uint')\n",
        "df_lot['5등당첨금액'] = df_lot['5등당첨금액'].str.replace(\",|원\",'',regex=True).astype('uint')\n",
        "\n",
        "# 회차기준 오름차준 정렬\n",
        "df_lot = df_lot.sort_values('회차', ascending=True)\n",
        "\n",
        "# 회차필드 index로 설정\n",
        "df_lot.set_index('회차', inplace=True)\n",
        "\n",
        "# 필요없는 컬럼 삭제\n",
        "df_lot.drop(['년도', '추첨일', '1등당첨자수', '2등당첨자수', '3등당첨자수', '4등당첨자수', '5등당첨자수'], axis=1, inplace=True)\n",
        "\n",
        "df_lot.head(5)"
      ],
      "id": "S8P2vsVLyss1",
      "execution_count": null,
      "outputs": []
    },
    {
      "cell_type": "code",
      "metadata": {
        "id": "_NmZchpDBJhL"
      },
      "source": [
        "df_lot.info()"
      ],
      "id": "_NmZchpDBJhL",
      "execution_count": null,
      "outputs": []
    },
    {
      "cell_type": "code",
      "metadata": {
        "id": "ESK6FXeJbRRi"
      },
      "source": [
        "import numpy as np\n",
        "\n",
        "# 당첨번호를 원핫인코딩벡터로 변환\n",
        "def lotto2onehot(numbers):\n",
        "    onehot = np.zeros(45)\n",
        "    for number in numbers:\n",
        "        onehot[int(number)-1] = 1 #로또번호에 해당하는 인덱스에 1로 설정 \n",
        "    return onehot.tolist()\n",
        "\n",
        "# 원핫인코딩벡터를 당첨번호로 변환\n",
        "def onehot2lotto(onehots):\n",
        "    numbers = [i+1 for i, val in enumerate(onehots) if val == 1]\n",
        "    return numbers"
      ],
      "id": "ESK6FXeJbRRi",
      "execution_count": null,
      "outputs": []
    },
    {
      "cell_type": "code",
      "metadata": {
        "id": "fqK5dorQeMQH"
      },
      "source": [
        "# 함수 동작 확인\n",
        "\n",
        "lotto = [1,3,5,7,9,11]\n",
        "onehot_lotto = lotto2onehot(lotto)\n",
        "print(onehot_lotto)\n",
        "onehot2lotto(onehot_lotto)"
      ],
      "id": "fqK5dorQeMQH",
      "execution_count": null,
      "outputs": []
    },
    {
      "cell_type": "code",
      "metadata": {
        "id": "SVEov0queYO1"
      },
      "source": [
        "# 당첨번호 추출\n",
        "bonus_number = df_lot['당첨번호보너스'].to_numpy()\n",
        "lotto_numbers = df_lot[['당첨번호1','당첨번호2','당첨번호3', '당첨번호4', '당첨번호5', '당첨번호6']].to_numpy()\n",
        "lotto_numbers"
      ],
      "id": "SVEov0queYO1",
      "execution_count": null,
      "outputs": []
    },
    {
      "cell_type": "code",
      "metadata": {
        "id": "WjXEnyBJg3ct"
      },
      "source": [
        "# 당첨번호 onehot 인코딩\n",
        "onehot_lotto_numbers = list(map(lotto2onehot, lotto_numbers))\n",
        "\n",
        "row_count = len(onehot_lotto_numbers)\n",
        "\n",
        "x_samples = onehot_lotto_numbers[0:row_count-1]\n",
        "y_samples = onehot_lotto_numbers[1:row_count]"
      ],
      "id": "WjXEnyBJg3ct",
      "execution_count": null,
      "outputs": []
    },
    {
      "cell_type": "code",
      "metadata": {
        "id": "gDwqxOlOhznj"
      },
      "source": [
        "np.shape(onehot_lotto_numbers)"
      ],
      "id": "gDwqxOlOhznj",
      "execution_count": null,
      "outputs": []
    },
    {
      "cell_type": "code",
      "metadata": {
        "id": "EvVQ8ZEti57E"
      },
      "source": [
        "# train, valid, test set으로 분리\n",
        "train_idx = (0, 800)\n",
        "valid_idx = (801, 900)\n",
        "test_idx = (901, len(onehot_lotto_numbers))\n",
        "\n",
        "print(f'train: {train_idx}, valid: {valid_idx}, test: {test_idx}')"
      ],
      "id": "EvVQ8ZEti57E",
      "execution_count": null,
      "outputs": []
    },
    {
      "cell_type": "code",
      "metadata": {
        "id": "qygEYZDymjzg"
      },
      "source": [
        "# LSTM 모델 생성\n",
        "\n",
        "import tensorflow as tf\n",
        "from tensorflow import keras\n",
        "from tensorflow.keras import layers\n",
        "from tensorflow.keras import models\n",
        "\n",
        "batch_size = 32\n",
        "lotto_size = 45\n",
        "embedding_dim = 256\n",
        "rnn_units = 256\n",
        "\n",
        "\n",
        "# 모델을 정의합니다.\n",
        "model = keras.Sequential([\n",
        "    # keras.layers.Embedding(lotto_size, embedding_dim, batch_input_shape=[batch_size, None]),                      \n",
        "    keras.layers.LSTM(rnn_units, return_sequences=False, stateful=True, recurrent_initializer='glorot_uniform'),\n",
        "    keras.layers.Dense(45, activation='sigmoid')\n",
        "])\n",
        "\n",
        "# 모델을 컴파일합니다.\n",
        "model.compile(loss='binary_crossentropy', optimizer='adam', metrics=['accuracy'])"
      ],
      "id": "qygEYZDymjzg",
      "execution_count": null,
      "outputs": []
    },
    {
      "cell_type": "code",
      "metadata": {
        "id": "mjBafcmxCIMc"
      },
      "source": [
        "model.summary()"
      ],
      "id": "mjBafcmxCIMc",
      "execution_count": null,
      "outputs": []
    },
    {
      "cell_type": "code",
      "metadata": {
        "id": "30BaMybfCn2N"
      },
      "source": [
        "import os\n",
        "import time\n",
        "\n",
        "# 체크포인트가 저장될 디렉토리\n",
        "checkpoint_dir = './training_checkpoints'\n",
        "# 체크포인트 파일 이름\n",
        "checkpoint_prefix = os.path.join(checkpoint_dir, \"ckpt_{epoch}\")\n",
        "\n",
        "checkpoint_callback=tf.keras.callbacks.ModelCheckpoint(\n",
        "    filepath=checkpoint_prefix,\n",
        "    save_weights_only=True)"
      ],
      "id": "30BaMybfCn2N",
      "execution_count": null,
      "outputs": []
    },
    {
      "cell_type": "code",
      "metadata": {
        "id": "sA9XuTjCnNkV"
      },
      "source": [
        "EPOCHS=10\n",
        "\n",
        "x_train = x_samples[train_idx[0]:train_idx[1]]\n",
        "y_train = y_samples[train_idx[0]:train_idx[1]]\n",
        "\n",
        "x_val = x_samples[valid_idx[0]:valid_idx[1]]\n",
        "y_val = y_samples[valid_idx[0]:valid_idx[1]]\n",
        "\n",
        "x_test = x_samples[test_idx[0]:test_idx[1]]\n",
        "y_test = y_samples[test_idx[0]:test_idx[1]]\n",
        "\n",
        "# history = model.fit(x_train, y_train, epochs=EPOCHS, callbacks=[checkpoint_callback])\n",
        "\n",
        "history = model.fit(x_train, y_train, epochs=EPOCHS, validation_data=(x_val, y_val), callbacks=[checkpoint_callback])"
      ],
      "id": "sA9XuTjCnNkV",
      "execution_count": null,
      "outputs": []
    },
    {
      "cell_type": "code",
      "metadata": {
        "id": "SGmtHdO0Pdxc"
      },
      "source": [
        "np.shape(x_val)"
      ],
      "id": "SGmtHdO0Pdxc",
      "execution_count": null,
      "outputs": []
    },
    {
      "cell_type": "code",
      "metadata": {
        "id": "S1xFmiJ68HzA"
      },
      "source": [
        "%matplotlib inline\n",
        "import matplotlib.pyplot as plt\n",
        "\n",
        "fig, loss_ax = plt.subplots()\n",
        "\n",
        "acc_ax = loss_ax.twinx()\n",
        "\n",
        "loss_ax.plot(history.history['loss'], 'y', label='train loss')\n",
        "# loss_ax.plot(history.history['val_loss'], 'r', label='val loss')\n",
        "\n",
        "acc_ax.plot(history.history['accuracy'], 'b', label='train acc')\n",
        "# acc_ax.plot(history.history['val_acc'], 'g', label='val acc')\n",
        "\n",
        "loss_ax.set_xlabel('epoch')\n",
        "loss_ax.set_ylabel('loss')\n",
        "acc_ax.set_ylabel('accuray')\n",
        "\n",
        "loss_ax.legend(loc='upper left')\n",
        "acc_ax.legend(loc='lower left')\n",
        "\n",
        "plt.show()"
      ],
      "id": "S1xFmiJ68HzA",
      "execution_count": null,
      "outputs": []
    },
    {
      "cell_type": "code",
      "metadata": {
        "id": "snWp42FdNmMu"
      },
      "source": [
        "np.shape(x_val)"
      ],
      "id": "snWp42FdNmMu",
      "execution_count": null,
      "outputs": []
    },
    {
      "cell_type": "code",
      "metadata": {
        "id": "2t3APFPXMJ3c"
      },
      "source": [
        "del model"
      ],
      "id": "2t3APFPXMJ3c",
      "execution_count": null,
      "outputs": []
    },
    {
      "cell_type": "code",
      "metadata": {
        "id": "JEFB0PANNhMQ"
      },
      "source": [
        ""
      ],
      "id": "JEFB0PANNhMQ",
      "execution_count": null,
      "outputs": []
    }
  ]
}