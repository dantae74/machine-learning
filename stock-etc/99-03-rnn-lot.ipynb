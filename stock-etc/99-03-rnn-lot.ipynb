{
  "nbformat": 4,
  "nbformat_minor": 5,
  "metadata": {
    "colab": {
      "name": "99-03-rnn-lot.ipynb",
      "provenance": [],
      "include_colab_link": true
    },
    "language_info": {
      "name": "python"
    },
    "kernelspec": {
      "name": "python3",
      "display_name": "Python 3"
    },
    "accelerator": "GPU"
  },
  "cells": [
    {
      "cell_type": "markdown",
      "metadata": {
        "id": "view-in-github",
        "colab_type": "text"
      },
      "source": [
        "<a href=\"https://colab.research.google.com/github/dantae74/machine-learning/blob/main/stock-etc/99-03-rnn-lot.ipynb\" target=\"_parent\"><img src=\"https://colab.research.google.com/assets/colab-badge.svg\" alt=\"Open In Colab\"/></a>"
      ]
    },
    {
      "cell_type": "markdown",
      "metadata": {
        "id": "WfgQSbgOoe-2"
      },
      "source": [
        "\n",
        "# RNN-lot\n"
      ],
      "id": "WfgQSbgOoe-2"
    },
    {
      "cell_type": "code",
      "metadata": {
        "id": "RK3QTbWDofS7"
      },
      "source": [
        "# !pip install tensorflow-gpu==2.0.0\n",
        "import numpy as np\n",
        "import tensorflow as tf\n",
        "import pandas as pd\n",
        "from tensorflow import keras\n",
        "from tensorflow.keras import layers\n",
        "from io import BytesIO\n",
        "import requests"
      ],
      "id": "RK3QTbWDofS7",
      "execution_count": 1,
      "outputs": []
    },
    {
      "cell_type": "markdown",
      "metadata": {
        "id": "jPOe_aAxF08z"
      },
      "source": [
        "# 마지막 회차번호"
      ],
      "id": "jPOe_aAxF08z"
    },
    {
      "cell_type": "code",
      "metadata": {
        "id": "30dxHmEPog-b"
      },
      "source": [
        "# 마지막 회차 번호\n",
        "noEnd ='979' \n",
        "\n",
        "url = f'https://dhlottery.co.kr/gameResult.do?method=allWinExel&gubun=byWin&nowPage=&drwNoStart=1&drwNoEnd={noEnd}'\n",
        "\n",
        "# user-agent\n",
        "user_agent = \"Mozilla/5.0 (Macintosh; Intel Mac OS X 10_15_7) AppleWebKit/537.36 (KHTML, like Gecko) Chrome/90.0.4430.212 Safari/537.36\""
      ],
      "id": "30dxHmEPog-b",
      "execution_count": 2,
      "outputs": []
    },
    {
      "cell_type": "code",
      "metadata": {
        "id": "KJXYQXb83X65"
      },
      "source": [
        "result = requests.get(url, headers={\"user-agent\":user_agent})"
      ],
      "id": "KJXYQXb83X65",
      "execution_count": 3,
      "outputs": []
    },
    {
      "cell_type": "code",
      "metadata": {
        "id": "1d9_zPKE3hFX",
        "colab": {
          "base_uri": "https://localhost:8080/"
        },
        "outputId": "62926270-57bf-45b2-8834-f9a6b4d10e3f"
      },
      "source": [
        "result"
      ],
      "id": "1d9_zPKE3hFX",
      "execution_count": 4,
      "outputs": [
        {
          "output_type": "execute_result",
          "data": {
            "text/plain": [
              "<Response [200]>"
            ]
          },
          "metadata": {},
          "execution_count": 4
        }
      ]
    },
    {
      "cell_type": "code",
      "metadata": {
        "id": "DHzsnDB25ntC"
      },
      "source": [
        "f = BytesIO(result.content)\n",
        "# df = pd.read_excel(f,sheet_name='excel',skiprows=3)\n",
        "html_result = pd.read_html(f)"
      ],
      "id": "DHzsnDB25ntC",
      "execution_count": 5,
      "outputs": []
    },
    {
      "cell_type": "code",
      "metadata": {
        "id": "bFfN-kn05xEL",
        "colab": {
          "base_uri": "https://localhost:8080/",
          "height": 287
        },
        "outputId": "e38d9b9e-354d-4375-9651-a4b3362de574"
      },
      "source": [
        "df_raw = pd.DataFrame(html_result[1])\n",
        "# df = df.drop([0])\n",
        "df_raw.head()"
      ],
      "id": "bFfN-kn05xEL",
      "execution_count": 6,
      "outputs": [
        {
          "output_type": "execute_result",
          "data": {
            "text/html": [
              "<div>\n",
              "<style scoped>\n",
              "    .dataframe tbody tr th:only-of-type {\n",
              "        vertical-align: middle;\n",
              "    }\n",
              "\n",
              "    .dataframe tbody tr th {\n",
              "        vertical-align: top;\n",
              "    }\n",
              "\n",
              "    .dataframe thead th {\n",
              "        text-align: right;\n",
              "    }\n",
              "</style>\n",
              "<table border=\"1\" class=\"dataframe\">\n",
              "  <thead>\n",
              "    <tr style=\"text-align: right;\">\n",
              "      <th></th>\n",
              "      <th>0</th>\n",
              "      <th>1</th>\n",
              "      <th>2</th>\n",
              "      <th>3</th>\n",
              "      <th>4</th>\n",
              "      <th>5</th>\n",
              "      <th>6</th>\n",
              "      <th>7</th>\n",
              "      <th>8</th>\n",
              "      <th>9</th>\n",
              "      <th>10</th>\n",
              "      <th>11</th>\n",
              "      <th>12</th>\n",
              "      <th>13</th>\n",
              "      <th>14</th>\n",
              "      <th>15</th>\n",
              "      <th>16</th>\n",
              "      <th>17</th>\n",
              "      <th>18</th>\n",
              "      <th>19</th>\n",
              "    </tr>\n",
              "  </thead>\n",
              "  <tbody>\n",
              "    <tr>\n",
              "      <th>0</th>\n",
              "      <td>년도</td>\n",
              "      <td>회차</td>\n",
              "      <td>추첨일</td>\n",
              "      <td>1등</td>\n",
              "      <td>1등</td>\n",
              "      <td>2등</td>\n",
              "      <td>2등</td>\n",
              "      <td>3등</td>\n",
              "      <td>3등</td>\n",
              "      <td>4등</td>\n",
              "      <td>4등</td>\n",
              "      <td>5등</td>\n",
              "      <td>5등</td>\n",
              "      <td>당첨번호</td>\n",
              "      <td>당첨번호</td>\n",
              "      <td>당첨번호</td>\n",
              "      <td>당첨번호</td>\n",
              "      <td>당첨번호</td>\n",
              "      <td>당첨번호</td>\n",
              "      <td>당첨번호</td>\n",
              "    </tr>\n",
              "    <tr>\n",
              "      <th>1</th>\n",
              "      <td>년도</td>\n",
              "      <td>회차</td>\n",
              "      <td>추첨일</td>\n",
              "      <td>당첨자수</td>\n",
              "      <td>당첨금액</td>\n",
              "      <td>당첨자수</td>\n",
              "      <td>당첨금액</td>\n",
              "      <td>당첨자수</td>\n",
              "      <td>당첨금액</td>\n",
              "      <td>당첨자수</td>\n",
              "      <td>당첨금액</td>\n",
              "      <td>당첨자수</td>\n",
              "      <td>당첨금액</td>\n",
              "      <td>1</td>\n",
              "      <td>2</td>\n",
              "      <td>3</td>\n",
              "      <td>4</td>\n",
              "      <td>5</td>\n",
              "      <td>6</td>\n",
              "      <td>보너스</td>\n",
              "    </tr>\n",
              "    <tr>\n",
              "      <th>2</th>\n",
              "      <td>2021</td>\n",
              "      <td>979</td>\n",
              "      <td>2021.09.04</td>\n",
              "      <td>14</td>\n",
              "      <td>1,606,400,518원</td>\n",
              "      <td>79</td>\n",
              "      <td>47,446,429원</td>\n",
              "      <td>3414</td>\n",
              "      <td>1,097,911원</td>\n",
              "      <td>154980</td>\n",
              "      <td>50,000원</td>\n",
              "      <td>2403760</td>\n",
              "      <td>5,000원</td>\n",
              "      <td>7</td>\n",
              "      <td>11</td>\n",
              "      <td>16</td>\n",
              "      <td>21</td>\n",
              "      <td>27</td>\n",
              "      <td>33</td>\n",
              "      <td>24</td>\n",
              "    </tr>\n",
              "    <tr>\n",
              "      <th>3</th>\n",
              "      <td>2021</td>\n",
              "      <td>978</td>\n",
              "      <td>2021.08.28</td>\n",
              "      <td>10</td>\n",
              "      <td>2,373,391,388원</td>\n",
              "      <td>70</td>\n",
              "      <td>56,509,319원</td>\n",
              "      <td>2826</td>\n",
              "      <td>1,399,736원</td>\n",
              "      <td>133915</td>\n",
              "      <td>50,000원</td>\n",
              "      <td>2217326</td>\n",
              "      <td>5,000원</td>\n",
              "      <td>1</td>\n",
              "      <td>7</td>\n",
              "      <td>15</td>\n",
              "      <td>32</td>\n",
              "      <td>34</td>\n",
              "      <td>42</td>\n",
              "      <td>8</td>\n",
              "    </tr>\n",
              "    <tr>\n",
              "      <th>4</th>\n",
              "      <td>2021</td>\n",
              "      <td>977</td>\n",
              "      <td>2021.08.21</td>\n",
              "      <td>14</td>\n",
              "      <td>1,669,905,911원</td>\n",
              "      <td>82</td>\n",
              "      <td>47,517,648원</td>\n",
              "      <td>2474</td>\n",
              "      <td>1,574,959원</td>\n",
              "      <td>125781</td>\n",
              "      <td>50,000원</td>\n",
              "      <td>2097459</td>\n",
              "      <td>5,000원</td>\n",
              "      <td>2</td>\n",
              "      <td>9</td>\n",
              "      <td>10</td>\n",
              "      <td>14</td>\n",
              "      <td>22</td>\n",
              "      <td>44</td>\n",
              "      <td>16</td>\n",
              "    </tr>\n",
              "  </tbody>\n",
              "</table>\n",
              "</div>"
            ],
            "text/plain": [
              "     0    1           2     3               4   ...    15    16    17    18    19\n",
              "0    년도   회차         추첨일    1등              1등  ...  당첨번호  당첨번호  당첨번호  당첨번호  당첨번호\n",
              "1    년도   회차         추첨일  당첨자수            당첨금액  ...     3     4     5     6   보너스\n",
              "2  2021  979  2021.09.04    14  1,606,400,518원  ...    16    21    27    33    24\n",
              "3  2021  978  2021.08.28    10  2,373,391,388원  ...    15    32    34    42     8\n",
              "4  2021  977  2021.08.21    14  1,669,905,911원  ...    10    14    22    44    16\n",
              "\n",
              "[5 rows x 20 columns]"
            ]
          },
          "metadata": {},
          "execution_count": 6
        }
      ]
    },
    {
      "cell_type": "code",
      "metadata": {
        "id": "S8P2vsVLyss1",
        "colab": {
          "base_uri": "https://localhost:8080/",
          "height": 234
        },
        "outputId": "72d975c0-269a-4819-e56f-606d16e1b164"
      },
      "source": [
        "# columns = [col for i, col in enumerate(df.iloc[0])]\n",
        "# df.columns = columns\n",
        "# columns\n",
        "\n",
        "# column name 설정\n",
        "col_names = [fn+sn if fn != sn else fn for fn, sn in zip(df_raw.iloc[0], df_raw.iloc[1])]  \n",
        "df_raw.columns = col_names\n",
        "\n",
        "# 0, 1행 삭제\n",
        "df_lot = df_raw.drop([0,1], axis=0)\n",
        "\n",
        "# 컬럼 형변환\n",
        "df_lot = df_lot.astype({'회차':'uint', '당첨번호1':'uint', '당첨번호2':'uint', '당첨번호3':'uint', '당첨번호4':'uint', '당첨번호5':'uint', '당첨번호6':'uint', '당첨번호보너스':'uint'}, copy=True)\n",
        "\n",
        "# 당첨금액 형변환\n",
        "df_lot['1등당첨금액'] = df_lot['1등당첨금액'].str.replace(\",|원\",'',regex=True).astype('uint')\n",
        "df_lot['2등당첨금액'] = df_lot['2등당첨금액'].str.replace(\",|원\",'',regex=True).astype('uint')\n",
        "df_lot['3등당첨금액'] = df_lot['3등당첨금액'].str.replace(\",|원\",'',regex=True).astype('uint')\n",
        "df_lot['4등당첨금액'] = df_lot['4등당첨금액'].str.replace(\",|원\",'',regex=True).astype('uint')\n",
        "df_lot['5등당첨금액'] = df_lot['5등당첨금액'].str.replace(\",|원\",'',regex=True).astype('uint')\n",
        "\n",
        "# 회차기준 오름차준 정렬\n",
        "df_lot = df_lot.sort_values('회차', ascending=True)\n",
        "\n",
        "# 회차필드 index로 설정\n",
        "df_lot.set_index('회차', inplace=True)\n",
        "\n",
        "# 필요없는 컬럼 삭제\n",
        "df_lot.drop(['년도', '추첨일', '1등당첨자수', '2등당첨자수', '3등당첨자수', '4등당첨자수', '5등당첨자수'], axis=1, inplace=True)\n",
        "\n",
        "df_lot.head(5)"
      ],
      "id": "S8P2vsVLyss1",
      "execution_count": 7,
      "outputs": [
        {
          "output_type": "execute_result",
          "data": {
            "text/html": [
              "<div>\n",
              "<style scoped>\n",
              "    .dataframe tbody tr th:only-of-type {\n",
              "        vertical-align: middle;\n",
              "    }\n",
              "\n",
              "    .dataframe tbody tr th {\n",
              "        vertical-align: top;\n",
              "    }\n",
              "\n",
              "    .dataframe thead th {\n",
              "        text-align: right;\n",
              "    }\n",
              "</style>\n",
              "<table border=\"1\" class=\"dataframe\">\n",
              "  <thead>\n",
              "    <tr style=\"text-align: right;\">\n",
              "      <th></th>\n",
              "      <th>1등당첨금액</th>\n",
              "      <th>2등당첨금액</th>\n",
              "      <th>3등당첨금액</th>\n",
              "      <th>4등당첨금액</th>\n",
              "      <th>5등당첨금액</th>\n",
              "      <th>당첨번호1</th>\n",
              "      <th>당첨번호2</th>\n",
              "      <th>당첨번호3</th>\n",
              "      <th>당첨번호4</th>\n",
              "      <th>당첨번호5</th>\n",
              "      <th>당첨번호6</th>\n",
              "      <th>당첨번호보너스</th>\n",
              "    </tr>\n",
              "    <tr>\n",
              "      <th>회차</th>\n",
              "      <th></th>\n",
              "      <th></th>\n",
              "      <th></th>\n",
              "      <th></th>\n",
              "      <th></th>\n",
              "      <th></th>\n",
              "      <th></th>\n",
              "      <th></th>\n",
              "      <th></th>\n",
              "      <th></th>\n",
              "      <th></th>\n",
              "      <th></th>\n",
              "    </tr>\n",
              "  </thead>\n",
              "  <tbody>\n",
              "    <tr>\n",
              "      <th>1</th>\n",
              "      <td>0</td>\n",
              "      <td>143934100</td>\n",
              "      <td>5140500</td>\n",
              "      <td>113400</td>\n",
              "      <td>10000</td>\n",
              "      <td>10</td>\n",
              "      <td>23</td>\n",
              "      <td>29</td>\n",
              "      <td>33</td>\n",
              "      <td>37</td>\n",
              "      <td>40</td>\n",
              "      <td>16</td>\n",
              "    </tr>\n",
              "    <tr>\n",
              "      <th>2</th>\n",
              "      <td>2002006800</td>\n",
              "      <td>94866800</td>\n",
              "      <td>1842000</td>\n",
              "      <td>100800</td>\n",
              "      <td>10000</td>\n",
              "      <td>9</td>\n",
              "      <td>13</td>\n",
              "      <td>21</td>\n",
              "      <td>25</td>\n",
              "      <td>32</td>\n",
              "      <td>42</td>\n",
              "      <td>2</td>\n",
              "    </tr>\n",
              "    <tr>\n",
              "      <th>3</th>\n",
              "      <td>2000000000</td>\n",
              "      <td>0</td>\n",
              "      <td>1174100</td>\n",
              "      <td>54900</td>\n",
              "      <td>10000</td>\n",
              "      <td>11</td>\n",
              "      <td>16</td>\n",
              "      <td>19</td>\n",
              "      <td>21</td>\n",
              "      <td>27</td>\n",
              "      <td>31</td>\n",
              "      <td>30</td>\n",
              "    </tr>\n",
              "    <tr>\n",
              "      <th>4</th>\n",
              "      <td>0</td>\n",
              "      <td>211191200</td>\n",
              "      <td>7282400</td>\n",
              "      <td>152100</td>\n",
              "      <td>10000</td>\n",
              "      <td>14</td>\n",
              "      <td>27</td>\n",
              "      <td>30</td>\n",
              "      <td>31</td>\n",
              "      <td>40</td>\n",
              "      <td>42</td>\n",
              "      <td>2</td>\n",
              "    </tr>\n",
              "    <tr>\n",
              "      <th>5</th>\n",
              "      <td>0</td>\n",
              "      <td>0</td>\n",
              "      <td>6033800</td>\n",
              "      <td>166500</td>\n",
              "      <td>10000</td>\n",
              "      <td>16</td>\n",
              "      <td>24</td>\n",
              "      <td>29</td>\n",
              "      <td>40</td>\n",
              "      <td>41</td>\n",
              "      <td>42</td>\n",
              "      <td>3</td>\n",
              "    </tr>\n",
              "  </tbody>\n",
              "</table>\n",
              "</div>"
            ],
            "text/plain": [
              "        1등당첨금액     2등당첨금액   3등당첨금액  4등당첨금액  ...  당첨번호4  당첨번호5  당첨번호6  당첨번호보너스\n",
              "회차                                          ...                              \n",
              "1            0  143934100  5140500  113400  ...     33     37     40       16\n",
              "2   2002006800   94866800  1842000  100800  ...     25     32     42        2\n",
              "3   2000000000          0  1174100   54900  ...     21     27     31       30\n",
              "4            0  211191200  7282400  152100  ...     31     40     42        2\n",
              "5            0          0  6033800  166500  ...     40     41     42        3\n",
              "\n",
              "[5 rows x 12 columns]"
            ]
          },
          "metadata": {},
          "execution_count": 7
        }
      ]
    },
    {
      "cell_type": "code",
      "metadata": {
        "id": "_NmZchpDBJhL",
        "colab": {
          "base_uri": "https://localhost:8080/"
        },
        "outputId": "686d4427-ee87-4d9d-8285-e9c1d2482201"
      },
      "source": [
        "df_lot.info()"
      ],
      "id": "_NmZchpDBJhL",
      "execution_count": 8,
      "outputs": [
        {
          "output_type": "stream",
          "name": "stdout",
          "text": [
            "<class 'pandas.core.frame.DataFrame'>\n",
            "UInt64Index: 979 entries, 1 to 979\n",
            "Data columns (total 12 columns):\n",
            " #   Column   Non-Null Count  Dtype \n",
            "---  ------   --------------  ----- \n",
            " 0   1등당첨금액   979 non-null    uint64\n",
            " 1   2등당첨금액   979 non-null    uint64\n",
            " 2   3등당첨금액   979 non-null    uint64\n",
            " 3   4등당첨금액   979 non-null    uint64\n",
            " 4   5등당첨금액   979 non-null    uint64\n",
            " 5   당첨번호1    979 non-null    uint64\n",
            " 6   당첨번호2    979 non-null    uint64\n",
            " 7   당첨번호3    979 non-null    uint64\n",
            " 8   당첨번호4    979 non-null    uint64\n",
            " 9   당첨번호5    979 non-null    uint64\n",
            " 10  당첨번호6    979 non-null    uint64\n",
            " 11  당첨번호보너스  979 non-null    uint64\n",
            "dtypes: uint64(12)\n",
            "memory usage: 99.4 KB\n"
          ]
        }
      ]
    },
    {
      "cell_type": "code",
      "metadata": {
        "id": "ESK6FXeJbRRi"
      },
      "source": [
        "import numpy as np\n",
        "\n",
        "# 당첨번호를 원핫인코딩벡터로 변환\n",
        "def lotto2onehot(numbers):\n",
        "    onehot = np.zeros(45)\n",
        "    for number in numbers:\n",
        "        onehot[int(number)-1] = 1 #로또번호에 해당하는 인덱스에 1로 설정 \n",
        "    return onehot.tolist()\n",
        "\n",
        "# 원핫인코딩벡터를 당첨번호로 변환\n",
        "def onehot2lotto(onehots):\n",
        "    numbers = [i+1 for i, val in enumerate(onehots) if val == 1]\n",
        "    return numbers"
      ],
      "id": "ESK6FXeJbRRi",
      "execution_count": 9,
      "outputs": []
    },
    {
      "cell_type": "code",
      "metadata": {
        "id": "fqK5dorQeMQH",
        "colab": {
          "base_uri": "https://localhost:8080/"
        },
        "outputId": "e79b958f-21dc-4674-ca17-e8f63cf211bb"
      },
      "source": [
        "# 함수 동작 확인\n",
        "\n",
        "lotto = [1,3,5,7,9,11]\n",
        "onehot_lotto = lotto2onehot(lotto)\n",
        "print(onehot_lotto)\n",
        "onehot2lotto(onehot_lotto)"
      ],
      "id": "fqK5dorQeMQH",
      "execution_count": 10,
      "outputs": [
        {
          "output_type": "stream",
          "name": "stdout",
          "text": [
            "[1.0, 0.0, 1.0, 0.0, 1.0, 0.0, 1.0, 0.0, 1.0, 0.0, 1.0, 0.0, 0.0, 0.0, 0.0, 0.0, 0.0, 0.0, 0.0, 0.0, 0.0, 0.0, 0.0, 0.0, 0.0, 0.0, 0.0, 0.0, 0.0, 0.0, 0.0, 0.0, 0.0, 0.0, 0.0, 0.0, 0.0, 0.0, 0.0, 0.0, 0.0, 0.0, 0.0, 0.0, 0.0]\n"
          ]
        },
        {
          "output_type": "execute_result",
          "data": {
            "text/plain": [
              "[1, 3, 5, 7, 9, 11]"
            ]
          },
          "metadata": {},
          "execution_count": 10
        }
      ]
    },
    {
      "cell_type": "code",
      "metadata": {
        "id": "SVEov0queYO1",
        "colab": {
          "base_uri": "https://localhost:8080/"
        },
        "outputId": "50f786f1-a518-4f61-8f04-1312368b34cd"
      },
      "source": [
        "# 당첨번호 및 보너스번호 추출\n",
        "lotto_numbers = df_lot[['당첨번호1','당첨번호2','당첨번호3', '당첨번호4', '당첨번호5', '당첨번호6']].to_numpy()\n",
        "bonus_number = df_lot['당첨번호보너스'].to_numpy()\n",
        "lotto_numbers"
      ],
      "id": "SVEov0queYO1",
      "execution_count": 11,
      "outputs": [
        {
          "output_type": "execute_result",
          "data": {
            "text/plain": [
              "array([[10, 23, 29, 33, 37, 40],\n",
              "       [ 9, 13, 21, 25, 32, 42],\n",
              "       [11, 16, 19, 21, 27, 31],\n",
              "       ...,\n",
              "       [ 2,  9, 10, 14, 22, 44],\n",
              "       [ 1,  7, 15, 32, 34, 42],\n",
              "       [ 7, 11, 16, 21, 27, 33]], dtype=uint64)"
            ]
          },
          "metadata": {},
          "execution_count": 11
        }
      ]
    },
    {
      "cell_type": "code",
      "metadata": {
        "id": "NlREtUKLd_1s"
      },
      "source": [
        "# 당첨번호 onehot 인코딩\n",
        "onehot_lotto_numbers = list(map(lotto2onehot, lotto_numbers))"
      ],
      "id": "NlREtUKLd_1s",
      "execution_count": 12,
      "outputs": []
    },
    {
      "cell_type": "code",
      "metadata": {
        "id": "NWh6XajCTr_O",
        "colab": {
          "base_uri": "https://localhost:8080/"
        },
        "outputId": "b56ffc45-ced8-4509-bc8a-693065c2fe97"
      },
      "source": [
        "print(onehot2lotto(onehot_lotto_numbers[-1]))"
      ],
      "id": "NWh6XajCTr_O",
      "execution_count": 13,
      "outputs": [
        {
          "output_type": "stream",
          "name": "stdout",
          "text": [
            "[7, 11, 16, 21, 27, 33]\n"
          ]
        }
      ]
    },
    {
      "cell_type": "code",
      "metadata": {
        "id": "2V4UFOsZRZn6",
        "colab": {
          "base_uri": "https://localhost:8080/"
        },
        "outputId": "b16370c8-759a-40c3-b90c-a2471a56d4b1"
      },
      "source": [
        "# make X and Y data\n",
        "WINDOW_SIZE = 8\n",
        "x_data = []\n",
        "y_data = []\n",
        "for i in range(len(onehot_lotto_numbers)-WINDOW_SIZE):\n",
        "    x_data.append([onehot_lotto_numbers[i:i+WINDOW_SIZE-1]])\n",
        "    y_data.append(onehot_lotto_numbers[i+WINDOW_SIZE])\n",
        "\n",
        "print(onehot2lotto(y_data[-1]))"
      ],
      "id": "2V4UFOsZRZn6",
      "execution_count": 14,
      "outputs": [
        {
          "output_type": "stream",
          "name": "stdout",
          "text": [
            "[7, 11, 16, 21, 27, 33]\n"
          ]
        }
      ]
    },
    {
      "cell_type": "code",
      "metadata": {
        "id": "Y0iRM-7nT2q5",
        "colab": {
          "base_uri": "https://localhost:8080/"
        },
        "outputId": "75867a3f-4664-4473-f887-92207ad478be"
      },
      "source": [
        "print(f'x_data.shape: {np.shape(x_data)}, y_data.shape: {np.shape(y_data)}')"
      ],
      "id": "Y0iRM-7nT2q5",
      "execution_count": 15,
      "outputs": [
        {
          "output_type": "stream",
          "name": "stdout",
          "text": [
            "x_data.shape: (971, 1, 7, 45), y_data.shape: (971, 45)\n"
          ]
        }
      ]
    },
    {
      "cell_type": "code",
      "metadata": {
        "id": "ZN5wBU3NcHnn",
        "colab": {
          "base_uri": "https://localhost:8080/"
        },
        "outputId": "7bcfea60-6e88-45d8-b77d-97c0008cf415"
      },
      "source": [
        "# numpy and reshape\n",
        "x_data = np.reshape(x_data, (-1,WINDOW_SIZE-1, 45))\n",
        "y_data = np.reshape(y_data, (-1, 45))\n",
        "print(f'x_data.shape: {x_data.shape}, y_data.shape: {y_data.shape}')"
      ],
      "id": "ZN5wBU3NcHnn",
      "execution_count": 16,
      "outputs": [
        {
          "output_type": "stream",
          "name": "stdout",
          "text": [
            "x_data.shape: (971, 7, 45), y_data.shape: (971, 45)\n"
          ]
        }
      ]
    },
    {
      "cell_type": "code",
      "metadata": {
        "id": "H-yKR7ngkWki"
      },
      "source": [
        "# x_data = tf.constant(x_data)\n",
        "# y_data = tf.constant(y_data)"
      ],
      "id": "H-yKR7ngkWki",
      "execution_count": 17,
      "outputs": []
    },
    {
      "cell_type": "code",
      "metadata": {
        "id": "anNGpgVkfL1m"
      },
      "source": [
        "# 데이터셋 분리\n",
        "train_idx = (0, 800)\n",
        "valid_idx = (801, 900)\n",
        "test_idx = (900, len(y_data))\n",
        "\n",
        "x_train = x_data[train_idx[0]:train_idx[1]]\n",
        "y_train = y_data[train_idx[0]:train_idx[1]]\n",
        "x_val = x_data[valid_idx[0]:valid_idx[1]]\n",
        "y_val = y_data[valid_idx[0]:valid_idx[1]]\n",
        "x_test = x_data[test_idx[0]:test_idx[1]]\n",
        "y_test = y_data[test_idx[0]:test_idx[1]]\n",
        "\n",
        "\n",
        "bonus_train = bonus_number[train_idx[0]:train_idx[1]]\n",
        "bonus_val = bonus_number[valid_idx[0]:valid_idx[1]]\n",
        "bonus_test = bonus_number[test_idx[0]:test_idx[1]]"
      ],
      "id": "anNGpgVkfL1m",
      "execution_count": 18,
      "outputs": []
    },
    {
      "cell_type": "code",
      "metadata": {
        "id": "aCrJzNKXg80K",
        "colab": {
          "base_uri": "https://localhost:8080/"
        },
        "outputId": "47e8ae53-904a-4e17-e4ae-fd70f92d6be3"
      },
      "source": [
        "x_train[1,1,:]"
      ],
      "id": "aCrJzNKXg80K",
      "execution_count": 19,
      "outputs": [
        {
          "output_type": "execute_result",
          "data": {
            "text/plain": [
              "array([0., 0., 0., 0., 0., 0., 0., 0., 0., 0., 1., 0., 0., 0., 0., 1., 0.,\n",
              "       0., 1., 0., 1., 0., 0., 0., 0., 0., 1., 0., 0., 0., 1., 0., 0., 0.,\n",
              "       0., 0., 0., 0., 0., 0., 0., 0., 0., 0., 0.])"
            ]
          },
          "metadata": {},
          "execution_count": 19
        }
      ]
    },
    {
      "cell_type": "code",
      "metadata": {
        "id": "YZe1ohcksdVn",
        "colab": {
          "base_uri": "https://localhost:8080/"
        },
        "outputId": "566467ee-88e9-4cfd-bd10-77de14a183e7"
      },
      "source": [
        "y_train[0,:]"
      ],
      "id": "YZe1ohcksdVn",
      "execution_count": 20,
      "outputs": [
        {
          "output_type": "execute_result",
          "data": {
            "text/plain": [
              "array([0., 1., 0., 1., 0., 0., 0., 0., 0., 0., 0., 0., 0., 0., 0., 1., 1.,\n",
              "       0., 0., 0., 0., 0., 0., 0., 0., 0., 0., 0., 0., 0., 0., 0., 0., 0.,\n",
              "       0., 1., 0., 0., 1., 0., 0., 0., 0., 0., 0.])"
            ]
          },
          "metadata": {},
          "execution_count": 20
        }
      ]
    },
    {
      "cell_type": "code",
      "metadata": {
        "id": "qygEYZDymjzg"
      },
      "source": [
        "# LSTM 모델 생성\n",
        "\n",
        "import tensorflow as tf\n",
        "from tensorflow import keras\n",
        "from tensorflow.keras import layers\n",
        "from tensorflow.keras import models\n",
        "\n",
        "rnn_units = 7\n",
        "\n",
        "# 모델을 정의합니다.\n",
        "model = keras.Sequential([              \n",
        "    # keras.layers.LSTM(rnn_units, batch_input_shape=(None, 7, 45), return_sequences=False),\n",
        "    keras.layers.LSTM(rnn_units, batch_input_shape=(None, 7, 45), return_sequences=True),\n",
        "    keras.layers.LSTM(rnn_units, return_sequences=True),\n",
        "    keras.layers.LSTM(rnn_units, return_sequences=False),\n",
        "    keras.layers.Dense(45, activation='relu')\n",
        "])\n",
        "\n",
        "# 모델을 컴파일합니다.\n",
        "model.compile(loss='binary_crossentropy', optimizer='adam', metrics=['accuracy'])"
      ],
      "id": "qygEYZDymjzg",
      "execution_count": 21,
      "outputs": []
    },
    {
      "cell_type": "code",
      "metadata": {
        "id": "30BaMybfCn2N"
      },
      "source": [
        "import os\n",
        "import time\n",
        "\n",
        "# 체크포인트가 저장될 디렉토리\n",
        "checkpoint_dir = './training_checkpoints'\n",
        "# 체크포인트 파일 이름\n",
        "checkpoint_prefix = os.path.join(checkpoint_dir, \"ckpt_{epoch}\")\n",
        "\n",
        "checkpoint_callback=tf.keras.callbacks.ModelCheckpoint(\n",
        "    filepath=checkpoint_prefix,\n",
        "    save_weights_only=True)"
      ],
      "id": "30BaMybfCn2N",
      "execution_count": 22,
      "outputs": []
    },
    {
      "cell_type": "code",
      "metadata": {
        "id": "uHMJBB6LkUSM"
      },
      "source": [
        "EPOCHS = 1000\n",
        "history = model.fit(x_train, \n",
        "                    y_train, \n",
        "                    epochs=EPOCHS, \n",
        "                    batch_size = 1, \n",
        "                    validation_data=(x_val, y_val),\n",
        "                    verbose=0, \n",
        "                    callbacks=[checkpoint_callback])"
      ],
      "id": "uHMJBB6LkUSM",
      "execution_count": null,
      "outputs": []
    },
    {
      "cell_type": "code",
      "metadata": {
        "id": "S1xFmiJ68HzA"
      },
      "source": [
        "%matplotlib inline\n",
        "import matplotlib.pyplot as plt\n",
        "\n",
        "fig, loss_ax = plt.subplots()\n",
        "plt.figure(figsize=(20,20))\n",
        "\n",
        "acc_ax = loss_ax.twinx()\n",
        "\n",
        "loss_ax.plot(history.history['loss'], 'y', label='train loss')\n",
        "loss_ax.plot(history.history['val_loss'], 'r', label='val loss')\n",
        "\n",
        "acc_ax.plot(history.history['accuracy'], 'b', label='train acc')\n",
        "acc_ax.plot(history.history['val_accuracy'], 'g', label='val acc')\n",
        "\n",
        "loss_ax.set_xlabel('epoch')\n",
        "loss_ax.set_ylabel('loss')\n",
        "acc_ax.set_ylabel('accuray')\n",
        "\n",
        "loss_ax.legend(loc='upper left')\n",
        "acc_ax.legend(loc='lower left')\n",
        "\n",
        "plt.show()"
      ],
      "id": "S1xFmiJ68HzA",
      "execution_count": null,
      "outputs": []
    },
    {
      "cell_type": "code",
      "metadata": {
        "id": "9SInA0r76PLC"
      },
      "source": [
        "# 88 회부터 현재까지 1등부터 5등까지 상금 평균\n",
        "mean_prize = [df_lot['1등당첨금액'].iloc[87:].mean(), \n",
        "              df_lot['2등당첨금액'].iloc[87:].mean(), \n",
        "              df_lot['3등당첨금액'].iloc[87:].mean(), \n",
        "              df_lot['4등당첨금액'].iloc[87:].mean(), \n",
        "              df_lot['5등당첨금액'].iloc[87:].mean()]\n",
        "print(mean_prize)"
      ],
      "id": "9SInA0r76PLC",
      "execution_count": null,
      "outputs": []
    },
    {
      "cell_type": "code",
      "metadata": {
        "id": "y7BKAsUF6kmL"
      },
      "source": [
        "# 등수와 상금을 반환함\n",
        "# 순위에 오르지 못한 경우에는 등수가 0으로 반환함\n",
        "def calc_reward(true_numbers, true_bonus, pred_numbers):\n",
        "\n",
        "    count = 0\n",
        "\n",
        "    for ps in pred_numbers:\n",
        "        if ps in true_numbers:\n",
        "            count += 1\n",
        "\n",
        "    if count == 6:\n",
        "        return 0, mean_prize[0]\n",
        "    elif count == 5 and true_bonus in pred_numbers:\n",
        "        return 1, mean_prize[1]\n",
        "    elif count == 5:\n",
        "        return 2, mean_prize[2]\n",
        "    elif count == 4:\n",
        "        return 3, mean_prize[3]\n",
        "    elif count == 3:\n",
        "        return 4, mean_prize[4]\n",
        "\n",
        "    return 5, 0"
      ],
      "id": "y7BKAsUF6kmL",
      "execution_count": null,
      "outputs": []
    },
    {
      "cell_type": "code",
      "metadata": {
        "id": "x6P7BLA7BfOb"
      },
      "source": [
        "def gen_numbers_from_probability(nums_prob):\n",
        "\n",
        "    ball_box = []\n",
        "\n",
        "    for n in range(45):\n",
        "        ball_count = int(nums_prob[n] * 100 + 1)\n",
        "        ball = np.full((ball_count), n+1) #1부터 시작\n",
        "        ball_box += list(ball)\n",
        "\n",
        "    selected_balls = []\n",
        "\n",
        "    while True:\n",
        "        \n",
        "        if len(selected_balls) == 6:\n",
        "            break\n",
        "        \n",
        "        ball_index = np.random.randint(len(ball_box), size=1)[0]\n",
        "        ball = ball_box[ball_index]\n",
        "\n",
        "        if ball not in selected_balls:\n",
        "            selected_balls.append(ball)\n",
        "\n",
        "    return selected_balls"
      ],
      "id": "x6P7BLA7BfOb",
      "execution_count": null,
      "outputs": []
    },
    {
      "cell_type": "code",
      "metadata": {
        "id": "iJrCvwQzZbiK"
      },
      "source": [
        "def calc_reward_from_dataset(one_hot_true_numbers, true_bonuses, one_hot_pred_numbers):\n",
        "  rewards = []\n",
        "  grades = np.zeros(6, dtype=int)\n",
        "\n",
        "  for i, pn in enumerate(one_hot_pred_numbers):\n",
        "    true_numbers = onehot2lotto(one_hot_true_numbers[i])\n",
        "    true_bonus = true_bonuses[i]\n",
        "\n",
        "    pred_numbers = get_lotto_from_predicted_number(one_hot_pred_numbers[i])\n",
        "    grade, sum_reward = calc_reward(true_numbers, true_bonus, pred_numbers)\n",
        "    grades[grade] += 1\n",
        "  \n",
        "    # sum_reward = 0\n",
        "    # for j in range(10): # 10판 수행\n",
        "    #   pred_numbers = gen_numbers_from_probability(one_hot_pred_numbers[i])\n",
        "    #   grade, reward = calc_reward(true_numbers, true_bonus, pred_numbers)\n",
        "    #   sum_reward += reward\n",
        "    #   grades[grade] += 1\n",
        "  \n",
        "    rewards.append(sum_reward)\n",
        "\n",
        "  return grades, rewards"
      ],
      "id": "iJrCvwQzZbiK",
      "execution_count": null,
      "outputs": []
    },
    {
      "cell_type": "code",
      "metadata": {
        "id": "ql7qrPvUoulf"
      },
      "source": [
        "def get_lotto_from_predicted_number(pred_lotto):\n",
        "  lotto = []\n",
        "  for i in range(6):\n",
        "    lotto.append(np.argmax(pred_lotto)+1)\n",
        "    pred_lotto[np.argmax(pred_lotto)] = 0 # reset\n",
        "\n",
        "  return np.array(sorted(lotto))"
      ],
      "id": "ql7qrPvUoulf",
      "execution_count": null,
      "outputs": []
    },
    {
      "cell_type": "code",
      "metadata": {
        "id": "-EIPucie7cdg"
      },
      "source": [
        "# train, valid, test 데이터로  predict 하여 reward 성능치 확인해보자\n",
        "y_total_pred =  model.predict(x_data)\n",
        "total_grades, total_rewards = calc_reward_from_dataset(y_data, bonus_number, y_total_pred)\n",
        "\n",
        "print('1st  2nd  3rd  4th  5th  6th  Rewards')\n",
        "print('[{0:4d}] {1:3d} {2:3d} {3:3d} {4:3d} {5:3d} {6:3d}'.format(total_grades[0], total_grades[1], total_grades[2], total_grades[3], total_grades[4], total_grades[5], int(np.sum(total_rewards))))\n"
      ],
      "id": "-EIPucie7cdg",
      "execution_count": null,
      "outputs": []
    },
    {
      "cell_type": "code",
      "metadata": {
        "id": "ZS--XrVoEcSa"
      },
      "source": [
        "y_train_pred = model.predict(x_train)\n",
        "train_grades, train_rewards = calc_reward_from_dataset(y_train, bonus_train, y_train_pred)\n",
        "print('1st  2nd  3rd  4th  5th  6th  Rewards')\n",
        "print('[{0:4d}] {1:3d} {2:3d} {3:3d} {4:3d} {5:3d} {6:3d}'.format(train_grades[0], train_grades[1], train_grades[2], train_grades[3], train_grades[4], train_grades[5], int(np.sum(train_rewards))))\n"
      ],
      "id": "ZS--XrVoEcSa",
      "execution_count": null,
      "outputs": []
    },
    {
      "cell_type": "code",
      "metadata": {
        "id": "C5xvPminEcDa"
      },
      "source": [
        "y_val_pred = model.predict(x_val)\n",
        "val_grades, val_rewards = calc_reward_from_dataset(y_val, bonus_val, y_val_pred)\n",
        "\n",
        "print('1st  2nd  3rd  4th  5th  6th  Rewards')\n",
        "print('[{0:4d}] {1:3d} {2:3d} {3:3d} {4:3d} {5:3d} {6:3d}'.format(val_grades[0], val_grades[1], val_grades[2], val_grades[3], val_grades[4], val_grades[5], int(np.sum(val_rewards))))\n"
      ],
      "id": "C5xvPminEcDa",
      "execution_count": null,
      "outputs": []
    },
    {
      "cell_type": "code",
      "metadata": {
        "id": "Pv0TdZpIEbyX"
      },
      "source": [
        "y_test_pred = model.predict(x_test)\n",
        "test_grades, test_rewards = calc_reward_from_dataset(y_test, bonus_test, y_test_pred)\n",
        "\n",
        "print('1st  2nd  3rd  4th  5th  6th  Rewards')\n",
        "print('[{0:4d}] {1:3d} {2:3d} {3:3d} {4:3d} {5:3d} {6:3d}'.format(test_grades[0], test_grades[1], test_grades[2], test_grades[3], test_grades[4], test_grades[5], int(np.sum(test_rewards))))"
      ],
      "id": "Pv0TdZpIEbyX",
      "execution_count": null,
      "outputs": []
    },
    {
      "cell_type": "code",
      "metadata": {
        "id": "y0kmqZyIv8d0"
      },
      "source": [
        "%matplotlib inline\n",
        "import matplotlib.pyplot as plt\n",
        "\n",
        "total_reward = train_rewards + val_rewards + test_rewards\n",
        "\n",
        "plt.plot(total_reward)\n",
        "plt.ylabel('rewards')\n",
        "plt.show()"
      ],
      "id": "y0kmqZyIv8d0",
      "execution_count": null,
      "outputs": []
    },
    {
      "cell_type": "code",
      "metadata": {
        "id": "q_-KqWMGJKwd"
      },
      "source": [
        "%matplotlib inline\n",
        "import matplotlib.pyplot as plt\n",
        "from matplotlib.ticker import MaxNLocator\n",
        "\n",
        "ax = plt.figure().gca()\n",
        "ax.xaxis.set_major_locator(MaxNLocator(integer=True))\n",
        "\n",
        "rewards = [sum(train_rewards), sum(val_rewards), sum(test_rewards)]\n",
        "\n",
        "class_color=['green', 'blue', 'red']\n",
        "\n",
        "plt.bar(['train', 'val', 'test'], rewards, color=class_color)\n",
        "plt.ylabel('rewards')\n",
        "plt.show()"
      ],
      "id": "q_-KqWMGJKwd",
      "execution_count": null,
      "outputs": []
    },
    {
      "cell_type": "code",
      "metadata": {
        "id": "vQTSx9Mxs3Vn"
      },
      "source": [
        "previous_lotto = np.reshape(x_data[-1,:,:], (1, 7, 45))"
      ],
      "id": "vQTSx9Mxs3Vn",
      "execution_count": null,
      "outputs": []
    },
    {
      "cell_type": "code",
      "metadata": {
        "id": "Wv_Gp3frs3IY"
      },
      "source": [
        "pred_lotto = model.predict(previous_lotto)"
      ],
      "id": "Wv_Gp3frs3IY",
      "execution_count": null,
      "outputs": []
    },
    {
      "cell_type": "code",
      "metadata": {
        "id": "roObGgbztRve"
      },
      "source": [
        "pred_lotto[0]"
      ],
      "id": "roObGgbztRve",
      "execution_count": null,
      "outputs": []
    },
    {
      "cell_type": "code",
      "metadata": {
        "id": "8jVubJuus_PA"
      },
      "source": [
        "get_lotto_from_predicted_number(pred_lotto[0])"
      ],
      "id": "8jVubJuus_PA",
      "execution_count": null,
      "outputs": []
    },
    {
      "cell_type": "code",
      "metadata": {
        "id": "M6r2XwPMtGx3"
      },
      "source": [
        "onehot2lotto(y_train[-1,:])"
      ],
      "id": "M6r2XwPMtGx3",
      "execution_count": null,
      "outputs": []
    },
    {
      "cell_type": "code",
      "metadata": {
        "id": "5eC8P6R1IioO"
      },
      "source": [
        ""
      ],
      "id": "5eC8P6R1IioO",
      "execution_count": null,
      "outputs": []
    }
  ]
}