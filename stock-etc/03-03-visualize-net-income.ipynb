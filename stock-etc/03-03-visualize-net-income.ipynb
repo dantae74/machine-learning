{
  "nbformat": 4,
  "nbformat_minor": 5,
  "metadata": {
    "colab": {
      "name": "03-03-visualize-net-incomet.ipynb",
      "provenance": [],
      "include_colab_link": true
    },
    "language_info": {
      "name": "python"
    },
    "kernelspec": {
      "name": "python3",
      "display_name": "Python 3"
    }
  },
  "cells": [
    {
      "cell_type": "markdown",
      "metadata": {
        "id": "view-in-github",
        "colab_type": "text"
      },
      "source": [
        "<a href=\"https://colab.research.google.com/github/dantae74/machine-learning/blob/main/stock-etc/03-03-visualize-net-income.ipynb\" target=\"_parent\"><img src=\"https://colab.research.google.com/assets/colab-badge.svg\" alt=\"Open In Colab\"/></a>"
      ]
    },
    {
      "cell_type": "markdown",
      "metadata": {
        "id": "WfgQSbgOoe-2"
      },
      "source": [
        "## DART 사이트에서 (삼성전자: 005930) 기업 공시 정보 가져오기 \n",
        "1999-01-01부터 현재까지 분기/반기 보고서 가져와서 로컬 디렉토리에 csv로 저장하기"
      ],
      "id": "WfgQSbgOoe-2"
    },
    {
      "cell_type": "code",
      "metadata": {
        "id": "RK3QTbWDofS7"
      },
      "source": [
        "import requests\n",
        "from io import BytesIO\n",
        "import pandas as pd\n",
        "import re"
      ],
      "id": "RK3QTbWDofS7",
      "execution_count": 48,
      "outputs": []
    },
    {
      "cell_type": "code",
      "metadata": {
        "id": "Q71ALk2klOwe"
      },
      "source": [
        "crtfc_key = \"\"\n",
        "# with open('./sample_data/my_data.txt', 'r') as f:\n",
        "#   crtfc_key = f.readline()\n",
        "  # print(crtfc_key)"
      ],
      "id": "Q71ALk2klOwe",
      "execution_count": 2,
      "outputs": []
    },
    {
      "cell_type": "code",
      "metadata": {
        "id": "CtWWN3FNfFD0"
      },
      "source": [
        "user_agent = \"Mozilla/5.0 (Macintosh; Intel Mac OS X 10_15_7) AppleWebKit/537.36 (KHTML, like Gecko) Chrome/90.0.4430.212 Safari/537.36\""
      ],
      "id": "CtWWN3FNfFD0",
      "execution_count": 3,
      "outputs": []
    },
    {
      "cell_type": "code",
      "metadata": {
        "id": "rYaAHzkRpAnn"
      },
      "source": [
        "from datetime import datetime\n",
        "now = datetime.today().strftime('%Y%m%d')"
      ],
      "id": "rYaAHzkRpAnn",
      "execution_count": 4,
      "outputs": []
    },
    {
      "cell_type": "code",
      "metadata": {
        "id": "kJP0yw1eoMS4"
      },
      "source": [
        "corp_code = '005930' # 삼성전자"
      ],
      "id": "kJP0yw1eoMS4",
      "execution_count": 5,
      "outputs": []
    },
    {
      "cell_type": "code",
      "metadata": {
        "id": "C7Z9U4U-nfZI"
      },
      "source": [
        "def make_api_url(corp_code, bgn_de='19990101', end_de=now, pblntf_ty='A', pblntf_detail_ty=['A001','A002','A003'], page_count='100'):\n",
        "\n",
        "  for i, code in enumerate(pblntf_detail_ty):\n",
        "    pblntf_detail_ty[i] = 'pblntf_detail_ty=' + code\n",
        "    if i != (len(pblntf_detail_ty)-1): pblntf_detail_ty[i] += '&'\n",
        "  pblntf_detail_ty = \"\".join(pblntf_detail_ty)\n",
        "\n",
        "  url = \"https://opendart.fss.or.kr/api/list.json?crtfc_key={crtfc_key}&corp_code={corp_code}&bgn_de={bgn_de}&end_de={end_de}&pblntf_ty={pblntf_ty}&{pblntf_detail_ty}&page_count={page_count}\".format(\\\n",
        "                                                              crtfc_key=crtfc_key,corp_code=corp_code,bgn_de=bgn_de,end_de=end_de,pblntf_ty=pblntf_ty,pblntf_detail_ty=pblntf_detail_ty,page_count=page_count)\n",
        "  return url"
      ],
      "id": "C7Z9U4U-nfZI",
      "execution_count": 6,
      "outputs": []
    },
    {
      "cell_type": "code",
      "metadata": {
        "id": "_C5afApssEJn"
      },
      "source": [
        "url = make_api_url(corp_code)\n",
        "# print(url)"
      ],
      "id": "_C5afApssEJn",
      "execution_count": 7,
      "outputs": []
    },
    {
      "cell_type": "code",
      "metadata": {
        "id": "alQS6DOCyNi0"
      },
      "source": [
        "response = requests.get(url, headers={\"user-agent\":user_agent})"
      ],
      "id": "alQS6DOCyNi0",
      "execution_count": 8,
      "outputs": []
    },
    {
      "cell_type": "code",
      "metadata": {
        "id": "zCL_0zvf1Eub",
        "outputId": "92abc30c-1a82-46e9-93ff-36c1ed7bc923",
        "colab": {
          "base_uri": "https://localhost:8080/",
          "height": 407
        }
      },
      "source": [
        "df_resp = pd.read_json(response.content)\n",
        "df_resp"
      ],
      "id": "zCL_0zvf1Eub",
      "execution_count": 9,
      "outputs": [
        {
          "output_type": "execute_result",
          "data": {
            "text/html": [
              "<div>\n",
              "<style scoped>\n",
              "    .dataframe tbody tr th:only-of-type {\n",
              "        vertical-align: middle;\n",
              "    }\n",
              "\n",
              "    .dataframe tbody tr th {\n",
              "        vertical-align: top;\n",
              "    }\n",
              "\n",
              "    .dataframe thead th {\n",
              "        text-align: right;\n",
              "    }\n",
              "</style>\n",
              "<table border=\"1\" class=\"dataframe\">\n",
              "  <thead>\n",
              "    <tr style=\"text-align: right;\">\n",
              "      <th></th>\n",
              "      <th>status</th>\n",
              "      <th>message</th>\n",
              "      <th>page_no</th>\n",
              "      <th>page_count</th>\n",
              "      <th>total_count</th>\n",
              "      <th>total_page</th>\n",
              "      <th>list</th>\n",
              "    </tr>\n",
              "  </thead>\n",
              "  <tbody>\n",
              "    <tr>\n",
              "      <th>0</th>\n",
              "      <td>0</td>\n",
              "      <td>정상</td>\n",
              "      <td>1</td>\n",
              "      <td>100</td>\n",
              "      <td>93</td>\n",
              "      <td>1</td>\n",
              "      <td>{'corp_code': '00126380', 'corp_name': '삼성전자',...</td>\n",
              "    </tr>\n",
              "    <tr>\n",
              "      <th>1</th>\n",
              "      <td>0</td>\n",
              "      <td>정상</td>\n",
              "      <td>1</td>\n",
              "      <td>100</td>\n",
              "      <td>93</td>\n",
              "      <td>1</td>\n",
              "      <td>{'corp_code': '00126380', 'corp_name': '삼성전자',...</td>\n",
              "    </tr>\n",
              "    <tr>\n",
              "      <th>2</th>\n",
              "      <td>0</td>\n",
              "      <td>정상</td>\n",
              "      <td>1</td>\n",
              "      <td>100</td>\n",
              "      <td>93</td>\n",
              "      <td>1</td>\n",
              "      <td>{'corp_code': '00126380', 'corp_name': '삼성전자',...</td>\n",
              "    </tr>\n",
              "    <tr>\n",
              "      <th>3</th>\n",
              "      <td>0</td>\n",
              "      <td>정상</td>\n",
              "      <td>1</td>\n",
              "      <td>100</td>\n",
              "      <td>93</td>\n",
              "      <td>1</td>\n",
              "      <td>{'corp_code': '00126380', 'corp_name': '삼성전자',...</td>\n",
              "    </tr>\n",
              "    <tr>\n",
              "      <th>4</th>\n",
              "      <td>0</td>\n",
              "      <td>정상</td>\n",
              "      <td>1</td>\n",
              "      <td>100</td>\n",
              "      <td>93</td>\n",
              "      <td>1</td>\n",
              "      <td>{'corp_code': '00126380', 'corp_name': '삼성전자',...</td>\n",
              "    </tr>\n",
              "    <tr>\n",
              "      <th>...</th>\n",
              "      <td>...</td>\n",
              "      <td>...</td>\n",
              "      <td>...</td>\n",
              "      <td>...</td>\n",
              "      <td>...</td>\n",
              "      <td>...</td>\n",
              "      <td>...</td>\n",
              "    </tr>\n",
              "    <tr>\n",
              "      <th>88</th>\n",
              "      <td>0</td>\n",
              "      <td>정상</td>\n",
              "      <td>1</td>\n",
              "      <td>100</td>\n",
              "      <td>93</td>\n",
              "      <td>1</td>\n",
              "      <td>{'corp_code': '00126380', 'corp_name': '삼성전자',...</td>\n",
              "    </tr>\n",
              "    <tr>\n",
              "      <th>89</th>\n",
              "      <td>0</td>\n",
              "      <td>정상</td>\n",
              "      <td>1</td>\n",
              "      <td>100</td>\n",
              "      <td>93</td>\n",
              "      <td>1</td>\n",
              "      <td>{'corp_code': '00126380', 'corp_name': '삼성전자',...</td>\n",
              "    </tr>\n",
              "    <tr>\n",
              "      <th>90</th>\n",
              "      <td>0</td>\n",
              "      <td>정상</td>\n",
              "      <td>1</td>\n",
              "      <td>100</td>\n",
              "      <td>93</td>\n",
              "      <td>1</td>\n",
              "      <td>{'corp_code': '00126380', 'corp_name': '삼성전자',...</td>\n",
              "    </tr>\n",
              "    <tr>\n",
              "      <th>91</th>\n",
              "      <td>0</td>\n",
              "      <td>정상</td>\n",
              "      <td>1</td>\n",
              "      <td>100</td>\n",
              "      <td>93</td>\n",
              "      <td>1</td>\n",
              "      <td>{'corp_code': '00126380', 'corp_name': '삼성전자',...</td>\n",
              "    </tr>\n",
              "    <tr>\n",
              "      <th>92</th>\n",
              "      <td>0</td>\n",
              "      <td>정상</td>\n",
              "      <td>1</td>\n",
              "      <td>100</td>\n",
              "      <td>93</td>\n",
              "      <td>1</td>\n",
              "      <td>{'corp_code': '00126380', 'corp_name': '삼성전자',...</td>\n",
              "    </tr>\n",
              "  </tbody>\n",
              "</table>\n",
              "<p>93 rows × 7 columns</p>\n",
              "</div>"
            ],
            "text/plain": [
              "    status  ...                                               list\n",
              "0        0  ...  {'corp_code': '00126380', 'corp_name': '삼성전자',...\n",
              "1        0  ...  {'corp_code': '00126380', 'corp_name': '삼성전자',...\n",
              "2        0  ...  {'corp_code': '00126380', 'corp_name': '삼성전자',...\n",
              "3        0  ...  {'corp_code': '00126380', 'corp_name': '삼성전자',...\n",
              "4        0  ...  {'corp_code': '00126380', 'corp_name': '삼성전자',...\n",
              "..     ...  ...                                                ...\n",
              "88       0  ...  {'corp_code': '00126380', 'corp_name': '삼성전자',...\n",
              "89       0  ...  {'corp_code': '00126380', 'corp_name': '삼성전자',...\n",
              "90       0  ...  {'corp_code': '00126380', 'corp_name': '삼성전자',...\n",
              "91       0  ...  {'corp_code': '00126380', 'corp_name': '삼성전자',...\n",
              "92       0  ...  {'corp_code': '00126380', 'corp_name': '삼성전자',...\n",
              "\n",
              "[93 rows x 7 columns]"
            ]
          },
          "metadata": {
            "tags": []
          },
          "execution_count": 9
        }
      ]
    },
    {
      "cell_type": "code",
      "metadata": {
        "id": "FNaqt38ffegC",
        "outputId": "f5144e90-d4b9-4c8a-fc66-6bd70882f13d",
        "colab": {
          "base_uri": "https://localhost:8080/",
          "height": 407
        }
      },
      "source": [
        "list_resp = df_resp['list'].tolist()\n",
        "df = pd.DataFrame.from_records(list_resp)\n",
        "df"
      ],
      "id": "FNaqt38ffegC",
      "execution_count": 10,
      "outputs": [
        {
          "output_type": "execute_result",
          "data": {
            "text/html": [
              "<div>\n",
              "<style scoped>\n",
              "    .dataframe tbody tr th:only-of-type {\n",
              "        vertical-align: middle;\n",
              "    }\n",
              "\n",
              "    .dataframe tbody tr th {\n",
              "        vertical-align: top;\n",
              "    }\n",
              "\n",
              "    .dataframe thead th {\n",
              "        text-align: right;\n",
              "    }\n",
              "</style>\n",
              "<table border=\"1\" class=\"dataframe\">\n",
              "  <thead>\n",
              "    <tr style=\"text-align: right;\">\n",
              "      <th></th>\n",
              "      <th>corp_code</th>\n",
              "      <th>corp_name</th>\n",
              "      <th>stock_code</th>\n",
              "      <th>corp_cls</th>\n",
              "      <th>report_nm</th>\n",
              "      <th>rcept_no</th>\n",
              "      <th>flr_nm</th>\n",
              "      <th>rcept_dt</th>\n",
              "      <th>rm</th>\n",
              "    </tr>\n",
              "  </thead>\n",
              "  <tbody>\n",
              "    <tr>\n",
              "      <th>0</th>\n",
              "      <td>00126380</td>\n",
              "      <td>삼성전자</td>\n",
              "      <td>005930</td>\n",
              "      <td>Y</td>\n",
              "      <td>분기보고서 (2021.03)</td>\n",
              "      <td>20210517001185</td>\n",
              "      <td>삼성전자</td>\n",
              "      <td>20210517</td>\n",
              "      <td></td>\n",
              "    </tr>\n",
              "    <tr>\n",
              "      <th>1</th>\n",
              "      <td>00126380</td>\n",
              "      <td>삼성전자</td>\n",
              "      <td>005930</td>\n",
              "      <td>Y</td>\n",
              "      <td>사업보고서 (2020.12)</td>\n",
              "      <td>20210309000744</td>\n",
              "      <td>삼성전자</td>\n",
              "      <td>20210309</td>\n",
              "      <td>연</td>\n",
              "    </tr>\n",
              "    <tr>\n",
              "      <th>2</th>\n",
              "      <td>00126380</td>\n",
              "      <td>삼성전자</td>\n",
              "      <td>005930</td>\n",
              "      <td>Y</td>\n",
              "      <td>분기보고서 (2020.09)</td>\n",
              "      <td>20201116001248</td>\n",
              "      <td>삼성전자</td>\n",
              "      <td>20201116</td>\n",
              "      <td></td>\n",
              "    </tr>\n",
              "    <tr>\n",
              "      <th>3</th>\n",
              "      <td>00126380</td>\n",
              "      <td>삼성전자</td>\n",
              "      <td>005930</td>\n",
              "      <td>Y</td>\n",
              "      <td>반기보고서 (2020.06)</td>\n",
              "      <td>20200814001766</td>\n",
              "      <td>삼성전자</td>\n",
              "      <td>20200814</td>\n",
              "      <td></td>\n",
              "    </tr>\n",
              "    <tr>\n",
              "      <th>4</th>\n",
              "      <td>00126380</td>\n",
              "      <td>삼성전자</td>\n",
              "      <td>005930</td>\n",
              "      <td>Y</td>\n",
              "      <td>분기보고서 (2020.03)</td>\n",
              "      <td>20200515001451</td>\n",
              "      <td>삼성전자</td>\n",
              "      <td>20200515</td>\n",
              "      <td></td>\n",
              "    </tr>\n",
              "    <tr>\n",
              "      <th>...</th>\n",
              "      <td>...</td>\n",
              "      <td>...</td>\n",
              "      <td>...</td>\n",
              "      <td>...</td>\n",
              "      <td>...</td>\n",
              "      <td>...</td>\n",
              "      <td>...</td>\n",
              "      <td>...</td>\n",
              "      <td>...</td>\n",
              "    </tr>\n",
              "    <tr>\n",
              "      <th>88</th>\n",
              "      <td>00126380</td>\n",
              "      <td>삼성전자</td>\n",
              "      <td>005930</td>\n",
              "      <td>Y</td>\n",
              "      <td>분기보고서 (2000.03)</td>\n",
              "      <td>20000515000739</td>\n",
              "      <td>삼성전자</td>\n",
              "      <td>20000515</td>\n",
              "      <td></td>\n",
              "    </tr>\n",
              "    <tr>\n",
              "      <th>89</th>\n",
              "      <td>00126380</td>\n",
              "      <td>삼성전자</td>\n",
              "      <td>005930</td>\n",
              "      <td>Y</td>\n",
              "      <td>[기재정정]반기보고서 (1999.06)</td>\n",
              "      <td>19990824000003</td>\n",
              "      <td>삼성전자</td>\n",
              "      <td>19990824</td>\n",
              "      <td></td>\n",
              "    </tr>\n",
              "    <tr>\n",
              "      <th>90</th>\n",
              "      <td>00126380</td>\n",
              "      <td>삼성전자</td>\n",
              "      <td>005930</td>\n",
              "      <td>Y</td>\n",
              "      <td>반기보고서 (1999.06)</td>\n",
              "      <td>19990814000182</td>\n",
              "      <td>삼성전자</td>\n",
              "      <td>19990814</td>\n",
              "      <td>정</td>\n",
              "    </tr>\n",
              "    <tr>\n",
              "      <th>91</th>\n",
              "      <td>00126380</td>\n",
              "      <td>삼성전자</td>\n",
              "      <td>005930</td>\n",
              "      <td>Y</td>\n",
              "      <td>[기재정정]사업보고서 (1998.12)</td>\n",
              "      <td>19990626000007</td>\n",
              "      <td>삼성전자</td>\n",
              "      <td>19990626</td>\n",
              "      <td>연</td>\n",
              "    </tr>\n",
              "    <tr>\n",
              "      <th>92</th>\n",
              "      <td>00126380</td>\n",
              "      <td>삼성전자</td>\n",
              "      <td>005930</td>\n",
              "      <td>Y</td>\n",
              "      <td>사업보고서 (1998.12)</td>\n",
              "      <td>19990403000009</td>\n",
              "      <td>삼성전자</td>\n",
              "      <td>19990403</td>\n",
              "      <td>정연</td>\n",
              "    </tr>\n",
              "  </tbody>\n",
              "</table>\n",
              "<p>93 rows × 9 columns</p>\n",
              "</div>"
            ],
            "text/plain": [
              "   corp_code corp_name stock_code corp_cls  ...        rcept_no flr_nm  rcept_dt  rm\n",
              "0   00126380      삼성전자     005930        Y  ...  20210517001185   삼성전자  20210517    \n",
              "1   00126380      삼성전자     005930        Y  ...  20210309000744   삼성전자  20210309   연\n",
              "2   00126380      삼성전자     005930        Y  ...  20201116001248   삼성전자  20201116    \n",
              "3   00126380      삼성전자     005930        Y  ...  20200814001766   삼성전자  20200814    \n",
              "4   00126380      삼성전자     005930        Y  ...  20200515001451   삼성전자  20200515    \n",
              "..       ...       ...        ...      ...  ...             ...    ...       ...  ..\n",
              "88  00126380      삼성전자     005930        Y  ...  20000515000739   삼성전자  20000515    \n",
              "89  00126380      삼성전자     005930        Y  ...  19990824000003   삼성전자  19990824    \n",
              "90  00126380      삼성전자     005930        Y  ...  19990814000182   삼성전자  19990814   정\n",
              "91  00126380      삼성전자     005930        Y  ...  19990626000007   삼성전자  19990626   연\n",
              "92  00126380      삼성전자     005930        Y  ...  19990403000009   삼성전자  19990403  정연\n",
              "\n",
              "[93 rows x 9 columns]"
            ]
          },
          "metadata": {
            "tags": []
          },
          "execution_count": 10
        }
      ]
    },
    {
      "cell_type": "code",
      "metadata": {
        "id": "qecnF_IYparl"
      },
      "source": [
        "report_nms = df['report_nm'].tolist()[:10]\n",
        "rcept_nos = df['rcept_no'].tolist()[:10]"
      ],
      "id": "qecnF_IYparl",
      "execution_count": 11,
      "outputs": []
    },
    {
      "cell_type": "code",
      "metadata": {
        "id": "UoHszLAyGfGe"
      },
      "source": [
        "\"\"\" match text between two strings with regular-expression\n",
        " >>> s = 'Part 1. Part 2. Part 3 then more text'\n",
        " >>> re.search(r'Part 1\\.(.*?)Part 3', s).group(1)\n",
        " ' Part 2. '\n",
        "\"\"\"\n",
        "\n",
        "dcm_nos = []\n",
        "for rcept_no in rcept_nos:\n",
        "  url =  'http://dart.fss.or.kr/dsaf001/main.do?rcpNo={rcept_no}'.format(rcept_no=rcept_no)\n",
        "  response = requests.get(url, headers={\"user-agent\":user_agent})\n",
        "  dcm_nos.append(re.search(r\"'{rcept_no}', '(.*?)',\".format(rcept_no=rcept_no), response.content.decode('UTF-8')).group(1))"
      ],
      "id": "UoHszLAyGfGe",
      "execution_count": 12,
      "outputs": []
    },
    {
      "cell_type": "code",
      "metadata": {
        "id": "LPSk7Q8fww9f"
      },
      "source": [
        "sheets = [\"연결 재무상태표\",\"연결 손익계산서\",\"연결 포괄손익계산서\",\"연결 자본변동표\",\"연결 현금흐름표\",\"재무상태표\",\"손익계산서\"]\n",
        "\n",
        "def download_excel(report_nm, rcept_no, dcm_no):\n",
        "    url = \"http://dart.fss.or.kr/pdf/download/excel.do?rcp_no={rcp_no}&dcm_no={dcm_no}&lang=ko\".format(rcp_no=rcept_no,dcm_no=dcm_no)\n",
        "    response = requests.get(url, headers={\"user-agent\":user_agent})\n",
        "    f = BytesIO(response.content)\n",
        "\n",
        "    for sheet in sheets:\n",
        "        df = pd.read_excel(f, sheet_name=sheet, skiprows=5)\n",
        "        df.to_csv(report_nm+\"_\"+sheet+\".csv\", encoding=\"euc-kr\")"
      ],
      "id": "LPSk7Q8fww9f",
      "execution_count": 13,
      "outputs": []
    },
    {
      "cell_type": "code",
      "metadata": {
        "id": "gB38Q_s_kw9a"
      },
      "source": [
        "for report_nm, rcept_no, dcm_no in zip(report_nms, rcept_nos, dcm_nos):\n",
        "  download_excel(report_nm, rcept_no, dcm_no)"
      ],
      "id": "gB38Q_s_kw9a",
      "execution_count": 14,
      "outputs": []
    },
    {
      "cell_type": "code",
      "metadata": {
        "id": "RNp0yNuS2rOj"
      },
      "source": [
        "df = pd.read_csv('분기보고서 (2021.03)_연결 포괄손익계산서.csv',encoding=\"euc-kr\")"
      ],
      "id": "RNp0yNuS2rOj",
      "execution_count": 15,
      "outputs": []
    },
    {
      "cell_type": "code",
      "metadata": {
        "id": "-pnMHwuymyym",
        "outputId": "edd7e6dc-48cd-454a-b85e-0c66610782eb",
        "colab": {
          "base_uri": "https://localhost:8080/",
          "height": 498
        }
      },
      "source": [
        "df"
      ],
      "id": "-pnMHwuymyym",
      "execution_count": 16,
      "outputs": [
        {
          "output_type": "execute_result",
          "data": {
            "text/html": [
              "<div>\n",
              "<style scoped>\n",
              "    .dataframe tbody tr th:only-of-type {\n",
              "        vertical-align: middle;\n",
              "    }\n",
              "\n",
              "    .dataframe tbody tr th {\n",
              "        vertical-align: top;\n",
              "    }\n",
              "\n",
              "    .dataframe thead th {\n",
              "        text-align: right;\n",
              "    }\n",
              "</style>\n",
              "<table border=\"1\" class=\"dataframe\">\n",
              "  <thead>\n",
              "    <tr style=\"text-align: right;\">\n",
              "      <th></th>\n",
              "      <th>Unnamed: 0</th>\n",
              "      <th></th>\n",
              "      <th>제 53 기 1분기</th>\n",
              "      <th>Unnamed: 2</th>\n",
              "      <th>제 52 기 1분기</th>\n",
              "      <th>Unnamed: 4</th>\n",
              "    </tr>\n",
              "  </thead>\n",
              "  <tbody>\n",
              "    <tr>\n",
              "      <th>0</th>\n",
              "      <td>0</td>\n",
              "      <td>NaN</td>\n",
              "      <td>3개월</td>\n",
              "      <td>누적</td>\n",
              "      <td>3개월</td>\n",
              "      <td>누적</td>\n",
              "    </tr>\n",
              "    <tr>\n",
              "      <th>1</th>\n",
              "      <td>1</td>\n",
              "      <td>당기순이익(손실)</td>\n",
              "      <td>7141685</td>\n",
              "      <td>7141685</td>\n",
              "      <td>4884926</td>\n",
              "      <td>4884926</td>\n",
              "    </tr>\n",
              "    <tr>\n",
              "      <th>2</th>\n",
              "      <td>2</td>\n",
              "      <td>기타포괄손익</td>\n",
              "      <td>4299126</td>\n",
              "      <td>4299126</td>\n",
              "      <td>1039168</td>\n",
              "      <td>1039168</td>\n",
              "    </tr>\n",
              "    <tr>\n",
              "      <th>3</th>\n",
              "      <td>3</td>\n",
              "      <td>후속적으로 당기손익으로 재분류되지 않는 포괄손익</td>\n",
              "      <td>1866697</td>\n",
              "      <td>1866697</td>\n",
              "      <td>-1189281</td>\n",
              "      <td>-1189281</td>\n",
              "    </tr>\n",
              "    <tr>\n",
              "      <th>4</th>\n",
              "      <td>4</td>\n",
              "      <td>기타포괄손익-공정가치금융자산평가손익</td>\n",
              "      <td>1885011</td>\n",
              "      <td>1885011</td>\n",
              "      <td>-1109611</td>\n",
              "      <td>-1109611</td>\n",
              "    </tr>\n",
              "    <tr>\n",
              "      <th>5</th>\n",
              "      <td>5</td>\n",
              "      <td>관계기업 및 공동기업의 기타포괄손익에 대한 지분</td>\n",
              "      <td>14425</td>\n",
              "      <td>14425</td>\n",
              "      <td>-46974</td>\n",
              "      <td>-46974</td>\n",
              "    </tr>\n",
              "    <tr>\n",
              "      <th>6</th>\n",
              "      <td>6</td>\n",
              "      <td>순확정급여부채(자산) 재측정요소</td>\n",
              "      <td>-32739</td>\n",
              "      <td>-32739</td>\n",
              "      <td>-32696</td>\n",
              "      <td>-32696</td>\n",
              "    </tr>\n",
              "    <tr>\n",
              "      <th>7</th>\n",
              "      <td>7</td>\n",
              "      <td>후속적으로 당기손익으로 재분류되는 포괄손익</td>\n",
              "      <td>2432429</td>\n",
              "      <td>2432429</td>\n",
              "      <td>2228449</td>\n",
              "      <td>2228449</td>\n",
              "    </tr>\n",
              "    <tr>\n",
              "      <th>8</th>\n",
              "      <td>8</td>\n",
              "      <td>관계기업 및 공동기업의 기타포괄손익에 대한 지분</td>\n",
              "      <td>-53921</td>\n",
              "      <td>-53921</td>\n",
              "      <td>28944</td>\n",
              "      <td>28944</td>\n",
              "    </tr>\n",
              "    <tr>\n",
              "      <th>9</th>\n",
              "      <td>9</td>\n",
              "      <td>해외사업장환산외환차이</td>\n",
              "      <td>2457265</td>\n",
              "      <td>2457265</td>\n",
              "      <td>2228543</td>\n",
              "      <td>2228543</td>\n",
              "    </tr>\n",
              "    <tr>\n",
              "      <th>10</th>\n",
              "      <td>10</td>\n",
              "      <td>현금흐름위험회피파생상품평가손익</td>\n",
              "      <td>29085</td>\n",
              "      <td>29085</td>\n",
              "      <td>-29038</td>\n",
              "      <td>-29038</td>\n",
              "    </tr>\n",
              "    <tr>\n",
              "      <th>11</th>\n",
              "      <td>11</td>\n",
              "      <td>총포괄손익</td>\n",
              "      <td>11440811</td>\n",
              "      <td>11440811</td>\n",
              "      <td>5924094</td>\n",
              "      <td>5924094</td>\n",
              "    </tr>\n",
              "    <tr>\n",
              "      <th>12</th>\n",
              "      <td>12</td>\n",
              "      <td>포괄손익의 귀속</td>\n",
              "      <td></td>\n",
              "      <td></td>\n",
              "      <td></td>\n",
              "      <td></td>\n",
              "    </tr>\n",
              "    <tr>\n",
              "      <th>13</th>\n",
              "      <td>13</td>\n",
              "      <td>지배기업 소유주지분</td>\n",
              "      <td>11221179</td>\n",
              "      <td>11221179</td>\n",
              "      <td>5971500</td>\n",
              "      <td>5971500</td>\n",
              "    </tr>\n",
              "    <tr>\n",
              "      <th>14</th>\n",
              "      <td>14</td>\n",
              "      <td>비지배지분</td>\n",
              "      <td>219632</td>\n",
              "      <td>219632</td>\n",
              "      <td>-47406</td>\n",
              "      <td>-47406</td>\n",
              "    </tr>\n",
              "  </tbody>\n",
              "</table>\n",
              "</div>"
            ],
            "text/plain": [
              "    Unnamed: 0                                      ... 제 52 기 1분기 Unnamed: 4\n",
              "0            0                                 NaN  ...        3개월         누적\n",
              "1            1                           당기순이익(손실)  ...    4884926    4884926\n",
              "2            2                              기타포괄손익  ...    1039168    1039168\n",
              "3            3          후속적으로 당기손익으로 재분류되지 않는 포괄손익  ...   -1189281   -1189281\n",
              "4            4                 기타포괄손익-공정가치금융자산평가손익  ...   -1109611   -1109611\n",
              "5            5          관계기업 및 공동기업의 기타포괄손익에 대한 지분  ...     -46974     -46974\n",
              "6            6                   순확정급여부채(자산) 재측정요소  ...     -32696     -32696\n",
              "7            7             후속적으로 당기손익으로 재분류되는 포괄손익  ...    2228449    2228449\n",
              "8            8          관계기업 및 공동기업의 기타포괄손익에 대한 지분  ...      28944      28944\n",
              "9            9                         해외사업장환산외환차이  ...    2228543    2228543\n",
              "10          10                    현금흐름위험회피파생상품평가손익  ...     -29038     -29038\n",
              "11          11                               총포괄손익  ...    5924094    5924094\n",
              "12          12                            포괄손익의 귀속  ...                      \n",
              "13          13                          지배기업 소유주지분  ...    5971500    5971500\n",
              "14          14                               비지배지분  ...     -47406     -47406\n",
              "\n",
              "[15 rows x 6 columns]"
            ]
          },
          "metadata": {
            "tags": []
          },
          "execution_count": 16
        }
      ]
    },
    {
      "cell_type": "code",
      "metadata": {
        "id": "no_FgR6Cmz2G"
      },
      "source": [
        "net_income = df.iloc[1][2]"
      ],
      "id": "no_FgR6Cmz2G",
      "execution_count": 17,
      "outputs": []
    },
    {
      "cell_type": "code",
      "metadata": {
        "id": "94UVebhjoqca",
        "outputId": "e0fabc3e-2a04-417a-ac71-d47e445e638f",
        "colab": {
          "base_uri": "https://localhost:8080/"
        }
      },
      "source": [
        "import glob\n",
        "\n",
        "fileList = glob.glob('*_연결 포괄손익계산서.csv')\n",
        "fileList"
      ],
      "id": "94UVebhjoqca",
      "execution_count": 68,
      "outputs": [
        {
          "output_type": "execute_result",
          "data": {
            "text/plain": [
              "['분기보고서 (2021.03)_연결 포괄손익계산서.csv',\n",
              " '분기보고서 (2019.03)_연결 포괄손익계산서.csv',\n",
              " '반기보고서 (2020.06)_연결 포괄손익계산서.csv',\n",
              " '사업보고서 (2018.12)_연결 포괄손익계산서.csv',\n",
              " '사업보고서 (2019.12)_연결 포괄손익계산서.csv',\n",
              " '분기보고서 (2020.09)_연결 포괄손익계산서.csv',\n",
              " '분기보고서 (2019.09)_연결 포괄손익계산서.csv',\n",
              " '반기보고서 (2019.06)_연결 포괄손익계산서.csv',\n",
              " '사업보고서 (2020.12)_연결 포괄손익계산서.csv',\n",
              " '분기보고서 (2020.03)_연결 포괄손익계산서.csv']"
            ]
          },
          "metadata": {
            "tags": []
          },
          "execution_count": 68
        }
      ]
    },
    {
      "cell_type": "code",
      "metadata": {
        "id": "PopB_u3cb6K_",
        "outputId": "50ef1191-7822-44be-f6ab-f05b948173d9",
        "colab": {
          "base_uri": "https://localhost:8080/",
          "height": 35
        }
      },
      "source": [
        "df.iloc[1][2]"
      ],
      "id": "PopB_u3cb6K_",
      "execution_count": 72,
      "outputs": [
        {
          "output_type": "execute_result",
          "data": {
            "application/vnd.google.colaboratory.intrinsic+json": {
              "type": "string"
            },
            "text/plain": [
              "'7141685'"
            ]
          },
          "metadata": {
            "tags": []
          },
          "execution_count": 72
        }
      ]
    },
    {
      "cell_type": "code",
      "metadata": {
        "id": "yBean7P4pyHS"
      },
      "source": [
        "d = {}\n",
        "\n",
        "for file in fileList:\n",
        "  df = pd.read_csv(file,encoding=\"euc-kr\")\n",
        "  net_income = df.iloc[1][2]\n",
        "  d[file[7:14]] = int(net_income)\n",
        "  # print('filename:', file[7:14], 'net income:', net_income)"
      ],
      "id": "yBean7P4pyHS",
      "execution_count": 78,
      "outputs": []
    },
    {
      "cell_type": "code",
      "metadata": {
        "id": "PhUfn-8Cqvhm",
        "outputId": "35bd5be0-e4ff-4bd0-82e9-e945b6fd3d7c",
        "colab": {
          "base_uri": "https://localhost:8080/"
        }
      },
      "source": [
        "d"
      ],
      "id": "PhUfn-8Cqvhm",
      "execution_count": 79,
      "outputs": [
        {
          "output_type": "execute_result",
          "data": {
            "text/plain": [
              "{'2018.12': 44344857,\n",
              " '2019.03': 5043585,\n",
              " '2019.06': 5180576,\n",
              " '2019.09': 6287664,\n",
              " '2019.12': 21738865,\n",
              " '2020.03': 4884926,\n",
              " '2020.06': 5555083,\n",
              " '2020.09': 9360693,\n",
              " '2020.12': 26407832,\n",
              " '2021.03': 7141685}"
            ]
          },
          "metadata": {
            "tags": []
          },
          "execution_count": 79
        }
      ]
    },
    {
      "cell_type": "code",
      "metadata": {
        "id": "YFIOIKizrZme"
      },
      "source": [
        ""
      ],
      "id": "YFIOIKizrZme",
      "execution_count": null,
      "outputs": []
    }
  ]
}