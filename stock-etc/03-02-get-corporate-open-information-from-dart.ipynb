{
  "nbformat": 4,
  "nbformat_minor": 5,
  "metadata": {
    "colab": {
      "name": "03-02-get-corporate-open-information-from-dart.ipynb",
      "provenance": [],
      "include_colab_link": true
    },
    "language_info": {
      "name": "python"
    },
    "kernelspec": {
      "name": "python3",
      "display_name": "Python 3"
    }
  },
  "cells": [
    {
      "cell_type": "markdown",
      "metadata": {
        "id": "view-in-github",
        "colab_type": "text"
      },
      "source": [
        "<a href=\"https://colab.research.google.com/github/dantae74/machine-learning/blob/main/stock-etc/03-02-get-corporate-open-information-from-dart.ipynb\" target=\"_parent\"><img src=\"https://colab.research.google.com/assets/colab-badge.svg\" alt=\"Open In Colab\"/></a>"
      ]
    },
    {
      "cell_type": "markdown",
      "metadata": {
        "id": "WfgQSbgOoe-2"
      },
      "source": [
        "## DART 사이트에서 (삼성전자: 005930) 기업 공시 정보 가져오기 \n",
        "1999-01-01부터 현재까지 분기/반기 보고서 가져와서 로컬 디렉토리에 csv로 저장하기"
      ],
      "id": "WfgQSbgOoe-2"
    },
    {
      "cell_type": "code",
      "metadata": {
        "id": "RK3QTbWDofS7"
      },
      "source": [
        "import requests\n",
        "from io import BytesIO\n",
        "import pandas as pd"
      ],
      "id": "RK3QTbWDofS7",
      "execution_count": 1,
      "outputs": []
    },
    {
      "cell_type": "code",
      "metadata": {
        "id": "Q71ALk2klOwe"
      },
      "source": [
        "crtfc_key = \"\"\n",
        "with open('./sample_data/my_data.txt', 'r') as reader:\n",
        "  crtfc_key = reader.readline()\n",
        "  # print(crtfc_key)"
      ],
      "id": "Q71ALk2klOwe",
      "execution_count": 22,
      "outputs": []
    },
    {
      "cell_type": "code",
      "metadata": {
        "id": "rYaAHzkRpAnn"
      },
      "source": [
        "from datetime import datetime\n",
        "now = datetime.today().strftime('%Y%m%d')"
      ],
      "id": "rYaAHzkRpAnn",
      "execution_count": 27,
      "outputs": []
    },
    {
      "cell_type": "code",
      "metadata": {
        "id": "kJP0yw1eoMS4"
      },
      "source": [
        "corp_code = '005930' # 삼성전자"
      ],
      "id": "kJP0yw1eoMS4",
      "execution_count": 23,
      "outputs": []
    },
    {
      "cell_type": "code",
      "metadata": {
        "id": "C7Z9U4U-nfZI"
      },
      "source": [
        "def make_api_url(corp_code, bgn_de='19990101', end_de=now, pblntf_ty='A', pblntf_detail_ty=['A001','A002','A003'], page_count='100'):\n",
        "  url = \"https://opendart.fss.or.kr/api/list.json?crtfc_key={$corp_code}&"
      ],
      "id": "C7Z9U4U-nfZI",
      "execution_count": null,
      "outputs": []
    },
    {
      "cell_type": "code",
      "metadata": {
        "id": "z_9TqeqxnfO6"
      },
      "source": [
        ""
      ],
      "id": "z_9TqeqxnfO6",
      "execution_count": null,
      "outputs": []
    },
    {
      "cell_type": "code",
      "metadata": {
        "id": "1yObfsTnnfDp"
      },
      "source": [
        ""
      ],
      "id": "1yObfsTnnfDp",
      "execution_count": null,
      "outputs": []
    },
    {
      "cell_type": "code",
      "metadata": {
        "id": "30dxHmEPog-b"
      },
      "source": [
        "url = \"http://dart.fss.or.kr/pdf/download/excel.do?rcp_no=20210517001718&dcm_no=8074927&lang=ko\"\n",
        "\n",
        "user_agent = \"Mozilla/5.0 (Macintosh; Intel Mac OS X 10_15_7) AppleWebKit/537.36 (KHTML, like Gecko) Chrome/90.0.4430.212 Safari/537.36\"\n",
        "result = requests.get(url, headers={\"user-agent\":user_agent})"
      ],
      "id": "30dxHmEPog-b",
      "execution_count": null,
      "outputs": []
    },
    {
      "cell_type": "code",
      "metadata": {
        "id": "_C5afApssEJn"
      },
      "source": [
        "result"
      ],
      "id": "_C5afApssEJn",
      "execution_count": null,
      "outputs": []
    },
    {
      "cell_type": "code",
      "metadata": {
        "id": "alQS6DOCyNi0"
      },
      "source": [
        "result.content"
      ],
      "id": "alQS6DOCyNi0",
      "execution_count": null,
      "outputs": []
    },
    {
      "cell_type": "code",
      "metadata": {
        "id": "1pLamGw5sxtK"
      },
      "source": [
        "# Byte raw data => BytesIO Object => Read Excel\n",
        "f = BytesIO(result.content)\n"
      ],
      "id": "1pLamGw5sxtK",
      "execution_count": null,
      "outputs": []
    },
    {
      "cell_type": "code",
      "metadata": {
        "id": "Dw1e6h7IXMpw"
      },
      "source": [
        "sheets = [\"연결 재무상태표\",\"연결 손익계산서\",\"연결 포괄손익계산서\",\"연결 자본변동표\",\"연결 현금흐름표\",\"재무상태표\",\"손익계산서\"]"
      ],
      "id": "Dw1e6h7IXMpw",
      "execution_count": null,
      "outputs": []
    },
    {
      "cell_type": "code",
      "metadata": {
        "id": "Xf3MwnmmXY_F"
      },
      "source": [
        "# 엑셀 파일에서 sheet의 내용을 읽어 sheet 이름으로 파일에 저장\n",
        "for sheet in sheets:\n",
        "  df = pd.read_excel(f, sheet_name=sheet, skiprows=5)\n",
        "  df.to_csv(sheet+\".csv\", encoding=\"euc-kr\")\n"
      ],
      "id": "Xf3MwnmmXY_F",
      "execution_count": null,
      "outputs": []
    },
    {
      "cell_type": "code",
      "metadata": {
        "id": "sDaVssyuTmbw",
        "outputId": "734a8040-d3e2-43d2-a307-c572ccb39824",
        "colab": {
          "base_uri": "https://localhost:8080/"
        }
      },
      "source": [
        ""
      ],
      "id": "sDaVssyuTmbw",
      "execution_count": 3,
      "outputs": [
        {
          "output_type": "stream",
          "text": [
            "total 16\n",
            "drwxr-xr-x 1 root root 4096 Jun  1 13:40 .\n",
            "drwxr-xr-x 1 root root 4096 Jun  9 06:40 ..\n",
            "drwxr-xr-x 4 root root 4096 Jun  1 13:40 .config\n",
            "drwxr-xr-x 1 root root 4096 Jun  1 13:40 sample_data\n"
          ],
          "name": "stdout"
        }
      ]
    },
    {
      "cell_type": "code",
      "metadata": {
        "id": "9iEuoiuAYSM0",
        "outputId": "bec1b235-8ccc-4ee9-ac57-73a385257d64",
        "colab": {
          "base_uri": "https://localhost:8080/"
        }
      },
      "source": [
        "ls -al sample_data/"
      ],
      "id": "9iEuoiuAYSM0",
      "execution_count": 4,
      "outputs": [
        {
          "output_type": "stream",
          "text": [
            "total 55512\n",
            "drwxr-xr-x 1 root root     4096 Jun  1 13:40 \u001b[0m\u001b[01;34m.\u001b[0m/\n",
            "drwxr-xr-x 1 root root     4096 Jun  1 13:40 \u001b[01;34m..\u001b[0m/\n",
            "-rwxr-xr-x 1 root root     1697 Jan  1  2000 \u001b[01;32manscombe.json\u001b[0m*\n",
            "-rw-r--r-- 1 root root   301141 Jun  1 13:40 california_housing_test.csv\n",
            "-rw-r--r-- 1 root root  1706430 Jun  1 13:40 california_housing_train.csv\n",
            "-rw-r--r-- 1 root root 18289443 Jun  1 13:40 mnist_test.csv\n",
            "-rw-r--r-- 1 root root 36523880 Jun  1 13:40 mnist_train_small.csv\n",
            "-rwxr-xr-x 1 root root      930 Jan  1  2000 \u001b[01;32mREADME.md\u001b[0m*\n"
          ],
          "name": "stdout"
        }
      ]
    },
    {
      "cell_type": "code",
      "metadata": {
        "id": "4La8mTPbihCu"
      },
      "source": [
        "with open('./sample_data/my_data.txt', 'w') as f:\n",
        "    f.writelines(\"94f6f704a87d5868d411db6c48a4bc01194d4bd2\")"
      ],
      "id": "4La8mTPbihCu",
      "execution_count": 12,
      "outputs": []
    },
    {
      "cell_type": "code",
      "metadata": {
        "id": "-gvnZtnajYyd",
        "outputId": "4ac84a80-ff89-4558-8f5f-80e445b6a181",
        "colab": {
          "base_uri": "https://localhost:8080/"
        }
      },
      "source": [
        "ls -al sample_data/"
      ],
      "id": "-gvnZtnajYyd",
      "execution_count": 13,
      "outputs": [
        {
          "output_type": "stream",
          "text": [
            "total 55520\n",
            "drwxr-xr-x 1 root root     4096 Jun  9 06:55 \u001b[0m\u001b[01;34m.\u001b[0m/\n",
            "drwxr-xr-x 1 root root     4096 Jun  1 13:40 \u001b[01;34m..\u001b[0m/\n",
            "-rwxr-xr-x 1 root root     1697 Jan  1  2000 \u001b[01;32manscombe.json\u001b[0m*\n",
            "-rw-r--r-- 1 root root   301141 Jun  1 13:40 california_housing_test.csv\n",
            "-rw-r--r-- 1 root root  1706430 Jun  1 13:40 california_housing_train.csv\n",
            "-rw-r--r-- 1 root root 18289443 Jun  1 13:40 mnist_test.csv\n",
            "-rw-r--r-- 1 root root 36523880 Jun  1 13:40 mnist_train_small.csv\n",
            "-rw-r--r-- 1 root root       40 Jun  9 07:01 my_data.txt\n",
            "-rwxr-xr-x 1 root root      930 Jan  1  2000 \u001b[01;32mREADME.md\u001b[0m*\n"
          ],
          "name": "stdout"
        }
      ]
    },
    {
      "cell_type": "code",
      "metadata": {
        "id": "Wdu1dQlkja1s",
        "outputId": "a70f7d12-e703-448a-f6c4-6e600280b96e",
        "colab": {
          "base_uri": "https://localhost:8080/"
        }
      },
      "source": [
        "with open('./sample_data/my_data.txt', 'r') as reader:\n",
        "  # Read & print the entire file\n",
        "  crte_data = reader.readline()\n",
        "  print(crte_data)"
      ],
      "id": "Wdu1dQlkja1s",
      "execution_count": 17,
      "outputs": [
        {
          "output_type": "stream",
          "text": [
            "94f6f704a87d5868d411db6c48a4bc01194d4bd2\n"
          ],
          "name": "stdout"
        }
      ]
    },
    {
      "cell_type": "code",
      "metadata": {
        "id": "C2b8yTVrkeC1",
        "outputId": "c414b5ee-5d4c-439a-e711-ceb4e9066d28",
        "colab": {
          "base_uri": "https://localhost:8080/"
        }
      },
      "source": [
        "!cat ./sample_data/my_data.txt"
      ],
      "id": "C2b8yTVrkeC1",
      "execution_count": 14,
      "outputs": [
        {
          "output_type": "stream",
          "text": [
            "94f6f704a87d5868d411db6c48a4bc01194d4bd2"
          ],
          "name": "stdout"
        }
      ]
    },
    {
      "cell_type": "code",
      "metadata": {
        "id": "gB38Q_s_kw9a"
      },
      "source": [
        ""
      ],
      "id": "gB38Q_s_kw9a",
      "execution_count": null,
      "outputs": []
    }
  ]
}
