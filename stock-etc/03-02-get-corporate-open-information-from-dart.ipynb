{
  "nbformat": 4,
  "nbformat_minor": 5,
  "metadata": {
    "colab": {
      "name": "03-02-get-corporate-open-information-from-dart.ipynb",
      "provenance": [],
      "include_colab_link": true
    },
    "language_info": {
      "name": "python"
    },
    "kernelspec": {
      "name": "python3",
      "display_name": "Python 3"
    }
  },
  "cells": [
    {
      "cell_type": "markdown",
      "metadata": {
        "id": "view-in-github",
        "colab_type": "text"
      },
      "source": [
        "<a href=\"https://colab.research.google.com/github/dantae74/machine-learning/blob/main/stock-etc/03-02-get-corporate-open-information-from-dart.ipynb\" target=\"_parent\"><img src=\"https://colab.research.google.com/assets/colab-badge.svg\" alt=\"Open In Colab\"/></a>"
      ]
    },
    {
      "cell_type": "markdown",
      "metadata": {
        "id": "WfgQSbgOoe-2"
      },
      "source": [
        "## DART 사이트에서 (삼성전자: 005930) 기업 공시 정보 가져오기 \n",
        "1999-01-01부터 현재까지 분기/반기 보고서 가져와서 로컬 디렉토리에 csv로 저장하기"
      ],
      "id": "WfgQSbgOoe-2"
    },
    {
      "cell_type": "code",
      "metadata": {
        "id": "RK3QTbWDofS7"
      },
      "source": [
        "import requests\n",
        "from io import BytesIO\n",
        "import pandas as pd"
      ],
      "id": "RK3QTbWDofS7",
      "execution_count": 25,
      "outputs": []
    },
    {
      "cell_type": "code",
      "metadata": {
        "id": "Q71ALk2klOwe"
      },
      "source": [
        "crtfc_key = '94f6f704a87d5868d411db6c48a4bc01194d4bd2'\n",
        "# crtfc_key = \"\"\n",
        "# with open('./sample_data/my_data.txt', 'r') as reader:\n",
        "#   crtfc_key = reader.readline()\n",
        "  # print(crtfc_key)"
      ],
      "id": "Q71ALk2klOwe",
      "execution_count": 27,
      "outputs": []
    },
    {
      "cell_type": "code",
      "metadata": {
        "id": "CtWWN3FNfFD0"
      },
      "source": [
        "user_agent = \"Mozilla/5.0 (Macintosh; Intel Mac OS X 10_15_7) AppleWebKit/537.36 (KHTML, like Gecko) Chrome/90.0.4430.212 Safari/537.36\""
      ],
      "id": "CtWWN3FNfFD0",
      "execution_count": 44,
      "outputs": []
    },
    {
      "cell_type": "code",
      "metadata": {
        "id": "rYaAHzkRpAnn"
      },
      "source": [
        "from datetime import datetime\n",
        "now = datetime.today().strftime('%Y%m%d')"
      ],
      "id": "rYaAHzkRpAnn",
      "execution_count": 28,
      "outputs": []
    },
    {
      "cell_type": "code",
      "metadata": {
        "id": "kJP0yw1eoMS4"
      },
      "source": [
        "corp_code = '005930' # 삼성전자"
      ],
      "id": "kJP0yw1eoMS4",
      "execution_count": 29,
      "outputs": []
    },
    {
      "cell_type": "code",
      "metadata": {
        "id": "C7Z9U4U-nfZI"
      },
      "source": [
        "def make_api_url(corp_code, bgn_de='19990101', end_de=now, pblntf_ty='A', pblntf_detail_ty=['A001','A002','A003'], page_count='100'):\n",
        "\n",
        "  for i, code in enumerate(pblntf_detail_ty):\n",
        "    pblntf_detail_ty[i] = 'pblntf_detail_ty=' + code\n",
        "    if i != (len(pblntf_detail_ty)-1): pblntf_detail_ty[i] += '&'\n",
        "  pblntf_detail_ty = \"\".join(pblntf_detail_ty)\n",
        "\n",
        "  url = \"https://opendart.fss.or.kr/api/list.json?crtfc_key={crtfc_key}&corp_code={corp_code}&bgn_de={bgn_de}&end_de={end_de}&pblntf_ty={pblntf_ty}&{pblntf_detail_ty}&page_count={page_count}\".format(\\\n",
        "                                                              crtfc_key=crtfc_key,corp_code=corp_code,bgn_de=bgn_de,end_de=end_de,pblntf_ty=pblntf_ty,pblntf_detail_ty=pblntf_detail_ty,page_count=page_count)\n",
        "  return url"
      ],
      "id": "C7Z9U4U-nfZI",
      "execution_count": 40,
      "outputs": []
    },
    {
      "cell_type": "code",
      "metadata": {
        "id": "_C5afApssEJn",
        "outputId": "fecc6677-3dea-479e-89d0-22f1a0fd20af",
        "colab": {
          "base_uri": "https://localhost:8080/"
        }
      },
      "source": [
        "url = make_api_url(corp_code)\n",
        "print(url)"
      ],
      "id": "_C5afApssEJn",
      "execution_count": 41,
      "outputs": [
        {
          "output_type": "stream",
          "text": [
            "https://opendart.fss.or.kr/api/list.json?crtfc_key=94f6f704a87d5868d411db6c48a4bc01194d4bd2&corp_code=005930&bgn_de=19990101&end_de=20210610&pblntf_ty=A&pblntf_detail_ty=A001&pblntf_detail_ty=A002&pblntf_detail_ty=A003&page_count=100\n"
          ],
          "name": "stdout"
        }
      ]
    },
    {
      "cell_type": "code",
      "metadata": {
        "id": "alQS6DOCyNi0"
      },
      "source": [
        "response = requests.get(url, headers={\"user-agent\":user_agent})"
      ],
      "id": "alQS6DOCyNi0",
      "execution_count": 45,
      "outputs": []
    },
    {
      "cell_type": "code",
      "metadata": {
        "id": "FNaqt38ffegC",
        "outputId": "72cae6f4-80b7-4cd9-c8da-9e8182db6d92",
        "colab": {
          "base_uri": "https://localhost:8080/"
        }
      },
      "source": [
        "pd.read_json(response.content)['list'][:-1]"
      ],
      "id": "FNaqt38ffegC",
      "execution_count": 70,
      "outputs": [
        {
          "output_type": "execute_result",
          "data": {
            "text/plain": [
              "0     {'corp_code': '00126380', 'corp_name': '삼성전자',...\n",
              "1     {'corp_code': '00126380', 'corp_name': '삼성전자',...\n",
              "2     {'corp_code': '00126380', 'corp_name': '삼성전자',...\n",
              "3     {'corp_code': '00126380', 'corp_name': '삼성전자',...\n",
              "4     {'corp_code': '00126380', 'corp_name': '삼성전자',...\n",
              "                            ...                        \n",
              "87    {'corp_code': '00126380', 'corp_name': '삼성전자',...\n",
              "88    {'corp_code': '00126380', 'corp_name': '삼성전자',...\n",
              "89    {'corp_code': '00126380', 'corp_name': '삼성전자',...\n",
              "90    {'corp_code': '00126380', 'corp_name': '삼성전자',...\n",
              "91    {'corp_code': '00126380', 'corp_name': '삼성전자',...\n",
              "Name: list, Length: 92, dtype: object"
            ]
          },
          "metadata": {
            "tags": []
          },
          "execution_count": 70
        }
      ]
    },
    {
      "cell_type": "code",
      "metadata": {
        "id": "1pLamGw5sxtK",
        "outputId": "f4bcbc81-ab36-4c34-95ac-e5188c349425",
        "colab": {
          "base_uri": "https://localhost:8080/"
        }
      },
      "source": [
        "# Byte raw data => BytesIO Object => Read Excel\n",
        "f = BytesIO(response.content)\n",
        "f"
      ],
      "id": "1pLamGw5sxtK",
      "execution_count": 47,
      "outputs": [
        {
          "output_type": "execute_result",
          "data": {
            "text/plain": [
              "<_io.BytesIO at 0x7f305cd0a650>"
            ]
          },
          "metadata": {
            "tags": []
          },
          "execution_count": 47
        }
      ]
    },
    {
      "cell_type": "code",
      "metadata": {
        "id": "Dw1e6h7IXMpw"
      },
      "source": [
        "sheets = [\"연결 재무상태표\",\"연결 손익계산서\",\"연결 포괄손익계산서\",\"연결 자본변동표\",\"연결 현금흐름표\",\"재무상태표\",\"손익계산서\"]"
      ],
      "id": "Dw1e6h7IXMpw",
      "execution_count": null,
      "outputs": []
    },
    {
      "cell_type": "code",
      "metadata": {
        "id": "Xf3MwnmmXY_F"
      },
      "source": [
        "# 엑셀 파일에서 sheet의 내용을 읽어 sheet 이름으로 파일에 저장\n",
        "for sheet in sheets:\n",
        "  df = pd.read_excel(f, sheet_name=sheet, skiprows=5)\n",
        "  df.to_csv(sheet+\".csv\", encoding=\"euc-kr\")\n"
      ],
      "id": "Xf3MwnmmXY_F",
      "execution_count": null,
      "outputs": []
    },
    {
      "cell_type": "code",
      "metadata": {
        "id": "sDaVssyuTmbw",
        "colab": {
          "base_uri": "https://localhost:8080/"
        },
        "outputId": "734a8040-d3e2-43d2-a307-c572ccb39824"
      },
      "source": [
        ""
      ],
      "id": "sDaVssyuTmbw",
      "execution_count": null,
      "outputs": [
        {
          "output_type": "stream",
          "text": [
            "total 16\n",
            "drwxr-xr-x 1 root root 4096 Jun  1 13:40 .\n",
            "drwxr-xr-x 1 root root 4096 Jun  9 06:40 ..\n",
            "drwxr-xr-x 4 root root 4096 Jun  1 13:40 .config\n",
            "drwxr-xr-x 1 root root 4096 Jun  1 13:40 sample_data\n"
          ],
          "name": "stdout"
        }
      ]
    },
    {
      "cell_type": "code",
      "metadata": {
        "id": "9iEuoiuAYSM0",
        "colab": {
          "base_uri": "https://localhost:8080/"
        },
        "outputId": "bec1b235-8ccc-4ee9-ac57-73a385257d64"
      },
      "source": [
        "ls -al sample_data/"
      ],
      "id": "9iEuoiuAYSM0",
      "execution_count": null,
      "outputs": [
        {
          "output_type": "stream",
          "text": [
            "total 55512\n",
            "drwxr-xr-x 1 root root     4096 Jun  1 13:40 \u001b[0m\u001b[01;34m.\u001b[0m/\n",
            "drwxr-xr-x 1 root root     4096 Jun  1 13:40 \u001b[01;34m..\u001b[0m/\n",
            "-rwxr-xr-x 1 root root     1697 Jan  1  2000 \u001b[01;32manscombe.json\u001b[0m*\n",
            "-rw-r--r-- 1 root root   301141 Jun  1 13:40 california_housing_test.csv\n",
            "-rw-r--r-- 1 root root  1706430 Jun  1 13:40 california_housing_train.csv\n",
            "-rw-r--r-- 1 root root 18289443 Jun  1 13:40 mnist_test.csv\n",
            "-rw-r--r-- 1 root root 36523880 Jun  1 13:40 mnist_train_small.csv\n",
            "-rwxr-xr-x 1 root root      930 Jan  1  2000 \u001b[01;32mREADME.md\u001b[0m*\n"
          ],
          "name": "stdout"
        }
      ]
    },
    {
      "cell_type": "code",
      "metadata": {
        "id": "4La8mTPbihCu"
      },
      "source": [
        "with open('./sample_data/my_data.txt', 'w') as f:\n",
        "    f.writelines(\"94f6f704a87d5868d411db6c48a4bc01194d4bd2\")"
      ],
      "id": "4La8mTPbihCu",
      "execution_count": null,
      "outputs": []
    },
    {
      "cell_type": "code",
      "metadata": {
        "id": "-gvnZtnajYyd",
        "colab": {
          "base_uri": "https://localhost:8080/"
        },
        "outputId": "4ac84a80-ff89-4558-8f5f-80e445b6a181"
      },
      "source": [
        "ls -al sample_data/"
      ],
      "id": "-gvnZtnajYyd",
      "execution_count": null,
      "outputs": [
        {
          "output_type": "stream",
          "text": [
            "total 55520\n",
            "drwxr-xr-x 1 root root     4096 Jun  9 06:55 \u001b[0m\u001b[01;34m.\u001b[0m/\n",
            "drwxr-xr-x 1 root root     4096 Jun  1 13:40 \u001b[01;34m..\u001b[0m/\n",
            "-rwxr-xr-x 1 root root     1697 Jan  1  2000 \u001b[01;32manscombe.json\u001b[0m*\n",
            "-rw-r--r-- 1 root root   301141 Jun  1 13:40 california_housing_test.csv\n",
            "-rw-r--r-- 1 root root  1706430 Jun  1 13:40 california_housing_train.csv\n",
            "-rw-r--r-- 1 root root 18289443 Jun  1 13:40 mnist_test.csv\n",
            "-rw-r--r-- 1 root root 36523880 Jun  1 13:40 mnist_train_small.csv\n",
            "-rw-r--r-- 1 root root       40 Jun  9 07:01 my_data.txt\n",
            "-rwxr-xr-x 1 root root      930 Jan  1  2000 \u001b[01;32mREADME.md\u001b[0m*\n"
          ],
          "name": "stdout"
        }
      ]
    },
    {
      "cell_type": "code",
      "metadata": {
        "id": "Wdu1dQlkja1s",
        "colab": {
          "base_uri": "https://localhost:8080/"
        },
        "outputId": "a70f7d12-e703-448a-f6c4-6e600280b96e"
      },
      "source": [
        "with open('./sample_data/my_data.txt', 'r') as reader:\n",
        "  # Read & print the entire file\n",
        "  crte_data = reader.readline()\n",
        "  print(crte_data)"
      ],
      "id": "Wdu1dQlkja1s",
      "execution_count": null,
      "outputs": [
        {
          "output_type": "stream",
          "text": [
            "94f6f704a87d5868d411db6c48a4bc01194d4bd2\n"
          ],
          "name": "stdout"
        }
      ]
    },
    {
      "cell_type": "code",
      "metadata": {
        "id": "C2b8yTVrkeC1",
        "colab": {
          "base_uri": "https://localhost:8080/"
        },
        "outputId": "c414b5ee-5d4c-439a-e711-ceb4e9066d28"
      },
      "source": [
        "!cat ./sample_data/my_data.txt"
      ],
      "id": "C2b8yTVrkeC1",
      "execution_count": null,
      "outputs": [
        {
          "output_type": "stream",
          "text": [
            "94f6f704a87d5868d411db6c48a4bc01194d4bd2"
          ],
          "name": "stdout"
        }
      ]
    },
    {
      "cell_type": "code",
      "metadata": {
        "id": "gB38Q_s_kw9a"
      },
      "source": [
        ""
      ],
      "id": "gB38Q_s_kw9a",
      "execution_count": null,
      "outputs": []
    }
  ]
}