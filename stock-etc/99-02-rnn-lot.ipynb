{
  "nbformat": 4,
  "nbformat_minor": 5,
  "metadata": {
    "colab": {
      "name": "99-02-rnn-lot.ipynb",
      "provenance": [],
      "include_colab_link": true
    },
    "language_info": {
      "name": "python"
    },
    "kernelspec": {
      "name": "python3",
      "display_name": "Python 3"
    }
  },
  "cells": [
    {
      "cell_type": "markdown",
      "metadata": {
        "id": "view-in-github",
        "colab_type": "text"
      },
      "source": [
        "<a href=\"https://colab.research.google.com/github/dantae74/machine-learning/blob/main/stock-etc/99-02-rnn-lot.ipynb\" target=\"_parent\"><img src=\"https://colab.research.google.com/assets/colab-badge.svg\" alt=\"Open In Colab\"/></a>"
      ]
    },
    {
      "cell_type": "markdown",
      "metadata": {
        "id": "WfgQSbgOoe-2"
      },
      "source": [
        "모두를 위한 머신러닝에서 가져왔습니다.\n",
        "# RNN-lot\n"
      ],
      "id": "WfgQSbgOoe-2"
    },
    {
      "cell_type": "code",
      "metadata": {
        "id": "RK3QTbWDofS7"
      },
      "source": [
        "import numpy as np\n",
        "import tensorflow as tf\n",
        "import pandas as pd\n",
        "from tensorflow import keras\n",
        "from tensorflow.keras import layers\n",
        "from io import BytesIO\n",
        "import requests"
      ],
      "id": "RK3QTbWDofS7",
      "execution_count": 3,
      "outputs": []
    },
    {
      "cell_type": "markdown",
      "metadata": {
        "id": "jPOe_aAxF08z"
      },
      "source": [
        "# 마지막 회차번호"
      ],
      "id": "jPOe_aAxF08z"
    },
    {
      "cell_type": "code",
      "metadata": {
        "id": "30dxHmEPog-b"
      },
      "source": [
        "# 마지막 회차 번호\n",
        "noEnd ='968' \n",
        "\n",
        "# url\n",
        "# url = 'https://dhlottery.co.kr/gameResult.do?method=allWinExel&gubun=byWin&nowPage=&drwNoStart=1&drwNoEnd={}'.format(noEnd)\n",
        "\n",
        "url = f'https://dhlottery.co.kr/gameResult.do?method=allWinExel&gubun=byWin&nowPage=&drwNoStart=1&drwNoEnd={noEnd}'\n",
        "\n",
        "# user-agent\n",
        "user_agent = \"Mozilla/5.0 (Macintosh; Intel Mac OS X 10_15_7) AppleWebKit/537.36 (KHTML, like Gecko) Chrome/90.0.4430.212 Safari/537.36\""
      ],
      "id": "30dxHmEPog-b",
      "execution_count": 4,
      "outputs": []
    },
    {
      "cell_type": "code",
      "metadata": {
        "id": "KJXYQXb83X65"
      },
      "source": [
        "result = requests.get(url, headers={\"user-agent\":user_agent})"
      ],
      "id": "KJXYQXb83X65",
      "execution_count": 5,
      "outputs": []
    },
    {
      "cell_type": "code",
      "metadata": {
        "id": "1d9_zPKE3hFX",
        "outputId": "6b4b0dcb-eb8e-4d6d-84f3-9973ebdd398d",
        "colab": {
          "base_uri": "https://localhost:8080/"
        }
      },
      "source": [
        "result"
      ],
      "id": "1d9_zPKE3hFX",
      "execution_count": 6,
      "outputs": [
        {
          "output_type": "execute_result",
          "data": {
            "text/plain": [
              "<Response [200]>"
            ]
          },
          "metadata": {
            "tags": []
          },
          "execution_count": 6
        }
      ]
    },
    {
      "cell_type": "code",
      "metadata": {
        "id": "DHzsnDB25ntC"
      },
      "source": [
        "f = BytesIO(result.content)\n",
        "# df = pd.read_excel(f,sheet_name='excel',skiprows=3)\n",
        "html_result = pd.read_html(f)"
      ],
      "id": "DHzsnDB25ntC",
      "execution_count": 7,
      "outputs": []
    },
    {
      "cell_type": "code",
      "metadata": {
        "id": "bFfN-kn05xEL",
        "outputId": "1f973904-f4c2-4e10-bc1e-efc4f2a0fd27",
        "colab": {
          "base_uri": "https://localhost:8080/",
          "height": 354
        }
      },
      "source": [
        "df_raw = pd.DataFrame(html_result[1])\n",
        "# df = df.drop([0])\n",
        "df_raw.head()"
      ],
      "id": "bFfN-kn05xEL",
      "execution_count": 8,
      "outputs": [
        {
          "output_type": "execute_result",
          "data": {
            "text/html": [
              "<div>\n",
              "<style scoped>\n",
              "    .dataframe tbody tr th:only-of-type {\n",
              "        vertical-align: middle;\n",
              "    }\n",
              "\n",
              "    .dataframe tbody tr th {\n",
              "        vertical-align: top;\n",
              "    }\n",
              "\n",
              "    .dataframe thead th {\n",
              "        text-align: right;\n",
              "    }\n",
              "</style>\n",
              "<table border=\"1\" class=\"dataframe\">\n",
              "  <thead>\n",
              "    <tr style=\"text-align: right;\">\n",
              "      <th></th>\n",
              "      <th>0</th>\n",
              "      <th>1</th>\n",
              "      <th>2</th>\n",
              "      <th>3</th>\n",
              "      <th>4</th>\n",
              "      <th>5</th>\n",
              "      <th>6</th>\n",
              "      <th>7</th>\n",
              "      <th>8</th>\n",
              "      <th>9</th>\n",
              "      <th>10</th>\n",
              "      <th>11</th>\n",
              "      <th>12</th>\n",
              "      <th>13</th>\n",
              "      <th>14</th>\n",
              "      <th>15</th>\n",
              "      <th>16</th>\n",
              "      <th>17</th>\n",
              "      <th>18</th>\n",
              "      <th>19</th>\n",
              "    </tr>\n",
              "  </thead>\n",
              "  <tbody>\n",
              "    <tr>\n",
              "      <th>0</th>\n",
              "      <td>년도</td>\n",
              "      <td>회차</td>\n",
              "      <td>추첨일</td>\n",
              "      <td>1등</td>\n",
              "      <td>1등</td>\n",
              "      <td>2등</td>\n",
              "      <td>2등</td>\n",
              "      <td>3등</td>\n",
              "      <td>3등</td>\n",
              "      <td>4등</td>\n",
              "      <td>4등</td>\n",
              "      <td>5등</td>\n",
              "      <td>5등</td>\n",
              "      <td>당첨번호</td>\n",
              "      <td>당첨번호</td>\n",
              "      <td>당첨번호</td>\n",
              "      <td>당첨번호</td>\n",
              "      <td>당첨번호</td>\n",
              "      <td>당첨번호</td>\n",
              "      <td>당첨번호</td>\n",
              "    </tr>\n",
              "    <tr>\n",
              "      <th>1</th>\n",
              "      <td>년도</td>\n",
              "      <td>회차</td>\n",
              "      <td>추첨일</td>\n",
              "      <td>당첨자수</td>\n",
              "      <td>당첨금액</td>\n",
              "      <td>당첨자수</td>\n",
              "      <td>당첨금액</td>\n",
              "      <td>당첨자수</td>\n",
              "      <td>당첨금액</td>\n",
              "      <td>당첨자수</td>\n",
              "      <td>당첨금액</td>\n",
              "      <td>당첨자수</td>\n",
              "      <td>당첨금액</td>\n",
              "      <td>1</td>\n",
              "      <td>2</td>\n",
              "      <td>3</td>\n",
              "      <td>4</td>\n",
              "      <td>5</td>\n",
              "      <td>6</td>\n",
              "      <td>보너스</td>\n",
              "    </tr>\n",
              "    <tr>\n",
              "      <th>2</th>\n",
              "      <td>2021</td>\n",
              "      <td>968</td>\n",
              "      <td>2021.06.19</td>\n",
              "      <td>13</td>\n",
              "      <td>1,667,729,683원</td>\n",
              "      <td>97</td>\n",
              "      <td>37,251,694원</td>\n",
              "      <td>3116</td>\n",
              "      <td>1,159,633원</td>\n",
              "      <td>148150</td>\n",
              "      <td>50,000원</td>\n",
              "      <td>2329460</td>\n",
              "      <td>5,000원</td>\n",
              "      <td>2</td>\n",
              "      <td>5</td>\n",
              "      <td>12</td>\n",
              "      <td>14</td>\n",
              "      <td>24</td>\n",
              "      <td>39</td>\n",
              "      <td>33</td>\n",
              "    </tr>\n",
              "    <tr>\n",
              "      <th>3</th>\n",
              "      <td>2021</td>\n",
              "      <td>967</td>\n",
              "      <td>2021.06.12</td>\n",
              "      <td>4</td>\n",
              "      <td>5,809,776,094원</td>\n",
              "      <td>69</td>\n",
              "      <td>56,133,103원</td>\n",
              "      <td>2475</td>\n",
              "      <td>1,564,923원</td>\n",
              "      <td>121200</td>\n",
              "      <td>50,000원</td>\n",
              "      <td>2042462</td>\n",
              "      <td>5,000원</td>\n",
              "      <td>1</td>\n",
              "      <td>6</td>\n",
              "      <td>13</td>\n",
              "      <td>37</td>\n",
              "      <td>38</td>\n",
              "      <td>40</td>\n",
              "      <td>9</td>\n",
              "    </tr>\n",
              "    <tr>\n",
              "      <th>4</th>\n",
              "      <td>2021</td>\n",
              "      <td>966</td>\n",
              "      <td>2021.06.05</td>\n",
              "      <td>10</td>\n",
              "      <td>2,411,303,513원</td>\n",
              "      <td>50</td>\n",
              "      <td>80,376,784원</td>\n",
              "      <td>2352</td>\n",
              "      <td>1,708,691원</td>\n",
              "      <td>115370</td>\n",
              "      <td>50,000원</td>\n",
              "      <td>1980202</td>\n",
              "      <td>5,000원</td>\n",
              "      <td>1</td>\n",
              "      <td>21</td>\n",
              "      <td>25</td>\n",
              "      <td>29</td>\n",
              "      <td>34</td>\n",
              "      <td>37</td>\n",
              "      <td>36</td>\n",
              "    </tr>\n",
              "  </tbody>\n",
              "</table>\n",
              "</div>"
            ],
            "text/plain": [
              "     0    1           2     3               4   ...    15    16    17    18    19\n",
              "0    년도   회차         추첨일    1등              1등  ...  당첨번호  당첨번호  당첨번호  당첨번호  당첨번호\n",
              "1    년도   회차         추첨일  당첨자수            당첨금액  ...     3     4     5     6   보너스\n",
              "2  2021  968  2021.06.19    13  1,667,729,683원  ...    12    14    24    39    33\n",
              "3  2021  967  2021.06.12     4  5,809,776,094원  ...    13    37    38    40     9\n",
              "4  2021  966  2021.06.05    10  2,411,303,513원  ...    25    29    34    37    36\n",
              "\n",
              "[5 rows x 20 columns]"
            ]
          },
          "metadata": {
            "tags": []
          },
          "execution_count": 8
        }
      ]
    },
    {
      "cell_type": "code",
      "metadata": {
        "id": "S8P2vsVLyss1",
        "outputId": "37d820bc-d382-4b8d-e7d7-2d70ecaa72a6",
        "colab": {
          "base_uri": "https://localhost:8080/",
          "height": 418
        }
      },
      "source": [
        "# columns = [col for i, col in enumerate(df.iloc[0])]\n",
        "# df.columns = columns\n",
        "# columns\n",
        "\n",
        "# column name 설정\n",
        "col_names = [fn+sn if fn != sn else fn for fn, sn in zip(df_raw.iloc[0], df_raw.iloc[1])]  \n",
        "df_raw.columns = col_names\n",
        "\n",
        "# 0, 1행 삭제\n",
        "df_lot = df_raw.drop([0,1], axis=0)\n",
        "\n",
        "# 회차 컬럼 int로 형변환\n",
        "df_lot = df_lot.astype({'회차':'int32'}, copy=True)\n",
        "\n",
        "# 회차기준 오름차준 정렬\n",
        "df_lot = df_lot.sort_values('회차', ascending=True)\n",
        "\n",
        "# 회차필드 index로 설정\n",
        "df_lot.set_index('회차', inplace=True)\n",
        "\n",
        "df_lot.head(5)"
      ],
      "id": "S8P2vsVLyss1",
      "execution_count": 9,
      "outputs": [
        {
          "output_type": "execute_result",
          "data": {
            "text/html": [
              "<div>\n",
              "<style scoped>\n",
              "    .dataframe tbody tr th:only-of-type {\n",
              "        vertical-align: middle;\n",
              "    }\n",
              "\n",
              "    .dataframe tbody tr th {\n",
              "        vertical-align: top;\n",
              "    }\n",
              "\n",
              "    .dataframe thead th {\n",
              "        text-align: right;\n",
              "    }\n",
              "</style>\n",
              "<table border=\"1\" class=\"dataframe\">\n",
              "  <thead>\n",
              "    <tr style=\"text-align: right;\">\n",
              "      <th></th>\n",
              "      <th>년도</th>\n",
              "      <th>추첨일</th>\n",
              "      <th>1등당첨자수</th>\n",
              "      <th>1등당첨금액</th>\n",
              "      <th>2등당첨자수</th>\n",
              "      <th>2등당첨금액</th>\n",
              "      <th>3등당첨자수</th>\n",
              "      <th>3등당첨금액</th>\n",
              "      <th>4등당첨자수</th>\n",
              "      <th>4등당첨금액</th>\n",
              "      <th>5등당첨자수</th>\n",
              "      <th>5등당첨금액</th>\n",
              "      <th>당첨번호1</th>\n",
              "      <th>당첨번호2</th>\n",
              "      <th>당첨번호3</th>\n",
              "      <th>당첨번호4</th>\n",
              "      <th>당첨번호5</th>\n",
              "      <th>당첨번호6</th>\n",
              "      <th>당첨번호보너스</th>\n",
              "    </tr>\n",
              "    <tr>\n",
              "      <th>회차</th>\n",
              "      <th></th>\n",
              "      <th></th>\n",
              "      <th></th>\n",
              "      <th></th>\n",
              "      <th></th>\n",
              "      <th></th>\n",
              "      <th></th>\n",
              "      <th></th>\n",
              "      <th></th>\n",
              "      <th></th>\n",
              "      <th></th>\n",
              "      <th></th>\n",
              "      <th></th>\n",
              "      <th></th>\n",
              "      <th></th>\n",
              "      <th></th>\n",
              "      <th></th>\n",
              "      <th></th>\n",
              "      <th></th>\n",
              "    </tr>\n",
              "  </thead>\n",
              "  <tbody>\n",
              "    <tr>\n",
              "      <th>1</th>\n",
              "      <td>2002</td>\n",
              "      <td>2002.12.07</td>\n",
              "      <td>0</td>\n",
              "      <td>0원</td>\n",
              "      <td>1</td>\n",
              "      <td>143,934,100원</td>\n",
              "      <td>28</td>\n",
              "      <td>5,140,500원</td>\n",
              "      <td>2537</td>\n",
              "      <td>113,400원</td>\n",
              "      <td>40155</td>\n",
              "      <td>10,000원</td>\n",
              "      <td>10</td>\n",
              "      <td>23</td>\n",
              "      <td>29</td>\n",
              "      <td>33</td>\n",
              "      <td>37</td>\n",
              "      <td>40</td>\n",
              "      <td>16</td>\n",
              "    </tr>\n",
              "    <tr>\n",
              "      <th>2</th>\n",
              "      <td>2002</td>\n",
              "      <td>2002.12.14</td>\n",
              "      <td>1</td>\n",
              "      <td>2,002,006,800원</td>\n",
              "      <td>2</td>\n",
              "      <td>94,866,800원</td>\n",
              "      <td>103</td>\n",
              "      <td>1,842,000원</td>\n",
              "      <td>3763</td>\n",
              "      <td>100,800원</td>\n",
              "      <td>55480</td>\n",
              "      <td>10,000원</td>\n",
              "      <td>9</td>\n",
              "      <td>13</td>\n",
              "      <td>21</td>\n",
              "      <td>25</td>\n",
              "      <td>32</td>\n",
              "      <td>42</td>\n",
              "      <td>2</td>\n",
              "    </tr>\n",
              "    <tr>\n",
              "      <th>3</th>\n",
              "      <td>2002</td>\n",
              "      <td>2002.12.21</td>\n",
              "      <td>1</td>\n",
              "      <td>2,000,000,000원</td>\n",
              "      <td>0</td>\n",
              "      <td>0원</td>\n",
              "      <td>139</td>\n",
              "      <td>1,174,100원</td>\n",
              "      <td>5940</td>\n",
              "      <td>54,900원</td>\n",
              "      <td>73256</td>\n",
              "      <td>10,000원</td>\n",
              "      <td>11</td>\n",
              "      <td>16</td>\n",
              "      <td>19</td>\n",
              "      <td>21</td>\n",
              "      <td>27</td>\n",
              "      <td>31</td>\n",
              "      <td>30</td>\n",
              "    </tr>\n",
              "    <tr>\n",
              "      <th>4</th>\n",
              "      <td>2002</td>\n",
              "      <td>2002.12.28</td>\n",
              "      <td>0</td>\n",
              "      <td>0원</td>\n",
              "      <td>1</td>\n",
              "      <td>211,191,200원</td>\n",
              "      <td>29</td>\n",
              "      <td>7,282,400원</td>\n",
              "      <td>2777</td>\n",
              "      <td>152,100원</td>\n",
              "      <td>52382</td>\n",
              "      <td>10,000원</td>\n",
              "      <td>14</td>\n",
              "      <td>27</td>\n",
              "      <td>30</td>\n",
              "      <td>31</td>\n",
              "      <td>40</td>\n",
              "      <td>42</td>\n",
              "      <td>2</td>\n",
              "    </tr>\n",
              "    <tr>\n",
              "      <th>5</th>\n",
              "      <td>2003</td>\n",
              "      <td>2003.01.04</td>\n",
              "      <td>0</td>\n",
              "      <td>0원</td>\n",
              "      <td>0</td>\n",
              "      <td>0원</td>\n",
              "      <td>42</td>\n",
              "      <td>6,033,800원</td>\n",
              "      <td>3043</td>\n",
              "      <td>166,500원</td>\n",
              "      <td>60434</td>\n",
              "      <td>10,000원</td>\n",
              "      <td>16</td>\n",
              "      <td>24</td>\n",
              "      <td>29</td>\n",
              "      <td>40</td>\n",
              "      <td>41</td>\n",
              "      <td>42</td>\n",
              "      <td>3</td>\n",
              "    </tr>\n",
              "  </tbody>\n",
              "</table>\n",
              "</div>"
            ],
            "text/plain": [
              "      년도         추첨일 1등당첨자수          1등당첨금액  ... 당첨번호4 당첨번호5 당첨번호6 당첨번호보너스\n",
              "회차                                           ...                          \n",
              "1   2002  2002.12.07      0              0원  ...    33    37    40      16\n",
              "2   2002  2002.12.14      1  2,002,006,800원  ...    25    32    42       2\n",
              "3   2002  2002.12.21      1  2,000,000,000원  ...    21    27    31      30\n",
              "4   2002  2002.12.28      0              0원  ...    31    40    42       2\n",
              "5   2003  2003.01.04      0              0원  ...    40    41    42       3\n",
              "\n",
              "[5 rows x 19 columns]"
            ]
          },
          "metadata": {
            "tags": []
          },
          "execution_count": 9
        }
      ]
    },
    {
      "cell_type": "code",
      "metadata": {
        "id": "ESK6FXeJbRRi"
      },
      "source": [
        "import numpy as np\n",
        "\n",
        "# 당첨번호를 원핫인코딩벡터로 변환\n",
        "def lotto2onehot(numbers):\n",
        "    onehot = np.zeros(45)\n",
        "    for number in numbers:\n",
        "        onehot[int(number)-1] = 1 #로또번호에 해당하는 인덱스에 1로 설정 \n",
        "    return onehot\n",
        "\n",
        "# 원핫인코딩벡터를 당첨번호로 변환\n",
        "def onehot2lotto(onehots):\n",
        "    numbers = [i+1 for i, val in enumerate(onehots) if val == 1]\n",
        "    return numbers"
      ],
      "id": "ESK6FXeJbRRi",
      "execution_count": 11,
      "outputs": []
    },
    {
      "cell_type": "code",
      "metadata": {
        "id": "fqK5dorQeMQH",
        "outputId": "4b23a847-b0f5-42a0-b0ab-ec5294faf1bb",
        "colab": {
          "base_uri": "https://localhost:8080/"
        }
      },
      "source": [
        "lotto = [1,3,5,7,9,11]\n",
        "onehot_lotto = lotto2onehot(lotto)\n",
        "print(onehot_lotto)\n",
        "onehot2lotto(onehot_lotto)"
      ],
      "id": "fqK5dorQeMQH",
      "execution_count": 14,
      "outputs": [
        {
          "output_type": "stream",
          "text": [
            "[1. 0. 1. 0. 1. 0. 1. 0. 1. 0. 1. 0. 0. 0. 0. 0. 0. 0. 0. 0. 0. 0. 0. 0.\n",
            " 0. 0. 0. 0. 0. 0. 0. 0. 0. 0. 0. 0. 0. 0. 0. 0. 0. 0. 0. 0. 0.]\n"
          ],
          "name": "stdout"
        },
        {
          "output_type": "execute_result",
          "data": {
            "text/plain": [
              "[1, 3, 5, 7, 9, 11]"
            ]
          },
          "metadata": {
            "tags": []
          },
          "execution_count": 14
        }
      ]
    },
    {
      "cell_type": "code",
      "metadata": {
        "id": "SVEov0queYO1"
      },
      "source": [
        ""
      ],
      "id": "SVEov0queYO1",
      "execution_count": null,
      "outputs": []
    }
  ]
}