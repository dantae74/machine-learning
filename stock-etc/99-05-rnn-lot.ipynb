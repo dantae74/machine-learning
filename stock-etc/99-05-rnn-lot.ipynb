{
  "nbformat": 4,
  "nbformat_minor": 5,
  "metadata": {
    "colab": {
      "name": "99-05-rnn-lot.ipynb",
      "provenance": [],
      "include_colab_link": true
    },
    "language_info": {
      "name": "python"
    },
    "kernelspec": {
      "name": "python3",
      "display_name": "Python 3"
    },
    "accelerator": "GPU"
  },
  "cells": [
    {
      "cell_type": "markdown",
      "metadata": {
        "id": "view-in-github",
        "colab_type": "text"
      },
      "source": [
        "<a href=\"https://colab.research.google.com/github/dantae74/machine-learning/blob/main/stock-etc/99-05-rnn-lot.ipynb\" target=\"_parent\"><img src=\"https://colab.research.google.com/assets/colab-badge.svg\" alt=\"Open In Colab\"/></a>"
      ]
    },
    {
      "cell_type": "markdown",
      "metadata": {
        "id": "WfgQSbgOoe-2"
      },
      "source": [
        "\n",
        "# RNN-lot\n"
      ],
      "id": "WfgQSbgOoe-2"
    },
    {
      "cell_type": "code",
      "metadata": {
        "id": "RK3QTbWDofS7"
      },
      "source": [
        "# !pip install tensorflow-gpu==2.0.0\n",
        "import numpy as np\n",
        "import tensorflow as tf\n",
        "import pandas as pd\n",
        "from tensorflow import keras\n",
        "from tensorflow.keras import layers\n",
        "from io import BytesIO\n",
        "import requests"
      ],
      "id": "RK3QTbWDofS7",
      "execution_count": null,
      "outputs": []
    },
    {
      "cell_type": "markdown",
      "metadata": {
        "id": "jPOe_aAxF08z"
      },
      "source": [
        "# 마지막 회차번호"
      ],
      "id": "jPOe_aAxF08z"
    },
    {
      "cell_type": "code",
      "metadata": {
        "id": "30dxHmEPog-b"
      },
      "source": [
        "# 마지막 회차 번호\n",
        "noEnd ='992' \n",
        "\n",
        "url = f'https://dhlottery.co.kr/gameResult.do?method=allWinExel&gubun=byWin&nowPage=&drwNoStart=1&drwNoEnd={noEnd}'\n",
        "\n",
        "# user-agent\n",
        "user_agent = \"Mozilla/5.0 (Macintosh; Intel Mac OS X 10_15_7) AppleWebKit/537.36 (KHTML, like Gecko) Chrome/90.0.4430.212 Safari/537.36\""
      ],
      "id": "30dxHmEPog-b",
      "execution_count": null,
      "outputs": []
    },
    {
      "cell_type": "code",
      "metadata": {
        "id": "KJXYQXb83X65"
      },
      "source": [
        "result = requests.get(url, headers={\"user-agent\":user_agent})"
      ],
      "id": "KJXYQXb83X65",
      "execution_count": null,
      "outputs": []
    },
    {
      "cell_type": "code",
      "metadata": {
        "id": "1d9_zPKE3hFX"
      },
      "source": [
        "result"
      ],
      "id": "1d9_zPKE3hFX",
      "execution_count": null,
      "outputs": []
    },
    {
      "cell_type": "code",
      "metadata": {
        "id": "DHzsnDB25ntC"
      },
      "source": [
        "f = BytesIO(result.content)\n",
        "# df = pd.read_excel(f,sheet_name='excel',skiprows=3)\n",
        "html_result = pd.read_html(f)"
      ],
      "id": "DHzsnDB25ntC",
      "execution_count": null,
      "outputs": []
    },
    {
      "cell_type": "code",
      "metadata": {
        "id": "bFfN-kn05xEL"
      },
      "source": [
        "df_raw = pd.DataFrame(html_result[1])\n",
        "# df = df.drop([0])\n",
        "df_raw.head()"
      ],
      "id": "bFfN-kn05xEL",
      "execution_count": null,
      "outputs": []
    },
    {
      "cell_type": "code",
      "metadata": {
        "id": "S8P2vsVLyss1"
      },
      "source": [
        "# columns = [col for i, col in enumerate(df.iloc[0])]\n",
        "# df.columns = columns\n",
        "# columns\n",
        "\n",
        "# column name 설정\n",
        "col_names = [fn+sn if fn != sn else fn for fn, sn in zip(df_raw.iloc[0], df_raw.iloc[1])]  \n",
        "df_raw.columns = col_names\n",
        "\n",
        "# 0, 1행 삭제\n",
        "df_lot = df_raw.drop([0,1], axis=0)\n",
        "\n",
        "# 컬럼 형변환\n",
        "df_lot = df_lot.astype({'회차':'uint', '당첨번호1':'uint', '당첨번호2':'uint', '당첨번호3':'uint', '당첨번호4':'uint', '당첨번호5':'uint', '당첨번호6':'uint', '당첨번호보너스':'uint'}, copy=True)\n",
        "\n",
        "# 당첨금액 형변환\n",
        "df_lot['1등당첨금액'] = df_lot['1등당첨금액'].str.replace(\",|원\",'',regex=True).astype('uint')\n",
        "df_lot['2등당첨금액'] = df_lot['2등당첨금액'].str.replace(\",|원\",'',regex=True).astype('uint')\n",
        "df_lot['3등당첨금액'] = df_lot['3등당첨금액'].str.replace(\",|원\",'',regex=True).astype('uint')\n",
        "df_lot['4등당첨금액'] = df_lot['4등당첨금액'].str.replace(\",|원\",'',regex=True).astype('uint')\n",
        "df_lot['5등당첨금액'] = df_lot['5등당첨금액'].str.replace(\",|원\",'',regex=True).astype('uint')\n",
        "\n",
        "# 회차기준 오름차준 정렬\n",
        "df_lot = df_lot.sort_values('회차', ascending=True)\n",
        "\n",
        "# 회차필드 index로 설정\n",
        "df_lot.set_index('회차', inplace=True)\n",
        "\n",
        "# 필요없는 컬럼 삭제\n",
        "df_lot.drop(['년도', '추첨일', '1등당첨자수', '2등당첨자수', '3등당첨자수', '4등당첨자수', '5등당첨자수'], axis=1, inplace=True)\n",
        "\n",
        "df_lot.head(5)"
      ],
      "id": "S8P2vsVLyss1",
      "execution_count": null,
      "outputs": []
    },
    {
      "cell_type": "code",
      "metadata": {
        "id": "_NmZchpDBJhL"
      },
      "source": [
        "df_lot.info()"
      ],
      "id": "_NmZchpDBJhL",
      "execution_count": null,
      "outputs": []
    },
    {
      "cell_type": "code",
      "metadata": {
        "id": "ESK6FXeJbRRi"
      },
      "source": [
        "import numpy as np\n",
        "\n",
        "# 당첨번호를 원핫인코딩벡터로 변환\n",
        "def lotto2onehot(numbers):\n",
        "    onehot = np.zeros(45)\n",
        "    for number in numbers:\n",
        "        onehot[int(number)-1] = 1 #로또번호에 해당하는 인덱스에 1로 설정 \n",
        "    return onehot.tolist()\n",
        "\n",
        "# 원핫인코딩벡터를 당첨번호로 변환\n",
        "def onehot2lotto(onehots):\n",
        "    numbers = [i+1 for i, val in enumerate(onehots) if val == 1]\n",
        "    return numbers"
      ],
      "id": "ESK6FXeJbRRi",
      "execution_count": null,
      "outputs": []
    },
    {
      "cell_type": "code",
      "metadata": {
        "id": "fqK5dorQeMQH"
      },
      "source": [
        "# 함수 동작 확인\n",
        "\n",
        "lotto = [1,3,5,7,9,11]\n",
        "onehot_lotto = lotto2onehot(lotto)\n",
        "print(onehot_lotto)\n",
        "onehot2lotto(onehot_lotto)"
      ],
      "id": "fqK5dorQeMQH",
      "execution_count": null,
      "outputs": []
    },
    {
      "cell_type": "code",
      "metadata": {
        "id": "SVEov0queYO1"
      },
      "source": [
        "# 당첨번호 및 보너스번호 추출\n",
        "lotto_numbers = df_lot[['당첨번호1','당첨번호2','당첨번호3', '당첨번호4', '당첨번호5', '당첨번호6']].to_numpy()\n",
        "bonus_number = df_lot['당첨번호보너스'].to_numpy()\n",
        "lotto_numbers"
      ],
      "id": "SVEov0queYO1",
      "execution_count": null,
      "outputs": []
    },
    {
      "cell_type": "code",
      "metadata": {
        "id": "NlREtUKLd_1s"
      },
      "source": [
        "# 당첨번호 onehot 인코딩\n",
        "onehot_lotto_numbers = list(map(lotto2onehot, lotto_numbers))"
      ],
      "id": "NlREtUKLd_1s",
      "execution_count": null,
      "outputs": []
    },
    {
      "cell_type": "code",
      "metadata": {
        "id": "NWh6XajCTr_O"
      },
      "source": [
        "print(onehot2lotto(onehot_lotto_numbers[-1]))"
      ],
      "id": "NWh6XajCTr_O",
      "execution_count": null,
      "outputs": []
    },
    {
      "cell_type": "code",
      "metadata": {
        "id": "2V4UFOsZRZn6"
      },
      "source": [
        "# make X and Y data\n",
        "WINDOW_SIZE = 10\n",
        "x_data = []\n",
        "y_data = []\n",
        "for i in range(len(onehot_lotto_numbers)-WINDOW_SIZE):\n",
        "    x_data.append([onehot_lotto_numbers[i:i+WINDOW_SIZE-1]])\n",
        "    y_data.append(onehot_lotto_numbers[i+WINDOW_SIZE])\n",
        "\n",
        "print(onehot2lotto(y_data[-1]))"
      ],
      "id": "2V4UFOsZRZn6",
      "execution_count": null,
      "outputs": []
    },
    {
      "cell_type": "code",
      "metadata": {
        "id": "Y0iRM-7nT2q5"
      },
      "source": [
        "print(f'x_data.shape: {np.shape(x_data)}, y_data.shape: {np.shape(y_data)}')"
      ],
      "id": "Y0iRM-7nT2q5",
      "execution_count": null,
      "outputs": []
    },
    {
      "cell_type": "code",
      "metadata": {
        "id": "ZN5wBU3NcHnn"
      },
      "source": [
        "# numpy and reshape\n",
        "x_data = np.reshape(x_data, (-1,WINDOW_SIZE-1, 45))\n",
        "y_data = np.reshape(y_data, (-1, 45))\n",
        "print(f'x_data.shape: {x_data.shape}, y_data.shape: {y_data.shape}')"
      ],
      "id": "ZN5wBU3NcHnn",
      "execution_count": null,
      "outputs": []
    },
    {
      "cell_type": "code",
      "metadata": {
        "id": "H-yKR7ngkWki"
      },
      "source": [
        "# x_data = tf.constant(x_data)\n",
        "# y_data = tf.constant(y_data)"
      ],
      "id": "H-yKR7ngkWki",
      "execution_count": null,
      "outputs": []
    },
    {
      "cell_type": "code",
      "metadata": {
        "id": "anNGpgVkfL1m"
      },
      "source": [
        "# 데이터셋 분리\n",
        "train_idx = (0, 800)\n",
        "valid_idx = (801, 900)\n",
        "test_idx = (900, len(y_data))\n",
        "\n",
        "x_train = x_data[train_idx[0]:train_idx[1]]\n",
        "y_train = y_data[train_idx[0]:train_idx[1]]\n",
        "x_val = x_data[valid_idx[0]:valid_idx[1]]\n",
        "y_val = y_data[valid_idx[0]:valid_idx[1]]\n",
        "x_test = x_data[test_idx[0]:test_idx[1]]\n",
        "y_test = y_data[test_idx[0]:test_idx[1]]\n",
        "\n",
        "\n",
        "bonus_train = bonus_number[train_idx[0]:train_idx[1]]\n",
        "bonus_val = bonus_number[valid_idx[0]:valid_idx[1]]\n",
        "bonus_test = bonus_number[test_idx[0]:test_idx[1]]"
      ],
      "id": "anNGpgVkfL1m",
      "execution_count": null,
      "outputs": []
    },
    {
      "cell_type": "code",
      "metadata": {
        "id": "aCrJzNKXg80K"
      },
      "source": [
        "x_train[1,1,:]"
      ],
      "id": "aCrJzNKXg80K",
      "execution_count": null,
      "outputs": []
    },
    {
      "cell_type": "code",
      "metadata": {
        "id": "YZe1ohcksdVn"
      },
      "source": [
        "y_train[0,:]"
      ],
      "id": "YZe1ohcksdVn",
      "execution_count": null,
      "outputs": []
    },
    {
      "cell_type": "code",
      "metadata": {
        "id": "qygEYZDymjzg"
      },
      "source": [
        "# LSTM 모델 생성\n",
        "\n",
        "import tensorflow as tf\n",
        "from tensorflow import keras\n",
        "from tensorflow.keras import layers\n",
        "from tensorflow.keras import models\n",
        "\n",
        "rnn_units = 7\n",
        "\n",
        "# 모델을 정의합니다.\n",
        "model = keras.Sequential([              \n",
        "    keras.layers.LSTM(rnn_units, batch_input_shape=(None, WINDOW_SIZE-1, 45), return_sequences=False),\n",
        "    # keras.layers.LSTM(rnn_units, batch_input_shape=(None, WINDOW_SIZE-1, 45), return_sequences=True),\n",
        "    # keras.layers.LSTM(rnn_units, return_sequences=True),\n",
        "    # keras.layers.LSTM(rnn_units, return_sequences=False),\n",
        "    keras.layers.Dense(45, activation='relu')\n",
        "])\n",
        "\n",
        "# 모델을 컴파일합니다.\n",
        "model.compile(loss='binary_crossentropy', optimizer='adam', metrics=['accuracy'])"
      ],
      "id": "qygEYZDymjzg",
      "execution_count": null,
      "outputs": []
    },
    {
      "cell_type": "code",
      "metadata": {
        "id": "30BaMybfCn2N"
      },
      "source": [
        "import os\n",
        "import time\n",
        "\n",
        "# 체크포인트가 저장될 디렉토리\n",
        "checkpoint_dir = './training_checkpoints'\n",
        "# 체크포인트 파일 이름\n",
        "checkpoint_prefix = os.path.join(checkpoint_dir, \"ckpt_{epoch}\")\n",
        "\n",
        "keras_callback = [                  \n",
        "  tf.keras.callbacks.ModelCheckpoint(filepath=checkpoint_prefix,save_weights_only=True),\n",
        "  tf.keras.callbacks.EarlyStopping(monitor='loss', patience=30, mode='min', min_delta=0.0001, restore_best_weights=True)\n",
        "]\n",
        "# checkpoint_callback=tf.keras.callbacks.ModelCheckpoint(\n",
        "#     filepath=checkpoint_prefix,\n",
        "#     save_weights_only=True)\n",
        "\n",
        "# callback = tf.keras.callbacks.EarlyStopping(monitor='loss', patience=30, mode='min', min_delta=0.0001, restore_best_weights=True)"
      ],
      "id": "30BaMybfCn2N",
      "execution_count": null,
      "outputs": []
    },
    {
      "cell_type": "code",
      "metadata": {
        "id": "uHMJBB6LkUSM"
      },
      "source": [
        "EPOCHS = 200\n",
        "history = model.fit(x_data, \n",
        "                    y_data, \n",
        "                    epochs=EPOCHS, \n",
        "                    batch_size = 64, \n",
        "                    validation_data=(x_val, y_val),\n",
        "                    verbose=0, \n",
        "                    callbacks=[keras_callback])"
      ],
      "id": "uHMJBB6LkUSM",
      "execution_count": null,
      "outputs": []
    },
    {
      "cell_type": "code",
      "metadata": {
        "id": "S1xFmiJ68HzA"
      },
      "source": [
        "%matplotlib inline\n",
        "import matplotlib.pyplot as plt\n",
        "\n",
        "fig, loss_ax = plt.subplots()\n",
        "plt.figure(figsize=(20,20))\n",
        "\n",
        "acc_ax = loss_ax.twinx()\n",
        "\n",
        "loss_ax.plot(history.history['loss'], 'y', label='train loss')\n",
        "loss_ax.plot(history.history['val_loss'], 'r', label='val loss')\n",
        "\n",
        "acc_ax.plot(history.history['accuracy'], 'b', label='train acc')\n",
        "acc_ax.plot(history.history['val_accuracy'], 'g', label='val acc')\n",
        "\n",
        "loss_ax.set_xlabel('epoch')\n",
        "loss_ax.set_ylabel('loss')\n",
        "acc_ax.set_ylabel('accuray')\n",
        "\n",
        "loss_ax.legend(loc='upper left')\n",
        "acc_ax.legend(loc='lower left')\n",
        "\n",
        "plt.show()"
      ],
      "id": "S1xFmiJ68HzA",
      "execution_count": null,
      "outputs": []
    },
    {
      "cell_type": "code",
      "metadata": {
        "id": "9SInA0r76PLC"
      },
      "source": [
        "# 88 회부터 현재까지 1등부터 5등까지 상금 평균\n",
        "mean_prize = [df_lot['1등당첨금액'].iloc[87:].mean(), \n",
        "              df_lot['2등당첨금액'].iloc[87:].mean(), \n",
        "              df_lot['3등당첨금액'].iloc[87:].mean(), \n",
        "              df_lot['4등당첨금액'].iloc[87:].mean(), \n",
        "              df_lot['5등당첨금액'].iloc[87:].mean()]\n",
        "print(mean_prize)"
      ],
      "id": "9SInA0r76PLC",
      "execution_count": null,
      "outputs": []
    },
    {
      "cell_type": "code",
      "metadata": {
        "id": "y7BKAsUF6kmL"
      },
      "source": [
        "# 등수와 상금을 반환함\n",
        "# 순위에 오르지 못한 경우에는 등수가 0으로 반환함\n",
        "def calc_reward(true_numbers, true_bonus, pred_numbers):\n",
        "\n",
        "    count = 0\n",
        "\n",
        "    for ps in pred_numbers:\n",
        "        if ps in true_numbers:\n",
        "            count += 1\n",
        "\n",
        "    if count == 6:\n",
        "        return 0, mean_prize[0]\n",
        "    elif count == 5 and true_bonus in pred_numbers:\n",
        "        return 1, mean_prize[1]\n",
        "    elif count == 5:\n",
        "        return 2, mean_prize[2]\n",
        "    elif count == 4:\n",
        "        return 3, mean_prize[3]\n",
        "    elif count == 3:\n",
        "        return 4, mean_prize[4]\n",
        "\n",
        "    return 5, 0"
      ],
      "id": "y7BKAsUF6kmL",
      "execution_count": null,
      "outputs": []
    },
    {
      "cell_type": "code",
      "metadata": {
        "id": "x6P7BLA7BfOb"
      },
      "source": [
        "import random\n",
        "def gen_numbers_from_probability(nums_prob):\n",
        "\n",
        "    ball_box = []\n",
        "\n",
        "    for n in range(45):\n",
        "        ball_count = int(nums_prob[n] * 100 + 1)\n",
        "        ball = np.full((ball_count), n+1) #1부터 시작\n",
        "        ball_box += list(ball)\n",
        "\n",
        "    selected_balls = []\n",
        "\n",
        "    random.shuffle(ball_box)\n",
        "\n",
        "    while True:\n",
        "        \n",
        "        if len(selected_balls) == 6:\n",
        "            break\n",
        "        \n",
        "        ball_index = np.random.randint(len(ball_box), size=1)[0]\n",
        "        ball = ball_box[ball_index]\n",
        "\n",
        "        if ball not in selected_balls:\n",
        "            selected_balls.append(ball)\n",
        "\n",
        "    selected_balls.sort()\n",
        "    \n",
        "    return selected_balls"
      ],
      "id": "x6P7BLA7BfOb",
      "execution_count": null,
      "outputs": []
    },
    {
      "cell_type": "code",
      "metadata": {
        "id": "iJrCvwQzZbiK"
      },
      "source": [
        "def calc_reward_from_dataset(one_hot_true_numbers, true_bonuses, one_hot_pred_numbers):\n",
        "  rewards = []\n",
        "  grades = np.zeros(6, dtype=int)\n",
        "\n",
        "  for i, pn in enumerate(one_hot_pred_numbers):\n",
        "    true_numbers = onehot2lotto(one_hot_true_numbers[i])\n",
        "    true_bonus = true_bonuses[i]\n",
        "\n",
        "    pred_numbers = get_lotto_from_predicted_number(one_hot_pred_numbers[i])\n",
        "    grade, sum_reward = calc_reward(true_numbers, true_bonus, pred_numbers)\n",
        "    grades[grade] += 1\n",
        "  \n",
        "    sum_reward = 0\n",
        "    for j in range(10): # 10판 수행\n",
        "      pred_numbers = gen_numbers_from_probability(one_hot_pred_numbers[i])\n",
        "      grade, reward = calc_reward(true_numbers, true_bonus, pred_numbers)\n",
        "      sum_reward += reward\n",
        "      grades[grade] += 1\n",
        "  \n",
        "    rewards.append(sum_reward)\n",
        "\n",
        "  return grades, rewards"
      ],
      "id": "iJrCvwQzZbiK",
      "execution_count": null,
      "outputs": []
    },
    {
      "cell_type": "code",
      "metadata": {
        "id": "ql7qrPvUoulf"
      },
      "source": [
        "def get_lotto_from_predicted_number(pred_lotto):\n",
        "  lotto = []\n",
        "  for i in range(6):\n",
        "    lotto.append(np.argmax(pred_lotto)+1)\n",
        "    pred_lotto[np.argmax(pred_lotto)] = 0 # reset\n",
        "\n",
        "  return np.array(sorted(lotto))"
      ],
      "id": "ql7qrPvUoulf",
      "execution_count": null,
      "outputs": []
    },
    {
      "cell_type": "code",
      "metadata": {
        "id": "-EIPucie7cdg"
      },
      "source": [
        "# train, valid, test 데이터로  predict 하여 reward 성능치 확인해보자\n",
        "y_total_pred =  model.predict(x_data)\n",
        "total_grades, total_rewards = calc_reward_from_dataset(y_data, bonus_number, y_total_pred)\n",
        "\n",
        "print('1st  2nd  3rd  4th  5th  6th  Rewards')\n",
        "print('[{0:4d}] {1:3d} {2:3d} {3:3d} {4:3d} {5:3d} {6:3d}'.format(total_grades[0], total_grades[1], total_grades[2], total_grades[3], total_grades[4], total_grades[5], int(np.sum(total_rewards))))\n"
      ],
      "id": "-EIPucie7cdg",
      "execution_count": null,
      "outputs": []
    },
    {
      "cell_type": "code",
      "metadata": {
        "id": "ZS--XrVoEcSa"
      },
      "source": [
        "y_train_pred = model.predict(x_train)\n",
        "train_grades, train_rewards = calc_reward_from_dataset(y_train, bonus_train, y_train_pred)\n",
        "print('1st  2nd  3rd  4th  5th  6th  Rewards')\n",
        "print('[{0:4d}] {1:3d} {2:3d} {3:3d} {4:3d} {5:3d} {6:3d}'.format(train_grades[0], train_grades[1], train_grades[2], train_grades[3], train_grades[4], train_grades[5], int(np.sum(train_rewards))))\n"
      ],
      "id": "ZS--XrVoEcSa",
      "execution_count": null,
      "outputs": []
    },
    {
      "cell_type": "code",
      "metadata": {
        "id": "C5xvPminEcDa"
      },
      "source": [
        "y_val_pred = model.predict(x_val)\n",
        "val_grades, val_rewards = calc_reward_from_dataset(y_val, bonus_val, y_val_pred)\n",
        "\n",
        "print('1st  2nd  3rd  4th  5th  6th  Rewards')\n",
        "print('[{0:4d}] {1:3d} {2:3d} {3:3d} {4:3d} {5:3d} {6:3d}'.format(val_grades[0], val_grades[1], val_grades[2], val_grades[3], val_grades[4], val_grades[5], int(np.sum(val_rewards))))\n"
      ],
      "id": "C5xvPminEcDa",
      "execution_count": null,
      "outputs": []
    },
    {
      "cell_type": "code",
      "metadata": {
        "id": "Pv0TdZpIEbyX"
      },
      "source": [
        "y_test_pred = model.predict(x_test)\n",
        "test_grades, test_rewards = calc_reward_from_dataset(y_test, bonus_test, y_test_pred)\n",
        "\n",
        "print('1st  2nd  3rd  4th  5th  6th  Rewards')\n",
        "print('[{0:4d}] {1:3d} {2:3d} {3:3d} {4:3d} {5:3d} {6:3d}'.format(test_grades[0], test_grades[1], test_grades[2], test_grades[3], test_grades[4], test_grades[5], int(np.sum(test_rewards))))"
      ],
      "id": "Pv0TdZpIEbyX",
      "execution_count": null,
      "outputs": []
    },
    {
      "cell_type": "code",
      "metadata": {
        "id": "y0kmqZyIv8d0"
      },
      "source": [
        "%matplotlib inline\n",
        "import matplotlib.pyplot as plt\n",
        "\n",
        "total_reward = train_rewards + val_rewards + test_rewards\n",
        "\n",
        "plt.plot(total_reward)\n",
        "plt.ylabel('rewards')\n",
        "plt.show()"
      ],
      "id": "y0kmqZyIv8d0",
      "execution_count": null,
      "outputs": []
    },
    {
      "cell_type": "code",
      "metadata": {
        "id": "q_-KqWMGJKwd"
      },
      "source": [
        "%matplotlib inline\n",
        "import matplotlib.pyplot as plt\n",
        "from matplotlib.ticker import MaxNLocator\n",
        "\n",
        "ax = plt.figure().gca()\n",
        "ax.xaxis.set_major_locator(MaxNLocator(integer=True))\n",
        "\n",
        "rewards = [sum(train_rewards), sum(val_rewards), sum(test_rewards)]\n",
        "\n",
        "class_color=['green', 'blue', 'red']\n",
        "\n",
        "plt.bar(['train', 'val', 'test'], rewards, color=class_color)\n",
        "plt.ylabel('rewards')\n",
        "plt.show()"
      ],
      "id": "q_-KqWMGJKwd",
      "execution_count": null,
      "outputs": []
    },
    {
      "cell_type": "code",
      "metadata": {
        "id": "vQTSx9Mxs3Vn"
      },
      "source": [
        "previous_lotto = np.reshape(x_data[-1,:,:], (1, WINDOW_SIZE-1, 45))"
      ],
      "id": "vQTSx9Mxs3Vn",
      "execution_count": null,
      "outputs": []
    },
    {
      "cell_type": "code",
      "metadata": {
        "id": "Wv_Gp3frs3IY"
      },
      "source": [
        "pred_lotto = model.predict(previous_lotto)"
      ],
      "id": "Wv_Gp3frs3IY",
      "execution_count": null,
      "outputs": []
    },
    {
      "cell_type": "code",
      "metadata": {
        "id": "roObGgbztRve"
      },
      "source": [
        "pred_lotto[0]"
      ],
      "id": "roObGgbztRve",
      "execution_count": null,
      "outputs": []
    },
    {
      "cell_type": "code",
      "metadata": {
        "id": "8jVubJuus_PA"
      },
      "source": [
        "# prediction 확률이 높은 6개의 번호\n",
        "get_lotto_from_predicted_number(pred_lotto[0])"
      ],
      "id": "8jVubJuus_PA",
      "execution_count": null,
      "outputs": []
    },
    {
      "cell_type": "code",
      "metadata": {
        "id": "VHJ3A5KQSgA4"
      },
      "source": [
        "# 확률기준으로 100개의 ball을 생성한 후 6개의 번호 렌덤하게 선택\n",
        "gen_numbers_from_probability(pred_lotto[0])"
      ],
      "id": "VHJ3A5KQSgA4",
      "execution_count": null,
      "outputs": []
    },
    {
      "cell_type": "code",
      "source": [
        ""
      ],
      "metadata": {
        "id": "zE0KJLtxTC53"
      },
      "id": "zE0KJLtxTC53",
      "execution_count": null,
      "outputs": []
    }
  ]
}