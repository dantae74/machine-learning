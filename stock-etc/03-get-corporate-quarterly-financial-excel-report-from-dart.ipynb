{
  "nbformat": 4,
  "nbformat_minor": 5,
  "metadata": {
    "colab": {
      "name": "03-get-corporate-quarterly-financial-excel-report-from-dart.ipynb",
      "provenance": [],
      "include_colab_link": true
    },
    "language_info": {
      "name": "python"
    },
    "kernelspec": {
      "name": "python3",
      "display_name": "Python 3"
    }
  },
  "cells": [
    {
      "cell_type": "markdown",
      "metadata": {
        "id": "view-in-github",
        "colab_type": "text"
      },
      "source": [
        "<a href=\"https://colab.research.google.com/github/dantae74/machine-learning/blob/main/stock-etc/03-get-corporate-quarterly-financial-excel-report-from-dart.ipynb\" target=\"_parent\"><img src=\"https://colab.research.google.com/assets/colab-badge.svg\" alt=\"Open In Colab\"/></a>"
      ]
    },
    {
      "cell_type": "markdown",
      "metadata": {
        "id": "WfgQSbgOoe-2"
      },
      "source": [
        "## DART 사이트에서 기업 공시 정보 가져오기 "
      ],
      "id": "WfgQSbgOoe-2"
    },
    {
      "cell_type": "code",
      "metadata": {
        "id": "RK3QTbWDofS7"
      },
      "source": [
        "import requests\n",
        "from io import BytesIO\n",
        "import pandas as pd"
      ],
      "id": "RK3QTbWDofS7",
      "execution_count": null,
      "outputs": []
    },
    {
      "cell_type": "code",
      "metadata": {
        "id": "30dxHmEPog-b"
      },
      "source": [
        "url = \"http://dart.fss.or.kr/pdf/download/excel.do?rcp_no=20210517001718&dcm_no=8074927&lang=ko\"\n",
        "\n",
        "user_agent = \"Mozilla/5.0 (Macintosh; Intel Mac OS X 10_15_7) AppleWebKit/537.36 (KHTML, like Gecko) Chrome/90.0.4430.212 Safari/537.36\"\n",
        "result = requests.get(url, headers={\"user-agent\":user_agent})"
      ],
      "id": "30dxHmEPog-b",
      "execution_count": null,
      "outputs": []
    },
    {
      "cell_type": "code",
      "metadata": {
        "id": "_C5afApssEJn"
      },
      "source": [
        "result"
      ],
      "id": "_C5afApssEJn",
      "execution_count": null,
      "outputs": []
    },
    {
      "cell_type": "code",
      "metadata": {
        "id": "alQS6DOCyNi0"
      },
      "source": [
        "result.content"
      ],
      "id": "alQS6DOCyNi0",
      "execution_count": null,
      "outputs": []
    },
    {
      "cell_type": "code",
      "metadata": {
        "id": "1pLamGw5sxtK"
      },
      "source": [
        "# Byte raw data => BytesIO Object => Read Excel\n",
        "f = BytesIO(result.content)\n",
        "df = pd.read_excel(f, sheet_name=\"연결 재무상태표\", skiprows=5)\n"
      ],
      "id": "1pLamGw5sxtK",
      "execution_count": null,
      "outputs": []
    },
    {
      "cell_type": "code",
      "metadata": {
        "id": "Yy8HR5Yjs3tg"
      },
      "source": [
        "df"
      ],
      "id": "Yy8HR5Yjs3tg",
      "execution_count": null,
      "outputs": []
    }
  ]
}
