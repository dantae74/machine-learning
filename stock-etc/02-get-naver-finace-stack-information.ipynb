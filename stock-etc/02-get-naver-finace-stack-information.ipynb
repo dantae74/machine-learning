{
  "nbformat": 4,
  "nbformat_minor": 5,
  "metadata": {
    "colab": {
      "name": "02-get-naver-finace-stack-information.ipynb",
      "provenance": [],
      "include_colab_link": true
    },
    "language_info": {
      "name": "python"
    },
    "kernelspec": {
      "name": "python3",
      "display_name": "Python 3"
    },
    "accelerator": "TPU"
  },
  "cells": [
    {
      "cell_type": "markdown",
      "metadata": {
        "id": "view-in-github",
        "colab_type": "text"
      },
      "source": [
        "<a href=\"https://colab.research.google.com/github/dantae74/machine-learning/blob/main/stock-etc/02-get-naver-finace-stack-information.ipynb\" target=\"_parent\"><img src=\"https://colab.research.google.com/assets/colab-badge.svg\" alt=\"Open In Colab\"/></a>"
      ]
    },
    {
      "cell_type": "markdown",
      "metadata": {
        "id": "WfgQSbgOoe-2"
      },
      "source": [
        "## 네이버 금융 주식 데이터 가져오기"
      ],
      "id": "WfgQSbgOoe-2"
    },
    {
      "cell_type": "code",
      "metadata": {
        "id": "4ToZiH1J_xw9"
      },
      "source": [
        "import requests\n",
        "from bs4 import BeautifulSoup"
      ],
      "id": "4ToZiH1J_xw9",
      "execution_count": 1,
      "outputs": []
    },
    {
      "cell_type": "code",
      "metadata": {
        "id": "KWC_EjBJ_xw9"
      },
      "source": [
        "def getBsObj(company_code):\n",
        "  url = 'https://finance.naver.com/item/main.nhn?code=' + company_code\n",
        "  result = requests.get(url)\n",
        "  bsObj = BeautifulSoup(result.content, \"html.parser\")\n",
        "  return bsObj"
      ],
      "id": "KWC_EjBJ_xw9",
      "execution_count": 2,
      "outputs": []
    },
    {
      "cell_type": "code",
      "metadata": {
        "id": "W2GzevwO_xw-"
      },
      "source": [
        "def getPrice(company_code):\n",
        "  bsObj = getBsObj(company_code)\n",
        "  no_today = bsObj.find(\"p\", {\"class\":\"no_today\"})\n",
        "  blind_price = no_today.find(\"span\", {\"class\":\"blind\"})\n",
        "  return blind_price.text"
      ],
      "id": "W2GzevwO_xw-",
      "execution_count": 3,
      "outputs": []
    },
    {
      "cell_type": "code",
      "metadata": {
        "id": "Qm_BSL1SKj6A"
      },
      "source": [
        "def getCandleData(company_code):\n",
        "  bsObj = getBsObj(company_code)\n",
        "  no_info = bsObj.find(\"table\", {\"class\":\"no_info\"})\n",
        "  trs = no_info.findAll(\"tr\")\n",
        "\n",
        "  # tr[0] => 전일종가, 고가, 거래량\n",
        "  # 전일종가 (close)\n",
        "  tds = trs[0].findAll(\"td\")\n",
        "  close = tds[0].find(\"span\", {\"class\":\"blind\"}).text\n",
        "\n",
        "  # 고가 (high)\n",
        "  high = tds[1].find(\"span\", {\"class\":\"blind\"}).text\n",
        "\n",
        "  # 거래량 (volume)\n",
        "  volume = tds[2].find(\"span\", {\"class\":\"blind\"}).text\n",
        "\n",
        "\n",
        "  # tr[1] => 시가, 저가, 거래대금\n",
        "  # 시가 (nowPrice)\n",
        "  tds = trs[1].findAll(\"td\")\n",
        "  nowPrice = tds[0].find(\"span\", {\"class\":\"blind\"}).text\n",
        "\n",
        "  # 저가 (low)\n",
        "  low = tds[1].find(\"span\", {\"class\":\"blind\"}).text\n",
        "\n",
        "  # 거래대금 (money)\n",
        "  money = tds[2].find(\"span\", {\"class\":\"blind\"}).text\n",
        "  \n",
        "  # print(trs[1])\n",
        "\n",
        "  return {\"close\":close, \"high\":high, \n",
        "          \"volume\":volume,\"nowPrice\":nowPrice, \n",
        "          \"low\":low, \"money\":money}"
      ],
      "id": "Qm_BSL1SKj6A",
      "execution_count": 26,
      "outputs": []
    },
    {
      "cell_type": "code",
      "metadata": {
        "colab": {
          "base_uri": "https://localhost:8080/"
        },
        "id": "2qU10Jv3_xw-",
        "outputId": "43d6609f-52b3-4f61-c684-2e998a31ac78"
      },
      "source": [
        "company_codes = ['005930', '000660']\n",
        "\n",
        "candleData = getCandleData(company_codes[1])\n",
        "candleData\n",
        "\n",
        "\n",
        "# for company_code in company_codes:\n",
        "#   price = getPrice(company_code)\n",
        "#   print(price)"
      ],
      "id": "2qU10Jv3_xw-",
      "execution_count": 27,
      "outputs": [
        {
          "output_type": "execute_result",
          "data": {
            "text/plain": [
              "{'close': '125,500',\n",
              " 'high': '126,500',\n",
              " 'low': '124,000',\n",
              " 'money': '291,674',\n",
              " 'nowPrice': '126,500',\n",
              " 'volume': '2,326,559'}"
            ]
          },
          "metadata": {
            "tags": []
          },
          "execution_count": 27
        }
      ]
    },
    {
      "cell_type": "code",
      "metadata": {
        "id": "b9-mPD1Q_xw_"
      },
      "source": [
        ""
      ],
      "id": "b9-mPD1Q_xw_",
      "execution_count": 4,
      "outputs": []
    },
    {
      "cell_type": "code",
      "metadata": {
        "id": "VywTUgrU_xxA"
      },
      "source": [
        ""
      ],
      "id": "VywTUgrU_xxA",
      "execution_count": 4,
      "outputs": []
    },
    {
      "cell_type": "code",
      "metadata": {
        "id": "FQMLF9ECiWvy"
      },
      "source": [
        ""
      ],
      "id": "FQMLF9ECiWvy",
      "execution_count": 4,
      "outputs": []
    },
    {
      "cell_type": "code",
      "metadata": {
        "id": "0uQb8mb2iVXZ"
      },
      "source": [
        ""
      ],
      "id": "0uQb8mb2iVXZ",
      "execution_count": 4,
      "outputs": []
    }
  ]
}