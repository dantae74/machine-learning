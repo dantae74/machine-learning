{
  "nbformat": 4,
  "nbformat_minor": 5,
  "metadata": {
    "colab": {
      "name": "02-get-naver-finace-stack-information.ipynb",
      "provenance": [],
      "include_colab_link": true
    },
    "language_info": {
      "name": "python"
    },
    "kernelspec": {
      "name": "python3",
      "display_name": "Python 3"
    },
    "accelerator": "TPU"
  },
  "cells": [
    {
      "cell_type": "markdown",
      "metadata": {
        "id": "view-in-github",
        "colab_type": "text"
      },
      "source": [
        "<a href=\"https://colab.research.google.com/github/dantae74/machine-learning/blob/main/stock-etc/02-get-naver-finace-stack-information.ipynb\" target=\"_parent\"><img src=\"https://colab.research.google.com/assets/colab-badge.svg\" alt=\"Open In Colab\"/></a>"
      ]
    },
    {
      "cell_type": "markdown",
      "metadata": {
        "id": "WfgQSbgOoe-2"
      },
      "source": [
        "## 네이버 금융 주식 데이터 가져오기"
      ],
      "id": "WfgQSbgOoe-2"
    },
    {
      "cell_type": "code",
      "metadata": {
        "id": "4ToZiH1J_xw9"
      },
      "source": [
        "import requests\n",
        "from bs4 import BeautifulSoup"
      ],
      "id": "4ToZiH1J_xw9",
      "execution_count": null,
      "outputs": []
    },
    {
      "cell_type": "code",
      "metadata": {
        "id": "KWC_EjBJ_xw9"
      },
      "source": [
        "def getBsObj(company_code):\n",
        "  url = 'https://finance.naver.com/item/main.nhn?code=' + company_code\n",
        "  result = requests.get(url)\n",
        "  bsObj = BeautifulSoup(result.content, \"html.parser\")\n",
        "  return bsObj"
      ],
      "id": "KWC_EjBJ_xw9",
      "execution_count": null,
      "outputs": []
    },
    {
      "cell_type": "code",
      "metadata": {
        "id": "W2GzevwO_xw-"
      },
      "source": [
        "def getPrice(company_code):\n",
        "  bsObj = getBsObj(company_code)\n",
        "  no_today = bsObj.find(\"p\", {\"class\":\"no_today\"})\n",
        "  blind_price = no_today.find(\"span\", {\"class\":\"blind\"})\n",
        "  return blind_price.text"
      ],
      "id": "W2GzevwO_xw-",
      "execution_count": null,
      "outputs": []
    },
    {
      "cell_type": "code",
      "metadata": {
        "colab": {
          "base_uri": "https://localhost:8080/"
        },
        "id": "2qU10Jv3_xw-",
        "outputId": "3c41e227-0d65-42ca-8b21-d5bf130cc68a"
      },
      "source": [
        "company_codes = ['005930', '000660']\n",
        "\n",
        "for company_code in company_codes:\n",
        "  price = getPrice(company_code)\n",
        "  print(price)"
      ],
      "id": "2qU10Jv3_xw-",
      "execution_count": null,
      "outputs": [
        {
          "output_type": "stream",
          "text": [
            "80,100\n",
            "125,000\n"
          ],
          "name": "stdout"
        }
      ]
    },
    {
      "cell_type": "code",
      "metadata": {
        "id": "b9-mPD1Q_xw_"
      },
      "source": [
        ""
      ],
      "id": "b9-mPD1Q_xw_",
      "execution_count": null,
      "outputs": []
    },
    {
      "cell_type": "code",
      "metadata": {
        "id": "VywTUgrU_xxA"
      },
      "source": [
        ""
      ],
      "id": "VywTUgrU_xxA",
      "execution_count": null,
      "outputs": []
    },
    {
      "cell_type": "code",
      "metadata": {
        "id": "FQMLF9ECiWvy"
      },
      "source": [
        ""
      ],
      "id": "FQMLF9ECiWvy",
      "execution_count": 4,
      "outputs": []
    },
    {
      "cell_type": "code",
      "metadata": {
        "id": "0uQb8mb2iVXZ"
      },
      "source": [
        ""
      ],
      "id": "0uQb8mb2iVXZ",
      "execution_count": 4,
      "outputs": []
    }
  ]
}
