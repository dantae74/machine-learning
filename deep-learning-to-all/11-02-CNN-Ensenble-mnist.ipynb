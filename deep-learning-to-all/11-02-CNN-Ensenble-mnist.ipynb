{
  "nbformat": 4,
  "nbformat_minor": 5,
  "metadata": {
    "colab": {
      "name": "11-02-CNN-Ensenble-mnist.ipynb",
      "provenance": [],
      "include_colab_link": true
    },
    "language_info": {
      "name": "python"
    },
    "kernelspec": {
      "name": "python3",
      "display_name": "Python 3"
    },
    "accelerator": "GPU"
  },
  "cells": [
    {
      "cell_type": "markdown",
      "metadata": {
        "id": "view-in-github",
        "colab_type": "text"
      },
      "source": [
        "<a href=\"https://colab.research.google.com/github/dantae74/machine-learning/blob/main/11-02-CNN-Ensenble-mnist.ipynb\" target=\"_parent\"><img src=\"https://colab.research.google.com/assets/colab-badge.svg\" alt=\"Open In Colab\"/></a>"
      ]
    },
    {
      "cell_type": "markdown",
      "metadata": {
        "id": "WfgQSbgOoe-2"
      },
      "source": [
        "모두를 위한 머신러닝에서 가져왔습니다.\n",
        "\n",
        "# CNN -ensemble - MNIST\n",
        "\n"
      ],
      "id": "WfgQSbgOoe-2"
    },
    {
      "cell_type": "code",
      "metadata": {
        "id": "RK3QTbWDofS7"
      },
      "source": [
        "import numpy as np\n",
        "import tensorflow as tf\n",
        "from tensorflow import keras\n",
        "from tensorflow.keras import layers\n",
        "import random"
      ],
      "id": "RK3QTbWDofS7",
      "execution_count": null,
      "outputs": []
    },
    {
      "cell_type": "code",
      "metadata": {
        "id": "ozGIC3c2WXaY"
      },
      "source": [
        "# hyper parameters\n",
        "learning_rate = 0.001\n",
        "training_epochs = 15\n",
        "batch_size = 128\n",
        "drop_out = 0.3"
      ],
      "id": "ozGIC3c2WXaY",
      "execution_count": null,
      "outputs": []
    },
    {
      "cell_type": "code",
      "metadata": {
        "id": "pwl3GhNWLnEx"
      },
      "source": [
        "def get_model():\n",
        "    inputs = keras.Input(shape=(28,28,1))\n",
        "\n",
        "    # CL-PL #1\n",
        "    x = layers.Conv2D(32, 3, padding='same', activation='relu')(inputs)\n",
        "    x = layers.MaxPool2D(pool_size=(2,2), strides=2, padding='same')(x)\n",
        "    x = layers.Dropout(0.3)(x)\n",
        "\n",
        "    # CL-PL #2\n",
        "    x = layers.Conv2D(64, 3, padding='same', activation='relu')(x)\n",
        "    x = layers.MaxPool2D(pool_size=(2,2), strides=2, padding='same')(x)\n",
        "    x = layers.Dropout(0.3)(x)\n",
        "\n",
        "    # CL-PL #3\n",
        "    x = layers.Conv2D(128, 3, padding='same', activation='relu')(x)\n",
        "    x = layers.MaxPool2D(pool_size=(2,2), strides=2, padding='same')(x)\n",
        "    x = layers.Dropout(0.3)(x)\n",
        "\n",
        "    # FC #1\n",
        "    flat = tf.reshape(x, [-1, 128 * 4 * 4])\n",
        "    x = layers.Dense(units=625, activation='relu')(flat)\n",
        "    x = layers.Dropout(0.5)(x)\n",
        "\n",
        "    # FC #2\n",
        "    outputs = layers.Dense(units=10, activation='softmax')(x)\n",
        "\n",
        "    return keras.Model(inputs, outputs)"
      ],
      "id": "pwl3GhNWLnEx",
      "execution_count": null,
      "outputs": []
    },
    {
      "cell_type": "code",
      "metadata": {
        "id": "54CJ2joCLnIJ"
      },
      "source": [
        "model1 = get_model()\n",
        "model2 = get_model()"
      ],
      "id": "54CJ2joCLnIJ",
      "execution_count": null,
      "outputs": []
    },
    {
      "cell_type": "code",
      "metadata": {
        "id": "ubgOUsXALnMw"
      },
      "source": [
        "inputs = keras.Input(shape=(28,28,1))\n",
        "y1 = model1(inputs)\n",
        "y2 = model2(inputs)\n",
        "outputs = layers.average([y1, y2])\n",
        "ensemble_model = keras.Model(inputs=inputs, outputs=outputs)\n",
        "ensemble_model.compile(loss='categorical_crossentropy', optimizer=tf.keras.optimizers.Adam(lr=learning_rate), metrics=['accuracy'])"
      ],
      "id": "ubgOUsXALnMw",
      "execution_count": null,
      "outputs": []
    },
    {
      "cell_type": "code",
      "metadata": {
        "id": "wboJFfDrLnQM"
      },
      "source": [
        "model1.summary()\n",
        "model2.summary()\n",
        "ensemble_model.summary()"
      ],
      "id": "wboJFfDrLnQM",
      "execution_count": null,
      "outputs": []
    },
    {
      "cell_type": "code",
      "metadata": {
        "id": "3S36emJXVD8E"
      },
      "source": [
        "tf.keras.utils.plot_model(ensemble_model, show_shapes=True)"
      ],
      "id": "3S36emJXVD8E",
      "execution_count": null,
      "outputs": []
    },
    {
      "cell_type": "code",
      "metadata": {
        "id": "30dxHmEPog-b"
      },
      "source": [
        "mnist = tf.keras.datasets.mnist"
      ],
      "id": "30dxHmEPog-b",
      "execution_count": null,
      "outputs": []
    },
    {
      "cell_type": "code",
      "metadata": {
        "id": "4qJmVWpO7ijW"
      },
      "source": [
        "(x_train, y_train), (x_test, y_test) = mnist.load_data()"
      ],
      "id": "4qJmVWpO7ijW",
      "execution_count": null,
      "outputs": []
    },
    {
      "cell_type": "code",
      "metadata": {
        "id": "mQ6VNIui73Wk"
      },
      "source": [
        "print('x_train.shape:', x_train.shape, 'y_train.shape:', y_train.shape)"
      ],
      "id": "mQ6VNIui73Wk",
      "execution_count": null,
      "outputs": []
    },
    {
      "cell_type": "code",
      "metadata": {
        "id": "XZWKjzSE7iwM"
      },
      "source": [
        "x_test = x_test / 255\n",
        "x_train = x_train / 255\n",
        "x_train = x_train.reshape(-1, 28, 28, 1)\n",
        "x_test = x_test.reshape(-1, 28, 28, 1)"
      ],
      "id": "XZWKjzSE7iwM",
      "execution_count": null,
      "outputs": []
    },
    {
      "cell_type": "code",
      "metadata": {
        "id": "9MlVW4rD9C96"
      },
      "source": [
        "print('x_train.shape:', x_train.shape, 'x_test.shape:', x_test.shape)"
      ],
      "id": "9MlVW4rD9C96",
      "execution_count": null,
      "outputs": []
    },
    {
      "cell_type": "code",
      "metadata": {
        "id": "Eh1GHkkd9DHH"
      },
      "source": [
        "# one hot encode y data\n",
        "y_train = tf.keras.utils.to_categorical(y_train, 10)\n",
        "y_test = tf.keras.utils.to_categorical(y_test, 10)"
      ],
      "id": "Eh1GHkkd9DHH",
      "execution_count": null,
      "outputs": []
    },
    {
      "cell_type": "code",
      "metadata": {
        "id": "GWsy2lQ2XOzU"
      },
      "source": [
        "print('y_train.shape:', y_train.shape)"
      ],
      "id": "GWsy2lQ2XOzU",
      "execution_count": null,
      "outputs": []
    },
    {
      "cell_type": "code",
      "metadata": {
        "id": "1PWtfBX39s6H"
      },
      "source": [
        "ensemble_model.fit(x_train, y_train, batch_size=batch_size, epochs=training_epochs, verbose=0)"
      ],
      "id": "1PWtfBX39s6H",
      "execution_count": null,
      "outputs": []
    },
    {
      "cell_type": "code",
      "metadata": {
        "id": "DYzdN-m79tKA"
      },
      "source": [
        "# predict 10 random hand-writing data\n",
        "y_predicted = ensemble_model.predict(x_test)\n",
        "for x in range(0, 10):\n",
        "    random_index = random.randint(0, x_test.shape[0]-1)\n",
        "    print(\"index: \", random_index,\n",
        "          \"actual y: \", np.argmax(y_test[random_index]),\n",
        "          \"predicted y: \", np.argmax(y_predicted[random_index]))\n",
        "\n",
        "evaluation = ensemble_model.evaluate(x_test, y_test)\n",
        "print('loss: ', evaluation[0])\n",
        "print('accuracy', evaluation[1])"
      ],
      "id": "DYzdN-m79tKA",
      "execution_count": null,
      "outputs": []
    }
  ]
}