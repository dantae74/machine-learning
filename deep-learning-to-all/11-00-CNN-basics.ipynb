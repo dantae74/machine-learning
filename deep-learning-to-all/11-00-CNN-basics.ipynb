{
  "nbformat": 4,
  "nbformat_minor": 5,
  "metadata": {
    "colab": {
      "name": "11-00-CNN-basics.ipynb",
      "provenance": [],
      "include_colab_link": true
    },
    "language_info": {
      "name": "python"
    },
    "kernelspec": {
      "name": "python3",
      "display_name": "Python 3"
    },
    "accelerator": "GPU"
  },
  "cells": [
    {
      "cell_type": "markdown",
      "metadata": {
        "id": "view-in-github",
        "colab_type": "text"
      },
      "source": [
        "<a href=\"https://colab.research.google.com/github/dantae74/machine-learning/blob/main/11-00-CNN-basics.ipynb\" target=\"_parent\"><img src=\"https://colab.research.google.com/assets/colab-badge.svg\" alt=\"Open In Colab\"/></a>"
      ]
    },
    {
      "cell_type": "markdown",
      "metadata": {
        "id": "WfgQSbgOoe-2"
      },
      "source": [
        "모두를 위한 머신러닝에서 가져왔습니다.\n",
        "\n",
        "# CNN - MNIST\n",
        "\n"
      ],
      "id": "WfgQSbgOoe-2"
    },
    {
      "cell_type": "code",
      "metadata": {
        "id": "RK3QTbWDofS7"
      },
      "source": [
        "import numpy as np\n",
        "import tensorflow as tf\n",
        "import random\n",
        "import matplotlib.pyplot as plt"
      ],
      "id": "RK3QTbWDofS7",
      "execution_count": 1,
      "outputs": []
    },
    {
      "cell_type": "code",
      "metadata": {
        "id": "mVBXRLTEF2FM"
      },
      "source": [
        "mnist = tf.keras.datasets.mnist"
      ],
      "id": "mVBXRLTEF2FM",
      "execution_count": 2,
      "outputs": []
    },
    {
      "cell_type": "code",
      "metadata": {
        "id": "4qJmVWpO7ijW"
      },
      "source": [
        "(x_train, y_train), (x_test, y_test) = mnist.load_data()"
      ],
      "id": "4qJmVWpO7ijW",
      "execution_count": 3,
      "outputs": []
    },
    {
      "cell_type": "code",
      "metadata": {
        "id": "mQ6VNIui73Wk",
        "colab": {
          "base_uri": "https://localhost:8080/"
        },
        "outputId": "1d655955-df67-4fab-aef5-95409f4e30c6"
      },
      "source": [
        "print('x_train.shape:', x_train.shape, 'y_train.shape:', y_train.shape)"
      ],
      "id": "mQ6VNIui73Wk",
      "execution_count": 4,
      "outputs": [
        {
          "output_type": "stream",
          "text": [
            "x_train.shape: (60000, 28, 28) y_train.shape: (60000,)\n"
          ],
          "name": "stdout"
        }
      ]
    },
    {
      "cell_type": "code",
      "metadata": {
        "id": "-3HBLhZIZIeL"
      },
      "source": [
        "x_test = x_test / 255\n",
        "x_train = x_train / 255\n",
        "x_train = x_train.reshape(-1, 28, 28, 1)\n",
        "x_test = x_test.reshape(-1, 28, 28, 1)"
      ],
      "id": "-3HBLhZIZIeL",
      "execution_count": 5,
      "outputs": []
    },
    {
      "cell_type": "code",
      "metadata": {
        "id": "t9eanVYn4ibn",
        "outputId": "42d10aa8-bcbb-499e-daee-421808acebe4",
        "colab": {
          "base_uri": "https://localhost:8080/",
          "height": 299
        }
      },
      "source": [
        "img = x_test[0]\n",
        "print('img.shape', img.shape)\n",
        "plt.imshow(img.reshape(28,28),cmap='gray')"
      ],
      "id": "t9eanVYn4ibn",
      "execution_count": 6,
      "outputs": [
        {
          "output_type": "stream",
          "text": [
            "img.shape (28, 28, 1)\n"
          ],
          "name": "stdout"
        },
        {
          "output_type": "execute_result",
          "data": {
            "text/plain": [
              "<matplotlib.image.AxesImage at 0x7f886bde9a10>"
            ]
          },
          "metadata": {
            "tags": []
          },
          "execution_count": 6
        },
        {
          "output_type": "display_data",
          "data": {
            "image/png": "[encoded data removed]",
            "text/plain": [
              "<Figure size 432x288 with 1 Axes>"
            ]
          },
          "metadata": {
            "tags": [],
            "needs_background": "light"
          }
        }
      ]
    },
    {
      "cell_type": "code",
      "metadata": {
        "id": "XZWKjzSE7iwM",
        "colab": {
          "base_uri": "https://localhost:8080/"
        },
        "outputId": "9f83ff1e-a3d0-44d3-ca9b-d62e54fd8606"
      },
      "source": [
        "img=img.reshape(-1,28,28,1)\n",
        "print('img.shape', img.shape)\n",
        "# x_con = tf.keras.layers.Conv2D(filters=16, kernel_size=(3,3), activation='relu',input_shape=img[1:].shape)(img)\n",
        "x_con = tf.keras.layers.Conv2D(filters=16, kernel_size=(3,3), activation='relu')(img)"
      ],
      "id": "XZWKjzSE7iwM",
      "execution_count": 7,
      "outputs": [
        {
          "output_type": "stream",
          "text": [
            "img.shape (1, 28, 28, 1)\n"
          ],
          "name": "stdout"
        }
      ]
    },
    {
      "cell_type": "code",
      "metadata": {
        "id": "_NU2eoxqYo5_",
        "colab": {
          "base_uri": "https://localhost:8080/"
        },
        "outputId": "7839b9fa-d6d5-4022-e578-d333813cd68a"
      },
      "source": [
        "x_con.shape"
      ],
      "id": "_NU2eoxqYo5_",
      "execution_count": 8,
      "outputs": [
        {
          "output_type": "execute_result",
          "data": {
            "text/plain": [
              "TensorShape([1, 26, 26, 16])"
            ]
          },
          "metadata": {
            "tags": []
          },
          "execution_count": 8
        }
      ]
    },
    {
      "cell_type": "code",
      "metadata": {
        "id": "-KY3egE82Fzv",
        "outputId": "01f4cced-198c-4b53-8ce4-4701a1acb732",
        "colab": {
          "base_uri": "https://localhost:8080/"
        }
      },
      "source": [
        "x = np.swapaxes(x_con,0,3)\n",
        "x.shape"
      ],
      "id": "-KY3egE82Fzv",
      "execution_count": 9,
      "outputs": [
        {
          "output_type": "execute_result",
          "data": {
            "text/plain": [
              "(16, 26, 26, 1)"
            ]
          },
          "metadata": {
            "tags": []
          },
          "execution_count": 9
        }
      ]
    },
    {
      "cell_type": "code",
      "metadata": {
        "id": "Fw_gdMNV2Tfc",
        "outputId": "40d86954-d72f-4498-893c-f56cf465543d",
        "colab": {
          "base_uri": "https://localhost:8080/",
          "height": 268
        }
      },
      "source": [
        "for i, one_img in enumerate(x):\n",
        "  plt.subplot(4,4,i+1), plt.imshow(x[i].reshape(26,26),cmap='gray')"
      ],
      "id": "Fw_gdMNV2Tfc",
      "execution_count": 10,
      "outputs": [
        {
          "output_type": "display_data",
          "data": {
            "image/png": "[encoded data removed]",
            "text/plain": [
              "<Figure size 432x288 with 16 Axes>"
            ]
          },
          "metadata": {
            "tags": [],
            "needs_background": "light"
          }
        }
      ]
    },
    {
      "cell_type": "code",
      "metadata": {
        "id": "CpXJ_j8o2-pA",
        "outputId": "55166766-0781-4853-8f04-57c527b1dce1",
        "colab": {
          "base_uri": "https://localhost:8080/"
        }
      },
      "source": [
        "x_pool = tf.keras.layers.MaxPool2D(pool_size=(2,2), strides=2, padding='same')(x_con)\n",
        "x_pool.shape"
      ],
      "id": "CpXJ_j8o2-pA",
      "execution_count": 14,
      "outputs": [
        {
          "output_type": "execute_result",
          "data": {
            "text/plain": [
              "TensorShape([1, 13, 13, 16])"
            ]
          },
          "metadata": {
            "tags": []
          },
          "execution_count": 14
        }
      ]
    },
    {
      "cell_type": "code",
      "metadata": {
        "id": "gGAmmyIU_LhP",
        "outputId": "1e373e29-fb9e-461c-f21d-bc0222a0f062",
        "colab": {
          "base_uri": "https://localhost:8080/"
        }
      },
      "source": [
        "x1 = np.swapaxes(x_pool,0,3)\n",
        "x1.shape"
      ],
      "id": "gGAmmyIU_LhP",
      "execution_count": 12,
      "outputs": [
        {
          "output_type": "execute_result",
          "data": {
            "text/plain": [
              "(16, 13, 13, 1)"
            ]
          },
          "metadata": {
            "tags": []
          },
          "execution_count": 12
        }
      ]
    },
    {
      "cell_type": "code",
      "metadata": {
        "id": "2RKGVEAE_yOS",
        "outputId": "b077d527-4c32-493e-fd8d-0ac8330cee07",
        "colab": {
          "base_uri": "https://localhost:8080/",
          "height": 268
        }
      },
      "source": [
        "for i, one_img in enumerate(x1):\n",
        "  plt.subplot(4,4,i+1), plt.imshow(x1[i].reshape(13,13),cmap='gray')"
      ],
      "id": "2RKGVEAE_yOS",
      "execution_count": 13,
      "outputs": [
        {
          "output_type": "display_data",
          "data": {
            "image/png": "[encoded data removed]",
            "text/plain": [
              "<Figure size 432x288 with 16 Axes>"
            ]
          },
          "metadata": {
            "tags": [],
            "needs_background": "light"
          }
        }
      ]
    }
  ]
}
