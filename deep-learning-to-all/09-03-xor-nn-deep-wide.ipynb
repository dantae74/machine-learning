{
  "nbformat": 4,
  "nbformat_minor": 5,
  "metadata": {
    "colab": {
      "name": "09-02-xor-nn.ipynb",
      "provenance": [],
      "include_colab_link": true
    },
    "language_info": {
      "name": "python"
    },
    "kernelspec": {
      "name": "python3",
      "display_name": "Python 3"
    }
  },
  "cells": [
    {
      "cell_type": "markdown",
      "metadata": {
        "id": "view-in-github",
        "colab_type": "text"
      },
      "source": [
        "<a href=\"https://colab.research.google.com/github/dantae74/machine-learning/blob/main/09-03-xor-nn-deep-wide.ipynb\" target=\"_parent\"><img src=\"https://colab.research.google.com/assets/colab-badge.svg\" alt=\"Open In Colab\"/></a>"
      ]
    },
    {
      "cell_type": "markdown",
      "metadata": {
        "id": "WfgQSbgOoe-2"
      },
      "source": [
        "모두를 위한 머신러닝에서 가져왔습니다.\n",
        "# XOR (deep and wide)"
      ],
      "id": "WfgQSbgOoe-2"
    },
    {
      "cell_type": "code",
      "metadata": {
        "id": "SuQ_snsRgsZI"
      },
      "source": [
        "import tensorflow as tf\n",
        "import numpy as np"
      ],
      "id": "SuQ_snsRgsZI",
      "execution_count": 1,
      "outputs": []
    },
    {
      "cell_type": "code",
      "metadata": {
        "id": "AilUdn87gx_7"
      },
      "source": [
        "x_data = np.array([[0, 0], [0, 1], [1, 0], [1, 1]], dtype=np.float32)\n",
        "y_data = np.array([[0], [1], [1], [0]], dtype=np.float32)"
      ],
      "id": "AilUdn87gx_7",
      "execution_count": 2,
      "outputs": []
    },
    {
      "cell_type": "code",
      "metadata": {
        "id": "8T4Qft06hi1k",
        "colab": {
          "base_uri": "https://localhost:8080/"
        },
        "outputId": "b278b505-2de0-4fd2-f74b-4ecd04334791"
      },
      "source": [
        "print(x_data.shape)\n",
        "print(y_data.shape)"
      ],
      "id": "8T4Qft06hi1k",
      "execution_count": 3,
      "outputs": [
        {
          "output_type": "stream",
          "text": [
            "(4, 2)\n",
            "(4, 1)\n"
          ],
          "name": "stdout"
        }
      ]
    },
    {
      "cell_type": "code",
      "metadata": {
        "id": "e637vJCKg7kM"
      },
      "source": [
        "tf.model = tf.keras.Sequential()\n",
        "tf.model.add(tf.keras.layers.Dense(units=16, input_dim=2, activation='sigmoid'))\n",
        "tf.model.add(tf.keras.layers.Dense(units=16, activation='sigmoid'))\n",
        "tf.model.add(tf.keras.layers.Dense(units=16, activation='sigmoid'))\n",
        "tf.model.add(tf.keras.layers.Dense(units=16, activation='sigmoid'))\n",
        "tf.model.add(tf.keras.layers.Dense(units=1, activation='sigmoid'))"
      ],
      "id": "e637vJCKg7kM",
      "execution_count": 4,
      "outputs": []
    },
    {
      "cell_type": "code",
      "metadata": {
        "id": "5Nc6KSNeb45R",
        "outputId": "6487f62d-57a8-4db4-9140-eedc0269e0fc",
        "colab": {
          "base_uri": "https://localhost:8080/"
        }
      },
      "source": [
        "# SGD not working very well due to vanishing gradient problem, switched to Adam for now\n",
        "# or you may use activation='relu', study chapter 10 to know more on vanishing gradient problem.\n",
        "tf.model.compile(loss='binary_crossentropy', optimizer=tf.optimizers.Adam(lr=0.1), metrics=['accuracy'])\n",
        "tf.model.summary()"
      ],
      "id": "5Nc6KSNeb45R",
      "execution_count": 5,
      "outputs": [
        {
          "output_type": "stream",
          "text": [
            "Model: \"sequential\"\n",
            "_________________________________________________________________\n",
            "Layer (type)                 Output Shape              Param #   \n",
            "=================================================================\n",
            "dense (Dense)                (None, 16)                48        \n",
            "_________________________________________________________________\n",
            "dense_1 (Dense)              (None, 16)                272       \n",
            "_________________________________________________________________\n",
            "dense_2 (Dense)              (None, 16)                272       \n",
            "_________________________________________________________________\n",
            "dense_3 (Dense)              (None, 16)                272       \n",
            "_________________________________________________________________\n",
            "dense_4 (Dense)              (None, 1)                 17        \n",
            "=================================================================\n",
            "Total params: 881\n",
            "Trainable params: 881\n",
            "Non-trainable params: 0\n",
            "_________________________________________________________________\n"
          ],
          "name": "stdout"
        }
      ]
    },
    {
      "cell_type": "code",
      "metadata": {
        "id": "RK3QTbWDofS7"
      },
      "source": [
        "history = tf.model.fit(x_data, y_data, epochs=5000, verbose=0)"
      ],
      "id": "RK3QTbWDofS7",
      "execution_count": 6,
      "outputs": []
    },
    {
      "cell_type": "code",
      "metadata": {
        "id": "2DTVFCIicOuE",
        "outputId": "3db729cd-93c4-41bc-c199-8ee19bced57f",
        "colab": {
          "base_uri": "https://localhost:8080/"
        }
      },
      "source": [
        "predictions = tf.model.predict(x_data)\n",
        "print('Prediction: \\n', predictions)"
      ],
      "id": "2DTVFCIicOuE",
      "execution_count": 7,
      "outputs": [
        {
          "output_type": "stream",
          "text": [
            "Prediction: \n",
            " [[2.3640048e-06]\n",
            " [9.9999952e-01]\n",
            " [9.9999952e-01]\n",
            " [2.3283201e-06]]\n"
          ],
          "name": "stdout"
        }
      ]
    },
    {
      "cell_type": "code",
      "metadata": {
        "id": "TD3WQsXXcO5d",
        "outputId": "9fd758f7-62d1-4aa7-cd1f-de67cc5b0f56",
        "colab": {
          "base_uri": "https://localhost:8080/"
        }
      },
      "source": [
        "score = tf.model.evaluate(x_data, y_data)\n",
        "print('Accuracy: ', score[1])"
      ],
      "id": "TD3WQsXXcO5d",
      "execution_count": 8,
      "outputs": [
        {
          "output_type": "stream",
          "text": [
            "1/1 [==============================] - 0s 175ms/step - loss: 1.4043e-06 - accuracy: 1.0000\n",
            "Accuracy:  1.0\n"
          ],
          "name": "stdout"
        }
      ]
    },
    {
      "cell_type": "code",
      "metadata": {
        "id": "30dxHmEPog-b",
        "colab": {
          "base_uri": "https://localhost:8080/"
        },
        "outputId": "a9c7f3aa-f4a6-448d-a25b-b425a15b3d67"
      },
      "source": [
        "print(\"Accuracy: {0}, loss: {1}\".format(history.history['accuracy'][-1], history.history['loss'][-1]))"
      ],
      "id": "30dxHmEPog-b",
      "execution_count": 9,
      "outputs": [
        {
          "output_type": "stream",
          "text": [
            "Accuracy: 1.0, loss: 1.4050565368961543e-06\n"
          ],
          "name": "stdout"
        }
      ]
    },
    {
      "cell_type": "code",
      "metadata": {
        "id": "zlTixDETvJC3",
        "colab": {
          "base_uri": "https://localhost:8080/"
        },
        "outputId": "a1e8afec-edfa-4f1b-f21e-c188db52e517"
      },
      "source": [
        "pred = tf.model.predict(x_data)\n",
        "\n",
        "print(\"Hypothesis:\\n{} \\n\\nPredict:\\n {}\".format(pred, tf.cast(pred > 0.5, dtype=tf.int32)))"
      ],
      "id": "zlTixDETvJC3",
      "execution_count": 10,
      "outputs": [
        {
          "output_type": "stream",
          "text": [
            "Hypothesis:\n",
            "[[2.3640048e-06]\n",
            " [9.9999952e-01]\n",
            " [9.9999952e-01]\n",
            " [2.3283201e-06]] \n",
            "\n",
            "Predict:\n",
            " [[0]\n",
            " [1]\n",
            " [1]\n",
            " [0]]\n"
          ],
          "name": "stdout"
        }
      ]
    }
  ]
}