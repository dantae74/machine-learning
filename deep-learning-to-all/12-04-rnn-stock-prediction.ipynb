{
  "nbformat": 4,
  "nbformat_minor": 5,
  "metadata": {
    "colab": {
      "name": "12-04-rnn-stock-prediction.ipynb",
      "provenance": [],
      "include_colab_link": true
    },
    "language_info": {
      "name": "python"
    },
    "kernelspec": {
      "name": "python3",
      "display_name": "Python 3"
    }
  },
  "cells": [
    {
      "cell_type": "markdown",
      "metadata": {
        "id": "view-in-github",
        "colab_type": "text"
      },
      "source": [
        "<a href=\"https://colab.research.google.com/github/dantae74/machine-learning/blob/main/deep-learning-to-all/12-04-rnn-stock-prediction.ipynb\" target=\"_parent\"><img src=\"https://colab.research.google.com/assets/colab-badge.svg\" alt=\"Open In Colab\"/></a>"
      ]
    },
    {
      "cell_type": "markdown",
      "metadata": {
        "id": "WfgQSbgOoe-2"
      },
      "source": [
        "모두를 위한 머신러닝에서 가져왔습니다.\n",
        "# stock prediction"
      ],
      "id": "WfgQSbgOoe-2"
    },
    {
      "cell_type": "code",
      "metadata": {
        "id": "RK3QTbWDofS7"
      },
      "source": [
        "import numpy as np\n",
        "import tensorflow as tf\n",
        "from tensorflow import keras\n",
        "from tensorflow.keras import layers\n",
        "import matplotlib.pyplot as plt"
      ],
      "id": "RK3QTbWDofS7",
      "execution_count": null,
      "outputs": []
    },
    {
      "cell_type": "code",
      "metadata": {
        "id": "30dxHmEPog-b"
      },
      "source": [
        "def MinMaxScaler(data):\n",
        "    ''' Min Max Normalization\n",
        "    Parameters\n",
        "    ----------\n",
        "    data : numpy.ndarray\n",
        "        input data to be normalized\n",
        "        shape: [Batch size, dimension]\n",
        "    Returns\n",
        "    ----------\n",
        "    data : numpy.ndarry\n",
        "        normalized data\n",
        "        shape: [Batch size, dimension]\n",
        "    References\n",
        "    ----------\n",
        "    .. [1] http://sebastianraschka.com/Articles/2014_about_feature_scaling.html\n",
        "    '''\n",
        "    numerator = data - np.min(data, 0)\n",
        "    denominator = np.max(data, 0) - np.min(data, 0)\n",
        "    # noise term prevents the zero division\n",
        "    return numerator / (denominator + 1e-7)"
      ],
      "id": "30dxHmEPog-b",
      "execution_count": null,
      "outputs": []
    },
    {
      "cell_type": "code",
      "metadata": {
        "id": "N6QN9l2jD6ZO"
      },
      "source": [
        "# train Parameters\n",
        "seq_length = 7\n",
        "data_dim = 5\n",
        "output_dim = 1\n",
        "learning_rate = 0.01\n",
        "iterations = 500"
      ],
      "id": "N6QN9l2jD6ZO",
      "execution_count": null,
      "outputs": []
    },
    {
      "cell_type": "code",
      "metadata": {
        "id": "mUWp3EvsD9wW"
      },
      "source": [
        "# http://finance.yahoo.com/quote/GOOG/history?ltr=1\n",
        "# Open, High, Low, Volume, Close\n",
        "url = 'https://raw.githubusercontent.com/hunkim/DeepLearningZeroToAll/master/data-02-stock_daily.csv'\n",
        "xy = np.loadtxt(url, delimiter=',')\n",
        "xy = xy[::-1]  # reverse order (chronically ordered)"
      ],
      "id": "mUWp3EvsD9wW",
      "execution_count": null,
      "outputs": []
    },
    {
      "cell_type": "code",
      "metadata": {
        "id": "KO2GsBfVE-nE"
      },
      "source": [
        "# train/test split\n",
        "train_size = int(len(xy) * 0.7)\n",
        "train_set = xy[0:train_size]\n",
        "test_set = xy[train_size - seq_length:]  # Index from [train_size - seq_length] to utilize past sequence"
      ],
      "id": "KO2GsBfVE-nE",
      "execution_count": null,
      "outputs": []
    },
    {
      "cell_type": "code",
      "metadata": {
        "id": "hyILaXFilRho"
      },
      "source": [
        "# Scale each\n",
        "train_set = MinMaxScaler(train_set)\n",
        "test_set = MinMaxScaler(test_set)"
      ],
      "id": "hyILaXFilRho",
      "execution_count": null,
      "outputs": []
    },
    {
      "cell_type": "code",
      "metadata": {
        "id": "sGkqfKyElWMy"
      },
      "source": [
        "# build datasets\n",
        "def build_dataset(time_series, seq_length):\n",
        "    dataX = []\n",
        "    dataY = []\n",
        "    for i in range(0, len(time_series) - seq_length):\n",
        "        x = time_series[i:i + seq_length, :]\n",
        "        y = time_series[i + seq_length, [-1]]  # Next close price\n",
        "        #print(x, \"->\", y, 'i:', i, 'len(time_series)-seq_length', len(time_series) - seq_length)\n",
        "        dataX.append(x)\n",
        "        dataY.append(y)\n",
        "    return np.array(dataX), np.array(dataY)"
      ],
      "id": "sGkqfKyElWMy",
      "execution_count": null,
      "outputs": []
    },
    {
      "cell_type": "code",
      "metadata": {
        "id": "J2OKFHa1lZHy"
      },
      "source": [
        "trainX, trainY = build_dataset(train_set, seq_length)\n",
        "testX, testY = build_dataset(test_set, seq_length)"
      ],
      "id": "J2OKFHa1lZHy",
      "execution_count": null,
      "outputs": []
    },
    {
      "cell_type": "code",
      "metadata": {
        "id": "OKlg_4dClepB",
        "colab": {
          "base_uri": "https://localhost:8080/"
        },
        "outputId": "bfca83fe-10fc-4af9-8f6c-43dd4496f2a9"
      },
      "source": [
        "tf.model = tf.keras.Sequential();\n",
        "tf.model.add(tf.keras.layers.LSTM(units=1, input_shape=(seq_length, data_dim)))\n",
        "tf.model.add(tf.keras.layers.Dense(units=output_dim, activation='tanh'))\n",
        "tf.model.summary()"
      ],
      "id": "OKlg_4dClepB",
      "execution_count": null,
      "outputs": [
        {
          "output_type": "stream",
          "text": [
            "Model: \"sequential\"\n",
            "_________________________________________________________________\n",
            "Layer (type)                 Output Shape              Param #   \n",
            "=================================================================\n",
            "lstm (LSTM)                  (None, 1)                 28        \n",
            "_________________________________________________________________\n",
            "dense (Dense)                (None, 1)                 2         \n",
            "=================================================================\n",
            "Total params: 30\n",
            "Trainable params: 30\n",
            "Non-trainable params: 0\n",
            "_________________________________________________________________\n"
          ],
          "name": "stdout"
        }
      ]
    },
    {
      "cell_type": "code",
      "metadata": {
        "id": "RiCxOam2lkZI",
        "colab": {
          "base_uri": "https://localhost:8080/"
        },
        "outputId": "77cbbca9-ef0b-4ffe-d06a-27b00fbe91f6"
      },
      "source": [
        "tf.model.compile(loss='mean_squared_error', optimizer=tf.keras.optimizers.Adam(lr=learning_rate))\n",
        "tf.model.fit(trainX, trainY, epochs=iterations, verbose=0)\n"
      ],
      "id": "RiCxOam2lkZI",
      "execution_count": null,
      "outputs": [
        {
          "output_type": "execute_result",
          "data": {
            "text/plain": [
              "<tensorflow.python.keras.callbacks.History at 0x7f9f574563d0>"
            ]
          },
          "metadata": {
            "tags": []
          },
          "execution_count": 10
        }
      ]
    },
    {
      "cell_type": "code",
      "metadata": {
        "id": "oKCNL1aOlnqp",
        "colab": {
          "base_uri": "https://localhost:8080/",
          "height": 279
        },
        "outputId": "2e942235-0122-4ee2-ed69-590aa4353252"
      },
      "source": [
        "# Test step\n",
        "test_predict = tf.model.predict(testX)\n",
        "\n",
        "# Plot predictions\n",
        "plt.plot(testY)\n",
        "plt.plot(test_predict)\n",
        "plt.xlabel(\"Time Period\")\n",
        "plt.ylabel(\"Stock Price\")\n",
        "plt.show()"
      ],
      "id": "oKCNL1aOlnqp",
      "execution_count": null,
      "outputs": [
        {
          "output_type": "display_data",
          "data": {
            "image/png": "[encoded data removed]",
            "text/plain": [
              "<Figure size 432x288 with 1 Axes>"
            ]
          },
          "metadata": {
            "tags": [],
            "needs_background": "light"
          }
        }
      ]
    },
    {
      "cell_type": "code",
      "metadata": {
        "id": "3SzPMu2NlsDv"
      },
      "source": [
        ""
      ],
      "id": "3SzPMu2NlsDv",
      "execution_count": null,
      "outputs": []
    }
  ]
}