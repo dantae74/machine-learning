{
  "nbformat": 4,
  "nbformat_minor": 5,
  "metadata": {
    "colab": {
      "name": "05-02-logistic-regression.ipynb",
      "provenance": [],
      "include_colab_link": true
    },
    "kernelspec": {
      "display_name": "Python 3",
      "language": "python",
      "name": "python3"
    },
    "language_info": {
      "codemirror_mode": {
        "name": "ipython",
        "version": 3
      },
      "file_extension": ".py",
      "mimetype": "text/x-python",
      "name": "python",
      "nbconvert_exporter": "python",
      "pygments_lexer": "ipython3",
      "version": "3.8.2"
    }
  },
  "cells": [
    {
      "cell_type": "markdown",
      "metadata": {
        "id": "view-in-github",
        "colab_type": "text"
      },
      "source": [
        "<a href=\"https://colab.research.google.com/github/dantae74/machine-learning/blob/main/05-02-logistic-regression.ipynb\" target=\"_parent\"><img src=\"https://colab.research.google.com/assets/colab-badge.svg\" alt=\"Open In Colab\"/></a>"
      ]
    },
    {
      "cell_type": "markdown",
      "metadata": {
        "id": "WfgQSbgOoe-2"
      },
      "source": [
        "모두를 위한 머신러닝에서 가져왔습니다.\n",
        "# logistic regression"
      ],
      "id": "WfgQSbgOoe-2"
    },
    {
      "cell_type": "code",
      "metadata": {
        "id": "RK3QTbWDofS7"
      },
      "source": [
        "import tensorflow as tf\n",
        "import numpy as np\n",
        "from tensorflow.keras.layers import Dense"
      ],
      "id": "RK3QTbWDofS7",
      "execution_count": 1,
      "outputs": []
    },
    {
      "cell_type": "code",
      "metadata": {
        "id": "rZdM6QfvnPTZ"
      },
      "source": [
        "url='https://raw.githubusercontent.com/hunkim/DeepLearningZeroToAll/master/data-03-diabetes.csv'\n",
        "xy = np.loadtxt(url, delimiter=',', dtype=np.float32)\n",
        "x_data = xy[:, 0:-1]\n",
        "y_data = xy[:, [-1]]"
      ],
      "id": "rZdM6QfvnPTZ",
      "execution_count": 2,
      "outputs": []
    },
    {
      "cell_type": "code",
      "metadata": {
        "id": "FER80GHinoGl",
        "outputId": "73d19b0f-1c70-4490-9812-81f933dd5803",
        "colab": {
          "base_uri": "https://localhost:8080/"
        }
      },
      "source": [
        "print(x_data.shape, y_data.shape)"
      ],
      "id": "FER80GHinoGl",
      "execution_count": 3,
      "outputs": [
        {
          "output_type": "stream",
          "text": [
            "(759, 8) (759, 1)\n"
          ],
          "name": "stdout"
        }
      ]
    },
    {
      "cell_type": "code",
      "metadata": {
        "id": "YjFjCxdQyj79"
      },
      "source": [
        "tf.model = tf.keras.Sequential()"
      ],
      "id": "YjFjCxdQyj79",
      "execution_count": 4,
      "outputs": []
    },
    {
      "cell_type": "code",
      "metadata": {
        "id": "y41YxaB8y645",
        "outputId": "80742915-2057-48cd-c17c-62cb29be5d58",
        "colab": {
          "base_uri": "https://localhost:8080/"
        }
      },
      "source": [
        "tf.model.add(Dense(units=1, activation='sigmoid', input_dim=x_data.shape[1]))\n",
        "tf.model.compile(optimizer=tf.keras.optimizers.SGD(learning_rate=0.01), loss='binary_crossentropy', metrics=['accuracy'])\n",
        "tf.model.summary()"
      ],
      "id": "y41YxaB8y645",
      "execution_count": 5,
      "outputs": [
        {
          "output_type": "stream",
          "text": [
            "Model: \"sequential\"\n",
            "_________________________________________________________________\n",
            "Layer (type)                 Output Shape              Param #   \n",
            "=================================================================\n",
            "dense (Dense)                (None, 1)                 9         \n",
            "=================================================================\n",
            "Total params: 9\n",
            "Trainable params: 9\n",
            "Non-trainable params: 0\n",
            "_________________________________________________________________\n"
          ],
          "name": "stdout"
        }
      ]
    },
    {
      "cell_type": "code",
      "metadata": {
        "id": "30dxHmEPog-b",
        "outputId": "7be91eeb-9480-45d4-ce3f-437635636fb9",
        "colab": {
          "base_uri": "https://localhost:8080/",
          "height": 174
        }
      },
      "source": [
        "tf.keras.utils.plot_model(tf.model)"
      ],
      "id": "30dxHmEPog-b",
      "execution_count": 6,
      "outputs": [
        {
          "output_type": "execute_result",
          "data": {
            "image/png": "[encoded data removed]",
            "text/plain": [
              "<IPython.core.display.Image object>"
            ]
          },
          "metadata": {
            "tags": []
          },
          "execution_count": 6
        }
      ]
    },
    {
      "cell_type": "code",
      "metadata": {
        "id": "V5qABBLj0lPL"
      },
      "source": [
        "history = tf.model.fit(x_data, y_data, epochs=5000, verbose=0)"
      ],
      "id": "V5qABBLj0lPL",
      "execution_count": 7,
      "outputs": []
    },
    {
      "cell_type": "code",
      "metadata": {
        "id": "Reg35wJb0vOY",
        "outputId": "53483631-3aee-47f6-fca8-957cd208ec82",
        "colab": {
          "base_uri": "https://localhost:8080/"
        }
      },
      "source": [
        "# accuracy!\n",
        "print(\"Accuracy: {0}\".format(history.history['accuracy'][-1]))"
      ],
      "id": "Reg35wJb0vOY",
      "execution_count": 8,
      "outputs": [
        {
          "output_type": "stream",
          "text": [
            "Accuracy: 0.7694334387779236\n"
          ],
          "name": "stdout"
        }
      ]
    },
    {
      "cell_type": "code",
      "metadata": {
        "id": "04Ve1pJq00Bw",
        "outputId": "ab6308d4-7dd1-479f-d958-26e202a43e1b",
        "colab": {
          "base_uri": "https://localhost:8080/"
        }
      },
      "source": [
        "# predict a single data point\n",
        "y_predict = tf.model.predict([[0.176471, 0.155779, 0, 0, 0, 0.052161, -0.952178, -0.733333]])\n",
        "print(\"Predict: {0}\".format(y_predict))"
      ],
      "id": "04Ve1pJq00Bw",
      "execution_count": 9,
      "outputs": [
        {
          "output_type": "stream",
          "text": [
            "Predict: [[0.5739062]]\n"
          ],
          "name": "stdout"
        }
      ]
    },
    {
      "cell_type": "code",
      "metadata": {
        "id": "FY7OzLxg047m",
        "outputId": "009f5641-3d0a-4634-e4c2-d5bc48948bbc",
        "colab": {
          "base_uri": "https://localhost:8080/"
        }
      },
      "source": [
        "# evaluating model\n",
        "evaluate = tf.model.evaluate(x_data, y_data)\n",
        "print(\"loss: {0}, accuracy: {1}\".format(evaluate[0], evaluate[1]))"
      ],
      "id": "FY7OzLxg047m",
      "execution_count": 10,
      "outputs": [
        {
          "output_type": "stream",
          "text": [
            "24/24 [==============================] - 0s 1ms/step - loss: 0.4717 - accuracy: 0.7694\n",
            "loss: 0.47167253494262695, accuracy: 0.7694334387779236\n"
          ],
          "name": "stdout"
        }
      ]
    }
  ]
}