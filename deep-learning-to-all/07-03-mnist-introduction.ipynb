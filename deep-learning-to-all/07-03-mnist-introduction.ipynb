{
  "nbformat": 4,
  "nbformat_minor": 5,
  "metadata": {
    "colab": {
      "name": "07-03-mnist-introduction.ipynb",
      "provenance": [],
      "include_colab_link": true
    },
    "language_info": {
      "name": "python"
    },
    "kernelspec": {
      "name": "python3",
      "display_name": "Python 3"
    },
    "accelerator": "TPU"
  },
  "cells": [
    {
      "cell_type": "markdown",
      "metadata": {
        "id": "view-in-github",
        "colab_type": "text"
      },
      "source": [
        "<a href=\"https://colab.research.google.com/github/dantae74/machine-learning/blob/main/07-03-mnist-introduction.ipynb\" target=\"_parent\"><img src=\"https://colab.research.google.com/assets/colab-badge.svg\" alt=\"Open In Colab\"/></a>"
      ]
    },
    {
      "cell_type": "markdown",
      "metadata": {
        "id": "WfgQSbgOoe-2"
      },
      "source": [
        "모두를 위한 머신러닝에서 가져왔습니다.\n",
        "# MNIST introduction"
      ],
      "id": "WfgQSbgOoe-2"
    },
    {
      "cell_type": "code",
      "metadata": {
        "id": "JyGebOOR9ZJN"
      },
      "source": [
        "import tensorflow as tf\n",
        "import numpy as np\n",
        "import matplotlib.pyplot as plt\n",
        "import random"
      ],
      "id": "JyGebOOR9ZJN",
      "execution_count": 1,
      "outputs": []
    },
    {
      "cell_type": "code",
      "metadata": {
        "id": "8GFtBLW1l9Yd"
      },
      "source": [
        "def one_hot(values):\n",
        "  n_values = np.max(values) + 1\n",
        "  return np.eye(n_values)[values]"
      ],
      "id": "8GFtBLW1l9Yd",
      "execution_count": 2,
      "outputs": []
    },
    {
      "cell_type": "code",
      "metadata": {
        "id": "RK3QTbWDofS7"
      },
      "source": [
        "(x_train, y_train), (x_test, y_test) = tf.keras.datasets.mnist.load_data()"
      ],
      "id": "RK3QTbWDofS7",
      "execution_count": 3,
      "outputs": []
    },
    {
      "cell_type": "code",
      "metadata": {
        "id": "rwJCHricdP7E",
        "outputId": "f2d73742-6d4e-4d7a-d3bd-602915e61de8",
        "colab": {
          "base_uri": "https://localhost:8080/"
        }
      },
      "source": [
        "print('x_train.shape:', x_train.shape, 'y_train.shape:', y_train.shape)\n",
        "print('x_test.shape:', x_test.shape, 'y_test.shape:', y_test.shape)\n"
      ],
      "id": "rwJCHricdP7E",
      "execution_count": 4,
      "outputs": [
        {
          "output_type": "stream",
          "text": [
            "x_train.shape: (60000, 28, 28) y_train.shape: (60000,)\n",
            "x_test.shape: (10000, 28, 28) y_test.shape: (10000,)\n"
          ],
          "name": "stdout"
        }
      ]
    },
    {
      "cell_type": "code",
      "metadata": {
        "id": "9AuuAx0IeNUN",
        "outputId": "08f9d5d3-2d2a-4a2a-f0ab-0299a415aa8f",
        "colab": {
          "base_uri": "https://localhost:8080/"
        }
      },
      "source": [
        "x_train[10][10]"
      ],
      "id": "9AuuAx0IeNUN",
      "execution_count": 5,
      "outputs": [
        {
          "output_type": "execute_result",
          "data": {
            "text/plain": [
              "array([  0,   0,   0,   0,   0,   0,   0,   0,   0,   0,   0,   0,   0,\n",
              "        24, 209, 254, 254, 254, 171,   0,   0,   0,   0,   0,   0,   0,\n",
              "         0,   0], dtype=uint8)"
            ]
          },
          "metadata": {
            "tags": []
          },
          "execution_count": 5
        }
      ]
    },
    {
      "cell_type": "code",
      "metadata": {
        "id": "oikElyu_fbBm"
      },
      "source": [
        "# preprocess the data (these are numpy arrays)\n",
        "# tf.keras.utils.to_categorical 도 참고\n",
        "\n",
        "x_train = x_train.reshape(-1, 784).astype(\"float32\") / 255\n",
        "x_test = x_test.reshape(-1, 784).astype(\"float32\") / 255\n",
        "\n",
        "y_train = one_hot(y_train)\n",
        "y_test = one_hot(y_test)\n"
      ],
      "id": "oikElyu_fbBm",
      "execution_count": 6,
      "outputs": []
    },
    {
      "cell_type": "code",
      "metadata": {
        "id": "8xv_u3nNjKVw",
        "outputId": "6e06ec04-f55b-42ce-999c-b826c66bc2b7",
        "colab": {
          "base_uri": "https://localhost:8080/"
        }
      },
      "source": [
        "print('x_train.shape:', x_train.shape, 'y_train.shape:', y_train.shape)\n",
        "print('x_test.shape:', x_test.shape, 'y_test.shape:', y_test.shape)"
      ],
      "id": "8xv_u3nNjKVw",
      "execution_count": 7,
      "outputs": [
        {
          "output_type": "stream",
          "text": [
            "x_train.shape: (60000, 784) y_train.shape: (60000, 10)\n",
            "x_test.shape: (10000, 784) y_test.shape: (10000, 10)\n"
          ],
          "name": "stdout"
        }
      ]
    },
    {
      "cell_type": "code",
      "metadata": {
        "id": "ezZM8zstpHiq"
      },
      "source": [
        "# reserve 10,000 samples for validation\n",
        "x_val = x_train[-10000:]\n",
        "y_val = y_train[-10000:]\n",
        "\n",
        "x_train = x_train[:-10000]\n",
        "y_train = y_train[:-10000]"
      ],
      "id": "ezZM8zstpHiq",
      "execution_count": 8,
      "outputs": []
    },
    {
      "cell_type": "code",
      "metadata": {
        "id": "hFUetCQ4_gjt",
        "outputId": "7dd14229-8964-4a0f-d4a7-375d7e4e2da7",
        "colab": {
          "base_uri": "https://localhost:8080/"
        }
      },
      "source": [
        "nb_classes = 10 # 0 ~ 9 digit recogniztion\n",
        "tf.model = tf.keras.Sequential()\n",
        "tf.model.add(tf.keras.layers.Dense(units=nb_classes, input_dim=784, activation='softmax')) # 28 by 28 (784)\n",
        "tf.model.compile(loss='categorical_crossentropy', optimizer=tf.keras.optimizers.SGD(lr=0.1), metrics=['accuracy'])\n",
        "tf.model.summary()"
      ],
      "id": "hFUetCQ4_gjt",
      "execution_count": 9,
      "outputs": [
        {
          "output_type": "stream",
          "text": [
            "Model: \"sequential\"\n",
            "_________________________________________________________________\n",
            "Layer (type)                 Output Shape              Param #   \n",
            "=================================================================\n",
            "dense (Dense)                (None, 10)                7850      \n",
            "=================================================================\n",
            "Total params: 7,850\n",
            "Trainable params: 7,850\n",
            "Non-trainable params: 0\n",
            "_________________________________________________________________\n"
          ],
          "name": "stdout"
        }
      ]
    },
    {
      "cell_type": "code",
      "metadata": {
        "id": "VUbilV7iC6Wo",
        "outputId": "a8409dcb-d89b-4088-c478-d786b1ce792a",
        "colab": {
          "base_uri": "https://localhost:8080/",
          "height": 174
        }
      },
      "source": [
        "tf.keras.utils.plot_model(tf.model)"
      ],
      "id": "VUbilV7iC6Wo",
      "execution_count": 10,
      "outputs": [
        {
          "output_type": "execute_result",
          "data": {
            "image/png": "[encoded data removed]",
            "text/plain": [
              "<IPython.core.display.Image object>"
            ]
          },
          "metadata": {
            "tags": []
          },
          "execution_count": 10
        }
      ]
    },
    {
      "cell_type": "code",
      "metadata": {
        "id": "N7XpVyA7Cx-K"
      },
      "source": [
        "history = tf.model.fit(x_train, y_train, batch_size=64, epochs=15, validation_data=(x_val, y_val), verbose=0)"
      ],
      "id": "N7XpVyA7Cx-K",
      "execution_count": 11,
      "outputs": []
    },
    {
      "cell_type": "code",
      "metadata": {
        "id": "iDAzqVWbpz5j",
        "outputId": "62dbcef8-3a8c-4af5-a8b5-440953d8d86c",
        "colab": {
          "base_uri": "https://localhost:8080/"
        }
      },
      "source": [
        "# Evaluate the model on the test data using `evaluate`\n",
        "print(\"Evaluate on test data\")\n",
        "results = tf.model.evaluate(x_test, y_test, batch_size=128)\n",
        "print(\"test loss, test acc:\", results)"
      ],
      "id": "iDAzqVWbpz5j",
      "execution_count": 12,
      "outputs": [
        {
          "output_type": "stream",
          "text": [
            "Evaluate on test data\n",
            "79/79 [==============================] - 0s 2ms/step - loss: 0.2768 - accuracy: 0.9231\n",
            "test loss, test acc: [0.2768342196941376, 0.9230999946594238]\n"
          ],
          "name": "stdout"
        }
      ]
    },
    {
      "cell_type": "code",
      "metadata": {
        "id": "651be-PYp0CS",
        "outputId": "ace0fb43-ac33-4301-e0ee-b1b2c1543201",
        "colab": {
          "base_uri": "https://localhost:8080/"
        }
      },
      "source": [
        "# Generate predictions (probabilities -- the output of the last layer)\n",
        "# on new data using `predict`\n",
        "print(\"Generate predictions for 3 samples\")\n",
        "predictions = tf.model.predict(x_test[:3])\n",
        "print(\"predictions shape:\", predictions.shape)"
      ],
      "id": "651be-PYp0CS",
      "execution_count": 13,
      "outputs": [
        {
          "output_type": "stream",
          "text": [
            "Generate predictions for 3 samples\n",
            "predictions shape: (3, 10)\n"
          ],
          "name": "stdout"
        }
      ]
    },
    {
      "cell_type": "code",
      "metadata": {
        "id": "uQtzm8t0qSU9",
        "outputId": "6c7a2f74-f71e-47a8-a77d-2bf329bec740",
        "colab": {
          "base_uri": "https://localhost:8080/"
        }
      },
      "source": [
        "# Get one and predict\n",
        "r = np.random.randint(0, x_test.shape[0])\n",
        "print(\"Label: \", np.argmax(y_test[r]))\n",
        "\n",
        "pred = tf.model.predict(x_test[r].reshape(-1,784))\n",
        "print(\"Prediction: \", np.argmax(pred))\n",
        "\n"
      ],
      "id": "uQtzm8t0qSU9",
      "execution_count": 15,
      "outputs": [
        {
          "output_type": "stream",
          "text": [
            "Label:  0\n",
            "Prediction:  0\n"
          ],
          "name": "stdout"
        }
      ]
    }
  ]
}