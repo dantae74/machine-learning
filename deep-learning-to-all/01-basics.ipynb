{
  "nbformat": 4,
  "nbformat_minor": 5,
  "metadata": {
    "kernelspec": {
      "display_name": "Python 3",
      "language": "python",
      "name": "python3"
    },
    "language_info": {
      "codemirror_mode": {
        "name": "ipython",
        "version": 3
      },
      "file_extension": ".py",
      "mimetype": "text/x-python",
      "name": "python",
      "nbconvert_exporter": "python",
      "pygments_lexer": "ipython3",
      "version": "3.8.2"
    },
    "colab": {
      "name": "01-basics.ipynb",
      "provenance": [],
      "include_colab_link": true
    }
  },
  "cells": [
    {
      "cell_type": "markdown",
      "metadata": {
        "id": "view-in-github",
        "colab_type": "text"
      },
      "source": [
        "<a href=\"https://colab.research.google.com/github/dantae74/machine-learning/blob/main/01-basics.ipynb\" target=\"_parent\"><img src=\"https://colab.research.google.com/assets/colab-badge.svg\" alt=\"Open In Colab\"/></a>"
      ]
    },
    {
      "cell_type": "markdown",
      "metadata": {
        "id": "OzKU49oD3x8v"
      },
      "source": [
        "#### 모두를 위한 머신러닝 참조하였습니다.\n"
      ],
      "id": "OzKU49oD3x8v"
    },
    {
      "cell_type": "markdown",
      "metadata": {
        "id": "xp-a9Y_l8jMc"
      },
      "source": [
        "# Check TF version"
      ],
      "id": "xp-a9Y_l8jMc"
    },
    {
      "cell_type": "code",
      "metadata": {
        "id": "4BbDJau82lid",
        "outputId": "9258da61-3521-41c7-c9ff-d1722f8277fa",
        "colab": {
          "base_uri": "https://localhost:8080/",
          "height": 35
        }
      },
      "source": [
        "import tensorflow as tf\n",
        "tf.__version__"
      ],
      "id": "4BbDJau82lid",
      "execution_count": 1,
      "outputs": [
        {
          "output_type": "execute_result",
          "data": {
            "application/vnd.google.colaboratory.intrinsic+json": {
              "type": "string"
            },
            "text/plain": [
              "'2.4.1'"
            ]
          },
          "metadata": {
            "tags": []
          },
          "execution_count": 1
        }
      ]
    },
    {
      "cell_type": "markdown",
      "metadata": {
        "id": "7P_sL9ha8gw0"
      },
      "source": [
        "Hello TensorFlow"
      ],
      "id": "7P_sL9ha8gw0"
    },
    {
      "cell_type": "code",
      "metadata": {
        "id": "oM5xB2aF4PKJ",
        "outputId": "c72233df-626a-47d1-bbdb-a05f20b9d861",
        "colab": {
          "base_uri": "https://localhost:8080/"
        }
      },
      "source": [
        "hello = tf.constant('Hello, TensorFlow')\n",
        "print(hello)"
      ],
      "id": "oM5xB2aF4PKJ",
      "execution_count": 3,
      "outputs": [
        {
          "output_type": "stream",
          "text": [
            "tf.Tensor(b'Hello, TensorFlow', shape=(), dtype=string)\n"
          ],
          "name": "stdout"
        }
      ]
    },
    {
      "cell_type": "markdown",
      "metadata": {
        "id": "7w7_UtkD8fqj"
      },
      "source": [
        "Tensors"
      ],
      "id": "7w7_UtkD8fqj"
    },
    {
      "cell_type": "code",
      "metadata": {
        "id": "679jlT7c2lqg",
        "outputId": "9a1f11bf-8e72-42b1-a937-630d66978e0b",
        "colab": {
          "base_uri": "https://localhost:8080/"
        }
      },
      "source": [
        "3 # a rank 0 tensor; this is a scalar with shape[]\n",
        "[1., 2., 3.] # a rank 1 tensor, this is a vector with shape[3]\n",
        "[[1., 2., 3.],[4.,5.,6.]] # a rank 2 tensor, this is a vector with shape[2, 3]\n",
        "[[[1., 2., 3.]],[[7.,8.,9.]]] # a rank 3 tensor, this is a vector with shape[2, 1, 3]"
      ],
      "id": "679jlT7c2lqg",
      "execution_count": 5,
      "outputs": [
        {
          "output_type": "execute_result",
          "data": {
            "text/plain": [
              "[[[1.0, 2.0, 3.0]], [[7.0, 8.0, 9.0]]]"
            ]
          },
          "metadata": {
            "tags": []
          },
          "execution_count": 5
        }
      ]
    },
    {
      "cell_type": "code",
      "metadata": {
        "id": "y1npIcxW2lwe"
      },
      "source": [
        "\n",
        "node1 = tf.constant(3.0, tf.float32)\n",
        "node2 = tf.constant(4.0) # also tf.float32 implicitly\n",
        "node3 = tf.add(node1, node2)"
      ],
      "id": "y1npIcxW2lwe",
      "execution_count": 8,
      "outputs": []
    },
    {
      "cell_type": "code",
      "metadata": {
        "id": "d3tSeESU_Yfi",
        "outputId": "7a03a315-f1b2-4adc-f9ad-3225907dc4b3",
        "colab": {
          "base_uri": "https://localhost:8080/"
        }
      },
      "source": [
        "print(\"node1:\", node1, \"node2:\", node2)\n",
        "print(\"node3: \", node3)"
      ],
      "id": "d3tSeESU_Yfi",
      "execution_count": 9,
      "outputs": [
        {
          "output_type": "stream",
          "text": [
            "node1: tf.Tensor(3.0, shape=(), dtype=float32) node2: tf.Tensor(4.0, shape=(), dtype=float32)\n",
            "node3:  tf.Tensor(7.0, shape=(), dtype=float32)\n"
          ],
          "name": "stdout"
        }
      ]
    },
    {
      "cell_type": "code",
      "metadata": {
        "id": "rLwsQBDa_kIB"
      },
      "source": [
        ""
      ],
      "id": "rLwsQBDa_kIB",
      "execution_count": null,
      "outputs": []
    },
    {
      "cell_type": "code",
      "metadata": {
        "id": "F_i1ZW2T_e8r"
      },
      "source": [
        ""
      ],
      "id": "F_i1ZW2T_e8r",
      "execution_count": null,
      "outputs": []
    },
    {
      "cell_type": "code",
      "metadata": {
        "id": "l2ZYFKbB2l0o"
      },
      "source": [
        ""
      ],
      "id": "l2ZYFKbB2l0o",
      "execution_count": null,
      "outputs": []
    },
    {
      "cell_type": "code",
      "metadata": {
        "id": "1e3e789b"
      },
      "source": [
        ""
      ],
      "id": "1e3e789b",
      "execution_count": null,
      "outputs": []
    }
  ]
}