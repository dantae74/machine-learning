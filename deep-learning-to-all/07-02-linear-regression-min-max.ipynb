{
  "nbformat": 4,
  "nbformat_minor": 5,
  "metadata": {
    "colab": {
      "name": "07-02-linear-regression-min-max.ipynb",
      "provenance": [],
      "include_colab_link": true
    },
    "language_info": {
      "name": "python"
    },
    "kernelspec": {
      "name": "python3",
      "display_name": "Python 3"
    }
  },
  "cells": [
    {
      "cell_type": "markdown",
      "metadata": {
        "id": "view-in-github",
        "colab_type": "text"
      },
      "source": [
        "<a href=\"https://colab.research.google.com/github/dantae74/machine-learning/blob/main/07-02-linear-regression-min-max.ipynb\" target=\"_parent\"><img src=\"https://colab.research.google.com/assets/colab-badge.svg\" alt=\"Open In Colab\"/></a>"
      ]
    },
    {
      "cell_type": "markdown",
      "metadata": {
        "id": "WfgQSbgOoe-2"
      },
      "source": [
        "모두를 위한 머신러닝에서 가져왔습니다.\n",
        "# linear regression with min_max "
      ],
      "id": "WfgQSbgOoe-2"
    },
    {
      "cell_type": "code",
      "metadata": {
        "id": "RK3QTbWDofS7"
      },
      "source": [
        "import tensorflow as tf\n",
        "import numpy as np"
      ],
      "id": "RK3QTbWDofS7",
      "execution_count": 20,
      "outputs": []
    },
    {
      "cell_type": "code",
      "metadata": {
        "id": "NwWkixL4j9v1"
      },
      "source": [
        "def min_max_scaler(data):\n",
        "    numerator = data - np.min(data, 0)\n",
        "    denominator = np.max(data, 0) - np.min(data, 0)\n",
        "    # noise term prevents the zero division\n",
        "    return numerator / (denominator + 1e-7)"
      ],
      "id": "NwWkixL4j9v1",
      "execution_count": 21,
      "outputs": []
    },
    {
      "cell_type": "code",
      "metadata": {
        "id": "30dxHmEPog-b"
      },
      "source": [
        "xy = np.array(\n",
        "    [\n",
        "        [828.659973, 833.450012, 908100, 828.349976, 831.659973],\n",
        "        [823.02002, 828.070007, 1828100, 821.655029, 828.070007],\n",
        "        [819.929993, 824.400024, 1438100, 818.97998, 824.159973],\n",
        "        [816, 820.958984, 1008100, 815.48999, 819.23999],\n",
        "        [819.359985, 823, 1188100, 818.469971, 818.97998],\n",
        "        [819, 823, 1198100, 816, 820.450012],\n",
        "        [811.700012, 815.25, 1098100, 809.780029, 813.669983],\n",
        "        [809.51001, 816.659973, 1398100, 804.539978, 809.559998],\n",
        "    ]\n",
        ")"
      ],
      "id": "30dxHmEPog-b",
      "execution_count": 22,
      "outputs": []
    },
    {
      "cell_type": "code",
      "metadata": {
        "id": "pJlHquackZzd",
        "outputId": "a8045f30-4a66-4b10-f855-0b3645e141e8",
        "colab": {
          "base_uri": "https://localhost:8080/"
        }
      },
      "source": [
        "# very important. It does not work without it.\n",
        "xy = min_max_scaler(xy)\n",
        "print(xy)"
      ],
      "id": "pJlHquackZzd",
      "execution_count": 23,
      "outputs": [
        {
          "output_type": "stream",
          "text": [
            "[[0.99999999 0.99999999 0.         1.         1.        ]\n",
            " [0.70548491 0.70439552 1.         0.71881782 0.83755791]\n",
            " [0.54412549 0.50274824 0.57608696 0.606468   0.6606331 ]\n",
            " [0.33890353 0.31368023 0.10869565 0.45989134 0.43800918]\n",
            " [0.51436    0.42582389 0.30434783 0.58504805 0.42624401]\n",
            " [0.49556179 0.42582389 0.31521739 0.48131134 0.49276137]\n",
            " [0.11436064 0.         0.20652174 0.22007776 0.18597238]\n",
            " [0.         0.07747099 0.5326087  0.         0.        ]]\n"
          ],
          "name": "stdout"
        }
      ]
    },
    {
      "cell_type": "code",
      "metadata": {
        "id": "S7KQfABqkeIK"
      },
      "source": [
        "x_data = xy[:, 0:-1]\n",
        "y_data = xy[:, [-1]]"
      ],
      "id": "S7KQfABqkeIK",
      "execution_count": 24,
      "outputs": []
    },
    {
      "cell_type": "code",
      "metadata": {
        "id": "_6mh_Q5TkmGT",
        "outputId": "72f8fc86-9abc-4209-b157-064f61134536",
        "colab": {
          "base_uri": "https://localhost:8080/"
        }
      },
      "source": [
        "tf.model = tf.keras.Sequential()\n",
        "tf.model.add(tf.keras.layers.Dense(units=1, input_dim=4))\n",
        "tf.model.add(tf.keras.layers.Activation('linear'))\n",
        "tf.model.compile(loss='mse', optimizer=tf.keras.optimizers.SGD(lr=1e-5))\n",
        "tf.model.summary()"
      ],
      "id": "_6mh_Q5TkmGT",
      "execution_count": 25,
      "outputs": [
        {
          "output_type": "stream",
          "text": [
            "Model: \"sequential_3\"\n",
            "_________________________________________________________________\n",
            "Layer (type)                 Output Shape              Param #   \n",
            "=================================================================\n",
            "dense_3 (Dense)              (None, 1)                 5         \n",
            "_________________________________________________________________\n",
            "activation (Activation)      (None, 1)                 0         \n",
            "=================================================================\n",
            "Total params: 5\n",
            "Trainable params: 5\n",
            "Non-trainable params: 0\n",
            "_________________________________________________________________\n"
          ],
          "name": "stdout"
        }
      ]
    },
    {
      "cell_type": "code",
      "metadata": {
        "id": "DMny2FNJkrUN"
      },
      "source": [
        "history = tf.model.fit(x_data, y_data, epochs=1000, verbose=0)"
      ],
      "id": "DMny2FNJkrUN",
      "execution_count": 26,
      "outputs": []
    },
    {
      "cell_type": "code",
      "metadata": {
        "id": "Ucs7LLvVkzxG",
        "outputId": "f1bfc8d6-1fc7-4496-99f8-aeeb10d0ed02",
        "colab": {
          "base_uri": "https://localhost:8080/"
        }
      },
      "source": [
        "predictions = tf.model.predict(x_data)\n",
        "score = tf.model.evaluate(x_data, y_data)"
      ],
      "id": "Ucs7LLvVkzxG",
      "execution_count": 27,
      "outputs": [
        {
          "output_type": "stream",
          "text": [
            "1/1 [==============================] - 0s 64ms/step - loss: 0.5095\n"
          ],
          "name": "stdout"
        }
      ]
    },
    {
      "cell_type": "code",
      "metadata": {
        "id": "_Vq2OEjUk4JU",
        "outputId": "1ddffa21-b0c7-44a4-ab18-3f3d5aae7a10",
        "colab": {
          "base_uri": "https://localhost:8080/"
        }
      },
      "source": [
        "print('Prediction: \\n', predictions)\n",
        "print('Cost: ', score)"
      ],
      "id": "_Vq2OEjUk4JU",
      "execution_count": 28,
      "outputs": [
        {
          "output_type": "stream",
          "text": [
            "Prediction: \n",
            " [[-0.30808407]\n",
            " [-0.10195021]\n",
            " [-0.0860242 ]\n",
            " [-0.06212417]\n",
            " [-0.10229079]\n",
            " [-0.11087782]\n",
            " [ 0.02252785]\n",
            " [ 0.06626005]]\n",
            "Cost:  0.5095279216766357\n"
          ],
          "name": "stdout"
        }
      ]
    }
  ]
}
