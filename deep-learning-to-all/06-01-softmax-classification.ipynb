{
  "nbformat": 4,
  "nbformat_minor": 5,
  "metadata": {
    "colab": {
      "name": "06-01-softmax-classification.ipynb",
      "provenance": [],
      "include_colab_link": true
    },
    "language_info": {
      "name": "python"
    },
    "kernelspec": {
      "name": "python3",
      "display_name": "Python 3"
    }
  },
  "cells": [
    {
      "cell_type": "markdown",
      "metadata": {
        "id": "view-in-github",
        "colab_type": "text"
      },
      "source": [
        "<a href=\"https://colab.research.google.com/github/dantae74/machine-learning/blob/main/06-01-softmax-classification.ipynb\" target=\"_parent\"><img src=\"https://colab.research.google.com/assets/colab-badge.svg\" alt=\"Open In Colab\"/></a>"
      ]
    },
    {
      "cell_type": "markdown",
      "metadata": {
        "id": "WfgQSbgOoe-2"
      },
      "source": [
        "모두를 위한 머신러닝에서 가져왔습니다."
      ],
      "id": "WfgQSbgOoe-2"
    },
    {
      "cell_type": "code",
      "metadata": {
        "id": "RK3QTbWDofS7"
      },
      "source": [
        "import tensorflow as tf\n",
        "import numpy as np"
      ],
      "id": "RK3QTbWDofS7",
      "execution_count": 1,
      "outputs": []
    },
    {
      "cell_type": "code",
      "metadata": {
        "id": "DttTgi_pdQUS"
      },
      "source": [
        "x_raw = [[1, 2, 1, 1],\n",
        "          [2, 1, 3, 2],\n",
        "          [3, 1, 3, 4],\n",
        "          [4, 1, 5, 5],\n",
        "          [1, 7, 5, 5],\n",
        "          [1, 2, 5, 6],\n",
        "          [1, 6, 6, 6],\n",
        "          [1, 7, 7, 7]]\n",
        "y_raw = [[0, 0, 1],\n",
        "          [0, 0, 1],\n",
        "          [0, 0, 1],\n",
        "          [0, 1, 0],\n",
        "          [0, 1, 0],\n",
        "          [0, 1, 0],\n",
        "          [1, 0, 0],\n",
        "          [1, 0, 0]]"
      ],
      "id": "DttTgi_pdQUS",
      "execution_count": 2,
      "outputs": []
    },
    {
      "cell_type": "code",
      "metadata": {
        "id": "KZEI1MHbdYyy"
      },
      "source": [
        "x_data = np.array(x_raw, dtype=np.float32)\n",
        "y_data = np.array(y_raw, dtype=np.float32)\n",
        "\n",
        "nb_classes = 3"
      ],
      "id": "KZEI1MHbdYyy",
      "execution_count": 3,
      "outputs": []
    },
    {
      "cell_type": "code",
      "metadata": {
        "id": "30dxHmEPog-b"
      },
      "source": [
        "tf.model = tf.keras.Sequential()"
      ],
      "id": "30dxHmEPog-b",
      "execution_count": 4,
      "outputs": []
    },
    {
      "cell_type": "code",
      "metadata": {
        "id": "tqewaeQ2dv0l"
      },
      "source": [
        "tf.model.add(tf.keras.layers.Dense(units=nb_classes, input_dim=4, use_bias=True)) # use_bias is True, by default"
      ],
      "id": "tqewaeQ2dv0l",
      "execution_count": 5,
      "outputs": []
    },
    {
      "cell_type": "code",
      "metadata": {
        "id": "3WA1BE-2eJAF"
      },
      "source": [
        "# use softmax activations: softmax = exp(logits) / reduce_sum(exp(logits), dim)\n",
        "tf.model.add(tf.keras.layers.Activation('softmax'))"
      ],
      "id": "3WA1BE-2eJAF",
      "execution_count": 6,
      "outputs": []
    },
    {
      "cell_type": "code",
      "metadata": {
        "id": "MNQpknmsexEV",
        "outputId": "dbc35f00-53d8-4697-e06c-83032a992fbf",
        "colab": {
          "base_uri": "https://localhost:8080/"
        }
      },
      "source": [
        "# use loss == categorical_crossentropy\n",
        "tf.model.compile(loss='categorical_crossentropy', optimizer=tf.keras.optimizers.SGD(lr=0.1), metrics=['accuracy'])\n",
        "tf.model.summary()"
      ],
      "id": "MNQpknmsexEV",
      "execution_count": 7,
      "outputs": [
        {
          "output_type": "stream",
          "text": [
            "Model: \"sequential\"\n",
            "_________________________________________________________________\n",
            "Layer (type)                 Output Shape              Param #   \n",
            "=================================================================\n",
            "dense (Dense)                (None, 3)                 15        \n",
            "_________________________________________________________________\n",
            "activation (Activation)      (None, 3)                 0         \n",
            "=================================================================\n",
            "Total params: 15\n",
            "Trainable params: 15\n",
            "Non-trainable params: 0\n",
            "_________________________________________________________________\n"
          ],
          "name": "stdout"
        }
      ]
    },
    {
      "cell_type": "code",
      "metadata": {
        "id": "l2okfJPfe7fB",
        "outputId": "8e6a5e5f-bc12-493e-f896-13115e186353",
        "colab": {
          "base_uri": "https://localhost:8080/",
          "height": 272
        }
      },
      "source": [
        "tf.keras.utils.plot_model(tf.model)"
      ],
      "id": "l2okfJPfe7fB",
      "execution_count": 8,
      "outputs": [
        {
          "output_type": "execute_result",
          "data": {
            "image/png": "[encoded data removed]",
            "text/plain": [
              "<IPython.core.display.Image object>"
            ]
          },
          "metadata": {
            "tags": []
          },
          "execution_count": 8
        }
      ]
    },
    {
      "cell_type": "code",
      "metadata": {
        "id": "4v0AxDYmfE4p"
      },
      "source": [
        "history = tf.model.fit(x_data, y_data, epochs=2000, verbose=0)"
      ],
      "id": "4v0AxDYmfE4p",
      "execution_count": 9,
      "outputs": []
    },
    {
      "cell_type": "code",
      "metadata": {
        "id": "a-27X4rrfoOR",
        "outputId": "c56163a6-6b78-4e8b-ab86-504306bd5bab",
        "colab": {
          "base_uri": "https://localhost:8080/"
        }
      },
      "source": [
        "print('--------------')\n",
        "# Testing & One-hot encoding\n",
        "a = tf.model.predict(np.array([[1, 11, 7, 9]]))\n",
        "print(a, tf.keras.backend.eval(tf.argmax(a, axis=1)))"
      ],
      "id": "a-27X4rrfoOR",
      "execution_count": 10,
      "outputs": [
        {
          "output_type": "stream",
          "text": [
            "--------------\n",
            "[[6.8053738e-03 9.9318451e-01 1.0177581e-05]] [1]\n"
          ],
          "name": "stdout"
        }
      ]
    },
    {
      "cell_type": "code",
      "metadata": {
        "id": "DwDELghFfwp2",
        "outputId": "b60f5f1b-8524-460a-e9da-e7485bc91732",
        "colab": {
          "base_uri": "https://localhost:8080/"
        }
      },
      "source": [
        "print('--------------')\n",
        "b = tf.model.predict(np.array([[1, 3, 4, 3]]))\n",
        "print(b, tf.keras.backend.eval(tf.argmax(b, axis=1)))"
      ],
      "id": "DwDELghFfwp2",
      "execution_count": 11,
      "outputs": [
        {
          "output_type": "stream",
          "text": [
            "--------------\n",
            "[[0.8394477  0.14431101 0.01624132]] [0]\n"
          ],
          "name": "stdout"
        }
      ]
    },
    {
      "cell_type": "code",
      "metadata": {
        "id": "5mQ4Cwvsf8Nt",
        "outputId": "ff33a4a6-1823-43f4-82e3-acfda18afe41",
        "colab": {
          "base_uri": "https://localhost:8080/"
        }
      },
      "source": [
        "print('--------------')\n",
        "# or use argmax embedded method, predict_classes\n",
        "c = tf.model.predict(np.array([[1, 1, 0, 1]]))\n",
        "c_onehot = tf.model.predict_classes(np.array([[1, 1, 0, 1]]))\n",
        "print(c, c_onehot)"
      ],
      "id": "5mQ4Cwvsf8Nt",
      "execution_count": 12,
      "outputs": [
        {
          "output_type": "stream",
          "text": [
            "--------------\n",
            "[[1.5563808e-08 3.7034560e-04 9.9962962e-01]] [2]\n"
          ],
          "name": "stdout"
        },
        {
          "output_type": "stream",
          "text": [
            "/usr/local/lib/python3.7/dist-packages/tensorflow/python/keras/engine/sequential.py:450: UserWarning: `model.predict_classes()` is deprecated and will be removed after 2021-01-01. Please use instead:* `np.argmax(model.predict(x), axis=-1)`,   if your model does multi-class classification   (e.g. if it uses a `softmax` last-layer activation).* `(model.predict(x) > 0.5).astype(\"int32\")`,   if your model does binary classification   (e.g. if it uses a `sigmoid` last-layer activation).\n",
            "  warnings.warn('`model.predict_classes()` is deprecated and '\n"
          ],
          "name": "stderr"
        }
      ]
    },
    {
      "cell_type": "code",
      "metadata": {
        "id": "7pXi_A5zgHdP",
        "outputId": "42b90a02-c4e7-4353-c6bc-2e928bb6acdd",
        "colab": {
          "base_uri": "https://localhost:8080/"
        }
      },
      "source": [
        "print('--------------')\n",
        "all = tf.model.predict(np.array([[1, 11, 7, 9], [1, 3, 4, 3], [1, 1, 0, 1]]))\n",
        "# all_onehot = tf.model.predict_classes(np.array([[1, 11, 7, 9], [1, 3, 4, 3], [1, 1, 0, 1]]))\n",
        "# print(all, all_onehot)\n",
        "print(all, np.argmax(all, axis=-1))"
      ],
      "id": "7pXi_A5zgHdP",
      "execution_count": 14,
      "outputs": [
        {
          "output_type": "stream",
          "text": [
            "--------------\n",
            "[[6.8053608e-03 9.9318451e-01 1.0177601e-05]\n",
            " [8.3944768e-01 1.4431104e-01 1.6241303e-02]\n",
            " [1.5563808e-08 3.7034563e-04 9.9962962e-01]] [1 0 2]\n"
          ],
          "name": "stdout"
        }
      ]
    }
  ]
}
