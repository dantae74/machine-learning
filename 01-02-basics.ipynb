{
  "nbformat": 4,
  "nbformat_minor": 5,
  "metadata": {
    "colab": {
      "name": "Untitled.ipynb",
      "provenance": [],
      "include_colab_link": true
    },
    "language_info": {
      "name": "python"
    },
    "kernelspec": {
      "name": "python3",
      "display_name": "Python 3"
    }
  },
  "cells": [
    {
      "cell_type": "markdown",
      "metadata": {
        "id": "view-in-github",
        "colab_type": "text"
      },
      "source": [
        "<a href=\"https://colab.research.google.com/github/dantae74/machine-learning/blob/main/01-02-basics.ipynb\" target=\"_parent\"><img src=\"https://colab.research.google.com/assets/colab-badge.svg\" alt=\"Open In Colab\"/></a>"
      ]
    },
    {
      "cell_type": "markdown",
      "metadata": {
        "id": "6cUjvxu1o9a_"
      },
      "source": [
        "# AND / OR / XOR Gate"
      ],
      "id": "6cUjvxu1o9a_"
    },
    {
      "cell_type": "code",
      "metadata": {
        "id": "zs6zHZyRo-bk"
      },
      "source": [
        "import tensorflow as tf\n",
        "import numpy as np\n"
      ],
      "id": "zs6zHZyRo-bk",
      "execution_count": 1,
      "outputs": []
    },
    {
      "cell_type": "markdown",
      "metadata": {
        "id": "_RQ4Bn1L14TE"
      },
      "source": [
        "# AND Gate"
      ],
      "id": "_RQ4Bn1L14TE"
    },
    {
      "cell_type": "code",
      "metadata": {
        "id": "zR6RMbFSpQp7"
      },
      "source": [
        "X = np.array([[0,0], [1, 0], [0, 1], [1,1]])\n",
        "Y = np.array([[0],[0],[0],[1]])"
      ],
      "id": "zR6RMbFSpQp7",
      "execution_count": 3,
      "outputs": []
    },
    {
      "cell_type": "code",
      "metadata": {
        "id": "nVcbTo8qph8O"
      },
      "source": [
        "W = tf.random.normal([2], 0,1)\n",
        "b = tf.random.normal([1], 0,1)\n",
        "b_x = 1"
      ],
      "id": "nVcbTo8qph8O",
      "execution_count": 17,
      "outputs": []
    },
    {
      "cell_type": "code",
      "metadata": {
        "id": "wroIzg1kronx"
      },
      "source": [
        "def sigmoid(x):\n",
        "  return 1 / (1 + np.exp(-x))"
      ],
      "id": "wroIzg1kronx",
      "execution_count": 18,
      "outputs": []
    },
    {
      "cell_type": "code",
      "metadata": {
        "id": "ckz2KZ0iptku",
        "outputId": "5adea31f-b541-48c1-da1a-d0428bcb5c41",
        "colab": {
          "base_uri": "https://localhost:8080/"
        }
      },
      "source": [
        "\n",
        "for i in range(2000):\n",
        "  error_sum = 0\n",
        "\n",
        "  for j in range(4):\n",
        "    output = sigmoid(np.sum(X[j] * W) + b_x + b)\n",
        "    error = Y[j][0] - output\n",
        "    W = W + X[j] * 0.1 * error\n",
        "    b = b + b_x * 0.1 * error\n",
        "    error_sum += error\n",
        "\n",
        "  if i % 200 == 0:\n",
        "    print('Epoch {:4d}\\tError sum{}'.format(i, error_sum))\n",
        "\n",
        "print('\\n가중치\\t: {}'.format(W))\n",
        "print('편향\\t {}'.format(b))"
      ],
      "id": "ckz2KZ0iptku",
      "execution_count": 19,
      "outputs": [
        {
          "output_type": "stream",
          "text": [
            "Epoch    0\tError sum[-2.0589242]\n",
            "Epoch  200\tError sum[-0.10774466]\n",
            "Epoch  400\tError sum[-0.06475925]\n",
            "Epoch  600\tError sum[-0.04618473]\n",
            "Epoch  800\tError sum[-0.03579129]\n",
            "Epoch 1000\tError sum[-0.0291635]\n",
            "Epoch 1200\tError sum[-0.02457926]\n",
            "Epoch 1400\tError sum[-0.02122416]\n",
            "Epoch 1600\tError sum[-0.01866577]\n",
            "Epoch 1800\tError sum[-0.01665103]\n",
            "\n",
            "가중치\t: [6.9856696 6.988794 ]\n",
            "편향\t [-11.648766]\n"
          ],
          "name": "stdout"
        }
      ]
    },
    {
      "cell_type": "code",
      "metadata": {
        "id": "fsLstOOYqIpF",
        "outputId": "b81d8240-b70d-4982-dd95-ccbd1031db69",
        "colab": {
          "base_uri": "https://localhost:8080/"
        }
      },
      "source": [
        "#평가\n",
        "for i in range(4):\n",
        "  print('X: {} Y:{} Output{}'.format(X[i], Y[i], sigmoid(np.sum(X[i] * W) + b)))"
      ],
      "id": "fsLstOOYqIpF",
      "execution_count": 24,
      "outputs": [
        {
          "output_type": "stream",
          "text": [
            "X: [0 0] Y:[0] Output[0.00963523]\n",
            "X: [1 0] Y:[1] Output[0.9726007]\n",
            "X: [0 1] Y:[1] Output[0.97257406]\n",
            "X: [1 1] Y:[1] Output[0.99999225]\n"
          ],
          "name": "stdout"
        }
      ]
    },
    {
      "cell_type": "markdown",
      "metadata": {
        "id": "TjF-d2-M1qe-"
      },
      "source": [
        "# OR Gate"
      ],
      "id": "TjF-d2-M1qe-"
    },
    {
      "cell_type": "code",
      "metadata": {
        "id": "kXvtqvpZze8o"
      },
      "source": [
        "# OR Gate\n",
        "X = np.array([[0,0], [1, 0], [0, 1], [1,1]])\n",
        "Y = np.array([[0],[1],[1],[1]])\n",
        "\n",
        "W = tf.random.normal([2], 0,1)\n",
        "b = tf.random.normal([1], 0,1)\n",
        "b_x = 1"
      ],
      "id": "kXvtqvpZze8o",
      "execution_count": 25,
      "outputs": []
    },
    {
      "cell_type": "code",
      "metadata": {
        "id": "g0vMLMEi2RJN",
        "outputId": "a10cd5f7-15ea-4320-f4ac-a4a9df3ddc26",
        "colab": {
          "base_uri": "https://localhost:8080/"
        }
      },
      "source": [
        "for i in range(2000):\n",
        "  error_sum = 0\n",
        "\n",
        "  for j in range(4):\n",
        "    output = sigmoid(np.sum(X[j] * W) + b_x + b)\n",
        "    error = Y[j][0] - output\n",
        "    W = W + X[j] * 0.1 * error\n",
        "    b = b + b_x * 0.1 * error\n",
        "    error_sum += error\n",
        "\n",
        "  if i % 200 == 0:\n",
        "    print('Epoch {:4d}\\tError sum{}'.format(i, error_sum))\n",
        "\n",
        "print('\\n가중치\\t: {}'.format(W))\n",
        "print('편향\\t {}'.format(b))"
      ],
      "id": "g0vMLMEi2RJN",
      "execution_count": 26,
      "outputs": [
        {
          "output_type": "stream",
          "text": [
            "Epoch    0\tError sum[-0.82736254]\n",
            "Epoch  200\tError sum[-0.05129674]\n",
            "Epoch  400\tError sum[-0.02643313]\n",
            "Epoch  600\tError sum[-0.01766088]\n",
            "Epoch  800\tError sum[-0.01320905]\n",
            "Epoch 1000\tError sum[-0.01052962]\n",
            "Epoch 1200\tError sum[-0.00874437]\n",
            "Epoch 1400\tError sum[-0.00747168]\n",
            "Epoch 1600\tError sum[-0.00651876]\n",
            "Epoch 1800\tError sum[-0.00578101]\n",
            "\n",
            "가중치\t: [8.204037 8.201855]\n",
            "편향\t [-4.633323]\n"
          ],
          "name": "stdout"
        }
      ]
    },
    {
      "cell_type": "code",
      "metadata": {
        "id": "Nx5tPSoh2UE7",
        "outputId": "e7438aca-ad12-4fed-cd09-6cb5492a3358",
        "colab": {
          "base_uri": "https://localhost:8080/"
        }
      },
      "source": [
        "# 평가\n",
        "for i in range(4):\n",
        "  print('X: {} Y:{} Output{}'.format(X[i], Y[i], sigmoid(np.sum(X[i] * W) + b)))"
      ],
      "id": "Nx5tPSoh2UE7",
      "execution_count": 27,
      "outputs": [
        {
          "output_type": "stream",
          "text": [
            "X: [0 0] Y:[0] Output[0.00962878]\n",
            "X: [1 0] Y:[1] Output[0.9726342]\n",
            "X: [0 1] Y:[1] Output[0.972576]\n",
            "X: [1 1] Y:[1] Output[0.99999225]\n"
          ],
          "name": "stdout"
        }
      ]
    },
    {
      "cell_type": "markdown",
      "metadata": {
        "id": "wGe6jM5f25xX"
      },
      "source": [
        "# XOR Gate"
      ],
      "id": "wGe6jM5f25xX"
    },
    {
      "cell_type": "code",
      "metadata": {
        "id": "ZBxvSAot2wq5"
      },
      "source": [
        "X = np.array([[0,0], [1, 0], [0, 1], [1,1]])\n",
        "Y = np.array([[0],[1],[1],[0]])\n",
        "\n",
        "W = tf.random.normal([2], 0,1)\n",
        "b = tf.random.normal([1], 0,1)\n",
        "b_x = 1"
      ],
      "id": "ZBxvSAot2wq5",
      "execution_count": 28,
      "outputs": []
    },
    {
      "cell_type": "code",
      "metadata": {
        "id": "BixXSQO93V5X",
        "outputId": "80e68445-23e5-4879-e32d-a857d812fea9",
        "colab": {
          "base_uri": "https://localhost:8080/"
        }
      },
      "source": [
        "for i in range(2000):\n",
        "  error_sum = 0\n",
        "\n",
        "  for j in range(4):\n",
        "    output = sigmoid(np.sum(X[j] * W) + b_x + b)\n",
        "    error = Y[j][0] - output\n",
        "    W = W + X[j] * 0.1 * error\n",
        "    b = b + b_x * 0.1 * error\n",
        "    error_sum += error\n",
        "\n",
        "  if i % 200 == 0:\n",
        "    print('Epoch {:4d}\\tError sum{}'.format(i, error_sum))\n",
        "\n",
        "print('\\n가중치\\t: {}'.format(W))\n",
        "print('편향\\t {}'.format(b))"
      ],
      "id": "BixXSQO93V5X",
      "execution_count": 29,
      "outputs": [
        {
          "output_type": "stream",
          "text": [
            "Epoch    0\tError sum[-0.23891166]\n",
            "Epoch  200\tError sum[-0.006347]\n",
            "Epoch  400\tError sum[-0.00025797]\n",
            "Epoch  600\tError sum[-1.0669231e-05]\n",
            "Epoch  800\tError sum[-5.9604645e-07]\n",
            "Epoch 1000\tError sum[-2.3841858e-07]\n",
            "Epoch 1200\tError sum[-1.1920929e-07]\n",
            "Epoch 1400\tError sum[-1.1920929e-07]\n",
            "Epoch 1600\tError sum[-2.3841858e-07]\n",
            "Epoch 1800\tError sum[-1.1920929e-07]\n",
            "\n",
            "가중치\t: [-0.05128209 -0.10256399]\n",
            "편향\t [-0.94871765]\n"
          ],
          "name": "stdout"
        }
      ]
    },
    {
      "cell_type": "code",
      "metadata": {
        "id": "z9WlelS43YXJ",
        "outputId": "23e69e2b-d03f-4d2b-8101-27c72edffd3c",
        "colab": {
          "base_uri": "https://localhost:8080/"
        }
      },
      "source": [
        "# 평가\n",
        "for i in range(4):\n",
        "  print('X: {} Y:{} Output{}'.format(X[i], Y[i], sigmoid(np.sum(X[i] * W) + b)))"
      ],
      "id": "z9WlelS43YXJ",
      "execution_count": 30,
      "outputs": [
        {
          "output_type": "stream",
          "text": [
            "X: [0 0] Y:[0] Output[0.2791428]\n",
            "X: [1 0] Y:[1] Output[0.26894146]\n",
            "X: [0 1] Y:[1] Output[0.25897905]\n",
            "X: [1 1] Y:[0] Output[0.24925983]\n"
          ],
          "name": "stdout"
        }
      ]
    },
    {
      "cell_type": "code",
      "metadata": {
        "id": "N5VpRh1L3f1N"
      },
      "source": [
        ""
      ],
      "id": "N5VpRh1L3f1N",
      "execution_count": null,
      "outputs": []
    }
  ]
}