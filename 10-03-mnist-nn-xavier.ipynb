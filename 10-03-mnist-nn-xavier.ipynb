{
  "nbformat": 4,
  "nbformat_minor": 5,
  "metadata": {
    "colab": {
      "name": "10-03-mnist-nn-xavier.ipynb",
      "provenance": [],
      "include_colab_link": true
    },
    "language_info": {
      "name": "python"
    },
    "kernelspec": {
      "name": "python3",
      "display_name": "Python 3"
    }
  },
  "cells": [
    {
      "cell_type": "markdown",
      "metadata": {
        "id": "view-in-github",
        "colab_type": "text"
      },
      "source": [
        "<a href=\"https://colab.research.google.com/github/dantae74/machine-learning/blob/main/10-03-mnist-nn-xavier.ipynb\" target=\"_parent\"><img src=\"https://colab.research.google.com/assets/colab-badge.svg\" alt=\"Open In Colab\"/></a>"
      ]
    },
    {
      "cell_type": "markdown",
      "metadata": {
        "id": "WfgQSbgOoe-2"
      },
      "source": [
        "모두를 위한 머신러닝에서 가져왔습니다.\n",
        "# MNIST with NN"
      ],
      "id": "WfgQSbgOoe-2"
    },
    {
      "cell_type": "code",
      "metadata": {
        "id": "m4ygF191Zmof"
      },
      "source": [
        "import numpy as np\n",
        "import random\n",
        "import tensorflow as tf\n"
      ],
      "id": "m4ygF191Zmof",
      "execution_count": null,
      "outputs": []
    },
    {
      "cell_type": "code",
      "metadata": {
        "id": "RK3QTbWDofS7"
      },
      "source": [
        "random.seed(777)  # for reproducibility\n",
        "learning_rate = 0.001\n",
        "batch_size = 100\n",
        "training_epochs = 15\n",
        "nb_classes = 10"
      ],
      "id": "RK3QTbWDofS7",
      "execution_count": null,
      "outputs": []
    },
    {
      "cell_type": "code",
      "metadata": {
        "id": "30dxHmEPog-b",
        "colab": {
          "base_uri": "https://localhost:8080/"
        },
        "outputId": "c60bf016-6505-4d68-a6a4-aae409ca8b64"
      },
      "source": [
        "(x_train, y_train), (x_test2, y_test) = tf.keras.datasets.mnist.load_data()\n",
        "print(x_train.shape)"
      ],
      "id": "30dxHmEPog-b",
      "execution_count": null,
      "outputs": [
        {
          "output_type": "stream",
          "text": [
            "(60000, 28, 28)\n"
          ],
          "name": "stdout"
        }
      ]
    },
    {
      "cell_type": "code",
      "metadata": {
        "id": "XWIyFwVMZwHx"
      },
      "source": [
        "x_train = x_train.reshape(x_train.shape[0], 28 * 28)\n",
        "x_test = x_test2.reshape(x_test2.shape[0], 28 * 28)"
      ],
      "id": "XWIyFwVMZwHx",
      "execution_count": null,
      "outputs": []
    },
    {
      "cell_type": "code",
      "metadata": {
        "id": "Qrj4vGsAZy6K",
        "colab": {
          "base_uri": "https://localhost:8080/"
        },
        "outputId": "0a62c317-be76-4397-8ff9-1ea4e5d4b1ac"
      },
      "source": [
        "print('x_train.shape:{}\\ny_train.shape{}'.format(x_train.shape, y_train.shape))"
      ],
      "id": "Qrj4vGsAZy6K",
      "execution_count": null,
      "outputs": [
        {
          "output_type": "stream",
          "text": [
            "x_train.shape:(60000, 784)\n",
            "y_train.shape(60000,)\n"
          ],
          "name": "stdout"
        }
      ]
    },
    {
      "cell_type": "code",
      "metadata": {
        "id": "YUOnlc1UaE5_"
      },
      "source": [
        "# one-hot encoding\n",
        "y_train = tf.keras.utils.to_categorical(y_train, nb_classes)\n",
        "y_test = tf.keras.utils.to_categorical(y_test, nb_classes)"
      ],
      "id": "YUOnlc1UaE5_",
      "execution_count": null,
      "outputs": []
    },
    {
      "cell_type": "code",
      "metadata": {
        "id": "mKI_P39XaHhv",
        "colab": {
          "base_uri": "https://localhost:8080/"
        },
        "outputId": "c14fb8f1-5d4a-4e45-c3b8-992202279aca"
      },
      "source": [
        "tf.model = tf.keras.Sequential()\n",
        "tf.model.add(tf.keras.layers.Dense(input_dim=784, units=256, activation='relu'))\n",
        "tf.model.add(tf.keras.layers.Dense(units=256, activation='relu'))\n",
        "tf.model.add(tf.keras.layers.Dense(units=nb_classes, activation='softmax'))\n",
        "tf.model.compile(loss='categorical_crossentropy',\n",
        "                 optimizer=tf.keras.optimizers.Adam(lr=learning_rate), metrics=['accuracy'])\n",
        "tf.model.summary()"
      ],
      "id": "mKI_P39XaHhv",
      "execution_count": null,
      "outputs": [
        {
          "output_type": "stream",
          "text": [
            "Model: \"sequential_1\"\n",
            "_________________________________________________________________\n",
            "Layer (type)                 Output Shape              Param #   \n",
            "=================================================================\n",
            "dense_1 (Dense)              (None, 256)               200960    \n",
            "_________________________________________________________________\n",
            "dense_2 (Dense)              (None, 256)               65792     \n",
            "_________________________________________________________________\n",
            "dense_3 (Dense)              (None, 10)                2570      \n",
            "=================================================================\n",
            "Total params: 269,322\n",
            "Trainable params: 269,322\n",
            "Non-trainable params: 0\n",
            "_________________________________________________________________\n"
          ],
          "name": "stdout"
        }
      ]
    },
    {
      "cell_type": "code",
      "metadata": {
        "id": "nTzRBoPUaLUf",
        "colab": {
          "base_uri": "https://localhost:8080/",
          "height": 369
        },
        "outputId": "c291812e-6dce-43df-a14d-98a06a9d421a"
      },
      "source": [
        "tf.keras.utils.plot_model(tf.model)"
      ],
      "id": "nTzRBoPUaLUf",
      "execution_count": null,
      "outputs": [
        {
          "output_type": "execute_result",
          "data": {
            "image/png": "[encoded data removed]",
            "text/plain": [
              "<IPython.core.display.Image object>"
            ]
          },
          "metadata": {
            "tags": []
          },
          "execution_count": 19
        }
      ]
    },
    {
      "cell_type": "code",
      "metadata": {
        "id": "cBgRj6lzaiRt",
        "colab": {
          "base_uri": "https://localhost:8080/"
        },
        "outputId": "2254ab35-4519-4b7d-9178-9864fe57b965"
      },
      "source": [
        "tf.model.fit(x_train, y_train, batch_size=batch_size, epochs=training_epochs, verbose=0)"
      ],
      "id": "cBgRj6lzaiRt",
      "execution_count": null,
      "outputs": [
        {
          "output_type": "execute_result",
          "data": {
            "text/plain": [
              "<tensorflow.python.keras.callbacks.History at 0x7f07aed85590>"
            ]
          },
          "metadata": {
            "tags": []
          },
          "execution_count": 20
        }
      ]
    },
    {
      "cell_type": "code",
      "metadata": {
        "id": "n9eGYGIZanTG",
        "colab": {
          "base_uri": "https://localhost:8080/"
        },
        "outputId": "3c7d26f0-a1a6-4a1c-9386-984a46e0f11a"
      },
      "source": [
        "# predict 10 random hand-writing data\n",
        "y_predicted = tf.model.predict(x_test)\n",
        "for x in range(0, 10):\n",
        "    random_index = random.randint(0, x_test.shape[0]-1)\n",
        "    print(\"index: \", random_index,\n",
        "          \"actual y: \", np.argmax(y_test[random_index]),\n",
        "          \"predicted y: \", np.argmax(y_predicted[random_index]))"
      ],
      "id": "n9eGYGIZanTG",
      "execution_count": null,
      "outputs": [
        {
          "output_type": "stream",
          "text": [
            "index:  3757 actual y:  8 predicted y:  8\n",
            "index:  7304 actual y:  5 predicted y:  5\n",
            "index:  7300 actual y:  7 predicted y:  7\n",
            "index:  6039 actual y:  9 predicted y:  9\n",
            "index:  9429 actual y:  3 predicted y:  3\n",
            "index:  4420 actual y:  5 predicted y:  5\n",
            "index:  5507 actual y:  2 predicted y:  2\n",
            "index:  8809 actual y:  1 predicted y:  1\n",
            "index:  654 actual y:  5 predicted y:  5\n",
            "index:  7302 actual y:  8 predicted y:  8\n"
          ],
          "name": "stdout"
        }
      ]
    },
    {
      "cell_type": "code",
      "metadata": {
        "id": "hKR7WDU_arCu",
        "colab": {
          "base_uri": "https://localhost:8080/"
        },
        "outputId": "e2069d34-ba13-4b6b-964a-4ace7be1abbe"
      },
      "source": [
        "# evaluate test set\n",
        "evaluation = tf.model.evaluate(x_test, y_test)\n",
        "print('loss: ', evaluation[0])\n",
        "print('accuracy', evaluation[1])"
      ],
      "id": "hKR7WDU_arCu",
      "execution_count": null,
      "outputs": [
        {
          "output_type": "stream",
          "text": [
            "313/313 [==============================] - 1s 1ms/step - loss: 0.2196 - accuracy: 0.9657\n",
            "loss:  0.21959252655506134\n",
            "accuracy 0.9656999707221985\n"
          ],
          "name": "stdout"
        }
      ]
    },
    {
      "cell_type": "code",
      "metadata": {
        "id": "CiOqQch7atgX"
      },
      "source": [
        ""
      ],
      "id": "CiOqQch7atgX",
      "execution_count": null,
      "outputs": []
    }
  ]
}
