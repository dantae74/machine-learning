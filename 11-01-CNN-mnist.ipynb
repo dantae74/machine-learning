{
  "nbformat": 4,
  "nbformat_minor": 5,
  "metadata": {
    "colab": {
      "name": "11-01-CNN-mnist.ipynb",
      "provenance": [],
      "include_colab_link": true
    },
    "language_info": {
      "name": "python"
    },
    "kernelspec": {
      "name": "python3",
      "display_name": "Python 3"
    },
    "accelerator": "GPU"
  },
  "cells": [
    {
      "cell_type": "markdown",
      "metadata": {
        "id": "view-in-github",
        "colab_type": "text"
      },
      "source": [
        "<a href=\"https://colab.research.google.com/github/dantae74/machine-learning/blob/main/11-01-CNN-mnist.ipynb\" target=\"_parent\"><img src=\"https://colab.research.google.com/assets/colab-badge.svg\" alt=\"Open In Colab\"/></a>"
      ]
    },
    {
      "cell_type": "markdown",
      "metadata": {
        "id": "WfgQSbgOoe-2"
      },
      "source": [
        "모두를 위한 머신러닝에서 가져왔습니다.\n",
        "\n",
        "# CNN - MNIST\n",
        "\n"
      ],
      "id": "WfgQSbgOoe-2"
    },
    {
      "cell_type": "code",
      "metadata": {
        "id": "RK3QTbWDofS7"
      },
      "source": [
        "import numpy as np\n",
        "import tensorflow as tf\n",
        "import random"
      ],
      "id": "RK3QTbWDofS7",
      "execution_count": 1,
      "outputs": []
    },
    {
      "cell_type": "code",
      "metadata": {
        "id": "30dxHmEPog-b"
      },
      "source": [
        "mnist = tf.keras.datasets.mnist"
      ],
      "id": "30dxHmEPog-b",
      "execution_count": 2,
      "outputs": []
    },
    {
      "cell_type": "code",
      "metadata": {
        "id": "4qJmVWpO7ijW",
        "outputId": "38874a86-54a7-4d22-86eb-df2e9094cc7c",
        "colab": {
          "base_uri": "https://localhost:8080/"
        }
      },
      "source": [
        "(x_train, y_train), (x_test, y_test) = mnist.load_data()"
      ],
      "id": "4qJmVWpO7ijW",
      "execution_count": 3,
      "outputs": [
        {
          "output_type": "stream",
          "text": [
            "Downloading data from https://storage.googleapis.com/tensorflow/tf-keras-datasets/mnist.npz\n",
            "11493376/11490434 [==============================] - 0s 0us/step\n"
          ],
          "name": "stdout"
        }
      ]
    },
    {
      "cell_type": "code",
      "metadata": {
        "id": "mQ6VNIui73Wk",
        "outputId": "637a0767-0ef5-412a-d5d7-e6841d023345",
        "colab": {
          "base_uri": "https://localhost:8080/"
        }
      },
      "source": [
        "print('x_train.shape:', x_train.shape, 'y_train.shape:', y_train.shape)"
      ],
      "id": "mQ6VNIui73Wk",
      "execution_count": 4,
      "outputs": [
        {
          "output_type": "stream",
          "text": [
            "x_train.shape: (60000, 28, 28) y_train.shape: (60000,)\n"
          ],
          "name": "stdout"
        }
      ]
    },
    {
      "cell_type": "code",
      "metadata": {
        "id": "XZWKjzSE7iwM"
      },
      "source": [
        "x_test = x_test / 255\n",
        "x_train = x_train / 255\n",
        "x_train = x_train.reshape(-1, 28, 28, 1)\n",
        "x_test = x_test.reshape(-1, 28, 28, 1)"
      ],
      "id": "XZWKjzSE7iwM",
      "execution_count": 5,
      "outputs": []
    },
    {
      "cell_type": "code",
      "metadata": {
        "id": "9MlVW4rD9C96",
        "outputId": "1e43f1db-229a-47b7-a374-7c4a49df1365",
        "colab": {
          "base_uri": "https://localhost:8080/"
        }
      },
      "source": [
        "print('x_train.shape:', x_train.shape, 'x_test.shape:', x_test.shape)"
      ],
      "id": "9MlVW4rD9C96",
      "execution_count": 6,
      "outputs": [
        {
          "output_type": "stream",
          "text": [
            "x_train.shape: (60000, 28, 28, 1) x_test.shape: (10000, 28, 28, 1)\n"
          ],
          "name": "stdout"
        }
      ]
    },
    {
      "cell_type": "code",
      "metadata": {
        "id": "Eh1GHkkd9DHH"
      },
      "source": [
        "# one hot encode y data\n",
        "y_train = tf.keras.utils.to_categorical(y_train, 10)\n",
        "y_test = tf.keras.utils.to_categorical(y_test, 10)"
      ],
      "id": "Eh1GHkkd9DHH",
      "execution_count": 7,
      "outputs": []
    },
    {
      "cell_type": "code",
      "metadata": {
        "id": "UflEi-rG7i6E"
      },
      "source": [
        "# hyper parameters\n",
        "learning_rate = 0.001\n",
        "training_epochs = 12\n",
        "batch_size = 128"
      ],
      "id": "UflEi-rG7i6E",
      "execution_count": 8,
      "outputs": []
    },
    {
      "cell_type": "code",
      "metadata": {
        "id": "KaHEpekz9lcD",
        "outputId": "ca621ab8-f21c-4c80-d7a3-c6f3494ece30",
        "colab": {
          "base_uri": "https://localhost:8080/"
        }
      },
      "source": [
        "tf.model = tf.keras.Sequential()\n",
        "# L1\n",
        "tf.model.add(tf.keras.layers.Conv2D(filters=16, kernel_size=(3, 3), input_shape=(28, 28, 1), activation='relu'))\n",
        "tf.model.add(tf.keras.layers.MaxPooling2D(pool_size=(2, 2)))\n",
        "\n",
        "# L2\n",
        "tf.model.add(tf.keras.layers.Conv2D(filters=32, kernel_size=(3, 3), activation='relu'))\n",
        "tf.model.add(tf.keras.layers.MaxPooling2D(pool_size=(2, 2)))\n",
        "\n",
        "# L3 fully connected\n",
        "tf.model.add(tf.keras.layers.Flatten())\n",
        "tf.model.add(tf.keras.layers.Dense(units=10, kernel_initializer='glorot_normal', activation='softmax'))\n",
        "\n",
        "tf.model.compile(loss='categorical_crossentropy', optimizer=tf.keras.optimizers.Adam(lr=learning_rate), metrics=['accuracy'])\n",
        "tf.model.summary()"
      ],
      "id": "KaHEpekz9lcD",
      "execution_count": 9,
      "outputs": [
        {
          "output_type": "stream",
          "text": [
            "Model: \"sequential\"\n",
            "_________________________________________________________________\n",
            "Layer (type)                 Output Shape              Param #   \n",
            "=================================================================\n",
            "conv2d (Conv2D)              (None, 26, 26, 16)        160       \n",
            "_________________________________________________________________\n",
            "max_pooling2d (MaxPooling2D) (None, 13, 13, 16)        0         \n",
            "_________________________________________________________________\n",
            "conv2d_1 (Conv2D)            (None, 11, 11, 32)        4640      \n",
            "_________________________________________________________________\n",
            "max_pooling2d_1 (MaxPooling2 (None, 5, 5, 32)          0         \n",
            "_________________________________________________________________\n",
            "flatten (Flatten)            (None, 800)               0         \n",
            "_________________________________________________________________\n",
            "dense (Dense)                (None, 10)                8010      \n",
            "=================================================================\n",
            "Total params: 12,810\n",
            "Trainable params: 12,810\n",
            "Non-trainable params: 0\n",
            "_________________________________________________________________\n"
          ],
          "name": "stdout"
        }
      ]
    },
    {
      "cell_type": "code",
      "metadata": {
        "id": "1PWtfBX39s6H",
        "outputId": "7a4278a8-c59c-4b69-c790-cce17ca4d5f8",
        "colab": {
          "base_uri": "https://localhost:8080/"
        }
      },
      "source": [
        "tf.model.fit(x_train, y_train, batch_size=batch_size, epochs=training_epochs)"
      ],
      "id": "1PWtfBX39s6H",
      "execution_count": 10,
      "outputs": [
        {
          "output_type": "stream",
          "text": [
            "Epoch 1/12\n",
            "469/469 [==============================] - 34s 4ms/step - loss: 0.7350 - accuracy: 0.7944\n",
            "Epoch 2/12\n",
            "469/469 [==============================] - 2s 3ms/step - loss: 0.1117 - accuracy: 0.9660\n",
            "Epoch 3/12\n",
            "469/469 [==============================] - 2s 3ms/step - loss: 0.0782 - accuracy: 0.9761\n",
            "Epoch 4/12\n",
            "469/469 [==============================] - 2s 3ms/step - loss: 0.0625 - accuracy: 0.9808\n",
            "Epoch 5/12\n",
            "469/469 [==============================] - 2s 3ms/step - loss: 0.0545 - accuracy: 0.9829\n",
            "Epoch 6/12\n",
            "469/469 [==============================] - 2s 3ms/step - loss: 0.0495 - accuracy: 0.9842\n",
            "Epoch 7/12\n",
            "469/469 [==============================] - 2s 3ms/step - loss: 0.0437 - accuracy: 0.9862\n",
            "Epoch 8/12\n",
            "469/469 [==============================] - 2s 3ms/step - loss: 0.0422 - accuracy: 0.9869\n",
            "Epoch 9/12\n",
            "469/469 [==============================] - 2s 3ms/step - loss: 0.0355 - accuracy: 0.9897\n",
            "Epoch 10/12\n",
            "469/469 [==============================] - 2s 3ms/step - loss: 0.0347 - accuracy: 0.9898\n",
            "Epoch 11/12\n",
            "469/469 [==============================] - 2s 3ms/step - loss: 0.0306 - accuracy: 0.9906\n",
            "Epoch 12/12\n",
            "469/469 [==============================] - 2s 3ms/step - loss: 0.0279 - accuracy: 0.9915\n"
          ],
          "name": "stdout"
        },
        {
          "output_type": "execute_result",
          "data": {
            "text/plain": [
              "<tensorflow.python.keras.callbacks.History at 0x7fae49598d50>"
            ]
          },
          "metadata": {
            "tags": []
          },
          "execution_count": 10
        }
      ]
    },
    {
      "cell_type": "code",
      "metadata": {
        "id": "DYzdN-m79tKA",
        "outputId": "d3455279-0700-43e9-9354-eb7930788c6a",
        "colab": {
          "base_uri": "https://localhost:8080/"
        }
      },
      "source": [
        "# predict 10 random hand-writing data\n",
        "y_predicted = tf.model.predict(x_test)\n",
        "for x in range(0, 10):\n",
        "    random_index = random.randint(0, x_test.shape[0]-1)\n",
        "    print(\"index: \", random_index,\n",
        "          \"actual y: \", np.argmax(y_test[random_index]),\n",
        "          \"predicted y: \", np.argmax(y_predicted[random_index]))\n",
        "\n",
        "evaluation = tf.model.evaluate(x_test, y_test)\n",
        "print('loss: ', evaluation[0])\n",
        "print('accuracy', evaluation[1])"
      ],
      "id": "DYzdN-m79tKA",
      "execution_count": 11,
      "outputs": [
        {
          "output_type": "stream",
          "text": [
            "index:  812 actual y:  5 predicted y:  5\n",
            "index:  6079 actual y:  7 predicted y:  7\n",
            "index:  7938 actual y:  5 predicted y:  5\n",
            "index:  7532 actual y:  6 predicted y:  6\n",
            "index:  4751 actual y:  4 predicted y:  6\n",
            "index:  4274 actual y:  2 predicted y:  2\n",
            "index:  2376 actual y:  0 predicted y:  0\n",
            "index:  3675 actual y:  2 predicted y:  2\n",
            "index:  9383 actual y:  6 predicted y:  6\n",
            "index:  6909 actual y:  5 predicted y:  5\n",
            "313/313 [==============================] - 1s 2ms/step - loss: 0.0349 - accuracy: 0.9879\n",
            "loss:  0.03490009903907776\n",
            "accuracy 0.9879000186920166\n"
          ],
          "name": "stdout"
        }
      ]
    }
  ]
}
