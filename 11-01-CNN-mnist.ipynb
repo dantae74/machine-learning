{
  "nbformat": 4,
  "nbformat_minor": 5,
  "metadata": {
    "colab": {
      "name": "11-01-CNN-mnist.ipynb",
      "provenance": [],
      "include_colab_link": true
    },
    "language_info": {
      "name": "python"
    },
    "kernelspec": {
      "name": "python3",
      "display_name": "Python 3"
    },
    "accelerator": "GPU"
  },
  "cells": [
    {
      "cell_type": "markdown",
      "metadata": {
        "id": "view-in-github",
        "colab_type": "text"
      },
      "source": [
        "<a href=\"https://colab.research.google.com/github/dantae74/machine-learning/blob/main/11-01-CNN-mnist.ipynb\" target=\"_parent\"><img src=\"https://colab.research.google.com/assets/colab-badge.svg\" alt=\"Open In Colab\"/></a>"
      ]
    },
    {
      "cell_type": "markdown",
      "metadata": {
        "id": "WfgQSbgOoe-2"
      },
      "source": [
        "모두를 위한 머신러닝에서 가져왔습니다.\n",
        "\n",
        "# CNN - MNIST\n",
        "\n"
      ],
      "id": "WfgQSbgOoe-2"
    },
    {
      "cell_type": "code",
      "metadata": {
        "id": "RK3QTbWDofS7"
      },
      "source": [
        "import numpy as np\n",
        "import tensorflow as tf\n",
        "import random"
      ],
      "id": "RK3QTbWDofS7",
      "execution_count": 2,
      "outputs": []
    },
    {
      "cell_type": "code",
      "metadata": {
        "id": "30dxHmEPog-b"
      },
      "source": [
        "mnist = tf.keras.datasets.mnist"
      ],
      "id": "30dxHmEPog-b",
      "execution_count": 3,
      "outputs": []
    },
    {
      "cell_type": "code",
      "metadata": {
        "id": "4qJmVWpO7ijW",
        "colab": {
          "base_uri": "https://localhost:8080/"
        },
        "outputId": "7bcde15e-433f-4396-cadd-0866ca4e0811"
      },
      "source": [
        "(x_train, y_train), (x_test, y_test) = mnist.load_data()"
      ],
      "id": "4qJmVWpO7ijW",
      "execution_count": 4,
      "outputs": [
        {
          "output_type": "stream",
          "text": [
            "Downloading data from https://storage.googleapis.com/tensorflow/tf-keras-datasets/mnist.npz\n",
            "11493376/11490434 [==============================] - 0s 0us/step\n"
          ],
          "name": "stdout"
        }
      ]
    },
    {
      "cell_type": "code",
      "metadata": {
        "id": "mQ6VNIui73Wk",
        "colab": {
          "base_uri": "https://localhost:8080/"
        },
        "outputId": "81fb5a95-55c8-4b1b-b356-be48369887d2"
      },
      "source": [
        "print('x_train.shape:', x_train.shape, 'y_train.shape:', y_train.shape)"
      ],
      "id": "mQ6VNIui73Wk",
      "execution_count": 5,
      "outputs": [
        {
          "output_type": "stream",
          "text": [
            "x_train.shape: (60000, 28, 28) y_train.shape: (60000,)\n"
          ],
          "name": "stdout"
        }
      ]
    },
    {
      "cell_type": "code",
      "metadata": {
        "id": "XZWKjzSE7iwM"
      },
      "source": [
        "x_test = x_test / 255\n",
        "x_train = x_train / 255\n",
        "x_train = x_train.reshape(-1, 28, 28, 1)\n",
        "x_test = x_test.reshape(-1, 28, 28, 1)"
      ],
      "id": "XZWKjzSE7iwM",
      "execution_count": 6,
      "outputs": []
    },
    {
      "cell_type": "code",
      "metadata": {
        "id": "9MlVW4rD9C96",
        "colab": {
          "base_uri": "https://localhost:8080/"
        },
        "outputId": "c2d2b54f-7cf6-4453-b945-f5ff714f93dd"
      },
      "source": [
        "print('x_train.shape:', x_train.shape, 'x_test.shape:', x_test.shape)"
      ],
      "id": "9MlVW4rD9C96",
      "execution_count": 7,
      "outputs": [
        {
          "output_type": "stream",
          "text": [
            "x_train.shape: (60000, 28, 28, 1) x_test.shape: (10000, 28, 28, 1)\n"
          ],
          "name": "stdout"
        }
      ]
    },
    {
      "cell_type": "code",
      "metadata": {
        "id": "Eh1GHkkd9DHH"
      },
      "source": [
        "# one hot encode y data\n",
        "y_train = tf.keras.utils.to_categorical(y_train, 10)\n",
        "y_test = tf.keras.utils.to_categorical(y_test, 10)"
      ],
      "id": "Eh1GHkkd9DHH",
      "execution_count": 8,
      "outputs": []
    },
    {
      "cell_type": "code",
      "metadata": {
        "id": "UflEi-rG7i6E"
      },
      "source": [
        "# hyper parameters\n",
        "learning_rate = 0.001\n",
        "training_epochs = 12\n",
        "batch_size = 128"
      ],
      "id": "UflEi-rG7i6E",
      "execution_count": 9,
      "outputs": []
    },
    {
      "cell_type": "code",
      "metadata": {
        "id": "KaHEpekz9lcD",
        "colab": {
          "base_uri": "https://localhost:8080/"
        },
        "outputId": "6d640e7c-47b4-4b49-8deb-35035fe9e1fe"
      },
      "source": [
        "tf.model = tf.keras.Sequential()\n",
        "# L1\n",
        "tf.model.add(tf.keras.layers.Conv2D(filters=16, kernel_size=(3, 3), input_shape=(28, 28, 1), activation='relu'))\n",
        "tf.model.add(tf.keras.layers.MaxPooling2D(pool_size=(2, 2)))\n",
        "\n",
        "# L2\n",
        "tf.model.add(tf.keras.layers.Conv2D(filters=32, kernel_size=(3, 3), activation='relu'))\n",
        "tf.model.add(tf.keras.layers.MaxPooling2D(pool_size=(2, 2)))\n",
        "\n",
        "# L3 fully connected\n",
        "tf.model.add(tf.keras.layers.Flatten())\n",
        "tf.model.add(tf.keras.layers.Dense(units=10, kernel_initializer='glorot_normal', activation='softmax'))\n",
        "\n",
        "tf.model.compile(loss='categorical_crossentropy', optimizer=tf.keras.optimizers.Adam(lr=learning_rate), metrics=['accuracy'])\n",
        "tf.model.summary()"
      ],
      "id": "KaHEpekz9lcD",
      "execution_count": 10,
      "outputs": [
        {
          "output_type": "stream",
          "text": [
            "Model: \"sequential\"\n",
            "_________________________________________________________________\n",
            "Layer (type)                 Output Shape              Param #   \n",
            "=================================================================\n",
            "conv2d (Conv2D)              (None, 26, 26, 16)        160       \n",
            "_________________________________________________________________\n",
            "max_pooling2d (MaxPooling2D) (None, 13, 13, 16)        0         \n",
            "_________________________________________________________________\n",
            "conv2d_1 (Conv2D)            (None, 11, 11, 32)        4640      \n",
            "_________________________________________________________________\n",
            "max_pooling2d_1 (MaxPooling2 (None, 5, 5, 32)          0         \n",
            "_________________________________________________________________\n",
            "flatten (Flatten)            (None, 800)               0         \n",
            "_________________________________________________________________\n",
            "dense (Dense)                (None, 10)                8010      \n",
            "=================================================================\n",
            "Total params: 12,810\n",
            "Trainable params: 12,810\n",
            "Non-trainable params: 0\n",
            "_________________________________________________________________\n"
          ],
          "name": "stdout"
        }
      ]
    },
    {
      "cell_type": "code",
      "metadata": {
        "id": "Q0hpH3JBA4yS",
        "outputId": "7d67e47f-cf5b-4698-a87f-006b36009f52",
        "colab": {
          "base_uri": "https://localhost:8080/",
          "height": 661
        }
      },
      "source": [
        "tf.keras.utils.plot_model(tf.model)"
      ],
      "id": "Q0hpH3JBA4yS",
      "execution_count": 11,
      "outputs": [
        {
          "output_type": "execute_result",
          "data": {
            "image/png": "[encoded data removed]",
            "text/plain": [
              "<IPython.core.display.Image object>"
            ]
          },
          "metadata": {
            "tags": []
          },
          "execution_count": 11
        }
      ]
    },
    {
      "cell_type": "code",
      "metadata": {
        "id": "1PWtfBX39s6H",
        "colab": {
          "base_uri": "https://localhost:8080/"
        },
        "outputId": "fb75024a-b06c-404d-8fc6-e84c49270544"
      },
      "source": [
        "tf.model.fit(x_train, y_train, batch_size=batch_size, epochs=training_epochs)"
      ],
      "id": "1PWtfBX39s6H",
      "execution_count": 12,
      "outputs": [
        {
          "output_type": "stream",
          "text": [
            "Epoch 1/12\n",
            "469/469 [==============================] - 34s 4ms/step - loss: 0.7762 - accuracy: 0.7861\n",
            "Epoch 2/12\n",
            "469/469 [==============================] - 2s 3ms/step - loss: 0.0986 - accuracy: 0.9718\n",
            "Epoch 3/12\n",
            "469/469 [==============================] - 2s 3ms/step - loss: 0.0719 - accuracy: 0.9779\n",
            "Epoch 4/12\n",
            "469/469 [==============================] - 2s 3ms/step - loss: 0.0625 - accuracy: 0.9824\n",
            "Epoch 5/12\n",
            "469/469 [==============================] - 2s 3ms/step - loss: 0.0490 - accuracy: 0.9846\n",
            "Epoch 6/12\n",
            "469/469 [==============================] - 2s 3ms/step - loss: 0.0434 - accuracy: 0.9865\n",
            "Epoch 7/12\n",
            "469/469 [==============================] - 2s 3ms/step - loss: 0.0398 - accuracy: 0.9878\n",
            "Epoch 8/12\n",
            "469/469 [==============================] - 2s 3ms/step - loss: 0.0385 - accuracy: 0.9879\n",
            "Epoch 9/12\n",
            "469/469 [==============================] - 2s 3ms/step - loss: 0.0302 - accuracy: 0.9903\n",
            "Epoch 10/12\n",
            "469/469 [==============================] - 2s 3ms/step - loss: 0.0305 - accuracy: 0.9913\n",
            "Epoch 11/12\n",
            "469/469 [==============================] - 2s 3ms/step - loss: 0.0277 - accuracy: 0.9912\n",
            "Epoch 12/12\n",
            "469/469 [==============================] - 2s 3ms/step - loss: 0.0234 - accuracy: 0.9927\n"
          ],
          "name": "stdout"
        },
        {
          "output_type": "execute_result",
          "data": {
            "text/plain": [
              "<tensorflow.python.keras.callbacks.History at 0x7f13180c2e90>"
            ]
          },
          "metadata": {
            "tags": []
          },
          "execution_count": 12
        }
      ]
    },
    {
      "cell_type": "code",
      "metadata": {
        "id": "DYzdN-m79tKA",
        "colab": {
          "base_uri": "https://localhost:8080/"
        },
        "outputId": "8f1c3d20-64d4-4445-df79-fd330ae2539d"
      },
      "source": [
        "# predict 10 random hand-writing data\n",
        "y_predicted = tf.model.predict(x_test)\n",
        "for x in range(0, 10):\n",
        "    random_index = random.randint(0, x_test.shape[0]-1)\n",
        "    print(\"index: \", random_index,\n",
        "          \"actual y: \", np.argmax(y_test[random_index]),\n",
        "          \"predicted y: \", np.argmax(y_predicted[random_index]))\n",
        "\n",
        "evaluation = tf.model.evaluate(x_test, y_test)\n",
        "print('loss: ', evaluation[0])\n",
        "print('accuracy', evaluation[1])"
      ],
      "id": "DYzdN-m79tKA",
      "execution_count": 13,
      "outputs": [
        {
          "output_type": "stream",
          "text": [
            "index:  3911 actual y:  0 predicted y:  0\n",
            "index:  8636 actual y:  1 predicted y:  1\n",
            "index:  4660 actual y:  7 predicted y:  7\n",
            "index:  2302 actual y:  1 predicted y:  1\n",
            "index:  1831 actual y:  6 predicted y:  6\n",
            "index:  850 actual y:  1 predicted y:  1\n",
            "index:  7538 actual y:  7 predicted y:  7\n",
            "index:  2713 actual y:  0 predicted y:  0\n",
            "index:  2783 actual y:  8 predicted y:  8\n",
            "index:  5469 actual y:  6 predicted y:  6\n",
            "313/313 [==============================] - 1s 2ms/step - loss: 0.0400 - accuracy: 0.9878\n",
            "loss:  0.04003182426095009\n",
            "accuracy 0.9878000020980835\n"
          ],
          "name": "stdout"
        }
      ]
    }
  ]
}
