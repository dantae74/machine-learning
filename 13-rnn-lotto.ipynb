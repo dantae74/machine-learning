{
  "nbformat": 4,
  "nbformat_minor": 5,
  "metadata": {
    "colab": {
      "name": "13-rnn-lotto.ipynb",
      "provenance": [],
      "include_colab_link": true
    },
    "language_info": {
      "name": "python"
    },
    "kernelspec": {
      "name": "python3",
      "display_name": "Python 3"
    }
  },
  "cells": [
    {
      "cell_type": "markdown",
      "metadata": {
        "id": "view-in-github",
        "colab_type": "text"
      },
      "source": [
        "<a href=\"https://colab.research.google.com/github/dantae74/machine-learning/blob/main/13-rnn-lotto.ipynb\" target=\"_parent\"><img src=\"https://colab.research.google.com/assets/colab-badge.svg\" alt=\"Open In Colab\"/></a>"
      ]
    },
    {
      "cell_type": "markdown",
      "metadata": {
        "id": "WfgQSbgOoe-2"
      },
      "source": [
        "모두를 위한 머신러닝에서 가져왔습니다.\n",
        "# RNN-lotto"
      ],
      "id": "WfgQSbgOoe-2"
    },
    {
      "cell_type": "code",
      "metadata": {
        "id": "RK3QTbWDofS7"
      },
      "source": [
        "import numpy as np\n",
        "import tensorflow as tf\n",
        "import pandas as pd\n",
        "from tensorflow import keras\n",
        "from tensorflow.keras import layers"
      ],
      "id": "RK3QTbWDofS7",
      "execution_count": 1,
      "outputs": []
    },
    {
      "cell_type": "code",
      "metadata": {
        "id": "30dxHmEPog-b"
      },
      "source": [
        "url = 'https://raw.githubusercontent.com/dantae74/machine-learning/main/dataset/lotto.csv'\n",
        "df = pd.read_csv(url)"
      ],
      "id": "30dxHmEPog-b",
      "execution_count": 2,
      "outputs": []
    },
    {
      "cell_type": "code",
      "metadata": {
        "id": "5CoSg25DgmU1",
        "colab": {
          "base_uri": "https://localhost:8080/",
          "height": 198
        },
        "outputId": "2cadf5ee-21fa-4950-8423-ec72dc31e4b2"
      },
      "source": [
        "df.head()"
      ],
      "id": "5CoSg25DgmU1",
      "execution_count": 3,
      "outputs": [
        {
          "output_type": "execute_result",
          "data": {
            "text/html": [
              "<div>\n",
              "<style scoped>\n",
              "    .dataframe tbody tr th:only-of-type {\n",
              "        vertical-align: middle;\n",
              "    }\n",
              "\n",
              "    .dataframe tbody tr th {\n",
              "        vertical-align: top;\n",
              "    }\n",
              "\n",
              "    .dataframe thead th {\n",
              "        text-align: right;\n",
              "    }\n",
              "</style>\n",
              "<table border=\"1\" class=\"dataframe\">\n",
              "  <thead>\n",
              "    <tr style=\"text-align: right;\">\n",
              "      <th></th>\n",
              "      <th>seq</th>\n",
              "      <th>date</th>\n",
              "      <th>num</th>\n",
              "      <th>won</th>\n",
              "      <th>1</th>\n",
              "      <th>2</th>\n",
              "      <th>3</th>\n",
              "      <th>4</th>\n",
              "      <th>5</th>\n",
              "      <th>6</th>\n",
              "    </tr>\n",
              "  </thead>\n",
              "  <tbody>\n",
              "    <tr>\n",
              "      <th>0</th>\n",
              "      <td>964</td>\n",
              "      <td>2021.5.22</td>\n",
              "      <td>10</td>\n",
              "      <td>2,345,861,063</td>\n",
              "      <td>6</td>\n",
              "      <td>21</td>\n",
              "      <td>36</td>\n",
              "      <td>38</td>\n",
              "      <td>39</td>\n",
              "      <td>43</td>\n",
              "    </tr>\n",
              "    <tr>\n",
              "      <th>1</th>\n",
              "      <td>963</td>\n",
              "      <td>2021.5.15</td>\n",
              "      <td>15</td>\n",
              "      <td>1,476,478,125</td>\n",
              "      <td>6</td>\n",
              "      <td>12</td>\n",
              "      <td>19</td>\n",
              "      <td>23</td>\n",
              "      <td>34</td>\n",
              "      <td>42</td>\n",
              "    </tr>\n",
              "    <tr>\n",
              "      <th>2</th>\n",
              "      <td>962</td>\n",
              "      <td>2021.5.8</td>\n",
              "      <td>12</td>\n",
              "      <td>1,940,906,094</td>\n",
              "      <td>1</td>\n",
              "      <td>18</td>\n",
              "      <td>28</td>\n",
              "      <td>31</td>\n",
              "      <td>34</td>\n",
              "      <td>43</td>\n",
              "    </tr>\n",
              "    <tr>\n",
              "      <th>3</th>\n",
              "      <td>961</td>\n",
              "      <td>2021.5.1</td>\n",
              "      <td>9</td>\n",
              "      <td>2,575,231,209</td>\n",
              "      <td>11</td>\n",
              "      <td>20</td>\n",
              "      <td>29</td>\n",
              "      <td>31</td>\n",
              "      <td>33</td>\n",
              "      <td>42</td>\n",
              "    </tr>\n",
              "    <tr>\n",
              "      <th>4</th>\n",
              "      <td>960</td>\n",
              "      <td>2021.4.24</td>\n",
              "      <td>10</td>\n",
              "      <td>2,401,133,213</td>\n",
              "      <td>2</td>\n",
              "      <td>18</td>\n",
              "      <td>24</td>\n",
              "      <td>30</td>\n",
              "      <td>32</td>\n",
              "      <td>45</td>\n",
              "    </tr>\n",
              "  </tbody>\n",
              "</table>\n",
              "</div>"
            ],
            "text/plain": [
              "   seq       date  num            won   1   2   3   4   5   6\n",
              "0  964  2021.5.22   10  2,345,861,063   6  21  36  38  39  43\n",
              "1  963  2021.5.15   15  1,476,478,125   6  12  19  23  34  42\n",
              "2  962   2021.5.8   12  1,940,906,094   1  18  28  31  34  43\n",
              "3  961   2021.5.1    9  2,575,231,209  11  20  29  31  33  42\n",
              "4  960  2021.4.24   10  2,401,133,213   2  18  24  30  32  45"
            ]
          },
          "metadata": {
            "tags": []
          },
          "execution_count": 3
        }
      ]
    },
    {
      "cell_type": "code",
      "metadata": {
        "id": "2Cnmooveb8TW"
      },
      "source": [
        "df = df.sort_values('seq', ascending=True)"
      ],
      "id": "2Cnmooveb8TW",
      "execution_count": 4,
      "outputs": []
    },
    {
      "cell_type": "code",
      "metadata": {
        "id": "TURmD9u6xmOu",
        "outputId": "c471ef00-71b1-4cb6-e49b-58deac0855a0",
        "colab": {
          "base_uri": "https://localhost:8080/",
          "height": 198
        }
      },
      "source": [
        "df.head()"
      ],
      "id": "TURmD9u6xmOu",
      "execution_count": 5,
      "outputs": [
        {
          "output_type": "execute_result",
          "data": {
            "text/html": [
              "<div>\n",
              "<style scoped>\n",
              "    .dataframe tbody tr th:only-of-type {\n",
              "        vertical-align: middle;\n",
              "    }\n",
              "\n",
              "    .dataframe tbody tr th {\n",
              "        vertical-align: top;\n",
              "    }\n",
              "\n",
              "    .dataframe thead th {\n",
              "        text-align: right;\n",
              "    }\n",
              "</style>\n",
              "<table border=\"1\" class=\"dataframe\">\n",
              "  <thead>\n",
              "    <tr style=\"text-align: right;\">\n",
              "      <th></th>\n",
              "      <th>seq</th>\n",
              "      <th>date</th>\n",
              "      <th>num</th>\n",
              "      <th>won</th>\n",
              "      <th>1</th>\n",
              "      <th>2</th>\n",
              "      <th>3</th>\n",
              "      <th>4</th>\n",
              "      <th>5</th>\n",
              "      <th>6</th>\n",
              "    </tr>\n",
              "  </thead>\n",
              "  <tbody>\n",
              "    <tr>\n",
              "      <th>963</th>\n",
              "      <td>1</td>\n",
              "      <td>2002.12.7</td>\n",
              "      <td>0</td>\n",
              "      <td>0</td>\n",
              "      <td>10</td>\n",
              "      <td>23</td>\n",
              "      <td>29</td>\n",
              "      <td>33</td>\n",
              "      <td>37</td>\n",
              "      <td>40</td>\n",
              "    </tr>\n",
              "    <tr>\n",
              "      <th>962</th>\n",
              "      <td>2</td>\n",
              "      <td>2002.12.14</td>\n",
              "      <td>1</td>\n",
              "      <td>2,002,006,800</td>\n",
              "      <td>9</td>\n",
              "      <td>13</td>\n",
              "      <td>21</td>\n",
              "      <td>25</td>\n",
              "      <td>32</td>\n",
              "      <td>42</td>\n",
              "    </tr>\n",
              "    <tr>\n",
              "      <th>961</th>\n",
              "      <td>3</td>\n",
              "      <td>2002.12.21</td>\n",
              "      <td>1</td>\n",
              "      <td>2,000,000,000</td>\n",
              "      <td>11</td>\n",
              "      <td>16</td>\n",
              "      <td>19</td>\n",
              "      <td>21</td>\n",
              "      <td>27</td>\n",
              "      <td>31</td>\n",
              "    </tr>\n",
              "    <tr>\n",
              "      <th>960</th>\n",
              "      <td>4</td>\n",
              "      <td>2002.12.28</td>\n",
              "      <td>0</td>\n",
              "      <td>0</td>\n",
              "      <td>14</td>\n",
              "      <td>27</td>\n",
              "      <td>30</td>\n",
              "      <td>31</td>\n",
              "      <td>40</td>\n",
              "      <td>42</td>\n",
              "    </tr>\n",
              "    <tr>\n",
              "      <th>959</th>\n",
              "      <td>5</td>\n",
              "      <td>2003.1.4</td>\n",
              "      <td>0</td>\n",
              "      <td>0</td>\n",
              "      <td>16</td>\n",
              "      <td>24</td>\n",
              "      <td>29</td>\n",
              "      <td>40</td>\n",
              "      <td>41</td>\n",
              "      <td>42</td>\n",
              "    </tr>\n",
              "  </tbody>\n",
              "</table>\n",
              "</div>"
            ],
            "text/plain": [
              "     seq        date  num            won   1   2   3   4   5   6\n",
              "963    1   2002.12.7    0              0  10  23  29  33  37  40\n",
              "962    2  2002.12.14    1  2,002,006,800   9  13  21  25  32  42\n",
              "961    3  2002.12.21    1  2,000,000,000  11  16  19  21  27  31\n",
              "960    4  2002.12.28    0              0  14  27  30  31  40  42\n",
              "959    5    2003.1.4    0              0  16  24  29  40  41  42"
            ]
          },
          "metadata": {
            "tags": []
          },
          "execution_count": 5
        }
      ]
    },
    {
      "cell_type": "code",
      "metadata": {
        "id": "4Xo4yI45x1N5"
      },
      "source": [
        "x = np.zeros(shape=(1,45), dtype=float)"
      ],
      "id": "4Xo4yI45x1N5",
      "execution_count": 6,
      "outputs": []
    },
    {
      "cell_type": "code",
      "metadata": {
        "id": "eEVpDxwS8cDQ",
        "outputId": "b65971eb-467d-4ee7-a806-737a5385832f",
        "colab": {
          "base_uri": "https://localhost:8080/"
        }
      },
      "source": [
        "x"
      ],
      "id": "eEVpDxwS8cDQ",
      "execution_count": 7,
      "outputs": [
        {
          "output_type": "execute_result",
          "data": {
            "text/plain": [
              "array([[0., 0., 0., 0., 0., 0., 0., 0., 0., 0., 0., 0., 0., 0., 0., 0.,\n",
              "        0., 0., 0., 0., 0., 0., 0., 0., 0., 0., 0., 0., 0., 0., 0., 0.,\n",
              "        0., 0., 0., 0., 0., 0., 0., 0., 0., 0., 0., 0., 0.]])"
            ]
          },
          "metadata": {
            "tags": []
          },
          "execution_count": 7
        }
      ]
    },
    {
      "cell_type": "code",
      "metadata": {
        "id": "LjNU4sK9yTRl"
      },
      "source": [
        "X = np.array(np.zeros(shape=(1,45), dtype=float))\n",
        "for i in range(df.shape[0]):\n",
        "  for j in range(6):\n",
        "    col = df.iloc[i][str(j+1)]\n",
        "    x[0][col-1] += 1.0\n",
        "    # if i < 5:\n",
        "    #   print('x:', x)\n",
        "  X = np.append(X, x, axis=0)"
      ],
      "id": "LjNU4sK9yTRl",
      "execution_count": 8,
      "outputs": []
    },
    {
      "cell_type": "code",
      "metadata": {
        "id": "5bEz5D451_Z_",
        "outputId": "1e49cd03-51af-456f-9b11-178edf30ae8f",
        "colab": {
          "base_uri": "https://localhost:8080/"
        }
      },
      "source": [
        "X.shape"
      ],
      "id": "5bEz5D451_Z_",
      "execution_count": 9,
      "outputs": [
        {
          "output_type": "execute_result",
          "data": {
            "text/plain": [
              "(965, 45)"
            ]
          },
          "metadata": {
            "tags": []
          },
          "execution_count": 9
        }
      ]
    },
    {
      "cell_type": "code",
      "metadata": {
        "id": "8bIC0dVO38DR",
        "outputId": "ac7eafb2-7bbe-44de-fa75-59d2828a616e",
        "colab": {
          "base_uri": "https://localhost:8080/"
        }
      },
      "source": [
        "X[500]"
      ],
      "id": "8bIC0dVO38DR",
      "execution_count": 10,
      "outputs": [
        {
          "output_type": "execute_result",
          "data": {
            "text/plain": [
              "array([76., 65., 70., 72., 68., 57., 61., 68., 54., 69., 66., 60., 69.,\n",
              "       72., 65., 62., 73., 70., 70., 83., 62., 60., 60., 67., 69., 69.,\n",
              "       75., 56., 64., 63., 67., 57., 62., 78., 63., 70., 81., 57., 67.,\n",
              "       83., 55., 64., 66., 63., 72.])"
            ]
          },
          "metadata": {
            "tags": []
          },
          "execution_count": 10
        }
      ]
    },
    {
      "cell_type": "code",
      "metadata": {
        "id": "DdYK7wF7EHKe"
      },
      "source": [
        "df_y = df[['1','2','3','4','5','6']]"
      ],
      "id": "DdYK7wF7EHKe",
      "execution_count": 11,
      "outputs": []
    },
    {
      "cell_type": "code",
      "metadata": {
        "id": "1m0s6BD_GDgi",
        "outputId": "4670e8b3-6c7c-4e95-b5d0-0c9b89b42217",
        "colab": {
          "base_uri": "https://localhost:8080/"
        }
      },
      "source": [
        "df_y.shape"
      ],
      "id": "1m0s6BD_GDgi",
      "execution_count": 12,
      "outputs": [
        {
          "output_type": "execute_result",
          "data": {
            "text/plain": [
              "(964, 6)"
            ]
          },
          "metadata": {
            "tags": []
          },
          "execution_count": 12
        }
      ]
    },
    {
      "cell_type": "code",
      "metadata": {
        "id": "t5iQbI_vGFHK"
      },
      "source": [
        "Y = df_y.values"
      ],
      "id": "t5iQbI_vGFHK",
      "execution_count": 13,
      "outputs": []
    },
    {
      "cell_type": "code",
      "metadata": {
        "id": "yRyyE46gGHN2",
        "outputId": "4444a2ab-34a4-41f3-bb1c-46a0c387f8b3",
        "colab": {
          "base_uri": "https://localhost:8080/"
        }
      },
      "source": [
        "Y.shape"
      ],
      "id": "yRyyE46gGHN2",
      "execution_count": 14,
      "outputs": [
        {
          "output_type": "execute_result",
          "data": {
            "text/plain": [
              "(964, 6)"
            ]
          },
          "metadata": {
            "tags": []
          },
          "execution_count": 14
        }
      ]
    },
    {
      "cell_type": "code",
      "metadata": {
        "id": "ZuAaV42pGbiK",
        "outputId": "756775c8-8a8a-4264-e28b-ad0c0a3d7735",
        "colab": {
          "base_uri": "https://localhost:8080/"
        }
      },
      "source": [
        "Y[0]"
      ],
      "id": "ZuAaV42pGbiK",
      "execution_count": 15,
      "outputs": [
        {
          "output_type": "execute_result",
          "data": {
            "text/plain": [
              "array([10, 23, 29, 33, 37, 40])"
            ]
          },
          "metadata": {
            "tags": []
          },
          "execution_count": 15
        }
      ]
    },
    {
      "cell_type": "code",
      "metadata": {
        "id": "xsXFsjoQGdGo"
      },
      "source": [
        " "
      ],
      "id": "xsXFsjoQGdGo",
      "execution_count": 15,
      "outputs": []
    }
  ]
}