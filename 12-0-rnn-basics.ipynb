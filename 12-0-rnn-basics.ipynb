{
  "nbformat": 4,
  "nbformat_minor": 5,
  "metadata": {
    "colab": {
      "name": "12-0-rnn-basics.ipynb",
      "provenance": [],
      "include_colab_link": true
    },
    "language_info": {
      "name": "python"
    },
    "kernelspec": {
      "name": "python3",
      "display_name": "Python 3"
    },
    "accelerator": "GPU"
  },
  "cells": [
    {
      "cell_type": "markdown",
      "metadata": {
        "id": "view-in-github",
        "colab_type": "text"
      },
      "source": [
        "<a href=\"https://colab.research.google.com/github/dantae74/machine-learning/blob/main/12-0-rnn-basics.ipynb\" target=\"_parent\"><img src=\"https://colab.research.google.com/assets/colab-badge.svg\" alt=\"Open In Colab\"/></a>"
      ]
    },
    {
      "cell_type": "markdown",
      "metadata": {
        "id": "WfgQSbgOoe-2"
      },
      "source": [
        "모두를 위한 머신러닝에서 가져왔습니다.\n",
        "# RNN - Recurrent Neural Network"
      ],
      "id": "WfgQSbgOoe-2"
    },
    {
      "cell_type": "code",
      "metadata": {
        "id": "RK3QTbWDofS7"
      },
      "source": [
        "import tensorflow as tf\n",
        "import numpy as np"
      ],
      "id": "RK3QTbWDofS7",
      "execution_count": 1,
      "outputs": []
    },
    {
      "cell_type": "code",
      "metadata": {
        "id": "30dxHmEPog-b"
      },
      "source": [
        "# One hot encoding for each char in 'hello'\n",
        "h = [1, 0, 0, 0]\n",
        "e = [0, 1, 0, 0]\n",
        "l = [0, 0, 1, 0]\n",
        "o = [0, 0, 0, 1]"
      ],
      "id": "30dxHmEPog-b",
      "execution_count": 2,
      "outputs": []
    },
    {
      "cell_type": "markdown",
      "metadata": {
        "id": "aybtFwu_AZHH"
      },
      "source": [
        "![image](https://cloud.githubusercontent.com/assets/901975/23348727/cc981856-fce7-11e6-83ea-4b187473466b.png)"
      ],
      "id": "aybtFwu_AZHH"
    },
    {
      "cell_type": "code",
      "metadata": {
        "id": "2nXIW5KRDWPC",
        "outputId": "bb4503d7-69a4-4d6a-a886-2233923f487f",
        "colab": {
          "base_uri": "https://localhost:8080/"
        }
      },
      "source": [
        "x_data = np.array([[h]], dtype=np.float32) # x_data = [[[1,0,0,0]]]\n",
        "x_data.shape"
      ],
      "id": "2nXIW5KRDWPC",
      "execution_count": 3,
      "outputs": [
        {
          "output_type": "execute_result",
          "data": {
            "text/plain": [
              "(1, 1, 4)"
            ]
          },
          "metadata": {
            "tags": []
          },
          "execution_count": 3
        }
      ]
    },
    {
      "cell_type": "code",
      "metadata": {
        "id": "gv4TvIv02_t6",
        "outputId": "3d5a3293-bd65-42a2-be39-e9b9499c03a9",
        "colab": {
          "base_uri": "https://localhost:8080/"
        }
      },
      "source": [
        "hidden_size = 2\n",
        "cell = tf.keras.layers.SimpleRNNCell(hidden_size)\n",
        "print(cell.output_size, cell.state_size)\n",
        "\n",
        "rnn = tf.keras.layers.RNN(cell)\n",
        "outputs = rnn(x_data)\n",
        "print(outputs)"
      ],
      "id": "gv4TvIv02_t6",
      "execution_count": 4,
      "outputs": [
        {
          "output_type": "stream",
          "text": [
            "2 2\n",
            "tf.Tensor([[-0.71143895  0.65140927]], shape=(1, 2), dtype=float32)\n"
          ],
          "name": "stdout"
        }
      ]
    },
    {
      "cell_type": "markdown",
      "metadata": {
        "id": "Z3nFhPYaD7UU"
      },
      "source": [
        "![image](https://cloud.githubusercontent.com/assets/901975/23383634/649efd0a-fd82-11e6-925d-8041242743b0.png)"
      ],
      "id": "Z3nFhPYaD7UU"
    },
    {
      "cell_type": "code",
      "metadata": {
        "id": "SoLJnjhSFI2P",
        "outputId": "a7cbd5b6-1c7c-4ac6-ee21-728571d1da85",
        "colab": {
          "base_uri": "https://localhost:8080/"
        }
      },
      "source": [
        "x_data = np.array([[h,e,l,l,o]], dtype=np.float32)\n",
        "x_data.shape"
      ],
      "id": "SoLJnjhSFI2P",
      "execution_count": 10,
      "outputs": [
        {
          "output_type": "execute_result",
          "data": {
            "text/plain": [
              "(1, 5, 4)"
            ]
          },
          "metadata": {
            "tags": []
          },
          "execution_count": 10
        }
      ]
    },
    {
      "cell_type": "code",
      "metadata": {
        "id": "VPv3jZ29D9-E",
        "outputId": "19c898d2-6aa0-4b58-8ef8-dd0c674d5182",
        "colab": {
          "base_uri": "https://localhost:8080/"
        }
      },
      "source": [
        "hidden_size = 2\n",
        "\n",
        "cell = tf.keras.layers.SimpleRNNCell(hidden_size)\n",
        "rnn = tf.keras.layers.RNN(cell, return_sequences=True)\n",
        "outputs = rnn(x_data)\n",
        "print('x_data.shape: ', x_data.shape)\n",
        "print('x_data\\n',x_data)\n",
        "print('outputs.shape:',outputs.shape)\n",
        "print('outputs\\n', outputs.numpy())"
      ],
      "id": "VPv3jZ29D9-E",
      "execution_count": 19,
      "outputs": [
        {
          "output_type": "stream",
          "text": [
            "x_data.shape:  (1, 5, 4)\n",
            "x_data\n",
            " [[[1. 0. 0. 0.]\n",
            "  [0. 1. 0. 0.]\n",
            "  [0. 0. 1. 0.]\n",
            "  [0. 0. 1. 0.]\n",
            "  [0. 0. 0. 1.]]]\n",
            "outputs.shape: (1, 5, 2)\n",
            "outputs\n",
            " [[[-0.43584016 -0.19528571]\n",
            "  [-0.27383873 -0.28374147]\n",
            "  [-0.46921247  0.6649571 ]\n",
            "  [-0.8986007   0.5682411 ]\n",
            "  [-0.75478137  0.5250363 ]]]\n"
          ],
          "name": "stdout"
        }
      ]
    },
    {
      "cell_type": "markdown",
      "metadata": {
        "id": "T0rel5nwHqOS"
      },
      "source": [
        "![image](https://cloud.githubusercontent.com/assets/901975/23383681/9943a9fc-fd82-11e6-8121-bd187994e249.png)"
      ],
      "id": "T0rel5nwHqOS"
    },
    {
      "cell_type": "code",
      "metadata": {
        "id": "btMVbqwoH4v7",
        "outputId": "4270e37a-e1ec-4c8c-c0f4-79608e438222",
        "colab": {
          "base_uri": "https://localhost:8080/"
        }
      },
      "source": [
        "# One cell RNN input_dim (4) -> output_dim (2). sequence: 5, batch 3\n",
        "# 3 batches 'hello', 'eolll', 'lleel'\n",
        "x_data = np.array([[h, e, l, l, o],\n",
        "                    [e, o, l, l, l],\n",
        "                    [l, l, e, e, l]], dtype=np.float32)\n",
        "print('x_data.shape:', x_data.shape)\n",
        "print('x_data\\n', x_data)"
      ],
      "id": "btMVbqwoH4v7",
      "execution_count": 22,
      "outputs": [
        {
          "output_type": "stream",
          "text": [
            "x_data.shape: (3, 5, 4)\n",
            "x_data\n",
            " [[[1. 0. 0. 0.]\n",
            "  [0. 1. 0. 0.]\n",
            "  [0. 0. 1. 0.]\n",
            "  [0. 0. 1. 0.]\n",
            "  [0. 0. 0. 1.]]\n",
            "\n",
            " [[0. 1. 0. 0.]\n",
            "  [0. 0. 0. 1.]\n",
            "  [0. 0. 1. 0.]\n",
            "  [0. 0. 1. 0.]\n",
            "  [0. 0. 1. 0.]]\n",
            "\n",
            " [[0. 0. 1. 0.]\n",
            "  [0. 0. 1. 0.]\n",
            "  [0. 1. 0. 0.]\n",
            "  [0. 1. 0. 0.]\n",
            "  [0. 0. 1. 0.]]]\n"
          ],
          "name": "stdout"
        }
      ]
    },
    {
      "cell_type": "code",
      "metadata": {
        "id": "JdNiuSNoIVQq",
        "outputId": "c60e060e-e21c-4f34-8146-0946b82b4b42",
        "colab": {
          "base_uri": "https://localhost:8080/"
        }
      },
      "source": [
        "hidden_size = 2\n",
        "cell = tf.keras.layers.SimpleRNNCell(hidden_size)\n",
        "rnn = tf.keras.layers.RNN(cell, return_sequences=True)\n",
        "outputs = rnn(x_data)\n",
        "print('output.shape:', outputs.shape)\n",
        "print('output\\n', outputs)"
      ],
      "id": "JdNiuSNoIVQq",
      "execution_count": 23,
      "outputs": [
        {
          "output_type": "stream",
          "text": [
            "output.shape: (3, 5, 2)\n",
            "output\n",
            " tf.Tensor(\n",
            "[[[-0.6283487  -0.10043665]\n",
            "  [-0.42166    -0.6076374 ]\n",
            "  [-0.59528446  0.8952497 ]\n",
            "  [-0.76627594 -0.0296947 ]\n",
            "  [-0.05682485  0.33300442]]\n",
            "\n",
            " [[ 0.16369599 -0.70083   ]\n",
            "  [ 0.73359424  0.72560036]\n",
            "  [ 0.31671834  0.00404254]\n",
            "  [-0.01340577  0.6435583 ]\n",
            "  [-0.38575423  0.16017036]]\n",
            "\n",
            " [[-0.31678995  0.66427547]\n",
            "  [-0.611129    0.17010818]\n",
            "  [-0.4301399  -0.75135595]\n",
            "  [-0.18425854 -0.07760013]\n",
            "  [-0.4648613   0.7145149 ]]], shape=(3, 5, 2), dtype=float32)\n"
          ],
          "name": "stdout"
        }
      ]
    },
    {
      "cell_type": "code",
      "metadata": {
        "id": "nnInY_hfKOXR"
      },
      "source": [
        "# One cell RNN input_dim (4) -> output_dim (5). sequence: 5, batch: 3\n",
        "batch_size = 3\n",
        "x_data = np.array([[h, e, l, l, o],\n",
        "                  [e, o, l, l, l],\n",
        "                  [l, l, e, e, l]], dtype=np.float32)\n",
        "\n",
        "print('x_data.shape:', x_data.shape)\n",
        "print('x_data\\n', x_data)\n",
        "\n",
        "hidden_size = 2\n",
        "cell = tf.keras.layers.LSTMCell(hidden_size)\n",
        "rnn = tf.keras.layers.RNN(cell, return_sequences=True)\n",
        "outputs = rnn(x_data)\n",
        "print('output.shape:', outputs.shape)\n",
        "print('output\\n', outputs)"
      ],
      "id": "nnInY_hfKOXR",
      "execution_count": null,
      "outputs": []
    },
    {
      "cell_type": "code",
      "metadata": {
        "id": "c0t_C2yoJGrZ",
        "outputId": "d99585f3-d7a5-4902-864b-3fcc7a388593",
        "colab": {
          "base_uri": "https://localhost:8080/"
        }
      },
      "source": [
        "# One LSTM cell RNN input_dim (4) -> output_dim (5). sequence: 5, batch 3\n",
        "# 3 batches 'hello', 'eolll', 'lleel'\n",
        "x_data = np.array([[h, e, l, l, o],\n",
        "                    [e, o, l, l, l],\n",
        "                    [l, l, e, e, l]], dtype=np.float32)\n",
        "\n",
        "print('x_data.shape:', x_data.shape)\n",
        "print('x_data\\n', x_data)\n",
        "\n",
        "hidden_size = 2\n",
        "batch_size = 3\n",
        "cell = tf.keras.layers.LSTMCell(hidden_size)\n",
        "rnn = tf.keras.layers.RNN(cell, return_sequences=True)\n",
        "outputs = rnn(x_data)\n",
        "print('output.shape:', outputs.shape)\n",
        "print('output\\n', outputs)"
      ],
      "id": "c0t_C2yoJGrZ",
      "execution_count": 28,
      "outputs": [
        {
          "output_type": "stream",
          "text": [
            "x_data.shape: (3, 5, 4)\n",
            "x_data\n",
            " [[[1. 0. 0. 0.]\n",
            "  [0. 1. 0. 0.]\n",
            "  [0. 0. 1. 0.]\n",
            "  [0. 0. 1. 0.]\n",
            "  [0. 0. 0. 1.]]\n",
            "\n",
            " [[0. 1. 0. 0.]\n",
            "  [0. 0. 0. 1.]\n",
            "  [0. 0. 1. 0.]\n",
            "  [0. 0. 1. 0.]\n",
            "  [0. 0. 1. 0.]]\n",
            "\n",
            " [[0. 0. 1. 0.]\n",
            "  [0. 0. 1. 0.]\n",
            "  [0. 1. 0. 0.]\n",
            "  [0. 1. 0. 0.]\n",
            "  [0. 0. 1. 0.]]]\n",
            "output.shape: (3, 5, 2)\n",
            "output\n",
            " tf.Tensor(\n",
            "[[[ 0.08374617  0.01288428]\n",
            "  [ 0.21227686 -0.00973273]\n",
            "  [ 0.18807651 -0.03891007]\n",
            "  [ 0.21287988 -0.06462617]\n",
            "  [ 0.15266597 -0.04557656]]\n",
            "\n",
            " [[ 0.1393305  -0.02442168]\n",
            "  [ 0.00507545  0.00614549]\n",
            "  [ 0.06877099 -0.02814475]\n",
            "  [ 0.12219477 -0.05550514]\n",
            "  [ 0.16447954 -0.07805086]]\n",
            "\n",
            " [[ 0.0665693  -0.03230015]\n",
            "  [ 0.12058748 -0.0589099 ]\n",
            "  [ 0.2710358  -0.09537897]\n",
            "  [ 0.34898314 -0.11715575]\n",
            "  [ 0.2688601  -0.10865677]]], shape=(3, 5, 2), dtype=float32)\n"
          ],
          "name": "stdout"
        }
      ]
    },
    {
      "cell_type": "code",
      "metadata": {
        "id": "x6Cme8HTOGSS"
      },
      "source": [
        ""
      ],
      "id": "x6Cme8HTOGSS",
      "execution_count": null,
      "outputs": []
    }
  ]
}