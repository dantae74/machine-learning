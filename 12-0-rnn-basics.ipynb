{
  "nbformat": 4,
  "nbformat_minor": 5,
  "metadata": {
    "colab": {
      "name": "12-0-rnn-basics.ipynb",
      "provenance": [],
      "include_colab_link": true
    },
    "language_info": {
      "name": "python"
    },
    "kernelspec": {
      "name": "python3",
      "display_name": "Python 3"
    },
    "accelerator": "GPU"
  },
  "cells": [
    {
      "cell_type": "markdown",
      "metadata": {
        "id": "view-in-github",
        "colab_type": "text"
      },
      "source": [
        "<a href=\"https://colab.research.google.com/github/dantae74/machine-learning/blob/main/12-0-rnn-basics.ipynb\" target=\"_parent\"><img src=\"https://colab.research.google.com/assets/colab-badge.svg\" alt=\"Open In Colab\"/></a>"
      ]
    },
    {
      "cell_type": "markdown",
      "metadata": {
        "id": "WfgQSbgOoe-2"
      },
      "source": [
        "모두를 위한 머신러닝에서 가져왔습니다.\n",
        "# RNN - Recurrent Neural Network"
      ],
      "id": "WfgQSbgOoe-2"
    },
    {
      "cell_type": "code",
      "metadata": {
        "id": "RK3QTbWDofS7"
      },
      "source": [
        "import tensorflow as tf\n",
        "import numpy as np"
      ],
      "id": "RK3QTbWDofS7",
      "execution_count": 1,
      "outputs": []
    },
    {
      "cell_type": "code",
      "metadata": {
        "id": "30dxHmEPog-b"
      },
      "source": [
        "# One hot encoding for each char in 'hello'\n",
        "h = [1, 0, 0, 0]\n",
        "e = [0, 1, 0, 0]\n",
        "l = [0, 0, 1, 0]\n",
        "o = [0, 0, 0, 1]"
      ],
      "id": "30dxHmEPog-b",
      "execution_count": 2,
      "outputs": []
    },
    {
      "cell_type": "markdown",
      "metadata": {
        "id": "aybtFwu_AZHH"
      },
      "source": [
        "![image](https://cloud.githubusercontent.com/assets/901975/23348727/cc981856-fce7-11e6-83ea-4b187473466b.png)"
      ],
      "id": "aybtFwu_AZHH"
    },
    {
      "cell_type": "code",
      "metadata": {
        "id": "2nXIW5KRDWPC",
        "colab": {
          "base_uri": "https://localhost:8080/"
        },
        "outputId": "92b6aa81-c647-4e5b-d1c1-5c6939b6f56a"
      },
      "source": [
        "x_data = np.array([[h]], dtype=np.float32) # x_data = [[[1,0,0,0]]]\n",
        "x_data.shape"
      ],
      "id": "2nXIW5KRDWPC",
      "execution_count": 3,
      "outputs": [
        {
          "output_type": "execute_result",
          "data": {
            "text/plain": [
              "(1, 1, 4)"
            ]
          },
          "metadata": {
            "tags": []
          },
          "execution_count": 3
        }
      ]
    },
    {
      "cell_type": "code",
      "metadata": {
        "id": "gv4TvIv02_t6",
        "colab": {
          "base_uri": "https://localhost:8080/"
        },
        "outputId": "9c4ebf0a-fcb9-4b21-f064-8cdb251525f9"
      },
      "source": [
        "hidden_size = 2\n",
        "cell = tf.keras.layers.SimpleRNNCell(hidden_size)\n",
        "print(cell.output_size, cell.state_size)\n",
        "\n",
        "rnn = tf.keras.layers.RNN(cell)\n",
        "outputs = rnn(x_data)\n",
        "print(outputs)"
      ],
      "id": "gv4TvIv02_t6",
      "execution_count": 4,
      "outputs": [
        {
          "output_type": "stream",
          "text": [
            "2 2\n",
            "tf.Tensor([[-0.22900037  0.02706629]], shape=(1, 2), dtype=float32)\n"
          ],
          "name": "stdout"
        }
      ]
    },
    {
      "cell_type": "markdown",
      "metadata": {
        "id": "Z3nFhPYaD7UU"
      },
      "source": [
        "![image](https://cloud.githubusercontent.com/assets/901975/23383634/649efd0a-fd82-11e6-925d-8041242743b0.png)"
      ],
      "id": "Z3nFhPYaD7UU"
    },
    {
      "cell_type": "code",
      "metadata": {
        "id": "SoLJnjhSFI2P",
        "colab": {
          "base_uri": "https://localhost:8080/"
        },
        "outputId": "14ce5fbb-4e58-4208-d55d-c7d462a76f2b"
      },
      "source": [
        "x_data = np.array([[h,e,l,l,o]], dtype=np.float32)\n",
        "x_data.shape"
      ],
      "id": "SoLJnjhSFI2P",
      "execution_count": 5,
      "outputs": [
        {
          "output_type": "execute_result",
          "data": {
            "text/plain": [
              "(1, 5, 4)"
            ]
          },
          "metadata": {
            "tags": []
          },
          "execution_count": 5
        }
      ]
    },
    {
      "cell_type": "code",
      "metadata": {
        "id": "VPv3jZ29D9-E",
        "colab": {
          "base_uri": "https://localhost:8080/"
        },
        "outputId": "c9fe5115-4bd3-4178-8422-aac7dd4c10e6"
      },
      "source": [
        "hidden_size = 2\n",
        "\n",
        "cell = tf.keras.layers.SimpleRNNCell(hidden_size)\n",
        "rnn = tf.keras.layers.RNN(cell, return_sequences=True)\n",
        "outputs = rnn(x_data)\n",
        "print('x_data.shape: ', x_data.shape)\n",
        "print('x_data\\n',x_data)\n",
        "print('outputs.shape:',outputs.shape)\n",
        "print('outputs\\n', outputs.numpy())"
      ],
      "id": "VPv3jZ29D9-E",
      "execution_count": 6,
      "outputs": [
        {
          "output_type": "stream",
          "text": [
            "x_data.shape:  (1, 5, 4)\n",
            "x_data\n",
            " [[[1. 0. 0. 0.]\n",
            "  [0. 1. 0. 0.]\n",
            "  [0. 0. 1. 0.]\n",
            "  [0. 0. 1. 0.]\n",
            "  [0. 0. 0. 1.]]]\n",
            "outputs.shape: (1, 5, 2)\n",
            "outputs\n",
            " [[[ 0.5351104  -0.45134276]\n",
            "  [ 0.9081904  -0.25200114]\n",
            "  [ 0.7423204  -0.4054174 ]\n",
            "  [ 0.7049074  -0.5662117 ]\n",
            "  [ 0.07460041 -0.02403957]]]\n"
          ],
          "name": "stdout"
        }
      ]
    },
    {
      "cell_type": "markdown",
      "metadata": {
        "id": "T0rel5nwHqOS"
      },
      "source": [
        "![image](https://cloud.githubusercontent.com/assets/901975/23383681/9943a9fc-fd82-11e6-8121-bd187994e249.png)"
      ],
      "id": "T0rel5nwHqOS"
    },
    {
      "cell_type": "code",
      "metadata": {
        "id": "btMVbqwoH4v7",
        "colab": {
          "base_uri": "https://localhost:8080/"
        },
        "outputId": "8f4eeb1f-b595-4b41-a01d-5707066ee7b9"
      },
      "source": [
        "# One cell RNN input_dim (4) -> output_dim (2). sequence: 5, batch 3\n",
        "# 3 batches 'hello', 'eolll', 'lleel'\n",
        "x_data = np.array([[h, e, l, l, o],\n",
        "                    [e, o, l, l, l],\n",
        "                    [l, l, e, e, l]], dtype=np.float32)\n",
        "print('x_data.shape:', x_data.shape)\n",
        "print('x_data\\n', x_data)"
      ],
      "id": "btMVbqwoH4v7",
      "execution_count": 7,
      "outputs": [
        {
          "output_type": "stream",
          "text": [
            "x_data.shape: (3, 5, 4)\n",
            "x_data\n",
            " [[[1. 0. 0. 0.]\n",
            "  [0. 1. 0. 0.]\n",
            "  [0. 0. 1. 0.]\n",
            "  [0. 0. 1. 0.]\n",
            "  [0. 0. 0. 1.]]\n",
            "\n",
            " [[0. 1. 0. 0.]\n",
            "  [0. 0. 0. 1.]\n",
            "  [0. 0. 1. 0.]\n",
            "  [0. 0. 1. 0.]\n",
            "  [0. 0. 1. 0.]]\n",
            "\n",
            " [[0. 0. 1. 0.]\n",
            "  [0. 0. 1. 0.]\n",
            "  [0. 1. 0. 0.]\n",
            "  [0. 1. 0. 0.]\n",
            "  [0. 0. 1. 0.]]]\n"
          ],
          "name": "stdout"
        }
      ]
    },
    {
      "cell_type": "code",
      "metadata": {
        "id": "JdNiuSNoIVQq",
        "colab": {
          "base_uri": "https://localhost:8080/"
        },
        "outputId": "2eea899d-12b9-4259-d5e7-ad1363094ede"
      },
      "source": [
        "hidden_size = 2\n",
        "cell = tf.keras.layers.SimpleRNNCell(hidden_size)\n",
        "rnn = tf.keras.layers.RNN(cell, return_sequences=True)\n",
        "outputs = rnn(x_data)\n",
        "print('output.shape:', outputs.shape)\n",
        "print('output\\n', outputs)"
      ],
      "id": "JdNiuSNoIVQq",
      "execution_count": 8,
      "outputs": [
        {
          "output_type": "stream",
          "text": [
            "output.shape: (3, 5, 2)\n",
            "output\n",
            " tf.Tensor(\n",
            "[[[ 0.17790361 -0.54264104]\n",
            "  [ 0.28286585  0.4627645 ]\n",
            "  [ 0.58758587 -0.8537928 ]\n",
            "  [ 0.96234924 -0.72159994]\n",
            "  [ 0.8323494  -0.8119849 ]]\n",
            "\n",
            " [[-0.26463547  0.37896368]\n",
            "  [-0.34197372 -0.52121013]\n",
            "  [ 0.8459275  -0.24676263]\n",
            "  [ 0.91638964 -0.8910948 ]\n",
            "  [ 0.97406626 -0.82818776]]\n",
            "\n",
            " [[ 0.73805386 -0.6645264 ]\n",
            "  [ 0.95466954 -0.81218547]\n",
            "  [ 0.7151842  -0.05379999]\n",
            "  [ 0.11627071 -0.20161478]\n",
            "  [ 0.8270875  -0.6679907 ]]], shape=(3, 5, 2), dtype=float32)\n"
          ],
          "name": "stdout"
        }
      ]
    },
    {
      "cell_type": "code",
      "metadata": {
        "id": "nnInY_hfKOXR",
        "colab": {
          "base_uri": "https://localhost:8080/"
        },
        "outputId": "d45c28f3-31e5-4890-c265-24ead1346f77"
      },
      "source": [
        "# One cell RNN input_dim (4) -> output_dim (5). sequence: 5, batch: 3\n",
        "batch_size = 3\n",
        "x_data = np.array([[h, e, l, l, o],\n",
        "                  [e, o, l, l, l],\n",
        "                  [l, l, e, e, l]], dtype=np.float32)\n",
        "\n",
        "print('x_data.shape:', x_data.shape)\n",
        "print('x_data\\n', x_data)\n",
        "\n",
        "hidden_size = 2\n",
        "cell = tf.keras.layers.LSTMCell(hidden_size)\n",
        "rnn = tf.keras.layers.RNN(cell, return_sequences=True)\n",
        "outputs = rnn(x_data)\n",
        "print('output.shape:', outputs.shape)\n",
        "print('output\\n', outputs)"
      ],
      "id": "nnInY_hfKOXR",
      "execution_count": 9,
      "outputs": [
        {
          "output_type": "stream",
          "text": [
            "x_data.shape: (3, 5, 4)\n",
            "x_data\n",
            " [[[1. 0. 0. 0.]\n",
            "  [0. 1. 0. 0.]\n",
            "  [0. 0. 1. 0.]\n",
            "  [0. 0. 1. 0.]\n",
            "  [0. 0. 0. 1.]]\n",
            "\n",
            " [[0. 1. 0. 0.]\n",
            "  [0. 0. 0. 1.]\n",
            "  [0. 0. 1. 0.]\n",
            "  [0. 0. 1. 0.]\n",
            "  [0. 0. 1. 0.]]\n",
            "\n",
            " [[0. 0. 1. 0.]\n",
            "  [0. 0. 1. 0.]\n",
            "  [0. 1. 0. 0.]\n",
            "  [0. 1. 0. 0.]\n",
            "  [0. 0. 1. 0.]]]\n",
            "output.shape: (3, 5, 2)\n",
            "output\n",
            " tf.Tensor(\n",
            "[[[ 0.02604437 -0.04174869]\n",
            "  [-0.06665134  0.11647929]\n",
            "  [-0.13186786  0.18383867]\n",
            "  [-0.17293626  0.22077441]\n",
            "  [-0.37229422  0.2953368 ]]\n",
            "\n",
            " [[-0.0876151   0.13628949]\n",
            "  [-0.32301748  0.23115537]\n",
            "  [-0.2753936   0.21105373]\n",
            "  [-0.2636674   0.22845747]\n",
            "  [-0.2615388   0.23980086]]\n",
            "\n",
            " [[-0.04157986  0.12110959]\n",
            "  [-0.0999819   0.18943842]\n",
            "  [-0.17613894  0.24901496]\n",
            "  [-0.25639784  0.2787782 ]\n",
            "  [-0.32864764  0.27022317]]], shape=(3, 5, 2), dtype=float32)\n"
          ],
          "name": "stdout"
        }
      ]
    },
    {
      "cell_type": "code",
      "metadata": {
        "id": "c0t_C2yoJGrZ",
        "colab": {
          "base_uri": "https://localhost:8080/"
        },
        "outputId": "f0534004-a25b-4e31-ad07-ac27ea8dbc00"
      },
      "source": [
        "# One LSTM cell RNN input_dim (4) -> output_dim (2). sequence: 5, batch 3\n",
        "# 3 batches 'hello', 'eolll', 'lleel'\n",
        "x_data = np.array([[h, e, l, l, o],\n",
        "                    [e, o, l, l, l],\n",
        "                    [l, l, e, e, l]], dtype=np.float32)\n",
        "\n",
        "print('x_data.shape:', x_data.shape)\n",
        "print('x_data\\n', x_data)\n",
        "\n",
        "hidden_size = 2\n",
        "batch_size = 3\n",
        "cell = tf.keras.layers.LSTMCell(hidden_size)\n",
        "rnn = tf.keras.layers.RNN(cell, return_sequences=True)\n",
        "outputs = rnn(x_data)\n",
        "print('output.shape:', outputs.shape)\n",
        "print('output\\n', outputs)"
      ],
      "id": "c0t_C2yoJGrZ",
      "execution_count": 10,
      "outputs": [
        {
          "output_type": "stream",
          "text": [
            "x_data.shape: (3, 5, 4)\n",
            "x_data\n",
            " [[[1. 0. 0. 0.]\n",
            "  [0. 1. 0. 0.]\n",
            "  [0. 0. 1. 0.]\n",
            "  [0. 0. 1. 0.]\n",
            "  [0. 0. 0. 1.]]\n",
            "\n",
            " [[0. 1. 0. 0.]\n",
            "  [0. 0. 0. 1.]\n",
            "  [0. 0. 1. 0.]\n",
            "  [0. 0. 1. 0.]\n",
            "  [0. 0. 1. 0.]]\n",
            "\n",
            " [[0. 0. 1. 0.]\n",
            "  [0. 0. 1. 0.]\n",
            "  [0. 1. 0. 0.]\n",
            "  [0. 1. 0. 0.]\n",
            "  [0. 0. 1. 0.]]]\n",
            "output.shape: (3, 5, 2)\n",
            "output\n",
            " tf.Tensor(\n",
            "[[[-0.11744881  0.22660132]\n",
            "  [-0.01603263  0.03829354]\n",
            "  [-0.13729665 -0.03501374]\n",
            "  [-0.19175063 -0.09009358]\n",
            "  [-0.25154144 -0.1549938 ]]\n",
            "\n",
            " [[ 0.05424933 -0.10501748]\n",
            "  [-0.0807168  -0.14797528]\n",
            "  [-0.12523228 -0.15321334]\n",
            "  [-0.16798863 -0.18754506]\n",
            "  [-0.18894862 -0.21378529]]\n",
            "\n",
            " [[-0.11837836 -0.06318909]\n",
            "  [-0.17681633 -0.11405402]\n",
            "  [-0.0274756  -0.19737296]\n",
            "  [ 0.05300308 -0.24074514]\n",
            "  [-0.03073469 -0.22371566]]], shape=(3, 5, 2), dtype=float32)\n"
          ],
          "name": "stdout"
        }
      ]
    },
    {
      "cell_type": "code",
      "metadata": {
        "id": "x6Cme8HTOGSS",
        "colab": {
          "base_uri": "https://localhost:8080/"
        },
        "outputId": "15b534e5-eb32-4c0e-bc78-229af87391d5"
      },
      "source": [
        "# Multi-RNN Cell\n",
        "# One LSTM cell RNN input_dim (4) -> output_dim (2). sequence: 5, batch 3\n",
        "# 3 batches 'hello', 'eolll', 'lleel'\n",
        "x_data = np.array([[h, e, l, l, o],\n",
        "                    [e, o, l, l, l],\n",
        "                    [l, l, e, e, l]], dtype=np.float32)\n",
        "\n",
        "print('x_data.shape:', x_data.shape)\n",
        "print('x_data\\n', x_data)\n",
        "\n",
        "cells = [tf.keras.layers.LSTMCell(2),tf.keras.layers.LSTMCell(2)]\n",
        "rnn = tf.keras.layers.RNN(cells, return_sequences=True)\n",
        "outputs = rnn(x_data)\n",
        "print('output.shape:', outputs.shape)\n",
        "print('output\\n', outputs)"
      ],
      "id": "x6Cme8HTOGSS",
      "execution_count": 11,
      "outputs": [
        {
          "output_type": "stream",
          "text": [
            "x_data.shape: (3, 5, 4)\n",
            "x_data\n",
            " [[[1. 0. 0. 0.]\n",
            "  [0. 1. 0. 0.]\n",
            "  [0. 0. 1. 0.]\n",
            "  [0. 0. 1. 0.]\n",
            "  [0. 0. 0. 1.]]\n",
            "\n",
            " [[0. 1. 0. 0.]\n",
            "  [0. 0. 0. 1.]\n",
            "  [0. 0. 1. 0.]\n",
            "  [0. 0. 1. 0.]\n",
            "  [0. 0. 1. 0.]]\n",
            "\n",
            " [[0. 0. 1. 0.]\n",
            "  [0. 0. 1. 0.]\n",
            "  [0. 1. 0. 0.]\n",
            "  [0. 1. 0. 0.]\n",
            "  [0. 0. 1. 0.]]]\n",
            "output.shape: (3, 5, 2)\n",
            "output\n",
            " tf.Tensor(\n",
            "[[[-0.00328385 -0.00498021]\n",
            "  [-0.02204843 -0.01105582]\n",
            "  [-0.02221465 -0.03115025]\n",
            "  [-0.01131996 -0.04904044]\n",
            "  [-0.01119103 -0.04638953]]\n",
            "\n",
            " [[-0.01828635 -0.00431069]\n",
            "  [-0.03011497 -0.0019164 ]\n",
            "  [-0.02915225 -0.0184859 ]\n",
            "  [-0.01725354 -0.03712998]\n",
            "  [ 0.00035258 -0.05064106]]\n",
            "\n",
            " [[ 0.00920157 -0.01294163]\n",
            "  [ 0.02321314 -0.02586439]\n",
            "  [ 0.00709282 -0.02929218]\n",
            "  [-0.01673964 -0.03222521]\n",
            "  [-0.01958312 -0.04839086]]], shape=(3, 5, 2), dtype=float32)\n"
          ],
          "name": "stdout"
        }
      ]
    },
    {
      "cell_type": "code",
      "metadata": {
        "colab": {
          "base_uri": "https://localhost:8080/"
        },
        "id": "tKKyY4ZAnqr8",
        "outputId": "c2f61112-2524-4ff0-f85c-b3134401c7d8"
      },
      "source": [
        "# Padding and Masking\n",
        "# https://www.tensorflow.org/guide/keras/masking_and_padding\n",
        "\n",
        "# One LSTM cell RNN input_dim (4) -> output_dim (2). sequence: 5, batch 3\n",
        "# 3 batches 'hello', 'eolll', 'lleel'\n",
        "x_data = [[h, e, l, l, o],\n",
        "                    [h, e],\n",
        "                    [e, l, l, o]]\n",
        "\n",
        "print('x_data\\n', x_data)\n",
        "\n",
        "padded_inputs = tf.keras.preprocessing.sequence.pad_sequences(\n",
        "    x_data, padding=\"post\"\n",
        ")\n",
        "\n",
        "print('padded_input\\n', padded_inputs)\n",
        "\n",
        "embedding = tf.keras.layers.Embedding(input_dim=4, output_dim=2, mask_zero=True)\n",
        "masked_output = embedding(padded_inputs)\n",
        "\n",
        "print(masked_output._keras_mask)"
      ],
      "id": "tKKyY4ZAnqr8",
      "execution_count": 25,
      "outputs": [
        {
          "output_type": "stream",
          "text": [
            "x_data\n",
            " [[[1, 0, 0, 0], [0, 1, 0, 0], [0, 0, 1, 0], [0, 0, 1, 0], [0, 0, 0, 1]], [[1, 0, 0, 0], [0, 1, 0, 0]], [[0, 1, 0, 0], [0, 0, 1, 0], [0, 0, 1, 0], [0, 0, 0, 1]]]\n",
            "padded_input\n",
            " [[[1 0 0 0]\n",
            "  [0 1 0 0]\n",
            "  [0 0 1 0]\n",
            "  [0 0 1 0]\n",
            "  [0 0 0 1]]\n",
            "\n",
            " [[1 0 0 0]\n",
            "  [0 1 0 0]\n",
            "  [0 0 0 0]\n",
            "  [0 0 0 0]\n",
            "  [0 0 0 0]]\n",
            "\n",
            " [[0 1 0 0]\n",
            "  [0 0 1 0]\n",
            "  [0 0 1 0]\n",
            "  [0 0 0 1]\n",
            "  [0 0 0 0]]]\n",
            "tf.Tensor(\n",
            "[[[ True False False False]\n",
            "  [False  True False False]\n",
            "  [False False  True False]\n",
            "  [False False  True False]\n",
            "  [False False False  True]]\n",
            "\n",
            " [[ True False False False]\n",
            "  [False  True False False]\n",
            "  [False False False False]\n",
            "  [False False False False]\n",
            "  [False False False False]]\n",
            "\n",
            " [[False  True False False]\n",
            "  [False False  True False]\n",
            "  [False False  True False]\n",
            "  [False False False  True]\n",
            "  [False False False False]]], shape=(3, 5, 4), dtype=bool)\n"
          ],
          "name": "stdout"
        }
      ]
    },
    {
      "cell_type": "code",
      "metadata": {
        "id": "IdWGapWQnqom"
      },
      "source": [
        ""
      ],
      "id": "IdWGapWQnqom",
      "execution_count": null,
      "outputs": []
    },
    {
      "cell_type": "code",
      "metadata": {
        "id": "wTQ42pJGnqgP"
      },
      "source": [
        ""
      ],
      "id": "wTQ42pJGnqgP",
      "execution_count": null,
      "outputs": []
    }
  ]
}