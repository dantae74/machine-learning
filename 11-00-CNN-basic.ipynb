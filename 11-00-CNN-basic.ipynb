{
  "nbformat": 4,
  "nbformat_minor": 5,
  "metadata": {
    "colab": {
      "name": "11-00-CNN-basic.ipynb",
      "provenance": [],
      "include_colab_link": true
    },
    "language_info": {
      "name": "python"
    },
    "kernelspec": {
      "name": "python3",
      "display_name": "Python 3"
    },
    "accelerator": "GPU"
  },
  "cells": [
    {
      "cell_type": "markdown",
      "metadata": {
        "id": "view-in-github",
        "colab_type": "text"
      },
      "source": [
        "<a href=\"https://colab.research.google.com/github/dantae74/machine-learning/blob/main/11-00-CNN-basic.ipynb\" target=\"_parent\"><img src=\"https://colab.research.google.com/assets/colab-badge.svg\" alt=\"Open In Colab\"/></a>"
      ]
    },
    {
      "cell_type": "markdown",
      "metadata": {
        "id": "WfgQSbgOoe-2"
      },
      "source": [
        "모두를 위한 머신러닝에서 가져왔습니다.\n",
        "\n",
        "# CNN - MNIST\n",
        "\n"
      ],
      "id": "WfgQSbgOoe-2"
    },
    {
      "cell_type": "code",
      "metadata": {
        "id": "RK3QTbWDofS7"
      },
      "source": [
        "import numpy as np\n",
        "import tensorflow as tf\n",
        "import random\n",
        "import matplotlib.pyplot as plt"
      ],
      "id": "RK3QTbWDofS7",
      "execution_count": 1,
      "outputs": []
    },
    {
      "cell_type": "code",
      "metadata": {
        "id": "mVBXRLTEF2FM"
      },
      "source": [
        "mnist = tf.keras.datasets.mnist"
      ],
      "id": "mVBXRLTEF2FM",
      "execution_count": 2,
      "outputs": []
    },
    {
      "cell_type": "code",
      "metadata": {
        "id": "4qJmVWpO7ijW",
        "outputId": "980460f9-d181-4d0c-ef14-1ac8e28f4d43",
        "colab": {
          "base_uri": "https://localhost:8080/"
        }
      },
      "source": [
        "(x_train, y_train), (x_test, y_test) = mnist.load_data()"
      ],
      "id": "4qJmVWpO7ijW",
      "execution_count": 3,
      "outputs": [
        {
          "output_type": "stream",
          "text": [
            "Downloading data from https://storage.googleapis.com/tensorflow/tf-keras-datasets/mnist.npz\n",
            "11493376/11490434 [==============================] - 0s 0us/step\n"
          ],
          "name": "stdout"
        }
      ]
    },
    {
      "cell_type": "code",
      "metadata": {
        "id": "mQ6VNIui73Wk",
        "colab": {
          "base_uri": "https://localhost:8080/"
        },
        "outputId": "5e4f4357-0c67-4189-f7c2-72488ce959b9"
      },
      "source": [
        "print('x_train.shape:', x_train.shape, 'y_train.shape:', y_train.shape)"
      ],
      "id": "mQ6VNIui73Wk",
      "execution_count": 5,
      "outputs": [
        {
          "output_type": "stream",
          "text": [
            "x_train.shape: (60000, 28, 28) y_train.shape: (60000,)\n"
          ],
          "name": "stdout"
        }
      ]
    },
    {
      "cell_type": "code",
      "metadata": {
        "id": "-3HBLhZIZIeL"
      },
      "source": [
        "x_test = x_test / 255\n",
        "x_train = x_train / 255\n",
        "x_train = x_train.reshape(-1, 28, 28, 1)\n",
        "x_test = x_test.reshape(-1, 28, 28, 1)"
      ],
      "id": "-3HBLhZIZIeL",
      "execution_count": 6,
      "outputs": []
    },
    {
      "cell_type": "code",
      "metadata": {
        "id": "XZWKjzSE7iwM"
      },
      "source": [
        "# x_conv1 = tf.keras.Conv2D(filters=16, kernel_size=(3,3), activation='relu') (x_train)\n",
        "x_con = tf.keras.layers.Conv2D(filters=16, kernel_size=(3,3), activation='relu',input_shape=x_train.shape[1:])(x_train)"
      ],
      "id": "XZWKjzSE7iwM",
      "execution_count": null,
      "outputs": []
    },
    {
      "cell_type": "code",
      "metadata": {
        "id": "_NU2eoxqYo5_"
      },
      "source": [
        "x_con.shape"
      ],
      "id": "_NU2eoxqYo5_",
      "execution_count": null,
      "outputs": []
    },
    {
      "cell_type": "code",
      "metadata": {
        "id": "xQD2Mm9nZ2z9"
      },
      "source": [
        ""
      ],
      "id": "xQD2Mm9nZ2z9",
      "execution_count": null,
      "outputs": []
    }
  ]
}