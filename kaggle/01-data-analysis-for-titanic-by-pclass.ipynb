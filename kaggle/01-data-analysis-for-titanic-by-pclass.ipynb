{
  "nbformat": 4,
  "nbformat_minor": 5,
  "metadata": {
    "colab": {
      "name": "01-data-analysis-for-titanic-by-Pclass.ipynb",
      "provenance": [],
      "include_colab_link": true
    },
    "language_info": {
      "name": "python"
    },
    "kernelspec": {
      "name": "python3",
      "display_name": "Python 3"
    }
  },
  "cells": [
    {
      "cell_type": "markdown",
      "metadata": {
        "id": "view-in-github",
        "colab_type": "text"
      },
      "source": [
        "<a href=\"https://colab.research.google.com/github/dantae74/machine-learning/blob/main/kaggle/01-data-analysis-for-titanic-by-pclass.ipynb\" target=\"_parent\"><img src=\"https://colab.research.google.com/assets/colab-badge.svg\" alt=\"Open In Colab\"/></a>"
      ]
    },
    {
      "cell_type": "markdown",
      "metadata": {
        "id": "WfgQSbgOoe-2"
      },
      "source": [
        "### [이유한님] 캐글 스터디 강좌에서 가져왔습니다.\n",
        "\n",
        "# Titanic 데이터 분석"
      ],
      "id": "WfgQSbgOoe-2"
    },
    {
      "cell_type": "code",
      "metadata": {
        "id": "uHZ8Zln2wruY"
      },
      "source": [
        "# yahoo에서 AAPL 데이터를 정상적으로 가져오기 위해 datareader 업데이트 한다.\n",
        "!pip install --upgrade pandas"
      ],
      "id": "uHZ8Zln2wruY",
      "execution_count": null,
      "outputs": []
    },
    {
      "cell_type": "code",
      "metadata": {
        "id": "8Juwg9Fowxu_"
      },
      "source": [
        "!pip install --upgrade pandas-datareader"
      ],
      "id": "8Juwg9Fowxu_",
      "execution_count": null,
      "outputs": []
    },
    {
      "cell_type": "code",
      "metadata": {
        "id": "RK3QTbWDofS7"
      },
      "source": [
        "# Yahoo에서 Apple 주식 데이터를 가져오기 위한 라이브러리 import\n",
        "\n",
        "from pandas_datareader.data import DataReader\n",
        "\n",
        "import numpy as np\n",
        "import pandas as pd\n",
        "import matplotlib.pylab as plt\n",
        "import seaborn as sns\n",
        "import warnings"
      ],
      "id": "RK3QTbWDofS7",
      "execution_count": null,
      "outputs": []
    },
    {
      "cell_type": "code",
      "metadata": {
        "id": "hCjNN3Trrkq9"
      },
      "source": [
        "import datetime as dt\n",
        "\n",
        "# Start and End dates\n",
        "dt_start = dt.datetime(1980,1,1)\n",
        "dt_end = dt.datetime(2021,9,10)"
      ],
      "id": "hCjNN3Trrkq9",
      "execution_count": null,
      "outputs": []
    },
    {
      "cell_type": "code",
      "metadata": {
        "id": "nd8BV4SSuPBA"
      },
      "source": [
        "apple_data = DataReader('AAPL', 'yahoo', dt_start)"
      ],
      "id": "nd8BV4SSuPBA",
      "execution_count": null,
      "outputs": []
    },
    {
      "cell_type": "code",
      "metadata": {
        "id": "jDeFaupRw_59"
      },
      "source": [
        "apple_data.reset_index(inplace=True) # reset_index"
      ],
      "id": "jDeFaupRw_59",
      "execution_count": null,
      "outputs": []
    },
    {
      "cell_type": "code",
      "metadata": {
        "id": "KCI523c32m10"
      },
      "source": [
        "apple_data.head()"
      ],
      "id": "KCI523c32m10",
      "execution_count": null,
      "outputs": []
    },
    {
      "cell_type": "code",
      "metadata": {
        "id": "eXYj12qM3Cu9"
      },
      "source": [
        "apple_data.columns"
      ],
      "id": "eXYj12qM3Cu9",
      "execution_count": null,
      "outputs": []
    },
    {
      "cell_type": "code",
      "metadata": {
        "id": "su8huPgVxBVd"
      },
      "source": [
        "warnings.simplefilter('ignore')\n",
        "\n",
        "%matplotlib inline\n",
        "%reload_ext autoreload\n",
        "%autoreload 2"
      ],
      "id": "su8huPgVxBVd",
      "execution_count": null,
      "outputs": []
    },
    {
      "cell_type": "code",
      "metadata": {
        "id": "pnI3ZzQlzBIm"
      },
      "source": [
        "sns.set_style('white')\n",
        "sns.set_context('paper', font_scale=1.5)\n",
        "\n",
        "plt.style.use('fivethirtyeight')\n",
        "\n",
        "pd.set_option('display.width', 100)\n",
        "pd.set_option('display.max_rows', 25)\n",
        "pd.set_option('display.max_columns', 25)"
      ],
      "id": "pnI3ZzQlzBIm",
      "execution_count": null,
      "outputs": []
    },
    {
      "cell_type": "code",
      "metadata": {
        "id": "T6lBtLJzzEEX"
      },
      "source": [
        "apple_data.isna().mean() # checking the null value"
      ],
      "id": "T6lBtLJzzEEX",
      "execution_count": null,
      "outputs": []
    },
    {
      "cell_type": "code",
      "metadata": {
        "id": "gD2_Uh7ezdnu"
      },
      "source": [
        "# Data Preprocessing\n",
        "apple_data['Date'] = pd.to_datetime(apple_data['Date']) # Convert it into timestamp"
      ],
      "id": "gD2_Uh7ezdnu",
      "execution_count": null,
      "outputs": []
    },
    {
      "cell_type": "code",
      "metadata": {
        "id": "JYnWDGH8z2w0"
      },
      "source": [
        "type(apple_data['Date'][0]) # Checking the type"
      ],
      "id": "JYnWDGH8z2w0",
      "execution_count": null,
      "outputs": []
    },
    {
      "cell_type": "code",
      "metadata": {
        "id": "SX-Mj1PB3mkl"
      },
      "source": [
        "del apple_data['Adj Close'] # del Adj CLose cols"
      ],
      "id": "SX-Mj1PB3mkl",
      "execution_count": null,
      "outputs": []
    },
    {
      "cell_type": "code",
      "metadata": {
        "id": "sckVK00c3sW7"
      },
      "source": [
        "apple_data.head()"
      ],
      "id": "sckVK00c3sW7",
      "execution_count": null,
      "outputs": []
    },
    {
      "cell_type": "code",
      "metadata": {
        "id": "hGz-8JZ43vPD"
      },
      "source": [
        "apple_data.set_index('Date',inplace=True) # Set the Date column to index"
      ],
      "id": "hGz-8JZ43vPD",
      "execution_count": null,
      "outputs": []
    },
    {
      "cell_type": "code",
      "metadata": {
        "id": "Jt6lyrvPCRL9"
      },
      "source": [
        "data = apple_data.drop(columns=['Volume']) # Data without volume\n",
        "volume = apple_data['Volume'] # Volume data"
      ],
      "id": "Jt6lyrvPCRL9",
      "execution_count": null,
      "outputs": []
    },
    {
      "cell_type": "code",
      "metadata": {
        "id": "1h_UetyJClIt"
      },
      "source": [
        "# make clustermap\n",
        "sns.clustermap(apple_data, cmap='Blues', standard_scale=1)\n",
        "plt.show()"
      ],
      "id": "1h_UetyJClIt",
      "execution_count": null,
      "outputs": []
    },
    {
      "cell_type": "code",
      "metadata": {
        "id": "MINboLulC5sY"
      },
      "source": [
        "# subplot\n",
        "apple_data.plot(subplots=True, figsize=(20, 12))\n",
        "plt.show()"
      ],
      "id": "MINboLulC5sY",
      "execution_count": null,
      "outputs": []
    },
    {
      "cell_type": "markdown",
      "metadata": {
        "id": "TrcILxjGFXYN"
      },
      "source": [
        "## Analysis on Open, High, Low, and Close from 1980 - Current Year\n",
        "\n",
        "1. Apple Stock in 1980 - 2000"
      ],
      "id": "TrcILxjGFXYN"
    },
    {
      "cell_type": "code",
      "metadata": {
        "id": "8a2dHTVKE12z"
      },
      "source": [
        "plt.figure(figsize=(20,10))\n",
        "sns.lineplot(data=data.loc['1980-12-12':'2000-12-31'])\n",
        "plt.title('Apple Stocks in 1980 - 2000')\n",
        "plt.show()"
      ],
      "id": "8a2dHTVKE12z",
      "execution_count": null,
      "outputs": []
    },
    {
      "cell_type": "markdown",
      "metadata": {
        "id": "LzyMSDv1GRnT"
      },
      "source": [
        "2. Apple Stock in 2001 - 2010"
      ],
      "id": "LzyMSDv1GRnT"
    },
    {
      "cell_type": "code",
      "metadata": {
        "id": "yiCs9uEdFY7K"
      },
      "source": [
        "plt.figure(figsize=(20,10))\n",
        "sns.lineplot(data=data.loc['2001-01-01':'2010-12-31'])\n",
        "plt.title('Apple Stocks in 2001 - 2010')\n",
        "plt.show()"
      ],
      "id": "yiCs9uEdFY7K",
      "execution_count": null,
      "outputs": []
    },
    {
      "cell_type": "markdown",
      "metadata": {
        "id": "Io-f0GoeGwBZ"
      },
      "source": [
        "3. Apple Stock in 2010 - Current Year"
      ],
      "id": "Io-f0GoeGwBZ"
    },
    {
      "cell_type": "code",
      "metadata": {
        "id": "UBboMbW0G3_D"
      },
      "source": [
        "plt.figure(figsize=(20,10))\n",
        "sns.lineplot(data=data.loc['2011-01-01':])\n",
        "plt.title('Apple Stocks in 2011 - Current Year')\n",
        "plt.show()"
      ],
      "id": "UBboMbW0G3_D",
      "execution_count": null,
      "outputs": []
    },
    {
      "cell_type": "markdown",
      "metadata": {
        "id": "TOeZB8eUHOqO"
      },
      "source": [
        "4. Okay, Let's see the Overall Apple Stocks"
      ],
      "id": "TOeZB8eUHOqO"
    },
    {
      "cell_type": "code",
      "metadata": {
        "id": "CPl1g5OLHPhU"
      },
      "source": [
        "plt.figure(figsize=(20,10))\n",
        "sns.lineplot(data=data, linewidth=1)\n",
        "plt.title('Overall Apple Stocks')\n",
        "plt.show()"
      ],
      "id": "CPl1g5OLHPhU",
      "execution_count": null,
      "outputs": []
    },
    {
      "cell_type": "markdown",
      "metadata": {
        "id": "gGARP4AtHh7R"
      },
      "source": [
        "## Analysis on Volume 1980 - Current Year"
      ],
      "id": "gGARP4AtHh7R"
    },
    {
      "cell_type": "code",
      "metadata": {
        "id": "VgOOn4q5Hjap"
      },
      "source": [
        "plt.figure(figsize=(20,10))\n",
        "sns.lineplot(data=volume.loc['1980-12-12':'2000-12-31'])\n",
        "plt.title('Apple Volume in 1980 - 2000')\n",
        "plt.show()"
      ],
      "id": "VgOOn4q5Hjap",
      "execution_count": null,
      "outputs": []
    },
    {
      "cell_type": "markdown",
      "metadata": {
        "id": "TT9EZ5J4HuUf"
      },
      "source": [
        "2. Apple Volume in 2001 - 2010"
      ],
      "id": "TT9EZ5J4HuUf"
    },
    {
      "cell_type": "code",
      "metadata": {
        "id": "n-tAydfcHveJ"
      },
      "source": [
        "plt.figure(figsize=(20,10))\n",
        "sns.lineplot(data=volume.loc['2001-01-01':'2010-12-31'])\n",
        "plt.title('Apple Volume Stocks in 2001 - 2010')\n",
        "plt.show()"
      ],
      "id": "n-tAydfcHveJ",
      "execution_count": null,
      "outputs": []
    },
    {
      "cell_type": "markdown",
      "metadata": {
        "id": "EIt9LU_-H_vR"
      },
      "source": [
        "3. Apple Volume in 2011 - Current Year"
      ],
      "id": "EIt9LU_-H_vR"
    },
    {
      "cell_type": "code",
      "metadata": {
        "id": "G6L3MV-AHzxA"
      },
      "source": [
        "plt.figure(figsize=(20,10))\n",
        "sns.lineplot(data=volume.loc['2011-01-01':])\n",
        "plt.title('Apple Volume Stocks in 2011 - Current Year')\n",
        "plt.show()"
      ],
      "id": "G6L3MV-AHzxA",
      "execution_count": null,
      "outputs": []
    },
    {
      "cell_type": "markdown",
      "metadata": {
        "id": "k69wgh6YIQ-I"
      },
      "source": [
        "4. Okay, Let's see the Overall Apple Volume"
      ],
      "id": "k69wgh6YIQ-I"
    },
    {
      "cell_type": "code",
      "metadata": {
        "id": "9E1APKGgHnTU"
      },
      "source": [
        "plt.figure(figsize=(20,10))\n",
        "sns.lineplot(data=volume, linewidth=1)\n",
        "plt.title('Overall Apple Volume')\n",
        "plt.show()"
      ],
      "id": "9E1APKGgHnTU",
      "execution_count": null,
      "outputs": []
    },
    {
      "cell_type": "markdown",
      "metadata": {
        "id": "GjqaQY4uIiXc"
      },
      "source": [
        "## Let's try the Area Plots\n",
        "1. Apple Stocks"
      ],
      "id": "GjqaQY4uIiXc"
    },
    {
      "cell_type": "code",
      "metadata": {
        "id": "_j8bSF6yIU-i"
      },
      "source": [
        "fig, ax = plt.subplots(figsize=(20, 6))\n",
        "data.loc['1980-12-12':'2010-12-31'].plot(kind='area', ax=ax, stacked=False)\n",
        "plt.title('Apple Stocks in 1980 - 2010')\n",
        "plt.show()"
      ],
      "id": "_j8bSF6yIU-i",
      "execution_count": null,
      "outputs": []
    },
    {
      "cell_type": "code",
      "metadata": {
        "id": "leT9yzIUGgRE"
      },
      "source": [
        "fig, ax = plt.subplots(figsize=(20, 6))\n",
        "data.loc['2011-01-01':].plot(kind='area', ax=ax, stacked=False)\n",
        "plt.title('Apple Stocks in 2011 - Current Year')\n",
        "plt.show()"
      ],
      "id": "leT9yzIUGgRE",
      "execution_count": null,
      "outputs": []
    },
    {
      "cell_type": "markdown",
      "metadata": {
        "id": "Suq1jzmRJPyX"
      },
      "source": [
        "2. Apple Volume"
      ],
      "id": "Suq1jzmRJPyX"
    },
    {
      "cell_type": "code",
      "metadata": {
        "id": "AT5L1uMLJJL3"
      },
      "source": [
        "fig, ax = plt.subplots(figsize=(20, 6))\n",
        "volume.plot(kind='area', ax=ax, stacked=False)\n",
        "plt.title('Apple Stocks in 1980 - Current Year')\n",
        "plt.show()"
      ],
      "id": "AT5L1uMLJJL3",
      "execution_count": null,
      "outputs": []
    },
    {
      "cell_type": "code",
      "metadata": {
        "id": "tHev_6GEJUzr"
      },
      "source": [
        ""
      ],
      "id": "tHev_6GEJUzr",
      "execution_count": null,
      "outputs": []
    }
  ]
}
