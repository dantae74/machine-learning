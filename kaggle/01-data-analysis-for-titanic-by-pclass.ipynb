{
  "nbformat": 4,
  "nbformat_minor": 5,
  "metadata": {
    "colab": {
      "name": "01-data-analysis-for-titanic-by-Pclass.ipynb",
      "provenance": [],
      "include_colab_link": true
    },
    "language_info": {
      "name": "python"
    },
    "kernelspec": {
      "name": "python3",
      "display_name": "Python 3"
    }
  },
  "cells": [
    {
      "cell_type": "markdown",
      "metadata": {
        "id": "view-in-github",
        "colab_type": "text"
      },
      "source": [
        "<a href=\"https://colab.research.google.com/github/dantae74/machine-learning/blob/main/kaggle/01-data-analysis-for-titanic-by-pclass.ipynb\" target=\"_parent\"><img src=\"https://colab.research.google.com/assets/colab-badge.svg\" alt=\"Open In Colab\"/></a>"
      ]
    },
    {
      "cell_type": "markdown",
      "metadata": {
        "id": "WfgQSbgOoe-2"
      },
      "source": [
        "### [이유한님] 캐글 스터디 강좌에서 가져왔습니다.\n",
        "\n",
        "# Titanic 데이터 분석"
      ],
      "id": "WfgQSbgOoe-2"
    },
    {
      "cell_type": "code",
      "metadata": {
        "id": "tHev_6GEJUzr"
      },
      "source": [
        "! pip install kaggle"
      ],
      "id": "tHev_6GEJUzr",
      "execution_count": null,
      "outputs": []
    },
    {
      "cell_type": "code",
      "metadata": {
        "id": "nRfxbrGX_DtN"
      },
      "source": [
        "! mkdir ~/.kaggle"
      ],
      "id": "nRfxbrGX_DtN",
      "execution_count": null,
      "outputs": []
    },
    {
      "cell_type": "code",
      "metadata": {
        "id": "Un-E2d49_D1f"
      },
      "source": [
        "# kaggle에서 로그인하여 계정에서 Account 탭에서 API -> Create New API Token을 다운로드하여 colab에 업로드 후 아래 실행\n",
        "\n",
        "! cp kaggle.json ~/.kaggle/"
      ],
      "id": "Un-E2d49_D1f",
      "execution_count": null,
      "outputs": []
    },
    {
      "cell_type": "code",
      "metadata": {
        "id": "MA7OTOy2_D5P"
      },
      "source": [
        "! chmod 600 ~/.kaggle/kaggle.json"
      ],
      "id": "MA7OTOy2_D5P",
      "execution_count": null,
      "outputs": []
    },
    {
      "cell_type": "markdown",
      "metadata": {
        "id": "HB4NWPPLCcms"
      },
      "source": [
        ""
      ],
      "id": "HB4NWPPLCcms"
    },
    {
      "cell_type": "code",
      "metadata": {
        "id": "v0c4RrIr_D8n"
      },
      "source": [
        "# Kaggle Competititions에서 과제 검색 -> Data에서 복사하여 실행\n",
        "\n",
        "! kaggle competitions download -c titanic"
      ],
      "id": "v0c4RrIr_D8n",
      "execution_count": null,
      "outputs": []
    },
    {
      "cell_type": "code",
      "metadata": {
        "id": "5MuWRG1g-SP0"
      },
      "source": [
        "import numpy as np\n",
        "import pandas as pd\n",
        "import matplotlib.pyplot as plt\n",
        "import seaborn as sns\n",
        "\n",
        "plt.style.use('seaborn')\n",
        "sns.set(font_scale=2)\n",
        "\n",
        "import missingno as msno\n",
        "\n",
        "# ignore warnings\n",
        "import warnings\n",
        "warnings.filterwarnings('ignore')\n",
        "\n",
        "%matplotlib inline"
      ],
      "id": "5MuWRG1g-SP0",
      "execution_count": null,
      "outputs": []
    },
    {
      "cell_type": "code",
      "metadata": {
        "id": "MUicbWWXD_Co"
      },
      "source": [
        "df_train = pd.read_csv('train.csv')\n",
        "df_test = pd.read_csv('test.csv')"
      ],
      "id": "MUicbWWXD_Co",
      "execution_count": null,
      "outputs": []
    },
    {
      "cell_type": "code",
      "metadata": {
        "id": "dB2PGFwiEFxP"
      },
      "source": [
        "for col in df_train.columns:\n",
        "    print('column: {:>10}\\t Percent of NaN value: {:.2f}%'.format(col, 100*df_train[col].isnull().sum()/df_train[col].shape[0]))"
      ],
      "id": "dB2PGFwiEFxP",
      "execution_count": null,
      "outputs": []
    },
    {
      "cell_type": "code",
      "metadata": {
        "id": "E5Neq64QEJGn"
      },
      "source": [
        "for col in df_test.columns:\n",
        "    print('column: {:>10}\\t Percent of NaN value: {:.2f}%'.format(col, 100*df_test[col].isnull().sum()/df_test[col].shape[0]))"
      ],
      "id": "E5Neq64QEJGn",
      "execution_count": null,
      "outputs": []
    },
    {
      "cell_type": "code",
      "metadata": {
        "id": "ep06HuN8EPN_"
      },
      "source": [
        "msno.matrix(df=df_train.iloc[:,:], figsize=(8,8), color=(0.8,0.5,0.2))"
      ],
      "id": "ep06HuN8EPN_",
      "execution_count": null,
      "outputs": []
    },
    {
      "cell_type": "code",
      "metadata": {
        "id": "RdxXsfPZETlO"
      },
      "source": [
        "msno.bar(df=df_train, figsize=(8,8), color=(0.8,0.5,0.2))"
      ],
      "id": "RdxXsfPZETlO",
      "execution_count": null,
      "outputs": []
    },
    {
      "cell_type": "code",
      "metadata": {
        "id": "KLp-fPLYFNZH"
      },
      "source": [
        "f, ax = plt.subplots(1, 2, figsize=(18,8))\n",
        "df_train['Survived'].value_counts().plot.pie(ax=ax[0], explode=[0,0.05], autopct='%.1f%%', shadow=True)\n",
        "ax[0].set_title('Pie plot - Survived')\n",
        "ax[0].set_ylabel('')\n",
        "sns.countplot('Survived', data=df_train, ax=ax[1])\n",
        "ax[1].set_title('Count plot - Survived')\n",
        "plt.show()"
      ],
      "id": "KLp-fPLYFNZH",
      "execution_count": null,
      "outputs": []
    },
    {
      "cell_type": "markdown",
      "metadata": {
        "id": "zW_wSEj1Fgcd"
      },
      "source": [
        "## 2.1 Pclass"
      ],
      "id": "zW_wSEj1Fgcd"
    },
    {
      "cell_type": "code",
      "metadata": {
        "id": "r9Af43FuFlFz"
      },
      "source": [
        "df_train[['Pclass', 'Survived']].groupby('Pclass').count()"
      ],
      "id": "r9Af43FuFlFz",
      "execution_count": null,
      "outputs": []
    },
    {
      "cell_type": "code",
      "metadata": {
        "id": "AXFvhv6bFnuf"
      },
      "source": [
        "df_train[['Pclass', 'Survived']].groupby('Pclass').sum()"
      ],
      "id": "AXFvhv6bFnuf",
      "execution_count": null,
      "outputs": []
    },
    {
      "cell_type": "code",
      "metadata": {
        "id": "thco1PwDFpXl"
      },
      "source": [
        "df_train['Survived'].unique()"
      ],
      "id": "thco1PwDFpXl",
      "execution_count": null,
      "outputs": []
    },
    {
      "cell_type": "code",
      "metadata": {
        "id": "dMJ1UIL2FrE7"
      },
      "source": [
        "pd.crosstab(df_train['Pclass'], df_train['Survived'], margins=True).style.background_gradient(cmap='cool')"
      ],
      "id": "dMJ1UIL2FrE7",
      "execution_count": null,
      "outputs": []
    },
    {
      "cell_type": "code",
      "metadata": {
        "id": "dObhcFTlFtF9"
      },
      "source": [
        "y_position = 1.02\n",
        "f, ax = plt.subplots(1,2,figsize=(18,8))\n",
        "df_train['Pclass'].value_counts().plot.bar(color=['#CD7F32', '#FFDF00', '#D3D3D3'], ax=ax[0])\n",
        "ax[0].set_title('Number of passenger by Plcass')\n",
        "ax[0].set_ylabel('Count')\n",
        "sns.countplot('Pclass', hue='Survived', data=df_train, ax=ax[1])\n",
        "ax[1].set_title('Pclass: Survived vs Dead')\n",
        "ax[1].set_ylabel('Count')\n",
        "plt.show()"
      ],
      "id": "dObhcFTlFtF9",
      "execution_count": null,
      "outputs": []
    }
  ]
}