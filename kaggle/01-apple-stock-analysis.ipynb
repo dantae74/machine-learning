{
  "nbformat": 4,
  "nbformat_minor": 5,
  "metadata": {
    "colab": {
      "name": "Untitled.ipynb",
      "provenance": [],
      "include_colab_link": true
    },
    "language_info": {
      "name": "python"
    },
    "kernelspec": {
      "name": "python3",
      "display_name": "Python 3"
    }
  },
  "cells": [
    {
      "cell_type": "markdown",
      "metadata": {
        "id": "view-in-github",
        "colab_type": "text"
      },
      "source": [
        "<a href=\"https://colab.research.google.com/github/dantae74/machine-learning/blob/main/kaggle/01-apple-stock-analysis.ipynb\" target=\"_parent\"><img src=\"https://colab.research.google.com/assets/colab-badge.svg\" alt=\"Open In Colab\"/></a>"
      ]
    },
    {
      "cell_type": "markdown",
      "metadata": {
        "id": "WfgQSbgOoe-2"
      },
      "source": [
        "### Kaggle code를 참고하였습니다.\n",
        "\n",
        "# APPL 주가 예측"
      ],
      "id": "WfgQSbgOoe-2"
    },
    {
      "cell_type": "code",
      "metadata": {
        "id": "uHZ8Zln2wruY"
      },
      "source": [
        "# yahoo에서 AAPL 데이터를 정상적으로 가져오기 위해 datareader 업데이트 한다.\n",
        "!pip install --upgrade pandas"
      ],
      "id": "uHZ8Zln2wruY",
      "execution_count": null,
      "outputs": []
    },
    {
      "cell_type": "code",
      "metadata": {
        "id": "8Juwg9Fowxu_"
      },
      "source": [
        "!pip install --upgrade pandas-datareader"
      ],
      "id": "8Juwg9Fowxu_",
      "execution_count": null,
      "outputs": []
    },
    {
      "cell_type": "code",
      "metadata": {
        "id": "RK3QTbWDofS7"
      },
      "source": [
        "# Yahoo에서 Apple 주식 데이터를 가져오기 위한 라이브러리 import\n",
        "\n",
        "from pandas_datareader.data import DataReader\n",
        "\n",
        "import numpy as np\n",
        "import pandas as pd\n",
        "import matplotlib.pylab as plt\n",
        "import seaborn as sns\n",
        "import warnings"
      ],
      "id": "RK3QTbWDofS7",
      "execution_count": null,
      "outputs": []
    },
    {
      "cell_type": "code",
      "metadata": {
        "id": "hCjNN3Trrkq9"
      },
      "source": [
        "import datetime as dt\n",
        "\n",
        "# Start and End dates\n",
        "dt_start = dt.datetime(1980,1,1)\n",
        "dt_end = dt.datetime(2021,9,10)"
      ],
      "id": "hCjNN3Trrkq9",
      "execution_count": null,
      "outputs": []
    },
    {
      "cell_type": "code",
      "metadata": {
        "id": "nd8BV4SSuPBA"
      },
      "source": [
        "apple_data = DataReader('AAPL', 'yahoo', dt_start)"
      ],
      "id": "nd8BV4SSuPBA",
      "execution_count": null,
      "outputs": []
    },
    {
      "cell_type": "code",
      "metadata": {
        "id": "jDeFaupRw_59"
      },
      "source": [
        "apple_data.reset_index(inplace=True) # reset_index"
      ],
      "id": "jDeFaupRw_59",
      "execution_count": null,
      "outputs": []
    },
    {
      "cell_type": "code",
      "metadata": {
        "id": "KCI523c32m10"
      },
      "source": [
        "apple_data.head()"
      ],
      "id": "KCI523c32m10",
      "execution_count": null,
      "outputs": []
    },
    {
      "cell_type": "code",
      "metadata": {
        "id": "eXYj12qM3Cu9"
      },
      "source": [
        "apple_data.columns"
      ],
      "id": "eXYj12qM3Cu9",
      "execution_count": null,
      "outputs": []
    },
    {
      "cell_type": "code",
      "metadata": {
        "id": "su8huPgVxBVd"
      },
      "source": [
        "warnings.simplefilter('ignore')\n",
        "\n",
        "%matplotlib inline\n",
        "%reload_ext autoreload\n",
        "%autoreload 2"
      ],
      "id": "su8huPgVxBVd",
      "execution_count": null,
      "outputs": []
    },
    {
      "cell_type": "code",
      "metadata": {
        "id": "pnI3ZzQlzBIm"
      },
      "source": [
        "sns.set_style('white')\n",
        "sns.set_context('paper', font_scale=1.5)\n",
        "\n",
        "plt.style.use('fivethirtyeight')\n",
        "\n",
        "pd.set_option('display.width', 100)\n",
        "pd.set_option('display.max_rows', 25)\n",
        "pd.set_option('display.max_columns', 25)"
      ],
      "id": "pnI3ZzQlzBIm",
      "execution_count": null,
      "outputs": []
    },
    {
      "cell_type": "code",
      "metadata": {
        "id": "T6lBtLJzzEEX"
      },
      "source": [
        "apple_data.isna().mean() # checking the null value"
      ],
      "id": "T6lBtLJzzEEX",
      "execution_count": null,
      "outputs": []
    },
    {
      "cell_type": "code",
      "metadata": {
        "id": "gD2_Uh7ezdnu"
      },
      "source": [
        "# Data Preprocessing\n",
        "apple_data['Date'] = pd.to_datetime(apple_data['Date']) # Convert it into timestamp"
      ],
      "id": "gD2_Uh7ezdnu",
      "execution_count": null,
      "outputs": []
    },
    {
      "cell_type": "code",
      "metadata": {
        "id": "JYnWDGH8z2w0"
      },
      "source": [
        "type(apple_data['Date'][0]) # Checking the type"
      ],
      "id": "JYnWDGH8z2w0",
      "execution_count": null,
      "outputs": []
    },
    {
      "cell_type": "code",
      "metadata": {
        "id": "SX-Mj1PB3mkl"
      },
      "source": [
        "del apple_data['Adj Close'] # del Adj CLose cols"
      ],
      "id": "SX-Mj1PB3mkl",
      "execution_count": null,
      "outputs": []
    },
    {
      "cell_type": "code",
      "metadata": {
        "id": "sckVK00c3sW7"
      },
      "source": [
        "apple_data.head()"
      ],
      "id": "sckVK00c3sW7",
      "execution_count": null,
      "outputs": []
    },
    {
      "cell_type": "code",
      "metadata": {
        "id": "hGz-8JZ43vPD"
      },
      "source": [
        ""
      ],
      "id": "hGz-8JZ43vPD",
      "execution_count": null,
      "outputs": []
    }
  ]
}