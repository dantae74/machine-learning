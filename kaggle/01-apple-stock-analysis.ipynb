{
  "nbformat": 4,
  "nbformat_minor": 5,
  "metadata": {
    "colab": {
      "name": "01-apple-stock-analysis.ipynb",
      "provenance": [],
      "include_colab_link": true
    },
    "language_info": {
      "name": "python"
    },
    "kernelspec": {
      "name": "python3",
      "display_name": "Python 3"
    }
  },
  "cells": [
    {
      "cell_type": "markdown",
      "metadata": {
        "id": "view-in-github",
        "colab_type": "text"
      },
      "source": [
        "<a href=\"https://colab.research.google.com/github/dantae74/machine-learning/blob/main/kaggle/01-apple-stock-analysis.ipynb\" target=\"_parent\"><img src=\"https://colab.research.google.com/assets/colab-badge.svg\" alt=\"Open In Colab\"/></a>"
      ]
    },
    {
      "cell_type": "markdown",
      "metadata": {
        "id": "WfgQSbgOoe-2"
      },
      "source": [
        "### Kaggle code를 참고하였습니다.\n",
        "\n",
        "# APPL 주가 예측"
      ],
      "id": "WfgQSbgOoe-2"
    },
    {
      "cell_type": "code",
      "metadata": {
        "id": "uHZ8Zln2wruY"
      },
      "source": [
        "# yahoo에서 AAPL 데이터를 정상적으로 가져오기 위해 datareader 업데이트 한다.\n",
        "pip install --upgrade pandas"
      ],
      "id": "uHZ8Zln2wruY",
      "execution_count": null,
      "outputs": []
    },
    {
      "cell_type": "code",
      "metadata": {
        "id": "8Juwg9Fowxu_"
      },
      "source": [
        "pip install --upgrade pandas-datareader"
      ],
      "id": "8Juwg9Fowxu_",
      "execution_count": null,
      "outputs": []
    },
    {
      "cell_type": "code",
      "metadata": {
        "id": "RK3QTbWDofS7"
      },
      "source": [
        "# Yahoo에서 Apple 주식 데이터를 가져오기 위한 라이브러리 import\n",
        "\n",
        "from pandas_datareader.data import DataReader"
      ],
      "id": "RK3QTbWDofS7",
      "execution_count": null,
      "outputs": []
    },
    {
      "cell_type": "code",
      "metadata": {
        "id": "hCjNN3Trrkq9"
      },
      "source": [
        "import datetime as dt\n",
        "\n",
        "# Start and End dates\n",
        "dt_start = dt.datetime(1980,1,1)\n",
        "dt_end = dt.datetime(2021,9,10)"
      ],
      "id": "hCjNN3Trrkq9",
      "execution_count": null,
      "outputs": []
    },
    {
      "cell_type": "code",
      "metadata": {
        "id": "nd8BV4SSuPBA"
      },
      "source": [
        "data = DataReader('AAPL', 'yahoo', dt_start)"
      ],
      "id": "nd8BV4SSuPBA",
      "execution_count": null,
      "outputs": []
    },
    {
      "cell_type": "code",
      "metadata": {
        "id": "jDeFaupRw_59"
      },
      "source": [
        "data.head"
      ],
      "id": "jDeFaupRw_59",
      "execution_count": null,
      "outputs": []
    },
    {
      "cell_type": "code",
      "metadata": {
        "id": "su8huPgVxBVd"
      },
      "source": [
        ""
      ],
      "id": "su8huPgVxBVd",
      "execution_count": null,
      "outputs": []
    }
  ]
}
