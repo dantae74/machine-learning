{
  "nbformat": 4,
  "nbformat_minor": 5,
  "metadata": {
    "colab": {
      "name": "03-feature-engineering.ipynb",
      "provenance": [],
      "include_colab_link": true
    },
    "language_info": {
      "name": "python"
    },
    "kernelspec": {
      "name": "python3",
      "display_name": "Python 3"
    }
  },
  "cells": [
    {
      "cell_type": "markdown",
      "metadata": {
        "id": "view-in-github",
        "colab_type": "text"
      },
      "source": [
        "<a href=\"https://colab.research.google.com/github/dantae74/machine-learning/blob/main/kaggle/04-machine-learning-prediction.ipynb\" target=\"_parent\"><img src=\"https://colab.research.google.com/assets/colab-badge.svg\" alt=\"Open In Colab\"/></a>"
      ]
    },
    {
      "cell_type": "markdown",
      "metadata": {
        "id": "WfgQSbgOoe-2"
      },
      "source": [
        "### [이유한님] 캐글 스터디 강좌에서 가져왔습니다.\n",
        "\n",
        "# Titanic 데이터 분석"
      ],
      "id": "WfgQSbgOoe-2"
    },
    {
      "cell_type": "code",
      "metadata": {
        "id": "tHev_6GEJUzr"
      },
      "source": [
        "! pip install kaggle"
      ],
      "id": "tHev_6GEJUzr",
      "execution_count": null,
      "outputs": []
    },
    {
      "cell_type": "code",
      "metadata": {
        "id": "nRfxbrGX_DtN"
      },
      "source": [
        "! mkdir ~/.kaggle"
      ],
      "id": "nRfxbrGX_DtN",
      "execution_count": null,
      "outputs": []
    },
    {
      "cell_type": "code",
      "metadata": {
        "id": "Un-E2d49_D1f"
      },
      "source": [
        "# kaggle에서 로그인하여 계정에서 Account 탭에서 API -> Create New API Token을 다운로드하여 colab에 업로드 후 아래 실행\n",
        "\n",
        "! cp kaggle.json ~/.kaggle/"
      ],
      "id": "Un-E2d49_D1f",
      "execution_count": null,
      "outputs": []
    },
    {
      "cell_type": "code",
      "metadata": {
        "id": "MA7OTOy2_D5P"
      },
      "source": [
        "! chmod 600 ~/.kaggle/kaggle.json"
      ],
      "id": "MA7OTOy2_D5P",
      "execution_count": null,
      "outputs": []
    },
    {
      "cell_type": "markdown",
      "metadata": {
        "id": "HB4NWPPLCcms"
      },
      "source": [
        ""
      ],
      "id": "HB4NWPPLCcms"
    },
    {
      "cell_type": "code",
      "metadata": {
        "id": "v0c4RrIr_D8n"
      },
      "source": [
        "# Kaggle Competititions에서 과제 검색 -> Data에서 복사하여 실행\n",
        "\n",
        "! kaggle competitions download -c titanic"
      ],
      "id": "v0c4RrIr_D8n",
      "execution_count": null,
      "outputs": []
    },
    {
      "cell_type": "code",
      "metadata": {
        "id": "5MuWRG1g-SP0"
      },
      "source": [
        "import numpy as np\n",
        "import pandas as pd\n",
        "import matplotlib.pyplot as plt\n",
        "import seaborn as sns\n",
        "\n",
        "plt.style.use('seaborn')\n",
        "sns.set(font_scale=2)\n",
        "\n",
        "import missingno as msno\n",
        "\n",
        "# ignore warnings\n",
        "import warnings\n",
        "warnings.filterwarnings('ignore')\n",
        "\n",
        "%matplotlib inline"
      ],
      "id": "5MuWRG1g-SP0",
      "execution_count": null,
      "outputs": []
    },
    {
      "cell_type": "code",
      "metadata": {
        "id": "MUicbWWXD_Co"
      },
      "source": [
        "df_train = pd.read_csv('train.csv')\n",
        "df_test = pd.read_csv('test.csv')"
      ],
      "id": "MUicbWWXD_Co",
      "execution_count": null,
      "outputs": []
    },
    {
      "cell_type": "code",
      "source": [
        "df_train['Family'] = df_train['SibSp'] + df_train['Parch'] + 1\n",
        "df_test['Family'] = df_test['SibSp'] + df_test['Parch'] + 1"
      ],
      "metadata": {
        "id": "NLQR0rhFUw2d"
      },
      "id": "NLQR0rhFUw2d",
      "execution_count": null,
      "outputs": []
    },
    {
      "cell_type": "code",
      "metadata": {
        "id": "dB2PGFwiEFxP"
      },
      "source": [
        "for col in df_train.columns:\n",
        "    print('column: {:>10}\\t Percent of NaN value: {:.2f}%'.format(col, 100*df_train[col].isnull().sum()/df_train[col].shape[0]))"
      ],
      "id": "dB2PGFwiEFxP",
      "execution_count": null,
      "outputs": []
    },
    {
      "cell_type": "code",
      "metadata": {
        "id": "E5Neq64QEJGn"
      },
      "source": [
        "for col in df_test.columns:\n",
        "    print('column: {:>10}\\t Percent of NaN value: {:.2f}%'.format(col, 100*df_test[col].isnull().sum()/df_test[col].shape[0]))"
      ],
      "id": "E5Neq64QEJGn",
      "execution_count": null,
      "outputs": []
    },
    {
      "cell_type": "code",
      "metadata": {
        "id": "-h-Z5IBk76By"
      },
      "source": [
        "df_train['Name']"
      ],
      "id": "-h-Z5IBk76By",
      "execution_count": null,
      "outputs": []
    },
    {
      "cell_type": "code",
      "source": [
        "df_train['initial'] = df_train['Name'].str.extract('([a-zA-Z]+)\\.')\n",
        "df_test['initial'] = df_train['Name'].str.extract('([a-zA-Z]+)\\.')"
      ],
      "metadata": {
        "id": "PaSNG4-vem0s"
      },
      "id": "PaSNG4-vem0s",
      "execution_count": null,
      "outputs": []
    },
    {
      "cell_type": "code",
      "source": [
        "df_train['initial']"
      ],
      "metadata": {
        "id": "moCy6MAzevcB"
      },
      "id": "moCy6MAzevcB",
      "execution_count": null,
      "outputs": []
    },
    {
      "cell_type": "code",
      "source": [
        "pd.crosstab(df_train['initial'], df_train['Sex']).T.style.background_gradient(cmap='summer_r')"
      ],
      "metadata": {
        "id": "IYw4TNVVgCVK"
      },
      "id": "IYw4TNVVgCVK",
      "execution_count": null,
      "outputs": []
    },
    {
      "cell_type": "code",
      "source": [
        "df_train['initial'].replace(['Mlle','Mme','Ms','Dr','Major','Lady','Countess','Jonkheer','Col','Rev','Capt','Sir','Don'],\n",
        "                        ['Miss','Miss','Miss','Mr','Mr','Mrs','Mrs','Other','Other','Other','Mr','Mr','Mr'],inplace=True)\n",
        "\n",
        "df_test['initial'].replace(['Mlle','Mme','Ms','Dr','Major','Lady','Countess','Jonkheer','Col','Rev','Capt','Sir','Don'],\n",
        "                        ['Miss','Miss','Miss','Mr','Mr','Mrs','Mrs','Other','Other','Other','Mr','Mr','Mr'],inplace=True)"
      ],
      "metadata": {
        "id": "DJNxblAmXF7L"
      },
      "id": "DJNxblAmXF7L",
      "execution_count": null,
      "outputs": []
    },
    {
      "cell_type": "code",
      "source": [
        "df_train.groupby('initial').mean()"
      ],
      "metadata": {
        "id": "-yOL652-af_r"
      },
      "id": "-yOL652-af_r",
      "execution_count": null,
      "outputs": []
    },
    {
      "cell_type": "code",
      "source": [
        "df_test.groupby('initial').mean()"
      ],
      "metadata": {
        "id": "j_rEz4xm4vXV"
      },
      "id": "j_rEz4xm4vXV",
      "execution_count": null,
      "outputs": []
    },
    {
      "cell_type": "code",
      "source": [
        "df_train.groupby('initial')['Survived'].mean().plot.bar()"
      ],
      "metadata": {
        "id": "hO2WKVkBabSW"
      },
      "id": "hO2WKVkBabSW",
      "execution_count": null,
      "outputs": []
    },
    {
      "cell_type": "code",
      "source": [
        "df_all = pd.concat([df_train, df_test], ignore_index=True)"
      ],
      "metadata": {
        "id": "JMif9JmRcJz0"
      },
      "id": "JMif9JmRcJz0",
      "execution_count": null,
      "outputs": []
    },
    {
      "cell_type": "code",
      "source": [
        "df_all"
      ],
      "metadata": {
        "id": "xZVWwqRTu_sq"
      },
      "id": "xZVWwqRTu_sq",
      "execution_count": null,
      "outputs": []
    },
    {
      "cell_type": "code",
      "source": [
        "df_all.reset_index(inplace=True)"
      ],
      "metadata": {
        "id": "YV-zxB_pvcWo"
      },
      "id": "YV-zxB_pvcWo",
      "execution_count": null,
      "outputs": []
    },
    {
      "cell_type": "code",
      "source": [
        "df_all"
      ],
      "metadata": {
        "id": "XVcBRjUnvgoZ"
      },
      "id": "XVcBRjUnvgoZ",
      "execution_count": null,
      "outputs": []
    },
    {
      "cell_type": "code",
      "source": [
        "df_all.groupby('initial').mean()"
      ],
      "metadata": {
        "id": "Kq_KCfbCw7zn"
      },
      "id": "Kq_KCfbCw7zn",
      "execution_count": null,
      "outputs": []
    },
    {
      "cell_type": "code",
      "source": [
        "df_train.loc[(df_all['Age'].isnull()) & (df_all['initial']=='Mr'), 'Age'] = 32\n",
        "df_train.loc[(df_all['Age'].isnull()) & (df_all['initial']=='Master'), 'Age'] = 15\n",
        "df_train.loc[(df_all['Age'].isnull()) & (df_all['initial']=='Miss'), 'Age'] = 26\n",
        "df_train.loc[(df_all['Age'].isnull()) & (df_all['initial']=='Mrs'), 'Age'] = 34\n",
        "df_train.loc[(df_all['Age'].isnull()) & (df_all['initial']=='Other'), 'Age'] = 43\n",
        "\n",
        "df_test.loc[(df_all['Age'].isnull()) & (df_all['initial']=='Mr'), 'Age'] = 32\n",
        "df_test.loc[(df_all['Age'].isnull()) & (df_all['initial']=='Master'), 'Age'] = 15\n",
        "df_test.loc[(df_all['Age'].isnull()) & (df_all['initial']=='Miss'), 'Age'] = 26\n",
        "df_test.loc[(df_all['Age'].isnull()) & (df_all['initial']=='Mrs'), 'Age'] = 34\n",
        "df_test.loc[(df_all['Age'].isnull()) & (df_all['initial']=='Other'), 'Age'] = 43"
      ],
      "metadata": {
        "id": "vtkmpFdGztMP"
      },
      "id": "vtkmpFdGztMP",
      "execution_count": null,
      "outputs": []
    },
    {
      "cell_type": "code",
      "source": [
        "df_train['Embarked'].isnull().sum()\n"
      ],
      "metadata": {
        "id": "qO3sdfOq3kSi"
      },
      "id": "qO3sdfOq3kSi",
      "execution_count": null,
      "outputs": []
    },
    {
      "cell_type": "code",
      "source": [
        "df_train['Embarked'].fillna('S', inplace=True)"
      ],
      "metadata": {
        "id": "ugyH4wGnEUul"
      },
      "id": "ugyH4wGnEUul",
      "execution_count": null,
      "outputs": []
    },
    {
      "cell_type": "code",
      "source": [
        "df_train['Embarked'].isnull().sum()"
      ],
      "metadata": {
        "id": "uaZ6vLktEfvW"
      },
      "id": "uaZ6vLktEfvW",
      "execution_count": null,
      "outputs": []
    },
    {
      "cell_type": "code",
      "source": [
        "def category_age(x):\n",
        "  if x < 10:\n",
        "    return 0\n",
        "  elif x < 20:\n",
        "    return 1\n",
        "  elif x < 30:\n",
        "    return 2\n",
        "  elif x < 40:\n",
        "    return 3\n",
        "  elif x < 50:\n",
        "    return 4\n",
        "  elif x < 60:\n",
        "    return 5\n",
        "  elif x < 70:\n",
        "    return 6\n",
        "  else:\n",
        "    return 7"
      ],
      "metadata": {
        "id": "q-zwnF03E1pS"
      },
      "id": "q-zwnF03E1pS",
      "execution_count": null,
      "outputs": []
    },
    {
      "cell_type": "code",
      "source": [
        "df_train['age_cat'] = 0\n",
        "df_test['age_cat'] = 0"
      ],
      "metadata": {
        "id": "USOKXtPHHCMY"
      },
      "id": "USOKXtPHHCMY",
      "execution_count": null,
      "outputs": []
    },
    {
      "cell_type": "code",
      "source": [
        "df_train['age_cat'] = df_train['Age'].apply(category_age)\n",
        "df_test['age_cat'] = df_test['Age'].apply(category_age)"
      ],
      "metadata": {
        "id": "nnQPveq1H0LE"
      },
      "id": "nnQPveq1H0LE",
      "execution_count": null,
      "outputs": []
    },
    {
      "cell_type": "code",
      "source": [
        "df_train.head()"
      ],
      "metadata": {
        "id": "F5i_s1DHIFXN"
      },
      "id": "F5i_s1DHIFXN",
      "execution_count": null,
      "outputs": []
    },
    {
      "cell_type": "code",
      "source": [
        ""
      ],
      "metadata": {
        "id": "8RMUzfdYQlZP"
      },
      "id": "8RMUzfdYQlZP",
      "execution_count": null,
      "outputs": []
    },
    {
      "cell_type": "code",
      "source": [
        "df_train.initial.unique()"
      ],
      "metadata": {
        "id": "P7yhEgc2IHox"
      },
      "id": "P7yhEgc2IHox",
      "execution_count": null,
      "outputs": []
    },
    {
      "cell_type": "code",
      "source": [
        "df_train.initial = df_train['initial'].map({'Master':0, 'Miss':1, 'Mr':2, 'Mrs':3, 'Other':4})\n",
        "df_test.iniitial = df_test['initial'].map({'Master':0, 'Miss':1, 'Mr':2, 'Mrs':3, 'Other':4})"
      ],
      "metadata": {
        "id": "pubrbh0dIuM_"
      },
      "id": "pubrbh0dIuM_",
      "execution_count": null,
      "outputs": []
    },
    {
      "cell_type": "code",
      "source": [
        "df_train['initial']"
      ],
      "metadata": {
        "id": "M7sR1c1oKVK3"
      },
      "id": "M7sR1c1oKVK3",
      "execution_count": null,
      "outputs": []
    },
    {
      "cell_type": "code",
      "source": [
        "df_train.Embarked.unique()"
      ],
      "metadata": {
        "id": "CfCgre6-K6Be"
      },
      "id": "CfCgre6-K6Be",
      "execution_count": null,
      "outputs": []
    },
    {
      "cell_type": "code",
      "source": [
        "df_train.Embarked.value_counts()"
      ],
      "metadata": {
        "id": "H7J4h7L9L8wF"
      },
      "id": "H7J4h7L9L8wF",
      "execution_count": null,
      "outputs": []
    },
    {
      "cell_type": "code",
      "source": [
        "df_train.Embarked = df_train.Embarked.map({'C':0, 'Q':1, 'S':2})\n",
        "df_test.Embarked = df_test.Embarked.map({'C':0, 'Q':1, 'S':2})"
      ],
      "metadata": {
        "id": "lOk6GdJCKH4B"
      },
      "id": "lOk6GdJCKH4B",
      "execution_count": null,
      "outputs": []
    },
    {
      "cell_type": "code",
      "source": [
        "df_train.Embarked.isnull().any()"
      ],
      "metadata": {
        "id": "94sSYKVdMown"
      },
      "id": "94sSYKVdMown",
      "execution_count": null,
      "outputs": []
    },
    {
      "cell_type": "code",
      "source": [
        "df_train['Sex'].unique()"
      ],
      "metadata": {
        "id": "rJlE1KXyMZ-D"
      },
      "id": "rJlE1KXyMZ-D",
      "execution_count": null,
      "outputs": []
    },
    {
      "cell_type": "code",
      "source": [
        "df_train.Sex = df_train.Sex.map({'female':0, 'male':1})\n",
        "df_test.Sex = df_test.Sex.map({'female':0, 'male':1})"
      ],
      "metadata": {
        "id": "KE0p8fq7M2GQ"
      },
      "id": "KE0p8fq7M2GQ",
      "execution_count": null,
      "outputs": []
    },
    {
      "cell_type": "code",
      "source": [
        "df_train.head()"
      ],
      "metadata": {
        "id": "86M6oeBvNH8x"
      },
      "id": "86M6oeBvNH8x",
      "execution_count": null,
      "outputs": []
    },
    {
      "cell_type": "code",
      "source": [
        "heatmap_data = df_train[['Survived', 'Pclass', 'Sex', 'Embarked', 'initial', 'Family', 'age_cat', 'Fare']]"
      ],
      "metadata": {
        "id": "uvuPs4iOQ3Lq"
      },
      "id": "uvuPs4iOQ3Lq",
      "execution_count": null,
      "outputs": []
    },
    {
      "cell_type": "code",
      "source": [
        "heatmap_data.corr()"
      ],
      "metadata": {
        "id": "BkBNFP5xRttG"
      },
      "id": "BkBNFP5xRttG",
      "execution_count": null,
      "outputs": []
    },
    {
      "cell_type": "code",
      "source": [
        "colormap = plt.cm.BuGn\n",
        "plt.figure(figsize=(10,8))\n",
        "plt.title('Pearson Correlation of features', y=1.05, size=15)\n",
        "sns.heatmap(heatmap_data.astype(float).corr(), linewidths=0.1, vmax=1.0, \n",
        "            cmap=colormap, linecolor='white', annot=True, annot_kws={'size':16}, fmt=\".2f\")"
      ],
      "metadata": {
        "id": "JDtArftTRxI8"
      },
      "id": "JDtArftTRxI8",
      "execution_count": null,
      "outputs": []
    },
    {
      "cell_type": "code",
      "source": [
        "df_test.head()"
      ],
      "metadata": {
        "id": "o2cuW9l-Sy6c"
      },
      "id": "o2cuW9l-Sy6c",
      "execution_count": null,
      "outputs": []
    },
    {
      "cell_type": "markdown",
      "source": [
        "# one-hot encoding"
      ],
      "metadata": {
        "id": "p-v0nk40FfVH"
      },
      "id": "p-v0nk40FfVH"
    },
    {
      "cell_type": "code",
      "source": [
        "df_train = pd.get_dummies(df_train, columns=['initial'], prefix='initial')\n",
        "df_test = pd.get_dummies(df_test, columns=['initial'], prefix='initial')"
      ],
      "metadata": {
        "id": "8q4se1zaD8yT"
      },
      "id": "8q4se1zaD8yT",
      "execution_count": null,
      "outputs": []
    },
    {
      "cell_type": "code",
      "source": [
        "df_train = pd.get_dummies(df_train, columns=['Embarked'], prefix='Embarked')\n",
        "df_test = pd.get_dummies(df_test, columns=['Embarked'], prefix='Embarked')"
      ],
      "metadata": {
        "id": "B73-IKa_GE8P"
      },
      "id": "B73-IKa_GE8P",
      "execution_count": null,
      "outputs": []
    },
    {
      "cell_type": "code",
      "source": [
        "df_train"
      ],
      "metadata": {
        "id": "cfnZQLGSGRO2"
      },
      "id": "cfnZQLGSGRO2",
      "execution_count": null,
      "outputs": []
    },
    {
      "cell_type": "markdown",
      "source": [
        "# 사용하지 않는 Feature drop"
      ],
      "metadata": {
        "id": "uhaFczTxL6py"
      },
      "id": "uhaFczTxL6py"
    },
    {
      "cell_type": "code",
      "source": [
        "df_train.drop(['PassengerId','Name', 'Age', 'SibSp', 'Parch','Ticket', 'Cabin'], axis=1, inplace=True)"
      ],
      "metadata": {
        "id": "spoNux3oG4Kw"
      },
      "id": "spoNux3oG4Kw",
      "execution_count": null,
      "outputs": []
    },
    {
      "cell_type": "code",
      "source": [
        "df_train.head()"
      ],
      "metadata": {
        "id": "oA9wD4BCLp7g"
      },
      "id": "oA9wD4BCLp7g",
      "execution_count": null,
      "outputs": []
    },
    {
      "cell_type": "code",
      "source": [
        "df_test.head()"
      ],
      "metadata": {
        "id": "3uQ_O8cuL2uQ"
      },
      "id": "3uQ_O8cuL2uQ",
      "execution_count": null,
      "outputs": []
    },
    {
      "cell_type": "code",
      "source": [
        "df_test.drop(['PassengerId','Name', 'Age', 'SibSp', 'Parch','Ticket', 'Cabin'], axis=1, inplace=True)"
      ],
      "metadata": {
        "id": "DYF6fDAKL4-g"
      },
      "id": "DYF6fDAKL4-g",
      "execution_count": null,
      "outputs": []
    },
    {
      "cell_type": "code",
      "source": [
        "df_test.head()"
      ],
      "metadata": {
        "id": "QDz3vjQ5MIUq"
      },
      "id": "QDz3vjQ5MIUq",
      "execution_count": null,
      "outputs": []
    },
    {
      "cell_type": "code",
      "source": [
        "from sklearn.ensemble import RandomForestClassifier\n",
        "from sklearn import metrics\n",
        "from sklearn.model_selection import train_test_split"
      ],
      "metadata": {
        "id": "IwfledpDMJkX"
      },
      "id": "IwfledpDMJkX",
      "execution_count": null,
      "outputs": []
    },
    {
      "cell_type": "code",
      "source": [
        "x_data = df_train.drop(['Survived'], axis=1).values\n",
        "y_data = df_train['Survived'].values"
      ],
      "metadata": {
        "id": "jxqMzrXJQQ_5"
      },
      "id": "jxqMzrXJQQ_5",
      "execution_count": null,
      "outputs": []
    },
    {
      "cell_type": "code",
      "source": [
        "X_train, X_valid, y_train, y_valid = train_test_split(x_data, y_data, test_size=0.3, random_state=2018)"
      ],
      "metadata": {
        "id": "fo4qEEzlNIx-"
      },
      "id": "fo4qEEzlNIx-",
      "execution_count": null,
      "outputs": []
    },
    {
      "cell_type": "code",
      "source": [
        "model = RandomForestClassifier()\n",
        "model.fit(X_train, y_train)"
      ],
      "metadata": {
        "id": "VWOOSO3qQ8Et"
      },
      "id": "VWOOSO3qQ8Et",
      "execution_count": null,
      "outputs": []
    },
    {
      "cell_type": "code",
      "source": [
        "prediction = model.predict(X_valid)"
      ],
      "metadata": {
        "id": "ApNVjTf9RDzH"
      },
      "id": "ApNVjTf9RDzH",
      "execution_count": null,
      "outputs": []
    },
    {
      "cell_type": "code",
      "source": [
        "metrics.accuracy_score(prediction, y_valid)"
      ],
      "metadata": {
        "id": "7DVEmBWiRmYy"
      },
      "id": "7DVEmBWiRmYy",
      "execution_count": null,
      "outputs": []
    },
    {
      "cell_type": "code",
      "source": [
        "(prediction == y_valid).sum() / prediction.shape[0]"
      ],
      "metadata": {
        "id": "-DGohkpUR_ks"
      },
      "id": "-DGohkpUR_ks",
      "execution_count": null,
      "outputs": []
    },
    {
      "cell_type": "code",
      "source": [
        ""
      ],
      "metadata": {
        "id": "pO0JtS3YSEeq"
      },
      "id": "pO0JtS3YSEeq",
      "execution_count": null,
      "outputs": []
    },
    {
      "cell_type": "code",
      "source": [
        ""
      ],
      "metadata": {
        "id": "IbetDQTQSPJz"
      },
      "id": "IbetDQTQSPJz",
      "execution_count": null,
      "outputs": []
    }
  ]
}