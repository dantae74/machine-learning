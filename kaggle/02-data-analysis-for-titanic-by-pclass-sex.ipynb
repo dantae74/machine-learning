{
  "nbformat": 4,
  "nbformat_minor": 5,
  "metadata": {
    "colab": {
      "name": "02-data-analysis-for-titanic-by-pclass-sex.ipynb",
      "provenance": [],
      "include_colab_link": true
    },
    "language_info": {
      "name": "python"
    },
    "kernelspec": {
      "name": "python3",
      "display_name": "Python 3"
    }
  },
  "cells": [
    {
      "cell_type": "markdown",
      "metadata": {
        "id": "view-in-github",
        "colab_type": "text"
      },
      "source": [
        "<a href=\"https://colab.research.google.com/github/dantae74/machine-learning/blob/main/kaggle/02-data-analysis-for-titanic-by-pclass-sex.ipynb\" target=\"_parent\"><img src=\"https://colab.research.google.com/assets/colab-badge.svg\" alt=\"Open In Colab\"/></a>"
      ]
    },
    {
      "cell_type": "markdown",
      "metadata": {
        "id": "WfgQSbgOoe-2"
      },
      "source": [
        "### [이유한님] 캐글 스터디 강좌에서 가져왔습니다.\n",
        "\n",
        "# Titanic 데이터 분석"
      ],
      "id": "WfgQSbgOoe-2"
    },
    {
      "cell_type": "code",
      "metadata": {
        "id": "tHev_6GEJUzr"
      },
      "source": [
        "! pip install kaggle"
      ],
      "id": "tHev_6GEJUzr",
      "execution_count": null,
      "outputs": []
    },
    {
      "cell_type": "code",
      "metadata": {
        "id": "nRfxbrGX_DtN"
      },
      "source": [
        "! mkdir ~/.kaggle"
      ],
      "id": "nRfxbrGX_DtN",
      "execution_count": null,
      "outputs": []
    },
    {
      "cell_type": "code",
      "metadata": {
        "id": "Un-E2d49_D1f"
      },
      "source": [
        "# kaggle에서 로그인하여 계정에서 Account 탭에서 API -> Create New API Token을 다운로드하여 colab에 업로드 후 아래 실행\n",
        "\n",
        "! cp kaggle.json ~/.kaggle/"
      ],
      "id": "Un-E2d49_D1f",
      "execution_count": null,
      "outputs": []
    },
    {
      "cell_type": "code",
      "metadata": {
        "id": "MA7OTOy2_D5P"
      },
      "source": [
        "! chmod 600 ~/.kaggle/kaggle.json"
      ],
      "id": "MA7OTOy2_D5P",
      "execution_count": null,
      "outputs": []
    },
    {
      "cell_type": "markdown",
      "metadata": {
        "id": "HB4NWPPLCcms"
      },
      "source": [
        ""
      ],
      "id": "HB4NWPPLCcms"
    },
    {
      "cell_type": "code",
      "metadata": {
        "id": "v0c4RrIr_D8n"
      },
      "source": [
        "# Kaggle Competititions에서 과제 검색 -> Data에서 복사하여 실행\n",
        "\n",
        "! kaggle competitions download -c titanic"
      ],
      "id": "v0c4RrIr_D8n",
      "execution_count": null,
      "outputs": []
    },
    {
      "cell_type": "code",
      "metadata": {
        "id": "5MuWRG1g-SP0"
      },
      "source": [
        "import numpy as np\n",
        "import pandas as pd\n",
        "import matplotlib.pyplot as plt\n",
        "import seaborn as sns\n",
        "\n",
        "plt.style.use('seaborn')\n",
        "sns.set(font_scale=2)\n",
        "\n",
        "import missingno as msno\n",
        "\n",
        "# ignore warnings\n",
        "import warnings\n",
        "warnings.filterwarnings('ignore')\n",
        "\n",
        "%matplotlib inline"
      ],
      "id": "5MuWRG1g-SP0",
      "execution_count": null,
      "outputs": []
    },
    {
      "cell_type": "code",
      "metadata": {
        "id": "MUicbWWXD_Co"
      },
      "source": [
        "df_train = pd.read_csv('train.csv')\n",
        "df_test = pd.read_csv('test.csv')"
      ],
      "id": "MUicbWWXD_Co",
      "execution_count": null,
      "outputs": []
    },
    {
      "cell_type": "code",
      "metadata": {
        "id": "dB2PGFwiEFxP"
      },
      "source": [
        "for col in df_train.columns:\n",
        "    print('column: {:>10}\\t Percent of NaN value: {:.2f}%'.format(col, 100*df_train[col].isnull().sum()/df_train[col].shape[0]))"
      ],
      "id": "dB2PGFwiEFxP",
      "execution_count": null,
      "outputs": []
    },
    {
      "cell_type": "code",
      "metadata": {
        "id": "E5Neq64QEJGn"
      },
      "source": [
        "for col in df_test.columns:\n",
        "    print('column: {:>10}\\t Percent of NaN value: {:.2f}%'.format(col, 100*df_test[col].isnull().sum()/df_test[col].shape[0]))"
      ],
      "id": "E5Neq64QEJGn",
      "execution_count": null,
      "outputs": []
    },
    {
      "cell_type": "code",
      "metadata": {
        "id": "ep06HuN8EPN_"
      },
      "source": [
        "msno.matrix(df=df_train.iloc[:,:], figsize=(8,8), color=(0.8,0.5,0.2))"
      ],
      "id": "ep06HuN8EPN_",
      "execution_count": null,
      "outputs": []
    },
    {
      "cell_type": "code",
      "metadata": {
        "id": "RdxXsfPZETlO"
      },
      "source": [
        "msno.bar(df=df_train, figsize=(8,8), color=(0.8,0.5,0.2))"
      ],
      "id": "RdxXsfPZETlO",
      "execution_count": null,
      "outputs": []
    },
    {
      "cell_type": "code",
      "metadata": {
        "id": "KLp-fPLYFNZH"
      },
      "source": [
        "f, ax = plt.subplots(1, 2, figsize=(18,8))\n",
        "df_train['Survived'].value_counts().plot.pie(ax=ax[0], explode=[0,0.05], autopct='%.1f%%', shadow=True)\n",
        "ax[0].set_title('Pie plot - Survived')\n",
        "ax[0].set_ylabel('')\n",
        "sns.countplot('Survived', data=df_train, ax=ax[1])\n",
        "ax[1].set_title('Count plot - Survived')\n",
        "plt.show()"
      ],
      "id": "KLp-fPLYFNZH",
      "execution_count": null,
      "outputs": []
    },
    {
      "cell_type": "markdown",
      "metadata": {
        "id": "zW_wSEj1Fgcd"
      },
      "source": [
        "## 2.1 Pclass"
      ],
      "id": "zW_wSEj1Fgcd"
    },
    {
      "cell_type": "code",
      "metadata": {
        "id": "r9Af43FuFlFz"
      },
      "source": [
        "df_train[['Pclass', 'Survived']].groupby('Pclass').count()"
      ],
      "id": "r9Af43FuFlFz",
      "execution_count": null,
      "outputs": []
    },
    {
      "cell_type": "code",
      "metadata": {
        "id": "AXFvhv6bFnuf"
      },
      "source": [
        "df_train[['Pclass', 'Survived']].groupby('Pclass').sum()"
      ],
      "id": "AXFvhv6bFnuf",
      "execution_count": null,
      "outputs": []
    },
    {
      "cell_type": "code",
      "metadata": {
        "id": "thco1PwDFpXl"
      },
      "source": [
        "df_train['Survived'].unique()"
      ],
      "id": "thco1PwDFpXl",
      "execution_count": null,
      "outputs": []
    },
    {
      "cell_type": "code",
      "metadata": {
        "id": "dMJ1UIL2FrE7"
      },
      "source": [
        "pd.crosstab(df_train['Pclass'], df_train['Survived'], margins=True).style.background_gradient(cmap='cool')"
      ],
      "id": "dMJ1UIL2FrE7",
      "execution_count": null,
      "outputs": []
    },
    {
      "cell_type": "code",
      "metadata": {
        "id": "dObhcFTlFtF9"
      },
      "source": [
        "y_position = 1.02\n",
        "f, ax = plt.subplots(1,2,figsize=(18,8))\n",
        "df_train['Pclass'].value_counts().plot.bar(color=['#CD7F32', '#FFDF00', '#D3D3D3'], ax=ax[0])\n",
        "ax[0].set_title('Number of passenger by Plcass')\n",
        "ax[0].set_ylabel('Count')\n",
        "sns.countplot('Pclass', hue='Survived', data=df_train, ax=ax[1])\n",
        "ax[1].set_title('Pclass: Survived vs Dead')\n",
        "ax[1].set_ylabel('Count')\n",
        "plt.show()"
      ],
      "id": "dObhcFTlFtF9",
      "execution_count": null,
      "outputs": []
    },
    {
      "cell_type": "markdown",
      "metadata": {
        "id": "R0tjlPpr4jAD"
      },
      "source": [
        "## 2.2 Sex"
      ],
      "id": "R0tjlPpr4jAD"
    },
    {
      "cell_type": "code",
      "metadata": {
        "id": "2C9DkL9A4ib4"
      },
      "source": [
        "f, ax = plt.subplots(1,2, figsize=(18, 8))\n",
        "df_train[['Sex', 'Survived']].groupby(['Sex'], as_index=True).mean().plot.bar(ax=ax[0])\n",
        "ax[0].set_title('Survived vs Sex')\n",
        "sns.countplot('Sex', hue='Survived', data=df_train, ax=ax[1])\n",
        "ax[1].set_title('Sex: Survived vs Dead')\n",
        "plt.show()"
      ],
      "id": "2C9DkL9A4ib4",
      "execution_count": null,
      "outputs": []
    },
    {
      "cell_type": "code",
      "metadata": {
        "id": "qTDsprq14iTW"
      },
      "source": [
        "pd.crosstab(df_train['Sex'], df_train['Survived'], margins=True).style.background_gradient(cmap='summer_r')"
      ],
      "id": "qTDsprq14iTW",
      "execution_count": null,
      "outputs": []
    },
    {
      "cell_type": "markdown",
      "metadata": {
        "id": "gNmTXV3u9Z9A"
      },
      "source": [
        "## 2.2 Both Sex and Pclass"
      ],
      "id": "gNmTXV3u9Z9A"
    },
    {
      "cell_type": "code",
      "metadata": {
        "id": "Zx8BD7Q54iJN"
      },
      "source": [
        "sns.factorplot('Pclass', 'Survived', hue='Sex', data=df_train, size=6, aspect=1.5)\n",
        "\n",
        "# Lady first\n",
        "# Money brings Survival? "
      ],
      "id": "Zx8BD7Q54iJN",
      "execution_count": null,
      "outputs": []
    },
    {
      "cell_type": "code",
      "metadata": {
        "id": "0c1v2Uu49JXT"
      },
      "source": [
        "sns.factorplot(x='Sex', y='Survived', col='Pclass', data=df_train, saturation=5, size=9, aspect=1)"
      ],
      "id": "0c1v2Uu49JXT",
      "execution_count": null,
      "outputs": []
    },
    {
      "cell_type": "code",
      "metadata": {
        "id": "9C7bIEhg9JbI"
      },
      "source": [
        "sns.factorplot(x='Sex', y='Survived', hue='Pclass', data=df_train, saturation=5, size=9, aspect=1)"
      ],
      "id": "9C7bIEhg9JbI",
      "execution_count": null,
      "outputs": []
    },
    {
      "cell_type": "markdown",
      "metadata": {
        "id": "NCQyBB4fRQea"
      },
      "source": [
        "## Age"
      ],
      "id": "NCQyBB4fRQea"
    },
    {
      "cell_type": "code",
      "metadata": {
        "id": "yaseeGPj9Jea"
      },
      "source": [
        "print(\"제일 나이 많은 탑승객: {:.1f} year\".format(df_train['Age'].max()))\n",
        "print(\"제일 나이 어린 탑승객: {:.1f} year\".format(df_train['Age'].min()))\n",
        "print(\"평균 탑승객 나이: {:.1f} year\".format(df_train['Age'].mean()))"
      ],
      "id": "yaseeGPj9Jea",
      "execution_count": null,
      "outputs": []
    },
    {
      "cell_type": "code",
      "metadata": {
        "id": "N8UgTc9C_cAV"
      },
      "source": [
        "fig, ax = plt.subplots(1,1, figsize=(9,5))\n",
        "sns.kdeplot(df_train[df_train['Survived']==1]['Age'], ax=ax)\n",
        "sns.kdeplot(df_train[df_train['Survived']==0]['Age'], ax=ax)\n",
        "plt.legend(['Survived == 1', 'Survived == 0'])\n",
        "plt.show()"
      ],
      "id": "N8UgTc9C_cAV",
      "execution_count": null,
      "outputs": []
    },
    {
      "cell_type": "markdown",
      "metadata": {
        "id": "XZe0LWj65C8m"
      },
      "source": [
        "## PClass"
      ],
      "id": "XZe0LWj65C8m"
    },
    {
      "cell_type": "code",
      "metadata": {
        "id": "FeaetSdL5Cm_"
      },
      "source": [
        "plt.figure(figsize=(8,9))\n",
        "df_train[df_train['Pclass']==1]['Age'].plot(kind='kde')\n",
        "df_train[df_train['Pclass']==2]['Age'].plot(kind='kde')\n",
        "df_train[df_train['Pclass']==3]['Age'].plot(kind='kde')\n",
        "plt.xlabel(\"Age\")\n",
        "plt.legend(['1st class', '2nd class', '3rd class'])\n",
        "plt.show()"
      ],
      "id": "FeaetSdL5Cm_",
      "execution_count": null,
      "outputs": []
    },
    {
      "cell_type": "code",
      "metadata": {
        "id": "N9oAgbkM_cDc"
      },
      "source": [
        "plt.figure(figsize=(8,9))\n",
        "df_train[(df_train['Pclass']==1) & (df_train['Survived'] == 1)]['Age'].plot(kind='kde')\n",
        "df_train[(df_train['Pclass']==2) & (df_train['Survived'] == 1)]['Age'].plot(kind='kde')\n",
        "df_train[(df_train['Pclass']==3) & (df_train['Survived'] == 1)]['Age'].plot(kind='kde')\n",
        "plt.xlabel(\"Age\")\n",
        "plt.legend(['1st class', '2nd class', '3rd class'])\n",
        "plt.show()"
      ],
      "id": "N9oAgbkM_cDc",
      "execution_count": null,
      "outputs": []
    },
    {
      "cell_type": "code",
      "metadata": {
        "id": "JEiWRpWO_cGo"
      },
      "source": [
        "change_age_range_survival_ratio = []\n",
        "\n",
        "for i in range(1, 80):\n",
        "  change_age_range_survival_ratio.append(df_train[df_train['Age'] < i]['Survived'].sum() / len(df_train[df_train['Age'] < i]['Survived']))\n",
        "\n",
        "plt.figure(figsize=(7,7))\n",
        "plt.plot(change_age_range_survival_ratio)\n",
        "plt.title('Survival ratio change depending on range of Age', y=1.02)\n",
        "plt.ylabel('Survival rate')\n",
        "plt.xlabel('Range of Age(0~x)')\n",
        "plt.show()"
      ],
      "id": "JEiWRpWO_cGo",
      "execution_count": null,
      "outputs": []
    },
    {
      "cell_type": "markdown",
      "metadata": {
        "id": "1BlFTP-Bdy4K"
      },
      "source": [
        "# Pclass, Sex, Age"
      ],
      "id": "1BlFTP-Bdy4K"
    },
    {
      "cell_type": "code",
      "metadata": {
        "id": "wiCjQr8x_cJc"
      },
      "source": [
        "fig, ax = plt.subplots(1,2,figsize=(18,8))\n",
        "sns.violinplot('Pclass', 'Age', hue='Survived', data=df_train, scale='count', split=True, ax=ax[0])\n",
        "ax[0].set_title('Pclass and Age vs Survived')\n",
        "ax[0].set_yticks(range(0,100,10))\n",
        "\n",
        "sns.violinplot('Sex', 'Age', hue='Survived', data=df_train, scale='count', split=True, ax=ax[1])\n",
        "ax[1].set_title('Sex and Age vs Survived')\n",
        "ax[1].set_yticks(range(0,100,10))"
      ],
      "id": "wiCjQr8x_cJc",
      "execution_count": null,
      "outputs": []
    },
    {
      "cell_type": "code",
      "metadata": {
        "id": "kMr7NeXXdw3W"
      },
      "source": [
        ""
      ],
      "id": "kMr7NeXXdw3W",
      "execution_count": null,
      "outputs": []
    },
    {
      "cell_type": "code",
      "metadata": {
        "id": "MmlOVOJJ_cMV"
      },
      "source": [
        ""
      ],
      "id": "MmlOVOJJ_cMV",
      "execution_count": null,
      "outputs": []
    },
    {
      "cell_type": "code",
      "metadata": {
        "id": "M6reUJap9Jha"
      },
      "source": [
        ""
      ],
      "id": "M6reUJap9Jha",
      "execution_count": null,
      "outputs": []
    },
    {
      "cell_type": "code",
      "metadata": {
        "id": "1-_C4yEX9JkK"
      },
      "source": [
        ""
      ],
      "id": "1-_C4yEX9JkK",
      "execution_count": null,
      "outputs": []
    }
  ]
}
