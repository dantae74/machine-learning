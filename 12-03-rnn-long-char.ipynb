{
  "nbformat": 4,
  "nbformat_minor": 5,
  "metadata": {
    "colab": {
      "name": "12-02-rnn-char-seq.ipynb",
      "provenance": [],
      "include_colab_link": true
    },
    "language_info": {
      "name": "python"
    },
    "kernelspec": {
      "name": "python3",
      "display_name": "Python 3"
    }
  },
  "cells": [
    {
      "cell_type": "markdown",
      "metadata": {
        "id": "view-in-github",
        "colab_type": "text"
      },
      "source": [
        "<a href=\"https://colab.research.google.com/github/dantae74/machine-learning/blob/main/12-03-rnn-long-char.ipynb\" target=\"_parent\"><img src=\"https://colab.research.google.com/assets/colab-badge.svg\" alt=\"Open In Colab\"/></a>"
      ]
    },
    {
      "cell_type": "markdown",
      "metadata": {
        "id": "WfgQSbgOoe-2"
      },
      "source": [
        "모두를 위한 머신러닝에서 가져왔습니다.\n",
        "# RNN - 'hihello'"
      ],
      "id": "WfgQSbgOoe-2"
    },
    {
      "cell_type": "code",
      "metadata": {
        "id": "RK3QTbWDofS7"
      },
      "source": [
        "import numpy as np\n",
        "import tensorflow as tf\n",
        "from tensorflow import keras\n",
        "from tensorflow.keras import layers"
      ],
      "id": "RK3QTbWDofS7",
      "execution_count": 1,
      "outputs": []
    },
    {
      "cell_type": "code",
      "metadata": {
        "id": "T3dhSwIgXwPh"
      },
      "source": [
        "sentence = (\"if you want to build a ship, don't drum up people together to \"\n",
        "            \"collect wood and don't assign them tasks and work, but rather \"\n",
        "            \"teach them to long for the endless immensity of the sea.\")"
      ],
      "id": "T3dhSwIgXwPh",
      "execution_count": 2,
      "outputs": []
    },
    {
      "cell_type": "code",
      "metadata": {
        "id": "juaGV9dWYPzZ",
        "outputId": "a1c15558-f92e-4fd7-c310-973e971d0166",
        "colab": {
          "base_uri": "https://localhost:8080/",
          "height": 53
        }
      },
      "source": [
        "sentence"
      ],
      "id": "juaGV9dWYPzZ",
      "execution_count": 3,
      "outputs": [
        {
          "output_type": "execute_result",
          "data": {
            "application/vnd.google.colaboratory.intrinsic+json": {
              "type": "string"
            },
            "text/plain": [
              "\"if you want to build a ship, don't drum up people together to collect wood and don't assign them tasks and work, but rather teach them to long for the endless immensity of the sea.\""
            ]
          },
          "metadata": {
            "tags": []
          },
          "execution_count": 3
        }
      ]
    },
    {
      "cell_type": "code",
      "metadata": {
        "id": "tJhgKevNYVF-"
      },
      "source": [
        "char_set = list(set(sentence))\n",
        "char_dic = {w: i for i, w in enumerate(char_set)}"
      ],
      "id": "tJhgKevNYVF-",
      "execution_count": 4,
      "outputs": []
    },
    {
      "cell_type": "code",
      "metadata": {
        "id": "K4MjfC8RY6cE"
      },
      "source": [
        "data_dim = len(char_set) # input size\n",
        "hidden_size = len(char_set) # output size\n",
        "num_classes = len(char_set) \n",
        "sequence_length = 10  # Any arbitrary number\n",
        "learning_rate = 0.1"
      ],
      "id": "K4MjfC8RY6cE",
      "execution_count": 7,
      "outputs": []
    },
    {
      "cell_type": "code",
      "metadata": {
        "id": "6DBDA38CY73x"
      },
      "source": [
        "dataX = []\n",
        "dataY = []\n",
        "for i in range(0, len(sentence) - sequence_length):\n",
        "    x_str = sentence[i:i + sequence_length]\n",
        "    y_str = sentence[i + 1: i + sequence_length + 1]\n",
        "    print(i, x_str, '->', y_str)\n",
        "\n",
        "    x = [char_dic[c] for c in x_str]  # x str to index\n",
        "    y = [char_dic[c] for c in y_str]  # y str to index\n",
        "\n",
        "    dataX.append(x)\n",
        "    dataY.append(y)"
      ],
      "id": "6DBDA38CY73x",
      "execution_count": null,
      "outputs": []
    },
    {
      "cell_type": "code",
      "metadata": {
        "id": "7XtHMeQcaCEn",
        "outputId": "9a9f91cd-7883-40dc-eeb5-836f4a2c6ac1",
        "colab": {
          "base_uri": "https://localhost:8080/"
        }
      },
      "source": [
        "batch_size = len(dataX)\n",
        "\n",
        "# One-hot encoding\n",
        "X_one_hot = tf.one_hot(dataX, num_classes)\n",
        "Y_one_hot = tf.one_hot(dataY, num_classes)\n",
        "\n",
        "print(X_one_hot.shape)  # check out the shape (170, 10, 25)\n",
        "print(Y_one_hot.shape)  # check out the shape"
      ],
      "id": "7XtHMeQcaCEn",
      "execution_count": 11,
      "outputs": [
        {
          "output_type": "stream",
          "text": [
            "(170, 10, 25)\n",
            "(170, 10, 25)\n"
          ],
          "name": "stdout"
        }
      ]
    },
    {
      "cell_type": "code",
      "metadata": {
        "id": "YKOrRdqiZoru"
      },
      "source": [
        "model = keras.Sequential();\n",
        "model.add(keras.layers.LSTM(units=num_classes, input_shape=(sequence_length, X_one_hot.shape[2]), return_sequences=True))\n",
        "model.add(keras.layers.LSTM(units=num_classes, return_sequences=True))\n",
        "model.add(keras.layers.TimeDistributed(keras.layers.Dense(units=num_classes, activation='softmax')))\n",
        "model.summary()\n",
        "model.compile(loss='categorical_crossentropy', optimizer=keras.optimizers.Adam(lr=learning_rate), metrics=['accuracy'])\n",
        "model.fit(X_one_hot, Y_one_hot, epochs=100)"
      ],
      "id": "YKOrRdqiZoru",
      "execution_count": null,
      "outputs": []
    },
    {
      "cell_type": "code",
      "metadata": {
        "id": "AXfBXQZYaj9t",
        "outputId": "881744ce-8cce-4a10-e0de-ab36807197d8",
        "colab": {
          "base_uri": "https://localhost:8080/"
        }
      },
      "source": [
        "results = model.predict(X_one_hot)\n",
        "for j, result in enumerate(results):\n",
        "    index = np.argmax(result, axis=1)\n",
        "    if j == 0:  # print all for the first result to make a sentence\n",
        "        print(''.join([char_set[t] for t in index]), end='')\n",
        "    else:\n",
        "        print(char_set[index[-1]], end='')"
      ],
      "id": "AXfBXQZYaj9t",
      "execution_count": 15,
      "outputs": [
        {
          "output_type": "stream",
          "text": [
            "l you want to build a ship, don't drum up people together to collect wood and don't assign them tasks and work, but rather teach them to long for the endless immensity of the sea."
          ],
          "name": "stdout"
        }
      ]
    }
  ]
}