{
  "nbformat": 4,
  "nbformat_minor": 5,
  "metadata": {
    "colab": {
      "name": "12-02-rnn-char-seq.ipynb",
      "provenance": [],
      "include_colab_link": true
    },
    "language_info": {
      "name": "python"
    },
    "kernelspec": {
      "name": "python3",
      "display_name": "Python 3"
    }
  },
  "cells": [
    {
      "cell_type": "markdown",
      "metadata": {
        "id": "view-in-github",
        "colab_type": "text"
      },
      "source": [
        "<a href=\"https://colab.research.google.com/github/dantae74/machine-learning/blob/main/12-02-rnn-char-seq.ipynb\" target=\"_parent\"><img src=\"https://colab.research.google.com/assets/colab-badge.svg\" alt=\"Open In Colab\"/></a>"
      ]
    },
    {
      "cell_type": "markdown",
      "metadata": {
        "id": "WfgQSbgOoe-2"
      },
      "source": [
        "모두를 위한 머신러닝에서 가져왔습니다.\n",
        "# RNN - 'hihello'"
      ],
      "id": "WfgQSbgOoe-2"
    },
    {
      "cell_type": "code",
      "metadata": {
        "id": "RK3QTbWDofS7"
      },
      "source": [
        "import numpy as np\n",
        "import tensorflow as tf\n",
        "from tensorflow import keras\n",
        "from tensorflow.keras import layers"
      ],
      "id": "RK3QTbWDofS7",
      "execution_count": null,
      "outputs": []
    },
    {
      "cell_type": "code",
      "metadata": {
        "id": "3qJibYg7ylZj"
      },
      "source": [
        "sample = \" if you want you\"\n",
        "idx2char = list(set(sample))  # index -> char\n",
        "char2idx = {c: i for i, c in enumerate(idx2char)}  # char -> idex"
      ],
      "id": "3qJibYg7ylZj",
      "execution_count": 6,
      "outputs": []
    },
    {
      "cell_type": "code",
      "metadata": {
        "id": "B3Q899IdyliI",
        "outputId": "25dd8e8e-3c32-45a0-d057-4edc4abcd141",
        "colab": {
          "base_uri": "https://localhost:8080/"
        }
      },
      "source": [
        "print(idx2char)\n",
        "print(char2idx)"
      ],
      "id": "B3Q899IdyliI",
      "execution_count": 7,
      "outputs": [
        {
          "output_type": "stream",
          "text": [
            "['y', ' ', 'n', 't', 'f', 'i', 'u', 'o', 'a', 'w']\n",
            "{'y': 0, ' ': 1, 'n': 2, 't': 3, 'f': 4, 'i': 5, 'u': 6, 'o': 7, 'a': 8, 'w': 9}\n"
          ],
          "name": "stdout"
        }
      ]
    },
    {
      "cell_type": "code",
      "metadata": {
        "id": "NpTUb-0lylla"
      },
      "source": [
        "# hyper parameters\n",
        "dic_size = len(char2idx)  # RNN input size (one hot size)\n",
        "hidden_size = len(char2idx)  # RNN output size\n",
        "num_classes = len(char2idx)  # final output size (RNN or softmax, etc.)\n",
        "batch_size = 1  # one sample data, one batch\n",
        "sequence_length = len(sample) - 1  # number of lstm rollings (unit #)\n",
        "learning_rate = 0.1"
      ],
      "id": "NpTUb-0lylla",
      "execution_count": 8,
      "outputs": []
    },
    {
      "cell_type": "code",
      "metadata": {
        "id": "ihUmGgzvznC5"
      },
      "source": [
        "sample_idx = [char2idx[c] for c in sample]  # char to index\n",
        "x_data = [sample_idx[:-1]]  # X data sample (0 ~ n-1) hello: hell\n",
        "y_data = [sample_idx[1:]]   # Y label sample (1 ~ n) hello: ello"
      ],
      "id": "ihUmGgzvznC5",
      "execution_count": 10,
      "outputs": []
    },
    {
      "cell_type": "code",
      "metadata": {
        "id": "m2oxpaYEyloF",
        "outputId": "f6d09108-ea22-48c5-96df-565f77f1a2d6",
        "colab": {
          "base_uri": "https://localhost:8080/"
        }
      },
      "source": [
        "print('sample_idx\\n',sample_idx)\n",
        "print('x_data\\n',x_data)\n",
        "print('y_data\\n',y_data)"
      ],
      "id": "m2oxpaYEyloF",
      "execution_count": 11,
      "outputs": [
        {
          "output_type": "stream",
          "text": [
            "sample_idx\n",
            " [1, 5, 4, 1, 0, 7, 6, 1, 9, 8, 2, 3, 1, 0, 7, 6]\n",
            "x_data\n",
            " [[1, 5, 4, 1, 0, 7, 6, 1, 9, 8, 2, 3, 1, 0, 7]]\n",
            "y_data\n",
            " [[5, 4, 1, 0, 7, 6, 1, 9, 8, 2, 3, 1, 0, 7, 6]]\n"
          ],
          "name": "stdout"
        }
      ]
    },
    {
      "cell_type": "code",
      "metadata": {
        "id": "GlKRu6C70l9Y"
      },
      "source": [
        "x_one_hot_eager = tf.one_hot(x_data, num_classes)  # one hot: 1 -> 0 1 0 0 0 0 0 0 0 0\n",
        "x_one_hot_numpy = tf.keras.utils.to_categorical(x_data, num_classes)  # it'll generate numpy array, either way works\n",
        "y_one_hot_eager = tf.one_hot(y_data, num_classes)\n"
      ],
      "id": "GlKRu6C70l9Y",
      "execution_count": 12,
      "outputs": []
    },
    {
      "cell_type": "code",
      "metadata": {
        "id": "ShpC8Vku0yl3"
      },
      "source": [
        "print(x_one_hot_eager)\n",
        "print(x_one_hot_numpy)\n",
        "print(y_one_hot_eager)"
      ],
      "id": "ShpC8Vku0yl3",
      "execution_count": null,
      "outputs": []
    },
    {
      "cell_type": "code",
      "metadata": {
        "id": "JQbXs9782F2s",
        "outputId": "3c1072f2-9ebe-4c6c-e948-1bb9478ebfed",
        "colab": {
          "base_uri": "https://localhost:8080/"
        }
      },
      "source": [
        "x_one_hot_eager.shape"
      ],
      "id": "JQbXs9782F2s",
      "execution_count": 14,
      "outputs": [
        {
          "output_type": "execute_result",
          "data": {
            "text/plain": [
              "TensorShape([1, 15, 10])"
            ]
          },
          "metadata": {
            "tags": []
          },
          "execution_count": 14
        }
      ]
    },
    {
      "cell_type": "code",
      "metadata": {
        "id": "spZpGufB1Kor",
        "outputId": "e542f281-ad73-4589-f8dd-c8dead21ba3c",
        "colab": {
          "base_uri": "https://localhost:8080/"
        }
      },
      "source": [
        "model = keras.Sequential();\n",
        "model.add(keras.layers.LSTM(units=num_classes, input_shape=(sequence_length, x_one_hot_eager.shape[2]), return_sequences=True))\n",
        "model.add(keras.layers.TimeDistributed(keras.layers.Dense(units=num_classes, activation='softmax')))\n",
        "model.summary()\n",
        "model.compile(loss='categorical_crossentropy', optimizer=keras.optimizers.Adam(lr=learning_rate), metrics=['accuracy'])"
      ],
      "id": "spZpGufB1Kor",
      "execution_count": 15,
      "outputs": [
        {
          "output_type": "stream",
          "text": [
            "Model: \"sequential_1\"\n",
            "_________________________________________________________________\n",
            "Layer (type)                 Output Shape              Param #   \n",
            "=================================================================\n",
            "lstm_1 (LSTM)                (None, 15, 10)            840       \n",
            "_________________________________________________________________\n",
            "time_distributed_1 (TimeDist (None, 15, 10)            110       \n",
            "=================================================================\n",
            "Total params: 950\n",
            "Trainable params: 950\n",
            "Non-trainable params: 0\n",
            "_________________________________________________________________\n"
          ],
          "name": "stdout"
        }
      ]
    },
    {
      "cell_type": "code",
      "metadata": {
        "id": "Su7wz5ya2tFU"
      },
      "source": [
        "model.fit(x_one_hot_eager, y_one_hot_eager, epochs=50)"
      ],
      "id": "Su7wz5ya2tFU",
      "execution_count": null,
      "outputs": []
    },
    {
      "cell_type": "code",
      "metadata": {
        "id": "VOOFV9Gr225c",
        "outputId": "77256b6b-c2ad-4b40-e4b9-31e486ab56b3",
        "colab": {
          "base_uri": "https://localhost:8080/"
        }
      },
      "source": [
        "predictions = model.predict(x_one_hot_eager)\n",
        "\n",
        "for i, prediction in enumerate(predictions):\n",
        "    # print char using argmax, dict\n",
        "    result_str = [idx2char[c] for c in np.argmax(prediction, axis=1)]\n",
        "    print(\"\\tPrediction str: \", ''.join(result_str))\n",
        "\n",
        "print(\"\\nPrediction \\n {}\\n\".format(predictions))"
      ],
      "id": "VOOFV9Gr225c",
      "execution_count": 21,
      "outputs": [
        {
          "output_type": "stream",
          "text": [
            "\tPrediction str:  if you want you\n",
            "\n",
            "Prediction \n",
            " [[[3.15923855e-04 2.50436788e-05 4.27556643e-06 6.06190270e-07\n",
            "   5.12753904e-04 9.99136865e-01 1.95324601e-09 1.52491157e-06\n",
            "   1.10083261e-06 1.97352142e-06]\n",
            "  [3.16030452e-07 1.39671145e-04 3.24655190e-07 1.44474179e-05\n",
            "   9.98031557e-01 1.75265328e-03 1.46177683e-06 5.91415046e-05\n",
            "   1.07511280e-08 3.69758681e-07]\n",
            "  [9.62765444e-06 9.99634743e-01 7.06232386e-05 5.75473859e-06\n",
            "   1.09583991e-04 1.00488411e-04 5.53294001e-07 1.66841232e-07\n",
            "   1.36064884e-07 6.82340687e-05]\n",
            "  [9.99241471e-01 7.94071298e-07 7.73823922e-06 4.64871027e-06\n",
            "   3.08575778e-07 4.28874802e-04 2.94468521e-08 8.79755171e-05\n",
            "   1.61633754e-04 6.64484542e-05]\n",
            "  [2.83001327e-06 2.22433955e-05 8.73598651e-08 6.82638665e-06\n",
            "   2.18084373e-04 1.47754484e-08 1.26635088e-04 9.99604523e-01\n",
            "   1.87858623e-05 4.40580337e-08]\n",
            "  [1.22592200e-10 7.08676889e-05 1.97803615e-07 5.73986443e-04\n",
            "   8.27459189e-06 5.60813236e-11 9.99293685e-01 5.13864652e-05\n",
            "   6.79985632e-08 1.51856182e-06]\n",
            "  [2.39322717e-09 9.99936104e-01 7.96721724e-06 3.18811954e-06\n",
            "   8.41917608e-06 3.49482860e-08 7.19426771e-06 1.25799078e-08\n",
            "   2.13503846e-08 3.70947564e-05]\n",
            "  [5.15804641e-05 2.48362863e-04 1.73500805e-08 1.76585183e-06\n",
            "   4.50102220e-07 8.69304677e-06 1.49133928e-06 8.36268299e-08\n",
            "   3.81025384e-05 9.99649405e-01]\n",
            "  [1.87091980e-04 1.58678745e-06 2.12122715e-04 2.78076527e-07\n",
            "   5.38841527e-10 1.62076745e-07 3.52442567e-06 6.90046727e-05\n",
            "   9.99504924e-01 2.13662988e-05]\n",
            "  [4.94443775e-05 1.28200030e-04 9.99667287e-01 3.37452548e-05\n",
            "   1.23812613e-08 1.08378554e-05 2.85627408e-07 9.89811113e-08\n",
            "   1.10118184e-04 4.34156071e-08]\n",
            "  [4.17284809e-06 4.25117090e-04 8.25029056e-05 9.99121606e-01\n",
            "   6.47530178e-05 3.25087882e-07 2.61560606e-04 3.37149650e-05\n",
            "   5.10951139e-08 6.31287139e-06]\n",
            "  [2.42338683e-05 9.99621034e-01 1.32355402e-04 2.49123550e-05\n",
            "   2.51406891e-05 1.19100499e-04 2.79395721e-07 3.10864095e-07\n",
            "   3.48944411e-07 5.23065319e-05]\n",
            "  [9.99531627e-01 6.37279129e-07 2.35872903e-05 1.30882136e-05\n",
            "   1.44960381e-07 3.22726904e-04 2.40905109e-08 4.40874974e-05\n",
            "   4.44551952e-05 1.96275287e-05]\n",
            "  [2.63414177e-06 2.66074912e-05 1.51193845e-07 8.97658174e-06\n",
            "   1.60306008e-04 1.23445840e-08 1.77600377e-04 9.99595940e-01\n",
            "   2.77897161e-05 4.46625208e-08]\n",
            "  [1.09867775e-10 7.75186854e-05 2.19752124e-07 5.84360794e-04\n",
            "   8.01902297e-06 5.50663508e-11 9.99283135e-01 4.52733766e-05\n",
            "   6.47701199e-08 1.48060553e-06]]]\n",
            "\n"
          ],
          "name": "stdout"
        }
      ]
    },
    {
      "cell_type": "code",
      "metadata": {
        "id": "MeVbZi_6279f"
      },
      "source": [
        ""
      ],
      "id": "MeVbZi_6279f",
      "execution_count": null,
      "outputs": []
    }
  ]
}
